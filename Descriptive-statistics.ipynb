{
 "cells": [
  {
   "cell_type": "markdown",
   "metadata": {
    "deletable": false,
    "editable": false
   },
   "source": [
    "Copyright 2025 Dale Bowman, Andrew M. Olney and made available under [CC BY-SA](https://creativecommons.org/licenses/by-sa/4.0) for text and [Apache-2.0](http://www.apache.org/licenses/LICENSE-2.0) for code."
   ]
  },
  {
   "cell_type": "markdown",
   "metadata": {},
   "source": [
    "# Descriptive statistics\n",
    "\n",
    "One of the most important components of a data science project is to examine your data using descriptive statistics. \n",
    "We call this phase of the project *Exploratory Data Analysis (EDA)*. \n",
    "\n",
    "There are two types of EDA, *graphical* EDA and *numerical* EDA. \n",
    "The graphical EDA involves plotting the features (variables) in the data to look for symmetry, skewness and multiple modality. \n",
    "**We will discuss numerical EDA in this session.**\n",
    "\n",
    "## What you will learn\n",
    "\n",
    "In the sections that follow you will learn about descriptive statistics, in particular numerical EDA, and how they can help us learn about our data and what types of analyses may be appropriate.  We will study the following:\n",
    "\n",
    "- level of measure\n",
    "- measures of central tendency\n",
    "- measures of dispersion\n",
    "- sampling\n",
    "\n",
    "## When to use numerical EDA\n",
    "\n",
    "Descriptive statistics, both numerical and graphical, are useful when you begin a data science project and you want to explore the data.  Often insights will be gained that can be useful in further analyses.\n",
    "\n",
    "## Level of Measure\n",
    "\n",
    "The type of features (variables) you have in the data determines which graphical and numerical techniques are appropriate. \n",
    "One characteristic of the features is their level of measure. \n",
    "There are four levels: nominal, ordinal, interval, and ratio. \n",
    "The characteristics of these levels are detailed in the table below.\n",
    "\n",
    "| Level    | Description                              | Example                      |\n",
    "|:---------|:-----------------------------------------|:-----------------------------|\n",
    "| nominal  | categorical data that can be *named*     | eye color                    |\n",
    "| ordinal  | categorical data with a natural ordering |  grades: A, B, C, D, F       |\n",
    "| interval | numerical data without a true zero       | Fahrenheit temperature scale |\n",
    "| ratio    | numerical data with a true zero          | Kelvin temperature scale     |\n",
    "\n",
    "\n",
    "## Descriptive Statistics, Numerical EDA\n",
    "\n",
    "Descriptive measures fall into one of two categories:\n",
    "\n",
    "- Measuring central tendencies of a variable\n",
    "- Measuring the spread of a variable\n",
    "\n",
    "To explore these, we'll use the `iris` dataset:\n",
    "\n",
    "| Variable    | Type    | Description           |\n",
    "|:-------------|:---------|:-----------------------|\n",
    "| SepalLength | Ratio   | the sepal length (cm) |\n",
    "| SepalWidth  | Ratio   | the sepal width (cm)  |\n",
    "| PetalLength | Ratio   | the petal length (cm) |\n",
    "| PetalWidth  | Ratio   | the petal width (cm)  |\n",
    "| Species     | Nominal | the flower species    |\n",
    "\n",
    "<div style=\"text-align:center;font-size: smaller\">\n",
    " <b>Source:</b> This dataset was taken from the <a href=\"https://archive.ics.uci.edu/ml/datasets/iris\">UCI Machine Learning Repository library\n",
    "    </a></div>\n",
    "<br>\n",
    "\n",
    "\n",
    "We can calculate central tendency and spread using `pandas dataframes`.\n",
    "Let's start by importing `pandas`:\n",
    "\n",
    "- `import pandas as pd`"
   ]
  },
  {
   "cell_type": "code",
   "execution_count": 10,
   "metadata": {
    "user_blocks": [
     "importAs"
    ],
    "user_blocks_xml": "<xml xmlns=\"https://developers.google.com/blockly/xml\"><variables><variable id=\"zq]t,,UR`GWj6?Hub9%a\">pd</variable></variables><block type=\"importAs\" id=\"o[3wY[w:R*b$p^Ow/ZZw\" x=\"125\" y=\"352\"><field name=\"libraryName\">pandas</field><field name=\"VAR\" id=\"zq]t,,UR`GWj6?Hub9%a\">pd</field></block></xml>",
    "user_code_from_blocks": "import pandas as pd\n"
   },
   "outputs": [],
   "source": [
    "import pandas as pd\n",
    "\n",
    "#<xml xmlns=\"https://developers.google.com/blockly/xml\"><variables><variable id=\"zq]t,,UR`GWj6?Hub9%a\">pd</variable></variables><block type=\"importAs\" id=\"o[3wY[w:R*b$p^Ow/ZZw\" x=\"125\" y=\"352\"><field name=\"libraryName\">pandas</field><field name=\"VAR\" id=\"zq]t,,UR`GWj6?Hub9%a\">pd</field></block></xml>"
   ]
  },
  {
   "cell_type": "markdown",
   "metadata": {},
   "source": [
    "Now let's load a dataset into a dataframe:\n",
    "\n",
    "- Set `dataframe` to with `pd` do `read_csv` using \n",
    "    - `\"datasets/iris.csv\"`\n",
    "- `dataframe` (to display it)"
   ]
  },
  {
   "cell_type": "code",
   "execution_count": 12,
   "metadata": {
    "user_blocks": [
     "variables_set",
     "varDoMethod",
     "text"
    ],
    "user_blocks_xml": "<xml xmlns=\"https://developers.google.com/blockly/xml\"><variables><variable id=\"[V~uW+0L/4GW;45ulv+l\">dataframe</variable><variable id=\"zq]t,,UR`GWj6?Hub9%a\">pd</variable></variables><block type=\"variables_set\" id=\"pspF!@hdz,LBbxbCt.T,\" x=\"97\" y=\"189\"><field name=\"VAR\" id=\"[V~uW+0L/4GW;45ulv+l\">dataframe</field><value name=\"VALUE\"><block type=\"varDoMethod\" id=\"euk#bP:=-t?/^HkbQeAp\"><mutation items=\"1\"></mutation><field name=\"VAR\" id=\"zq]t,,UR`GWj6?Hub9%a\">pd</field><field name=\"MEMBER\">read_csv</field><data>pd:read_csv</data><value name=\"ADD0\"><block type=\"text\" id=\"uXF*vA1y:R}D1bf_0r{N\"><field name=\"TEXT\">datasets/iris.csv</field></block></value></block></value></block></xml>",
    "user_code_from_blocks": "dataframe = pd.read_csv('datasets/iris.csv')\n"
   },
   "outputs": [],
   "source": [
    "dataframe = pd.read_csv('datasets/iris.csv')\n",
    "\n",
    "#<xml xmlns=\"https://developers.google.com/blockly/xml\"><variables><variable id=\"[V~uW+0L/4GW;45ulv+l\">dataframe</variable><variable id=\"zq]t,,UR`GWj6?Hub9%a\">pd</variable></variables><block type=\"variables_set\" id=\"pspF!@hdz,LBbxbCt.T,\" x=\"97\" y=\"189\"><field name=\"VAR\" id=\"[V~uW+0L/4GW;45ulv+l\">dataframe</field><value name=\"VALUE\"><block type=\"varDoMethod\" id=\"euk#bP:=-t?/^HkbQeAp\"><mutation items=\"1\"></mutation><field name=\"VAR\" id=\"zq]t,,UR`GWj6?Hub9%a\">pd</field><field name=\"MEMBER\">read_csv</field><data>pd:read_csv</data><value name=\"ADD0\"><block type=\"text\" id=\"uXF*vA1y:R}D1bf_0r{N\"><field name=\"TEXT\">datasets/iris.csv</field></block></value></block></value></block></xml>"
   ]
  },
  {
   "cell_type": "markdown",
   "metadata": {},
   "source": [
    "Now we're ready to calculate the measures of central tendency in the next section."
   ]
  },
  {
   "cell_type": "markdown",
   "metadata": {},
   "source": [
    "### Measures of Central Tendency\n",
    "\n",
    "The measures of central tendency most commonly used to describe data are **mean, median and mode**. \n",
    "\n",
    "\n",
    "#### Mean\n",
    "The **mean** is the numerical average of the variables. \n",
    "Let Let $X_1, X_2, \\ldots, X_n$ represent the data;\n",
    "then the mean is found as $\\bar{X} = \\frac{1}{n} \\sum_{i=1}^n X_i.$\n",
    "\n",
    "A dataframe will do this calculation for you:\n",
    "\n",
    "- with `dataframe` do `mean` using\n",
    "    -  freestyle `numeric_only=True`"
   ]
  },
  {
   "cell_type": "code",
   "execution_count": 17,
   "metadata": {
    "user_blocks": [
     "varDoMethod",
     "dummyOutputCodeBlock"
    ],
    "user_blocks_xml": "<xml xmlns=\"https://developers.google.com/blockly/xml\"><variables><variable id=\"[V~uW+0L/4GW;45ulv+l\">dataframe</variable></variables><block type=\"varDoMethod\" id=\"]I:]}wMu=(Gnu*RD$$~9\" x=\"8\" y=\"188\"><mutation items=\"1\"></mutation><field name=\"VAR\" id=\"[V~uW+0L/4GW;45ulv+l\">dataframe</field><field name=\"MEMBER\">mean</field><data>dataframe:mean</data><value name=\"ADD0\"><block type=\"dummyOutputCodeBlock\" id=\"6fr(WT?jqdM_FRQ2EDef\"><field name=\"CODE\">numeric_only=True</field></block></value></block></xml>",
    "user_code_from_blocks": "dataframe.mean(numeric_only=True)\n"
   },
   "outputs": [
    {
     "data": {
      "text/plain": [
       "SepalLength    5.843333\n",
       "SepalWidth     3.054000\n",
       "PetalLength    3.758667\n",
       "PetalWidth     1.198667\n",
       "dtype: float64"
      ]
     },
     "execution_count": 17,
     "metadata": {},
     "output_type": "execute_result"
    }
   ],
   "source": [
    "dataframe.mean(numeric_only=True)\n",
    "\n",
    "#<xml xmlns=\"https://developers.google.com/blockly/xml\"><variables><variable id=\"[V~uW+0L/4GW;45ulv+l\">dataframe</variable></variables><block type=\"varDoMethod\" id=\"]I:]}wMu=(Gnu*RD$$~9\" x=\"8\" y=\"188\"><mutation items=\"1\"></mutation><field name=\"VAR\" id=\"[V~uW+0L/4GW;45ulv+l\">dataframe</field><field name=\"MEMBER\">mean</field><data>dataframe:mean</data><value name=\"ADD0\"><block type=\"dummyOutputCodeBlock\" id=\"6fr(WT?jqdM_FRQ2EDef\"><field name=\"CODE\">numeric_only=True</field></block></value></block></xml>"
   ]
  },
  {
   "cell_type": "markdown",
   "metadata": {},
   "source": [
    "This gave us the mean of each column, i.e. the mean of each variable in the dataframe\n",
    "\n",
    "#### Median\n",
    "The **median** is the number in the middle of the data. \n",
    "By definition, one half of the data points are below the median and one half are above. \n",
    "\n",
    "We can get this from a dataframe to:\n",
    "\n",
    "- with `dataframe` do `median` using\n",
    "    -  freestyle `numeric_only=True`"
   ]
  },
  {
   "cell_type": "code",
   "execution_count": 23,
   "metadata": {
    "user_blocks": [
     "varDoMethod",
     "dummyOutputCodeBlock"
    ],
    "user_blocks_xml": "<xml xmlns=\"https://developers.google.com/blockly/xml\"><variables><variable id=\"[V~uW+0L/4GW;45ulv+l\">dataframe</variable></variables><block type=\"varDoMethod\" id=\"]I:]}wMu=(Gnu*RD$$~9\" x=\"8\" y=\"188\"><mutation items=\"1\"></mutation><field name=\"VAR\" id=\"[V~uW+0L/4GW;45ulv+l\">dataframe</field><field name=\"MEMBER\">median</field><data>dataframe:median</data><value name=\"ADD0\"><block type=\"dummyOutputCodeBlock\" id=\"T#YbS@FF(7Q:{su)^6*b\"><field name=\"CODE\">numeric_only=True</field></block></value></block></xml>",
    "user_code_from_blocks": "dataframe.median(numeric_only=True)\n"
   },
   "outputs": [
    {
     "data": {
      "text/plain": [
       "SepalLength    5.80\n",
       "SepalWidth     3.00\n",
       "PetalLength    4.35\n",
       "PetalWidth     1.30\n",
       "dtype: float64"
      ]
     },
     "execution_count": 23,
     "metadata": {},
     "output_type": "execute_result"
    }
   ],
   "source": [
    "dataframe.median(numeric_only=True)\n",
    "\n",
    "#<xml xmlns=\"https://developers.google.com/blockly/xml\"><variables><variable id=\"[V~uW+0L/4GW;45ulv+l\">dataframe</variable></variables><block type=\"varDoMethod\" id=\"]I:]}wMu=(Gnu*RD$$~9\" x=\"8\" y=\"188\"><mutation items=\"1\"></mutation><field name=\"VAR\" id=\"[V~uW+0L/4GW;45ulv+l\">dataframe</field><field name=\"MEMBER\">median</field><data>dataframe:median</data><value name=\"ADD0\"><block type=\"dummyOutputCodeBlock\" id=\"T#YbS@FF(7Q:{su)^6*b\"><field name=\"CODE\">numeric_only=True</field></block></value></block></xml>"
   ]
  },
  {
   "cell_type": "markdown",
   "metadata": {},
   "source": [
    "Just like before we have a median for each variable.\n",
    "Notice that the mean and the median are almost the same for the first two variables but very different for the third variable.\n",
    "What do you think that means?\n",
    "\n",
    "#### Mode\n",
    "\n",
    "The **mode** is the value in the data that shows up the most:\n",
    "\n",
    "- with `dataframe` do `mode` using\n",
    "    -  freestyle `numeric_only=True`"
   ]
  },
  {
   "cell_type": "code",
   "execution_count": 26,
   "metadata": {
    "user_blocks": [
     "varDoMethod"
    ],
    "user_blocks_xml": "<xml xmlns=\"https://developers.google.com/blockly/xml\"><variables><variable id=\"[V~uW+0L/4GW;45ulv+l\">dataframe</variable></variables><block type=\"varDoMethod\" id=\"]I:]}wMu=(Gnu*RD$$~9\" x=\"8\" y=\"188\"><mutation items=\"1\"></mutation><field name=\"VAR\" id=\"[V~uW+0L/4GW;45ulv+l\">dataframe</field><field name=\"MEMBER\">mode</field><data>dataframe:mode</data></block></xml>",
    "user_code_from_blocks": "dataframe.mode()\n"
   },
   "outputs": [
    {
     "data": {
      "text/html": [
       "<div>\n",
       "<style scoped>\n",
       "    .dataframe tbody tr th:only-of-type {\n",
       "        vertical-align: middle;\n",
       "    }\n",
       "\n",
       "    .dataframe tbody tr th {\n",
       "        vertical-align: top;\n",
       "    }\n",
       "\n",
       "    .dataframe thead th {\n",
       "        text-align: right;\n",
       "    }\n",
       "</style>\n",
       "<table border=\"1\" class=\"dataframe\">\n",
       "  <thead>\n",
       "    <tr style=\"text-align: right;\">\n",
       "      <th></th>\n",
       "      <th>SepalLength</th>\n",
       "      <th>SepalWidth</th>\n",
       "      <th>PetalLength</th>\n",
       "      <th>PetalWidth</th>\n",
       "      <th>Species</th>\n",
       "    </tr>\n",
       "  </thead>\n",
       "  <tbody>\n",
       "    <tr>\n",
       "      <th>0</th>\n",
       "      <td>5.0</td>\n",
       "      <td>3.0</td>\n",
       "      <td>1.5</td>\n",
       "      <td>0.2</td>\n",
       "      <td>setosa</td>\n",
       "    </tr>\n",
       "    <tr>\n",
       "      <th>1</th>\n",
       "      <td>NaN</td>\n",
       "      <td>NaN</td>\n",
       "      <td>NaN</td>\n",
       "      <td>NaN</td>\n",
       "      <td>versicolor</td>\n",
       "    </tr>\n",
       "    <tr>\n",
       "      <th>2</th>\n",
       "      <td>NaN</td>\n",
       "      <td>NaN</td>\n",
       "      <td>NaN</td>\n",
       "      <td>NaN</td>\n",
       "      <td>virginica</td>\n",
       "    </tr>\n",
       "  </tbody>\n",
       "</table>\n",
       "</div>"
      ],
      "text/plain": [
       "   SepalLength  SepalWidth  PetalLength  PetalWidth     Species\n",
       "0          5.0         3.0          1.5         0.2      setosa\n",
       "1          NaN         NaN          NaN         NaN  versicolor\n",
       "2          NaN         NaN          NaN         NaN   virginica"
      ]
     },
     "execution_count": 26,
     "metadata": {},
     "output_type": "execute_result"
    }
   ],
   "source": [
    "dataframe.mode()\n",
    "\n",
    "#<xml xmlns=\"https://developers.google.com/blockly/xml\"><variables><variable id=\"[V~uW+0L/4GW;45ulv+l\">dataframe</variable></variables><block type=\"varDoMethod\" id=\"]I:]}wMu=(Gnu*RD$$~9\" x=\"8\" y=\"188\"><mutation items=\"1\"></mutation><field name=\"VAR\" id=\"[V~uW+0L/4GW;45ulv+l\">dataframe</field><field name=\"MEMBER\">mode</field><data>dataframe:mode</data></block></xml>"
   ]
  },
  {
   "cell_type": "markdown",
   "metadata": {},
   "source": [
    "The output here is a little more difficult to understand.\n",
    "The first row gives us the mode for `SepalLength`, `SepalWidth`, `PetalLength`, and `PetalWidth`.\n",
    "However `Species` has three modes: each of the species occurs **exactly** the same number of times in the data.\n",
    "Because of that, `pandas` displays three rows here, with `NaN` (Not a Number) everywhere else on the second two rows.\n",
    "<!-- To get a more clear display, do the following:\n",
    "\n",
    "- Create a variable `species`\n",
    "- In menu LISTS, get a `dictVariable` block\n",
    "- Put `\"Species\"` inside it and change `dictVariable` to `dataframe`\n",
    "\n",
    "TODO: intellisense not working on series variables -->"
   ]
  },
  {
   "cell_type": "markdown",
   "metadata": {},
   "source": [
    "<!-- species = dataframe['Species']\n",
    "-->"
   ]
  },
  {
   "cell_type": "markdown",
   "metadata": {},
   "source": [
    "<!-- Now do this:\n",
    "\n",
    "- `with species do mode using` -->"
   ]
  },
  {
   "cell_type": "markdown",
   "metadata": {},
   "source": [
    "#### Summary\n",
    "\n",
    "The type of variable determines the measures of central tendency available.\n",
    "\n",
    "For categorical data, the mode is the only measure of central tendency that can be computed unless the data are ordinal, in which case you can use either the mode or the median.\n",
    "\n",
    "In the table below, X indicates where a variable type and a measure of central tendency can be used together.\n",
    "\n",
    "|          | mode | median | mean |\n",
    "|----------|------|--------|------|\n",
    "| nominal  | X    |        |      |\n",
    "| ordinal  | X    | X      |      |\n",
    "| interval | X    | X      | X    |\n",
    "| ratio    | X    | X      | X    |"
   ]
  },
  {
   "cell_type": "markdown",
   "metadata": {},
   "source": [
    "### Example Categorical Data \n",
    "\n",
    "The grades in a large statistics course occurred with the following frequency.\n",
    "\n",
    "<!-- | Grade     | A | B  | C  | D  | F  |\n",
    "|:-----------|---|----|----|----|----|\n",
    "| Frequency | 5 | 15 | 25 | 10 | 45 | -->\n",
    "\n",
    "<!-- AO: seems more natural: -->\n",
    "\n",
    "| Grade     | F | D  | C  | B  | A  |\n",
    "|:-----------|---|----|----|----|----|\n",
    "| Frequency | 45 | 10 | 25 | 15 | 5 |\n",
    "\n",
    "The mode of this data is the grade with the highest frequency, in this case F. \n",
    "Since this data is ordinal, we can also compute the median. \n",
    "There are a total of 100 grades, so the median will be the grade with 50 grades above and 50 below. \n",
    "This puts the median grade at **D**.\n",
    "\n",
    "For numerical data, the mode, median and mean can all be used to measure central tendency. \n",
    "Sometimes one measure will be more useful than another. \n",
    "For example, when outliers exist in the data, the mean can be skewed towards the outliers. \n",
    "Think of measuring incomes where one of the incomes is that of a professional basketball player. \n",
    "The extremely higher income of the player is much different than most of the other incomes. \n",
    "It is called an *outlier* and will affect the mean more than the median. \n",
    "As a simple example consider the following incomes.\n",
    "\n",
    "$30,000 ~~ 40,000 ~~ 50,000~~60,000~~4,000,000$\n",
    "\n",
    "The mean of these incomes is \n",
    "\n",
    "$\\frac{30000+40000+50000+60000+4000000}{5} = \\$836,000.$\n",
    "\n",
    "Notice that \\\\$4 million is more than 10 times greater than the next highest value, \\\\$60 thousand.\n",
    "As a result, the mean is pulled between \\\\$60 thousand and \\\\$4 million\n",
    "\n",
    "In contrast, the median of the incomes is the number with 2 incomes below and 2\n",
    "incomes above, $50,000, which is a much more reasonable estimate of the\n",
    "central tendency of the majority of these incomes.\n",
    "\n",
    "Let's take a closer look at this with dataframes:\n",
    "\n",
    "- Set `salary` to with `pd` create `Dataframe` using` \n",
    "    - a list containing\n",
    "        - 30000\n",
    "        - 40000\n",
    "        - 50000\n",
    "        - 60000\n",
    "        - 4000000\n",
    "- `salary` (to display it)\n",
    "    \n",
    "**Note it is `create` and not `do`** because we are creating a dataframe using the values in the list.\n",
    "\n",
    "This is what the lists look like:"
   ]
  },
  {
   "attachments": {
    "image.png": {
     "image/png": "[encoded data removed]"
    }
   },
   "cell_type": "markdown",
   "metadata": {},
   "source": [
    "![image.png](https://pbs.twimg.com/media/GpP3zHeXoAAAknk?format=png&name=small)"
   ]
  },
  {
   "cell_type": "code",
   "execution_count": 28,
   "metadata": {
    "user_blocks": [
     "variables_set",
     "varCreateObject",
     "lists_create_with",
     "math_number",
     "math_number",
     "math_number",
     "math_number",
     "math_number"
    ],
    "user_blocks_xml": "<xml xmlns=\"https://developers.google.com/blockly/xml\"><variables><variable id=\":CSTVHy4liG@-G^A}4h7\">salary</variable><variable id=\"zq]t,,UR`GWj6?Hub9%a\">pd</variable></variables><block type=\"variables_set\" id=\"RsV~*dS!P8Pv3SGa%E]2\" x=\"115\" y=\"221\"><field name=\"VAR\" id=\":CSTVHy4liG@-G^A}4h7\">salary</field><value name=\"VALUE\"><block type=\"varCreateObject\" id=\"u{cYr:fAgi#7d*n;fdPw\"><mutation items=\"1\"></mutation><field name=\"VAR\" id=\"zq]t,,UR`GWj6?Hub9%a\">pd</field><field name=\"MEMBER\">DataFrame</field><data>pd:DataFrame</data><value name=\"ADD0\"><block type=\"lists_create_with\" id=\"vOJNH[,fhpmUQ~MDz|F(\"><mutation items=\"5\"></mutation><value name=\"ADD0\"><block type=\"math_number\" id=\"/Q}*{r}_k(J.joOT=Zj#\"><field name=\"NUM\">30000</field></block></value><value name=\"ADD1\"><block type=\"math_number\" id=\"ir*bx9kvQ#;bc~+S.wGD\"><field name=\"NUM\">40000</field></block></value><value name=\"ADD2\"><block type=\"math_number\" id=\"`pL#YfpMk1E$_sx-!|sA\"><field name=\"NUM\">50000</field></block></value><value name=\"ADD3\"><block type=\"math_number\" id=\"F2G:~gdVD/C@Tt78iOLG\"><field name=\"NUM\">60000</field></block></value><value name=\"ADD4\"><block type=\"math_number\" id=\"{W-5iQqRNiA9jF6EIedc\"><field name=\"NUM\">4000000</field></block></value></block></value></block></value></block></xml>",
    "user_code_from_blocks": "salary = pd.DataFrame([30000, 40000, 50000, 60000, 4000000])\n"
   },
   "outputs": [],
   "source": [
    "salary = pd.DataFrame([30000, 40000, 50000, 60000, 4000000])\n",
    "\n",
    "#<xml xmlns=\"https://developers.google.com/blockly/xml\"><variables><variable id=\":CSTVHy4liG@-G^A}4h7\">salary</variable><variable id=\"zq]t,,UR`GWj6?Hub9%a\">pd</variable></variables><block type=\"variables_set\" id=\"RsV~*dS!P8Pv3SGa%E]2\" x=\"115\" y=\"221\"><field name=\"VAR\" id=\":CSTVHy4liG@-G^A}4h7\">salary</field><value name=\"VALUE\"><block type=\"varCreateObject\" id=\"u{cYr:fAgi#7d*n;fdPw\"><mutation items=\"1\"></mutation><field name=\"VAR\" id=\"zq]t,,UR`GWj6?Hub9%a\">pd</field><field name=\"MEMBER\">DataFrame</field><data>pd:DataFrame</data><value name=\"ADD0\"><block type=\"lists_create_with\" id=\"vOJNH[,fhpmUQ~MDz|F(\"><mutation items=\"5\"></mutation><value name=\"ADD0\"><block type=\"math_number\" id=\"/Q}*{r}_k(J.joOT=Zj#\"><field name=\"NUM\">30000</field></block></value><value name=\"ADD1\"><block type=\"math_number\" id=\"ir*bx9kvQ#;bc~+S.wGD\"><field name=\"NUM\">40000</field></block></value><value name=\"ADD2\"><block type=\"math_number\" id=\"`pL#YfpMk1E$_sx-!|sA\"><field name=\"NUM\">50000</field></block></value><value name=\"ADD3\"><block type=\"math_number\" id=\"F2G:~gdVD/C@Tt78iOLG\"><field name=\"NUM\">60000</field></block></value><value name=\"ADD4\"><block type=\"math_number\" id=\"{W-5iQqRNiA9jF6EIedc\"><field name=\"NUM\">4000000</field></block></value></block></value></block></value></block></xml>"
   ]
  },
  {
   "cell_type": "markdown",
   "metadata": {},
   "source": [
    "Now try the following:\n",
    "\n",
    "- `print` with `salary` do `median`  ( `print` in TEXT)\n",
    "- `print` with `salary` do `mean`"
   ]
  },
  {
   "cell_type": "code",
   "execution_count": 30,
   "metadata": {
    "user_blocks": [
     "text_print",
     "varDoMethod",
     "text_print",
     "varDoMethod"
    ],
    "user_blocks_xml": "<xml xmlns=\"https://developers.google.com/blockly/xml\"><variables><variable id=\":CSTVHy4liG@-G^A}4h7\">salary</variable></variables><block type=\"text_print\" id=\"`jn6J~kaejV!Cx!s{zP-\" x=\"111\" y=\"117\"><value name=\"TEXT\"><shadow type=\"text\" id=\"X+4}*qR3]Q;+8cTr}T0?\"><field name=\"TEXT\">abc</field></shadow><block type=\"varDoMethod\" id=\"Pl:^oR,*DCGup|yt@jhP\"><mutation items=\"1\"></mutation><field name=\"VAR\" id=\":CSTVHy4liG@-G^A}4h7\">salary</field><field name=\"MEMBER\">median</field><data>salary:median</data></block></value><next><block type=\"text_print\" id=\",V)HMF*rq4(p2J4=%*g^\"><value name=\"TEXT\"><shadow type=\"text\" id=\"tLFz1IMPkggv@6$7*S[n\"><field name=\"TEXT\">abc</field></shadow><block type=\"varDoMethod\" id=\"{^HKlDM0I%-#.W.[A$z.\"><mutation items=\"1\"></mutation><field name=\"VAR\" id=\":CSTVHy4liG@-G^A}4h7\">salary</field><field name=\"MEMBER\">mean</field><data>salary:mean</data></block></value></block></next></block></xml>",
    "user_code_from_blocks": "print(salary.median())\nprint(salary.mean())\n"
   },
   "outputs": [
    {
     "name": "stdout",
     "output_type": "stream",
     "text": [
      "0    50000.0\n",
      "dtype: float64\n",
      "0    836000.0\n",
      "dtype: float64\n"
     ]
    }
   ],
   "source": [
    "print(salary.median())\n",
    "print(salary.mean())\n",
    "\n",
    "#<xml xmlns=\"https://developers.google.com/blockly/xml\"><variables><variable id=\":CSTVHy4liG@-G^A}4h7\">salary</variable></variables><block type=\"text_print\" id=\"`jn6J~kaejV!Cx!s{zP-\" x=\"111\" y=\"117\"><value name=\"TEXT\"><shadow type=\"text\" id=\"X+4}*qR3]Q;+8cTr}T0?\"><field name=\"TEXT\">abc</field></shadow><block type=\"varDoMethod\" id=\"Pl:^oR,*DCGup|yt@jhP\"><mutation items=\"1\"></mutation><field name=\"VAR\" id=\":CSTVHy4liG@-G^A}4h7\">salary</field><field name=\"MEMBER\">median</field><data>salary:median</data></block></value><next><block type=\"text_print\" id=\",V)HMF*rq4(p2J4=%*g^\"><value name=\"TEXT\"><shadow type=\"text\" id=\"tLFz1IMPkggv@6$7*S[n\"><field name=\"TEXT\">abc</field></shadow><block type=\"varDoMethod\" id=\"{^HKlDM0I%-#.W.[A$z.\"><mutation items=\"1\"></mutation><field name=\"VAR\" id=\":CSTVHy4liG@-G^A}4h7\">salary</field><field name=\"MEMBER\">mean</field><data>salary:mean</data></block></value></block></next></block></xml>"
   ]
  },
  {
   "cell_type": "markdown",
   "metadata": {},
   "source": [
    "As you can see, this matches the example above.\n",
    "The mean is much much bigger than the median.\n",
    "\n",
    "Now go back up to your list and take out the $4 million block (remember to take the blank spot out of your list as well) and run the mean/median again.\n",
    "\n",
    "When you do this, you should find that the mean and the median are **exactly** the same.\n",
    "What does this mean?\n",
    "When they are the same, the data is **symmetric** (like the plot below)."
   ]
  },
  {
   "attachments": {
    "spread2.png": {
     "image/png": "[encoded data removed]"
    }
   },
   "cell_type": "markdown",
   "metadata": {},
   "source": [
    "### Measures of Dispersion (spread)\n",
    "\n",
    "Even when two different variables have similar means (or medians, or modes) they can still be quite different depending on how the data are spread out around the center. \n",
    "In Figure 1 below both distributions have the same mean (0) but different spreads. \n",
    "The red curve has most of its points close to the center while the blue curve has points spread further from the mean.\n",
    "\n",
    "\n",
    "![spread2.png](attachment:spread2.png)\n",
    "\n",
    "**Figure 1:** Two distributions with the same center but different\n",
    "spread\n",
    "\n",
    "One measure of dispersion that can be used with ordered categorical data (ordinal level) or numerical data (interval/ratio level) is the **five number summary**.\n",
    "The five number summary is useful for comparing the center and spread of multiple variables. \n",
    "You use the numbers in the five number summary to construct a box and whiskers plot. \n",
    "The five numbers are: \n",
    "\n",
    "- minimum\n",
    "- first quartile\n",
    "- median\n",
    "- third quartile\n",
    "- maximum\n",
    "\n",
    "The first quartile is the median of the values below the median and the third quartile is the median of the\n",
    "values above the median.\n",
    "\n",
    "To use a football analogy, quartiles are like the 4 quarters in a game, and the median is like halftime.\n",
    "\n",
    "We can get the five number summary easily from `pandas`:\n",
    "\n",
    "- with `dataframe` do `describe`"
   ]
  },
  {
   "cell_type": "code",
   "execution_count": 32,
   "metadata": {
    "user_blocks": [
     "varDoMethod"
    ],
    "user_blocks_xml": "<xml xmlns=\"https://developers.google.com/blockly/xml\"><variables><variable id=\"[V~uW+0L/4GW;45ulv+l\">dataframe</variable></variables><block type=\"varDoMethod\" id=\"O3QcP4Y+iT~?:8x5/Mld\" x=\"8\" y=\"188\"><mutation items=\"1\"></mutation><field name=\"VAR\" id=\"[V~uW+0L/4GW;45ulv+l\">dataframe</field><field name=\"MEMBER\">describe</field><data>dataframe:describe</data></block></xml>",
    "user_code_from_blocks": "dataframe.describe()\n"
   },
   "outputs": [
    {
     "data": {
      "text/html": [
       "<div>\n",
       "<style scoped>\n",
       "    .dataframe tbody tr th:only-of-type {\n",
       "        vertical-align: middle;\n",
       "    }\n",
       "\n",
       "    .dataframe tbody tr th {\n",
       "        vertical-align: top;\n",
       "    }\n",
       "\n",
       "    .dataframe thead th {\n",
       "        text-align: right;\n",
       "    }\n",
       "</style>\n",
       "<table border=\"1\" class=\"dataframe\">\n",
       "  <thead>\n",
       "    <tr style=\"text-align: right;\">\n",
       "      <th></th>\n",
       "      <th>SepalLength</th>\n",
       "      <th>SepalWidth</th>\n",
       "      <th>PetalLength</th>\n",
       "      <th>PetalWidth</th>\n",
       "    </tr>\n",
       "  </thead>\n",
       "  <tbody>\n",
       "    <tr>\n",
       "      <th>count</th>\n",
       "      <td>150.000000</td>\n",
       "      <td>150.000000</td>\n",
       "      <td>150.000000</td>\n",
       "      <td>150.000000</td>\n",
       "    </tr>\n",
       "    <tr>\n",
       "      <th>mean</th>\n",
       "      <td>5.843333</td>\n",
       "      <td>3.054000</td>\n",
       "      <td>3.758667</td>\n",
       "      <td>1.198667</td>\n",
       "    </tr>\n",
       "    <tr>\n",
       "      <th>std</th>\n",
       "      <td>0.828066</td>\n",
       "      <td>0.433594</td>\n",
       "      <td>1.764420</td>\n",
       "      <td>0.763161</td>\n",
       "    </tr>\n",
       "    <tr>\n",
       "      <th>min</th>\n",
       "      <td>4.300000</td>\n",
       "      <td>2.000000</td>\n",
       "      <td>1.000000</td>\n",
       "      <td>0.100000</td>\n",
       "    </tr>\n",
       "    <tr>\n",
       "      <th>25%</th>\n",
       "      <td>5.100000</td>\n",
       "      <td>2.800000</td>\n",
       "      <td>1.600000</td>\n",
       "      <td>0.300000</td>\n",
       "    </tr>\n",
       "    <tr>\n",
       "      <th>50%</th>\n",
       "      <td>5.800000</td>\n",
       "      <td>3.000000</td>\n",
       "      <td>4.350000</td>\n",
       "      <td>1.300000</td>\n",
       "    </tr>\n",
       "    <tr>\n",
       "      <th>75%</th>\n",
       "      <td>6.400000</td>\n",
       "      <td>3.300000</td>\n",
       "      <td>5.100000</td>\n",
       "      <td>1.800000</td>\n",
       "    </tr>\n",
       "    <tr>\n",
       "      <th>max</th>\n",
       "      <td>7.900000</td>\n",
       "      <td>4.400000</td>\n",
       "      <td>6.900000</td>\n",
       "      <td>2.500000</td>\n",
       "    </tr>\n",
       "  </tbody>\n",
       "</table>\n",
       "</div>"
      ],
      "text/plain": [
       "       SepalLength  SepalWidth  PetalLength  PetalWidth\n",
       "count   150.000000  150.000000   150.000000  150.000000\n",
       "mean      5.843333    3.054000     3.758667    1.198667\n",
       "std       0.828066    0.433594     1.764420    0.763161\n",
       "min       4.300000    2.000000     1.000000    0.100000\n",
       "25%       5.100000    2.800000     1.600000    0.300000\n",
       "50%       5.800000    3.000000     4.350000    1.300000\n",
       "75%       6.400000    3.300000     5.100000    1.800000\n",
       "max       7.900000    4.400000     6.900000    2.500000"
      ]
     },
     "execution_count": 32,
     "metadata": {},
     "output_type": "execute_result"
    }
   ],
   "source": [
    "dataframe.describe()\n",
    "\n",
    "#<xml xmlns=\"https://developers.google.com/blockly/xml\"><variables><variable id=\"[V~uW+0L/4GW;45ulv+l\">dataframe</variable></variables><block type=\"varDoMethod\" id=\"O3QcP4Y+iT~?:8x5/Mld\" x=\"8\" y=\"188\"><mutation items=\"1\"></mutation><field name=\"VAR\" id=\"[V~uW+0L/4GW;45ulv+l\">dataframe</field><field name=\"MEMBER\">describe</field><data>dataframe:describe</data></block></xml>"
   ]
  },
  {
   "attachments": {
    "summary.png": {
     "image/png": "[encoded data removed]"
    }
   },
   "cell_type": "markdown",
   "metadata": {},
   "source": [
    "Note we've also got a few extras here: count, mean, and std.\n",
    "\n",
    "### Example Five Number Summary \n",
    "\n",
    "For the data shown below the minimum is 3, the median is 9 and the maximum is 22. \n",
    "We find the first quartile as the median of the lower five numbers: here it is 6. \n",
    "The third quartile is 13, the median of the numbers above the median. \n",
    "So the five number summary for this data is $\\{ 3,6,9,13,22\\}$.\n",
    "\n",
    "![summary.png](attachment:summary.png)\n",
    "\n",
    "Other measures of the spread for numerical data include the range, the interquartile range, and the variance. \n",
    "\n",
    "The **range** is simply the maximum value minus the minimum. \n",
    "When outliers are present they may inflate the range. \n",
    "For example in our income example the range would be $4000000-30000=3,970,000$ which is not representative of the spread of the majority of incomes. \n",
    "\n",
    "To reduce the effect of outliers on the measure of dispersion, the interquartile range is often used. \n",
    "The **interquartile range** is defined as the third quartile minus the first quartile.\n",
    "\n",
    "The most commonly used measures of dispersion for numerical data are the **variance** and its square root, the **standard deviation**. \n",
    "The variance measures the sum of squared differences of the data about the mean.\n",
    "Squaring the differences may seem complicated but makes sense when you realize that the sum of differences about the mean is zero.\n",
    "\n",
    "Again, let $X_1, X_2, \\ldots, X_n$ be the variables you want to compute the variance of. \n",
    "The formula for the variance is given by $S^2 = \\frac{\\sum_{i=1}^n (X_i  - \\bar{X})^2}{n-1}.$ \n",
    "The standard deviation is the square root of the variance.\n",
    "\n",
    "When we did `describe` above, it gave us standard deviation already (`std`)."
   ]
  },
  {
   "cell_type": "markdown",
   "metadata": {},
   "source": [
    "## Sampling\n",
    "\n",
    "The descriptive statistics discussed here all assume that the data we have is a **random sample** from some larger population. \n",
    "The population mean, $\\mu$, and the population variance, $\\sigma^2$ are unknown and the sample is typically taken to gain information about them. \n",
    "The population mean and variance are **parameters** while the sample mean ($\\bar{X}$) and sample variance ($S^2$) are called **statistics**. \n",
    "Since the sample mean and sample variance are computed from a random sample from the population, each time we take a different sample, we expect to get different values of the sample mean and sample variance. \n",
    "\n",
    "We would like to know how much difference there would be in say $\\bar{X}$ over different samples. \n",
    "The *standard error* can be used to estimate the variance about a statistic. \n",
    "For the sample mean, it is known that the variation in $\\bar{X}$ will vary in direct proportion to the population variance, $\\sigma^2$ and inversely with the sample size. \n",
    "So we can reduce the variation in $\\bar{X}$ by increasing our sample size, $n$. \n",
    "The standard error of $\\bar{X}$ can be estimated by $\\displaystyle \\sqrt{\\frac{S^2}{n}}.$\n",
    "\n",
    "The best way to begin to understand this is to sample some rows from your dataframe (remember the rows are just data points) and calculate the mean of that same.\n",
    "\n",
    "When we do this in `pandas`, the sample is just another (smaller) dataframe:\n",
    "\n",
    "- Set `sample` to with `dataframe` do `sample`\n",
    "    - using `10`\n",
    "- `sample`"
   ]
  },
  {
   "cell_type": "code",
   "execution_count": 34,
   "metadata": {
    "user_blocks": [
     "variables_set",
     "varDoMethod",
     "math_number",
     "variables_get"
    ],
    "user_blocks_xml": "<xml xmlns=\"https://developers.google.com/blockly/xml\"><variables><variable id=\"X~V70-15t9L^b}[IjBoW\">sample</variable><variable id=\"[V~uW+0L/4GW;45ulv+l\">dataframe</variable></variables><block type=\"variables_set\" id=\"X2Q0lhlIuB;M-}%}kt0@\" x=\"137\" y=\"151\"><field name=\"VAR\" id=\"X~V70-15t9L^b}[IjBoW\">sample</field><value name=\"VALUE\"><block type=\"varDoMethod\" id=\"}THa7gMDOBGv~{O0J-}v\"><mutation items=\"1\"></mutation><field name=\"VAR\" id=\"[V~uW+0L/4GW;45ulv+l\">dataframe</field><field name=\"MEMBER\">sample</field><data>dataframe:sample</data><value name=\"ADD0\"><block type=\"math_number\" id=\"x6aHWTYmPfX=;4W1C.io\"><field name=\"NUM\">10</field></block></value></block></value></block><block type=\"variables_get\" id=\".%[gOquwCx4nt[!vFu@%\" x=\"139\" y=\"250\"><field name=\"VAR\" id=\"X~V70-15t9L^b}[IjBoW\">sample</field></block></xml>",
    "user_code_from_blocks": "sample = dataframe.sample(10)\n\nsample\n"
   },
   "outputs": [
    {
     "data": {
      "text/html": [
       "<div>\n",
       "<style scoped>\n",
       "    .dataframe tbody tr th:only-of-type {\n",
       "        vertical-align: middle;\n",
       "    }\n",
       "\n",
       "    .dataframe tbody tr th {\n",
       "        vertical-align: top;\n",
       "    }\n",
       "\n",
       "    .dataframe thead th {\n",
       "        text-align: right;\n",
       "    }\n",
       "</style>\n",
       "<table border=\"1\" class=\"dataframe\">\n",
       "  <thead>\n",
       "    <tr style=\"text-align: right;\">\n",
       "      <th></th>\n",
       "      <th>SepalLength</th>\n",
       "      <th>SepalWidth</th>\n",
       "      <th>PetalLength</th>\n",
       "      <th>PetalWidth</th>\n",
       "      <th>Species</th>\n",
       "    </tr>\n",
       "  </thead>\n",
       "  <tbody>\n",
       "    <tr>\n",
       "      <th>41</th>\n",
       "      <td>4.5</td>\n",
       "      <td>2.3</td>\n",
       "      <td>1.3</td>\n",
       "      <td>0.3</td>\n",
       "      <td>setosa</td>\n",
       "    </tr>\n",
       "    <tr>\n",
       "      <th>108</th>\n",
       "      <td>6.7</td>\n",
       "      <td>2.5</td>\n",
       "      <td>5.8</td>\n",
       "      <td>1.8</td>\n",
       "      <td>virginica</td>\n",
       "    </tr>\n",
       "    <tr>\n",
       "      <th>92</th>\n",
       "      <td>5.8</td>\n",
       "      <td>2.6</td>\n",
       "      <td>4.0</td>\n",
       "      <td>1.2</td>\n",
       "      <td>versicolor</td>\n",
       "    </tr>\n",
       "    <tr>\n",
       "      <th>62</th>\n",
       "      <td>6.0</td>\n",
       "      <td>2.2</td>\n",
       "      <td>4.0</td>\n",
       "      <td>1.0</td>\n",
       "      <td>versicolor</td>\n",
       "    </tr>\n",
       "    <tr>\n",
       "      <th>101</th>\n",
       "      <td>5.8</td>\n",
       "      <td>2.7</td>\n",
       "      <td>5.1</td>\n",
       "      <td>1.9</td>\n",
       "      <td>virginica</td>\n",
       "    </tr>\n",
       "    <tr>\n",
       "      <th>113</th>\n",
       "      <td>5.7</td>\n",
       "      <td>2.5</td>\n",
       "      <td>5.0</td>\n",
       "      <td>2.0</td>\n",
       "      <td>virginica</td>\n",
       "    </tr>\n",
       "    <tr>\n",
       "      <th>46</th>\n",
       "      <td>5.1</td>\n",
       "      <td>3.8</td>\n",
       "      <td>1.6</td>\n",
       "      <td>0.2</td>\n",
       "      <td>setosa</td>\n",
       "    </tr>\n",
       "    <tr>\n",
       "      <th>43</th>\n",
       "      <td>5.0</td>\n",
       "      <td>3.5</td>\n",
       "      <td>1.6</td>\n",
       "      <td>0.6</td>\n",
       "      <td>setosa</td>\n",
       "    </tr>\n",
       "    <tr>\n",
       "      <th>107</th>\n",
       "      <td>7.3</td>\n",
       "      <td>2.9</td>\n",
       "      <td>6.3</td>\n",
       "      <td>1.8</td>\n",
       "      <td>virginica</td>\n",
       "    </tr>\n",
       "    <tr>\n",
       "      <th>3</th>\n",
       "      <td>4.6</td>\n",
       "      <td>3.1</td>\n",
       "      <td>1.5</td>\n",
       "      <td>0.2</td>\n",
       "      <td>setosa</td>\n",
       "    </tr>\n",
       "  </tbody>\n",
       "</table>\n",
       "</div>"
      ],
      "text/plain": [
       "     SepalLength  SepalWidth  PetalLength  PetalWidth     Species\n",
       "41           4.5         2.3          1.3         0.3      setosa\n",
       "108          6.7         2.5          5.8         1.8   virginica\n",
       "92           5.8         2.6          4.0         1.2  versicolor\n",
       "62           6.0         2.2          4.0         1.0  versicolor\n",
       "101          5.8         2.7          5.1         1.9   virginica\n",
       "113          5.7         2.5          5.0         2.0   virginica\n",
       "46           5.1         3.8          1.6         0.2      setosa\n",
       "43           5.0         3.5          1.6         0.6      setosa\n",
       "107          7.3         2.9          6.3         1.8   virginica\n",
       "3            4.6         3.1          1.5         0.2      setosa"
      ]
     },
     "execution_count": 34,
     "metadata": {},
     "output_type": "execute_result"
    }
   ],
   "source": [
    "sample = dataframe.sample(10)\n",
    "\n",
    "sample\n",
    "\n",
    "#<xml xmlns=\"https://developers.google.com/blockly/xml\"><variables><variable id=\"X~V70-15t9L^b}[IjBoW\">sample</variable><variable id=\"[V~uW+0L/4GW;45ulv+l\">dataframe</variable></variables><block type=\"variables_set\" id=\"X2Q0lhlIuB;M-}%}kt0@\" x=\"137\" y=\"151\"><field name=\"VAR\" id=\"X~V70-15t9L^b}[IjBoW\">sample</field><value name=\"VALUE\"><block type=\"varDoMethod\" id=\"}THa7gMDOBGv~{O0J-}v\"><mutation items=\"1\"></mutation><field name=\"VAR\" id=\"[V~uW+0L/4GW;45ulv+l\">dataframe</field><field name=\"MEMBER\">sample</field><data>dataframe:sample</data><value name=\"ADD0\"><block type=\"math_number\" id=\"x6aHWTYmPfX=;4W1C.io\"><field name=\"NUM\">10</field></block></value></block></value></block><block type=\"variables_get\" id=\".%[gOquwCx4nt[!vFu@%\" x=\"139\" y=\"250\"><field name=\"VAR\" id=\"X~V70-15t9L^b}[IjBoW\">sample</field></block></xml>"
   ]
  },
  {
   "cell_type": "markdown",
   "metadata": {},
   "source": [
    "Rerun the sampling cell above a couple of times to see how it randomly draws 10 rows from the original dataframe.\n",
    "You can get a sense of the randomness by looking at the index column on the left hand side - this originally was orderd from 1 to 150 in the dataframe.\n",
    "\n",
    "Once you're ready do this:\n",
    "\n",
    "- with `sample` do `mean` using\n",
    "    - freestyle `numeric_only=True` "
   ]
  },
  {
   "cell_type": "code",
   "execution_count": 40,
   "metadata": {
    "user_blocks": [
     "variables_set",
     "varDoMethod",
     "math_number",
     "varDoMethod",
     "dummyOutputCodeBlock"
    ],
    "user_blocks_xml": "<xml xmlns=\"https://developers.google.com/blockly/xml\"><variables><variable id=\"X~V70-15t9L^b}[IjBoW\">sample</variable><variable id=\"[V~uW+0L/4GW;45ulv+l\">dataframe</variable></variables><block type=\"variables_set\" id=\"x.L#2+Kmq01S1!FI|%*2\" x=\"5\" y=\"123\"><field name=\"VAR\" id=\"X~V70-15t9L^b}[IjBoW\">sample</field><value name=\"VALUE\"><block type=\"varDoMethod\" id=\"!L!ZRT9j}{ngeakBRIE!\"><mutation items=\"1\"></mutation><field name=\"VAR\" id=\"[V~uW+0L/4GW;45ulv+l\">dataframe</field><field name=\"MEMBER\">sample</field><data>dataframe:sample</data><value name=\"ADD0\"><block type=\"math_number\" id=\"VWJ^n9kSRcY:)U5Kmi;8\"><field name=\"NUM\">10</field></block></value></block></value></block><block type=\"varDoMethod\" id=\"GrD,tn=C@B=JZus4YvC;\" x=\"20\" y=\"202\"><mutation items=\"1\"></mutation><field name=\"VAR\" id=\"X~V70-15t9L^b}[IjBoW\">sample</field><field name=\"MEMBER\">mean</field><data>sample:mean</data><value name=\"ADD0\"><block type=\"dummyOutputCodeBlock\" id=\"G=gxt:RG*{bKe(}.JC?+\"><field name=\"CODE\">numeric_only=True</field></block></value></block></xml>",
    "user_code_from_blocks": "sample = dataframe.sample(10)\n\nsample.mean(numeric_only=True)\n"
   },
   "outputs": [
    {
     "data": {
      "text/plain": [
       "SepalLength    5.82\n",
       "SepalWidth     2.99\n",
       "PetalLength    4.01\n",
       "PetalWidth     1.35\n",
       "dtype: float64"
      ]
     },
     "execution_count": 40,
     "metadata": {},
     "output_type": "execute_result"
    }
   ],
   "source": [
    "sample = dataframe.sample(10)\n",
    "\n",
    "sample.mean(numeric_only=True)\n",
    "\n",
    "#<xml xmlns=\"https://developers.google.com/blockly/xml\"><variables><variable id=\"X~V70-15t9L^b}[IjBoW\">sample</variable><variable id=\"[V~uW+0L/4GW;45ulv+l\">dataframe</variable></variables><block type=\"variables_set\" id=\"x.L#2+Kmq01S1!FI|%*2\" x=\"5\" y=\"123\"><field name=\"VAR\" id=\"X~V70-15t9L^b}[IjBoW\">sample</field><value name=\"VALUE\"><block type=\"varDoMethod\" id=\"!L!ZRT9j}{ngeakBRIE!\"><mutation items=\"1\"></mutation><field name=\"VAR\" id=\"[V~uW+0L/4GW;45ulv+l\">dataframe</field><field name=\"MEMBER\">sample</field><data>dataframe:sample</data><value name=\"ADD0\"><block type=\"math_number\" id=\"VWJ^n9kSRcY:)U5Kmi;8\"><field name=\"NUM\">10</field></block></value></block></value></block><block type=\"varDoMethod\" id=\"GrD,tn=C@B=JZus4YvC;\" x=\"20\" y=\"202\"><mutation items=\"1\"></mutation><field name=\"VAR\" id=\"X~V70-15t9L^b}[IjBoW\">sample</field><field name=\"MEMBER\">mean</field><data>sample:mean</data><value name=\"ADD0\"><block type=\"dummyOutputCodeBlock\" id=\"G=gxt:RG*{bKe(}.JC?+\"><field name=\"CODE\">numeric_only=True</field></block></value></block></xml>"
   ]
  },
  {
   "cell_type": "markdown",
   "metadata": {},
   "source": [
    "Run this code cell a couple of times (trick: do Ctrl + Enter)\n",
    "\n",
    "Notice that the means change each time, just a bit.\n",
    "\n",
    "That difference in means over different samples is what we mean by standard error of the mean."
   ]
  },
  {
   "cell_type": "markdown",
   "metadata": {},
   "source": [
    "## Check your knowledge\n",
    "\n",
    "**Hover to see the correct answer.**"
   ]
  },
  {
   "cell_type": "markdown",
   "metadata": {},
   "source": [
    "1.  What is the primary goal of **Exploratory Data Analysis (EDA)**?\n",
    "- To build predictive models\n",
    "- <div title=\"Correct answer\"> To examine data using descriptive statistics</div>\n",
    "- To clean and pre-process data\n",
    "- To visualize data for presentations\n",
    "\n",
    "2.  Which of the following is **numerical data without a true zero**?\n",
    "- Nominal\n",
    "- Ordinal\n",
    "- <div title=\"Correct answer\"> Interval</div>\n",
    "- Ratio\n",
    "\n",
    "3.  In the `iris` dataset, what is the **level of measure** for the 'Species' variable?\n",
    "- Ratio\n",
    "- Interval\n",
    "- Ordinal\n",
    "- <div title=\"Correct answer\"> Nominal</div>\n",
    "\n",
    "4.  Which of the following is **NOT** a measure of central tendency?\n",
    "- Mean\n",
    "- Median\n",
    "- Mode\n",
    "- <div title=\"Correct answer\"> Variance</div>\n",
    "\n",
    "5.  Consider the following dataset of incomes: \\\\$30,000, \\\\$40,000, \\\\$50,000, \\\\$60,000, \\\\$4,000,000. Which measure of central tendency would be a more reasonable estimate of the central tendency of the majority of these incomes, and why?\n",
    "- The mean, because it includes all values.\n",
    "- <div title=\"Correct answer\"> The median, because it is less affected by outliers.</div>\n",
    "- The mode, because it represents the most frequent income.\n",
    "- Both mean and median would be equally useful.\n",
    "\n",
    "6.  Which of the following is **not** one of the five numbers in a **five-number summary**?\n",
    "- Minimum\n",
    "- <div title=\"Correct answer\"> Mean</div>\n",
    "- Median\n",
    "- Maximum\n",
    "\n",
    "7.  What does a smaller standard error of the sample mean suggest?\n",
    "- The sample mean is less accurate.\n",
    "- The sample size is likely small.\n",
    "- <div title=\"Correct answer\"> The variation in sample means across different samples is smaller.</div>\n",
    "- The population variance is very large."
   ]
  },
  {
   "cell_type": "markdown",
   "metadata": {},
   "source": [
    "<!--  -->"
   ]
  }
 ],
 "metadata": {
  "kernelspec": {
   "display_name": "Python 3 (ipykernel)",
   "language": "python",
   "name": "python3"
  },
  "language_info": {
   "codemirror_mode": {
    "name": "ipython",
    "version": 3
   },
   "file_extension": ".py",
   "mimetype": "text/x-python",
   "name": "python",
   "nbconvert_exporter": "python",
   "pygments_lexer": "ipython3",
   "version": "3.12.6"
  }
 },
 "nbformat": 4,
 "nbformat_minor": 4
}
