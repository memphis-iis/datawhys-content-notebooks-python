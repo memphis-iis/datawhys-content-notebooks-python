{
 "cells": [
  {
   "cell_type": "markdown",
   "metadata": {
    "deletable": false,
    "editable": false
   },
   "source": [
    "Copyright 2022 Andrew M. Olney and made available under [CC BY-SA](https://creativecommons.org/licenses/by-sa/4.0) for text and [Apache-2.0](http://www.apache.org/licenses/LICENSE-2.0) for code."
   ]
  },
  {
   "cell_type": "markdown",
   "metadata": {},
   "source": [
    "# Data Science and the Nature of Data \n",
    "\n",
    "This notebook introduces some foundational concepts on types of data and how data can be \"messed up.\"\n",
    "<!-- in data science.\n",
    "As a result, this notebook will have more reading and less practical exercises than normal.\n",
    "But don't worry, we'll have some practical exercises at the end.\n",
    "\n",
    "We have organized this notebook around **big ideas** in data science.\n",
    "You may wish to refer to this notebook throughout the course when these ideas come up.\n",
    "It's OK if you don't completely understand them today.\n",
    "Some of these ideas are quite subtle and take time to master.\n",
    "\n",
    "Let's get started! -->"
   ]
  },
  {
   "cell_type": "markdown",
   "metadata": {},
   "source": [
    "## Types of variables\n",
    "\n",
    "<!-- We've talked about structured vs. unstructured data already, but we haven't gone into detail about how structured data is created. -->\n",
    "Structured data begins with **measurements** of some type of thing in the real world, which we call a **variable**.\n",
    "Let's use the example of height. \n",
    "I may measure 10 people and find that their heights in centimeters are:\n",
    "\n",
    "| Height |\n",
    "|--------|\n",
    "| 165    |\n",
    "| 188    |\n",
    "| 153    |\n",
    "| 164    |\n",
    "| 150    |\n",
    "| 190    |\n",
    "| 169    |\n",
    "| 163    |\n",
    "| 165    |\n",
    "| 190    |\n",
    "\n",
    "Each of these values (e.g. 165) is a measurement of the variable *height*.\n",
    "We call *height* a variable because its value isn't constant.\n",
    "If everyone in the world were the same height, we wouldn't call height a variable, and we also wouldn't bother measuring it, because we'd know everyone is the same.\n",
    "\n",
    "Variables have different **types** that affect your analysis.\n",
    "If you don't understand these types, you will probably use the wrong analysis!"
   ]
  },
  {
   "cell_type": "markdown",
   "metadata": {},
   "source": [
    "### Nominal\n",
    "\n",
    "A nominal variable consists of unordered categories, like *male* or *female* for biological sex.\n",
    "Notice that these categories are not numbers, and there is no order to the categories.\n",
    "We do not say that male comes before female or is smaller than female."
   ]
  },
  {
   "cell_type": "markdown",
   "metadata": {},
   "source": [
    "### Ordinal\n",
    "\n",
    "Ordinal variables consist of ordered categories.\n",
    "You can think of it as nominal data but with an ordering from first to last or smallest to largest.\n",
    "A common example of ordinal data are Likert questions like:\n",
    "\n",
    "```\n",
    "(1) Strongly disagree\n",
    "(2) Disagree\n",
    "(3) Neither agree nor disagree\n",
    "(4) Agree\n",
    "(5) Strongly agree\n",
    "```\n",
    "\n",
    "Even though these options are numbered 1 to 5, those numbers only indicate which comes before the others, not how \"big\" an option is.\n",
    "For example, we wouldn't say that the difference between *Agree*  and *Disagree* is the same as the difference between *Neither agree nor disagree* and *Strongly agree*."
   ]
  },
  {
   "cell_type": "markdown",
   "metadata": {},
   "source": [
    "### Interval\n",
    "\n",
    "Interval variables are ordered *and* their measurement scales are evenly spaced.\n",
    "A classic example is temperature in Fahrenheit.\n",
    "In degrees Fahrenheit, the difference between 70 and 71 is the same as the difference between 90 and 91 - either case is one degree.\n",
    "The other most important characteristic of interval variables is also the most confusing one, which is that interval variables don't have a meaningful zero value.\n",
    "Degrees Fahrenheit is an example of this because there's nothing special about 0 degrees. \n",
    "0 degrees doesn't mean there's no temperature or no heat energy, it's just an arbitrary point on the scale."
   ]
  },
  {
   "cell_type": "markdown",
   "metadata": {},
   "source": [
    "### Ratio\n",
    "\n",
    "Ratio variables are like interval variables but with meaningful zeros.\n",
    "Age and height are good examples because 0 age means you have no age, and 0 height means you have no height.\n",
    "The name *ratio* reflects that you can form a ratio with these variables, which means that you can say age 20 is twice as old as age 10.\n",
    "Notice you can't say that about degrees Fahrenheit: 100 degrees is not really twice as hot as 50 degrees, because 0 degrees Fahrenheit doesn't mean \"no temperature.\""
   ]
  },
  {
   "cell_type": "markdown",
   "metadata": {},
   "source": [
    "### Why it matters\n",
    "\n",
    "The type of variable matters because it affects what you can do with it:\n",
    "\n",
    "- Nominal: you can count frequency\n",
    "- Ordinal: you can also calculate percentiles and median\n",
    "- Interval: you can also calculate mean and standard deviation, add/subtract values \n",
    "- Ratio: you can multiply/divide values"
   ]
  },
  {
   "cell_type": "markdown",
   "metadata": {},
   "source": [
    "## Variables in Pandas\n",
    "\n",
    "We've talked about variables like a statistician or scientist, but `pandas` doesn't exactly match this.\n",
    "\n",
    "Let's load up some data and take a look. First, import `pandas`:\n",
    "\n",
    "- `import pandas as pd`"
   ]
  },
  {
   "cell_type": "code",
   "execution_count": 4,
   "metadata": {
    "user_blocks": [
     "importAs"
    ],
    "user_blocks_xml": "<xml xmlns=\"https://developers.google.com/blockly/xml\"><variables><variable id=\"i!#]:2XI=^qLb$e.|iwo\">pd</variable></variables><block type=\"importAs\" id=\"*]+[97*lfc0xBExPyl{#\" x=\"160\" y=\"229\"><field name=\"libraryName\">pandas</field><field name=\"VAR\" id=\"i!#]:2XI=^qLb$e.|iwo\">pd</field></block></xml>",
    "user_code_from_blocks": "import pandas as pd\n"
   },
   "outputs": [],
   "source": [
    "import pandas as pd\n",
    "\n",
    "#<xml xmlns=\"https://developers.google.com/blockly/xml\"><variables><variable id=\"i!#]:2XI=^qLb$e.|iwo\">pd</variable></variables><block type=\"importAs\" id=\"*]+[97*lfc0xBExPyl{#\" x=\"160\" y=\"229\"><field name=\"libraryName\">pandas</field><field name=\"VAR\" id=\"i!#]:2XI=^qLb$e.|iwo\">pd</field></block></xml>"
   ]
  },
  {
   "cell_type": "markdown",
   "metadata": {},
   "source": [
    "We will use the `mpg` dataset, which contains measurements of fuel economy and other properties of cars from the 1970s.\n",
    "\n",
    "\n",
    "| Variable     |     | Description                              |\n",
    "|:--------------|:----------|:------------------------------------------|\n",
    "| mpg          |     | Miles per gallon; fuel economy           |\n",
    "| cylinders    |   | Number of cylinders in engine            |\n",
    "| displacement |     | Volume inside cylinders (likely inches)                  |\n",
    "| horsepower   |     | Unit of power                            |\n",
    "| weight       |    | Weight of car (likely pounds)                           |\n",
    "| acceleration |     | Acceleration of car (likely in seconds to 60 MPH) |\n",
    "| model_year   |  | Year of car manufacture; last two digits |\n",
    "| origin       |   | Numeric code corresponding to continent  |\n",
    "| name     |   | Car model name (ID)                      |\n",
    "\n",
    "<div style=\"text-align:center;font-size: smaller\">\n",
    "    <b>Source:</b> This dataset was taken from the StatLib library which is maintained at Carnegie Mellon University.\n",
    "</div>\n",
    "<br>\n",
    "\n",
    "Two of these are nominal, one ordinal, one interval, and the rest are ratio. Can you guess which is which?\n",
    "\n",
    "Now load the data and display it:\n",
    "\n",
    "- Set `dataframe` to with `pd` do `read_csv`\n",
    "    - using `\"datasets/mpg.csv\"`\n",
    "- `dataframe`"
   ]
  },
  {
   "cell_type": "code",
   "execution_count": 7,
   "metadata": {
    "user_blocks": [
     "variables_set",
     "varDoMethod",
     "text",
     "variables_get"
    ],
    "user_blocks_xml": "<xml xmlns=\"https://developers.google.com/blockly/xml\"><variables><variable id=\"t[n^Fcp7,s93E17ZZ9J6\">dataframe</variable><variable id=\"i!#]:2XI=^qLb$e.|iwo\">pd</variable></variables><block type=\"variables_set\" id=\"3v`CGfKaBAQlZxNrLh;g\" x=\"93\" y=\"206\"><field name=\"VAR\" id=\"t[n^Fcp7,s93E17ZZ9J6\">dataframe</field><value name=\"VALUE\"><block type=\"varDoMethod\" id=\"_t%9/`1H3Fc{hR:y|JKO\"><mutation items=\"1\"></mutation><field name=\"VAR\" id=\"i!#]:2XI=^qLb$e.|iwo\">pd</field><field name=\"MEMBER\">read_csv</field><data>pd:read_csv</data><value name=\"ADD0\"><block type=\"text\" id=\"Ac(8:^_P3%XN~/eCvim3\"><field name=\"TEXT\">datasets/mpg.csv</field></block></value></block></value></block><block type=\"variables_get\" id=\"#KxUvi=Dm$}ah[(R}s(A\" x=\"98\" y=\"286\"><field name=\"VAR\" id=\"t[n^Fcp7,s93E17ZZ9J6\">dataframe</field></block></xml>",
    "user_code_from_blocks": "dataframe = pd.read_csv('datasets/mpg.csv')\n\ndataframe\n"
   },
   "outputs": [
    {
     "data": {
      "text/html": [
       "<div>\n",
       "<style scoped>\n",
       "    .dataframe tbody tr th:only-of-type {\n",
       "        vertical-align: middle;\n",
       "    }\n",
       "\n",
       "    .dataframe tbody tr th {\n",
       "        vertical-align: top;\n",
       "    }\n",
       "\n",
       "    .dataframe thead th {\n",
       "        text-align: right;\n",
       "    }\n",
       "</style>\n",
       "<table border=\"1\" class=\"dataframe\">\n",
       "  <thead>\n",
       "    <tr style=\"text-align: right;\">\n",
       "      <th></th>\n",
       "      <th>mpg</th>\n",
       "      <th>cylinders</th>\n",
       "      <th>displacement</th>\n",
       "      <th>horsepower</th>\n",
       "      <th>weight</th>\n",
       "      <th>acceleration</th>\n",
       "      <th>model_year</th>\n",
       "      <th>origin</th>\n",
       "      <th>name</th>\n",
       "    </tr>\n",
       "  </thead>\n",
       "  <tbody>\n",
       "    <tr>\n",
       "      <th>0</th>\n",
       "      <td>18.0</td>\n",
       "      <td>8</td>\n",
       "      <td>307.0</td>\n",
       "      <td>130.0</td>\n",
       "      <td>3504</td>\n",
       "      <td>12.0</td>\n",
       "      <td>70</td>\n",
       "      <td>1</td>\n",
       "      <td>chevrolet chevelle malibu</td>\n",
       "    </tr>\n",
       "    <tr>\n",
       "      <th>1</th>\n",
       "      <td>15.0</td>\n",
       "      <td>8</td>\n",
       "      <td>350.0</td>\n",
       "      <td>165.0</td>\n",
       "      <td>3693</td>\n",
       "      <td>11.5</td>\n",
       "      <td>70</td>\n",
       "      <td>1</td>\n",
       "      <td>buick skylark 320</td>\n",
       "    </tr>\n",
       "    <tr>\n",
       "      <th>2</th>\n",
       "      <td>18.0</td>\n",
       "      <td>8</td>\n",
       "      <td>318.0</td>\n",
       "      <td>150.0</td>\n",
       "      <td>3436</td>\n",
       "      <td>11.0</td>\n",
       "      <td>70</td>\n",
       "      <td>1</td>\n",
       "      <td>plymouth satellite</td>\n",
       "    </tr>\n",
       "    <tr>\n",
       "      <th>3</th>\n",
       "      <td>16.0</td>\n",
       "      <td>8</td>\n",
       "      <td>304.0</td>\n",
       "      <td>150.0</td>\n",
       "      <td>3433</td>\n",
       "      <td>12.0</td>\n",
       "      <td>70</td>\n",
       "      <td>1</td>\n",
       "      <td>amc rebel sst</td>\n",
       "    </tr>\n",
       "    <tr>\n",
       "      <th>4</th>\n",
       "      <td>17.0</td>\n",
       "      <td>8</td>\n",
       "      <td>302.0</td>\n",
       "      <td>140.0</td>\n",
       "      <td>3449</td>\n",
       "      <td>10.5</td>\n",
       "      <td>70</td>\n",
       "      <td>1</td>\n",
       "      <td>ford torino</td>\n",
       "    </tr>\n",
       "    <tr>\n",
       "      <th>...</th>\n",
       "      <td>...</td>\n",
       "      <td>...</td>\n",
       "      <td>...</td>\n",
       "      <td>...</td>\n",
       "      <td>...</td>\n",
       "      <td>...</td>\n",
       "      <td>...</td>\n",
       "      <td>...</td>\n",
       "      <td>...</td>\n",
       "    </tr>\n",
       "    <tr>\n",
       "      <th>393</th>\n",
       "      <td>27.0</td>\n",
       "      <td>4</td>\n",
       "      <td>140.0</td>\n",
       "      <td>86.0</td>\n",
       "      <td>2790</td>\n",
       "      <td>15.6</td>\n",
       "      <td>82</td>\n",
       "      <td>1</td>\n",
       "      <td>ford mustang gl</td>\n",
       "    </tr>\n",
       "    <tr>\n",
       "      <th>394</th>\n",
       "      <td>44.0</td>\n",
       "      <td>4</td>\n",
       "      <td>97.0</td>\n",
       "      <td>52.0</td>\n",
       "      <td>2130</td>\n",
       "      <td>24.6</td>\n",
       "      <td>82</td>\n",
       "      <td>2</td>\n",
       "      <td>vw pickup</td>\n",
       "    </tr>\n",
       "    <tr>\n",
       "      <th>395</th>\n",
       "      <td>32.0</td>\n",
       "      <td>4</td>\n",
       "      <td>135.0</td>\n",
       "      <td>84.0</td>\n",
       "      <td>2295</td>\n",
       "      <td>11.6</td>\n",
       "      <td>82</td>\n",
       "      <td>1</td>\n",
       "      <td>dodge rampage</td>\n",
       "    </tr>\n",
       "    <tr>\n",
       "      <th>396</th>\n",
       "      <td>28.0</td>\n",
       "      <td>4</td>\n",
       "      <td>120.0</td>\n",
       "      <td>79.0</td>\n",
       "      <td>2625</td>\n",
       "      <td>18.6</td>\n",
       "      <td>82</td>\n",
       "      <td>1</td>\n",
       "      <td>ford ranger</td>\n",
       "    </tr>\n",
       "    <tr>\n",
       "      <th>397</th>\n",
       "      <td>31.0</td>\n",
       "      <td>4</td>\n",
       "      <td>119.0</td>\n",
       "      <td>82.0</td>\n",
       "      <td>2720</td>\n",
       "      <td>19.4</td>\n",
       "      <td>82</td>\n",
       "      <td>1</td>\n",
       "      <td>chevy s-10</td>\n",
       "    </tr>\n",
       "  </tbody>\n",
       "</table>\n",
       "<p>398 rows × 9 columns</p>\n",
       "</div>"
      ],
      "text/plain": [
       "      mpg  cylinders  displacement  horsepower  weight  acceleration  \\\n",
       "0    18.0          8         307.0       130.0    3504          12.0   \n",
       "1    15.0          8         350.0       165.0    3693          11.5   \n",
       "2    18.0          8         318.0       150.0    3436          11.0   \n",
       "3    16.0          8         304.0       150.0    3433          12.0   \n",
       "4    17.0          8         302.0       140.0    3449          10.5   \n",
       "..    ...        ...           ...         ...     ...           ...   \n",
       "393  27.0          4         140.0        86.0    2790          15.6   \n",
       "394  44.0          4          97.0        52.0    2130          24.6   \n",
       "395  32.0          4         135.0        84.0    2295          11.6   \n",
       "396  28.0          4         120.0        79.0    2625          18.6   \n",
       "397  31.0          4         119.0        82.0    2720          19.4   \n",
       "\n",
       "     model_year  origin                       name  \n",
       "0            70       1  chevrolet chevelle malibu  \n",
       "1            70       1          buick skylark 320  \n",
       "2            70       1         plymouth satellite  \n",
       "3            70       1              amc rebel sst  \n",
       "4            70       1                ford torino  \n",
       "..          ...     ...                        ...  \n",
       "393          82       1            ford mustang gl  \n",
       "394          82       2                  vw pickup  \n",
       "395          82       1              dodge rampage  \n",
       "396          82       1                ford ranger  \n",
       "397          82       1                 chevy s-10  \n",
       "\n",
       "[398 rows x 9 columns]"
      ]
     },
     "execution_count": 7,
     "metadata": {},
     "output_type": "execute_result"
    }
   ],
   "source": [
    "dataframe = pd.read_csv('datasets/mpg.csv')\n",
    "\n",
    "dataframe\n",
    "\n",
    "#<xml xmlns=\"https://developers.google.com/blockly/xml\"><variables><variable id=\"t[n^Fcp7,s93E17ZZ9J6\">dataframe</variable><variable id=\"i!#]:2XI=^qLb$e.|iwo\">pd</variable></variables><block type=\"variables_set\" id=\"3v`CGfKaBAQlZxNrLh;g\" x=\"93\" y=\"206\"><field name=\"VAR\" id=\"t[n^Fcp7,s93E17ZZ9J6\">dataframe</field><value name=\"VALUE\"><block type=\"varDoMethod\" id=\"_t%9/`1H3Fc{hR:y|JKO\"><mutation items=\"1\"></mutation><field name=\"VAR\" id=\"i!#]:2XI=^qLb$e.|iwo\">pd</field><field name=\"MEMBER\">read_csv</field><data>pd:read_csv</data><value name=\"ADD0\"><block type=\"text\" id=\"Ac(8:^_P3%XN~/eCvim3\"><field name=\"TEXT\">datasets/mpg.csv</field></block></value></block></value></block><block type=\"variables_get\" id=\"#KxUvi=Dm$}ah[(R}s(A\" x=\"98\" y=\"286\"><field name=\"VAR\" id=\"t[n^Fcp7,s93E17ZZ9J6\">dataframe</field></block></xml>"
   ]
  },
  {
   "cell_type": "markdown",
   "metadata": {},
   "source": [
    "Take a look at the values for each variable above.\n",
    "Did you update your guess about the type of each variable?\n",
    "\n",
    "Now let's look at what `pandas` thinks of our variables.\n",
    "We can do this using `dtypes`:\n",
    "\n",
    "- from `dataframe` get `dtypes`"
   ]
  },
  {
   "cell_type": "code",
   "execution_count": 10,
   "metadata": {
    "user_blocks": [
     "varGetProperty"
    ],
    "user_blocks_xml": "<xml xmlns=\"https://developers.google.com/blockly/xml\"><variables><variable id=\"t[n^Fcp7,s93E17ZZ9J6\">dataframe</variable></variables><block type=\"varGetProperty\" id=\"*m4iZt~kz-D!Y:i^#V+T\" x=\"8\" y=\"142\"><field name=\"VAR\" id=\"t[n^Fcp7,s93E17ZZ9J6\">dataframe</field><field name=\"MEMBER\">dtypes</field><data>dataframe:dtypes</data></block></xml>",
    "user_code_from_blocks": "dataframe.dtypes\n"
   },
   "outputs": [
    {
     "data": {
      "text/plain": [
       "mpg             float64\n",
       "cylinders         int64\n",
       "displacement    float64\n",
       "horsepower      float64\n",
       "weight            int64\n",
       "acceleration    float64\n",
       "model_year        int64\n",
       "origin            int64\n",
       "name             object\n",
       "dtype: object"
      ]
     },
     "execution_count": 10,
     "metadata": {},
     "output_type": "execute_result"
    }
   ],
   "source": [
    "dataframe.dtypes\n",
    "\n",
    "#<xml xmlns=\"https://developers.google.com/blockly/xml\"><variables><variable id=\"t[n^Fcp7,s93E17ZZ9J6\">dataframe</variable></variables><block type=\"varGetProperty\" id=\"*m4iZt~kz-D!Y:i^#V+T\" x=\"8\" y=\"142\"><field name=\"VAR\" id=\"t[n^Fcp7,s93E17ZZ9J6\">dataframe</field><field name=\"MEMBER\">dtypes</field><data>dataframe:dtypes</data></block></xml>"
   ]
  },
  {
   "cell_type": "markdown",
   "metadata": {},
   "source": [
    "This should look pretty strange to you unless you've taken a programming class.\n",
    "\n",
    "Instead of thinking about variables *statistically*, `pandas` thinks about them in terms of *programming*.\n",
    "In other words, **we have to keep track of variable types ourselves, because pandas won't do it for us.**\n",
    "\n",
    "In fact, `pandas` will happily give us garbage answers because of this.\n",
    "Check out `describe`:\n",
    "\n",
    "- with `dataframe` do `describe` \n",
    "    - using freestyle `include='all'`\n",
    "\n",
    "*Note: describe ignores non-numeric variables by default, but we can get them with `include='all'`*"
   ]
  },
  {
   "cell_type": "code",
   "execution_count": 14,
   "metadata": {
    "user_blocks": [
     "varDoMethod",
     "dummyOutputCodeBlock"
    ],
    "user_blocks_xml": "<xml xmlns=\"https://developers.google.com/blockly/xml\"><variables><variable id=\"t[n^Fcp7,s93E17ZZ9J6\">dataframe</variable></variables><block type=\"varDoMethod\" id=\"PgC]TrEuai$*N/:Fl@hq\" x=\"8\" y=\"176\"><mutation items=\"1\"></mutation><field name=\"VAR\" id=\"t[n^Fcp7,s93E17ZZ9J6\">dataframe</field><field name=\"MEMBER\">describe</field><data>dataframe:describe</data><value name=\"ADD0\"><block type=\"dummyOutputCodeBlock\" id=\"gCh37Jr:x/}|2.Jh~0J1\"><field name=\"CODE\">include='all'</field></block></value></block></xml>",
    "user_code_from_blocks": "dataframe.describe(include='all')\n"
   },
   "outputs": [
    {
     "data": {
      "text/html": [
       "<div>\n",
       "<style scoped>\n",
       "    .dataframe tbody tr th:only-of-type {\n",
       "        vertical-align: middle;\n",
       "    }\n",
       "\n",
       "    .dataframe tbody tr th {\n",
       "        vertical-align: top;\n",
       "    }\n",
       "\n",
       "    .dataframe thead th {\n",
       "        text-align: right;\n",
       "    }\n",
       "</style>\n",
       "<table border=\"1\" class=\"dataframe\">\n",
       "  <thead>\n",
       "    <tr style=\"text-align: right;\">\n",
       "      <th></th>\n",
       "      <th>mpg</th>\n",
       "      <th>cylinders</th>\n",
       "      <th>displacement</th>\n",
       "      <th>horsepower</th>\n",
       "      <th>weight</th>\n",
       "      <th>acceleration</th>\n",
       "      <th>model_year</th>\n",
       "      <th>origin</th>\n",
       "      <th>name</th>\n",
       "    </tr>\n",
       "  </thead>\n",
       "  <tbody>\n",
       "    <tr>\n",
       "      <th>count</th>\n",
       "      <td>398.000000</td>\n",
       "      <td>398.000000</td>\n",
       "      <td>398.000000</td>\n",
       "      <td>392.000000</td>\n",
       "      <td>398.000000</td>\n",
       "      <td>398.000000</td>\n",
       "      <td>398.000000</td>\n",
       "      <td>398.000000</td>\n",
       "      <td>398</td>\n",
       "    </tr>\n",
       "    <tr>\n",
       "      <th>unique</th>\n",
       "      <td>NaN</td>\n",
       "      <td>NaN</td>\n",
       "      <td>NaN</td>\n",
       "      <td>NaN</td>\n",
       "      <td>NaN</td>\n",
       "      <td>NaN</td>\n",
       "      <td>NaN</td>\n",
       "      <td>NaN</td>\n",
       "      <td>305</td>\n",
       "    </tr>\n",
       "    <tr>\n",
       "      <th>top</th>\n",
       "      <td>NaN</td>\n",
       "      <td>NaN</td>\n",
       "      <td>NaN</td>\n",
       "      <td>NaN</td>\n",
       "      <td>NaN</td>\n",
       "      <td>NaN</td>\n",
       "      <td>NaN</td>\n",
       "      <td>NaN</td>\n",
       "      <td>ford pinto</td>\n",
       "    </tr>\n",
       "    <tr>\n",
       "      <th>freq</th>\n",
       "      <td>NaN</td>\n",
       "      <td>NaN</td>\n",
       "      <td>NaN</td>\n",
       "      <td>NaN</td>\n",
       "      <td>NaN</td>\n",
       "      <td>NaN</td>\n",
       "      <td>NaN</td>\n",
       "      <td>NaN</td>\n",
       "      <td>6</td>\n",
       "    </tr>\n",
       "    <tr>\n",
       "      <th>mean</th>\n",
       "      <td>23.514573</td>\n",
       "      <td>5.454774</td>\n",
       "      <td>193.425879</td>\n",
       "      <td>104.469388</td>\n",
       "      <td>2970.424623</td>\n",
       "      <td>15.568090</td>\n",
       "      <td>76.010050</td>\n",
       "      <td>1.572864</td>\n",
       "      <td>NaN</td>\n",
       "    </tr>\n",
       "    <tr>\n",
       "      <th>std</th>\n",
       "      <td>7.815984</td>\n",
       "      <td>1.701004</td>\n",
       "      <td>104.269838</td>\n",
       "      <td>38.491160</td>\n",
       "      <td>846.841774</td>\n",
       "      <td>2.757689</td>\n",
       "      <td>3.697627</td>\n",
       "      <td>0.802055</td>\n",
       "      <td>NaN</td>\n",
       "    </tr>\n",
       "    <tr>\n",
       "      <th>min</th>\n",
       "      <td>9.000000</td>\n",
       "      <td>3.000000</td>\n",
       "      <td>68.000000</td>\n",
       "      <td>46.000000</td>\n",
       "      <td>1613.000000</td>\n",
       "      <td>8.000000</td>\n",
       "      <td>70.000000</td>\n",
       "      <td>1.000000</td>\n",
       "      <td>NaN</td>\n",
       "    </tr>\n",
       "    <tr>\n",
       "      <th>25%</th>\n",
       "      <td>17.500000</td>\n",
       "      <td>4.000000</td>\n",
       "      <td>104.250000</td>\n",
       "      <td>75.000000</td>\n",
       "      <td>2223.750000</td>\n",
       "      <td>13.825000</td>\n",
       "      <td>73.000000</td>\n",
       "      <td>1.000000</td>\n",
       "      <td>NaN</td>\n",
       "    </tr>\n",
       "    <tr>\n",
       "      <th>50%</th>\n",
       "      <td>23.000000</td>\n",
       "      <td>4.000000</td>\n",
       "      <td>148.500000</td>\n",
       "      <td>93.500000</td>\n",
       "      <td>2803.500000</td>\n",
       "      <td>15.500000</td>\n",
       "      <td>76.000000</td>\n",
       "      <td>1.000000</td>\n",
       "      <td>NaN</td>\n",
       "    </tr>\n",
       "    <tr>\n",
       "      <th>75%</th>\n",
       "      <td>29.000000</td>\n",
       "      <td>8.000000</td>\n",
       "      <td>262.000000</td>\n",
       "      <td>126.000000</td>\n",
       "      <td>3608.000000</td>\n",
       "      <td>17.175000</td>\n",
       "      <td>79.000000</td>\n",
       "      <td>2.000000</td>\n",
       "      <td>NaN</td>\n",
       "    </tr>\n",
       "    <tr>\n",
       "      <th>max</th>\n",
       "      <td>46.600000</td>\n",
       "      <td>8.000000</td>\n",
       "      <td>455.000000</td>\n",
       "      <td>230.000000</td>\n",
       "      <td>5140.000000</td>\n",
       "      <td>24.800000</td>\n",
       "      <td>82.000000</td>\n",
       "      <td>3.000000</td>\n",
       "      <td>NaN</td>\n",
       "    </tr>\n",
       "  </tbody>\n",
       "</table>\n",
       "</div>"
      ],
      "text/plain": [
       "               mpg   cylinders  displacement  horsepower       weight  \\\n",
       "count   398.000000  398.000000    398.000000  392.000000   398.000000   \n",
       "unique         NaN         NaN           NaN         NaN          NaN   \n",
       "top            NaN         NaN           NaN         NaN          NaN   \n",
       "freq           NaN         NaN           NaN         NaN          NaN   \n",
       "mean     23.514573    5.454774    193.425879  104.469388  2970.424623   \n",
       "std       7.815984    1.701004    104.269838   38.491160   846.841774   \n",
       "min       9.000000    3.000000     68.000000   46.000000  1613.000000   \n",
       "25%      17.500000    4.000000    104.250000   75.000000  2223.750000   \n",
       "50%      23.000000    4.000000    148.500000   93.500000  2803.500000   \n",
       "75%      29.000000    8.000000    262.000000  126.000000  3608.000000   \n",
       "max      46.600000    8.000000    455.000000  230.000000  5140.000000   \n",
       "\n",
       "        acceleration  model_year      origin        name  \n",
       "count     398.000000  398.000000  398.000000         398  \n",
       "unique           NaN         NaN         NaN         305  \n",
       "top              NaN         NaN         NaN  ford pinto  \n",
       "freq             NaN         NaN         NaN           6  \n",
       "mean       15.568090   76.010050    1.572864         NaN  \n",
       "std         2.757689    3.697627    0.802055         NaN  \n",
       "min         8.000000   70.000000    1.000000         NaN  \n",
       "25%        13.825000   73.000000    1.000000         NaN  \n",
       "50%        15.500000   76.000000    1.000000         NaN  \n",
       "75%        17.175000   79.000000    2.000000         NaN  \n",
       "max        24.800000   82.000000    3.000000         NaN  "
      ]
     },
     "execution_count": 14,
     "metadata": {},
     "output_type": "execute_result"
    }
   ],
   "source": [
    "dataframe.describe(include='all')\n",
    "\n",
    "#<xml xmlns=\"https://developers.google.com/blockly/xml\"><variables><variable id=\"t[n^Fcp7,s93E17ZZ9J6\">dataframe</variable></variables><block type=\"varDoMethod\" id=\"PgC]TrEuai$*N/:Fl@hq\" x=\"8\" y=\"176\"><mutation items=\"1\"></mutation><field name=\"VAR\" id=\"t[n^Fcp7,s93E17ZZ9J6\">dataframe</field><field name=\"MEMBER\">describe</field><data>dataframe:describe</data><value name=\"ADD0\"><block type=\"dummyOutputCodeBlock\" id=\"gCh37Jr:x/}|2.Jh~0J1\"><field name=\"CODE\">include='all'</field></block></value></block></xml>"
   ]
  },
  {
   "cell_type": "markdown",
   "metadata": {},
   "source": [
    "The rows unique, top, and freq only apply to non-numeric variables, and the other rows don't apply to non-numeric variables.\n",
    "We see NaN when a row doesn't apply to a variable.\n",
    "\n",
    "What did `pandas` do right here?\n",
    "\n",
    "- All ratio variables\n",
    "- `name`, one of the nominal variables\n",
    "- `model_year`, the interval variable (only because we did not multiply/divide)\n",
    "\n",
    "However it did not do the ordinal or other nominal correctly, because in both cases it calculated averages, etc, which don't make sense:\n",
    "\n",
    "- `origin` 1, 2, 3 are country codes (nominal). How can we have a 1.57 mean country code?\n",
    "- `cylinders` 4, 6, 8 is ordinal. How can we have a 5.45 mean cylinders?\n",
    "\n",
    "**Why does pandas get it right sometimes and not others?**\n",
    "\n",
    "Basically, `pandas` treats every number as ratio and everything non-numeric as nominal.\n",
    "\n",
    "**So you need to be extra careful when:**\n",
    "\n",
    "- You use numeric values with a variable that is not ratio\n",
    "- Anytime you use an ordinal variable"
   ]
  },
  {
   "attachments": {
    "image.png": {
     "image/png": "[encoded data removed]"
    }
   },
   "cell_type": "markdown",
   "metadata": {},
   "source": [
    "## Measurement\n",
    "\n",
    "We previously said that structured data begins with measurement of a variable, but we haven't explained what measurement really is.\n",
    "Measurement is, quite simply, the assignment of a value to a variable.\n",
    "In the context of a categorical variable like biological sex, we would say the assignment of *male* or *female* is a measurement.\n",
    "Similarly for height, we would say that 180 cm is a measurement.\n",
    "Notice that in these two examples, the measurement depends closely on type of variable (e.g. nominal or ratio).\n",
    "\n",
    "How we measure is tightly connected to how we've defined the variable.\n",
    "This makes sense, because our measurements serve as a way of defining the variable.\n",
    "For some variables, this is more obvious than for other variables.\n",
    "For example, we all know what *length* is. \n",
    "It is a measure of distance that we can see with our eyes, and we can measure it in different units like centimeters or inches.\n",
    "However, some variables are not as obvious, like *justice*.\n",
    "How do we measure *justice*?\n",
    "One way would be to ask people, e.g. to ask them how just or unjust they thought a situation was.\n",
    "There are two problems with this approach.\n",
    "First, different people will tell you different things.\n",
    "Second, you may not really be measuring *justice* when you ask this question; you could end up measuring something else by accident, like people's religious beliefs.\n",
    "\n",
    "When we talk about measurement, especially of things we can't directly observe, there are two important properties of measurement that we want, **validity** and **reliability**.\n",
    "The picture below presents a conceptual illustration of these ideas using a target.\n",
    "\n",
    "<!-- Attribution: © Nevit Dilmen -->\n",
    "<!-- https://commons.wikimedia.org/wiki/File:Reliability_and_validity.svg -->\n",
    "![image.png](attachment:image.png)\n",
    "\n",
    "Simply stated, **validity means we are measuring what we intend to measure**.\n",
    "In the images, validity is being \"on target,\" so that our measurements are *centered* on what we are trying to measure.\n",
    "\n",
    "In contrast, **reliability means our measurements are consistent**. \n",
    "Our measurements could be consistently wrong, which would make them reliable but not valid (lower left).\n",
    "Ideally, our measurements will be both valid and reliable (lower right).\n",
    "\n",
    "When it comes to validity and reliability, the most important thing to understand is that **validity is not optional.**\n",
    "If you don't have validity, your variable is wrong - you're not measuring what you think you're measuring.\n",
    "Reliability is optional to a certain extent, but if the reliability is very low, we won't be able to get much information out of the variable."
   ]
  },
  {
   "cell_type": "markdown",
   "metadata": {},
   "source": [
    "### Dirty data \n",
    "\n",
    "If data is clean, then we don't need to correct it or process it to remove garbage values or correct noisy values.\n",
    "You might expect all data to be clean. \n",
    "However, even carefully collected data can have problems that require correction before it can be used properly.\n",
    "Dirty data is the norm for unplanned data collection, so sorry days is common in data science.\n",
    "\n",
    "There are many ways that data can be dirty, but to make the idea more concrete, let's consider a few examples.\n",
    "Imagine that you are interested in the weather in your backyard, so you put out a battery operated thermometer that records the temperature every hour.\n",
    "You then leave it there for a month.\n",
    "Now imagine that it worked fine for the first two weeks, but since you didn't change the batteries, the measurements for the last two weeks become increasingly unreliable, e.g. reporting up to 10 degrees above or below the actual temperature, until it finally shuts off leaving you with no data for the remaining days.\n",
    "This kind of problem, an **instrument failure** leading to **unreliable measurement**, is actually quite common and can take a lot of planning to avoid.\n",
    "<!-- Another example of dirty data is at the recording stage. \n",
    "Imagine a computer is recording audio data by writing it to the hard disk.\n",
    "If the computer suddenly becomes active with another task (say streaming a video or installing an operating system update) the audio data may \"glitch\". -->\n",
    "\n",
    "While *very* dirty data is usually obvious, it can sometimes be hard to recognize. \n",
    "For this reason, it is important to check your data for problems (e.g. crazy values, like a person being 1 ft tall or 200 years old) and think very seriously about how problems should be corrected.\n",
    "Data cleaning is such a tricky topic that we will delay it until much later in the course - for now we'll just focus on finding problems."
   ]
  },
  {
   "cell_type": "markdown",
   "metadata": {},
   "source": [
    "Let's look at a case study with some fake data.\n",
    "The scenario is pregnant women in the hospital being assessed for pain, where pain level would determine what pain relief they receive.\n",
    "Here are the variables:\n",
    "\n",
    "| Variable       | Description                                       |\n",
    "|----------------|---------------------------------------------------|\n",
    "| Age            | Patient age in years                              |\n",
    "| Dr-1           | Doctor 1 assessment of pain: high, mid, low       |\n",
    "| Dr-2           | Doctor 2 assessment of pain: high, mid, low       |\n",
    "| Blood-Pressure | Systolic blood pressure in millimeters of mercury |\n",
    "\n",
    "What types of variables do you think these are?\n",
    "\n",
    "How can we tell if the data are dirty?\n",
    "\n",
    "One of the best ways is to `describe` the data and thing about what plots might reveal.\n",
    "Let's list the data and describe it:\n",
    "\n",
    "- Set `dataframe` to with `pd` do `read_csv`\n",
    "    - using `\"datasets/pregnancy-pain.csv\"`\n",
    "- with `dataframe` do `describe`\n",
    "    - using freestyle `include='all'`"
   ]
  },
  {
   "cell_type": "code",
   "execution_count": 16,
   "metadata": {
    "user_blocks": [
     "variables_set",
     "varDoMethod",
     "text",
     "varDoMethod",
     "dummyOutputCodeBlock"
    ],
    "user_blocks_xml": "<xml xmlns=\"https://developers.google.com/blockly/xml\"><variables><variable id=\"t[n^Fcp7,s93E17ZZ9J6\">dataframe</variable><variable id=\"i!#]:2XI=^qLb$e.|iwo\">pd</variable></variables><block type=\"variables_set\" id=\"v@Jo,]2z8SmCnZf3/D/(\" x=\"60\" y=\"239\"><field name=\"VAR\" id=\"t[n^Fcp7,s93E17ZZ9J6\">dataframe</field><value name=\"VALUE\"><block type=\"varDoMethod\" id=\"v1Nu+gNq`fxs`ues1BV;\"><mutation items=\"1\"></mutation><field name=\"VAR\" id=\"i!#]:2XI=^qLb$e.|iwo\">pd</field><field name=\"MEMBER\">read_csv</field><data>pd:read_csv</data><value name=\"ADD0\"><block type=\"text\" id=\"1K`dGq(Kx0J{7~=8sCdP\"><field name=\"TEXT\">datasets/pregnancy-pain.csv</field></block></value></block></value></block><block type=\"varDoMethod\" id=\"JDN*WE{,3j.%5V6VS5m+\" x=\"82\" y=\"350\"><mutation items=\"1\"></mutation><field name=\"VAR\" id=\"t[n^Fcp7,s93E17ZZ9J6\">dataframe</field><field name=\"MEMBER\">describe</field><data>dataframe:describe</data><value name=\"ADD0\"><block type=\"dummyOutputCodeBlock\" id=\"w8?.~kydD1)]nA$d?iC[\"><field name=\"CODE\">include='all'</field></block></value></block></xml>",
    "user_code_from_blocks": "dataframe = pd.read_csv('datasets/pregnancy-pain.csv')\n\ndataframe.describe(include='all')\n"
   },
   "outputs": [
    {
     "data": {
      "text/html": [
       "<div>\n",
       "<style scoped>\n",
       "    .dataframe tbody tr th:only-of-type {\n",
       "        vertical-align: middle;\n",
       "    }\n",
       "\n",
       "    .dataframe tbody tr th {\n",
       "        vertical-align: top;\n",
       "    }\n",
       "\n",
       "    .dataframe thead th {\n",
       "        text-align: right;\n",
       "    }\n",
       "</style>\n",
       "<table border=\"1\" class=\"dataframe\">\n",
       "  <thead>\n",
       "    <tr style=\"text-align: right;\">\n",
       "      <th></th>\n",
       "      <th>Age</th>\n",
       "      <th>Dr-1</th>\n",
       "      <th>Dr-2</th>\n",
       "      <th>Blood-Pressure</th>\n",
       "    </tr>\n",
       "  </thead>\n",
       "  <tbody>\n",
       "    <tr>\n",
       "      <th>count</th>\n",
       "      <td>1013.000000</td>\n",
       "      <td>1014</td>\n",
       "      <td>1014</td>\n",
       "      <td>1014.000000</td>\n",
       "    </tr>\n",
       "    <tr>\n",
       "      <th>unique</th>\n",
       "      <td>NaN</td>\n",
       "      <td>4</td>\n",
       "      <td>3</td>\n",
       "      <td>NaN</td>\n",
       "    </tr>\n",
       "    <tr>\n",
       "      <th>top</th>\n",
       "      <td>NaN</td>\n",
       "      <td>low</td>\n",
       "      <td>low</td>\n",
       "      <td>NaN</td>\n",
       "    </tr>\n",
       "    <tr>\n",
       "      <th>freq</th>\n",
       "      <td>NaN</td>\n",
       "      <td>406</td>\n",
       "      <td>407</td>\n",
       "      <td>NaN</td>\n",
       "    </tr>\n",
       "    <tr>\n",
       "      <th>mean</th>\n",
       "      <td>29.892399</td>\n",
       "      <td>NaN</td>\n",
       "      <td>NaN</td>\n",
       "      <td>132.433925</td>\n",
       "    </tr>\n",
       "    <tr>\n",
       "      <th>std</th>\n",
       "      <td>13.614007</td>\n",
       "      <td>NaN</td>\n",
       "      <td>NaN</td>\n",
       "      <td>16.489402</td>\n",
       "    </tr>\n",
       "    <tr>\n",
       "      <th>min</th>\n",
       "      <td>4.000000</td>\n",
       "      <td>NaN</td>\n",
       "      <td>NaN</td>\n",
       "      <td>110.000000</td>\n",
       "    </tr>\n",
       "    <tr>\n",
       "      <th>25%</th>\n",
       "      <td>19.000000</td>\n",
       "      <td>NaN</td>\n",
       "      <td>NaN</td>\n",
       "      <td>116.000000</td>\n",
       "    </tr>\n",
       "    <tr>\n",
       "      <th>50%</th>\n",
       "      <td>26.000000</td>\n",
       "      <td>NaN</td>\n",
       "      <td>NaN</td>\n",
       "      <td>132.000000</td>\n",
       "    </tr>\n",
       "    <tr>\n",
       "      <th>75%</th>\n",
       "      <td>39.000000</td>\n",
       "      <td>NaN</td>\n",
       "      <td>NaN</td>\n",
       "      <td>150.000000</td>\n",
       "    </tr>\n",
       "    <tr>\n",
       "      <th>max</th>\n",
       "      <td>91.000000</td>\n",
       "      <td>NaN</td>\n",
       "      <td>NaN</td>\n",
       "      <td>160.000000</td>\n",
       "    </tr>\n",
       "  </tbody>\n",
       "</table>\n",
       "</div>"
      ],
      "text/plain": [
       "                Age  Dr-1  Dr-2  Blood-Pressure\n",
       "count   1013.000000  1014  1014     1014.000000\n",
       "unique          NaN     4     3             NaN\n",
       "top             NaN   low   low             NaN\n",
       "freq            NaN   406   407             NaN\n",
       "mean      29.892399   NaN   NaN      132.433925\n",
       "std       13.614007   NaN   NaN       16.489402\n",
       "min        4.000000   NaN   NaN      110.000000\n",
       "25%       19.000000   NaN   NaN      116.000000\n",
       "50%       26.000000   NaN   NaN      132.000000\n",
       "75%       39.000000   NaN   NaN      150.000000\n",
       "max       91.000000   NaN   NaN      160.000000"
      ]
     },
     "execution_count": 16,
     "metadata": {},
     "output_type": "execute_result"
    }
   ],
   "source": [
    "dataframe = pd.read_csv('datasets/pregnancy-pain.csv')\n",
    "\n",
    "dataframe.describe(include='all')\n",
    "\n",
    "#<xml xmlns=\"https://developers.google.com/blockly/xml\"><variables><variable id=\"t[n^Fcp7,s93E17ZZ9J6\">dataframe</variable><variable id=\"i!#]:2XI=^qLb$e.|iwo\">pd</variable></variables><block type=\"variables_set\" id=\"v@Jo,]2z8SmCnZf3/D/(\" x=\"60\" y=\"239\"><field name=\"VAR\" id=\"t[n^Fcp7,s93E17ZZ9J6\">dataframe</field><value name=\"VALUE\"><block type=\"varDoMethod\" id=\"v1Nu+gNq`fxs`ues1BV;\"><mutation items=\"1\"></mutation><field name=\"VAR\" id=\"i!#]:2XI=^qLb$e.|iwo\">pd</field><field name=\"MEMBER\">read_csv</field><data>pd:read_csv</data><value name=\"ADD0\"><block type=\"text\" id=\"1K`dGq(Kx0J{7~=8sCdP\"><field name=\"TEXT\">datasets/pregnancy-pain.csv</field></block></value></block></value></block><block type=\"varDoMethod\" id=\"JDN*WE{,3j.%5V6VS5m+\" x=\"82\" y=\"350\"><mutation items=\"1\"></mutation><field name=\"VAR\" id=\"t[n^Fcp7,s93E17ZZ9J6\">dataframe</field><field name=\"MEMBER\">describe</field><data>dataframe:describe</data><value name=\"ADD0\"><block type=\"dummyOutputCodeBlock\" id=\"w8?.~kydD1)]nA$d?iC[\"><field name=\"CODE\">include='all'</field></block></value></block></xml>"
   ]
  },
  {
   "cell_type": "markdown",
   "metadata": {},
   "source": [
    "Here are some things to note.\n",
    "Take a moment to think about the possible cause of the problem:\n",
    "\n",
    "- Count of `age` is one less than the other variables \n",
    "<details><summary>Hint</summary><mark>A value is missing for age</mark></details>\n",
    "- Dr-1 has 4 unique values, one more than Dr-2\n",
    "<details><summary>Hint</summary><mark>One of the entries is misspelled</mark></details>\n",
    "- The frequency of the top value for the doctors,  `low`, is almost the same\n",
    "<details><summary>Hint</summary><mark>The doctors either agree a lot, or the variable is the same</mark></details>\n",
    "- The min `age` is 4 and max is 91\n",
    "<details><summary>Hint</summary><mark>Since pregnant women aren't that young or old, these must be data entry errors</mark></details>\n",
    "\n",
    "**If you know how to read the describe table, you can make pretty good guesses about problems.**\n",
    "\n",
    "Here's how to confirm our guesses with code."
   ]
  },
  {
   "cell_type": "markdown",
   "metadata": {},
   "source": [
    "### Missing values\n",
    "\n",
    "First, get whether values are missing:\n",
    "\n",
    "- Set `missing` to with `dataframe` do `isnull`"
   ]
  },
  {
   "cell_type": "code",
   "execution_count": 18,
   "metadata": {
    "user_blocks": [
     "variables_set",
     "varDoMethod"
    ],
    "user_blocks_xml": "<xml xmlns=\"https://developers.google.com/blockly/xml\"><variables><variable id=\"Y[%k.R#:6/St%z5mke*3\">missing</variable><variable id=\"t[n^Fcp7,s93E17ZZ9J6\">dataframe</variable></variables><block type=\"variables_set\" id=\"[cvG~Q`fmxO{{q)1VM4?\" x=\"4\" y=\"183\"><field name=\"VAR\" id=\"Y[%k.R#:6/St%z5mke*3\">missing</field><value name=\"VALUE\"><block type=\"varDoMethod\" id=\"#coK8HQ6wgNvZ5{1HL){\"><mutation items=\"1\"></mutation><field name=\"VAR\" id=\"t[n^Fcp7,s93E17ZZ9J6\">dataframe</field><field name=\"MEMBER\">isnull</field><data>dataframe:isnull</data></block></value></block></xml>",
    "user_code_from_blocks": "missing = dataframe.isnull()\n"
   },
   "outputs": [],
   "source": [
    "missing = dataframe.isnull()\n",
    "\n",
    "#<xml xmlns=\"https://developers.google.com/blockly/xml\"><variables><variable id=\"Y[%k.R#:6/St%z5mke*3\">missing</variable><variable id=\"t[n^Fcp7,s93E17ZZ9J6\">dataframe</variable></variables><block type=\"variables_set\" id=\"[cvG~Q`fmxO{{q)1VM4?\" x=\"4\" y=\"183\"><field name=\"VAR\" id=\"Y[%k.R#:6/St%z5mke*3\">missing</field><value name=\"VALUE\"><block type=\"varDoMethod\" id=\"#coK8HQ6wgNvZ5{1HL){\"><mutation items=\"1\"></mutation><field name=\"VAR\" id=\"t[n^Fcp7,s93E17ZZ9J6\">dataframe</field><field name=\"MEMBER\">isnull</field><data>dataframe:isnull</data></block></value></block></xml>"
   ]
  },
  {
   "cell_type": "markdown",
   "metadata": {},
   "source": [
    "Now sum the missing values in each column:\n",
    "\n",
    "- with `missing` do `sum`"
   ]
  },
  {
   "cell_type": "code",
   "execution_count": 20,
   "metadata": {
    "user_blocks": [
     "varDoMethod"
    ],
    "user_blocks_xml": "<xml xmlns=\"https://developers.google.com/blockly/xml\"><variables><variable id=\"Y[%k.R#:6/St%z5mke*3\">missing</variable></variables><block type=\"varDoMethod\" id=\"r*8K.}/8#$[x*@V/qN:g\" x=\"8\" y=\"176\"><mutation items=\"1\"></mutation><field name=\"VAR\" id=\"Y[%k.R#:6/St%z5mke*3\">missing</field><field name=\"MEMBER\">sum</field><data>missing:sum</data></block></xml>",
    "user_code_from_blocks": "missing.sum()\n"
   },
   "outputs": [
    {
     "data": {
      "text/plain": [
       "Age               1\n",
       "Dr-1              0\n",
       "Dr-2              0\n",
       "Blood-Pressure    0\n",
       "dtype: int64"
      ]
     },
     "execution_count": 20,
     "metadata": {},
     "output_type": "execute_result"
    }
   ],
   "source": [
    "missing.sum()\n",
    "\n",
    "#<xml xmlns=\"https://developers.google.com/blockly/xml\"><variables><variable id=\"Y[%k.R#:6/St%z5mke*3\">missing</variable></variables><block type=\"varDoMethod\" id=\"r*8K.}/8#$[x*@V/qN:g\" x=\"8\" y=\"176\"><mutation items=\"1\"></mutation><field name=\"VAR\" id=\"Y[%k.R#:6/St%z5mke*3\">missing</field><field name=\"MEMBER\">sum</field><data>missing:sum</data></block></xml>"
   ]
  },
  {
   "cell_type": "markdown",
   "metadata": {},
   "source": [
    "### Extra values\n",
    "\n",
    "First, get the column you want to check:\n",
    "\n",
    "- Set `dr1` to `dataframe[` `\"Dr-1\"` `]`"
   ]
  },
  {
   "cell_type": "code",
   "execution_count": 22,
   "metadata": {
    "user_blocks": [
     "variables_set",
     "indexer",
     "text"
    ],
    "user_blocks_xml": "<xml xmlns=\"https://developers.google.com/blockly/xml\"><variables><variable id=\"aUTgCRF6(F_|ie!(!exN\">dr1</variable><variable id=\"t[n^Fcp7,s93E17ZZ9J6\">dataframe</variable></variables><block type=\"variables_set\" id=\"egQSB$%{GFk|}me18P|2\" x=\"43\" y=\"111\"><field name=\"VAR\" id=\"aUTgCRF6(F_|ie!(!exN\">dr1</field><value name=\"VALUE\"><block type=\"indexer\" id=\"Dbka$JDA,nFAp|kiO@Ld\"><field name=\"VAR\" id=\"t[n^Fcp7,s93E17ZZ9J6\">dataframe</field><value name=\"INDEX\"><block type=\"text\" id=\"d6|Y|4N8Ai[C#mAxGHH;\"><field name=\"TEXT\">Dr-1</field></block></value></block></value></block></xml>",
    "user_code_from_blocks": "dr1 = dataframe['Dr-1']\n"
   },
   "outputs": [],
   "source": [
    "dr1 = dataframe['Dr-1']\n",
    "\n",
    "#<xml xmlns=\"https://developers.google.com/blockly/xml\"><variables><variable id=\"aUTgCRF6(F_|ie!(!exN\">dr1</variable><variable id=\"t[n^Fcp7,s93E17ZZ9J6\">dataframe</variable></variables><block type=\"variables_set\" id=\"egQSB$%{GFk|}me18P|2\" x=\"43\" y=\"111\"><field name=\"VAR\" id=\"aUTgCRF6(F_|ie!(!exN\">dr1</field><value name=\"VALUE\"><block type=\"indexer\" id=\"Dbka$JDA,nFAp|kiO@Ld\"><field name=\"VAR\" id=\"t[n^Fcp7,s93E17ZZ9J6\">dataframe</field><value name=\"INDEX\"><block type=\"text\" id=\"d6|Y|4N8Ai[C#mAxGHH;\"><field name=\"TEXT\">Dr-1</field></block></value></block></value></block></xml>"
   ]
  },
  {
   "cell_type": "markdown",
   "metadata": {},
   "source": [
    "Now get the unique values in that column:\n",
    "\n",
    "- `with dr1 do unique`"
   ]
  },
  {
   "cell_type": "code",
   "execution_count": 25,
   "metadata": {
    "user_blocks": [
     "varDoMethod"
    ],
    "user_blocks_xml": "<xml xmlns=\"https://developers.google.com/blockly/xml\"><variables><variable id=\"aUTgCRF6(F_|ie!(!exN\">dr1</variable></variables><block type=\"varDoMethod\" id=\"1WVS^M{Q6B04+R4eW@kZ\" x=\"8\" y=\"176\"><mutation items=\"1\"></mutation><field name=\"VAR\" id=\"aUTgCRF6(F_|ie!(!exN\">dr1</field><field name=\"MEMBER\">unique</field><data>dr1:unique</data></block></xml>",
    "user_code_from_blocks": "dr1.unique()\n"
   },
   "outputs": [
    {
     "data": {
      "text/plain": [
       "array(['high', 'low', 'mid', 'medium'], dtype=object)"
      ]
     },
     "execution_count": 25,
     "metadata": {},
     "output_type": "execute_result"
    }
   ],
   "source": [
    "dr1.unique()\n",
    "\n",
    "#<xml xmlns=\"https://developers.google.com/blockly/xml\"><variables><variable id=\"aUTgCRF6(F_|ie!(!exN\">dr1</variable></variables><block type=\"varDoMethod\" id=\"1WVS^M{Q6B04+R4eW@kZ\" x=\"8\" y=\"176\"><mutation items=\"1\"></mutation><field name=\"VAR\" id=\"aUTgCRF6(F_|ie!(!exN\">dr1</field><field name=\"MEMBER\">unique</field><data>dr1:unique</data></block></xml>"
   ]
  },
  {
   "cell_type": "markdown",
   "metadata": {},
   "source": [
    "As you can see, we have an extra value, 'medium'. This looks like a data entry error where someone should have used 'mid'."
   ]
  },
  {
   "cell_type": "markdown",
   "metadata": {},
   "source": [
    "### Duplicate variables\n",
    "\n",
    "We think the two doctors might be the same, but if you look at the data, they don't match exactly on each row.\n",
    "\n",
    "For a problem like this, we can compare the distributions.\n",
    "If they match, we could have a duplicate variable.\n",
    "\n",
    "Start by getting the distribution for dr1:\n",
    "\n",
    "- `with dr1 do value_counts`"
   ]
  },
  {
   "cell_type": "code",
   "execution_count": 28,
   "metadata": {
    "user_blocks": [
     "varDoMethod"
    ],
    "user_blocks_xml": "<xml xmlns=\"https://developers.google.com/blockly/xml\"><variables><variable id=\"aUTgCRF6(F_|ie!(!exN\">dr1</variable></variables><block type=\"varDoMethod\" id=\"FPi518`a/Z$wu`S`yb7p\" x=\"200\" y=\"315\"><mutation items=\"1\"></mutation><field name=\"VAR\" id=\"aUTgCRF6(F_|ie!(!exN\">dr1</field><field name=\"MEMBER\">value_counts</field><data>dr1:value_counts</data></block></xml>",
    "user_code_from_blocks": "dr1.value_counts()\n"
   },
   "outputs": [
    {
     "data": {
      "text/plain": [
       "Dr-1\n",
       "low       406\n",
       "mid       335\n",
       "high      272\n",
       "medium      1\n",
       "Name: count, dtype: int64"
      ]
     },
     "execution_count": 28,
     "metadata": {},
     "output_type": "execute_result"
    }
   ],
   "source": [
    "dr1.value_counts()\n",
    "\n",
    "#<xml xmlns=\"https://developers.google.com/blockly/xml\"><variables><variable id=\"aUTgCRF6(F_|ie!(!exN\">dr1</variable></variables><block type=\"varDoMethod\" id=\"FPi518`a/Z$wu`S`yb7p\" x=\"200\" y=\"315\"><mutation items=\"1\"></mutation><field name=\"VAR\" id=\"aUTgCRF6(F_|ie!(!exN\">dr1</field><field name=\"MEMBER\">value_counts</field><data>dr1:value_counts</data></block></xml>"
   ]
  },
  {
   "cell_type": "markdown",
   "metadata": {},
   "source": [
    "Each row above is the count of a value in that column, e.g.,'low' occurs 406 times.\n",
    "\n",
    "To get the same for Dr 2, we must first get that column:\n",
    "\n",
    "- Set `dr2` to `dataframe[` `\"Dr-2\"` `]`"
   ]
  },
  {
   "cell_type": "code",
   "execution_count": 29,
   "metadata": {
    "user_blocks": [
     "variables_set",
     "indexer",
     "text"
    ],
    "user_blocks_xml": "<xml xmlns=\"https://developers.google.com/blockly/xml\"><variables><variable id=\"yk6+(VgCa|[wkHOf;vgi\">dr2</variable><variable id=\"t[n^Fcp7,s93E17ZZ9J6\">dataframe</variable></variables><block type=\"variables_set\" id=\"jN@/rW]R%36py}xWqx7t\" x=\"30\" y=\"110\"><field name=\"VAR\" id=\"yk6+(VgCa|[wkHOf;vgi\">dr2</field><value name=\"VALUE\"><block type=\"indexer\" id=\"O[YQ?-8mYMC?wAT4g-P5\"><field name=\"VAR\" id=\"t[n^Fcp7,s93E17ZZ9J6\">dataframe</field><value name=\"INDEX\"><block type=\"text\" id=\"Js]y_egVIzA/TI:c[R6e\"><field name=\"TEXT\">Dr-2</field></block></value></block></value></block></xml>",
    "user_code_from_blocks": "dr2 = dataframe['Dr-2']\n"
   },
   "outputs": [],
   "source": [
    "dr2 = dataframe['Dr-2']\n",
    "\n",
    "#<xml xmlns=\"https://developers.google.com/blockly/xml\"><variables><variable id=\"yk6+(VgCa|[wkHOf;vgi\">dr2</variable><variable id=\"t[n^Fcp7,s93E17ZZ9J6\">dataframe</variable></variables><block type=\"variables_set\" id=\"jN@/rW]R%36py}xWqx7t\" x=\"30\" y=\"110\"><field name=\"VAR\" id=\"yk6+(VgCa|[wkHOf;vgi\">dr2</field><value name=\"VALUE\"><block type=\"indexer\" id=\"O[YQ?-8mYMC?wAT4g-P5\"><field name=\"VAR\" id=\"t[n^Fcp7,s93E17ZZ9J6\">dataframe</field><value name=\"INDEX\"><block type=\"text\" id=\"Js]y_egVIzA/TI:c[R6e\"><field name=\"TEXT\">Dr-2</field></block></value></block></value></block></xml>"
   ]
  },
  {
   "cell_type": "markdown",
   "metadata": {},
   "source": [
    "Now we can get the Dr 2 distribution:\n",
    "\n",
    "- with `dr2` do `value_counts`"
   ]
  },
  {
   "cell_type": "code",
   "execution_count": 33,
   "metadata": {
    "user_blocks": [
     "varDoMethod"
    ],
    "user_blocks_xml": "<xml xmlns=\"https://developers.google.com/blockly/xml\"><variables><variable id=\"yk6+(VgCa|[wkHOf;vgi\">dr2</variable></variables><block type=\"varDoMethod\" id=\"v:n[qOBvESROb]wBs;c6\" x=\"200\" y=\"315\"><mutation items=\"1\"></mutation><field name=\"VAR\" id=\"yk6+(VgCa|[wkHOf;vgi\">dr2</field><field name=\"MEMBER\">value_counts</field><data>dr2:value_counts</data></block></xml>",
    "user_code_from_blocks": "dr2.value_counts()\n"
   },
   "outputs": [
    {
     "data": {
      "text/plain": [
       "Dr-2\n",
       "low     407\n",
       "mid     335\n",
       "high    272\n",
       "Name: count, dtype: int64"
      ]
     },
     "execution_count": 33,
     "metadata": {},
     "output_type": "execute_result"
    }
   ],
   "source": [
    "dr2.value_counts()\n",
    "\n",
    "#<xml xmlns=\"https://developers.google.com/blockly/xml\"><variables><variable id=\"yk6+(VgCa|[wkHOf;vgi\">dr2</variable></variables><block type=\"varDoMethod\" id=\"v:n[qOBvESROb]wBs;c6\" x=\"200\" y=\"315\"><mutation items=\"1\"></mutation><field name=\"VAR\" id=\"yk6+(VgCa|[wkHOf;vgi\">dr2</field><field name=\"MEMBER\">value_counts</field><data>dr2:value_counts</data></block></xml>"
   ]
  },
  {
   "cell_type": "markdown",
   "metadata": {},
   "source": [
    "The two doctors are different by only one rating over a thousand.\n",
    "That seems pretty unlikely."
   ]
  },
  {
   "cell_type": "markdown",
   "metadata": {},
   "source": [
    "## Check your knowledge\n",
    "\n",
    "**Hover to see the correct answer.**"
   ]
  },
  {
   "cell_type": "markdown",
   "metadata": {},
   "source": [
    "1.  What is a variable in the context of structured data?\n",
    "- A constant value that does not change.\n",
    "- <div title=\"Correct Answer\">A measurement of some type of thing in the real world whose value isn't constant.</div>\n",
    "- A type of unstructured data.\n",
    "- A fixed attribute of an object.\n",
    "\n",
    "2.  Which of the following describes an ordinal variable?\n",
    "- Unordered categories.\n",
    "- A meaningful zero value.\n",
    "- <div title=\"Correct Answer\">Ordered categories where the difference between categories is not necessarily equal.</div>\n",
    "- Evenly spaced measurement scales with a meaningful zero.\n",
    "\n",
    "3.  What is a key characteristic of an interval variable?\n",
    "- You can multiply and divide values.\n",
    "- It has a meaningful zero value.\n",
    "- <div title=\"Correct Answer\">Its measurement scales are evenly spaced, but it doesn't have a meaningful zero value.</div>\n",
    "- It consists of unordered categories.\n",
    "\n",
    "4.  According to the notebook, what is the primary reason the type of variable matters in data analysis?\n",
    "- It dictates the programming language you should use.\n",
    "- It determines the size of your dataset.\n",
    "- <div title=\"Correct Answer\">It affects what types of calculations and analyses you can perform on the data.</div>\n",
    "- It influences how fast your code will run.\n",
    "\n",
    "5.  When using `pandas`, how does it generally treat numeric and non-numeric variables?\n",
    "- <div title=\"Correct Answer\">It treats every number as ratio and everything non-numeric as nominal.</div>\n",
    "- It automatically determines the statistical type (nominal, ordinal, interval, ratio).\n",
    "- It treats all variables as nominal by default.\n",
    "- It treats all variables as ratio by default.\n",
    "\n",
    "6.  In the `mpg` dataset, what does the `name` variable represent?\n",
    "- Fuel economy in miles per gallon.\n",
    "- Number of cylinders in the engine.\n",
    "- <div title=\"Correct Answer\">Car model name (ID).</div>\n",
    "- Year of car manufacture.\n",
    "\n",
    "7.  Based on the `dataframe.dtypes` output for the `mpg` dataset, what is the `model_year` variable's `pandas` data type?\n",
    "- `float64`\n",
    "- `object`\n",
    "- <div title=\"Correct Answer\">`int64`</div>\n",
    "- `datetime`\n",
    "\n",
    "8.  Why did `pandas` calculate a mean of `1.572864` for the `origin` variable in the `mpg` dataset, and why is this problematic?\n",
    "- `pandas` correctly identified `origin` as a ratio variable.\n",
    "- The mean is correct because `origin` values (1, 2, 3) are truly numerical.\n",
    "- <div title=\"Correct Answer\">`origin` is a nominal variable (country codes), and calculating a mean for nominal data doesn't make logical sense.</div>\n",
    "- The data contains missing values that skew the mean calculation.\n",
    "\n",
    "9.  What does **validity** in measurement refer to?\n",
    "- The consistency of measurements.\n",
    "- <div title=\"Correct Answer\">Measuring what you intend to measure.</div>\n",
    "- The ability to reproduce measurements perfectly.\n",
    "- The absence of any errors in data collection.\n",
    "\n",
    "10. A thermometer consistently reports temperatures 5 degrees lower than the actual temperature. This measurement is:\n",
    "- Valid and reliable.\n",
    "- <div title=\"Correct Answer\">Reliable but not valid.</div>\n",
    "- Valid but not reliable.\n",
    "- Neither valid nor reliable.\n",
    "\n",
    "11. What does the `count` row in the `dataframe.describe(include='all')` output tell us about the `Age` variable in the `pregnancy-pain.csv` dataset?\n",
    "- The average age of patients.\n",
    "- The most frequent age.\n",
    "- <div title=\"Correct Answer\">The number of non-missing values for Age.</div>\n",
    "- The total number of unique age values.\n",
    "\n",
    "12. The `dataframe.describe(include='all')` output for `pregnancy-pain.csv` shows that `Dr-1` has 4 unique values, while `Dr-2` has 3. What does this suggest as a likely problem?\n",
    "- Missing data for `Dr-1`.\n",
    "- Inconsistent data collection methods for `Dr-2`.\n",
    "- <div title=\"Correct Answer\">A data entry error or typo in `Dr-1` (e.g., 'medium' instead of 'mid').</div>\n",
    "- The doctors are using different scales to assess pain."
   ]
  },
  {
   "cell_type": "markdown",
   "metadata": {},
   "source": [
    "<!-- #  -->"
   ]
  }
 ],
 "metadata": {
  "kernelspec": {
   "display_name": "Python 3 (ipykernel)",
   "language": "python",
   "name": "python3"
  },
  "language_info": {
   "codemirror_mode": {
    "name": "ipython",
    "version": 3
   },
   "file_extension": ".py",
   "mimetype": "text/x-python",
   "name": "python",
   "nbconvert_exporter": "python",
   "pygments_lexer": "ipython3",
   "version": "3.12.6"
  }
 },
 "nbformat": 4,
 "nbformat_minor": 4
}
