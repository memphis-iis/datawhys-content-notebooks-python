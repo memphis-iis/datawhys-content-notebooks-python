{
 "cells": [
  {
   "cell_type": "markdown",
   "metadata": {
    "deletable": false,
    "editable": false
   },
   "source": [
    "Copyright 2020 Andrew M. Olney and made available under [CC BY-SA](https://creativecommons.org/licenses/by-sa/4.0) for text and [Apache-2.0](http://www.apache.org/licenses/LICENSE-2.0) for code.\n"
   ]
  },
  {
   "cell_type": "markdown",
   "metadata": {},
   "source": [
    "# Decision trees: Problem solving\n",
    "\n",
    "We previously looked at predicting whether or not  a candy is popular based on its other properties using logistic regression.\n",
    "\n",
    "This gave us an idea of how  different properties **add** together to make a candy popular, but it didn't give us as much of an idea of how the properties act on each other.\n",
    "\n",
    "In this session, you will predict whether or not is popular using decision trees.\n",
    "\n",
    "This dataset [was collected](http://fivethirtyeight.com/features/the-ultimate-halloween-candy-power-ranking/) to discover the most popular Halloween candy.\n",
    "\n",
    "| Variable         | Type              | Description                                                  |\n",
    "|:-----------------|:------------------|:--------------------------------------------------------------|\n",
    "| chocolate        | Numeric (binary)  | Does it contain chocolate?                                   |\n",
    "| fruity           | Numeric (binary)  | Is it fruit flavored?                                        |\n",
    "| caramel          | Numeric (binary)  | Is there caramel in the candy?                               |\n",
    "| peanutalmondy    | Numeric (binary)  | Does it contain peanuts, peanut butter or almonds?           |\n",
    "| nougat           | Numeric (binary)  | Does it contain nougat?                                      |\n",
    "| crispedricewafer | Numeric (binary)  | Does it contain crisped rice, wafers, or a cookie component? |\n",
    "| hard             | Numeric (binary)  | Is it a hard candy?                                          |\n",
    "| bar              | Numeric (binary)  | Is it a candy bar?                                           |\n",
    "| pluribus         | Numeric (binary)  | Is it one of many candies in a bag or box?                   |\n",
    "| sugarpercent     | Numeric (0 to 1)  | The percentile of sugar it falls under within the data set.  |\n",
    "| pricepercent     | Numeric (0 to 1)  | The unit price percentile compared to the rest of the set.   |\n",
    "| winpercent       | Numeric (percent) | The overall win percentage according to 269,000 matchups     |\n",
    "| popular | Numeric (binary) | 1 if win percentage is over 50% and 0 otherwise |\n",
    "\n",
    "<div style=\"text-align:center;font-size: smaller\">\n",
    "    <b>Source:</b> This dataset is Copyright (c) 2014 ESPN Internet Ventures and distributed under an MIT license.\n",
    "</div>\n"
   ]
  },
  {
   "cell_type": "markdown",
   "metadata": {
    "slideshow": {
     "slide_type": "slide"
    }
   },
   "source": [
    "## Load the data\n",
    "\n",
    "First import `pandas`."
   ]
  },
  {
   "cell_type": "code",
   "execution_count": 22,
   "metadata": {
    "user_blocks": [
     "importAs"
    ],
    "user_blocks_xml": "<xml xmlns=\"https://developers.google.com/blockly/xml\"><variables><variable id=\"/%IFN5#t2uAm}E`8:KV:\">pd</variable></variables><block type=\"importAs\" id=\"_@5-r*j4E`}d?=DXLinf\" x=\"16\" y=\"10\"><field name=\"libraryName\">pandas</field><field name=\"VAR\" id=\"/%IFN5#t2uAm}E`8:KV:\">pd</field></block></xml>",
    "user_code_from_blocks": "import pandas as pd\n"
   },
   "outputs": [],
   "source": [
    "import pandas as pd\n",
    "\n",
    "#<xml xmlns=\"https://developers.google.com/blockly/xml\"><variables><variable id=\"/%IFN5#t2uAm}E`8:KV:\">pd</variable></variables><block type=\"importAs\" id=\"_@5-r*j4E`}d?=DXLinf\" x=\"16\" y=\"10\"><field name=\"libraryName\">pandas</field><field name=\"VAR\" id=\"/%IFN5#t2uAm}E`8:KV:\">pd</field></block></xml>"
   ]
  },
  {
   "cell_type": "markdown",
   "metadata": {},
   "source": [
    "Load a dataframe with `\"datasets/candy-data.csv\"` but use `index_col=\"competitorname\"` to make `competitorname` an ID instead of a variable.\n",
    "Then display the dataframe."
   ]
  },
  {
   "cell_type": "code",
   "execution_count": 23,
   "metadata": {
    "user_blocks": [
     "variables_set",
     "varDoMethod",
     "text",
     "dummyOutputCodeBlock",
     "variables_get"
    ],
    "user_blocks_xml": "<xml xmlns=\"https://developers.google.com/blockly/xml\"><variables><variable id=\"-(zD`=)|+6ZJe1eZ)t2_\">dataframe</variable><variable id=\"/%IFN5#t2uAm}E`8:KV:\">pd</variable></variables><block type=\"variables_set\" id=\"gM*jw`FfIR3)8=g0iEB7\" x=\"45\" y=\"162\"><field name=\"VAR\" id=\"-(zD`=)|+6ZJe1eZ)t2_\">dataframe</field><value name=\"VALUE\"><block type=\"varDoMethod\" id=\"ny0sjvqTnn2B]K2za7Li\"><mutation items=\"2\"></mutation><field name=\"VAR\" id=\"/%IFN5#t2uAm}E`8:KV:\">pd</field><field name=\"MEMBER\">read_csv</field><data>pd:read_csv</data><value name=\"ADD0\"><block type=\"text\" id=\"dfrpI5b@DHr+DQ:|@vpv\"><field name=\"TEXT\">datasets/candy-data.csv</field></block></value><value name=\"ADD1\"><block type=\"dummyOutputCodeBlock\" id=\"94@wTULF[(zp|n3n`q1A\"><field name=\"CODE\">index_col=\"competitorname\"</field></block></value></block></value></block><block type=\"variables_get\" id=\"5g7J_+Ahe.sgQx}a2))V\" x=\"36\" y=\"241\"><field name=\"VAR\" id=\"-(zD`=)|+6ZJe1eZ)t2_\">dataframe</field></block></xml>",
    "user_code_from_blocks": "dataframe = pd.read_csv('datasets/candy-data.csv',index_col=\"competitorname\")\n\ndataframe\n"
   },
   "outputs": [
    {
     "data": {
      "text/html": [
       "<div>\n",
       "<style scoped>\n",
       "    .dataframe tbody tr th:only-of-type {\n",
       "        vertical-align: middle;\n",
       "    }\n",
       "\n",
       "    .dataframe tbody tr th {\n",
       "        vertical-align: top;\n",
       "    }\n",
       "\n",
       "    .dataframe thead th {\n",
       "        text-align: right;\n",
       "    }\n",
       "</style>\n",
       "<table border=\"1\" class=\"dataframe\">\n",
       "  <thead>\n",
       "    <tr style=\"text-align: right;\">\n",
       "      <th></th>\n",
       "      <th>chocolate</th>\n",
       "      <th>fruity</th>\n",
       "      <th>caramel</th>\n",
       "      <th>peanutyalmondy</th>\n",
       "      <th>nougat</th>\n",
       "      <th>crispedricewafer</th>\n",
       "      <th>hard</th>\n",
       "      <th>bar</th>\n",
       "      <th>pluribus</th>\n",
       "      <th>sugarpercent</th>\n",
       "      <th>pricepercent</th>\n",
       "      <th>winpercent</th>\n",
       "      <th>popular</th>\n",
       "    </tr>\n",
       "    <tr>\n",
       "      <th>competitorname</th>\n",
       "      <th></th>\n",
       "      <th></th>\n",
       "      <th></th>\n",
       "      <th></th>\n",
       "      <th></th>\n",
       "      <th></th>\n",
       "      <th></th>\n",
       "      <th></th>\n",
       "      <th></th>\n",
       "      <th></th>\n",
       "      <th></th>\n",
       "      <th></th>\n",
       "      <th></th>\n",
       "    </tr>\n",
       "  </thead>\n",
       "  <tbody>\n",
       "    <tr>\n",
       "      <th>100 Grand</th>\n",
       "      <td>1</td>\n",
       "      <td>0</td>\n",
       "      <td>1</td>\n",
       "      <td>0</td>\n",
       "      <td>0</td>\n",
       "      <td>1</td>\n",
       "      <td>0</td>\n",
       "      <td>1</td>\n",
       "      <td>0</td>\n",
       "      <td>0.732</td>\n",
       "      <td>0.860</td>\n",
       "      <td>66.971725</td>\n",
       "      <td>1</td>\n",
       "    </tr>\n",
       "    <tr>\n",
       "      <th>3 Musketeers</th>\n",
       "      <td>1</td>\n",
       "      <td>0</td>\n",
       "      <td>0</td>\n",
       "      <td>0</td>\n",
       "      <td>1</td>\n",
       "      <td>0</td>\n",
       "      <td>0</td>\n",
       "      <td>1</td>\n",
       "      <td>0</td>\n",
       "      <td>0.604</td>\n",
       "      <td>0.511</td>\n",
       "      <td>67.602936</td>\n",
       "      <td>1</td>\n",
       "    </tr>\n",
       "    <tr>\n",
       "      <th>One dime</th>\n",
       "      <td>0</td>\n",
       "      <td>0</td>\n",
       "      <td>0</td>\n",
       "      <td>0</td>\n",
       "      <td>0</td>\n",
       "      <td>0</td>\n",
       "      <td>0</td>\n",
       "      <td>0</td>\n",
       "      <td>0</td>\n",
       "      <td>0.011</td>\n",
       "      <td>0.116</td>\n",
       "      <td>32.261086</td>\n",
       "      <td>0</td>\n",
       "    </tr>\n",
       "    <tr>\n",
       "      <th>One quarter</th>\n",
       "      <td>0</td>\n",
       "      <td>0</td>\n",
       "      <td>0</td>\n",
       "      <td>0</td>\n",
       "      <td>0</td>\n",
       "      <td>0</td>\n",
       "      <td>0</td>\n",
       "      <td>0</td>\n",
       "      <td>0</td>\n",
       "      <td>0.011</td>\n",
       "      <td>0.511</td>\n",
       "      <td>46.116505</td>\n",
       "      <td>0</td>\n",
       "    </tr>\n",
       "    <tr>\n",
       "      <th>Air Heads</th>\n",
       "      <td>0</td>\n",
       "      <td>1</td>\n",
       "      <td>0</td>\n",
       "      <td>0</td>\n",
       "      <td>0</td>\n",
       "      <td>0</td>\n",
       "      <td>0</td>\n",
       "      <td>0</td>\n",
       "      <td>0</td>\n",
       "      <td>0.906</td>\n",
       "      <td>0.511</td>\n",
       "      <td>52.341465</td>\n",
       "      <td>1</td>\n",
       "    </tr>\n",
       "    <tr>\n",
       "      <th>...</th>\n",
       "      <td>...</td>\n",
       "      <td>...</td>\n",
       "      <td>...</td>\n",
       "      <td>...</td>\n",
       "      <td>...</td>\n",
       "      <td>...</td>\n",
       "      <td>...</td>\n",
       "      <td>...</td>\n",
       "      <td>...</td>\n",
       "      <td>...</td>\n",
       "      <td>...</td>\n",
       "      <td>...</td>\n",
       "      <td>...</td>\n",
       "    </tr>\n",
       "    <tr>\n",
       "      <th>Twizzlers</th>\n",
       "      <td>0</td>\n",
       "      <td>1</td>\n",
       "      <td>0</td>\n",
       "      <td>0</td>\n",
       "      <td>0</td>\n",
       "      <td>0</td>\n",
       "      <td>0</td>\n",
       "      <td>0</td>\n",
       "      <td>0</td>\n",
       "      <td>0.220</td>\n",
       "      <td>0.116</td>\n",
       "      <td>45.466282</td>\n",
       "      <td>0</td>\n",
       "    </tr>\n",
       "    <tr>\n",
       "      <th>Warheads</th>\n",
       "      <td>0</td>\n",
       "      <td>1</td>\n",
       "      <td>0</td>\n",
       "      <td>0</td>\n",
       "      <td>0</td>\n",
       "      <td>0</td>\n",
       "      <td>1</td>\n",
       "      <td>0</td>\n",
       "      <td>0</td>\n",
       "      <td>0.093</td>\n",
       "      <td>0.116</td>\n",
       "      <td>39.011898</td>\n",
       "      <td>0</td>\n",
       "    </tr>\n",
       "    <tr>\n",
       "      <th>WelchÕs Fruit Snacks</th>\n",
       "      <td>0</td>\n",
       "      <td>1</td>\n",
       "      <td>0</td>\n",
       "      <td>0</td>\n",
       "      <td>0</td>\n",
       "      <td>0</td>\n",
       "      <td>0</td>\n",
       "      <td>0</td>\n",
       "      <td>1</td>\n",
       "      <td>0.313</td>\n",
       "      <td>0.313</td>\n",
       "      <td>44.375519</td>\n",
       "      <td>0</td>\n",
       "    </tr>\n",
       "    <tr>\n",
       "      <th>WertherÕs Original Caramel</th>\n",
       "      <td>0</td>\n",
       "      <td>0</td>\n",
       "      <td>1</td>\n",
       "      <td>0</td>\n",
       "      <td>0</td>\n",
       "      <td>0</td>\n",
       "      <td>1</td>\n",
       "      <td>0</td>\n",
       "      <td>0</td>\n",
       "      <td>0.186</td>\n",
       "      <td>0.267</td>\n",
       "      <td>41.904308</td>\n",
       "      <td>0</td>\n",
       "    </tr>\n",
       "    <tr>\n",
       "      <th>Whoppers</th>\n",
       "      <td>1</td>\n",
       "      <td>0</td>\n",
       "      <td>0</td>\n",
       "      <td>0</td>\n",
       "      <td>0</td>\n",
       "      <td>1</td>\n",
       "      <td>0</td>\n",
       "      <td>0</td>\n",
       "      <td>1</td>\n",
       "      <td>0.872</td>\n",
       "      <td>0.848</td>\n",
       "      <td>49.524113</td>\n",
       "      <td>0</td>\n",
       "    </tr>\n",
       "  </tbody>\n",
       "</table>\n",
       "<p>85 rows × 13 columns</p>\n",
       "</div>"
      ],
      "text/plain": [
       "                            chocolate  fruity  caramel  peanutyalmondy  \\\n",
       "competitorname                                                           \n",
       "100 Grand                           1       0        1               0   \n",
       "3 Musketeers                        1       0        0               0   \n",
       "One dime                            0       0        0               0   \n",
       "One quarter                         0       0        0               0   \n",
       "Air Heads                           0       1        0               0   \n",
       "...                               ...     ...      ...             ...   \n",
       "Twizzlers                           0       1        0               0   \n",
       "Warheads                            0       1        0               0   \n",
       "WelchÕs Fruit Snacks                0       1        0               0   \n",
       "WertherÕs Original Caramel          0       0        1               0   \n",
       "Whoppers                            1       0        0               0   \n",
       "\n",
       "                            nougat  crispedricewafer  hard  bar  pluribus  \\\n",
       "competitorname                                                              \n",
       "100 Grand                        0                 1     0    1         0   \n",
       "3 Musketeers                     1                 0     0    1         0   \n",
       "One dime                         0                 0     0    0         0   \n",
       "One quarter                      0                 0     0    0         0   \n",
       "Air Heads                        0                 0     0    0         0   \n",
       "...                            ...               ...   ...  ...       ...   \n",
       "Twizzlers                        0                 0     0    0         0   \n",
       "Warheads                         0                 0     1    0         0   \n",
       "WelchÕs Fruit Snacks             0                 0     0    0         1   \n",
       "WertherÕs Original Caramel       0                 0     1    0         0   \n",
       "Whoppers                         0                 1     0    0         1   \n",
       "\n",
       "                            sugarpercent  pricepercent  winpercent  popular  \n",
       "competitorname                                                               \n",
       "100 Grand                          0.732         0.860   66.971725        1  \n",
       "3 Musketeers                       0.604         0.511   67.602936        1  \n",
       "One dime                           0.011         0.116   32.261086        0  \n",
       "One quarter                        0.011         0.511   46.116505        0  \n",
       "Air Heads                          0.906         0.511   52.341465        1  \n",
       "...                                  ...           ...         ...      ...  \n",
       "Twizzlers                          0.220         0.116   45.466282        0  \n",
       "Warheads                           0.093         0.116   39.011898        0  \n",
       "WelchÕs Fruit Snacks               0.313         0.313   44.375519        0  \n",
       "WertherÕs Original Caramel         0.186         0.267   41.904308        0  \n",
       "Whoppers                           0.872         0.848   49.524113        0  \n",
       "\n",
       "[85 rows x 13 columns]"
      ]
     },
     "execution_count": 23,
     "metadata": {},
     "output_type": "execute_result"
    }
   ],
   "source": [
    "dataframe = pd.read_csv('datasets/candy-data.csv',index_col=\"competitorname\")\n",
    "\n",
    "dataframe\n",
    "\n",
    "#<xml xmlns=\"https://developers.google.com/blockly/xml\"><variables><variable id=\"-(zD`=)|+6ZJe1eZ)t2_\">dataframe</variable><variable id=\"/%IFN5#t2uAm}E`8:KV:\">pd</variable></variables><block type=\"variables_set\" id=\"gM*jw`FfIR3)8=g0iEB7\" x=\"45\" y=\"162\"><field name=\"VAR\" id=\"-(zD`=)|+6ZJe1eZ)t2_\">dataframe</field><value name=\"VALUE\"><block type=\"varDoMethod\" id=\"ny0sjvqTnn2B]K2za7Li\"><mutation items=\"2\"></mutation><field name=\"VAR\" id=\"/%IFN5#t2uAm}E`8:KV:\">pd</field><field name=\"MEMBER\">read_csv</field><data>pd:read_csv</data><value name=\"ADD0\"><block type=\"text\" id=\"dfrpI5b@DHr+DQ:|@vpv\"><field name=\"TEXT\">datasets/candy-data.csv</field></block></value><value name=\"ADD1\"><block type=\"dummyOutputCodeBlock\" id=\"94@wTULF[(zp|n3n`q1A\"><field name=\"CODE\">index_col=\"competitorname\"</field></block></value></block></value></block><block type=\"variables_get\" id=\"5g7J_+Ahe.sgQx}a2))V\" x=\"36\" y=\"241\"><field name=\"VAR\" id=\"-(zD`=)|+6ZJe1eZ)t2_\">dataframe</field></block></xml>"
   ]
  },
  {
   "cell_type": "markdown",
   "metadata": {},
   "source": [
    "## Explore the data\n",
    "\n",
    "Since this is a dataset you've looked at before, just make a correlation heatmap to show how the variables are related to each other.\n",
    "\n",
    "Start by importing `plotly.express`."
   ]
  },
  {
   "cell_type": "code",
   "execution_count": 24,
   "metadata": {
    "user_blocks": [
     "importAs"
    ],
    "user_blocks_xml": "<xml xmlns=\"https://developers.google.com/blockly/xml\"><variables><variable id=\"+yh,Zg{hON]zy6D~.rH#\">px</variable></variables><block type=\"importAs\" id=\"JKd}DIrGfV*IelKZ!4ls\" x=\"129\" y=\"219\"><field name=\"libraryName\">plotly.express</field><field name=\"VAR\" id=\"+yh,Zg{hON]zy6D~.rH#\">px</field></block></xml>",
    "user_code_from_blocks": "import plotly.express as px\n"
   },
   "outputs": [],
   "source": [
    "import plotly.express as px\n",
    "\n",
    "#<xml xmlns=\"https://developers.google.com/blockly/xml\"><variables><variable id=\"+yh,Zg{hON]zy6D~.rH#\">px</variable></variables><block type=\"importAs\" id=\"JKd}DIrGfV*IelKZ!4ls\" x=\"129\" y=\"219\"><field name=\"libraryName\">plotly.express</field><field name=\"VAR\" id=\"+yh,Zg{hON]zy6D~.rH#\">px</field></block></xml>"
   ]
  },
  {
   "cell_type": "markdown",
   "metadata": {},
   "source": [
    "And create and show the heatmap figure in one line."
   ]
  },
  {
   "cell_type": "code",
   "execution_count": 25,
   "metadata": {
    "user_blocks": [
     "varDoMethod",
     "varDoMethod",
     "valueOutputCodeBlock",
     "varGetProperty",
     "valueOutputCodeBlock",
     "varGetProperty"
    ],
    "user_blocks_xml": "<xml xmlns=\"https://developers.google.com/blockly/xml\"><variables><variable id=\"+yh,Zg{hON]zy6D~.rH#\">px</variable><variable id=\"-(zD`=)|+6ZJe1eZ)t2_\">dataframe</variable></variables><block type=\"varDoMethod\" id=\"7PkTI5@+A6#C}J7CTmyF\" x=\"85\" y=\"71\"><mutation items=\"3\"></mutation><field name=\"VAR\" id=\"+yh,Zg{hON]zy6D~.rH#\">px</field><field name=\"MEMBER\">imshow</field><data>px:imshow</data><value name=\"ADD0\"><block type=\"varDoMethod\" id=\"?iaY9MJ88^K?_+|.(F,c\"><mutation items=\"1\"></mutation><field name=\"VAR\" id=\"-(zD`=)|+6ZJe1eZ)t2_\">dataframe</field><field name=\"MEMBER\">corr</field><data>dataframe:corr</data></block></value><value name=\"ADD1\"><block type=\"valueOutputCodeBlock\" id=\"WnnnMxlneM;E!_f#Ii$^\"><field name=\"CODE\">x=</field><value name=\"INPUT\"><block type=\"varGetProperty\" id=\"(l1WsMK=Bs_tLeZfLo8Y\"><field name=\"VAR\" id=\"-(zD`=)|+6ZJe1eZ)t2_\">dataframe</field><field name=\"MEMBER\">columns</field><data>dataframe:columns</data></block></value></block></value><value name=\"ADD2\"><block type=\"valueOutputCodeBlock\" id=\".dnkwWtKdzeJ:Hy*Rc/N\"><field name=\"CODE\">y=</field><value name=\"INPUT\"><block type=\"varGetProperty\" id=\"91us[f5X^$;!RDP:W7Vq\"><field name=\"VAR\" id=\"-(zD`=)|+6ZJe1eZ)t2_\">dataframe</field><field name=\"MEMBER\">columns</field><data>dataframe:columns</data></block></value></block></value></block></xml>",
    "user_code_from_blocks": "px.imshow(dataframe.corr(),x= (dataframe.columns),y= (dataframe.columns))\n"
   },
   "outputs": [
    {
     "data": {
      "application/vnd.plotly.v1+json": {
       "config": {
        "plotlyServerURL": "https://plot.ly"
       },
       "data": [
        {
         "coloraxis": "coloraxis",
         "hovertemplate": "x: %{x}<br>y: %{y}<br>color: %{z}<extra></extra>",
         "name": "0",
         "type": "heatmap",
         "x": [
          "chocolate",
          "fruity",
          "caramel",
          "peanutyalmondy",
          "nougat",
          "crispedricewafer",
          "hard",
          "bar",
          "pluribus",
          "sugarpercent",
          "pricepercent",
          "winpercent",
          "popular"
         ],
         "xaxis": "x",
         "y": [
          "chocolate",
          "fruity",
          "caramel",
          "peanutyalmondy",
          "nougat",
          "crispedricewafer",
          "hard",
          "bar",
          "pluribus",
          "sugarpercent",
          "pricepercent",
          "winpercent",
          "popular"
         ],
         "yaxis": "y",
         "z": {
          "bdata": "AAAAAAAA8D+ppU/NLbznv1RpaFbq+88/+qVW5kIu2D+F3gjVJVDQP4OvaI9h1tU/zMgglP4G1r9VHhHwEh7jP1a3OwY9vdW/gQY829Kquj/InQHtTCbgP4uySl9YXuQ/+OcQ70fM4D+ppU/NLbznvwAAAAAAAPA/MizAr5d41b8xv3JNzo3Zv1c8H5pPPdG/Vzwfmk890b96IYg43ADZPxSLc9Bqe+C/tukUrLIu0z+7kpQz9Juhv3nCfgz9lNu/Hz0eWkph2L/x0yFEvo7Tv1RpaFbq+88/MizAr5d41b8AAAAAAADwPw/x7HTtY64/L/wlqAYG1T+T8mE5SkfLP3cJ6WOqUr+/jS/K2Jlf1T/RbWh+4UDRvwgLKNdPaMw/sjUWHeVG0D+QxfKkOVHLP+NglUipI80/+qVW5kIu2D8xv3JNzo3Zvw/x7HTtY64/AAAAAAAA8D+W8mE5SkfLP9PHkKPfEZK/WG4L2a1Pyr9FwEz5tqrQP6i5D0PKYcq/GEM2Q+l/tj9qR32kKsnTP457EJQN/9k/vo++V5e31j+F3gjVJVDQP1c8H5pPPdG/L/wlqAYG1T+W8mE5SkfLPwAAAAAAAPA/lW/5lm/5tr+Y6DugGsDBvw6ki+s4vOA/Im4bbZfc0785oLJxQoK/P4Nqk83wm8M/idH9OSGFyT/x7q6FhqjDP4OvaI9h1tU/Vzwfmk890b+T8mE5SkfLP9PHkKPfEZK/lW/5lm/5tr8AAAAAAADwP5foO6AawMG/wbi1Pbwe2z8aMPSswMLMv2s/cAM56LE/Xj3i10wC1T8LuxUpjcfUP4TPVUbEps4/zMgglP4G1r96IYg43ADZP3cJ6WOqUr+/WG4L2a1Pyr+Y6DugGsDBv5foO6AawMG/AAAAAAAA8D/XbN/MdvjQv10HS7TOwo0/L5SS+NeAtz83Ds4NXUfPvx8t3K5K3dO/qVy2acJQ179VHhHwEh7jPxSLc9Bqe+C/jS/K2Jlf1T9FwEz5tqrQPw6ki+s4vOA/wbi1Pbwe2z/XbN/MdvjQvwAAAAAAAPA/wm4StDT94r9ZrKKYoJi5P1N3c07JluA/MIcKTfaD2z96TBlCKc3ZP1a3OwY9vdW/tukUrLIu0z/RbWh+4UDRv6i5D0PKYcq/Im4bbZfc078aMPSswMLMv10HS7TOwo0/wm4StDT94r8AAAAAAADwPwbLTnjETqc/LhlfOvdCzL9s4mgpX6zPv3jVvHIqSMO/gQY829Kquj+7kpQz9JuhvwgLKNdPaMw/GEM2Q+l/tj85oLJxQoK/P2s/cAM56LE/L5SS+NeAtz9ZrKKYoJi5PwbLTnjETqc/AAAAAAAA8D/qhP7R6BnVP45gHAnPVM0/wLWyeyVWxz/InQHtTCbgP3nCfgz9lNu/sjUWHeVG0D9qR32kKsnTP4Nqk83wm8M/Xj3i10wC1T83Ds4NXUfPv1N3c07JluA/LhlfOvdCzL/qhP7R6BnVPwAAAAAAAPA/8X6Sv88Z1j8o7yRreSDXP4uySl9YXuQ/Hz0eWkph2L+QxfKkOVHLP457EJQN/9k/idH9OSGFyT8LuxUpjcfUPx8t3K5K3dO/MIcKTfaD2z9s4mgpX6zPv45gHAnPVM0/8X6Sv88Z1j8AAAAAAADwP0RH+eKgt+o/+OcQ70fM4D/x0yFEvo7Tv+NglUipI80/vo++V5e31j/x7q6FhqjDP4TPVUbEps4/qVy2acJQ1796TBlCKc3ZP3jVvHIqSMO/wLWyeyVWxz8o7yRreSDXP0RH+eKgt+o/AAAAAAAA8D8=",
          "dtype": "f8",
          "shape": "13, 13"
         }
        }
       ],
       "layout": {
        "coloraxis": {
         "colorscale": [
          [
           0,
           "#0d0887"
          ],
          [
           0.1111111111111111,
           "#46039f"
          ],
          [
           0.2222222222222222,
           "#7201a8"
          ],
          [
           0.3333333333333333,
           "#9c179e"
          ],
          [
           0.4444444444444444,
           "#bd3786"
          ],
          [
           0.5555555555555556,
           "#d8576b"
          ],
          [
           0.6666666666666666,
           "#ed7953"
          ],
          [
           0.7777777777777778,
           "#fb9f3a"
          ],
          [
           0.8888888888888888,
           "#fdca26"
          ],
          [
           1,
           "#f0f921"
          ]
         ]
        },
        "margin": {
         "t": 60
        },
        "template": {
         "data": {
          "bar": [
           {
            "error_x": {
             "color": "#2a3f5f"
            },
            "error_y": {
             "color": "#2a3f5f"
            },
            "marker": {
             "line": {
              "color": "#E5ECF6",
              "width": 0.5
             },
             "pattern": {
              "fillmode": "overlay",
              "size": 10,
              "solidity": 0.2
             }
            },
            "type": "bar"
           }
          ],
          "barpolar": [
           {
            "marker": {
             "line": {
              "color": "#E5ECF6",
              "width": 0.5
             },
             "pattern": {
              "fillmode": "overlay",
              "size": 10,
              "solidity": 0.2
             }
            },
            "type": "barpolar"
           }
          ],
          "carpet": [
           {
            "aaxis": {
             "endlinecolor": "#2a3f5f",
             "gridcolor": "white",
             "linecolor": "white",
             "minorgridcolor": "white",
             "startlinecolor": "#2a3f5f"
            },
            "baxis": {
             "endlinecolor": "#2a3f5f",
             "gridcolor": "white",
             "linecolor": "white",
             "minorgridcolor": "white",
             "startlinecolor": "#2a3f5f"
            },
            "type": "carpet"
           }
          ],
          "choropleth": [
           {
            "colorbar": {
             "outlinewidth": 0,
             "ticks": ""
            },
            "type": "choropleth"
           }
          ],
          "contour": [
           {
            "colorbar": {
             "outlinewidth": 0,
             "ticks": ""
            },
            "colorscale": [
             [
              0,
              "#0d0887"
             ],
             [
              0.1111111111111111,
              "#46039f"
             ],
             [
              0.2222222222222222,
              "#7201a8"
             ],
             [
              0.3333333333333333,
              "#9c179e"
             ],
             [
              0.4444444444444444,
              "#bd3786"
             ],
             [
              0.5555555555555556,
              "#d8576b"
             ],
             [
              0.6666666666666666,
              "#ed7953"
             ],
             [
              0.7777777777777778,
              "#fb9f3a"
             ],
             [
              0.8888888888888888,
              "#fdca26"
             ],
             [
              1,
              "#f0f921"
             ]
            ],
            "type": "contour"
           }
          ],
          "contourcarpet": [
           {
            "colorbar": {
             "outlinewidth": 0,
             "ticks": ""
            },
            "type": "contourcarpet"
           }
          ],
          "heatmap": [
           {
            "colorbar": {
             "outlinewidth": 0,
             "ticks": ""
            },
            "colorscale": [
             [
              0,
              "#0d0887"
             ],
             [
              0.1111111111111111,
              "#46039f"
             ],
             [
              0.2222222222222222,
              "#7201a8"
             ],
             [
              0.3333333333333333,
              "#9c179e"
             ],
             [
              0.4444444444444444,
              "#bd3786"
             ],
             [
              0.5555555555555556,
              "#d8576b"
             ],
             [
              0.6666666666666666,
              "#ed7953"
             ],
             [
              0.7777777777777778,
              "#fb9f3a"
             ],
             [
              0.8888888888888888,
              "#fdca26"
             ],
             [
              1,
              "#f0f921"
             ]
            ],
            "type": "heatmap"
           }
          ],
          "histogram": [
           {
            "marker": {
             "pattern": {
              "fillmode": "overlay",
              "size": 10,
              "solidity": 0.2
             }
            },
            "type": "histogram"
           }
          ],
          "histogram2d": [
           {
            "colorbar": {
             "outlinewidth": 0,
             "ticks": ""
            },
            "colorscale": [
             [
              0,
              "#0d0887"
             ],
             [
              0.1111111111111111,
              "#46039f"
             ],
             [
              0.2222222222222222,
              "#7201a8"
             ],
             [
              0.3333333333333333,
              "#9c179e"
             ],
             [
              0.4444444444444444,
              "#bd3786"
             ],
             [
              0.5555555555555556,
              "#d8576b"
             ],
             [
              0.6666666666666666,
              "#ed7953"
             ],
             [
              0.7777777777777778,
              "#fb9f3a"
             ],
             [
              0.8888888888888888,
              "#fdca26"
             ],
             [
              1,
              "#f0f921"
             ]
            ],
            "type": "histogram2d"
           }
          ],
          "histogram2dcontour": [
           {
            "colorbar": {
             "outlinewidth": 0,
             "ticks": ""
            },
            "colorscale": [
             [
              0,
              "#0d0887"
             ],
             [
              0.1111111111111111,
              "#46039f"
             ],
             [
              0.2222222222222222,
              "#7201a8"
             ],
             [
              0.3333333333333333,
              "#9c179e"
             ],
             [
              0.4444444444444444,
              "#bd3786"
             ],
             [
              0.5555555555555556,
              "#d8576b"
             ],
             [
              0.6666666666666666,
              "#ed7953"
             ],
             [
              0.7777777777777778,
              "#fb9f3a"
             ],
             [
              0.8888888888888888,
              "#fdca26"
             ],
             [
              1,
              "#f0f921"
             ]
            ],
            "type": "histogram2dcontour"
           }
          ],
          "mesh3d": [
           {
            "colorbar": {
             "outlinewidth": 0,
             "ticks": ""
            },
            "type": "mesh3d"
           }
          ],
          "parcoords": [
           {
            "line": {
             "colorbar": {
              "outlinewidth": 0,
              "ticks": ""
             }
            },
            "type": "parcoords"
           }
          ],
          "pie": [
           {
            "automargin": true,
            "type": "pie"
           }
          ],
          "scatter": [
           {
            "fillpattern": {
             "fillmode": "overlay",
             "size": 10,
             "solidity": 0.2
            },
            "type": "scatter"
           }
          ],
          "scatter3d": [
           {
            "line": {
             "colorbar": {
              "outlinewidth": 0,
              "ticks": ""
             }
            },
            "marker": {
             "colorbar": {
              "outlinewidth": 0,
              "ticks": ""
             }
            },
            "type": "scatter3d"
           }
          ],
          "scattercarpet": [
           {
            "marker": {
             "colorbar": {
              "outlinewidth": 0,
              "ticks": ""
             }
            },
            "type": "scattercarpet"
           }
          ],
          "scattergeo": [
           {
            "marker": {
             "colorbar": {
              "outlinewidth": 0,
              "ticks": ""
             }
            },
            "type": "scattergeo"
           }
          ],
          "scattergl": [
           {
            "marker": {
             "colorbar": {
              "outlinewidth": 0,
              "ticks": ""
             }
            },
            "type": "scattergl"
           }
          ],
          "scattermap": [
           {
            "marker": {
             "colorbar": {
              "outlinewidth": 0,
              "ticks": ""
             }
            },
            "type": "scattermap"
           }
          ],
          "scattermapbox": [
           {
            "marker": {
             "colorbar": {
              "outlinewidth": 0,
              "ticks": ""
             }
            },
            "type": "scattermapbox"
           }
          ],
          "scatterpolar": [
           {
            "marker": {
             "colorbar": {
              "outlinewidth": 0,
              "ticks": ""
             }
            },
            "type": "scatterpolar"
           }
          ],
          "scatterpolargl": [
           {
            "marker": {
             "colorbar": {
              "outlinewidth": 0,
              "ticks": ""
             }
            },
            "type": "scatterpolargl"
           }
          ],
          "scatterternary": [
           {
            "marker": {
             "colorbar": {
              "outlinewidth": 0,
              "ticks": ""
             }
            },
            "type": "scatterternary"
           }
          ],
          "surface": [
           {
            "colorbar": {
             "outlinewidth": 0,
             "ticks": ""
            },
            "colorscale": [
             [
              0,
              "#0d0887"
             ],
             [
              0.1111111111111111,
              "#46039f"
             ],
             [
              0.2222222222222222,
              "#7201a8"
             ],
             [
              0.3333333333333333,
              "#9c179e"
             ],
             [
              0.4444444444444444,
              "#bd3786"
             ],
             [
              0.5555555555555556,
              "#d8576b"
             ],
             [
              0.6666666666666666,
              "#ed7953"
             ],
             [
              0.7777777777777778,
              "#fb9f3a"
             ],
             [
              0.8888888888888888,
              "#fdca26"
             ],
             [
              1,
              "#f0f921"
             ]
            ],
            "type": "surface"
           }
          ],
          "table": [
           {
            "cells": {
             "fill": {
              "color": "#EBF0F8"
             },
             "line": {
              "color": "white"
             }
            },
            "header": {
             "fill": {
              "color": "#C8D4E3"
             },
             "line": {
              "color": "white"
             }
            },
            "type": "table"
           }
          ]
         },
         "layout": {
          "annotationdefaults": {
           "arrowcolor": "#2a3f5f",
           "arrowhead": 0,
           "arrowwidth": 1
          },
          "autotypenumbers": "strict",
          "coloraxis": {
           "colorbar": {
            "outlinewidth": 0,
            "ticks": ""
           }
          },
          "colorscale": {
           "diverging": [
            [
             0,
             "#8e0152"
            ],
            [
             0.1,
             "#c51b7d"
            ],
            [
             0.2,
             "#de77ae"
            ],
            [
             0.3,
             "#f1b6da"
            ],
            [
             0.4,
             "#fde0ef"
            ],
            [
             0.5,
             "#f7f7f7"
            ],
            [
             0.6,
             "#e6f5d0"
            ],
            [
             0.7,
             "#b8e186"
            ],
            [
             0.8,
             "#7fbc41"
            ],
            [
             0.9,
             "#4d9221"
            ],
            [
             1,
             "#276419"
            ]
           ],
           "sequential": [
            [
             0,
             "#0d0887"
            ],
            [
             0.1111111111111111,
             "#46039f"
            ],
            [
             0.2222222222222222,
             "#7201a8"
            ],
            [
             0.3333333333333333,
             "#9c179e"
            ],
            [
             0.4444444444444444,
             "#bd3786"
            ],
            [
             0.5555555555555556,
             "#d8576b"
            ],
            [
             0.6666666666666666,
             "#ed7953"
            ],
            [
             0.7777777777777778,
             "#fb9f3a"
            ],
            [
             0.8888888888888888,
             "#fdca26"
            ],
            [
             1,
             "#f0f921"
            ]
           ],
           "sequentialminus": [
            [
             0,
             "#0d0887"
            ],
            [
             0.1111111111111111,
             "#46039f"
            ],
            [
             0.2222222222222222,
             "#7201a8"
            ],
            [
             0.3333333333333333,
             "#9c179e"
            ],
            [
             0.4444444444444444,
             "#bd3786"
            ],
            [
             0.5555555555555556,
             "#d8576b"
            ],
            [
             0.6666666666666666,
             "#ed7953"
            ],
            [
             0.7777777777777778,
             "#fb9f3a"
            ],
            [
             0.8888888888888888,
             "#fdca26"
            ],
            [
             1,
             "#f0f921"
            ]
           ]
          },
          "colorway": [
           "#636efa",
           "#EF553B",
           "#00cc96",
           "#ab63fa",
           "#FFA15A",
           "#19d3f3",
           "#FF6692",
           "#B6E880",
           "#FF97FF",
           "#FECB52"
          ],
          "font": {
           "color": "#2a3f5f"
          },
          "geo": {
           "bgcolor": "white",
           "lakecolor": "white",
           "landcolor": "#E5ECF6",
           "showlakes": true,
           "showland": true,
           "subunitcolor": "white"
          },
          "hoverlabel": {
           "align": "left"
          },
          "hovermode": "closest",
          "mapbox": {
           "style": "light"
          },
          "paper_bgcolor": "white",
          "plot_bgcolor": "#E5ECF6",
          "polar": {
           "angularaxis": {
            "gridcolor": "white",
            "linecolor": "white",
            "ticks": ""
           },
           "bgcolor": "#E5ECF6",
           "radialaxis": {
            "gridcolor": "white",
            "linecolor": "white",
            "ticks": ""
           }
          },
          "scene": {
           "xaxis": {
            "backgroundcolor": "#E5ECF6",
            "gridcolor": "white",
            "gridwidth": 2,
            "linecolor": "white",
            "showbackground": true,
            "ticks": "",
            "zerolinecolor": "white"
           },
           "yaxis": {
            "backgroundcolor": "#E5ECF6",
            "gridcolor": "white",
            "gridwidth": 2,
            "linecolor": "white",
            "showbackground": true,
            "ticks": "",
            "zerolinecolor": "white"
           },
           "zaxis": {
            "backgroundcolor": "#E5ECF6",
            "gridcolor": "white",
            "gridwidth": 2,
            "linecolor": "white",
            "showbackground": true,
            "ticks": "",
            "zerolinecolor": "white"
           }
          },
          "shapedefaults": {
           "line": {
            "color": "#2a3f5f"
           }
          },
          "ternary": {
           "aaxis": {
            "gridcolor": "white",
            "linecolor": "white",
            "ticks": ""
           },
           "baxis": {
            "gridcolor": "white",
            "linecolor": "white",
            "ticks": ""
           },
           "bgcolor": "#E5ECF6",
           "caxis": {
            "gridcolor": "white",
            "linecolor": "white",
            "ticks": ""
           }
          },
          "title": {
           "x": 0.05
          },
          "xaxis": {
           "automargin": true,
           "gridcolor": "white",
           "linecolor": "white",
           "ticks": "",
           "title": {
            "standoff": 15
           },
           "zerolinecolor": "white",
           "zerolinewidth": 2
          },
          "yaxis": {
           "automargin": true,
           "gridcolor": "white",
           "linecolor": "white",
           "ticks": "",
           "title": {
            "standoff": 15
           },
           "zerolinecolor": "white",
           "zerolinewidth": 2
          }
         }
        },
        "xaxis": {
         "anchor": "y",
         "constrain": "domain",
         "domain": [
          0,
          1
         ],
         "scaleanchor": "y"
        },
        "yaxis": {
         "anchor": "x",
         "autorange": "reversed",
         "constrain": "domain",
         "domain": [
          0,
          1
         ]
        }
       }
      },
      "image/png": "[encoded data removed]"
     },
     "metadata": {},
     "output_type": "display_data"
    }
   ],
   "source": [
    "px.imshow(dataframe.corr(),x= (dataframe.columns),y= (dataframe.columns))\n",
    "\n",
    "#<xml xmlns=\"https://developers.google.com/blockly/xml\"><variables><variable id=\"+yh,Zg{hON]zy6D~.rH#\">px</variable><variable id=\"-(zD`=)|+6ZJe1eZ)t2_\">dataframe</variable></variables><block type=\"varDoMethod\" id=\"7PkTI5@+A6#C}J7CTmyF\" x=\"85\" y=\"71\"><mutation items=\"3\"></mutation><field name=\"VAR\" id=\"+yh,Zg{hON]zy6D~.rH#\">px</field><field name=\"MEMBER\">imshow</field><data>px:imshow</data><value name=\"ADD0\"><block type=\"varDoMethod\" id=\"?iaY9MJ88^K?_+|.(F,c\"><mutation items=\"1\"></mutation><field name=\"VAR\" id=\"-(zD`=)|+6ZJe1eZ)t2_\">dataframe</field><field name=\"MEMBER\">corr</field><data>dataframe:corr</data></block></value><value name=\"ADD1\"><block type=\"valueOutputCodeBlock\" id=\"WnnnMxlneM;E!_f#Ii$^\"><field name=\"CODE\">x=</field><value name=\"INPUT\"><block type=\"varGetProperty\" id=\"(l1WsMK=Bs_tLeZfLo8Y\"><field name=\"VAR\" id=\"-(zD`=)|+6ZJe1eZ)t2_\">dataframe</field><field name=\"MEMBER\">columns</field><data>dataframe:columns</data></block></value></block></value><value name=\"ADD2\"><block type=\"valueOutputCodeBlock\" id=\".dnkwWtKdzeJ:Hy*Rc/N\"><field name=\"CODE\">y=</field><value name=\"INPUT\"><block type=\"varGetProperty\" id=\"91us[f5X^$;!RDP:W7Vq\"><field name=\"VAR\" id=\"-(zD`=)|+6ZJe1eZ)t2_\">dataframe</field><field name=\"MEMBER\">columns</field><data>dataframe:columns</data></block></value></block></value></block></xml>"
   ]
  },
  {
   "cell_type": "markdown",
   "metadata": {},
   "source": [
    "----------------------------\n",
    "**QUESTION:**\n",
    "\n",
    "Look at the first two columns.\n",
    "What variables do these correspond to?"
   ]
  },
  {
   "cell_type": "markdown",
   "metadata": {},
   "source": [
    "**ANSWER: (click here to edit)**\n",
    "\n",
    "*Chocolate and fruity*\n",
    "\n",
    "<hr>"
   ]
  },
  {
   "cell_type": "markdown",
   "metadata": {},
   "source": [
    "**QUESTION:**\n",
    "\n",
    "How would you describe their pattern of correlation with other variables?"
   ]
  },
  {
   "cell_type": "markdown",
   "metadata": {},
   "source": [
    "**ANSWER: (click here to edit)**\n",
    "\n",
    "*They appear to correlate with other variables in opposite ways: where one is positive, the other is negative*\n",
    "\n",
    "<hr>"
   ]
  },
  {
   "cell_type": "markdown",
   "metadata": {},
   "source": [
    "## Prepare train/test sets\n",
    "\n",
    "You need to split the dataframe into training data and testing data, and also separate the predictors from the class labels.\n",
    "\n",
    "Start by dropping the label, `popular`, and its counterpart, `winpercent`, to make a new dataframe called `X`."
   ]
  },
  {
   "cell_type": "code",
   "execution_count": 26,
   "metadata": {
    "user_blocks": [
     "variables_set",
     "varDoMethod",
     "dummyOutputCodeBlock",
     "variables_get"
    ],
    "user_blocks_xml": "<xml xmlns=\"https://developers.google.com/blockly/xml\"><variables><variable id=\"_z/H/tTnOYS1Lla2~;*0\">X</variable><variable id=\"-(zD`=)|+6ZJe1eZ)t2_\">dataframe</variable></variables><block type=\"variables_set\" id=\"M9g^9:hbZQ0Cb9jKq9V6\" x=\"156\" y=\"135\"><field name=\"VAR\" id=\"_z/H/tTnOYS1Lla2~;*0\">X</field><value name=\"VALUE\"><block type=\"varDoMethod\" id=\"HF9HKI:lNqY;?[|G]m=P\"><mutation items=\"1\"></mutation><field name=\"VAR\" id=\"-(zD`=)|+6ZJe1eZ)t2_\">dataframe</field><field name=\"MEMBER\">drop</field><data>dataframe:drop</data><value name=\"ADD0\"><block type=\"dummyOutputCodeBlock\" id=\"WkdEs~{tWz~8u4:XkYHO\"><field name=\"CODE\">columns=['popular','winpercent']</field></block></value></block></value></block><block type=\"variables_get\" id=\"/Nr.JW@/a.GBv5TY]doh\" x=\"8\" y=\"296\"><field name=\"VAR\" id=\"_z/H/tTnOYS1Lla2~;*0\">X</field></block></xml>",
    "user_code_from_blocks": "X = dataframe.drop(columns=['popular','winpercent'])\n\nX\n"
   },
   "outputs": [
    {
     "data": {
      "text/html": [
       "<div>\n",
       "<style scoped>\n",
       "    .dataframe tbody tr th:only-of-type {\n",
       "        vertical-align: middle;\n",
       "    }\n",
       "\n",
       "    .dataframe tbody tr th {\n",
       "        vertical-align: top;\n",
       "    }\n",
       "\n",
       "    .dataframe thead th {\n",
       "        text-align: right;\n",
       "    }\n",
       "</style>\n",
       "<table border=\"1\" class=\"dataframe\">\n",
       "  <thead>\n",
       "    <tr style=\"text-align: right;\">\n",
       "      <th></th>\n",
       "      <th>chocolate</th>\n",
       "      <th>fruity</th>\n",
       "      <th>caramel</th>\n",
       "      <th>peanutyalmondy</th>\n",
       "      <th>nougat</th>\n",
       "      <th>crispedricewafer</th>\n",
       "      <th>hard</th>\n",
       "      <th>bar</th>\n",
       "      <th>pluribus</th>\n",
       "      <th>sugarpercent</th>\n",
       "      <th>pricepercent</th>\n",
       "    </tr>\n",
       "    <tr>\n",
       "      <th>competitorname</th>\n",
       "      <th></th>\n",
       "      <th></th>\n",
       "      <th></th>\n",
       "      <th></th>\n",
       "      <th></th>\n",
       "      <th></th>\n",
       "      <th></th>\n",
       "      <th></th>\n",
       "      <th></th>\n",
       "      <th></th>\n",
       "      <th></th>\n",
       "    </tr>\n",
       "  </thead>\n",
       "  <tbody>\n",
       "    <tr>\n",
       "      <th>100 Grand</th>\n",
       "      <td>1</td>\n",
       "      <td>0</td>\n",
       "      <td>1</td>\n",
       "      <td>0</td>\n",
       "      <td>0</td>\n",
       "      <td>1</td>\n",
       "      <td>0</td>\n",
       "      <td>1</td>\n",
       "      <td>0</td>\n",
       "      <td>0.732</td>\n",
       "      <td>0.860</td>\n",
       "    </tr>\n",
       "    <tr>\n",
       "      <th>3 Musketeers</th>\n",
       "      <td>1</td>\n",
       "      <td>0</td>\n",
       "      <td>0</td>\n",
       "      <td>0</td>\n",
       "      <td>1</td>\n",
       "      <td>0</td>\n",
       "      <td>0</td>\n",
       "      <td>1</td>\n",
       "      <td>0</td>\n",
       "      <td>0.604</td>\n",
       "      <td>0.511</td>\n",
       "    </tr>\n",
       "    <tr>\n",
       "      <th>One dime</th>\n",
       "      <td>0</td>\n",
       "      <td>0</td>\n",
       "      <td>0</td>\n",
       "      <td>0</td>\n",
       "      <td>0</td>\n",
       "      <td>0</td>\n",
       "      <td>0</td>\n",
       "      <td>0</td>\n",
       "      <td>0</td>\n",
       "      <td>0.011</td>\n",
       "      <td>0.116</td>\n",
       "    </tr>\n",
       "    <tr>\n",
       "      <th>One quarter</th>\n",
       "      <td>0</td>\n",
       "      <td>0</td>\n",
       "      <td>0</td>\n",
       "      <td>0</td>\n",
       "      <td>0</td>\n",
       "      <td>0</td>\n",
       "      <td>0</td>\n",
       "      <td>0</td>\n",
       "      <td>0</td>\n",
       "      <td>0.011</td>\n",
       "      <td>0.511</td>\n",
       "    </tr>\n",
       "    <tr>\n",
       "      <th>Air Heads</th>\n",
       "      <td>0</td>\n",
       "      <td>1</td>\n",
       "      <td>0</td>\n",
       "      <td>0</td>\n",
       "      <td>0</td>\n",
       "      <td>0</td>\n",
       "      <td>0</td>\n",
       "      <td>0</td>\n",
       "      <td>0</td>\n",
       "      <td>0.906</td>\n",
       "      <td>0.511</td>\n",
       "    </tr>\n",
       "    <tr>\n",
       "      <th>...</th>\n",
       "      <td>...</td>\n",
       "      <td>...</td>\n",
       "      <td>...</td>\n",
       "      <td>...</td>\n",
       "      <td>...</td>\n",
       "      <td>...</td>\n",
       "      <td>...</td>\n",
       "      <td>...</td>\n",
       "      <td>...</td>\n",
       "      <td>...</td>\n",
       "      <td>...</td>\n",
       "    </tr>\n",
       "    <tr>\n",
       "      <th>Twizzlers</th>\n",
       "      <td>0</td>\n",
       "      <td>1</td>\n",
       "      <td>0</td>\n",
       "      <td>0</td>\n",
       "      <td>0</td>\n",
       "      <td>0</td>\n",
       "      <td>0</td>\n",
       "      <td>0</td>\n",
       "      <td>0</td>\n",
       "      <td>0.220</td>\n",
       "      <td>0.116</td>\n",
       "    </tr>\n",
       "    <tr>\n",
       "      <th>Warheads</th>\n",
       "      <td>0</td>\n",
       "      <td>1</td>\n",
       "      <td>0</td>\n",
       "      <td>0</td>\n",
       "      <td>0</td>\n",
       "      <td>0</td>\n",
       "      <td>1</td>\n",
       "      <td>0</td>\n",
       "      <td>0</td>\n",
       "      <td>0.093</td>\n",
       "      <td>0.116</td>\n",
       "    </tr>\n",
       "    <tr>\n",
       "      <th>WelchÕs Fruit Snacks</th>\n",
       "      <td>0</td>\n",
       "      <td>1</td>\n",
       "      <td>0</td>\n",
       "      <td>0</td>\n",
       "      <td>0</td>\n",
       "      <td>0</td>\n",
       "      <td>0</td>\n",
       "      <td>0</td>\n",
       "      <td>1</td>\n",
       "      <td>0.313</td>\n",
       "      <td>0.313</td>\n",
       "    </tr>\n",
       "    <tr>\n",
       "      <th>WertherÕs Original Caramel</th>\n",
       "      <td>0</td>\n",
       "      <td>0</td>\n",
       "      <td>1</td>\n",
       "      <td>0</td>\n",
       "      <td>0</td>\n",
       "      <td>0</td>\n",
       "      <td>1</td>\n",
       "      <td>0</td>\n",
       "      <td>0</td>\n",
       "      <td>0.186</td>\n",
       "      <td>0.267</td>\n",
       "    </tr>\n",
       "    <tr>\n",
       "      <th>Whoppers</th>\n",
       "      <td>1</td>\n",
       "      <td>0</td>\n",
       "      <td>0</td>\n",
       "      <td>0</td>\n",
       "      <td>0</td>\n",
       "      <td>1</td>\n",
       "      <td>0</td>\n",
       "      <td>0</td>\n",
       "      <td>1</td>\n",
       "      <td>0.872</td>\n",
       "      <td>0.848</td>\n",
       "    </tr>\n",
       "  </tbody>\n",
       "</table>\n",
       "<p>85 rows × 11 columns</p>\n",
       "</div>"
      ],
      "text/plain": [
       "                            chocolate  fruity  caramel  peanutyalmondy  \\\n",
       "competitorname                                                           \n",
       "100 Grand                           1       0        1               0   \n",
       "3 Musketeers                        1       0        0               0   \n",
       "One dime                            0       0        0               0   \n",
       "One quarter                         0       0        0               0   \n",
       "Air Heads                           0       1        0               0   \n",
       "...                               ...     ...      ...             ...   \n",
       "Twizzlers                           0       1        0               0   \n",
       "Warheads                            0       1        0               0   \n",
       "WelchÕs Fruit Snacks                0       1        0               0   \n",
       "WertherÕs Original Caramel          0       0        1               0   \n",
       "Whoppers                            1       0        0               0   \n",
       "\n",
       "                            nougat  crispedricewafer  hard  bar  pluribus  \\\n",
       "competitorname                                                              \n",
       "100 Grand                        0                 1     0    1         0   \n",
       "3 Musketeers                     1                 0     0    1         0   \n",
       "One dime                         0                 0     0    0         0   \n",
       "One quarter                      0                 0     0    0         0   \n",
       "Air Heads                        0                 0     0    0         0   \n",
       "...                            ...               ...   ...  ...       ...   \n",
       "Twizzlers                        0                 0     0    0         0   \n",
       "Warheads                         0                 0     1    0         0   \n",
       "WelchÕs Fruit Snacks             0                 0     0    0         1   \n",
       "WertherÕs Original Caramel       0                 0     1    0         0   \n",
       "Whoppers                         0                 1     0    0         1   \n",
       "\n",
       "                            sugarpercent  pricepercent  \n",
       "competitorname                                          \n",
       "100 Grand                          0.732         0.860  \n",
       "3 Musketeers                       0.604         0.511  \n",
       "One dime                           0.011         0.116  \n",
       "One quarter                        0.011         0.511  \n",
       "Air Heads                          0.906         0.511  \n",
       "...                                  ...           ...  \n",
       "Twizzlers                          0.220         0.116  \n",
       "Warheads                           0.093         0.116  \n",
       "WelchÕs Fruit Snacks               0.313         0.313  \n",
       "WertherÕs Original Caramel         0.186         0.267  \n",
       "Whoppers                           0.872         0.848  \n",
       "\n",
       "[85 rows x 11 columns]"
      ]
     },
     "execution_count": 26,
     "metadata": {},
     "output_type": "execute_result"
    }
   ],
   "source": [
    "X = dataframe.drop(columns=['popular','winpercent'])\n",
    "\n",
    "X\n",
    "\n",
    "#<xml xmlns=\"https://developers.google.com/blockly/xml\"><variables><variable id=\"_z/H/tTnOYS1Lla2~;*0\">X</variable><variable id=\"-(zD`=)|+6ZJe1eZ)t2_\">dataframe</variable></variables><block type=\"variables_set\" id=\"M9g^9:hbZQ0Cb9jKq9V6\" x=\"156\" y=\"135\"><field name=\"VAR\" id=\"_z/H/tTnOYS1Lla2~;*0\">X</field><value name=\"VALUE\"><block type=\"varDoMethod\" id=\"HF9HKI:lNqY;?[|G]m=P\"><mutation items=\"1\"></mutation><field name=\"VAR\" id=\"-(zD`=)|+6ZJe1eZ)t2_\">dataframe</field><field name=\"MEMBER\">drop</field><data>dataframe:drop</data><value name=\"ADD0\"><block type=\"dummyOutputCodeBlock\" id=\"WkdEs~{tWz~8u4:XkYHO\"><field name=\"CODE\">columns=['popular','winpercent']</field></block></value></block></value></block><block type=\"variables_get\" id=\"/Nr.JW@/a.GBv5TY]doh\" x=\"8\" y=\"296\"><field name=\"VAR\" id=\"_z/H/tTnOYS1Lla2~;*0\">X</field></block></xml>"
   ]
  },
  {
   "cell_type": "markdown",
   "metadata": {},
   "source": [
    "Save a dataframe with just `popular` in `Y`."
   ]
  },
  {
   "cell_type": "code",
   "execution_count": 27,
   "metadata": {
    "user_blocks": [
     "variables_set",
     "indexer",
     "lists_create_with",
     "text",
     "variables_get"
    ],
    "user_blocks_xml": "<xml xmlns=\"https://developers.google.com/blockly/xml\"><variables><variable id=\"o8#tp%!,_Okj2aVwX(DL\">Y</variable><variable id=\"-(zD`=)|+6ZJe1eZ)t2_\">dataframe</variable></variables><block type=\"variables_set\" id=\"}]#HEKuNXU,bl61JboC+\" x=\"19\" y=\"268\"><field name=\"VAR\" id=\"o8#tp%!,_Okj2aVwX(DL\">Y</field><value name=\"VALUE\"><block type=\"indexer\" id=\"y*#)DVgO!%@-E$_~HpE)\"><field name=\"VAR\" id=\"-(zD`=)|+6ZJe1eZ)t2_\">dataframe</field><value name=\"INDEX\"><block type=\"lists_create_with\" id=\"1U,=SV*5.xPNGBe$e2!(\"><mutation items=\"1\"></mutation><value name=\"ADD0\"><block type=\"text\" id=\"77J3q}D!9)x]F3BujI.x\"><field name=\"TEXT\">popular</field></block></value></block></value></block></value></block><block type=\"variables_get\" id=\"IW~Wh/Ymz%;;U$NRbzs}\" x=\"21\" y=\"332\"><field name=\"VAR\" id=\"o8#tp%!,_Okj2aVwX(DL\">Y</field></block></xml>",
    "user_code_from_blocks": "Y = dataframe[['popular']]\n\nY\n"
   },
   "outputs": [
    {
     "data": {
      "text/html": [
       "<div>\n",
       "<style scoped>\n",
       "    .dataframe tbody tr th:only-of-type {\n",
       "        vertical-align: middle;\n",
       "    }\n",
       "\n",
       "    .dataframe tbody tr th {\n",
       "        vertical-align: top;\n",
       "    }\n",
       "\n",
       "    .dataframe thead th {\n",
       "        text-align: right;\n",
       "    }\n",
       "</style>\n",
       "<table border=\"1\" class=\"dataframe\">\n",
       "  <thead>\n",
       "    <tr style=\"text-align: right;\">\n",
       "      <th></th>\n",
       "      <th>popular</th>\n",
       "    </tr>\n",
       "    <tr>\n",
       "      <th>competitorname</th>\n",
       "      <th></th>\n",
       "    </tr>\n",
       "  </thead>\n",
       "  <tbody>\n",
       "    <tr>\n",
       "      <th>100 Grand</th>\n",
       "      <td>1</td>\n",
       "    </tr>\n",
       "    <tr>\n",
       "      <th>3 Musketeers</th>\n",
       "      <td>1</td>\n",
       "    </tr>\n",
       "    <tr>\n",
       "      <th>One dime</th>\n",
       "      <td>0</td>\n",
       "    </tr>\n",
       "    <tr>\n",
       "      <th>One quarter</th>\n",
       "      <td>0</td>\n",
       "    </tr>\n",
       "    <tr>\n",
       "      <th>Air Heads</th>\n",
       "      <td>1</td>\n",
       "    </tr>\n",
       "    <tr>\n",
       "      <th>...</th>\n",
       "      <td>...</td>\n",
       "    </tr>\n",
       "    <tr>\n",
       "      <th>Twizzlers</th>\n",
       "      <td>0</td>\n",
       "    </tr>\n",
       "    <tr>\n",
       "      <th>Warheads</th>\n",
       "      <td>0</td>\n",
       "    </tr>\n",
       "    <tr>\n",
       "      <th>WelchÕs Fruit Snacks</th>\n",
       "      <td>0</td>\n",
       "    </tr>\n",
       "    <tr>\n",
       "      <th>WertherÕs Original Caramel</th>\n",
       "      <td>0</td>\n",
       "    </tr>\n",
       "    <tr>\n",
       "      <th>Whoppers</th>\n",
       "      <td>0</td>\n",
       "    </tr>\n",
       "  </tbody>\n",
       "</table>\n",
       "<p>85 rows × 1 columns</p>\n",
       "</div>"
      ],
      "text/plain": [
       "                            popular\n",
       "competitorname                     \n",
       "100 Grand                         1\n",
       "3 Musketeers                      1\n",
       "One dime                          0\n",
       "One quarter                       0\n",
       "Air Heads                         1\n",
       "...                             ...\n",
       "Twizzlers                         0\n",
       "Warheads                          0\n",
       "WelchÕs Fruit Snacks              0\n",
       "WertherÕs Original Caramel        0\n",
       "Whoppers                          0\n",
       "\n",
       "[85 rows x 1 columns]"
      ]
     },
     "execution_count": 27,
     "metadata": {},
     "output_type": "execute_result"
    }
   ],
   "source": [
    "Y = dataframe[['popular']]\n",
    "\n",
    "Y\n",
    "\n",
    "#<xml xmlns=\"https://developers.google.com/blockly/xml\"><variables><variable id=\"o8#tp%!,_Okj2aVwX(DL\">Y</variable><variable id=\"-(zD`=)|+6ZJe1eZ)t2_\">dataframe</variable></variables><block type=\"variables_set\" id=\"}]#HEKuNXU,bl61JboC+\" x=\"19\" y=\"268\"><field name=\"VAR\" id=\"o8#tp%!,_Okj2aVwX(DL\">Y</field><value name=\"VALUE\"><block type=\"indexer\" id=\"y*#)DVgO!%@-E$_~HpE)\"><field name=\"VAR\" id=\"-(zD`=)|+6ZJe1eZ)t2_\">dataframe</field><value name=\"INDEX\"><block type=\"lists_create_with\" id=\"1U,=SV*5.xPNGBe$e2!(\"><mutation items=\"1\"></mutation><value name=\"ADD0\"><block type=\"text\" id=\"77J3q}D!9)x]F3BujI.x\"><field name=\"TEXT\">popular</field></block></value></block></value></block></value></block><block type=\"variables_get\" id=\"IW~Wh/Ymz%;;U$NRbzs}\" x=\"21\" y=\"332\"><field name=\"VAR\" id=\"o8#tp%!,_Okj2aVwX(DL\">Y</field></block></xml>"
   ]
  },
  {
   "cell_type": "markdown",
   "metadata": {},
   "source": [
    "Import `sklearn.model_selection` to split `X` and `Y` into train and test sets."
   ]
  },
  {
   "cell_type": "code",
   "execution_count": 28,
   "metadata": {
    "user_blocks": [
     "importAs"
    ],
    "user_blocks_xml": "<xml xmlns=\"https://developers.google.com/blockly/xml\"><variables><variable id=\"-q~R*yx.VGQ@%!0Q+!gh\">model_selection</variable></variables><block type=\"importAs\" id=\"E{QJ$O@lc8u.;OTWdVgf\" x=\"-89\" y=\"168\"><field name=\"libraryName\">sklearn.model_selection</field><field name=\"VAR\" id=\"-q~R*yx.VGQ@%!0Q+!gh\">model_selection</field></block></xml>",
    "user_code_from_blocks": "import sklearn.model_selection as model_selection\n"
   },
   "outputs": [],
   "source": [
    "import sklearn.model_selection as model_selection\n",
    "\n",
    "#<xml xmlns=\"https://developers.google.com/blockly/xml\"><variables><variable id=\"-q~R*yx.VGQ@%!0Q+!gh\">model_selection</variable></variables><block type=\"importAs\" id=\"E{QJ$O@lc8u.;OTWdVgf\" x=\"-89\" y=\"168\"><field name=\"libraryName\">sklearn.model_selection</field><field name=\"VAR\" id=\"-q~R*yx.VGQ@%!0Q+!gh\">model_selection</field></block></xml>"
   ]
  },
  {
   "cell_type": "markdown",
   "metadata": {},
   "source": [
    "Now do the splits. Use `random_state=1` so we all get the same answer"
   ]
  },
  {
   "cell_type": "code",
   "execution_count": 29,
   "metadata": {
    "user_blocks": [
     "variables_set",
     "varDoMethod",
     "variables_get",
     "variables_get",
     "dummyOutputCodeBlock"
    ],
    "user_blocks_xml": "<xml xmlns=\"https://developers.google.com/blockly/xml\"><variables><variable id=\"{Yt*9=2tTC$JepE9BcRz\">splits</variable><variable id=\"-q~R*yx.VGQ@%!0Q+!gh\">model_selection</variable><variable id=\"_z/H/tTnOYS1Lla2~;*0\">X</variable><variable id=\"o8#tp%!,_Okj2aVwX(DL\">Y</variable></variables><block type=\"variables_set\" id=\"HpD!.HSC`PPRg]21i*7c\" x=\"-75\" y=\"149\"><field name=\"VAR\" id=\"{Yt*9=2tTC$JepE9BcRz\">splits</field><value name=\"VALUE\"><block type=\"varDoMethod\" id=\"fUetl3$Ak=SI~T6T5!6c\"><mutation items=\"3\"></mutation><field name=\"VAR\" id=\"-q~R*yx.VGQ@%!0Q+!gh\">model_selection</field><field name=\"MEMBER\">train_test_split</field><data>model_selection:train_test_split</data><value name=\"ADD0\"><block type=\"variables_get\" id=\"jN^;NIVaV%22*W_^|!uK\"><field name=\"VAR\" id=\"_z/H/tTnOYS1Lla2~;*0\">X</field></block></value><value name=\"ADD1\"><block type=\"variables_get\" id=\"OOZSj;YDm{T6q%{~5?B1\"><field name=\"VAR\" id=\"o8#tp%!,_Okj2aVwX(DL\">Y</field></block></value><value name=\"ADD2\"><block type=\"dummyOutputCodeBlock\" id=\"Gg*^%q4qIJwc*of,V|rb\"><field name=\"CODE\">random_state=1</field></block></value></block></value></block></xml>",
    "user_code_from_blocks": "splits = model_selection.train_test_split(X,Y,random_state=1)\n"
   },
   "outputs": [],
   "source": [
    "splits = model_selection.train_test_split(X,Y,random_state=1)\n",
    "\n",
    "#<xml xmlns=\"https://developers.google.com/blockly/xml\"><variables><variable id=\"{Yt*9=2tTC$JepE9BcRz\">splits</variable><variable id=\"-q~R*yx.VGQ@%!0Q+!gh\">model_selection</variable><variable id=\"_z/H/tTnOYS1Lla2~;*0\">X</variable><variable id=\"o8#tp%!,_Okj2aVwX(DL\">Y</variable></variables><block type=\"variables_set\" id=\"HpD!.HSC`PPRg]21i*7c\" x=\"-75\" y=\"149\"><field name=\"VAR\" id=\"{Yt*9=2tTC$JepE9BcRz\">splits</field><value name=\"VALUE\"><block type=\"varDoMethod\" id=\"fUetl3$Ak=SI~T6T5!6c\"><mutation items=\"3\"></mutation><field name=\"VAR\" id=\"-q~R*yx.VGQ@%!0Q+!gh\">model_selection</field><field name=\"MEMBER\">train_test_split</field><data>model_selection:train_test_split</data><value name=\"ADD0\"><block type=\"variables_get\" id=\"jN^;NIVaV%22*W_^|!uK\"><field name=\"VAR\" id=\"_z/H/tTnOYS1Lla2~;*0\">X</field></block></value><value name=\"ADD1\"><block type=\"variables_get\" id=\"OOZSj;YDm{T6q%{~5?B1\"><field name=\"VAR\" id=\"o8#tp%!,_Okj2aVwX(DL\">Y</field></block></value><value name=\"ADD2\"><block type=\"dummyOutputCodeBlock\" id=\"Gg*^%q4qIJwc*of,V|rb\"><field name=\"CODE\">random_state=1</field></block></value></block></value></block></xml>"
   ]
  },
  {
   "cell_type": "markdown",
   "metadata": {},
   "source": [
    "## Decision tree model\n",
    "\n",
    "First import `sklearn.tree`."
   ]
  },
  {
   "cell_type": "code",
   "execution_count": 30,
   "metadata": {
    "user_blocks": [
     "importAs"
    ],
    "user_blocks_xml": "<xml xmlns=\"https://developers.google.com/blockly/xml\"><variables><variable id=\"tkeU~z;dQ]^6[?rbF?)9\">tree</variable></variables><block type=\"importAs\" id=\"?`a/SEo[mr`kFXR@l=`@\" x=\"16\" y=\"10\"><field name=\"libraryName\">sklearn.tree</field><field name=\"VAR\" id=\"tkeU~z;dQ]^6[?rbF?)9\">tree</field></block></xml>",
    "user_code_from_blocks": "import sklearn.tree as tree\n"
   },
   "outputs": [],
   "source": [
    "import sklearn.tree as tree\n",
    "\n",
    "#<xml xmlns=\"https://developers.google.com/blockly/xml\"><variables><variable id=\"tkeU~z;dQ]^6[?rbF?)9\">tree</variable></variables><block type=\"importAs\" id=\"?`a/SEo[mr`kFXR@l=`@\" x=\"16\" y=\"10\"><field name=\"libraryName\">sklearn.tree</field><field name=\"VAR\" id=\"tkeU~z;dQ]^6[?rbF?)9\">tree</field></block></xml>"
   ]
  },
  {
   "cell_type": "markdown",
   "metadata": {},
   "source": [
    "Now create the decision tree model"
   ]
  },
  {
   "cell_type": "code",
   "execution_count": 31,
   "metadata": {
    "user_blocks": [
     "variables_set",
     "varCreateObject"
    ],
    "user_blocks_xml": "<xml xmlns=\"https://developers.google.com/blockly/xml\"><variables><variable id=\"fYtGc,k9LOv^%_9|[cfE\">decisionTree</variable><variable id=\"tkeU~z;dQ]^6[?rbF?)9\">tree</variable></variables><block type=\"variables_set\" id=\"0{MIimjRn(`+`5M$0_U7\" x=\"-90\" y=\"132\"><field name=\"VAR\" id=\"fYtGc,k9LOv^%_9|[cfE\">decisionTree</field><value name=\"VALUE\"><block type=\"varCreateObject\" id=\"?`dwaKnOBjnrd}`doxhF\"><mutation items=\"1\"></mutation><field name=\"VAR\" id=\"tkeU~z;dQ]^6[?rbF?)9\">tree</field><field name=\"MEMBER\">DecisionTreeClassifier</field><data>tree:DecisionTreeClassifier</data></block></value></block></xml>",
    "user_code_from_blocks": "decisionTree = tree.DecisionTreeClassifier()\n"
   },
   "outputs": [],
   "source": [
    "decisionTree = tree.DecisionTreeClassifier()\n",
    "\n",
    "#<xml xmlns=\"https://developers.google.com/blockly/xml\"><variables><variable id=\"fYtGc,k9LOv^%_9|[cfE\">decisionTree</variable><variable id=\"tkeU~z;dQ]^6[?rbF?)9\">tree</variable></variables><block type=\"variables_set\" id=\"0{MIimjRn(`+`5M$0_U7\" x=\"-90\" y=\"132\"><field name=\"VAR\" id=\"fYtGc,k9LOv^%_9|[cfE\">decisionTree</field><value name=\"VALUE\"><block type=\"varCreateObject\" id=\"?`dwaKnOBjnrd}`doxhF\"><mutation items=\"1\"></mutation><field name=\"VAR\" id=\"tkeU~z;dQ]^6[?rbF?)9\">tree</field><field name=\"MEMBER\">DecisionTreeClassifier</field><data>tree:DecisionTreeClassifier</data></block></value></block></xml>"
   ]
  },
  {
   "cell_type": "markdown",
   "metadata": {},
   "source": [
    "----------------------------\n",
    "**QUESTION:**\n",
    "\n",
    "Why don't we need to scale anything?"
   ]
  },
  {
   "cell_type": "markdown",
   "metadata": {},
   "source": [
    "**ANSWER: (click here to edit)**\n",
    "\n",
    "*Scaling doesn't matter for decision trees like it does for regression.\n",
    "In regression, each feature's contributions are added to the others, so people like to scale to make the coefficients for each feature more directly comparable.\n",
    "There is no equivalent concept in decision trees; in fact, it is probably more confusing to scale variables in decision trees.*\n",
    "<hr>"
   ]
  },
  {
   "cell_type": "markdown",
   "metadata": {},
   "source": [
    "Fit the model and get predictions."
   ]
  },
  {
   "cell_type": "code",
   "execution_count": 32,
   "metadata": {
    "user_blocks": [
     "varDoMethod",
     "lists_getIndex",
     "variables_get",
     "math_number",
     "lists_getIndex",
     "variables_get",
     "math_number",
     "variables_set",
     "varDoMethod",
     "lists_getIndex",
     "variables_get",
     "math_number"
    ],
    "user_blocks_xml": "<xml xmlns=\"https://developers.google.com/blockly/xml\"><variables><variable id=\"fYtGc,k9LOv^%_9|[cfE\">decisionTree</variable><variable id=\".hU+?FvKPIm~!dS$d-nj\">predictions</variable><variable id=\"{Yt*9=2tTC$JepE9BcRz\">splits</variable></variables><block type=\"varDoMethod\" id=\"-@fm,911cJiCu@jkys%R\" x=\"3\" y=\"112\"><mutation items=\"2\"></mutation><field name=\"VAR\" id=\"fYtGc,k9LOv^%_9|[cfE\">decisionTree</field><field name=\"MEMBER\">fit</field><data>decisionTree:fit</data><value name=\"ADD0\"><block type=\"lists_getIndex\" id=\"W~.ZU([-)(,-i3=bTsB|\"><mutation statement=\"false\" at=\"true\"></mutation><field name=\"MODE\">GET</field><field name=\"WHERE\">FROM_START</field><value name=\"VALUE\"><block type=\"variables_get\" id=\"GIJn[jpD_~wa}#7IO!1K\"><field name=\"VAR\" id=\"{Yt*9=2tTC$JepE9BcRz\">splits</field></block></value><value name=\"AT\"><block type=\"math_number\" id=\"Rh[;nrMLN$[cFFsZC~T|\"><field name=\"NUM\">1</field></block></value></block></value><value name=\"ADD1\"><block type=\"lists_getIndex\" id=\"YkCD57xF*SSN3[`_op{u\"><mutation statement=\"false\" at=\"true\"></mutation><field name=\"MODE\">GET</field><field name=\"WHERE\">FROM_START</field><value name=\"VALUE\"><block type=\"variables_get\" id=\"M@?wn}aoHxJYan0=AE3$\"><field name=\"VAR\" id=\"{Yt*9=2tTC$JepE9BcRz\">splits</field></block></value><value name=\"AT\"><block type=\"math_number\" id=\"jNUa2BdXPG?H8|.br*@e\"><field name=\"NUM\">3</field></block></value></block></value></block><block type=\"variables_set\" id=\"daux0S`FF4kBzgJJ/Mqz\" x=\"21\" y=\"283\"><field name=\"VAR\" id=\".hU+?FvKPIm~!dS$d-nj\">predictions</field><value name=\"VALUE\"><block type=\"varDoMethod\" id=\"RP,Dx+UgHdie=fa^FUQx\"><mutation items=\"1\"></mutation><field name=\"VAR\" id=\"fYtGc,k9LOv^%_9|[cfE\">decisionTree</field><field name=\"MEMBER\">predict</field><data>decisionTree:predict</data><value name=\"ADD0\"><block type=\"lists_getIndex\" id=\"8r8{|6/j)E}1Rxb?x?p$\"><mutation statement=\"false\" at=\"true\"></mutation><field name=\"MODE\">GET</field><field name=\"WHERE\">FROM_START</field><value name=\"VALUE\"><block type=\"variables_get\" id=\"Oyc5Q^u*myHiMK#zx_k/\"><field name=\"VAR\" id=\"{Yt*9=2tTC$JepE9BcRz\">splits</field></block></value><value name=\"AT\"><block type=\"math_number\" id=\"}ODw{=32f7kWh0kiF,%I\"><field name=\"NUM\">2</field></block></value></block></value></block></value></block></xml>",
    "user_code_from_blocks": "decisionTree.fit(splits[0],splits[2])\n\npredictions = decisionTree.predict(splits[1])\n"
   },
   "outputs": [],
   "source": [
    "decisionTree.fit(splits[0],splits[2])\n",
    "\n",
    "predictions = decisionTree.predict(splits[1])\n",
    "\n",
    "#<xml xmlns=\"https://developers.google.com/blockly/xml\"><variables><variable id=\"fYtGc,k9LOv^%_9|[cfE\">decisionTree</variable><variable id=\".hU+?FvKPIm~!dS$d-nj\">predictions</variable><variable id=\"{Yt*9=2tTC$JepE9BcRz\">splits</variable></variables><block type=\"varDoMethod\" id=\"-@fm,911cJiCu@jkys%R\" x=\"3\" y=\"112\"><mutation items=\"2\"></mutation><field name=\"VAR\" id=\"fYtGc,k9LOv^%_9|[cfE\">decisionTree</field><field name=\"MEMBER\">fit</field><data>decisionTree:fit</data><value name=\"ADD0\"><block type=\"lists_getIndex\" id=\"W~.ZU([-)(,-i3=bTsB|\"><mutation statement=\"false\" at=\"true\"></mutation><field name=\"MODE\">GET</field><field name=\"WHERE\">FROM_START</field><value name=\"VALUE\"><block type=\"variables_get\" id=\"GIJn[jpD_~wa}#7IO!1K\"><field name=\"VAR\" id=\"{Yt*9=2tTC$JepE9BcRz\">splits</field></block></value><value name=\"AT\"><block type=\"math_number\" id=\"Rh[;nrMLN$[cFFsZC~T|\"><field name=\"NUM\">1</field></block></value></block></value><value name=\"ADD1\"><block type=\"lists_getIndex\" id=\"YkCD57xF*SSN3[`_op{u\"><mutation statement=\"false\" at=\"true\"></mutation><field name=\"MODE\">GET</field><field name=\"WHERE\">FROM_START</field><value name=\"VALUE\"><block type=\"variables_get\" id=\"M@?wn}aoHxJYan0=AE3$\"><field name=\"VAR\" id=\"{Yt*9=2tTC$JepE9BcRz\">splits</field></block></value><value name=\"AT\"><block type=\"math_number\" id=\"jNUa2BdXPG?H8|.br*@e\"><field name=\"NUM\">3</field></block></value></block></value></block><block type=\"variables_set\" id=\"daux0S`FF4kBzgJJ/Mqz\" x=\"21\" y=\"283\"><field name=\"VAR\" id=\".hU+?FvKPIm~!dS$d-nj\">predictions</field><value name=\"VALUE\"><block type=\"varDoMethod\" id=\"RP,Dx+UgHdie=fa^FUQx\"><mutation items=\"1\"></mutation><field name=\"VAR\" id=\"fYtGc,k9LOv^%_9|[cfE\">decisionTree</field><field name=\"MEMBER\">predict</field><data>decisionTree:predict</data><value name=\"ADD0\"><block type=\"lists_getIndex\" id=\"8r8{|6/j)E}1Rxb?x?p$\"><mutation statement=\"false\" at=\"true\"></mutation><field name=\"MODE\">GET</field><field name=\"WHERE\">FROM_START</field><value name=\"VALUE\"><block type=\"variables_get\" id=\"Oyc5Q^u*myHiMK#zx_k/\"><field name=\"VAR\" id=\"{Yt*9=2tTC$JepE9BcRz\">splits</field></block></value><value name=\"AT\"><block type=\"math_number\" id=\"}ODw{=32f7kWh0kiF,%I\"><field name=\"NUM\">2</field></block></value></block></value></block></value></block></xml>"
   ]
  },
  {
   "cell_type": "markdown",
   "metadata": {},
   "source": [
    "## Evaluate model performance\n",
    "\n",
    "Import `sklearn.metrics`."
   ]
  },
  {
   "cell_type": "code",
   "execution_count": 33,
   "metadata": {
    "user_blocks": [
     "importAs"
    ],
    "user_blocks_xml": "<xml xmlns=\"https://developers.google.com/blockly/xml\"><variables><variable id=\"jpz]0=,hLYv~rN^#0dFO\">metrics</variable></variables><block type=\"importAs\" id=\"CEkPf]fPOl]|@Gl1lho[\" x=\"-101\" y=\"139\"><field name=\"libraryName\">sklearn.metrics</field><field name=\"VAR\" id=\"jpz]0=,hLYv~rN^#0dFO\">metrics</field></block></xml>",
    "user_code_from_blocks": "import sklearn.metrics as metrics\n"
   },
   "outputs": [],
   "source": [
    "import sklearn.metrics as metrics\n",
    "\n",
    "#<xml xmlns=\"https://developers.google.com/blockly/xml\"><variables><variable id=\"jpz]0=,hLYv~rN^#0dFO\">metrics</variable></variables><block type=\"importAs\" id=\"CEkPf]fPOl]|@Gl1lho[\" x=\"-101\" y=\"139\"><field name=\"libraryName\">sklearn.metrics</field><field name=\"VAR\" id=\"jpz]0=,hLYv~rN^#0dFO\">metrics</field></block></xml>"
   ]
  },
  {
   "cell_type": "markdown",
   "metadata": {},
   "source": [
    "Get the accuracy."
   ]
  },
  {
   "cell_type": "code",
   "execution_count": 34,
   "metadata": {
    "user_blocks": [
     "text_print",
     "varDoMethod",
     "lists_getIndex",
     "variables_get",
     "math_number",
     "variables_get"
    ],
    "user_blocks_xml": "<xml xmlns=\"https://developers.google.com/blockly/xml\"><variables><variable id=\"jpz]0=,hLYv~rN^#0dFO\">metrics</variable><variable id=\".hU+?FvKPIm~!dS$d-nj\">predictions</variable><variable id=\"{Yt*9=2tTC$JepE9BcRz\">splits</variable></variables><block type=\"text_print\" id=\"u8M]eo-vRBhX!L/a@4+J\" x=\"26\" y=\"198\"><value name=\"TEXT\"><block type=\"varDoMethod\" id=\"0B;?~qgT4?Xe8I|O=P)%\"><mutation items=\"2\"></mutation><field name=\"VAR\" id=\"jpz]0=,hLYv~rN^#0dFO\">metrics</field><field name=\"MEMBER\">accuracy_score</field><data>metrics:accuracy_score</data><value name=\"ADD0\"><block type=\"lists_getIndex\" id=\"13J^-{z`P=,aau/j:VF~\"><mutation statement=\"false\" at=\"true\"></mutation><field name=\"MODE\">GET</field><field name=\"WHERE\">FROM_START</field><value name=\"VALUE\"><block type=\"variables_get\" id=\"m^Z6y-8@L:s!oS)`%iJW\"><field name=\"VAR\" id=\"{Yt*9=2tTC$JepE9BcRz\">splits</field></block></value><value name=\"AT\"><block type=\"math_number\" id=\"u}VxLP~*Dbl0g4[AO,bL\"><field name=\"NUM\">4</field></block></value></block></value><value name=\"ADD1\"><block type=\"variables_get\" id=\"|3h,TPit9wg+a;bR[r$P\"><field name=\"VAR\" id=\".hU+?FvKPIm~!dS$d-nj\">predictions</field></block></value></block></value></block></xml>",
    "user_code_from_blocks": "print(metrics.accuracy_score(splits[3],predictions))\n"
   },
   "outputs": [
    {
     "name": "stdout",
     "output_type": "stream",
     "text": [
      "0.5909090909090909\n"
     ]
    }
   ],
   "source": [
    "print(metrics.accuracy_score(splits[3],predictions))\n",
    "\n",
    "#<xml xmlns=\"https://developers.google.com/blockly/xml\"><variables><variable id=\"jpz]0=,hLYv~rN^#0dFO\">metrics</variable><variable id=\".hU+?FvKPIm~!dS$d-nj\">predictions</variable><variable id=\"{Yt*9=2tTC$JepE9BcRz\">splits</variable></variables><block type=\"text_print\" id=\"u8M]eo-vRBhX!L/a@4+J\" x=\"26\" y=\"198\"><value name=\"TEXT\"><block type=\"varDoMethod\" id=\"0B;?~qgT4?Xe8I|O=P)%\"><mutation items=\"2\"></mutation><field name=\"VAR\" id=\"jpz]0=,hLYv~rN^#0dFO\">metrics</field><field name=\"MEMBER\">accuracy_score</field><data>metrics:accuracy_score</data><value name=\"ADD0\"><block type=\"lists_getIndex\" id=\"13J^-{z`P=,aau/j:VF~\"><mutation statement=\"false\" at=\"true\"></mutation><field name=\"MODE\">GET</field><field name=\"WHERE\">FROM_START</field><value name=\"VALUE\"><block type=\"variables_get\" id=\"m^Z6y-8@L:s!oS)`%iJW\"><field name=\"VAR\" id=\"{Yt*9=2tTC$JepE9BcRz\">splits</field></block></value><value name=\"AT\"><block type=\"math_number\" id=\"u}VxLP~*Dbl0g4[AO,bL\"><field name=\"NUM\">4</field></block></value></block></value><value name=\"ADD1\"><block type=\"variables_get\" id=\"|3h,TPit9wg+a;bR[r$P\"><field name=\"VAR\" id=\".hU+?FvKPIm~!dS$d-nj\">predictions</field></block></value></block></value></block></xml>"
   ]
  },
  {
   "cell_type": "markdown",
   "metadata": {},
   "source": [
    "And get the recall, precision, and f1."
   ]
  },
  {
   "cell_type": "code",
   "execution_count": 35,
   "metadata": {
    "user_blocks": [
     "text_print",
     "varDoMethod",
     "lists_getIndex",
     "variables_get",
     "math_number",
     "variables_get"
    ],
    "user_blocks_xml": "<xml xmlns=\"https://developers.google.com/blockly/xml\"><variables><variable id=\"jpz]0=,hLYv~rN^#0dFO\">metrics</variable><variable id=\".hU+?FvKPIm~!dS$d-nj\">predictions</variable><variable id=\"{Yt*9=2tTC$JepE9BcRz\">splits</variable></variables><block type=\"text_print\" id=\"jFo8knaDn;JRZ=Fj7Tzo\" x=\"12\" y=\"170\"><value name=\"TEXT\"><block type=\"varDoMethod\" id=\"(y`#h=AgNH6X+ahL$2L$\"><mutation items=\"2\"></mutation><field name=\"VAR\" id=\"jpz]0=,hLYv~rN^#0dFO\">metrics</field><field name=\"MEMBER\">classification_report</field><data>metrics:classification_report</data><value name=\"ADD0\"><block type=\"lists_getIndex\" id=\"*N[l.zzXc*IdHJ-Ur0D)\"><mutation statement=\"false\" at=\"true\"></mutation><field name=\"MODE\">GET</field><field name=\"WHERE\">FROM_START</field><value name=\"VALUE\"><block type=\"variables_get\" id=\"fQYj?Tz[y/t|%9~{2Pf[\"><field name=\"VAR\" id=\"{Yt*9=2tTC$JepE9BcRz\">splits</field></block></value><value name=\"AT\"><block type=\"math_number\" id=\"V(5k43YOsHPep%LEEd9Q\"><field name=\"NUM\">4</field></block></value></block></value><value name=\"ADD1\"><block type=\"variables_get\" id=\"mX(20KX!C)d_,/ddeysr\"><field name=\"VAR\" id=\".hU+?FvKPIm~!dS$d-nj\">predictions</field></block></value></block></value></block></xml>",
    "user_code_from_blocks": "print(metrics.classification_report(splits[3],predictions))\n"
   },
   "outputs": [
    {
     "name": "stdout",
     "output_type": "stream",
     "text": [
      "              precision    recall  f1-score   support\n",
      "\n",
      "           0       0.57      0.73      0.64        11\n",
      "           1       0.62      0.45      0.53        11\n",
      "\n",
      "    accuracy                           0.59        22\n",
      "   macro avg       0.60      0.59      0.58        22\n",
      "weighted avg       0.60      0.59      0.58        22\n",
      "\n"
     ]
    }
   ],
   "source": [
    "print(metrics.classification_report(splits[3],predictions))\n",
    "\n",
    "#<xml xmlns=\"https://developers.google.com/blockly/xml\"><variables><variable id=\"jpz]0=,hLYv~rN^#0dFO\">metrics</variable><variable id=\".hU+?FvKPIm~!dS$d-nj\">predictions</variable><variable id=\"{Yt*9=2tTC$JepE9BcRz\">splits</variable></variables><block type=\"text_print\" id=\"jFo8knaDn;JRZ=Fj7Tzo\" x=\"12\" y=\"170\"><value name=\"TEXT\"><block type=\"varDoMethod\" id=\"(y`#h=AgNH6X+ahL$2L$\"><mutation items=\"2\"></mutation><field name=\"VAR\" id=\"jpz]0=,hLYv~rN^#0dFO\">metrics</field><field name=\"MEMBER\">classification_report</field><data>metrics:classification_report</data><value name=\"ADD0\"><block type=\"lists_getIndex\" id=\"*N[l.zzXc*IdHJ-Ur0D)\"><mutation statement=\"false\" at=\"true\"></mutation><field name=\"MODE\">GET</field><field name=\"WHERE\">FROM_START</field><value name=\"VALUE\"><block type=\"variables_get\" id=\"fQYj?Tz[y/t|%9~{2Pf[\"><field name=\"VAR\" id=\"{Yt*9=2tTC$JepE9BcRz\">splits</field></block></value><value name=\"AT\"><block type=\"math_number\" id=\"V(5k43YOsHPep%LEEd9Q\"><field name=\"NUM\">4</field></block></value></block></value><value name=\"ADD1\"><block type=\"variables_get\" id=\"mX(20KX!C)d_,/ddeysr\"><field name=\"VAR\" id=\".hU+?FvKPIm~!dS$d-nj\">predictions</field></block></value></block></value></block></xml>"
   ]
  },
  {
   "cell_type": "markdown",
   "metadata": {},
   "source": [
    "As we can see, both the accuracy and the average precision, recall, and f1 are all very good."
   ]
  },
  {
   "cell_type": "markdown",
   "metadata": {},
   "source": [
    "## Display the Tree"
   ]
  },
  {
   "cell_type": "markdown",
   "metadata": {},
   "source": [
    "First import `graphviz`."
   ]
  },
  {
   "cell_type": "code",
   "execution_count": 36,
   "metadata": {
    "user_blocks": [
     "importAs"
    ],
    "user_blocks_xml": "<xml xmlns=\"https://developers.google.com/blockly/xml\"><variables><variable id=\"rrXqQ:9R(~X0,}F[1UD]\">graphviz</variable></variables><block type=\"importAs\" id=\"5j3UPoKQcO/bU0u!@P06\" x=\"16\" y=\"36\"><field name=\"libraryName\">graphviz</field><field name=\"VAR\" id=\"rrXqQ:9R(~X0,}F[1UD]\">graphviz</field></block></xml>",
    "user_code_from_blocks": "import graphviz as graphviz\n"
   },
   "outputs": [],
   "source": [
    "import graphviz as graphviz\n",
    "\n",
    "#<xml xmlns=\"https://developers.google.com/blockly/xml\"><variables><variable id=\"rrXqQ:9R(~X0,}F[1UD]\">graphviz</variable></variables><block type=\"importAs\" id=\"5j3UPoKQcO/bU0u!@P06\" x=\"16\" y=\"36\"><field name=\"libraryName\">graphviz</field><field name=\"VAR\" id=\"rrXqQ:9R(~X0,}F[1UD]\">graphviz</field></block></xml>"
   ]
  },
  {
   "cell_type": "markdown",
   "metadata": {},
   "source": [
    "And use it to build the tree. Try to copy this from your other notebook if at all possible."
   ]
  },
  {
   "cell_type": "code",
   "execution_count": 37,
   "metadata": {
    "user_blocks": [
     "variables_set",
     "varDoMethod",
     "variables_get",
     "dummyOutputCodeBlock",
     "dummyOutputCodeBlock",
     "dummyOutputCodeBlock",
     "dummyOutputCodeBlock",
     "dummyOutputCodeBlock",
     "dummyOutputCodeBlock",
     "varCreateObject",
     "variables_get"
    ],
    "user_blocks_xml": "<xml xmlns=\"https://developers.google.com/blockly/xml\"><variables><variable id=\"F.ej=Hud7vT9uozVaF5C\">dot_data</variable><variable id=\"rrXqQ:9R(~X0,}F[1UD]\">graphviz</variable><variable id=\"tkeU~z;dQ]^6[?rbF?)9\">tree</variable><variable id=\"fYtGc,k9LOv^%_9|[cfE\">decisionTree</variable></variables><block type=\"variables_set\" id=\":6*zm74#9$!O3?QVUukE\" x=\"12\" y=\"176\"><field name=\"VAR\" id=\"F.ej=Hud7vT9uozVaF5C\">dot_data</field><value name=\"VALUE\"><block type=\"varDoMethod\" id=\"jsRyzb,9t~G^G@G@SMkS\"><mutation items=\"7\"></mutation><field name=\"VAR\" id=\"tkeU~z;dQ]^6[?rbF?)9\">tree</field><field name=\"MEMBER\">export_graphviz</field><data>tree:export_graphviz</data><value name=\"ADD0\"><block type=\"variables_get\" id=\"x$]b$%X#}qjO@0H/!O|N\"><field name=\"VAR\" id=\"fYtGc,k9LOv^%_9|[cfE\">decisionTree</field></block></value><value name=\"ADD1\"><block type=\"dummyOutputCodeBlock\" id=\"K!=:ty3DMPs#b^ziH=5p\"><field name=\"CODE\">out_file=None</field></block></value><value name=\"ADD2\"><block type=\"dummyOutputCodeBlock\" id=\"4=`@0`s#P?-p!O`Vv_8o\"><field name=\"CODE\">feature_names=[\"chocolate\",\"fruity\",\"caramel\",\"peanutyalmondy\",\"nougat\",\"crispedricewafer\",\"hard\",\"bar\",\"pluribus\",\"sugarpercent\",\"pricepercent\"]</field></block></value><value name=\"ADD3\"><block type=\"dummyOutputCodeBlock\" id=\"}9s+(fF@pHV!vFwa)B2v\"><field name=\"CODE\">class_names=['0','1']</field></block></value><value name=\"ADD4\"><block type=\"dummyOutputCodeBlock\" id=\"^IJ3b3Eg7K9k^6Of_4i%\"><field name=\"CODE\">filled=True</field></block></value><value name=\"ADD5\"><block type=\"dummyOutputCodeBlock\" id=\"VH!NxdBRgItjnN]Zs^Uh\"><field name=\"CODE\">rounded=True</field></block></value><value name=\"ADD6\"><block type=\"dummyOutputCodeBlock\" id=\"f*|7fCy,K/0{_WzfribG\"><field name=\"CODE\">special_characters=True</field></block></value></block></value></block><block type=\"varCreateObject\" id=\"e#:go,;P@0H5[+u[7oDT\" x=\"10\" y=\"425\"><mutation items=\"1\"></mutation><field name=\"VAR\" id=\"rrXqQ:9R(~X0,}F[1UD]\">graphviz</field><field name=\"MEMBER\">Source</field><data>graphviz:Source</data><value name=\"ADD0\"><block type=\"variables_get\" id=\"X!;l`d)95n$iGiWU~m(3\"><field name=\"VAR\" id=\"F.ej=Hud7vT9uozVaF5C\">dot_data</field></block></value></block></xml>",
    "user_code_from_blocks": "dot_data = tree.export_graphviz(decisionTree,out_file=None,feature_names=[\"chocolate\",\"fruity\",\"caramel\",\"peanutyalmondy\",\"nougat\",\"crispedricewafer\",\"hard\",\"bar\",\"pluribus\",\"sugarpercent\",\"pricepercent\"],class_names=['0','1'],filled=True,rounded=True,special_characters=True)\n\ngraphviz.Source(dot_data)\n"
   },
   "outputs": [
    {
     "data": {
      "image/svg+xml": [
       "<?xml version=\"1.0\" encoding=\"UTF-8\" standalone=\"no\"?>\n",
       "<!DOCTYPE svg PUBLIC \"-//W3C//DTD SVG 1.1//EN\"\n",
       " \"http://www.w3.org/Graphics/SVG/1.1/DTD/svg11.dtd\">\n",
       "<!-- Generated by graphviz version 12.0.0 (20240803.0821)\n",
       " -->\n",
       "<!-- Title: Tree Pages: 1 -->\n",
       "<svg width=\"1216pt\" height=\"1257pt\"\n",
       " viewBox=\"0.00 0.00 1216.00 1257.25\" xmlns=\"http://www.w3.org/2000/svg\" xmlns:xlink=\"http://www.w3.org/1999/xlink\">\n",
       "<g id=\"graph0\" class=\"graph\" transform=\"scale(1 1) rotate(0) translate(4 1253.25)\">\n",
       "<title>Tree</title>\n",
       "<polygon fill=\"white\" stroke=\"none\" points=\"-4,4 -4,-1253.25 1212,-1253.25 1212,4 -4,4\"/>\n",
       "<!-- 0 -->\n",
       "<g id=\"node1\" class=\"node\">\n",
       "<title>0</title>\n",
       "<path fill=\"#fae6d7\" stroke=\"black\" d=\"M651.5,-1249.25C651.5,-1249.25 545.5,-1249.25 545.5,-1249.25 539.5,-1249.25 533.5,-1243.25 533.5,-1237.25 533.5,-1237.25 533.5,-1167 533.5,-1167 533.5,-1161 539.5,-1155 545.5,-1155 545.5,-1155 651.5,-1155 651.5,-1155 657.5,-1155 663.5,-1161 663.5,-1167 663.5,-1167 663.5,-1237.25 663.5,-1237.25 663.5,-1243.25 657.5,-1249.25 651.5,-1249.25\"/>\n",
       "<text text-anchor=\"start\" x=\"543.75\" y=\"-1231.95\" font-family=\"Helvetica,sans-Serif\" font-size=\"14.00\">chocolate ≤ 0.5</text>\n",
       "<text text-anchor=\"start\" x=\"555\" y=\"-1214.7\" font-family=\"Helvetica,sans-Serif\" font-size=\"14.00\">gini = 0.494</text>\n",
       "<text text-anchor=\"start\" x=\"550.12\" y=\"-1197.45\" font-family=\"Helvetica,sans-Serif\" font-size=\"14.00\">samples = 63</text>\n",
       "<text text-anchor=\"start\" x=\"541.5\" y=\"-1180.2\" font-family=\"Helvetica,sans-Serif\" font-size=\"14.00\">value = [35, 28]</text>\n",
       "<text text-anchor=\"start\" x=\"566.25\" y=\"-1162.95\" font-family=\"Helvetica,sans-Serif\" font-size=\"14.00\">class = 0</text>\n",
       "</g>\n",
       "<!-- 1 -->\n",
       "<g id=\"node2\" class=\"node\">\n",
       "<title>1</title>\n",
       "<path fill=\"#eca572\" stroke=\"black\" d=\"M510.88,-1119C510.88,-1119 374.12,-1119 374.12,-1119 368.12,-1119 362.12,-1113 362.12,-1107 362.12,-1107 362.12,-1036.75 362.12,-1036.75 362.12,-1030.75 368.12,-1024.75 374.12,-1024.75 374.12,-1024.75 510.88,-1024.75 510.88,-1024.75 516.88,-1024.75 522.88,-1030.75 522.88,-1036.75 522.88,-1036.75 522.88,-1107 522.88,-1107 522.88,-1113 516.88,-1119 510.88,-1119\"/>\n",
       "<text text-anchor=\"start\" x=\"370.12\" y=\"-1101.7\" font-family=\"Helvetica,sans-Serif\" font-size=\"14.00\">sugarpercent ≤ 0.79</text>\n",
       "<text text-anchor=\"start\" x=\"399\" y=\"-1084.45\" font-family=\"Helvetica,sans-Serif\" font-size=\"14.00\">gini = 0.346</text>\n",
       "<text text-anchor=\"start\" x=\"394.12\" y=\"-1067.2\" font-family=\"Helvetica,sans-Serif\" font-size=\"14.00\">samples = 36</text>\n",
       "<text text-anchor=\"start\" x=\"390\" y=\"-1049.95\" font-family=\"Helvetica,sans-Serif\" font-size=\"14.00\">value = [28, 8]</text>\n",
       "<text text-anchor=\"start\" x=\"410.25\" y=\"-1032.7\" font-family=\"Helvetica,sans-Serif\" font-size=\"14.00\">class = 0</text>\n",
       "</g>\n",
       "<!-- 0&#45;&gt;1 -->\n",
       "<g id=\"edge1\" class=\"edge\">\n",
       "<title>0&#45;&gt;1</title>\n",
       "<path fill=\"none\" stroke=\"black\" d=\"M542.18,-1154.82C530.98,-1145.62 519.14,-1135.88 507.67,-1126.46\"/>\n",
       "<polygon fill=\"black\" stroke=\"black\" points=\"510.12,-1123.93 500.17,-1120.28 505.67,-1129.34 510.12,-1123.93\"/>\n",
       "<text text-anchor=\"middle\" x=\"501.43\" y=\"-1139.53\" font-family=\"Helvetica,sans-Serif\" font-size=\"14.00\">True</text>\n",
       "</g>\n",
       "<!-- 26 -->\n",
       "<g id=\"node27\" class=\"node\">\n",
       "<title>26</title>\n",
       "<path fill=\"#7ebfee\" stroke=\"black\" d=\"M813.75,-1119C813.75,-1119 673.25,-1119 673.25,-1119 667.25,-1119 661.25,-1113 661.25,-1107 661.25,-1107 661.25,-1036.75 661.25,-1036.75 661.25,-1030.75 667.25,-1024.75 673.25,-1024.75 673.25,-1024.75 813.75,-1024.75 813.75,-1024.75 819.75,-1024.75 825.75,-1030.75 825.75,-1036.75 825.75,-1036.75 825.75,-1107 825.75,-1107 825.75,-1113 819.75,-1119 813.75,-1119\"/>\n",
       "<text text-anchor=\"start\" x=\"669.25\" y=\"-1101.7\" font-family=\"Helvetica,sans-Serif\" font-size=\"14.00\">pricepercent ≤ 0.383</text>\n",
       "<text text-anchor=\"start\" x=\"700\" y=\"-1084.45\" font-family=\"Helvetica,sans-Serif\" font-size=\"14.00\">gini = 0.384</text>\n",
       "<text text-anchor=\"start\" x=\"695.12\" y=\"-1067.2\" font-family=\"Helvetica,sans-Serif\" font-size=\"14.00\">samples = 27</text>\n",
       "<text text-anchor=\"start\" x=\"691\" y=\"-1049.95\" font-family=\"Helvetica,sans-Serif\" font-size=\"14.00\">value = [7, 20]</text>\n",
       "<text text-anchor=\"start\" x=\"711.25\" y=\"-1032.7\" font-family=\"Helvetica,sans-Serif\" font-size=\"14.00\">class = 1</text>\n",
       "</g>\n",
       "<!-- 0&#45;&gt;26 -->\n",
       "<g id=\"edge26\" class=\"edge\">\n",
       "<title>0&#45;&gt;26</title>\n",
       "<path fill=\"none\" stroke=\"black\" d=\"M650.85,-1154.82C661.22,-1145.65 672.18,-1135.95 682.8,-1126.56\"/>\n",
       "<polygon fill=\"black\" stroke=\"black\" points=\"684.92,-1129.36 690.09,-1120.11 680.29,-1124.11 684.92,-1129.36\"/>\n",
       "<text text-anchor=\"middle\" x=\"689.7\" y=\"-1139.39\" font-family=\"Helvetica,sans-Serif\" font-size=\"14.00\">False</text>\n",
       "</g>\n",
       "<!-- 2 -->\n",
       "<g id=\"node3\" class=\"node\">\n",
       "<title>2</title>\n",
       "<path fill=\"#e9965a\" stroke=\"black\" d=\"M291.75,-988.75C291.75,-988.75 151.25,-988.75 151.25,-988.75 145.25,-988.75 139.25,-982.75 139.25,-976.75 139.25,-976.75 139.25,-906.5 139.25,-906.5 139.25,-900.5 145.25,-894.5 151.25,-894.5 151.25,-894.5 291.75,-894.5 291.75,-894.5 297.75,-894.5 303.75,-900.5 303.75,-906.5 303.75,-906.5 303.75,-976.75 303.75,-976.75 303.75,-982.75 297.75,-988.75 291.75,-988.75\"/>\n",
       "<text text-anchor=\"start\" x=\"147.25\" y=\"-971.45\" font-family=\"Helvetica,sans-Serif\" font-size=\"14.00\">pricepercent ≤ 0.273</text>\n",
       "<text text-anchor=\"start\" x=\"178\" y=\"-954.2\" font-family=\"Helvetica,sans-Serif\" font-size=\"14.00\">gini = 0.245</text>\n",
       "<text text-anchor=\"start\" x=\"173.12\" y=\"-936.95\" font-family=\"Helvetica,sans-Serif\" font-size=\"14.00\">samples = 28</text>\n",
       "<text text-anchor=\"start\" x=\"169\" y=\"-919.7\" font-family=\"Helvetica,sans-Serif\" font-size=\"14.00\">value = [24, 4]</text>\n",
       "<text text-anchor=\"start\" x=\"189.25\" y=\"-902.45\" font-family=\"Helvetica,sans-Serif\" font-size=\"14.00\">class = 0</text>\n",
       "</g>\n",
       "<!-- 1&#45;&gt;2 -->\n",
       "<g id=\"edge2\" class=\"edge\">\n",
       "<title>1&#45;&gt;2</title>\n",
       "<path fill=\"none\" stroke=\"black\" d=\"M362.4,-1024.39C345.88,-1014.8 328.37,-1004.65 311.53,-994.87\"/>\n",
       "<polygon fill=\"black\" stroke=\"black\" points=\"313.41,-991.92 303.01,-989.92 309.9,-997.97 313.41,-991.92\"/>\n",
       "</g>\n",
       "<!-- 17 -->\n",
       "<g id=\"node18\" class=\"node\">\n",
       "<title>17</title>\n",
       "<path fill=\"#ffffff\" stroke=\"black\" d=\"M486.5,-988.75C486.5,-988.75 398.5,-988.75 398.5,-988.75 392.5,-988.75 386.5,-982.75 386.5,-976.75 386.5,-976.75 386.5,-906.5 386.5,-906.5 386.5,-900.5 392.5,-894.5 398.5,-894.5 398.5,-894.5 486.5,-894.5 486.5,-894.5 492.5,-894.5 498.5,-900.5 498.5,-906.5 498.5,-906.5 498.5,-976.75 498.5,-976.75 498.5,-982.75 492.5,-988.75 486.5,-988.75\"/>\n",
       "<text text-anchor=\"start\" x=\"402\" y=\"-971.45\" font-family=\"Helvetica,sans-Serif\" font-size=\"14.00\">fruity ≤ 0.5</text>\n",
       "<text text-anchor=\"start\" x=\"408\" y=\"-954.2\" font-family=\"Helvetica,sans-Serif\" font-size=\"14.00\">gini = 0.5</text>\n",
       "<text text-anchor=\"start\" x=\"398.62\" y=\"-936.95\" font-family=\"Helvetica,sans-Serif\" font-size=\"14.00\">samples = 8</text>\n",
       "<text text-anchor=\"start\" x=\"394.5\" y=\"-919.7\" font-family=\"Helvetica,sans-Serif\" font-size=\"14.00\">value = [4, 4]</text>\n",
       "<text text-anchor=\"start\" x=\"410.25\" y=\"-902.45\" font-family=\"Helvetica,sans-Serif\" font-size=\"14.00\">class = 0</text>\n",
       "</g>\n",
       "<!-- 1&#45;&gt;17 -->\n",
       "<g id=\"edge17\" class=\"edge\">\n",
       "<title>1&#45;&gt;17</title>\n",
       "<path fill=\"none\" stroke=\"black\" d=\"M442.5,-1024.57C442.5,-1016.67 442.5,-1008.38 442.5,-1000.23\"/>\n",
       "<polygon fill=\"black\" stroke=\"black\" points=\"446,-1000.37 442.5,-990.37 439,-1000.37 446,-1000.37\"/>\n",
       "</g>\n",
       "<!-- 3 -->\n",
       "<g id=\"node4\" class=\"node\">\n",
       "<title>3</title>\n",
       "<path fill=\"#e58139\" stroke=\"black\" d=\"M109,-849.88C109,-849.88 12,-849.88 12,-849.88 6,-849.88 0,-843.88 0,-837.88 0,-837.88 0,-784.88 0,-784.88 0,-778.88 6,-772.88 12,-772.88 12,-772.88 109,-772.88 109,-772.88 115,-772.88 121,-778.88 121,-784.88 121,-784.88 121,-837.88 121,-837.88 121,-843.88 115,-849.88 109,-849.88\"/>\n",
       "<text text-anchor=\"start\" x=\"26\" y=\"-832.58\" font-family=\"Helvetica,sans-Serif\" font-size=\"14.00\">gini = 0.0</text>\n",
       "<text text-anchor=\"start\" x=\"12.12\" y=\"-815.33\" font-family=\"Helvetica,sans-Serif\" font-size=\"14.00\">samples = 10</text>\n",
       "<text text-anchor=\"start\" x=\"8\" y=\"-798.08\" font-family=\"Helvetica,sans-Serif\" font-size=\"14.00\">value = [10, 0]</text>\n",
       "<text text-anchor=\"start\" x=\"28.25\" y=\"-780.83\" font-family=\"Helvetica,sans-Serif\" font-size=\"14.00\">class = 0</text>\n",
       "</g>\n",
       "<!-- 2&#45;&gt;3 -->\n",
       "<g id=\"edge3\" class=\"edge\">\n",
       "<title>2&#45;&gt;3</title>\n",
       "<path fill=\"none\" stroke=\"black\" d=\"M163.38,-894.32C148.17,-882.21 131.8,-869.17 116.69,-857.14\"/>\n",
       "<polygon fill=\"black\" stroke=\"black\" points=\"119.15,-854.62 109.15,-851.13 114.79,-860.09 119.15,-854.62\"/>\n",
       "</g>\n",
       "<!-- 4 -->\n",
       "<g id=\"node5\" class=\"node\">\n",
       "<title>4</title>\n",
       "<path fill=\"#eca572\" stroke=\"black\" d=\"M291.75,-858.5C291.75,-858.5 151.25,-858.5 151.25,-858.5 145.25,-858.5 139.25,-852.5 139.25,-846.5 139.25,-846.5 139.25,-776.25 139.25,-776.25 139.25,-770.25 145.25,-764.25 151.25,-764.25 151.25,-764.25 291.75,-764.25 291.75,-764.25 297.75,-764.25 303.75,-770.25 303.75,-776.25 303.75,-776.25 303.75,-846.5 303.75,-846.5 303.75,-852.5 297.75,-858.5 291.75,-858.5\"/>\n",
       "<text text-anchor=\"start\" x=\"147.25\" y=\"-841.2\" font-family=\"Helvetica,sans-Serif\" font-size=\"14.00\">pricepercent ≤ 0.296</text>\n",
       "<text text-anchor=\"start\" x=\"178\" y=\"-823.95\" font-family=\"Helvetica,sans-Serif\" font-size=\"14.00\">gini = 0.346</text>\n",
       "<text text-anchor=\"start\" x=\"173.12\" y=\"-806.7\" font-family=\"Helvetica,sans-Serif\" font-size=\"14.00\">samples = 18</text>\n",
       "<text text-anchor=\"start\" x=\"169\" y=\"-789.45\" font-family=\"Helvetica,sans-Serif\" font-size=\"14.00\">value = [14, 4]</text>\n",
       "<text text-anchor=\"start\" x=\"189.25\" y=\"-772.2\" font-family=\"Helvetica,sans-Serif\" font-size=\"14.00\">class = 0</text>\n",
       "</g>\n",
       "<!-- 2&#45;&gt;4 -->\n",
       "<g id=\"edge4\" class=\"edge\">\n",
       "<title>2&#45;&gt;4</title>\n",
       "<path fill=\"none\" stroke=\"black\" d=\"M221.5,-894.32C221.5,-886.42 221.5,-878.13 221.5,-869.98\"/>\n",
       "<polygon fill=\"black\" stroke=\"black\" points=\"225,-870.12 221.5,-860.12 218,-870.12 225,-870.12\"/>\n",
       "</g>\n",
       "<!-- 5 -->\n",
       "<g id=\"node6\" class=\"node\">\n",
       "<title>5</title>\n",
       "<path fill=\"#399de5\" stroke=\"black\" d=\"M152.5,-719.62C152.5,-719.62 64.5,-719.62 64.5,-719.62 58.5,-719.62 52.5,-713.62 52.5,-707.62 52.5,-707.62 52.5,-654.62 52.5,-654.62 52.5,-648.62 58.5,-642.62 64.5,-642.62 64.5,-642.62 152.5,-642.62 152.5,-642.62 158.5,-642.62 164.5,-648.62 164.5,-654.62 164.5,-654.62 164.5,-707.62 164.5,-707.62 164.5,-713.62 158.5,-719.62 152.5,-719.62\"/>\n",
       "<text text-anchor=\"start\" x=\"74\" y=\"-702.33\" font-family=\"Helvetica,sans-Serif\" font-size=\"14.00\">gini = 0.0</text>\n",
       "<text text-anchor=\"start\" x=\"64.62\" y=\"-685.08\" font-family=\"Helvetica,sans-Serif\" font-size=\"14.00\">samples = 1</text>\n",
       "<text text-anchor=\"start\" x=\"60.5\" y=\"-667.83\" font-family=\"Helvetica,sans-Serif\" font-size=\"14.00\">value = [0, 1]</text>\n",
       "<text text-anchor=\"start\" x=\"76.25\" y=\"-650.58\" font-family=\"Helvetica,sans-Serif\" font-size=\"14.00\">class = 1</text>\n",
       "</g>\n",
       "<!-- 4&#45;&gt;5 -->\n",
       "<g id=\"edge5\" class=\"edge\">\n",
       "<title>4&#45;&gt;5</title>\n",
       "<path fill=\"none\" stroke=\"black\" d=\"M180.7,-764.07C170.43,-752.41 159.4,-739.89 149.13,-728.24\"/>\n",
       "<polygon fill=\"black\" stroke=\"black\" points=\"152.05,-726.26 142.81,-721.07 146.8,-730.88 152.05,-726.26\"/>\n",
       "</g>\n",
       "<!-- 6 -->\n",
       "<g id=\"node7\" class=\"node\">\n",
       "<title>6</title>\n",
       "<path fill=\"#eb9c63\" stroke=\"black\" d=\"M292,-728.25C292,-728.25 195,-728.25 195,-728.25 189,-728.25 183,-722.25 183,-716.25 183,-716.25 183,-646 183,-646 183,-640 189,-634 195,-634 195,-634 292,-634 292,-634 298,-634 304,-640 304,-646 304,-646 304,-716.25 304,-716.25 304,-722.25 298,-728.25 292,-728.25\"/>\n",
       "<text text-anchor=\"start\" x=\"193.25\" y=\"-710.95\" font-family=\"Helvetica,sans-Serif\" font-size=\"14.00\">pluribus ≤ 0.5</text>\n",
       "<text text-anchor=\"start\" x=\"200\" y=\"-693.7\" font-family=\"Helvetica,sans-Serif\" font-size=\"14.00\">gini = 0.291</text>\n",
       "<text text-anchor=\"start\" x=\"195.12\" y=\"-676.45\" font-family=\"Helvetica,sans-Serif\" font-size=\"14.00\">samples = 17</text>\n",
       "<text text-anchor=\"start\" x=\"191\" y=\"-659.2\" font-family=\"Helvetica,sans-Serif\" font-size=\"14.00\">value = [14, 3]</text>\n",
       "<text text-anchor=\"start\" x=\"211.25\" y=\"-641.95\" font-family=\"Helvetica,sans-Serif\" font-size=\"14.00\">class = 0</text>\n",
       "</g>\n",
       "<!-- 4&#45;&gt;6 -->\n",
       "<g id=\"edge6\" class=\"edge\">\n",
       "<title>4&#45;&gt;6</title>\n",
       "<path fill=\"none\" stroke=\"black\" d=\"M229.44,-764.07C230.81,-756.08 232.25,-747.69 233.67,-739.45\"/>\n",
       "<polygon fill=\"black\" stroke=\"black\" points=\"237.07,-740.3 235.31,-729.85 230.17,-739.11 237.07,-740.3\"/>\n",
       "</g>\n",
       "<!-- 7 -->\n",
       "<g id=\"node8\" class=\"node\">\n",
       "<title>7</title>\n",
       "<path fill=\"#e58139\" stroke=\"black\" d=\"M180.5,-589.38C180.5,-589.38 92.5,-589.38 92.5,-589.38 86.5,-589.38 80.5,-583.38 80.5,-577.38 80.5,-577.38 80.5,-524.38 80.5,-524.38 80.5,-518.38 86.5,-512.38 92.5,-512.38 92.5,-512.38 180.5,-512.38 180.5,-512.38 186.5,-512.38 192.5,-518.38 192.5,-524.38 192.5,-524.38 192.5,-577.38 192.5,-577.38 192.5,-583.38 186.5,-589.38 180.5,-589.38\"/>\n",
       "<text text-anchor=\"start\" x=\"102\" y=\"-572.08\" font-family=\"Helvetica,sans-Serif\" font-size=\"14.00\">gini = 0.0</text>\n",
       "<text text-anchor=\"start\" x=\"92.62\" y=\"-554.83\" font-family=\"Helvetica,sans-Serif\" font-size=\"14.00\">samples = 6</text>\n",
       "<text text-anchor=\"start\" x=\"88.5\" y=\"-537.58\" font-family=\"Helvetica,sans-Serif\" font-size=\"14.00\">value = [6, 0]</text>\n",
       "<text text-anchor=\"start\" x=\"104.25\" y=\"-520.33\" font-family=\"Helvetica,sans-Serif\" font-size=\"14.00\">class = 0</text>\n",
       "</g>\n",
       "<!-- 6&#45;&gt;7 -->\n",
       "<g id=\"edge7\" class=\"edge\">\n",
       "<title>6&#45;&gt;7</title>\n",
       "<path fill=\"none\" stroke=\"black\" d=\"M204.87,-633.82C195.23,-622.27 184.9,-609.89 175.26,-598.33\"/>\n",
       "<polygon fill=\"black\" stroke=\"black\" points=\"178.11,-596.28 169.01,-590.84 172.73,-600.77 178.11,-596.28\"/>\n",
       "</g>\n",
       "<!-- 8 -->\n",
       "<g id=\"node9\" class=\"node\">\n",
       "<title>8</title>\n",
       "<path fill=\"#efb083\" stroke=\"black\" d=\"M368.38,-598C368.38,-598 222.62,-598 222.62,-598 216.62,-598 210.62,-592 210.62,-586 210.62,-586 210.62,-515.75 210.62,-515.75 210.62,-509.75 216.62,-503.75 222.62,-503.75 222.62,-503.75 368.38,-503.75 368.38,-503.75 374.38,-503.75 380.38,-509.75 380.38,-515.75 380.38,-515.75 380.38,-586 380.38,-586 380.38,-592 374.38,-598 368.38,-598\"/>\n",
       "<text text-anchor=\"start\" x=\"218.62\" y=\"-580.7\" font-family=\"Helvetica,sans-Serif\" font-size=\"14.00\">sugarpercent ≤ 0.389</text>\n",
       "<text text-anchor=\"start\" x=\"252\" y=\"-563.45\" font-family=\"Helvetica,sans-Serif\" font-size=\"14.00\">gini = 0.397</text>\n",
       "<text text-anchor=\"start\" x=\"247.12\" y=\"-546.2\" font-family=\"Helvetica,sans-Serif\" font-size=\"14.00\">samples = 11</text>\n",
       "<text text-anchor=\"start\" x=\"247.5\" y=\"-528.95\" font-family=\"Helvetica,sans-Serif\" font-size=\"14.00\">value = [8, 3]</text>\n",
       "<text text-anchor=\"start\" x=\"263.25\" y=\"-511.7\" font-family=\"Helvetica,sans-Serif\" font-size=\"14.00\">class = 0</text>\n",
       "</g>\n",
       "<!-- 6&#45;&gt;8 -->\n",
       "<g id=\"edge8\" class=\"edge\">\n",
       "<title>6&#45;&gt;8</title>\n",
       "<path fill=\"none\" stroke=\"black\" d=\"M262.27,-633.82C265.59,-625.65 269.07,-617.06 272.48,-608.64\"/>\n",
       "<polygon fill=\"black\" stroke=\"black\" points=\"275.67,-610.09 276.19,-599.51 269.18,-607.46 275.67,-610.09\"/>\n",
       "</g>\n",
       "<!-- 9 -->\n",
       "<g id=\"node10\" class=\"node\">\n",
       "<title>9</title>\n",
       "<path fill=\"#e58139\" stroke=\"black\" d=\"M259.5,-459.12C259.5,-459.12 171.5,-459.12 171.5,-459.12 165.5,-459.12 159.5,-453.12 159.5,-447.12 159.5,-447.12 159.5,-394.12 159.5,-394.12 159.5,-388.12 165.5,-382.12 171.5,-382.12 171.5,-382.12 259.5,-382.12 259.5,-382.12 265.5,-382.12 271.5,-388.12 271.5,-394.12 271.5,-394.12 271.5,-447.12 271.5,-447.12 271.5,-453.12 265.5,-459.12 259.5,-459.12\"/>\n",
       "<text text-anchor=\"start\" x=\"181\" y=\"-441.82\" font-family=\"Helvetica,sans-Serif\" font-size=\"14.00\">gini = 0.0</text>\n",
       "<text text-anchor=\"start\" x=\"171.62\" y=\"-424.57\" font-family=\"Helvetica,sans-Serif\" font-size=\"14.00\">samples = 4</text>\n",
       "<text text-anchor=\"start\" x=\"167.5\" y=\"-407.32\" font-family=\"Helvetica,sans-Serif\" font-size=\"14.00\">value = [4, 0]</text>\n",
       "<text text-anchor=\"start\" x=\"183.25\" y=\"-390.07\" font-family=\"Helvetica,sans-Serif\" font-size=\"14.00\">class = 0</text>\n",
       "</g>\n",
       "<!-- 8&#45;&gt;9 -->\n",
       "<g id=\"edge9\" class=\"edge\">\n",
       "<title>8&#45;&gt;9</title>\n",
       "<path fill=\"none\" stroke=\"black\" d=\"M266.62,-503.57C259.63,-492.36 252.14,-480.37 245.12,-469.1\"/>\n",
       "<polygon fill=\"black\" stroke=\"black\" points=\"248.15,-467.35 239.88,-460.72 242.21,-471.05 248.15,-467.35\"/>\n",
       "</g>\n",
       "<!-- 10 -->\n",
       "<g id=\"node11\" class=\"node\">\n",
       "<title>10</title>\n",
       "<path fill=\"#f8e0ce\" stroke=\"black\" d=\"M447.38,-467.75C447.38,-467.75 301.62,-467.75 301.62,-467.75 295.62,-467.75 289.62,-461.75 289.62,-455.75 289.62,-455.75 289.62,-385.5 289.62,-385.5 289.62,-379.5 295.62,-373.5 301.62,-373.5 301.62,-373.5 447.38,-373.5 447.38,-373.5 453.38,-373.5 459.38,-379.5 459.38,-385.5 459.38,-385.5 459.38,-455.75 459.38,-455.75 459.38,-461.75 453.38,-467.75 447.38,-467.75\"/>\n",
       "<text text-anchor=\"start\" x=\"297.62\" y=\"-450.45\" font-family=\"Helvetica,sans-Serif\" font-size=\"14.00\">sugarpercent ≤ 0.668</text>\n",
       "<text text-anchor=\"start\" x=\"335.5\" y=\"-433.2\" font-family=\"Helvetica,sans-Serif\" font-size=\"14.00\">gini = 0.49</text>\n",
       "<text text-anchor=\"start\" x=\"330.62\" y=\"-415.95\" font-family=\"Helvetica,sans-Serif\" font-size=\"14.00\">samples = 7</text>\n",
       "<text text-anchor=\"start\" x=\"326.5\" y=\"-398.7\" font-family=\"Helvetica,sans-Serif\" font-size=\"14.00\">value = [4, 3]</text>\n",
       "<text text-anchor=\"start\" x=\"342.25\" y=\"-381.45\" font-family=\"Helvetica,sans-Serif\" font-size=\"14.00\">class = 0</text>\n",
       "</g>\n",
       "<!-- 8&#45;&gt;10 -->\n",
       "<g id=\"edge10\" class=\"edge\">\n",
       "<title>8&#45;&gt;10</title>\n",
       "<path fill=\"none\" stroke=\"black\" d=\"M324.02,-503.57C329.22,-495.13 334.7,-486.24 340.05,-477.55\"/>\n",
       "<polygon fill=\"black\" stroke=\"black\" points=\"342.96,-479.5 345.23,-469.15 337,-475.83 342.96,-479.5\"/>\n",
       "</g>\n",
       "<!-- 11 -->\n",
       "<g id=\"node12\" class=\"node\">\n",
       "<title>11</title>\n",
       "<path fill=\"#bddef6\" stroke=\"black\" d=\"M366.75,-337.5C366.75,-337.5 226.25,-337.5 226.25,-337.5 220.25,-337.5 214.25,-331.5 214.25,-325.5 214.25,-325.5 214.25,-255.25 214.25,-255.25 214.25,-249.25 220.25,-243.25 226.25,-243.25 226.25,-243.25 366.75,-243.25 366.75,-243.25 372.75,-243.25 378.75,-249.25 378.75,-255.25 378.75,-255.25 378.75,-325.5 378.75,-325.5 378.75,-331.5 372.75,-337.5 366.75,-337.5\"/>\n",
       "<text text-anchor=\"start\" x=\"222.25\" y=\"-320.2\" font-family=\"Helvetica,sans-Serif\" font-size=\"14.00\">pricepercent ≤ 0.796</text>\n",
       "<text text-anchor=\"start\" x=\"257.5\" y=\"-302.95\" font-family=\"Helvetica,sans-Serif\" font-size=\"14.00\">gini = 0.48</text>\n",
       "<text text-anchor=\"start\" x=\"252.62\" y=\"-285.7\" font-family=\"Helvetica,sans-Serif\" font-size=\"14.00\">samples = 5</text>\n",
       "<text text-anchor=\"start\" x=\"248.5\" y=\"-268.45\" font-family=\"Helvetica,sans-Serif\" font-size=\"14.00\">value = [2, 3]</text>\n",
       "<text text-anchor=\"start\" x=\"264.25\" y=\"-251.2\" font-family=\"Helvetica,sans-Serif\" font-size=\"14.00\">class = 1</text>\n",
       "</g>\n",
       "<!-- 10&#45;&gt;11 -->\n",
       "<g id=\"edge11\" class=\"edge\">\n",
       "<title>10&#45;&gt;11</title>\n",
       "<path fill=\"none\" stroke=\"black\" d=\"M346.34,-373.32C341.2,-364.88 335.8,-355.99 330.51,-347.3\"/>\n",
       "<polygon fill=\"black\" stroke=\"black\" points=\"333.59,-345.63 325.4,-338.9 327.61,-349.26 333.59,-345.63\"/>\n",
       "</g>\n",
       "<!-- 16 -->\n",
       "<g id=\"node17\" class=\"node\">\n",
       "<title>16</title>\n",
       "<path fill=\"#e58139\" stroke=\"black\" d=\"M496.5,-328.88C496.5,-328.88 408.5,-328.88 408.5,-328.88 402.5,-328.88 396.5,-322.88 396.5,-316.88 396.5,-316.88 396.5,-263.88 396.5,-263.88 396.5,-257.88 402.5,-251.88 408.5,-251.88 408.5,-251.88 496.5,-251.88 496.5,-251.88 502.5,-251.88 508.5,-257.88 508.5,-263.88 508.5,-263.88 508.5,-316.88 508.5,-316.88 508.5,-322.88 502.5,-328.88 496.5,-328.88\"/>\n",
       "<text text-anchor=\"start\" x=\"418\" y=\"-311.57\" font-family=\"Helvetica,sans-Serif\" font-size=\"14.00\">gini = 0.0</text>\n",
       "<text text-anchor=\"start\" x=\"408.62\" y=\"-294.32\" font-family=\"Helvetica,sans-Serif\" font-size=\"14.00\">samples = 2</text>\n",
       "<text text-anchor=\"start\" x=\"404.5\" y=\"-277.07\" font-family=\"Helvetica,sans-Serif\" font-size=\"14.00\">value = [2, 0]</text>\n",
       "<text text-anchor=\"start\" x=\"420.25\" y=\"-259.82\" font-family=\"Helvetica,sans-Serif\" font-size=\"14.00\">class = 0</text>\n",
       "</g>\n",
       "<!-- 10&#45;&gt;16 -->\n",
       "<g id=\"edge16\" class=\"edge\">\n",
       "<title>10&#45;&gt;16</title>\n",
       "<path fill=\"none\" stroke=\"black\" d=\"M402.66,-373.32C409.48,-362.11 416.78,-350.12 423.63,-338.85\"/>\n",
       "<polygon fill=\"black\" stroke=\"black\" points=\"426.51,-340.84 428.72,-330.48 420.53,-337.2 426.51,-340.84\"/>\n",
       "</g>\n",
       "<!-- 12 -->\n",
       "<g id=\"node13\" class=\"node\">\n",
       "<title>12</title>\n",
       "<path fill=\"#7bbeee\" stroke=\"black\" d=\"M286.25,-207.25C286.25,-207.25 154.75,-207.25 154.75,-207.25 148.75,-207.25 142.75,-201.25 142.75,-195.25 142.75,-195.25 142.75,-125 142.75,-125 142.75,-119 148.75,-113 154.75,-113 154.75,-113 286.25,-113 286.25,-113 292.25,-113 298.25,-119 298.25,-125 298.25,-125 298.25,-195.25 298.25,-195.25 298.25,-201.25 292.25,-207.25 286.25,-207.25\"/>\n",
       "<text text-anchor=\"start\" x=\"150.75\" y=\"-189.95\" font-family=\"Helvetica,sans-Serif\" font-size=\"14.00\">pricepercent ≤ 0.61</text>\n",
       "<text text-anchor=\"start\" x=\"177\" y=\"-172.7\" font-family=\"Helvetica,sans-Serif\" font-size=\"14.00\">gini = 0.375</text>\n",
       "<text text-anchor=\"start\" x=\"176.62\" y=\"-155.45\" font-family=\"Helvetica,sans-Serif\" font-size=\"14.00\">samples = 4</text>\n",
       "<text text-anchor=\"start\" x=\"172.5\" y=\"-138.2\" font-family=\"Helvetica,sans-Serif\" font-size=\"14.00\">value = [1, 3]</text>\n",
       "<text text-anchor=\"start\" x=\"188.25\" y=\"-120.95\" font-family=\"Helvetica,sans-Serif\" font-size=\"14.00\">class = 1</text>\n",
       "</g>\n",
       "<!-- 11&#45;&gt;12 -->\n",
       "<g id=\"edge12\" class=\"edge\">\n",
       "<title>11&#45;&gt;12</title>\n",
       "<path fill=\"none\" stroke=\"black\" d=\"M269.06,-243.07C264.06,-234.63 258.79,-225.74 253.64,-217.05\"/>\n",
       "<polygon fill=\"black\" stroke=\"black\" points=\"256.78,-215.48 248.67,-208.66 250.76,-219.05 256.78,-215.48\"/>\n",
       "</g>\n",
       "<!-- 15 -->\n",
       "<g id=\"node16\" class=\"node\">\n",
       "<title>15</title>\n",
       "<path fill=\"#e58139\" stroke=\"black\" d=\"M416.5,-198.62C416.5,-198.62 328.5,-198.62 328.5,-198.62 322.5,-198.62 316.5,-192.62 316.5,-186.62 316.5,-186.62 316.5,-133.62 316.5,-133.62 316.5,-127.62 322.5,-121.62 328.5,-121.62 328.5,-121.62 416.5,-121.62 416.5,-121.62 422.5,-121.62 428.5,-127.62 428.5,-133.62 428.5,-133.62 428.5,-186.62 428.5,-186.62 428.5,-192.62 422.5,-198.62 416.5,-198.62\"/>\n",
       "<text text-anchor=\"start\" x=\"338\" y=\"-181.32\" font-family=\"Helvetica,sans-Serif\" font-size=\"14.00\">gini = 0.0</text>\n",
       "<text text-anchor=\"start\" x=\"328.62\" y=\"-164.07\" font-family=\"Helvetica,sans-Serif\" font-size=\"14.00\">samples = 1</text>\n",
       "<text text-anchor=\"start\" x=\"324.5\" y=\"-146.82\" font-family=\"Helvetica,sans-Serif\" font-size=\"14.00\">value = [1, 0]</text>\n",
       "<text text-anchor=\"start\" x=\"340.25\" y=\"-129.57\" font-family=\"Helvetica,sans-Serif\" font-size=\"14.00\">class = 0</text>\n",
       "</g>\n",
       "<!-- 11&#45;&gt;15 -->\n",
       "<g id=\"edge15\" class=\"edge\">\n",
       "<title>11&#45;&gt;15</title>\n",
       "<path fill=\"none\" stroke=\"black\" d=\"M323.94,-243.07C330.58,-231.86 337.69,-219.87 344.37,-208.6\"/>\n",
       "<polygon fill=\"black\" stroke=\"black\" points=\"347.24,-210.62 349.32,-200.23 341.22,-207.05 347.24,-210.62\"/>\n",
       "</g>\n",
       "<!-- 13 -->\n",
       "<g id=\"node14\" class=\"node\">\n",
       "<title>13</title>\n",
       "<path fill=\"#9ccef2\" stroke=\"black\" d=\"M199.5,-77C199.5,-77 111.5,-77 111.5,-77 105.5,-77 99.5,-71 99.5,-65 99.5,-65 99.5,-12 99.5,-12 99.5,-6 105.5,0 111.5,0 111.5,0 199.5,0 199.5,0 205.5,0 211.5,-6 211.5,-12 211.5,-12 211.5,-65 211.5,-65 211.5,-71 205.5,-77 199.5,-77\"/>\n",
       "<text text-anchor=\"start\" x=\"112\" y=\"-59.7\" font-family=\"Helvetica,sans-Serif\" font-size=\"14.00\">gini = 0.444</text>\n",
       "<text text-anchor=\"start\" x=\"111.62\" y=\"-42.45\" font-family=\"Helvetica,sans-Serif\" font-size=\"14.00\">samples = 3</text>\n",
       "<text text-anchor=\"start\" x=\"107.5\" y=\"-25.2\" font-family=\"Helvetica,sans-Serif\" font-size=\"14.00\">value = [1, 2]</text>\n",
       "<text text-anchor=\"start\" x=\"123.25\" y=\"-7.95\" font-family=\"Helvetica,sans-Serif\" font-size=\"14.00\">class = 1</text>\n",
       "</g>\n",
       "<!-- 12&#45;&gt;13 -->\n",
       "<g id=\"edge13\" class=\"edge\">\n",
       "<title>12&#45;&gt;13</title>\n",
       "<path fill=\"none\" stroke=\"black\" d=\"M195.18,-112.53C190.67,-104.23 185.97,-95.57 181.44,-87.24\"/>\n",
       "<polygon fill=\"black\" stroke=\"black\" points=\"184.6,-85.73 176.75,-78.61 178.45,-89.07 184.6,-85.73\"/>\n",
       "</g>\n",
       "<!-- 14 -->\n",
       "<g id=\"node15\" class=\"node\">\n",
       "<title>14</title>\n",
       "<path fill=\"#399de5\" stroke=\"black\" d=\"M329.5,-77C329.5,-77 241.5,-77 241.5,-77 235.5,-77 229.5,-71 229.5,-65 229.5,-65 229.5,-12 229.5,-12 229.5,-6 235.5,0 241.5,0 241.5,0 329.5,0 329.5,0 335.5,0 341.5,-6 341.5,-12 341.5,-12 341.5,-65 341.5,-65 341.5,-71 335.5,-77 329.5,-77\"/>\n",
       "<text text-anchor=\"start\" x=\"251\" y=\"-59.7\" font-family=\"Helvetica,sans-Serif\" font-size=\"14.00\">gini = 0.0</text>\n",
       "<text text-anchor=\"start\" x=\"241.62\" y=\"-42.45\" font-family=\"Helvetica,sans-Serif\" font-size=\"14.00\">samples = 1</text>\n",
       "<text text-anchor=\"start\" x=\"237.5\" y=\"-25.2\" font-family=\"Helvetica,sans-Serif\" font-size=\"14.00\">value = [0, 1]</text>\n",
       "<text text-anchor=\"start\" x=\"253.25\" y=\"-7.95\" font-family=\"Helvetica,sans-Serif\" font-size=\"14.00\">class = 1</text>\n",
       "</g>\n",
       "<!-- 12&#45;&gt;14 -->\n",
       "<g id=\"edge14\" class=\"edge\">\n",
       "<title>12&#45;&gt;14</title>\n",
       "<path fill=\"none\" stroke=\"black\" d=\"M245.82,-112.53C250.33,-104.23 255.03,-95.57 259.56,-87.24\"/>\n",
       "<polygon fill=\"black\" stroke=\"black\" points=\"262.55,-89.07 264.25,-78.61 256.4,-85.73 262.55,-89.07\"/>\n",
       "</g>\n",
       "<!-- 18 -->\n",
       "<g id=\"node19\" class=\"node\">\n",
       "<title>18</title>\n",
       "<path fill=\"#e58139\" stroke=\"black\" d=\"M421.5,-849.88C421.5,-849.88 333.5,-849.88 333.5,-849.88 327.5,-849.88 321.5,-843.88 321.5,-837.88 321.5,-837.88 321.5,-784.88 321.5,-784.88 321.5,-778.88 327.5,-772.88 333.5,-772.88 333.5,-772.88 421.5,-772.88 421.5,-772.88 427.5,-772.88 433.5,-778.88 433.5,-784.88 433.5,-784.88 433.5,-837.88 433.5,-837.88 433.5,-843.88 427.5,-849.88 421.5,-849.88\"/>\n",
       "<text text-anchor=\"start\" x=\"343\" y=\"-832.58\" font-family=\"Helvetica,sans-Serif\" font-size=\"14.00\">gini = 0.0</text>\n",
       "<text text-anchor=\"start\" x=\"333.62\" y=\"-815.33\" font-family=\"Helvetica,sans-Serif\" font-size=\"14.00\">samples = 2</text>\n",
       "<text text-anchor=\"start\" x=\"329.5\" y=\"-798.08\" font-family=\"Helvetica,sans-Serif\" font-size=\"14.00\">value = [2, 0]</text>\n",
       "<text text-anchor=\"start\" x=\"345.25\" y=\"-780.83\" font-family=\"Helvetica,sans-Serif\" font-size=\"14.00\">class = 0</text>\n",
       "</g>\n",
       "<!-- 17&#45;&gt;18 -->\n",
       "<g id=\"edge18\" class=\"edge\">\n",
       "<title>17&#45;&gt;18</title>\n",
       "<path fill=\"none\" stroke=\"black\" d=\"M419.03,-894.32C413.41,-883.23 407.39,-871.36 401.74,-860.19\"/>\n",
       "<polygon fill=\"black\" stroke=\"black\" points=\"404.99,-858.87 397.35,-851.53 398.74,-862.03 404.99,-858.87\"/>\n",
       "</g>\n",
       "<!-- 19 -->\n",
       "<g id=\"node20\" class=\"node\">\n",
       "<title>19</title>\n",
       "<path fill=\"#9ccef2\" stroke=\"black\" d=\"M603.75,-858.5C603.75,-858.5 463.25,-858.5 463.25,-858.5 457.25,-858.5 451.25,-852.5 451.25,-846.5 451.25,-846.5 451.25,-776.25 451.25,-776.25 451.25,-770.25 457.25,-764.25 463.25,-764.25 463.25,-764.25 603.75,-764.25 603.75,-764.25 609.75,-764.25 615.75,-770.25 615.75,-776.25 615.75,-776.25 615.75,-846.5 615.75,-846.5 615.75,-852.5 609.75,-858.5 603.75,-858.5\"/>\n",
       "<text text-anchor=\"start\" x=\"459.25\" y=\"-841.2\" font-family=\"Helvetica,sans-Serif\" font-size=\"14.00\">pricepercent ≤ 0.272</text>\n",
       "<text text-anchor=\"start\" x=\"490\" y=\"-823.95\" font-family=\"Helvetica,sans-Serif\" font-size=\"14.00\">gini = 0.444</text>\n",
       "<text text-anchor=\"start\" x=\"489.62\" y=\"-806.7\" font-family=\"Helvetica,sans-Serif\" font-size=\"14.00\">samples = 6</text>\n",
       "<text text-anchor=\"start\" x=\"485.5\" y=\"-789.45\" font-family=\"Helvetica,sans-Serif\" font-size=\"14.00\">value = [2, 4]</text>\n",
       "<text text-anchor=\"start\" x=\"501.25\" y=\"-772.2\" font-family=\"Helvetica,sans-Serif\" font-size=\"14.00\">class = 1</text>\n",
       "</g>\n",
       "<!-- 17&#45;&gt;19 -->\n",
       "<g id=\"edge19\" class=\"edge\">\n",
       "<title>17&#45;&gt;19</title>\n",
       "<path fill=\"none\" stroke=\"black\" d=\"M475.35,-894.32C481.47,-885.7 487.93,-876.6 494.22,-867.74\"/>\n",
       "<polygon fill=\"black\" stroke=\"black\" points=\"496.89,-870.02 499.82,-859.84 491.18,-865.97 496.89,-870.02\"/>\n",
       "</g>\n",
       "<!-- 20 -->\n",
       "<g id=\"node21\" class=\"node\">\n",
       "<title>20</title>\n",
       "<path fill=\"#399de5\" stroke=\"black\" d=\"M494.5,-719.62C494.5,-719.62 406.5,-719.62 406.5,-719.62 400.5,-719.62 394.5,-713.62 394.5,-707.62 394.5,-707.62 394.5,-654.62 394.5,-654.62 394.5,-648.62 400.5,-642.62 406.5,-642.62 406.5,-642.62 494.5,-642.62 494.5,-642.62 500.5,-642.62 506.5,-648.62 506.5,-654.62 506.5,-654.62 506.5,-707.62 506.5,-707.62 506.5,-713.62 500.5,-719.62 494.5,-719.62\"/>\n",
       "<text text-anchor=\"start\" x=\"416\" y=\"-702.33\" font-family=\"Helvetica,sans-Serif\" font-size=\"14.00\">gini = 0.0</text>\n",
       "<text text-anchor=\"start\" x=\"406.62\" y=\"-685.08\" font-family=\"Helvetica,sans-Serif\" font-size=\"14.00\">samples = 2</text>\n",
       "<text text-anchor=\"start\" x=\"402.5\" y=\"-667.83\" font-family=\"Helvetica,sans-Serif\" font-size=\"14.00\">value = [0, 2]</text>\n",
       "<text text-anchor=\"start\" x=\"418.25\" y=\"-650.58\" font-family=\"Helvetica,sans-Serif\" font-size=\"14.00\">class = 1</text>\n",
       "</g>\n",
       "<!-- 19&#45;&gt;20 -->\n",
       "<g id=\"edge20\" class=\"edge\">\n",
       "<title>19&#45;&gt;20</title>\n",
       "<path fill=\"none\" stroke=\"black\" d=\"M503.54,-764.07C496.21,-752.75 488.36,-740.62 481.01,-729.26\"/>\n",
       "<polygon fill=\"black\" stroke=\"black\" points=\"484.16,-727.7 475.79,-721.2 478.29,-731.5 484.16,-727.7\"/>\n",
       "</g>\n",
       "<!-- 21 -->\n",
       "<g id=\"node22\" class=\"node\">\n",
       "<title>21</title>\n",
       "<path fill=\"#ffffff\" stroke=\"black\" d=\"M628.75,-728.25C628.75,-728.25 536.25,-728.25 536.25,-728.25 530.25,-728.25 524.25,-722.25 524.25,-716.25 524.25,-716.25 524.25,-646 524.25,-646 524.25,-640 530.25,-634 536.25,-634 536.25,-634 628.75,-634 628.75,-634 634.75,-634 640.75,-640 640.75,-646 640.75,-646 640.75,-716.25 640.75,-716.25 640.75,-722.25 634.75,-728.25 628.75,-728.25\"/>\n",
       "<text text-anchor=\"start\" x=\"532.25\" y=\"-710.95\" font-family=\"Helvetica,sans-Serif\" font-size=\"14.00\">pluribus ≤ 0.5</text>\n",
       "<text text-anchor=\"start\" x=\"548\" y=\"-693.7\" font-family=\"Helvetica,sans-Serif\" font-size=\"14.00\">gini = 0.5</text>\n",
       "<text text-anchor=\"start\" x=\"538.62\" y=\"-676.45\" font-family=\"Helvetica,sans-Serif\" font-size=\"14.00\">samples = 4</text>\n",
       "<text text-anchor=\"start\" x=\"534.5\" y=\"-659.2\" font-family=\"Helvetica,sans-Serif\" font-size=\"14.00\">value = [2, 2]</text>\n",
       "<text text-anchor=\"start\" x=\"550.25\" y=\"-641.95\" font-family=\"Helvetica,sans-Serif\" font-size=\"14.00\">class = 0</text>\n",
       "</g>\n",
       "<!-- 19&#45;&gt;21 -->\n",
       "<g id=\"edge21\" class=\"edge\">\n",
       "<title>19&#45;&gt;21</title>\n",
       "<path fill=\"none\" stroke=\"black\" d=\"M551.19,-764.07C554.31,-755.9 557.6,-747.31 560.81,-738.89\"/>\n",
       "<polygon fill=\"black\" stroke=\"black\" points=\"564,-740.36 564.3,-729.77 557.46,-737.86 564,-740.36\"/>\n",
       "</g>\n",
       "<!-- 22 -->\n",
       "<g id=\"node23\" class=\"node\">\n",
       "<title>22</title>\n",
       "<path fill=\"#399de5\" stroke=\"black\" d=\"M574.5,-589.38C574.5,-589.38 486.5,-589.38 486.5,-589.38 480.5,-589.38 474.5,-583.38 474.5,-577.38 474.5,-577.38 474.5,-524.38 474.5,-524.38 474.5,-518.38 480.5,-512.38 486.5,-512.38 486.5,-512.38 574.5,-512.38 574.5,-512.38 580.5,-512.38 586.5,-518.38 586.5,-524.38 586.5,-524.38 586.5,-577.38 586.5,-577.38 586.5,-583.38 580.5,-589.38 574.5,-589.38\"/>\n",
       "<text text-anchor=\"start\" x=\"496\" y=\"-572.08\" font-family=\"Helvetica,sans-Serif\" font-size=\"14.00\">gini = 0.0</text>\n",
       "<text text-anchor=\"start\" x=\"486.62\" y=\"-554.83\" font-family=\"Helvetica,sans-Serif\" font-size=\"14.00\">samples = 1</text>\n",
       "<text text-anchor=\"start\" x=\"482.5\" y=\"-537.58\" font-family=\"Helvetica,sans-Serif\" font-size=\"14.00\">value = [0, 1]</text>\n",
       "<text text-anchor=\"start\" x=\"498.25\" y=\"-520.33\" font-family=\"Helvetica,sans-Serif\" font-size=\"14.00\">class = 1</text>\n",
       "</g>\n",
       "<!-- 21&#45;&gt;22 -->\n",
       "<g id=\"edge22\" class=\"edge\">\n",
       "<title>21&#45;&gt;22</title>\n",
       "<path fill=\"none\" stroke=\"black\" d=\"M563.73,-633.82C559.27,-622.84 554.51,-611.1 550.03,-600.04\"/>\n",
       "<polygon fill=\"black\" stroke=\"black\" points=\"553.4,-599.04 546.4,-591.08 546.91,-601.67 553.4,-599.04\"/>\n",
       "</g>\n",
       "<!-- 23 -->\n",
       "<g id=\"node24\" class=\"node\">\n",
       "<title>23</title>\n",
       "<path fill=\"#f2c09c\" stroke=\"black\" d=\"M752.88,-598C752.88,-598 616.12,-598 616.12,-598 610.12,-598 604.12,-592 604.12,-586 604.12,-586 604.12,-515.75 604.12,-515.75 604.12,-509.75 610.12,-503.75 616.12,-503.75 616.12,-503.75 752.88,-503.75 752.88,-503.75 758.88,-503.75 764.88,-509.75 764.88,-515.75 764.88,-515.75 764.88,-586 764.88,-586 764.88,-592 758.88,-598 752.88,-598\"/>\n",
       "<text text-anchor=\"start\" x=\"612.12\" y=\"-580.7\" font-family=\"Helvetica,sans-Serif\" font-size=\"14.00\">sugarpercent ≤ 0.86</text>\n",
       "<text text-anchor=\"start\" x=\"641\" y=\"-563.45\" font-family=\"Helvetica,sans-Serif\" font-size=\"14.00\">gini = 0.444</text>\n",
       "<text text-anchor=\"start\" x=\"640.62\" y=\"-546.2\" font-family=\"Helvetica,sans-Serif\" font-size=\"14.00\">samples = 3</text>\n",
       "<text text-anchor=\"start\" x=\"636.5\" y=\"-528.95\" font-family=\"Helvetica,sans-Serif\" font-size=\"14.00\">value = [2, 1]</text>\n",
       "<text text-anchor=\"start\" x=\"652.25\" y=\"-511.7\" font-family=\"Helvetica,sans-Serif\" font-size=\"14.00\">class = 0</text>\n",
       "</g>\n",
       "<!-- 21&#45;&gt;23 -->\n",
       "<g id=\"edge23\" class=\"edge\">\n",
       "<title>21&#45;&gt;23</title>\n",
       "<path fill=\"none\" stroke=\"black\" d=\"M619.32,-633.82C626.26,-625.11 633.57,-615.91 640.69,-606.96\"/>\n",
       "<polygon fill=\"black\" stroke=\"black\" points=\"643.3,-609.3 646.79,-599.29 637.82,-604.94 643.3,-609.3\"/>\n",
       "</g>\n",
       "<!-- 24 -->\n",
       "<g id=\"node25\" class=\"node\">\n",
       "<title>24</title>\n",
       "<path fill=\"#399de5\" stroke=\"black\" d=\"M663.5,-459.12C663.5,-459.12 575.5,-459.12 575.5,-459.12 569.5,-459.12 563.5,-453.12 563.5,-447.12 563.5,-447.12 563.5,-394.12 563.5,-394.12 563.5,-388.12 569.5,-382.12 575.5,-382.12 575.5,-382.12 663.5,-382.12 663.5,-382.12 669.5,-382.12 675.5,-388.12 675.5,-394.12 675.5,-394.12 675.5,-447.12 675.5,-447.12 675.5,-453.12 669.5,-459.12 663.5,-459.12\"/>\n",
       "<text text-anchor=\"start\" x=\"585\" y=\"-441.82\" font-family=\"Helvetica,sans-Serif\" font-size=\"14.00\">gini = 0.0</text>\n",
       "<text text-anchor=\"start\" x=\"575.62\" y=\"-424.57\" font-family=\"Helvetica,sans-Serif\" font-size=\"14.00\">samples = 1</text>\n",
       "<text text-anchor=\"start\" x=\"571.5\" y=\"-407.32\" font-family=\"Helvetica,sans-Serif\" font-size=\"14.00\">value = [0, 1]</text>\n",
       "<text text-anchor=\"start\" x=\"587.25\" y=\"-390.07\" font-family=\"Helvetica,sans-Serif\" font-size=\"14.00\">class = 1</text>\n",
       "</g>\n",
       "<!-- 23&#45;&gt;24 -->\n",
       "<g id=\"edge24\" class=\"edge\">\n",
       "<title>23&#45;&gt;24</title>\n",
       "<path fill=\"none\" stroke=\"black\" d=\"M661.03,-503.57C655.41,-492.48 649.39,-480.61 643.74,-469.44\"/>\n",
       "<polygon fill=\"black\" stroke=\"black\" points=\"646.99,-468.12 639.35,-460.78 640.74,-471.28 646.99,-468.12\"/>\n",
       "</g>\n",
       "<!-- 25 -->\n",
       "<g id=\"node26\" class=\"node\">\n",
       "<title>25</title>\n",
       "<path fill=\"#e58139\" stroke=\"black\" d=\"M793.5,-459.12C793.5,-459.12 705.5,-459.12 705.5,-459.12 699.5,-459.12 693.5,-453.12 693.5,-447.12 693.5,-447.12 693.5,-394.12 693.5,-394.12 693.5,-388.12 699.5,-382.12 705.5,-382.12 705.5,-382.12 793.5,-382.12 793.5,-382.12 799.5,-382.12 805.5,-388.12 805.5,-394.12 805.5,-394.12 805.5,-447.12 805.5,-447.12 805.5,-453.12 799.5,-459.12 793.5,-459.12\"/>\n",
       "<text text-anchor=\"start\" x=\"715\" y=\"-441.82\" font-family=\"Helvetica,sans-Serif\" font-size=\"14.00\">gini = 0.0</text>\n",
       "<text text-anchor=\"start\" x=\"705.62\" y=\"-424.57\" font-family=\"Helvetica,sans-Serif\" font-size=\"14.00\">samples = 2</text>\n",
       "<text text-anchor=\"start\" x=\"701.5\" y=\"-407.32\" font-family=\"Helvetica,sans-Serif\" font-size=\"14.00\">value = [2, 0]</text>\n",
       "<text text-anchor=\"start\" x=\"717.25\" y=\"-390.07\" font-family=\"Helvetica,sans-Serif\" font-size=\"14.00\">class = 0</text>\n",
       "</g>\n",
       "<!-- 23&#45;&gt;25 -->\n",
       "<g id=\"edge25\" class=\"edge\">\n",
       "<title>23&#45;&gt;25</title>\n",
       "<path fill=\"none\" stroke=\"black\" d=\"M707.97,-503.57C713.59,-492.48 719.61,-480.61 725.26,-469.44\"/>\n",
       "<polygon fill=\"black\" stroke=\"black\" points=\"728.26,-471.28 729.65,-460.78 722.01,-468.12 728.26,-471.28\"/>\n",
       "</g>\n",
       "<!-- 27 -->\n",
       "<g id=\"node28\" class=\"node\">\n",
       "<title>27</title>\n",
       "<path fill=\"#f2c09c\" stroke=\"black\" d=\"M811.88,-988.75C811.88,-988.75 675.12,-988.75 675.12,-988.75 669.12,-988.75 663.12,-982.75 663.12,-976.75 663.12,-976.75 663.12,-906.5 663.12,-906.5 663.12,-900.5 669.12,-894.5 675.12,-894.5 675.12,-894.5 811.88,-894.5 811.88,-894.5 817.88,-894.5 823.88,-900.5 823.88,-906.5 823.88,-906.5 823.88,-976.75 823.88,-976.75 823.88,-982.75 817.88,-988.75 811.88,-988.75\"/>\n",
       "<text text-anchor=\"start\" x=\"671.12\" y=\"-971.45\" font-family=\"Helvetica,sans-Serif\" font-size=\"14.00\">sugarpercent ≤ 0.15</text>\n",
       "<text text-anchor=\"start\" x=\"700\" y=\"-954.2\" font-family=\"Helvetica,sans-Serif\" font-size=\"14.00\">gini = 0.444</text>\n",
       "<text text-anchor=\"start\" x=\"699.62\" y=\"-936.95\" font-family=\"Helvetica,sans-Serif\" font-size=\"14.00\">samples = 6</text>\n",
       "<text text-anchor=\"start\" x=\"695.5\" y=\"-919.7\" font-family=\"Helvetica,sans-Serif\" font-size=\"14.00\">value = [4, 2]</text>\n",
       "<text text-anchor=\"start\" x=\"711.25\" y=\"-902.45\" font-family=\"Helvetica,sans-Serif\" font-size=\"14.00\">class = 0</text>\n",
       "</g>\n",
       "<!-- 26&#45;&gt;27 -->\n",
       "<g id=\"edge27\" class=\"edge\">\n",
       "<title>26&#45;&gt;27</title>\n",
       "<path fill=\"none\" stroke=\"black\" d=\"M743.5,-1024.57C743.5,-1016.67 743.5,-1008.38 743.5,-1000.23\"/>\n",
       "<polygon fill=\"black\" stroke=\"black\" points=\"747,-1000.37 743.5,-990.37 740,-1000.37 747,-1000.37\"/>\n",
       "</g>\n",
       "<!-- 30 -->\n",
       "<g id=\"node31\" class=\"node\">\n",
       "<title>30</title>\n",
       "<path fill=\"#5aade9\" stroke=\"black\" d=\"M1054.38,-988.75C1054.38,-988.75 908.62,-988.75 908.62,-988.75 902.62,-988.75 896.62,-982.75 896.62,-976.75 896.62,-976.75 896.62,-906.5 896.62,-906.5 896.62,-900.5 902.62,-894.5 908.62,-894.5 908.62,-894.5 1054.38,-894.5 1054.38,-894.5 1060.38,-894.5 1066.38,-900.5 1066.38,-906.5 1066.38,-906.5 1066.38,-976.75 1066.38,-976.75 1066.38,-982.75 1060.38,-988.75 1054.38,-988.75\"/>\n",
       "<text text-anchor=\"start\" x=\"904.62\" y=\"-971.45\" font-family=\"Helvetica,sans-Serif\" font-size=\"14.00\">sugarpercent ≤ 0.372</text>\n",
       "<text text-anchor=\"start\" x=\"938\" y=\"-954.2\" font-family=\"Helvetica,sans-Serif\" font-size=\"14.00\">gini = 0.245</text>\n",
       "<text text-anchor=\"start\" x=\"933.12\" y=\"-936.95\" font-family=\"Helvetica,sans-Serif\" font-size=\"14.00\">samples = 21</text>\n",
       "<text text-anchor=\"start\" x=\"929\" y=\"-919.7\" font-family=\"Helvetica,sans-Serif\" font-size=\"14.00\">value = [3, 18]</text>\n",
       "<text text-anchor=\"start\" x=\"949.25\" y=\"-902.45\" font-family=\"Helvetica,sans-Serif\" font-size=\"14.00\">class = 1</text>\n",
       "</g>\n",
       "<!-- 26&#45;&gt;30 -->\n",
       "<g id=\"edge30\" class=\"edge\">\n",
       "<title>26&#45;&gt;30</title>\n",
       "<path fill=\"none\" stroke=\"black\" d=\"M826.07,-1026.38C845.48,-1015.92 866.32,-1004.69 886.24,-993.96\"/>\n",
       "<polygon fill=\"black\" stroke=\"black\" points=\"887.77,-997.11 894.91,-989.28 884.45,-990.95 887.77,-997.11\"/>\n",
       "</g>\n",
       "<!-- 28 -->\n",
       "<g id=\"node29\" class=\"node\">\n",
       "<title>28</title>\n",
       "<path fill=\"#399de5\" stroke=\"black\" d=\"M733.5,-849.88C733.5,-849.88 645.5,-849.88 645.5,-849.88 639.5,-849.88 633.5,-843.88 633.5,-837.88 633.5,-837.88 633.5,-784.88 633.5,-784.88 633.5,-778.88 639.5,-772.88 645.5,-772.88 645.5,-772.88 733.5,-772.88 733.5,-772.88 739.5,-772.88 745.5,-778.88 745.5,-784.88 745.5,-784.88 745.5,-837.88 745.5,-837.88 745.5,-843.88 739.5,-849.88 733.5,-849.88\"/>\n",
       "<text text-anchor=\"start\" x=\"655\" y=\"-832.58\" font-family=\"Helvetica,sans-Serif\" font-size=\"14.00\">gini = 0.0</text>\n",
       "<text text-anchor=\"start\" x=\"645.62\" y=\"-815.33\" font-family=\"Helvetica,sans-Serif\" font-size=\"14.00\">samples = 2</text>\n",
       "<text text-anchor=\"start\" x=\"641.5\" y=\"-798.08\" font-family=\"Helvetica,sans-Serif\" font-size=\"14.00\">value = [0, 2]</text>\n",
       "<text text-anchor=\"start\" x=\"657.25\" y=\"-780.83\" font-family=\"Helvetica,sans-Serif\" font-size=\"14.00\">class = 1</text>\n",
       "</g>\n",
       "<!-- 27&#45;&gt;28 -->\n",
       "<g id=\"edge28\" class=\"edge\">\n",
       "<title>27&#45;&gt;28</title>\n",
       "<path fill=\"none\" stroke=\"black\" d=\"M724,-894.32C719.38,-883.34 714.44,-871.6 709.78,-860.54\"/>\n",
       "<polygon fill=\"black\" stroke=\"black\" points=\"713.11,-859.44 706.01,-851.58 706.66,-862.15 713.11,-859.44\"/>\n",
       "</g>\n",
       "<!-- 29 -->\n",
       "<g id=\"node30\" class=\"node\">\n",
       "<title>29</title>\n",
       "<path fill=\"#e58139\" stroke=\"black\" d=\"M863.5,-849.88C863.5,-849.88 775.5,-849.88 775.5,-849.88 769.5,-849.88 763.5,-843.88 763.5,-837.88 763.5,-837.88 763.5,-784.88 763.5,-784.88 763.5,-778.88 769.5,-772.88 775.5,-772.88 775.5,-772.88 863.5,-772.88 863.5,-772.88 869.5,-772.88 875.5,-778.88 875.5,-784.88 875.5,-784.88 875.5,-837.88 875.5,-837.88 875.5,-843.88 869.5,-849.88 863.5,-849.88\"/>\n",
       "<text text-anchor=\"start\" x=\"785\" y=\"-832.58\" font-family=\"Helvetica,sans-Serif\" font-size=\"14.00\">gini = 0.0</text>\n",
       "<text text-anchor=\"start\" x=\"775.62\" y=\"-815.33\" font-family=\"Helvetica,sans-Serif\" font-size=\"14.00\">samples = 4</text>\n",
       "<text text-anchor=\"start\" x=\"771.5\" y=\"-798.08\" font-family=\"Helvetica,sans-Serif\" font-size=\"14.00\">value = [4, 0]</text>\n",
       "<text text-anchor=\"start\" x=\"787.25\" y=\"-780.83\" font-family=\"Helvetica,sans-Serif\" font-size=\"14.00\">class = 0</text>\n",
       "</g>\n",
       "<!-- 27&#45;&gt;29 -->\n",
       "<g id=\"edge29\" class=\"edge\">\n",
       "<title>27&#45;&gt;29</title>\n",
       "<path fill=\"none\" stroke=\"black\" d=\"M770.94,-894.32C777.58,-883.11 784.69,-871.12 791.37,-859.85\"/>\n",
       "<polygon fill=\"black\" stroke=\"black\" points=\"794.24,-861.87 796.32,-851.48 788.22,-858.3 794.24,-861.87\"/>\n",
       "</g>\n",
       "<!-- 31 -->\n",
       "<g id=\"node32\" class=\"node\">\n",
       "<title>31</title>\n",
       "<path fill=\"#f6d5bd\" stroke=\"black\" d=\"M1057,-858.5C1057,-858.5 906,-858.5 906,-858.5 900,-858.5 894,-852.5 894,-846.5 894,-846.5 894,-776.25 894,-776.25 894,-770.25 900,-764.25 906,-764.25 906,-764.25 1057,-764.25 1057,-764.25 1063,-764.25 1069,-770.25 1069,-776.25 1069,-776.25 1069,-846.5 1069,-846.5 1069,-852.5 1063,-858.5 1057,-858.5\"/>\n",
       "<text text-anchor=\"start\" x=\"902\" y=\"-841.2\" font-family=\"Helvetica,sans-Serif\" font-size=\"14.00\">crispedricewafer ≤ 0.5</text>\n",
       "<text text-anchor=\"start\" x=\"942.5\" y=\"-823.95\" font-family=\"Helvetica,sans-Serif\" font-size=\"14.00\">gini = 0.48</text>\n",
       "<text text-anchor=\"start\" x=\"937.62\" y=\"-806.7\" font-family=\"Helvetica,sans-Serif\" font-size=\"14.00\">samples = 5</text>\n",
       "<text text-anchor=\"start\" x=\"933.5\" y=\"-789.45\" font-family=\"Helvetica,sans-Serif\" font-size=\"14.00\">value = [3, 2]</text>\n",
       "<text text-anchor=\"start\" x=\"949.25\" y=\"-772.2\" font-family=\"Helvetica,sans-Serif\" font-size=\"14.00\">class = 0</text>\n",
       "</g>\n",
       "<!-- 30&#45;&gt;31 -->\n",
       "<g id=\"edge31\" class=\"edge\">\n",
       "<title>30&#45;&gt;31</title>\n",
       "<path fill=\"none\" stroke=\"black\" d=\"M981.5,-894.32C981.5,-886.42 981.5,-878.13 981.5,-869.98\"/>\n",
       "<polygon fill=\"black\" stroke=\"black\" points=\"985,-870.12 981.5,-860.12 978,-870.12 985,-870.12\"/>\n",
       "</g>\n",
       "<!-- 34 -->\n",
       "<g id=\"node35\" class=\"node\">\n",
       "<title>34</title>\n",
       "<path fill=\"#399de5\" stroke=\"black\" d=\"M1196,-849.88C1196,-849.88 1099,-849.88 1099,-849.88 1093,-849.88 1087,-843.88 1087,-837.88 1087,-837.88 1087,-784.88 1087,-784.88 1087,-778.88 1093,-772.88 1099,-772.88 1099,-772.88 1196,-772.88 1196,-772.88 1202,-772.88 1208,-778.88 1208,-784.88 1208,-784.88 1208,-837.88 1208,-837.88 1208,-843.88 1202,-849.88 1196,-849.88\"/>\n",
       "<text text-anchor=\"start\" x=\"1113\" y=\"-832.58\" font-family=\"Helvetica,sans-Serif\" font-size=\"14.00\">gini = 0.0</text>\n",
       "<text text-anchor=\"start\" x=\"1099.12\" y=\"-815.33\" font-family=\"Helvetica,sans-Serif\" font-size=\"14.00\">samples = 16</text>\n",
       "<text text-anchor=\"start\" x=\"1095\" y=\"-798.08\" font-family=\"Helvetica,sans-Serif\" font-size=\"14.00\">value = [0, 16]</text>\n",
       "<text text-anchor=\"start\" x=\"1115.25\" y=\"-780.83\" font-family=\"Helvetica,sans-Serif\" font-size=\"14.00\">class = 1</text>\n",
       "</g>\n",
       "<!-- 30&#45;&gt;34 -->\n",
       "<g id=\"edge34\" class=\"edge\">\n",
       "<title>30&#45;&gt;34</title>\n",
       "<path fill=\"none\" stroke=\"black\" d=\"M1041.43,-894.32C1057.11,-882.21 1073.99,-869.17 1089.56,-857.14\"/>\n",
       "<polygon fill=\"black\" stroke=\"black\" points=\"1091.59,-859.99 1097.37,-851.11 1087.31,-854.45 1091.59,-859.99\"/>\n",
       "</g>\n",
       "<!-- 32 -->\n",
       "<g id=\"node33\" class=\"node\">\n",
       "<title>32</title>\n",
       "<path fill=\"#e58139\" stroke=\"black\" d=\"M960.5,-719.62C960.5,-719.62 872.5,-719.62 872.5,-719.62 866.5,-719.62 860.5,-713.62 860.5,-707.62 860.5,-707.62 860.5,-654.62 860.5,-654.62 860.5,-648.62 866.5,-642.62 872.5,-642.62 872.5,-642.62 960.5,-642.62 960.5,-642.62 966.5,-642.62 972.5,-648.62 972.5,-654.62 972.5,-654.62 972.5,-707.62 972.5,-707.62 972.5,-713.62 966.5,-719.62 960.5,-719.62\"/>\n",
       "<text text-anchor=\"start\" x=\"882\" y=\"-702.33\" font-family=\"Helvetica,sans-Serif\" font-size=\"14.00\">gini = 0.0</text>\n",
       "<text text-anchor=\"start\" x=\"872.62\" y=\"-685.08\" font-family=\"Helvetica,sans-Serif\" font-size=\"14.00\">samples = 3</text>\n",
       "<text text-anchor=\"start\" x=\"868.5\" y=\"-667.83\" font-family=\"Helvetica,sans-Serif\" font-size=\"14.00\">value = [3, 0]</text>\n",
       "<text text-anchor=\"start\" x=\"884.25\" y=\"-650.58\" font-family=\"Helvetica,sans-Serif\" font-size=\"14.00\">class = 0</text>\n",
       "</g>\n",
       "<!-- 31&#45;&gt;32 -->\n",
       "<g id=\"edge32\" class=\"edge\">\n",
       "<title>31&#45;&gt;32</title>\n",
       "<path fill=\"none\" stroke=\"black\" d=\"M958.03,-764.07C952.41,-752.98 946.39,-741.11 940.74,-729.94\"/>\n",
       "<polygon fill=\"black\" stroke=\"black\" points=\"943.99,-728.62 936.35,-721.28 937.74,-731.78 943.99,-728.62\"/>\n",
       "</g>\n",
       "<!-- 33 -->\n",
       "<g id=\"node34\" class=\"node\">\n",
       "<title>33</title>\n",
       "<path fill=\"#399de5\" stroke=\"black\" d=\"M1090.5,-719.62C1090.5,-719.62 1002.5,-719.62 1002.5,-719.62 996.5,-719.62 990.5,-713.62 990.5,-707.62 990.5,-707.62 990.5,-654.62 990.5,-654.62 990.5,-648.62 996.5,-642.62 1002.5,-642.62 1002.5,-642.62 1090.5,-642.62 1090.5,-642.62 1096.5,-642.62 1102.5,-648.62 1102.5,-654.62 1102.5,-654.62 1102.5,-707.62 1102.5,-707.62 1102.5,-713.62 1096.5,-719.62 1090.5,-719.62\"/>\n",
       "<text text-anchor=\"start\" x=\"1012\" y=\"-702.33\" font-family=\"Helvetica,sans-Serif\" font-size=\"14.00\">gini = 0.0</text>\n",
       "<text text-anchor=\"start\" x=\"1002.62\" y=\"-685.08\" font-family=\"Helvetica,sans-Serif\" font-size=\"14.00\">samples = 2</text>\n",
       "<text text-anchor=\"start\" x=\"998.5\" y=\"-667.83\" font-family=\"Helvetica,sans-Serif\" font-size=\"14.00\">value = [0, 2]</text>\n",
       "<text text-anchor=\"start\" x=\"1014.25\" y=\"-650.58\" font-family=\"Helvetica,sans-Serif\" font-size=\"14.00\">class = 1</text>\n",
       "</g>\n",
       "<!-- 31&#45;&gt;33 -->\n",
       "<g id=\"edge33\" class=\"edge\">\n",
       "<title>31&#45;&gt;33</title>\n",
       "<path fill=\"none\" stroke=\"black\" d=\"M1004.97,-764.07C1010.59,-752.98 1016.61,-741.11 1022.26,-729.94\"/>\n",
       "<polygon fill=\"black\" stroke=\"black\" points=\"1025.26,-731.78 1026.65,-721.28 1019.01,-728.62 1025.26,-731.78\"/>\n",
       "</g>\n",
       "</g>\n",
       "</svg>\n"
      ],
      "text/plain": [
       "<graphviz.sources.Source at 0x754bbb359430>"
      ]
     },
     "execution_count": 37,
     "metadata": {},
     "output_type": "execute_result"
    }
   ],
   "source": [
    "dot_data = tree.export_graphviz(decisionTree,out_file=None,feature_names=[\"chocolate\",\"fruity\",\"caramel\",\"peanutyalmondy\",\"nougat\",\"crispedricewafer\",\"hard\",\"bar\",\"pluribus\",\"sugarpercent\",\"pricepercent\"],class_names=['0','1'],filled=True,rounded=True,special_characters=True)\n",
    "\n",
    "graphviz.Source(dot_data)\n",
    "\n",
    "#<xml xmlns=\"https://developers.google.com/blockly/xml\"><variables><variable id=\"F.ej=Hud7vT9uozVaF5C\">dot_data</variable><variable id=\"rrXqQ:9R(~X0,}F[1UD]\">graphviz</variable><variable id=\"tkeU~z;dQ]^6[?rbF?)9\">tree</variable><variable id=\"fYtGc,k9LOv^%_9|[cfE\">decisionTree</variable></variables><block type=\"variables_set\" id=\":6*zm74#9$!O3?QVUukE\" x=\"12\" y=\"176\"><field name=\"VAR\" id=\"F.ej=Hud7vT9uozVaF5C\">dot_data</field><value name=\"VALUE\"><block type=\"varDoMethod\" id=\"jsRyzb,9t~G^G@G@SMkS\"><mutation items=\"7\"></mutation><field name=\"VAR\" id=\"tkeU~z;dQ]^6[?rbF?)9\">tree</field><field name=\"MEMBER\">export_graphviz</field><data>tree:export_graphviz</data><value name=\"ADD0\"><block type=\"variables_get\" id=\"x$]b$%X#}qjO@0H/!O|N\"><field name=\"VAR\" id=\"fYtGc,k9LOv^%_9|[cfE\">decisionTree</field></block></value><value name=\"ADD1\"><block type=\"dummyOutputCodeBlock\" id=\"K!=:ty3DMPs#b^ziH=5p\"><field name=\"CODE\">out_file=None</field></block></value><value name=\"ADD2\"><block type=\"dummyOutputCodeBlock\" id=\"4=`@0`s#P?-p!O`Vv_8o\"><field name=\"CODE\">feature_names=[\"chocolate\",\"fruity\",\"caramel\",\"peanutyalmondy\",\"nougat\",\"crispedricewafer\",\"hard\",\"bar\",\"pluribus\",\"sugarpercent\",\"pricepercent\"]</field></block></value><value name=\"ADD3\"><block type=\"dummyOutputCodeBlock\" id=\"}9s+(fF@pHV!vFwa)B2v\"><field name=\"CODE\">class_names=['0','1']</field></block></value><value name=\"ADD4\"><block type=\"dummyOutputCodeBlock\" id=\"^IJ3b3Eg7K9k^6Of_4i%\"><field name=\"CODE\">filled=True</field></block></value><value name=\"ADD5\"><block type=\"dummyOutputCodeBlock\" id=\"VH!NxdBRgItjnN]Zs^Uh\"><field name=\"CODE\">rounded=True</field></block></value><value name=\"ADD6\"><block type=\"dummyOutputCodeBlock\" id=\"f*|7fCy,K/0{_WzfribG\"><field name=\"CODE\">special_characters=True</field></block></value></block></value></block><block type=\"varCreateObject\" id=\"e#:go,;P@0H5[+u[7oDT\" x=\"10\" y=\"425\"><mutation items=\"1\"></mutation><field name=\"VAR\" id=\"rrXqQ:9R(~X0,}F[1UD]\">graphviz</field><field name=\"MEMBER\">Source</field><data>graphviz:Source</data><value name=\"ADD0\"><block type=\"variables_get\" id=\"X!;l`d)95n$iGiWU~m(3\"><field name=\"VAR\" id=\"F.ej=Hud7vT9uozVaF5C\">dot_data</field></block></value></block></xml>"
   ]
  },
  {
   "cell_type": "markdown",
   "metadata": {},
   "source": [
    "--------------\n",
    "\n",
    "**QUESTION:**\n",
    "\n",
    "Explain the tree - what are the first three important decisions it makes?"
   ]
  },
  {
   "cell_type": "markdown",
   "metadata": {},
   "source": [
    "**ANSWER: (click here to edit)**\n",
    "\n",
    "\n",
    "*It first looks at whether something is chocolate, and then looks at sugar percent if chocolate is 0 and price percent if chocolate is 1.\n",
    "This suggests that taste might be the first factor consumers look at, but after that, it might be health and price.*\n",
    "\n",
    "<hr>"
   ]
  },
  {
   "attachments": {
    "image.png": {
     "image/png": "[encoded data removed]"
    }
   },
   "cell_type": "markdown",
   "metadata": {},
   "source": [
    "**QUESTION:**\n",
    "\n",
    "Consider what the logistic regression model said were important features below. \n",
    "How does the decision tree compare?\n",
    "\n",
    "![image.png](attachment:image.png)"
   ]
  },
  {
   "cell_type": "markdown",
   "metadata": {},
   "source": [
    "**ANSWER: (click here to edit)**\n",
    "\n",
    "*They are very different.\n",
    "It seems the decision tree is not giving the same importance to fruity, peanutalmondy, and bar*\n",
    "<hr>"
   ]
  },
  {
   "cell_type": "markdown",
   "metadata": {},
   "source": [
    "**QUESTION:**\n",
    "\n",
    "Which model (decision tree or logistic regression) do you think is more correct?\n",
    "How would you know?"
   ]
  },
  {
   "cell_type": "markdown",
   "metadata": {},
   "source": [
    "**ANSWER: (click here to edit)**\n",
    "\n",
    "\n",
    "*Logistic regression because it had a better overall classification. I trust it more because it made more correct predictions.*\n",
    "\n",
    "\n",
    "<hr>"
   ]
  },
  {
   "cell_type": "markdown",
   "metadata": {},
   "source": [
    "<!--  -->"
   ]
  }
 ],
 "metadata": {
  "kernelspec": {
   "display_name": "Python 3 (ipykernel)",
   "language": "python",
   "name": "python3"
  },
  "language_info": {
   "codemirror_mode": {
    "name": "ipython",
    "version": 3
   },
   "file_extension": ".py",
   "mimetype": "text/x-python",
   "name": "python",
   "nbconvert_exporter": "python",
   "pygments_lexer": "ipython3",
   "version": "3.12.6"
  }
 },
 "nbformat": 4,
 "nbformat_minor": 4
}
