{
 "cells": [
  {
   "cell_type": "markdown",
   "metadata": {
    "deletable": false,
    "editable": false
   },
   "source": [
    "Copyright 2020 Andrew M. Olney and made available under [CC BY-SA](https://creativecommons.org/licenses/by-sa/4.0) for text and [Apache-2.0](http://www.apache.org/licenses/LICENSE-2.0) for code."
   ]
  },
  {
   "cell_type": "markdown",
   "metadata": {},
   "source": [
    "# Data Science and the Nature of Data: Problem Solving\n",
    "\n",
    "This notebook is a companion to [Data Science and the Nature of Data](Data-science-and-the-nature-of-data.ipynb) so please read that first.\n",
    "\n",
    "## Problem\n",
    "\n",
    "We will be working with [a set of flower images](https://drive.google.com/file/d/16OFwIazU-dnu27kzP08iuZvk_lnBK9Ak/view?usp=sharing).\n",
    "As discussed in the last notebook, this is *unstructured data*.\n",
    "\n",
    "A group of students has manually coded these data with three variables:\n",
    "\n",
    "- PetalColor: unicolor or multicolor\n",
    "- PetalShape: rounded or unrounded\n",
    "- Size: small, medium, or large\n",
    "\n",
    "In this session, you will load the data into a dataframe in Jupyter manipulate rows and columns of the data.\n",
    "\n",
    "## Load the data into a dataframe \n",
    "\n",
    "Use [Data Science and the Nature of Data](Data-science-and-the-nature-of-data.ipynb) or the [Reference](Reference.ipynb) if you've forgotten any of these steps.\n",
    "\n",
    "Import the `pandas` library, which lets us work with dataframes:\n",
    "\n",
    "- `import pandas as pd`"
   ]
  },
  {
   "cell_type": "code",
   "execution_count": 20,
   "metadata": {
    "user_blocks": [
     "importAs"
    ],
    "user_blocks_xml": "<xml xmlns=\"https://developers.google.com/blockly/xml\"><variables><variable id=\"i!#]:2XI=^qLb$e.|iwo\">pd</variable></variables><block type=\"importAs\" id=\"8u3elQqk_!6!WoHrlj}e\" x=\"73\" y=\"63\"><field name=\"libraryName\">pandas</field><field name=\"VAR\" id=\"i!#]:2XI=^qLb$e.|iwo\">pd</field></block></xml>",
    "user_code_from_blocks": "import pandas as pd\n"
   },
   "outputs": [],
   "source": [
    "import pandas as pd\n",
    "\n",
    "#<xml xmlns=\"https://developers.google.com/blockly/xml\"><variables><variable id=\"i!#]:2XI=^qLb$e.|iwo\">pd</variable></variables><block type=\"importAs\" id=\"8u3elQqk_!6!WoHrlj}e\" x=\"73\" y=\"63\"><field name=\"libraryName\">pandas</field><field name=\"VAR\" id=\"i!#]:2XI=^qLb$e.|iwo\">pd</field></block></xml>"
   ]
  },
  {
   "cell_type": "markdown",
   "metadata": {},
   "source": [
    "Load a dataframe with the data in \"datasets/flowers.csv\" and display it:\n",
    "\n",
    "- Set `dataframe` to with `pd` do `read_csv` using\n",
    "    - \"datasets/flowers.csv\"\n",
    "- `dataframe` (to display)"
   ]
  },
  {
   "cell_type": "code",
   "execution_count": 21,
   "metadata": {
    "user_blocks": [
     "variables_set",
     "varDoMethod",
     "text",
     "variables_get"
    ],
    "user_blocks_xml": "<xml xmlns=\"https://developers.google.com/blockly/xml\"><variables><variable id=\"t[n^Fcp7,s93E17ZZ9J6\">dataframe</variable><variable id=\"i!#]:2XI=^qLb$e.|iwo\">pd</variable></variables><block type=\"variables_set\" id=\"YMNSvjU:9aS0`rADBobh\" x=\"0\" y=\"0\"><field name=\"VAR\" id=\"t[n^Fcp7,s93E17ZZ9J6\">dataframe</field><value name=\"VALUE\"><block type=\"varDoMethod\" id=\"h[BIiU^0[[vbD`zoBn6+\"><mutation items=\"1\"></mutation><field name=\"VAR\" id=\"i!#]:2XI=^qLb$e.|iwo\">pd</field><field name=\"MEMBER\">read_csv</field><data>pd:read_csv</data><value name=\"ADD0\"><block type=\"text\" id=\"QcMYqlZMy=3?*C+etAbh\"><field name=\"TEXT\">datasets/flowers.csv</field></block></value></block></value></block><block type=\"variables_get\" id=\"sotqv4_w[EAi?Dw4ej^u\" x=\"-8\" y=\"76\"><field name=\"VAR\" id=\"t[n^Fcp7,s93E17ZZ9J6\">dataframe</field></block></xml>",
    "user_code_from_blocks": "dataframe = pd.read_csv('datasets/flowers.csv')\n\ndataframe\n"
   },
   "outputs": [
    {
     "data": {
      "text/html": [
       "<div>\n",
       "<style scoped>\n",
       "    .dataframe tbody tr th:only-of-type {\n",
       "        vertical-align: middle;\n",
       "    }\n",
       "\n",
       "    .dataframe tbody tr th {\n",
       "        vertical-align: top;\n",
       "    }\n",
       "\n",
       "    .dataframe thead th {\n",
       "        text-align: right;\n",
       "    }\n",
       "</style>\n",
       "<table border=\"1\" class=\"dataframe\">\n",
       "  <thead>\n",
       "    <tr style=\"text-align: right;\">\n",
       "      <th></th>\n",
       "      <th>File</th>\n",
       "      <th>PetalColor</th>\n",
       "      <th>PetalShape</th>\n",
       "      <th>Size</th>\n",
       "    </tr>\n",
       "  </thead>\n",
       "  <tbody>\n",
       "    <tr>\n",
       "      <th>0</th>\n",
       "      <td>0001.png</td>\n",
       "      <td>multicolor</td>\n",
       "      <td>rounded</td>\n",
       "      <td>medium</td>\n",
       "    </tr>\n",
       "    <tr>\n",
       "      <th>1</th>\n",
       "      <td>0002.png</td>\n",
       "      <td>unicolor</td>\n",
       "      <td>rounded</td>\n",
       "      <td>medium</td>\n",
       "    </tr>\n",
       "    <tr>\n",
       "      <th>2</th>\n",
       "      <td>0003.png</td>\n",
       "      <td>unicolor</td>\n",
       "      <td>unrounded</td>\n",
       "      <td>large</td>\n",
       "    </tr>\n",
       "    <tr>\n",
       "      <th>3</th>\n",
       "      <td>0004.png</td>\n",
       "      <td>multicolor</td>\n",
       "      <td>rounded</td>\n",
       "      <td>medium</td>\n",
       "    </tr>\n",
       "    <tr>\n",
       "      <th>4</th>\n",
       "      <td>0005.png</td>\n",
       "      <td>multicolor</td>\n",
       "      <td>rounded</td>\n",
       "      <td>small</td>\n",
       "    </tr>\n",
       "    <tr>\n",
       "      <th>...</th>\n",
       "      <td>...</td>\n",
       "      <td>...</td>\n",
       "      <td>...</td>\n",
       "      <td>...</td>\n",
       "    </tr>\n",
       "    <tr>\n",
       "      <th>205</th>\n",
       "      <td>0206.png</td>\n",
       "      <td>multicolor</td>\n",
       "      <td>rounded</td>\n",
       "      <td>large</td>\n",
       "    </tr>\n",
       "    <tr>\n",
       "      <th>206</th>\n",
       "      <td>0207.png</td>\n",
       "      <td>unicolor</td>\n",
       "      <td>rounded</td>\n",
       "      <td>large</td>\n",
       "    </tr>\n",
       "    <tr>\n",
       "      <th>207</th>\n",
       "      <td>0208.png</td>\n",
       "      <td>unicolor</td>\n",
       "      <td>unrounded</td>\n",
       "      <td>large</td>\n",
       "    </tr>\n",
       "    <tr>\n",
       "      <th>208</th>\n",
       "      <td>0209.png</td>\n",
       "      <td>multicolor</td>\n",
       "      <td>rounded</td>\n",
       "      <td>medium</td>\n",
       "    </tr>\n",
       "    <tr>\n",
       "      <th>209</th>\n",
       "      <td>0210.png</td>\n",
       "      <td>unicolor</td>\n",
       "      <td>rounded</td>\n",
       "      <td>small</td>\n",
       "    </tr>\n",
       "  </tbody>\n",
       "</table>\n",
       "<p>210 rows × 4 columns</p>\n",
       "</div>"
      ],
      "text/plain": [
       "         File  PetalColor PetalShape    Size\n",
       "0    0001.png  multicolor    rounded  medium\n",
       "1    0002.png    unicolor    rounded  medium\n",
       "2    0003.png    unicolor  unrounded   large\n",
       "3    0004.png  multicolor    rounded  medium\n",
       "4    0005.png  multicolor    rounded   small\n",
       "..        ...         ...        ...     ...\n",
       "205  0206.png  multicolor    rounded   large\n",
       "206  0207.png    unicolor    rounded   large\n",
       "207  0208.png    unicolor  unrounded   large\n",
       "208  0209.png  multicolor    rounded  medium\n",
       "209  0210.png    unicolor    rounded   small\n",
       "\n",
       "[210 rows x 4 columns]"
      ]
     },
     "execution_count": 21,
     "metadata": {},
     "output_type": "execute_result"
    }
   ],
   "source": [
    "dataframe = pd.read_csv('datasets/flowers.csv')\n",
    "\n",
    "dataframe\n",
    "\n",
    "#<xml xmlns=\"https://developers.google.com/blockly/xml\"><variables><variable id=\"t[n^Fcp7,s93E17ZZ9J6\">dataframe</variable><variable id=\"i!#]:2XI=^qLb$e.|iwo\">pd</variable></variables><block type=\"variables_set\" id=\"YMNSvjU:9aS0`rADBobh\" x=\"0\" y=\"0\"><field name=\"VAR\" id=\"t[n^Fcp7,s93E17ZZ9J6\">dataframe</field><value name=\"VALUE\"><block type=\"varDoMethod\" id=\"h[BIiU^0[[vbD`zoBn6+\"><mutation items=\"1\"></mutation><field name=\"VAR\" id=\"i!#]:2XI=^qLb$e.|iwo\">pd</field><field name=\"MEMBER\">read_csv</field><data>pd:read_csv</data><value name=\"ADD0\"><block type=\"text\" id=\"QcMYqlZMy=3?*C+etAbh\"><field name=\"TEXT\">datasets/flowers.csv</field></block></value></block></value></block><block type=\"variables_get\" id=\"sotqv4_w[EAi?Dw4ej^u\" x=\"-8\" y=\"76\"><field name=\"VAR\" id=\"t[n^Fcp7,s93E17ZZ9J6\">dataframe</field></block></xml>"
   ]
  },
  {
   "cell_type": "markdown",
   "metadata": {},
   "source": [
    "**QUESTION:**\n",
    "\n",
    "What are the variable types for each variable?\n",
    "\n",
    "**ANSWER: (click here to edit)**\n",
    "\n",
    "- PetalColor: nominal\n",
    "- PetalShape: nominal\n",
    "- Size: ordinal\n"
   ]
  },
  {
   "cell_type": "markdown",
   "metadata": {},
   "source": [
    "Select the first 10 rows of the data:"
   ]
  },
  {
   "cell_type": "markdown",
   "metadata": {},
   "source": [
    "- `in list dataframe get sub-list from first to 10`"
   ]
  },
  {
   "cell_type": "code",
   "execution_count": 22,
   "metadata": {
    "user_blocks": [
     "lists_getSublist",
     "variables_get",
     "math_number"
    ],
    "user_blocks_xml": "<xml xmlns=\"https://developers.google.com/blockly/xml\"><variables><variable id=\"t[n^Fcp7,s93E17ZZ9J6\">dataframe</variable></variables><block type=\"lists_getSublist\" id=\"5hFiqAq|QPxp%Xc:h/@A\" x=\"8\" y=\"518\"><mutation at1=\"false\" at2=\"true\"></mutation><field name=\"WHERE1\">FIRST</field><field name=\"WHERE2\">FROM_START</field><value name=\"LIST\"><block type=\"variables_get\" id=\"Y`nWHnCXvg4!GpZ![Z8S\"><field name=\"VAR\" id=\"t[n^Fcp7,s93E17ZZ9J6\">dataframe</field></block></value><value name=\"AT2\"><block type=\"math_number\" id=\"D1[i#!$i}_h;`?.h;x*w\"><field name=\"NUM\">10</field></block></value></block></xml>",
    "user_code_from_blocks": "dataframe[ : 10]\n"
   },
   "outputs": [
    {
     "data": {
      "text/html": [
       "<div>\n",
       "<style scoped>\n",
       "    .dataframe tbody tr th:only-of-type {\n",
       "        vertical-align: middle;\n",
       "    }\n",
       "\n",
       "    .dataframe tbody tr th {\n",
       "        vertical-align: top;\n",
       "    }\n",
       "\n",
       "    .dataframe thead th {\n",
       "        text-align: right;\n",
       "    }\n",
       "</style>\n",
       "<table border=\"1\" class=\"dataframe\">\n",
       "  <thead>\n",
       "    <tr style=\"text-align: right;\">\n",
       "      <th></th>\n",
       "      <th>File</th>\n",
       "      <th>PetalColor</th>\n",
       "      <th>PetalShape</th>\n",
       "      <th>Size</th>\n",
       "    </tr>\n",
       "  </thead>\n",
       "  <tbody>\n",
       "    <tr>\n",
       "      <th>0</th>\n",
       "      <td>0001.png</td>\n",
       "      <td>multicolor</td>\n",
       "      <td>rounded</td>\n",
       "      <td>medium</td>\n",
       "    </tr>\n",
       "    <tr>\n",
       "      <th>1</th>\n",
       "      <td>0002.png</td>\n",
       "      <td>unicolor</td>\n",
       "      <td>rounded</td>\n",
       "      <td>medium</td>\n",
       "    </tr>\n",
       "    <tr>\n",
       "      <th>2</th>\n",
       "      <td>0003.png</td>\n",
       "      <td>unicolor</td>\n",
       "      <td>unrounded</td>\n",
       "      <td>large</td>\n",
       "    </tr>\n",
       "    <tr>\n",
       "      <th>3</th>\n",
       "      <td>0004.png</td>\n",
       "      <td>multicolor</td>\n",
       "      <td>rounded</td>\n",
       "      <td>medium</td>\n",
       "    </tr>\n",
       "    <tr>\n",
       "      <th>4</th>\n",
       "      <td>0005.png</td>\n",
       "      <td>multicolor</td>\n",
       "      <td>rounded</td>\n",
       "      <td>small</td>\n",
       "    </tr>\n",
       "    <tr>\n",
       "      <th>5</th>\n",
       "      <td>0006.png</td>\n",
       "      <td>unicolor</td>\n",
       "      <td>rounded</td>\n",
       "      <td>small</td>\n",
       "    </tr>\n",
       "    <tr>\n",
       "      <th>6</th>\n",
       "      <td>0007.png</td>\n",
       "      <td>unicolor</td>\n",
       "      <td>rounded</td>\n",
       "      <td>medium</td>\n",
       "    </tr>\n",
       "    <tr>\n",
       "      <th>7</th>\n",
       "      <td>0008.png</td>\n",
       "      <td>unicolor</td>\n",
       "      <td>rounded</td>\n",
       "      <td>medium</td>\n",
       "    </tr>\n",
       "    <tr>\n",
       "      <th>8</th>\n",
       "      <td>0009.png</td>\n",
       "      <td>unicolor</td>\n",
       "      <td>rounded</td>\n",
       "      <td>small</td>\n",
       "    </tr>\n",
       "    <tr>\n",
       "      <th>9</th>\n",
       "      <td>0010.png</td>\n",
       "      <td>unicolor</td>\n",
       "      <td>rounded</td>\n",
       "      <td>small</td>\n",
       "    </tr>\n",
       "  </tbody>\n",
       "</table>\n",
       "</div>"
      ],
      "text/plain": [
       "       File  PetalColor PetalShape    Size\n",
       "0  0001.png  multicolor    rounded  medium\n",
       "1  0002.png    unicolor    rounded  medium\n",
       "2  0003.png    unicolor  unrounded   large\n",
       "3  0004.png  multicolor    rounded  medium\n",
       "4  0005.png  multicolor    rounded   small\n",
       "5  0006.png    unicolor    rounded   small\n",
       "6  0007.png    unicolor    rounded  medium\n",
       "7  0008.png    unicolor    rounded  medium\n",
       "8  0009.png    unicolor    rounded   small\n",
       "9  0010.png    unicolor    rounded   small"
      ]
     },
     "execution_count": 22,
     "metadata": {},
     "output_type": "execute_result"
    }
   ],
   "source": [
    "dataframe[ : 10]\n",
    "\n",
    "#<xml xmlns=\"https://developers.google.com/blockly/xml\"><variables><variable id=\"t[n^Fcp7,s93E17ZZ9J6\">dataframe</variable></variables><block type=\"lists_getSublist\" id=\"5hFiqAq|QPxp%Xc:h/@A\" x=\"8\" y=\"518\"><mutation at1=\"false\" at2=\"true\"></mutation><field name=\"WHERE1\">FIRST</field><field name=\"WHERE2\">FROM_START</field><value name=\"LIST\"><block type=\"variables_get\" id=\"Y`nWHnCXvg4!GpZ![Z8S\"><field name=\"VAR\" id=\"t[n^Fcp7,s93E17ZZ9J6\">dataframe</field></block></value><value name=\"AT2\"><block type=\"math_number\" id=\"D1[i#!$i}_h;`?.h;x*w\"><field name=\"NUM\">10</field></block></value></block></xml>"
   ]
  },
  {
   "cell_type": "markdown",
   "metadata": {},
   "source": [
    "Select the last 10 rows of the data:"
   ]
  },
  {
   "cell_type": "markdown",
   "metadata": {},
   "source": [
    "- `in list dataframe get sub-list from # from end 10 to last`"
   ]
  },
  {
   "cell_type": "code",
   "execution_count": 23,
   "metadata": {
    "user_blocks": [
     "lists_getSublist",
     "variables_get",
     "math_number"
    ],
    "user_blocks_xml": "<xml xmlns=\"https://developers.google.com/blockly/xml\"><variables><variable id=\"t[n^Fcp7,s93E17ZZ9J6\">dataframe</variable></variables><block type=\"lists_getSublist\" id=\"5hFiqAq|QPxp%Xc:h/@A\" x=\"8\" y=\"518\"><mutation at1=\"true\" at2=\"false\"></mutation><field name=\"WHERE1\">FROM_END</field><field name=\"WHERE2\">LAST</field><value name=\"LIST\"><block type=\"variables_get\" id=\"Y`nWHnCXvg4!GpZ![Z8S\"><field name=\"VAR\" id=\"t[n^Fcp7,s93E17ZZ9J6\">dataframe</field></block></value><value name=\"AT1\"><block type=\"math_number\" id=\"D1[i#!$i}_h;`?.h;x*w\"><field name=\"NUM\">10</field></block></value></block></xml>",
    "user_code_from_blocks": "dataframe[-10 : ]\n"
   },
   "outputs": [
    {
     "data": {
      "text/html": [
       "<div>\n",
       "<style scoped>\n",
       "    .dataframe tbody tr th:only-of-type {\n",
       "        vertical-align: middle;\n",
       "    }\n",
       "\n",
       "    .dataframe tbody tr th {\n",
       "        vertical-align: top;\n",
       "    }\n",
       "\n",
       "    .dataframe thead th {\n",
       "        text-align: right;\n",
       "    }\n",
       "</style>\n",
       "<table border=\"1\" class=\"dataframe\">\n",
       "  <thead>\n",
       "    <tr style=\"text-align: right;\">\n",
       "      <th></th>\n",
       "      <th>File</th>\n",
       "      <th>PetalColor</th>\n",
       "      <th>PetalShape</th>\n",
       "      <th>Size</th>\n",
       "    </tr>\n",
       "  </thead>\n",
       "  <tbody>\n",
       "    <tr>\n",
       "      <th>200</th>\n",
       "      <td>0201.png</td>\n",
       "      <td>unicolor</td>\n",
       "      <td>rounded</td>\n",
       "      <td>medium</td>\n",
       "    </tr>\n",
       "    <tr>\n",
       "      <th>201</th>\n",
       "      <td>0202.png</td>\n",
       "      <td>multicolor</td>\n",
       "      <td>unrounded</td>\n",
       "      <td>large</td>\n",
       "    </tr>\n",
       "    <tr>\n",
       "      <th>202</th>\n",
       "      <td>0203.png</td>\n",
       "      <td>multicolor</td>\n",
       "      <td>unrounded</td>\n",
       "      <td>large</td>\n",
       "    </tr>\n",
       "    <tr>\n",
       "      <th>203</th>\n",
       "      <td>0204.png</td>\n",
       "      <td>unicolor</td>\n",
       "      <td>unrounded</td>\n",
       "      <td>small</td>\n",
       "    </tr>\n",
       "    <tr>\n",
       "      <th>204</th>\n",
       "      <td>0205.png</td>\n",
       "      <td>unicolor</td>\n",
       "      <td>unrounded</td>\n",
       "      <td>medium</td>\n",
       "    </tr>\n",
       "    <tr>\n",
       "      <th>205</th>\n",
       "      <td>0206.png</td>\n",
       "      <td>multicolor</td>\n",
       "      <td>rounded</td>\n",
       "      <td>large</td>\n",
       "    </tr>\n",
       "    <tr>\n",
       "      <th>206</th>\n",
       "      <td>0207.png</td>\n",
       "      <td>unicolor</td>\n",
       "      <td>rounded</td>\n",
       "      <td>large</td>\n",
       "    </tr>\n",
       "    <tr>\n",
       "      <th>207</th>\n",
       "      <td>0208.png</td>\n",
       "      <td>unicolor</td>\n",
       "      <td>unrounded</td>\n",
       "      <td>large</td>\n",
       "    </tr>\n",
       "    <tr>\n",
       "      <th>208</th>\n",
       "      <td>0209.png</td>\n",
       "      <td>multicolor</td>\n",
       "      <td>rounded</td>\n",
       "      <td>medium</td>\n",
       "    </tr>\n",
       "    <tr>\n",
       "      <th>209</th>\n",
       "      <td>0210.png</td>\n",
       "      <td>unicolor</td>\n",
       "      <td>rounded</td>\n",
       "      <td>small</td>\n",
       "    </tr>\n",
       "  </tbody>\n",
       "</table>\n",
       "</div>"
      ],
      "text/plain": [
       "         File  PetalColor PetalShape    Size\n",
       "200  0201.png    unicolor    rounded  medium\n",
       "201  0202.png  multicolor  unrounded   large\n",
       "202  0203.png  multicolor  unrounded   large\n",
       "203  0204.png    unicolor  unrounded   small\n",
       "204  0205.png    unicolor  unrounded  medium\n",
       "205  0206.png  multicolor    rounded   large\n",
       "206  0207.png    unicolor    rounded   large\n",
       "207  0208.png    unicolor  unrounded   large\n",
       "208  0209.png  multicolor    rounded  medium\n",
       "209  0210.png    unicolor    rounded   small"
      ]
     },
     "execution_count": 23,
     "metadata": {},
     "output_type": "execute_result"
    }
   ],
   "source": [
    "dataframe[-10 : ]\n",
    "\n",
    "#<xml xmlns=\"https://developers.google.com/blockly/xml\"><variables><variable id=\"t[n^Fcp7,s93E17ZZ9J6\">dataframe</variable></variables><block type=\"lists_getSublist\" id=\"5hFiqAq|QPxp%Xc:h/@A\" x=\"8\" y=\"518\"><mutation at1=\"true\" at2=\"false\"></mutation><field name=\"WHERE1\">FROM_END</field><field name=\"WHERE2\">LAST</field><value name=\"LIST\"><block type=\"variables_get\" id=\"Y`nWHnCXvg4!GpZ![Z8S\"><field name=\"VAR\" id=\"t[n^Fcp7,s93E17ZZ9J6\">dataframe</field></block></value><value name=\"AT1\"><block type=\"math_number\" id=\"D1[i#!$i}_h;`?.h;x*w\"><field name=\"NUM\">10</field></block></value></block></xml>"
   ]
  },
  {
   "cell_type": "markdown",
   "metadata": {},
   "source": [
    "Select the middle 10 rows of the data:"
   ]
  },
  {
   "cell_type": "markdown",
   "metadata": {},
   "source": [
    "- `in list dataframe get sub-list from # 95 to # 105`"
   ]
  },
  {
   "cell_type": "code",
   "execution_count": 24,
   "metadata": {
    "user_blocks": [
     "lists_getSublist",
     "variables_get",
     "math_number",
     "math_number"
    ],
    "user_blocks_xml": "<xml xmlns=\"https://developers.google.com/blockly/xml\"><variables><variable id=\"t[n^Fcp7,s93E17ZZ9J6\">dataframe</variable></variables><block type=\"lists_getSublist\" id=\"5hFiqAq|QPxp%Xc:h/@A\" x=\"8\" y=\"518\"><mutation at1=\"true\" at2=\"true\"></mutation><field name=\"WHERE1\">FROM_START</field><field name=\"WHERE2\">FROM_START</field><value name=\"LIST\"><block type=\"variables_get\" id=\"Y`nWHnCXvg4!GpZ![Z8S\"><field name=\"VAR\" id=\"t[n^Fcp7,s93E17ZZ9J6\">dataframe</field></block></value><value name=\"AT1\"><block type=\"math_number\" id=\"D1[i#!$i}_h;`?.h;x*w\"><field name=\"NUM\">95</field></block></value><value name=\"AT2\"><block type=\"math_number\" id=\":W_T5/Ic4zuYR5*I6#^l\"><field name=\"NUM\">105</field></block></value></block></xml>",
    "user_code_from_blocks": "dataframe[94 : 105]\n"
   },
   "outputs": [
    {
     "data": {
      "text/html": [
       "<div>\n",
       "<style scoped>\n",
       "    .dataframe tbody tr th:only-of-type {\n",
       "        vertical-align: middle;\n",
       "    }\n",
       "\n",
       "    .dataframe tbody tr th {\n",
       "        vertical-align: top;\n",
       "    }\n",
       "\n",
       "    .dataframe thead th {\n",
       "        text-align: right;\n",
       "    }\n",
       "</style>\n",
       "<table border=\"1\" class=\"dataframe\">\n",
       "  <thead>\n",
       "    <tr style=\"text-align: right;\">\n",
       "      <th></th>\n",
       "      <th>File</th>\n",
       "      <th>PetalColor</th>\n",
       "      <th>PetalShape</th>\n",
       "      <th>Size</th>\n",
       "    </tr>\n",
       "  </thead>\n",
       "  <tbody>\n",
       "    <tr>\n",
       "      <th>94</th>\n",
       "      <td>0095.png</td>\n",
       "      <td>unicolor</td>\n",
       "      <td>unrounded</td>\n",
       "      <td>small</td>\n",
       "    </tr>\n",
       "    <tr>\n",
       "      <th>95</th>\n",
       "      <td>0096.png</td>\n",
       "      <td>unicolor</td>\n",
       "      <td>rounded</td>\n",
       "      <td>medium</td>\n",
       "    </tr>\n",
       "    <tr>\n",
       "      <th>96</th>\n",
       "      <td>0097.png</td>\n",
       "      <td>unicolor</td>\n",
       "      <td>unrounded</td>\n",
       "      <td>medium</td>\n",
       "    </tr>\n",
       "    <tr>\n",
       "      <th>97</th>\n",
       "      <td>0098.png</td>\n",
       "      <td>multicolor</td>\n",
       "      <td>rounded</td>\n",
       "      <td>medium</td>\n",
       "    </tr>\n",
       "    <tr>\n",
       "      <th>98</th>\n",
       "      <td>0099.png</td>\n",
       "      <td>unicolor</td>\n",
       "      <td>rounded</td>\n",
       "      <td>medium</td>\n",
       "    </tr>\n",
       "    <tr>\n",
       "      <th>99</th>\n",
       "      <td>0100.png</td>\n",
       "      <td>unicolor</td>\n",
       "      <td>rounded</td>\n",
       "      <td>medium</td>\n",
       "    </tr>\n",
       "    <tr>\n",
       "      <th>100</th>\n",
       "      <td>0101.png</td>\n",
       "      <td>multicolor</td>\n",
       "      <td>unrounded</td>\n",
       "      <td>medium</td>\n",
       "    </tr>\n",
       "    <tr>\n",
       "      <th>101</th>\n",
       "      <td>0102.png</td>\n",
       "      <td>unicolor</td>\n",
       "      <td>unrounded</td>\n",
       "      <td>medium</td>\n",
       "    </tr>\n",
       "    <tr>\n",
       "      <th>102</th>\n",
       "      <td>0103.png</td>\n",
       "      <td>unicolor</td>\n",
       "      <td>unrounded</td>\n",
       "      <td>small</td>\n",
       "    </tr>\n",
       "    <tr>\n",
       "      <th>103</th>\n",
       "      <td>0104.png</td>\n",
       "      <td>unicolor</td>\n",
       "      <td>rounded</td>\n",
       "      <td>small</td>\n",
       "    </tr>\n",
       "    <tr>\n",
       "      <th>104</th>\n",
       "      <td>0105.png</td>\n",
       "      <td>multicolor</td>\n",
       "      <td>unrounded</td>\n",
       "      <td>large</td>\n",
       "    </tr>\n",
       "  </tbody>\n",
       "</table>\n",
       "</div>"
      ],
      "text/plain": [
       "         File  PetalColor PetalShape    Size\n",
       "94   0095.png    unicolor  unrounded   small\n",
       "95   0096.png    unicolor    rounded  medium\n",
       "96   0097.png    unicolor  unrounded  medium\n",
       "97   0098.png  multicolor    rounded  medium\n",
       "98   0099.png    unicolor    rounded  medium\n",
       "99   0100.png    unicolor    rounded  medium\n",
       "100  0101.png  multicolor  unrounded  medium\n",
       "101  0102.png    unicolor  unrounded  medium\n",
       "102  0103.png    unicolor  unrounded   small\n",
       "103  0104.png    unicolor    rounded   small\n",
       "104  0105.png  multicolor  unrounded   large"
      ]
     },
     "execution_count": 24,
     "metadata": {},
     "output_type": "execute_result"
    }
   ],
   "source": [
    "dataframe[94 : 105]\n",
    "\n",
    "#<xml xmlns=\"https://developers.google.com/blockly/xml\"><variables><variable id=\"t[n^Fcp7,s93E17ZZ9J6\">dataframe</variable></variables><block type=\"lists_getSublist\" id=\"5hFiqAq|QPxp%Xc:h/@A\" x=\"8\" y=\"518\"><mutation at1=\"true\" at2=\"true\"></mutation><field name=\"WHERE1\">FROM_START</field><field name=\"WHERE2\">FROM_START</field><value name=\"LIST\"><block type=\"variables_get\" id=\"Y`nWHnCXvg4!GpZ![Z8S\"><field name=\"VAR\" id=\"t[n^Fcp7,s93E17ZZ9J6\">dataframe</field></block></value><value name=\"AT1\"><block type=\"math_number\" id=\"D1[i#!$i}_h;`?.h;x*w\"><field name=\"NUM\">95</field></block></value><value name=\"AT2\"><block type=\"math_number\" id=\":W_T5/Ic4zuYR5*I6#^l\"><field name=\"NUM\">105</field></block></value></block></xml>"
   ]
  },
  {
   "cell_type": "markdown",
   "metadata": {},
   "source": [
    "Select the first two columns of the data:"
   ]
  },
  {
   "cell_type": "markdown",
   "metadata": {},
   "source": [
    "- `dataframe[` using a list containing `\"PetalColor\"` and `\"PetalShape\"` `]`"
   ]
  },
  {
   "cell_type": "code",
   "execution_count": 25,
   "metadata": {
    "user_blocks": [
     "indexer",
     "lists_create_with",
     "text",
     "text"
    ],
    "user_blocks_xml": "<xml xmlns=\"https://developers.google.com/blockly/xml\"><variables><variable id=\"t[n^Fcp7,s93E17ZZ9J6\">dataframe</variable></variables><block type=\"indexer\" id=\"oVNd/g7vyxV[^cAbT$JX\" x=\"8\" y=\"300\"><field name=\"VAR\" id=\"t[n^Fcp7,s93E17ZZ9J6\">dataframe</field><value name=\"INDEX\"><block type=\"lists_create_with\" id=\"^oGt7#=i@OMTRwaf:kdd\"><mutation items=\"2\"></mutation><value name=\"ADD0\"><block type=\"text\" id=\"=k__Y{.gxL5z.AJpll.A\"><field name=\"TEXT\">PetalColor</field></block></value><value name=\"ADD1\"><block type=\"text\" id=\"uQyKHkAg(%zJh!AAX=[#\"><field name=\"TEXT\">PetalShape</field></block></value></block></value></block></xml>",
    "user_code_from_blocks": "dataframe[['PetalColor', 'PetalShape']]\n"
   },
   "outputs": [
    {
     "data": {
      "text/html": [
       "<div>\n",
       "<style scoped>\n",
       "    .dataframe tbody tr th:only-of-type {\n",
       "        vertical-align: middle;\n",
       "    }\n",
       "\n",
       "    .dataframe tbody tr th {\n",
       "        vertical-align: top;\n",
       "    }\n",
       "\n",
       "    .dataframe thead th {\n",
       "        text-align: right;\n",
       "    }\n",
       "</style>\n",
       "<table border=\"1\" class=\"dataframe\">\n",
       "  <thead>\n",
       "    <tr style=\"text-align: right;\">\n",
       "      <th></th>\n",
       "      <th>PetalColor</th>\n",
       "      <th>PetalShape</th>\n",
       "    </tr>\n",
       "  </thead>\n",
       "  <tbody>\n",
       "    <tr>\n",
       "      <th>0</th>\n",
       "      <td>multicolor</td>\n",
       "      <td>rounded</td>\n",
       "    </tr>\n",
       "    <tr>\n",
       "      <th>1</th>\n",
       "      <td>unicolor</td>\n",
       "      <td>rounded</td>\n",
       "    </tr>\n",
       "    <tr>\n",
       "      <th>2</th>\n",
       "      <td>unicolor</td>\n",
       "      <td>unrounded</td>\n",
       "    </tr>\n",
       "    <tr>\n",
       "      <th>3</th>\n",
       "      <td>multicolor</td>\n",
       "      <td>rounded</td>\n",
       "    </tr>\n",
       "    <tr>\n",
       "      <th>4</th>\n",
       "      <td>multicolor</td>\n",
       "      <td>rounded</td>\n",
       "    </tr>\n",
       "    <tr>\n",
       "      <th>...</th>\n",
       "      <td>...</td>\n",
       "      <td>...</td>\n",
       "    </tr>\n",
       "    <tr>\n",
       "      <th>205</th>\n",
       "      <td>multicolor</td>\n",
       "      <td>rounded</td>\n",
       "    </tr>\n",
       "    <tr>\n",
       "      <th>206</th>\n",
       "      <td>unicolor</td>\n",
       "      <td>rounded</td>\n",
       "    </tr>\n",
       "    <tr>\n",
       "      <th>207</th>\n",
       "      <td>unicolor</td>\n",
       "      <td>unrounded</td>\n",
       "    </tr>\n",
       "    <tr>\n",
       "      <th>208</th>\n",
       "      <td>multicolor</td>\n",
       "      <td>rounded</td>\n",
       "    </tr>\n",
       "    <tr>\n",
       "      <th>209</th>\n",
       "      <td>unicolor</td>\n",
       "      <td>rounded</td>\n",
       "    </tr>\n",
       "  </tbody>\n",
       "</table>\n",
       "<p>210 rows × 2 columns</p>\n",
       "</div>"
      ],
      "text/plain": [
       "     PetalColor PetalShape\n",
       "0    multicolor    rounded\n",
       "1      unicolor    rounded\n",
       "2      unicolor  unrounded\n",
       "3    multicolor    rounded\n",
       "4    multicolor    rounded\n",
       "..          ...        ...\n",
       "205  multicolor    rounded\n",
       "206    unicolor    rounded\n",
       "207    unicolor  unrounded\n",
       "208  multicolor    rounded\n",
       "209    unicolor    rounded\n",
       "\n",
       "[210 rows x 2 columns]"
      ]
     },
     "execution_count": 25,
     "metadata": {},
     "output_type": "execute_result"
    }
   ],
   "source": [
    "dataframe[['PetalColor', 'PetalShape']]\n",
    "\n",
    "#<xml xmlns=\"https://developers.google.com/blockly/xml\"><variables><variable id=\"t[n^Fcp7,s93E17ZZ9J6\">dataframe</variable></variables><block type=\"indexer\" id=\"oVNd/g7vyxV[^cAbT$JX\" x=\"8\" y=\"300\"><field name=\"VAR\" id=\"t[n^Fcp7,s93E17ZZ9J6\">dataframe</field><value name=\"INDEX\"><block type=\"lists_create_with\" id=\"^oGt7#=i@OMTRwaf:kdd\"><mutation items=\"2\"></mutation><value name=\"ADD0\"><block type=\"text\" id=\"=k__Y{.gxL5z.AJpll.A\"><field name=\"TEXT\">PetalColor</field></block></value><value name=\"ADD1\"><block type=\"text\" id=\"uQyKHkAg(%zJh!AAX=[#\"><field name=\"TEXT\">PetalShape</field></block></value></block></value></block></xml>"
   ]
  },
  {
   "cell_type": "markdown",
   "metadata": {},
   "source": [
    "Select the last two columns of the data:"
   ]
  },
  {
   "cell_type": "markdown",
   "metadata": {},
   "source": [
    "- `dataframe[` using a list containing `\"PetalShape\"` and `\"Size\"` `]`"
   ]
  },
  {
   "cell_type": "code",
   "execution_count": 26,
   "metadata": {
    "user_blocks": [
     "indexer",
     "lists_create_with",
     "text",
     "text"
    ],
    "user_blocks_xml": "<xml xmlns=\"https://developers.google.com/blockly/xml\"><variables><variable id=\"t[n^Fcp7,s93E17ZZ9J6\">dataframe</variable></variables><block type=\"indexer\" id=\"oVNd/g7vyxV[^cAbT$JX\" x=\"8\" y=\"300\"><field name=\"VAR\" id=\"t[n^Fcp7,s93E17ZZ9J6\">dataframe</field><value name=\"INDEX\"><block type=\"lists_create_with\" id=\"^oGt7#=i@OMTRwaf:kdd\"><mutation items=\"2\"></mutation><value name=\"ADD0\"><block type=\"text\" id=\"=k__Y{.gxL5z.AJpll.A\"><field name=\"TEXT\">PetalShape</field></block></value><value name=\"ADD1\"><block type=\"text\" id=\"uQyKHkAg(%zJh!AAX=[#\"><field name=\"TEXT\">Size</field></block></value></block></value></block></xml>",
    "user_code_from_blocks": "dataframe[['PetalShape', 'Size']]\n"
   },
   "outputs": [
    {
     "data": {
      "text/html": [
       "<div>\n",
       "<style scoped>\n",
       "    .dataframe tbody tr th:only-of-type {\n",
       "        vertical-align: middle;\n",
       "    }\n",
       "\n",
       "    .dataframe tbody tr th {\n",
       "        vertical-align: top;\n",
       "    }\n",
       "\n",
       "    .dataframe thead th {\n",
       "        text-align: right;\n",
       "    }\n",
       "</style>\n",
       "<table border=\"1\" class=\"dataframe\">\n",
       "  <thead>\n",
       "    <tr style=\"text-align: right;\">\n",
       "      <th></th>\n",
       "      <th>PetalShape</th>\n",
       "      <th>Size</th>\n",
       "    </tr>\n",
       "  </thead>\n",
       "  <tbody>\n",
       "    <tr>\n",
       "      <th>0</th>\n",
       "      <td>rounded</td>\n",
       "      <td>medium</td>\n",
       "    </tr>\n",
       "    <tr>\n",
       "      <th>1</th>\n",
       "      <td>rounded</td>\n",
       "      <td>medium</td>\n",
       "    </tr>\n",
       "    <tr>\n",
       "      <th>2</th>\n",
       "      <td>unrounded</td>\n",
       "      <td>large</td>\n",
       "    </tr>\n",
       "    <tr>\n",
       "      <th>3</th>\n",
       "      <td>rounded</td>\n",
       "      <td>medium</td>\n",
       "    </tr>\n",
       "    <tr>\n",
       "      <th>4</th>\n",
       "      <td>rounded</td>\n",
       "      <td>small</td>\n",
       "    </tr>\n",
       "    <tr>\n",
       "      <th>...</th>\n",
       "      <td>...</td>\n",
       "      <td>...</td>\n",
       "    </tr>\n",
       "    <tr>\n",
       "      <th>205</th>\n",
       "      <td>rounded</td>\n",
       "      <td>large</td>\n",
       "    </tr>\n",
       "    <tr>\n",
       "      <th>206</th>\n",
       "      <td>rounded</td>\n",
       "      <td>large</td>\n",
       "    </tr>\n",
       "    <tr>\n",
       "      <th>207</th>\n",
       "      <td>unrounded</td>\n",
       "      <td>large</td>\n",
       "    </tr>\n",
       "    <tr>\n",
       "      <th>208</th>\n",
       "      <td>rounded</td>\n",
       "      <td>medium</td>\n",
       "    </tr>\n",
       "    <tr>\n",
       "      <th>209</th>\n",
       "      <td>rounded</td>\n",
       "      <td>small</td>\n",
       "    </tr>\n",
       "  </tbody>\n",
       "</table>\n",
       "<p>210 rows × 2 columns</p>\n",
       "</div>"
      ],
      "text/plain": [
       "    PetalShape    Size\n",
       "0      rounded  medium\n",
       "1      rounded  medium\n",
       "2    unrounded   large\n",
       "3      rounded  medium\n",
       "4      rounded   small\n",
       "..         ...     ...\n",
       "205    rounded   large\n",
       "206    rounded   large\n",
       "207  unrounded   large\n",
       "208    rounded  medium\n",
       "209    rounded   small\n",
       "\n",
       "[210 rows x 2 columns]"
      ]
     },
     "execution_count": 26,
     "metadata": {},
     "output_type": "execute_result"
    }
   ],
   "source": [
    "dataframe[['PetalShape', 'Size']]\n",
    "\n",
    "#<xml xmlns=\"https://developers.google.com/blockly/xml\"><variables><variable id=\"t[n^Fcp7,s93E17ZZ9J6\">dataframe</variable></variables><block type=\"indexer\" id=\"oVNd/g7vyxV[^cAbT$JX\" x=\"8\" y=\"300\"><field name=\"VAR\" id=\"t[n^Fcp7,s93E17ZZ9J6\">dataframe</field><value name=\"INDEX\"><block type=\"lists_create_with\" id=\"^oGt7#=i@OMTRwaf:kdd\"><mutation items=\"2\"></mutation><value name=\"ADD0\"><block type=\"text\" id=\"=k__Y{.gxL5z.AJpll.A\"><field name=\"TEXT\">PetalShape</field></block></value><value name=\"ADD1\"><block type=\"text\" id=\"uQyKHkAg(%zJh!AAX=[#\"><field name=\"TEXT\">Size</field></block></value></block></value></block></xml>"
   ]
  },
  {
   "cell_type": "markdown",
   "metadata": {},
   "source": [
    "Select the middle column of the data:"
   ]
  },
  {
   "cell_type": "markdown",
   "metadata": {},
   "source": [
    "- `dataframe[` using a list containing `\"PetalShape\"` `]`"
   ]
  },
  {
   "cell_type": "code",
   "execution_count": 27,
   "metadata": {
    "user_blocks": [
     "indexer",
     "lists_create_with",
     "text"
    ],
    "user_blocks_xml": "<xml xmlns=\"https://developers.google.com/blockly/xml\"><variables><variable id=\"t[n^Fcp7,s93E17ZZ9J6\">dataframe</variable></variables><block type=\"indexer\" id=\"oVNd/g7vyxV[^cAbT$JX\" x=\"8\" y=\"300\"><field name=\"VAR\" id=\"t[n^Fcp7,s93E17ZZ9J6\">dataframe</field><value name=\"INDEX\"><block type=\"lists_create_with\" id=\"^oGt7#=i@OMTRwaf:kdd\"><mutation items=\"1\"></mutation><value name=\"ADD0\"><block type=\"text\" id=\"=k__Y{.gxL5z.AJpll.A\"><field name=\"TEXT\">PetalShape</field></block></value></block></value></block></xml>",
    "user_code_from_blocks": "dataframe[['PetalShape']]\n"
   },
   "outputs": [
    {
     "data": {
      "text/html": [
       "<div>\n",
       "<style scoped>\n",
       "    .dataframe tbody tr th:only-of-type {\n",
       "        vertical-align: middle;\n",
       "    }\n",
       "\n",
       "    .dataframe tbody tr th {\n",
       "        vertical-align: top;\n",
       "    }\n",
       "\n",
       "    .dataframe thead th {\n",
       "        text-align: right;\n",
       "    }\n",
       "</style>\n",
       "<table border=\"1\" class=\"dataframe\">\n",
       "  <thead>\n",
       "    <tr style=\"text-align: right;\">\n",
       "      <th></th>\n",
       "      <th>PetalShape</th>\n",
       "    </tr>\n",
       "  </thead>\n",
       "  <tbody>\n",
       "    <tr>\n",
       "      <th>0</th>\n",
       "      <td>rounded</td>\n",
       "    </tr>\n",
       "    <tr>\n",
       "      <th>1</th>\n",
       "      <td>rounded</td>\n",
       "    </tr>\n",
       "    <tr>\n",
       "      <th>2</th>\n",
       "      <td>unrounded</td>\n",
       "    </tr>\n",
       "    <tr>\n",
       "      <th>3</th>\n",
       "      <td>rounded</td>\n",
       "    </tr>\n",
       "    <tr>\n",
       "      <th>4</th>\n",
       "      <td>rounded</td>\n",
       "    </tr>\n",
       "    <tr>\n",
       "      <th>...</th>\n",
       "      <td>...</td>\n",
       "    </tr>\n",
       "    <tr>\n",
       "      <th>205</th>\n",
       "      <td>rounded</td>\n",
       "    </tr>\n",
       "    <tr>\n",
       "      <th>206</th>\n",
       "      <td>rounded</td>\n",
       "    </tr>\n",
       "    <tr>\n",
       "      <th>207</th>\n",
       "      <td>unrounded</td>\n",
       "    </tr>\n",
       "    <tr>\n",
       "      <th>208</th>\n",
       "      <td>rounded</td>\n",
       "    </tr>\n",
       "    <tr>\n",
       "      <th>209</th>\n",
       "      <td>rounded</td>\n",
       "    </tr>\n",
       "  </tbody>\n",
       "</table>\n",
       "<p>210 rows × 1 columns</p>\n",
       "</div>"
      ],
      "text/plain": [
       "    PetalShape\n",
       "0      rounded\n",
       "1      rounded\n",
       "2    unrounded\n",
       "3      rounded\n",
       "4      rounded\n",
       "..         ...\n",
       "205    rounded\n",
       "206    rounded\n",
       "207  unrounded\n",
       "208    rounded\n",
       "209    rounded\n",
       "\n",
       "[210 rows x 1 columns]"
      ]
     },
     "execution_count": 27,
     "metadata": {},
     "output_type": "execute_result"
    }
   ],
   "source": [
    "dataframe[['PetalShape']]\n",
    "\n",
    "#<xml xmlns=\"https://developers.google.com/blockly/xml\"><variables><variable id=\"t[n^Fcp7,s93E17ZZ9J6\">dataframe</variable></variables><block type=\"indexer\" id=\"oVNd/g7vyxV[^cAbT$JX\" x=\"8\" y=\"300\"><field name=\"VAR\" id=\"t[n^Fcp7,s93E17ZZ9J6\">dataframe</field><value name=\"INDEX\"><block type=\"lists_create_with\" id=\"^oGt7#=i@OMTRwaf:kdd\"><mutation items=\"1\"></mutation><value name=\"ADD0\"><block type=\"text\" id=\"=k__Y{.gxL5z.AJpll.A\"><field name=\"TEXT\">PetalShape</field></block></value></block></value></block></xml>"
   ]
  },
  {
   "cell_type": "markdown",
   "metadata": {},
   "source": [
    "Get the data types\n",
    "\n",
    "- `from dataframe get dtypes`"
   ]
  },
  {
   "cell_type": "code",
   "execution_count": 28,
   "metadata": {
    "user_blocks": [
     "varGetProperty"
    ],
    "user_blocks_xml": "<xml xmlns=\"https://developers.google.com/blockly/xml\"><variables><variable id=\"t[n^Fcp7,s93E17ZZ9J6\">dataframe</variable></variables><block type=\"varGetProperty\" id=\"BH7oEB_9wN^Cx==6^_[a\" x=\"8\" y=\"142\"><field name=\"VAR\" id=\"t[n^Fcp7,s93E17ZZ9J6\">dataframe</field><field name=\"MEMBER\">dtypes</field><data>dataframe:dtypes</data></block></xml>",
    "user_code_from_blocks": "dataframe.dtypes\n"
   },
   "outputs": [
    {
     "data": {
      "text/plain": [
       "File          object\n",
       "PetalColor    object\n",
       "PetalShape    object\n",
       "Size          object\n",
       "dtype: object"
      ]
     },
     "execution_count": 28,
     "metadata": {},
     "output_type": "execute_result"
    }
   ],
   "source": [
    "dataframe.dtypes\n",
    "\n",
    "#<xml xmlns=\"https://developers.google.com/blockly/xml\"><variables><variable id=\"t[n^Fcp7,s93E17ZZ9J6\">dataframe</variable></variables><block type=\"varGetProperty\" id=\"BH7oEB_9wN^Cx==6^_[a\" x=\"8\" y=\"142\"><field name=\"VAR\" id=\"t[n^Fcp7,s93E17ZZ9J6\">dataframe</field><field name=\"MEMBER\">dtypes</field><data>dataframe:dtypes</data></block></xml>"
   ]
  },
  {
   "cell_type": "markdown",
   "metadata": {},
   "source": [
    "**QUESTION:**\n",
    "\n",
    "What do the data types tell you about the variable types?\n",
    "\n",
    "**ANSWER: (click here to edit)**\n",
    "\n",
    "Nothing, it just shows as `object`\n"
   ]
  },
  {
   "cell_type": "markdown",
   "metadata": {},
   "source": [
    "**QUESTION:**\n",
    "\n",
    "Suppose the students who coded this data made mistakes with Size, so some `small` were coded as `medium` and some `medium` as `large`. \n",
    "Would that affect reliability, validity, or both?\n",
    "\n",
    "**ANSWER: (click here to edit)**\n",
    "\n",
    "It would only affect reliability, because `size` would still be measured, it just wouldn't be as accurate.\n"
   ]
  },
  {
   "cell_type": "markdown",
   "metadata": {},
   "source": [
    "**QUESTION:**\n",
    "\n",
    "Suppose someone made a mistake preparing the data and typed a row like this:\n",
    "\n",
    "`0100.png,,unicolor,rounded,medium`\n",
    "\n",
    "What do you think would happen?\n",
    "\n",
    "**ANSWER: (click here to edit)**\n",
    "\n",
    "This would shift color, shape and size columns to the right. \n",
    "Hopefully `pandas` would throw an error to let us know this happened.\n"
   ]
  },
  {
   "cell_type": "markdown",
   "metadata": {},
   "source": [
    "<!--  -->"
   ]
  }
 ],
 "metadata": {
  "kernelspec": {
   "display_name": "Python 3 (ipykernel)",
   "language": "python",
   "name": "python3"
  },
  "language_info": {
   "codemirror_mode": {
    "name": "ipython",
    "version": 3
   },
   "file_extension": ".py",
   "mimetype": "text/x-python",
   "name": "python",
   "nbconvert_exporter": "python",
   "pygments_lexer": "ipython3",
   "version": "3.12.6"
  }
 },
 "nbformat": 4,
 "nbformat_minor": 4
}
