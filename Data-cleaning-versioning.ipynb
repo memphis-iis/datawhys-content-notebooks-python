{
 "cells": [
  {
   "cell_type": "markdown",
   "metadata": {
    "deletable": false,
    "editable": false
   },
   "source": [
    "Copyright 2020 Andrew M. Olney and made available under [CC BY-SA](https://creativecommons.org/licenses/by-sa/4.0) for text and [Apache-2.0](http://www.apache.org/licenses/LICENSE-2.0) for code.\n"
   ]
  },
  {
   "cell_type": "markdown",
   "metadata": {},
   "source": [
    "# Data cleaning, transformations, & versioning\n",
    "\n",
    "Most of the datasets we've worked with to this point were error-free and didn't require much, if any alterations before use.\n",
    "However, real world data frequently needs some \"correction\" before use.\n",
    "In this session, we will review some of the techniques we've already used and add some more techniques to our toolkit.\n",
    "\n",
    "### What you will learn\n",
    "\n",
    "In this notebook you will learn about methods to prepare real-world data for analysis. We will study the following:\n",
    "\n",
    "- Missing data\n",
    "- Outliers\n",
    "- Standardizing data\n",
    "- Creating new variables\n",
    "- Versioning\n",
    "\n",
    "### When to clean data\n",
    "\n",
    "Data should always be prepared for analysis.\n",
    "However, it's important to evaluate a dataset with respect to its unique properties as well the intended analyses before deciding on a strategy for cleaning or transformation. \n",
    "Some types of analysis will require the data to have specific properties (i.e. model assumptions) and may give erroneous results otherwise (i.e. violations of model assumptions).\n"
   ]
  },
  {
   "cell_type": "markdown",
   "metadata": {},
   "source": [
    "## Missing data\n",
    "\n",
    "Missing data occurs when, for whatever reason, the variable wasn't measured for a datapoint.\n",
    "Ideally this is represented in the data using `na` or `nan`.\n",
    "However, there is no universal convention for representing missing data.\n",
    "You will find datasets that use blanks, `?`, or even `0` to represent a missing value.\n",
    "`pandas` will recognize the following by default as `nan` when reading a CSV file: `-1.#IND`, `1.#QNAN`, `1.#IND`, `-1.#QNAN`, `#N/A N/A`, `#N/A`, `N/A`, `n/a`, `NA`, `<NA>`, `#NA`, `NULL`, `null`, `NaN`, `-NaN`, `nan`, `-nan`, and ` `.\n",
    "Any other value for a missing value will not be recognized as such, *unless* you specifically tell `pandas` what to do.\n",
    "Let's look at an example, starting by importing `pandas`:\n",
    "\n",
    "- `import pandas as pd`"
   ]
  },
  {
   "cell_type": "code",
   "execution_count": 23,
   "metadata": {
    "user_blocks": [
     "importAs"
    ],
    "user_blocks_xml": "<xml xmlns=\"https://developers.google.com/blockly/xml\"><variables><variable id=\"Nzt=g[pEt(%l}kD/){CM\">pd</variable></variables><block type=\"importAs\" id=\"Q%nZ$%KG#|1A:4A9|%=4\" x=\"16\" y=\"10\"><field name=\"libraryName\">pandas</field><field name=\"VAR\" id=\"Nzt=g[pEt(%l}kD/){CM\">pd</field></block></xml>",
    "user_code_from_blocks": "import pandas as pd\n"
   },
   "outputs": [],
   "source": [
    "import pandas as pd\n",
    "\n",
    "#<xml xmlns=\"https://developers.google.com/blockly/xml\"><variables><variable id=\"Nzt=g[pEt(%l}kD/){CM\">pd</variable></variables><block type=\"importAs\" id=\"Q%nZ$%KG#|1A:4A9|%=4\" x=\"16\" y=\"10\"><field name=\"libraryName\">pandas</field><field name=\"VAR\" id=\"Nzt=g[pEt(%l}kD/){CM\">pd</field></block></xml>"
   ]
  },
  {
   "cell_type": "markdown",
   "metadata": {},
   "source": [
    "Our example is a CSV file with `?`, so let's read the file into a dataframe:\n",
    "\n",
    "- with `pd` do `read_csv` using \n",
    "    - `\"datasets/na1.csv\"`"
   ]
  },
  {
   "cell_type": "code",
   "execution_count": 24,
   "metadata": {
    "user_blocks": [
     "varDoMethod",
     "text"
    ],
    "user_blocks_xml": "<xml xmlns=\"https://developers.google.com/blockly/xml\"><variables><variable id=\"Nzt=g[pEt(%l}kD/){CM\">pd</variable></variables><block type=\"varDoMethod\" id=\"IduV!unUxquz$R)OF$8Q\" x=\"7\" y=\"176\"><mutation items=\"1\"></mutation><field name=\"VAR\" id=\"Nzt=g[pEt(%l}kD/){CM\">pd</field><field name=\"MEMBER\">read_csv</field><data>pd:read_csv</data><value name=\"ADD0\"><block type=\"text\" id=\"UV-{,|(UTl=c/MWb]u5W\"><field name=\"TEXT\">datasets/na1.csv</field></block></value></block></xml>",
    "user_code_from_blocks": "pd.read_csv('datasets/na1.csv')\n"
   },
   "outputs": [
    {
     "data": {
      "text/html": [
       "<div>\n",
       "<style scoped>\n",
       "    .dataframe tbody tr th:only-of-type {\n",
       "        vertical-align: middle;\n",
       "    }\n",
       "\n",
       "    .dataframe tbody tr th {\n",
       "        vertical-align: top;\n",
       "    }\n",
       "\n",
       "    .dataframe thead th {\n",
       "        text-align: right;\n",
       "    }\n",
       "</style>\n",
       "<table border=\"1\" class=\"dataframe\">\n",
       "  <thead>\n",
       "    <tr style=\"text-align: right;\">\n",
       "      <th></th>\n",
       "      <th>x1</th>\n",
       "      <th>x2</th>\n",
       "    </tr>\n",
       "  </thead>\n",
       "  <tbody>\n",
       "    <tr>\n",
       "      <th>0</th>\n",
       "      <td>1</td>\n",
       "      <td>2</td>\n",
       "    </tr>\n",
       "    <tr>\n",
       "      <th>1</th>\n",
       "      <td>?</td>\n",
       "      <td>3</td>\n",
       "    </tr>\n",
       "    <tr>\n",
       "      <th>2</th>\n",
       "      <td>3</td>\n",
       "      <td>2</td>\n",
       "    </tr>\n",
       "    <tr>\n",
       "      <th>3</th>\n",
       "      <td>5</td>\n",
       "      <td>?</td>\n",
       "    </tr>\n",
       "  </tbody>\n",
       "</table>\n",
       "</div>"
      ],
      "text/plain": [
       "  x1 x2\n",
       "0  1  2\n",
       "1  ?  3\n",
       "2  3  2\n",
       "3  5  ?"
      ]
     },
     "execution_count": 24,
     "metadata": {},
     "output_type": "execute_result"
    }
   ],
   "source": [
    "pd.read_csv('datasets/na1.csv')\n",
    "\n",
    "#<xml xmlns=\"https://developers.google.com/blockly/xml\"><variables><variable id=\"Nzt=g[pEt(%l}kD/){CM\">pd</variable></variables><block type=\"varDoMethod\" id=\"IduV!unUxquz$R)OF$8Q\" x=\"7\" y=\"176\"><mutation items=\"1\"></mutation><field name=\"VAR\" id=\"Nzt=g[pEt(%l}kD/){CM\">pd</field><field name=\"MEMBER\">read_csv</field><data>pd:read_csv</data><value name=\"ADD0\"><block type=\"text\" id=\"UV-{,|(UTl=c/MWb]u5W\"><field name=\"TEXT\">datasets/na1.csv</field></block></value></block></xml>"
   ]
  },
  {
   "cell_type": "markdown",
   "metadata": {},
   "source": [
    "Because `?` is not one of the default `NaN` symbols, it is treated as regular text.\n",
    "Now try again, but telling `pandas` that `?` is `NaN`:\n",
    "\n",
    "- Set `dataframe` to with `pd` do `read_csv` using\n",
    "    - `\"datasets/na1.csv\"`\n",
    "    - freestyle `na_values=[\"?\"]`\n",
    "- `dataframe` (to display)"
   ]
  },
  {
   "cell_type": "code",
   "execution_count": 25,
   "metadata": {
    "user_blocks": [
     "variables_set",
     "varDoMethod",
     "text",
     "dummyOutputCodeBlock",
     "variables_get"
    ],
    "user_blocks_xml": "<xml xmlns=\"https://developers.google.com/blockly/xml\"><variables><variable id=\"/z]X|sEpLfH7ip{3^4{[\">dataframe</variable><variable id=\"Nzt=g[pEt(%l}kD/){CM\">pd</variable></variables><block type=\"variables_set\" id=\"b?N6-i,)knP9k=Cx-aQo\" x=\"74\" y=\"218\"><field name=\"VAR\" id=\"/z]X|sEpLfH7ip{3^4{[\">dataframe</field><value name=\"VALUE\"><block type=\"varDoMethod\" id=\"IduV!unUxquz$R)OF$8Q\"><mutation items=\"2\"></mutation><field name=\"VAR\" id=\"Nzt=g[pEt(%l}kD/){CM\">pd</field><field name=\"MEMBER\">read_csv</field><data>pd:read_csv</data><value name=\"ADD0\"><block type=\"text\" id=\"UV-{,|(UTl=c/MWb]u5W\"><field name=\"TEXT\">datasets/na1.csv</field></block></value><value name=\"ADD1\"><block type=\"dummyOutputCodeBlock\" id=\"DFyp`q!g^B9HUlhF8x%;\"><field name=\"CODE\">na_values=[\"?\"]</field></block></value></block></value></block><block type=\"variables_get\" id=\"Db(XgspuHOj8$BWD85L}\" x=\"52\" y=\"297\"><field name=\"VAR\" id=\"/z]X|sEpLfH7ip{3^4{[\">dataframe</field></block></xml>",
    "user_code_from_blocks": "dataframe = pd.read_csv('datasets/na1.csv',na_values=[\"?\"])\n\ndataframe\n"
   },
   "outputs": [
    {
     "data": {
      "text/html": [
       "<div>\n",
       "<style scoped>\n",
       "    .dataframe tbody tr th:only-of-type {\n",
       "        vertical-align: middle;\n",
       "    }\n",
       "\n",
       "    .dataframe tbody tr th {\n",
       "        vertical-align: top;\n",
       "    }\n",
       "\n",
       "    .dataframe thead th {\n",
       "        text-align: right;\n",
       "    }\n",
       "</style>\n",
       "<table border=\"1\" class=\"dataframe\">\n",
       "  <thead>\n",
       "    <tr style=\"text-align: right;\">\n",
       "      <th></th>\n",
       "      <th>x1</th>\n",
       "      <th>x2</th>\n",
       "    </tr>\n",
       "  </thead>\n",
       "  <tbody>\n",
       "    <tr>\n",
       "      <th>0</th>\n",
       "      <td>1.0</td>\n",
       "      <td>2.0</td>\n",
       "    </tr>\n",
       "    <tr>\n",
       "      <th>1</th>\n",
       "      <td>NaN</td>\n",
       "      <td>3.0</td>\n",
       "    </tr>\n",
       "    <tr>\n",
       "      <th>2</th>\n",
       "      <td>3.0</td>\n",
       "      <td>2.0</td>\n",
       "    </tr>\n",
       "    <tr>\n",
       "      <th>3</th>\n",
       "      <td>5.0</td>\n",
       "      <td>NaN</td>\n",
       "    </tr>\n",
       "  </tbody>\n",
       "</table>\n",
       "</div>"
      ],
      "text/plain": [
       "    x1   x2\n",
       "0  1.0  2.0\n",
       "1  NaN  3.0\n",
       "2  3.0  2.0\n",
       "3  5.0  NaN"
      ]
     },
     "execution_count": 25,
     "metadata": {},
     "output_type": "execute_result"
    }
   ],
   "source": [
    "dataframe = pd.read_csv('datasets/na1.csv',na_values=[\"?\"])\n",
    "\n",
    "dataframe\n",
    "\n",
    "#<xml xmlns=\"https://developers.google.com/blockly/xml\"><variables><variable id=\"/z]X|sEpLfH7ip{3^4{[\">dataframe</variable><variable id=\"Nzt=g[pEt(%l}kD/){CM\">pd</variable></variables><block type=\"variables_set\" id=\"b?N6-i,)knP9k=Cx-aQo\" x=\"74\" y=\"218\"><field name=\"VAR\" id=\"/z]X|sEpLfH7ip{3^4{[\">dataframe</field><value name=\"VALUE\"><block type=\"varDoMethod\" id=\"IduV!unUxquz$R)OF$8Q\"><mutation items=\"2\"></mutation><field name=\"VAR\" id=\"Nzt=g[pEt(%l}kD/){CM\">pd</field><field name=\"MEMBER\">read_csv</field><data>pd:read_csv</data><value name=\"ADD0\"><block type=\"text\" id=\"UV-{,|(UTl=c/MWb]u5W\"><field name=\"TEXT\">datasets/na1.csv</field></block></value><value name=\"ADD1\"><block type=\"dummyOutputCodeBlock\" id=\"DFyp`q!g^B9HUlhF8x%;\"><field name=\"CODE\">na_values=[\"?\"]</field></block></value></block></value></block><block type=\"variables_get\" id=\"Db(XgspuHOj8$BWD85L}\" x=\"52\" y=\"297\"><field name=\"VAR\" id=\"/z]X|sEpLfH7ip{3^4{[\">dataframe</field></block></xml>"
   ]
  },
  {
   "cell_type": "markdown",
   "metadata": {},
   "source": [
    "`pandas` is smart but it can't do all the thinking for you.\n",
    "It's up to you to figure out what, if any, identifiers have been used in the data to indicate `NaN`, in order to specify them this way to `pandas`.\n",
    "\n",
    "Given that the data has some missing values, we need to decide what to do with them.\n",
    "Many algorithms will balk on missing values, so we either need to drop datapoints with missing values or find a way to replace the missing values with a real value.\n",
    "\n",
    "The first method, dropping the missing values, is something we've seen before:\n",
    "\n",
    "- with `dataframe` do `dropna`"
   ]
  },
  {
   "cell_type": "code",
   "execution_count": 26,
   "metadata": {
    "user_blocks": [
     "varDoMethod"
    ],
    "user_blocks_xml": "<xml xmlns=\"https://developers.google.com/blockly/xml\"><variables><variable id=\"/z]X|sEpLfH7ip{3^4{[\">dataframe</variable></variables><block type=\"varDoMethod\" id=\"EgTd:Xz]e0WGIKLVW6Su\" x=\"-2\" y=\"188\"><mutation items=\"1\"></mutation><field name=\"VAR\" id=\"/z]X|sEpLfH7ip{3^4{[\">dataframe</field><field name=\"MEMBER\">dropna</field><data>dataframe:dropna</data></block></xml>",
    "user_code_from_blocks": "dataframe.dropna()\n"
   },
   "outputs": [
    {
     "data": {
      "text/html": [
       "<div>\n",
       "<style scoped>\n",
       "    .dataframe tbody tr th:only-of-type {\n",
       "        vertical-align: middle;\n",
       "    }\n",
       "\n",
       "    .dataframe tbody tr th {\n",
       "        vertical-align: top;\n",
       "    }\n",
       "\n",
       "    .dataframe thead th {\n",
       "        text-align: right;\n",
       "    }\n",
       "</style>\n",
       "<table border=\"1\" class=\"dataframe\">\n",
       "  <thead>\n",
       "    <tr style=\"text-align: right;\">\n",
       "      <th></th>\n",
       "      <th>x1</th>\n",
       "      <th>x2</th>\n",
       "    </tr>\n",
       "  </thead>\n",
       "  <tbody>\n",
       "    <tr>\n",
       "      <th>0</th>\n",
       "      <td>1.0</td>\n",
       "      <td>2.0</td>\n",
       "    </tr>\n",
       "    <tr>\n",
       "      <th>2</th>\n",
       "      <td>3.0</td>\n",
       "      <td>2.0</td>\n",
       "    </tr>\n",
       "  </tbody>\n",
       "</table>\n",
       "</div>"
      ],
      "text/plain": [
       "    x1   x2\n",
       "0  1.0  2.0\n",
       "2  3.0  2.0"
      ]
     },
     "execution_count": 26,
     "metadata": {},
     "output_type": "execute_result"
    }
   ],
   "source": [
    "dataframe.dropna()\n",
    "\n",
    "#<xml xmlns=\"https://developers.google.com/blockly/xml\"><variables><variable id=\"/z]X|sEpLfH7ip{3^4{[\">dataframe</variable></variables><block type=\"varDoMethod\" id=\"EgTd:Xz]e0WGIKLVW6Su\" x=\"-2\" y=\"188\"><mutation items=\"1\"></mutation><field name=\"VAR\" id=\"/z]X|sEpLfH7ip{3^4{[\">dataframe</field><field name=\"MEMBER\">dropna</field><data>dataframe:dropna</data></block></xml>"
   ]
  },
  {
   "cell_type": "markdown",
   "metadata": {},
   "source": [
    "Sometimes we don't want to loose that data; we might be afraid that throwing out data like that biases the model.\n",
    "An alternative is to replace the missing data with another convenient value.\n",
    "Many values are possible, but common values are the mean and the median.\n",
    "Here's an example using the median:\n",
    "\n",
    "- with `dataframe` do `fillna` using\n",
    "    - with `dataframe` do `median`"
   ]
  },
  {
   "cell_type": "code",
   "execution_count": 27,
   "metadata": {
    "user_blocks": [
     "varDoMethod",
     "varDoMethod"
    ],
    "user_blocks_xml": "<xml xmlns=\"https://developers.google.com/blockly/xml\"><variables><variable id=\"/z]X|sEpLfH7ip{3^4{[\">dataframe</variable></variables><block type=\"varDoMethod\" id=\"ncf=FOqT;~d{#PF+2q@n\" x=\"20\" y=\"225\"><mutation items=\"1\"></mutation><field name=\"VAR\" id=\"/z]X|sEpLfH7ip{3^4{[\">dataframe</field><field name=\"MEMBER\">fillna</field><data>dataframe:fillna</data><value name=\"ADD0\"><block type=\"varDoMethod\" id=\"IEaQq;XN:/]Of08;FuWk\"><mutation items=\"1\"></mutation><field name=\"VAR\" id=\"/z]X|sEpLfH7ip{3^4{[\">dataframe</field><field name=\"MEMBER\">median</field><data>dataframe:median</data></block></value></block></xml>",
    "user_code_from_blocks": "dataframe.fillna(dataframe.median())\n"
   },
   "outputs": [
    {
     "data": {
      "text/html": [
       "<div>\n",
       "<style scoped>\n",
       "    .dataframe tbody tr th:only-of-type {\n",
       "        vertical-align: middle;\n",
       "    }\n",
       "\n",
       "    .dataframe tbody tr th {\n",
       "        vertical-align: top;\n",
       "    }\n",
       "\n",
       "    .dataframe thead th {\n",
       "        text-align: right;\n",
       "    }\n",
       "</style>\n",
       "<table border=\"1\" class=\"dataframe\">\n",
       "  <thead>\n",
       "    <tr style=\"text-align: right;\">\n",
       "      <th></th>\n",
       "      <th>x1</th>\n",
       "      <th>x2</th>\n",
       "    </tr>\n",
       "  </thead>\n",
       "  <tbody>\n",
       "    <tr>\n",
       "      <th>0</th>\n",
       "      <td>1.0</td>\n",
       "      <td>2.0</td>\n",
       "    </tr>\n",
       "    <tr>\n",
       "      <th>1</th>\n",
       "      <td>3.0</td>\n",
       "      <td>3.0</td>\n",
       "    </tr>\n",
       "    <tr>\n",
       "      <th>2</th>\n",
       "      <td>3.0</td>\n",
       "      <td>2.0</td>\n",
       "    </tr>\n",
       "    <tr>\n",
       "      <th>3</th>\n",
       "      <td>5.0</td>\n",
       "      <td>2.0</td>\n",
       "    </tr>\n",
       "  </tbody>\n",
       "</table>\n",
       "</div>"
      ],
      "text/plain": [
       "    x1   x2\n",
       "0  1.0  2.0\n",
       "1  3.0  3.0\n",
       "2  3.0  2.0\n",
       "3  5.0  2.0"
      ]
     },
     "execution_count": 27,
     "metadata": {},
     "output_type": "execute_result"
    }
   ],
   "source": [
    "dataframe.fillna(dataframe.median())\n",
    "\n",
    "#<xml xmlns=\"https://developers.google.com/blockly/xml\"><variables><variable id=\"/z]X|sEpLfH7ip{3^4{[\">dataframe</variable></variables><block type=\"varDoMethod\" id=\"ncf=FOqT;~d{#PF+2q@n\" x=\"20\" y=\"225\"><mutation items=\"1\"></mutation><field name=\"VAR\" id=\"/z]X|sEpLfH7ip{3^4{[\">dataframe</field><field name=\"MEMBER\">fillna</field><data>dataframe:fillna</data><value name=\"ADD0\"><block type=\"varDoMethod\" id=\"IEaQq;XN:/]Of08;FuWk\"><mutation items=\"1\"></mutation><field name=\"VAR\" id=\"/z]X|sEpLfH7ip{3^4{[\">dataframe</field><field name=\"MEMBER\">median</field><data>dataframe:median</data></block></value></block></xml>"
   ]
  },
  {
   "cell_type": "markdown",
   "metadata": {},
   "source": [
    "The median value of `x1` is `3.0`, and the median value of `x2` is `2.0`, so you can see that `NaN` has been replace by the median value *in each column*, i.e. for each variable.\n",
    "\n",
    "It's important to note that there are [many other ways](https://pandas.pydata.org/pandas-docs/stable/user_guide/missing_data.html#filling-missing-values-fillna) of removing or replacing missing values. \n",
    "\n",
    "The best way to decide what to do with missing data is to understand why the data is missing in the first place.\n",
    "If there is a pattern to the missing data, then that fact has implications for your model.\n",
    "We will discuss this idea in the context of outliers next."
   ]
  },
  {
   "cell_type": "markdown",
   "metadata": {},
   "source": [
    "## Transforming data\n",
    "\n",
    "There are three common reasons to transform data:\n",
    "\n",
    "- Outliers\n",
    "- Common scale\n",
    "- Non-normality\n",
    "\n",
    "### Outliers\n",
    "\n",
    "Outliers can exert undue influence on some models, like linear regression, when the models try to minimize mean squared error.\n",
    "In general, the best way to deal with outliers is to try to understand the process that generated the outlier.\n",
    "For example, perhaps the outlier is a measurement error, in which case throwing that data out or transforming it would make sense.\n",
    "Alternatively, it could be that the outlier is revealing real and important differences in the data that shouldn't be ignored.\n",
    "One way to tell if outliers are \"real\" is to see if there are patterns in the outliers, e.g. in their relationships with other variables.\n",
    "\n",
    "Assuming you've decided to drop the outliers, there are many ways try to determine what is an outlier and what isn't.\n",
    "One way is to use *standard deviation*, a measure of the spread of a variable's values about its mean.\n",
    "In normal distributions, 99.7% of the values are within three standard deviations, so three standard deviations is often used as a criteria for determining outliers.\n",
    "The problem with this method is that mean and standard deviation are distorted by outliers, so using a criteria based on them means the criteria itself is distorted.\n",
    "\n",
    "We've already seen an alternative approach illustrated in boxplots.\n",
    "Recall in boxplots that outliers are drawn as circles outside the whiskers of the plot.\n",
    "Those whiskers are drawn at 1.5 times the interquartile range (IQR), or the difference between the 25th and 75th percentiles.\n",
    "In normal distributions (without outliers), this method is almost identical to using three standard deviations, and when there are outliers, this method is unaffected because it is not based on the mean or standard deviation.\n",
    "\n",
    "Finally, we can construct a simple version of both of these by just using percentiles, e.g. call everything below the 1st percentile or above the 99th percentile an outlier.\n",
    "Let's try that now, but with a new dataset:\n",
    "\n",
    "- Set `dataframe` to with `pd` do `read_csv` using\n",
    "    - `\"datasets/outlier1.csv\"`\n",
    "- `dataframe`"
   ]
  },
  {
   "cell_type": "code",
   "execution_count": 28,
   "metadata": {
    "user_blocks": [
     "variables_set",
     "varDoMethod",
     "text",
     "variables_get"
    ],
    "user_blocks_xml": "<xml xmlns=\"https://developers.google.com/blockly/xml\"><variables><variable id=\"/z]X|sEpLfH7ip{3^4{[\">dataframe</variable><variable id=\"Nzt=g[pEt(%l}kD/){CM\">pd</variable></variables><block type=\"variables_set\" id=\"b?N6-i,)knP9k=Cx-aQo\" x=\"74\" y=\"218\"><field name=\"VAR\" id=\"/z]X|sEpLfH7ip{3^4{[\">dataframe</field><value name=\"VALUE\"><block type=\"varDoMethod\" id=\"IduV!unUxquz$R)OF$8Q\"><mutation items=\"1\"></mutation><field name=\"VAR\" id=\"Nzt=g[pEt(%l}kD/){CM\">pd</field><field name=\"MEMBER\">read_csv</field><data>pd:read_csv</data><value name=\"ADD0\"><block type=\"text\" id=\"UV-{,|(UTl=c/MWb]u5W\"><field name=\"TEXT\">datasets/outlier1.csv</field></block></value></block></value></block><block type=\"variables_get\" id=\"Db(XgspuHOj8$BWD85L}\" x=\"52\" y=\"297\"><field name=\"VAR\" id=\"/z]X|sEpLfH7ip{3^4{[\">dataframe</field></block></xml>",
    "user_code_from_blocks": "dataframe = pd.read_csv('datasets/outlier1.csv')\n\ndataframe\n"
   },
   "outputs": [
    {
     "data": {
      "text/html": [
       "<div>\n",
       "<style scoped>\n",
       "    .dataframe tbody tr th:only-of-type {\n",
       "        vertical-align: middle;\n",
       "    }\n",
       "\n",
       "    .dataframe tbody tr th {\n",
       "        vertical-align: top;\n",
       "    }\n",
       "\n",
       "    .dataframe thead th {\n",
       "        text-align: right;\n",
       "    }\n",
       "</style>\n",
       "<table border=\"1\" class=\"dataframe\">\n",
       "  <thead>\n",
       "    <tr style=\"text-align: right;\">\n",
       "      <th></th>\n",
       "      <th>x1</th>\n",
       "      <th>x2</th>\n",
       "    </tr>\n",
       "  </thead>\n",
       "  <tbody>\n",
       "    <tr>\n",
       "      <th>0</th>\n",
       "      <td>0.20</td>\n",
       "      <td>0.10</td>\n",
       "    </tr>\n",
       "    <tr>\n",
       "      <th>1</th>\n",
       "      <td>1.02</td>\n",
       "      <td>1.92</td>\n",
       "    </tr>\n",
       "    <tr>\n",
       "      <th>2</th>\n",
       "      <td>1.03</td>\n",
       "      <td>2.00</td>\n",
       "    </tr>\n",
       "    <tr>\n",
       "      <th>3</th>\n",
       "      <td>1.04</td>\n",
       "      <td>1.06</td>\n",
       "    </tr>\n",
       "    <tr>\n",
       "      <th>4</th>\n",
       "      <td>1.16</td>\n",
       "      <td>1.53</td>\n",
       "    </tr>\n",
       "    <tr>\n",
       "      <th>5</th>\n",
       "      <td>1.30</td>\n",
       "      <td>1.66</td>\n",
       "    </tr>\n",
       "    <tr>\n",
       "      <th>6</th>\n",
       "      <td>1.33</td>\n",
       "      <td>1.53</td>\n",
       "    </tr>\n",
       "    <tr>\n",
       "      <th>7</th>\n",
       "      <td>1.34</td>\n",
       "      <td>1.30</td>\n",
       "    </tr>\n",
       "    <tr>\n",
       "      <th>8</th>\n",
       "      <td>1.37</td>\n",
       "      <td>1.75</td>\n",
       "    </tr>\n",
       "    <tr>\n",
       "      <th>9</th>\n",
       "      <td>1.38</td>\n",
       "      <td>1.50</td>\n",
       "    </tr>\n",
       "    <tr>\n",
       "      <th>10</th>\n",
       "      <td>1.39</td>\n",
       "      <td>1.86</td>\n",
       "    </tr>\n",
       "    <tr>\n",
       "      <th>11</th>\n",
       "      <td>1.41</td>\n",
       "      <td>1.29</td>\n",
       "    </tr>\n",
       "    <tr>\n",
       "      <th>12</th>\n",
       "      <td>1.46</td>\n",
       "      <td>6.00</td>\n",
       "    </tr>\n",
       "    <tr>\n",
       "      <th>13</th>\n",
       "      <td>1.50</td>\n",
       "      <td>1.83</td>\n",
       "    </tr>\n",
       "    <tr>\n",
       "      <th>14</th>\n",
       "      <td>1.52</td>\n",
       "      <td>1.12</td>\n",
       "    </tr>\n",
       "    <tr>\n",
       "      <th>15</th>\n",
       "      <td>1.87</td>\n",
       "      <td>1.80</td>\n",
       "    </tr>\n",
       "    <tr>\n",
       "      <th>16</th>\n",
       "      <td>1.88</td>\n",
       "      <td>1.85</td>\n",
       "    </tr>\n",
       "    <tr>\n",
       "      <th>17</th>\n",
       "      <td>1.92</td>\n",
       "      <td>1.37</td>\n",
       "    </tr>\n",
       "    <tr>\n",
       "      <th>18</th>\n",
       "      <td>1.94</td>\n",
       "      <td>1.97</td>\n",
       "    </tr>\n",
       "    <tr>\n",
       "      <th>19</th>\n",
       "      <td>5.00</td>\n",
       "      <td>1.22</td>\n",
       "    </tr>\n",
       "  </tbody>\n",
       "</table>\n",
       "</div>"
      ],
      "text/plain": [
       "      x1    x2\n",
       "0   0.20  0.10\n",
       "1   1.02  1.92\n",
       "2   1.03  2.00\n",
       "3   1.04  1.06\n",
       "4   1.16  1.53\n",
       "5   1.30  1.66\n",
       "6   1.33  1.53\n",
       "7   1.34  1.30\n",
       "8   1.37  1.75\n",
       "9   1.38  1.50\n",
       "10  1.39  1.86\n",
       "11  1.41  1.29\n",
       "12  1.46  6.00\n",
       "13  1.50  1.83\n",
       "14  1.52  1.12\n",
       "15  1.87  1.80\n",
       "16  1.88  1.85\n",
       "17  1.92  1.37\n",
       "18  1.94  1.97\n",
       "19  5.00  1.22"
      ]
     },
     "execution_count": 28,
     "metadata": {},
     "output_type": "execute_result"
    }
   ],
   "source": [
    "dataframe = pd.read_csv('datasets/outlier1.csv')\n",
    "\n",
    "dataframe\n",
    "\n",
    "#<xml xmlns=\"https://developers.google.com/blockly/xml\"><variables><variable id=\"/z]X|sEpLfH7ip{3^4{[\">dataframe</variable><variable id=\"Nzt=g[pEt(%l}kD/){CM\">pd</variable></variables><block type=\"variables_set\" id=\"b?N6-i,)knP9k=Cx-aQo\" x=\"74\" y=\"218\"><field name=\"VAR\" id=\"/z]X|sEpLfH7ip{3^4{[\">dataframe</field><value name=\"VALUE\"><block type=\"varDoMethod\" id=\"IduV!unUxquz$R)OF$8Q\"><mutation items=\"1\"></mutation><field name=\"VAR\" id=\"Nzt=g[pEt(%l}kD/){CM\">pd</field><field name=\"MEMBER\">read_csv</field><data>pd:read_csv</data><value name=\"ADD0\"><block type=\"text\" id=\"UV-{,|(UTl=c/MWb]u5W\"><field name=\"TEXT\">datasets/outlier1.csv</field></block></value></block></value></block><block type=\"variables_get\" id=\"Db(XgspuHOj8$BWD85L}\" x=\"52\" y=\"297\"><field name=\"VAR\" id=\"/z]X|sEpLfH7ip{3^4{[\">dataframe</field></block></xml>"
   ]
  },
  {
   "cell_type": "markdown",
   "metadata": {},
   "source": [
    "Let's start with the 1st percentile.\n",
    "Here are the steps:\n",
    "\n",
    "- Determine the first percentile's value (like `median`, for each column/variable)\n",
    "- Determine if a given value is above that value\n",
    "- Return a dataframe with `NaN` wherever it is not above the first percentile\n",
    "\n",
    "Here are the first two steps:\n",
    "\n",
    "- `dataframe` followed by `>` followed by with `dataframe` do `quantile` using `.01`"
   ]
  },
  {
   "cell_type": "code",
   "execution_count": 29,
   "metadata": {
    "user_blocks": [
     "logic_compare",
     "variables_get",
     "varDoMethod",
     "math_number"
    ],
    "user_blocks_xml": "<xml xmlns=\"https://developers.google.com/blockly/xml\"><variables><variable id=\"/z]X|sEpLfH7ip{3^4{[\">dataframe</variable></variables><block type=\"logic_compare\" id=\"@a=%pHkmqTI0V|367Ka-\" x=\"24\" y=\"322\"><field name=\"OP\">GT</field><value name=\"A\"><block type=\"variables_get\" id=\"iE@PIY):dC]gr?$m]]fR\"><field name=\"VAR\" id=\"/z]X|sEpLfH7ip{3^4{[\">dataframe</field></block></value><value name=\"B\"><block type=\"varDoMethod\" id=\"N4bLloV766%L9?_-TEHf\"><mutation items=\"1\"></mutation><field name=\"VAR\" id=\"/z]X|sEpLfH7ip{3^4{[\">dataframe</field><field name=\"MEMBER\">quantile</field><data>dataframe:quantile</data><value name=\"ADD0\"><block type=\"math_number\" id=\"~A=rnIC3lc_(NN+[Vjt]\"><field name=\"NUM\">0.01</field></block></value></block></value></block></xml>",
    "user_code_from_blocks": "dataframe > dataframe.quantile(0.01)\n"
   },
   "outputs": [
    {
     "data": {
      "text/html": [
       "<div>\n",
       "<style scoped>\n",
       "    .dataframe tbody tr th:only-of-type {\n",
       "        vertical-align: middle;\n",
       "    }\n",
       "\n",
       "    .dataframe tbody tr th {\n",
       "        vertical-align: top;\n",
       "    }\n",
       "\n",
       "    .dataframe thead th {\n",
       "        text-align: right;\n",
       "    }\n",
       "</style>\n",
       "<table border=\"1\" class=\"dataframe\">\n",
       "  <thead>\n",
       "    <tr style=\"text-align: right;\">\n",
       "      <th></th>\n",
       "      <th>x1</th>\n",
       "      <th>x2</th>\n",
       "    </tr>\n",
       "  </thead>\n",
       "  <tbody>\n",
       "    <tr>\n",
       "      <th>0</th>\n",
       "      <td>False</td>\n",
       "      <td>False</td>\n",
       "    </tr>\n",
       "    <tr>\n",
       "      <th>1</th>\n",
       "      <td>True</td>\n",
       "      <td>True</td>\n",
       "    </tr>\n",
       "    <tr>\n",
       "      <th>2</th>\n",
       "      <td>True</td>\n",
       "      <td>True</td>\n",
       "    </tr>\n",
       "    <tr>\n",
       "      <th>3</th>\n",
       "      <td>True</td>\n",
       "      <td>True</td>\n",
       "    </tr>\n",
       "    <tr>\n",
       "      <th>4</th>\n",
       "      <td>True</td>\n",
       "      <td>True</td>\n",
       "    </tr>\n",
       "    <tr>\n",
       "      <th>5</th>\n",
       "      <td>True</td>\n",
       "      <td>True</td>\n",
       "    </tr>\n",
       "    <tr>\n",
       "      <th>6</th>\n",
       "      <td>True</td>\n",
       "      <td>True</td>\n",
       "    </tr>\n",
       "    <tr>\n",
       "      <th>7</th>\n",
       "      <td>True</td>\n",
       "      <td>True</td>\n",
       "    </tr>\n",
       "    <tr>\n",
       "      <th>8</th>\n",
       "      <td>True</td>\n",
       "      <td>True</td>\n",
       "    </tr>\n",
       "    <tr>\n",
       "      <th>9</th>\n",
       "      <td>True</td>\n",
       "      <td>True</td>\n",
       "    </tr>\n",
       "    <tr>\n",
       "      <th>10</th>\n",
       "      <td>True</td>\n",
       "      <td>True</td>\n",
       "    </tr>\n",
       "    <tr>\n",
       "      <th>11</th>\n",
       "      <td>True</td>\n",
       "      <td>True</td>\n",
       "    </tr>\n",
       "    <tr>\n",
       "      <th>12</th>\n",
       "      <td>True</td>\n",
       "      <td>True</td>\n",
       "    </tr>\n",
       "    <tr>\n",
       "      <th>13</th>\n",
       "      <td>True</td>\n",
       "      <td>True</td>\n",
       "    </tr>\n",
       "    <tr>\n",
       "      <th>14</th>\n",
       "      <td>True</td>\n",
       "      <td>True</td>\n",
       "    </tr>\n",
       "    <tr>\n",
       "      <th>15</th>\n",
       "      <td>True</td>\n",
       "      <td>True</td>\n",
       "    </tr>\n",
       "    <tr>\n",
       "      <th>16</th>\n",
       "      <td>True</td>\n",
       "      <td>True</td>\n",
       "    </tr>\n",
       "    <tr>\n",
       "      <th>17</th>\n",
       "      <td>True</td>\n",
       "      <td>True</td>\n",
       "    </tr>\n",
       "    <tr>\n",
       "      <th>18</th>\n",
       "      <td>True</td>\n",
       "      <td>True</td>\n",
       "    </tr>\n",
       "    <tr>\n",
       "      <th>19</th>\n",
       "      <td>True</td>\n",
       "      <td>True</td>\n",
       "    </tr>\n",
       "  </tbody>\n",
       "</table>\n",
       "</div>"
      ],
      "text/plain": [
       "       x1     x2\n",
       "0   False  False\n",
       "1    True   True\n",
       "2    True   True\n",
       "3    True   True\n",
       "4    True   True\n",
       "5    True   True\n",
       "6    True   True\n",
       "7    True   True\n",
       "8    True   True\n",
       "9    True   True\n",
       "10   True   True\n",
       "11   True   True\n",
       "12   True   True\n",
       "13   True   True\n",
       "14   True   True\n",
       "15   True   True\n",
       "16   True   True\n",
       "17   True   True\n",
       "18   True   True\n",
       "19   True   True"
      ]
     },
     "execution_count": 29,
     "metadata": {},
     "output_type": "execute_result"
    }
   ],
   "source": [
    "dataframe > dataframe.quantile(0.01)\n",
    "\n",
    "#<xml xmlns=\"https://developers.google.com/blockly/xml\"><variables><variable id=\"/z]X|sEpLfH7ip{3^4{[\">dataframe</variable></variables><block type=\"logic_compare\" id=\"@a=%pHkmqTI0V|367Ka-\" x=\"24\" y=\"322\"><field name=\"OP\">GT</field><value name=\"A\"><block type=\"variables_get\" id=\"iE@PIY):dC]gr?$m]]fR\"><field name=\"VAR\" id=\"/z]X|sEpLfH7ip{3^4{[\">dataframe</field></block></value><value name=\"B\"><block type=\"varDoMethod\" id=\"N4bLloV766%L9?_-TEHf\"><mutation items=\"1\"></mutation><field name=\"VAR\" id=\"/z]X|sEpLfH7ip{3^4{[\">dataframe</field><field name=\"MEMBER\">quantile</field><data>dataframe:quantile</data><value name=\"ADD0\"><block type=\"math_number\" id=\"~A=rnIC3lc_(NN+[Vjt]\"><field name=\"NUM\">0.01</field></block></value></block></value></block></xml>"
   ]
  },
  {
   "cell_type": "markdown",
   "metadata": {},
   "source": [
    "Because `>` is logical, the result is True or False for each value.\n",
    "We can accomplish the third step above by putting these blocks inside `dataframe[ ]`:\n",
    "\n",
    "- `dataframe[ ]` containing\n",
    "     - `dataframe` followed by `>` followed by with `dataframe` do `quantile` using .01"
   ]
  },
  {
   "cell_type": "code",
   "execution_count": 30,
   "metadata": {
    "user_blocks": [
     "indexer",
     "logic_compare",
     "variables_get",
     "varDoMethod",
     "math_number"
    ],
    "user_blocks_xml": "<xml xmlns=\"https://developers.google.com/blockly/xml\"><variables><variable id=\"/z]X|sEpLfH7ip{3^4{[\">dataframe</variable></variables><block type=\"indexer\" id=\"p!~MCHh9W4;w^SK#?oHl\" x=\"59\" y=\"457\"><field name=\"VAR\" id=\"/z]X|sEpLfH7ip{3^4{[\">dataframe</field><value name=\"INDEX\"><block type=\"logic_compare\" id=\"@a=%pHkmqTI0V|367Ka-\"><field name=\"OP\">GT</field><value name=\"A\"><block type=\"variables_get\" id=\"iE@PIY):dC]gr?$m]]fR\"><field name=\"VAR\" id=\"/z]X|sEpLfH7ip{3^4{[\">dataframe</field></block></value><value name=\"B\"><block type=\"varDoMethod\" id=\"N4bLloV766%L9?_-TEHf\"><mutation items=\"1\"></mutation><field name=\"VAR\" id=\"/z]X|sEpLfH7ip{3^4{[\">dataframe</field><field name=\"MEMBER\">quantile</field><data>dataframe:quantile</data><value name=\"ADD0\"><block type=\"math_number\" id=\"~A=rnIC3lc_(NN+[Vjt]\"><field name=\"NUM\">0.01</field></block></value></block></value></block></value></block></xml>",
    "user_code_from_blocks": "dataframe[(dataframe > dataframe.quantile(0.01))]\n"
   },
   "outputs": [
    {
     "data": {
      "text/html": [
       "<div>\n",
       "<style scoped>\n",
       "    .dataframe tbody tr th:only-of-type {\n",
       "        vertical-align: middle;\n",
       "    }\n",
       "\n",
       "    .dataframe tbody tr th {\n",
       "        vertical-align: top;\n",
       "    }\n",
       "\n",
       "    .dataframe thead th {\n",
       "        text-align: right;\n",
       "    }\n",
       "</style>\n",
       "<table border=\"1\" class=\"dataframe\">\n",
       "  <thead>\n",
       "    <tr style=\"text-align: right;\">\n",
       "      <th></th>\n",
       "      <th>x1</th>\n",
       "      <th>x2</th>\n",
       "    </tr>\n",
       "  </thead>\n",
       "  <tbody>\n",
       "    <tr>\n",
       "      <th>0</th>\n",
       "      <td>NaN</td>\n",
       "      <td>NaN</td>\n",
       "    </tr>\n",
       "    <tr>\n",
       "      <th>1</th>\n",
       "      <td>1.02</td>\n",
       "      <td>1.92</td>\n",
       "    </tr>\n",
       "    <tr>\n",
       "      <th>2</th>\n",
       "      <td>1.03</td>\n",
       "      <td>2.00</td>\n",
       "    </tr>\n",
       "    <tr>\n",
       "      <th>3</th>\n",
       "      <td>1.04</td>\n",
       "      <td>1.06</td>\n",
       "    </tr>\n",
       "    <tr>\n",
       "      <th>4</th>\n",
       "      <td>1.16</td>\n",
       "      <td>1.53</td>\n",
       "    </tr>\n",
       "    <tr>\n",
       "      <th>5</th>\n",
       "      <td>1.30</td>\n",
       "      <td>1.66</td>\n",
       "    </tr>\n",
       "    <tr>\n",
       "      <th>6</th>\n",
       "      <td>1.33</td>\n",
       "      <td>1.53</td>\n",
       "    </tr>\n",
       "    <tr>\n",
       "      <th>7</th>\n",
       "      <td>1.34</td>\n",
       "      <td>1.30</td>\n",
       "    </tr>\n",
       "    <tr>\n",
       "      <th>8</th>\n",
       "      <td>1.37</td>\n",
       "      <td>1.75</td>\n",
       "    </tr>\n",
       "    <tr>\n",
       "      <th>9</th>\n",
       "      <td>1.38</td>\n",
       "      <td>1.50</td>\n",
       "    </tr>\n",
       "    <tr>\n",
       "      <th>10</th>\n",
       "      <td>1.39</td>\n",
       "      <td>1.86</td>\n",
       "    </tr>\n",
       "    <tr>\n",
       "      <th>11</th>\n",
       "      <td>1.41</td>\n",
       "      <td>1.29</td>\n",
       "    </tr>\n",
       "    <tr>\n",
       "      <th>12</th>\n",
       "      <td>1.46</td>\n",
       "      <td>6.00</td>\n",
       "    </tr>\n",
       "    <tr>\n",
       "      <th>13</th>\n",
       "      <td>1.50</td>\n",
       "      <td>1.83</td>\n",
       "    </tr>\n",
       "    <tr>\n",
       "      <th>14</th>\n",
       "      <td>1.52</td>\n",
       "      <td>1.12</td>\n",
       "    </tr>\n",
       "    <tr>\n",
       "      <th>15</th>\n",
       "      <td>1.87</td>\n",
       "      <td>1.80</td>\n",
       "    </tr>\n",
       "    <tr>\n",
       "      <th>16</th>\n",
       "      <td>1.88</td>\n",
       "      <td>1.85</td>\n",
       "    </tr>\n",
       "    <tr>\n",
       "      <th>17</th>\n",
       "      <td>1.92</td>\n",
       "      <td>1.37</td>\n",
       "    </tr>\n",
       "    <tr>\n",
       "      <th>18</th>\n",
       "      <td>1.94</td>\n",
       "      <td>1.97</td>\n",
       "    </tr>\n",
       "    <tr>\n",
       "      <th>19</th>\n",
       "      <td>5.00</td>\n",
       "      <td>1.22</td>\n",
       "    </tr>\n",
       "  </tbody>\n",
       "</table>\n",
       "</div>"
      ],
      "text/plain": [
       "      x1    x2\n",
       "0    NaN   NaN\n",
       "1   1.02  1.92\n",
       "2   1.03  2.00\n",
       "3   1.04  1.06\n",
       "4   1.16  1.53\n",
       "5   1.30  1.66\n",
       "6   1.33  1.53\n",
       "7   1.34  1.30\n",
       "8   1.37  1.75\n",
       "9   1.38  1.50\n",
       "10  1.39  1.86\n",
       "11  1.41  1.29\n",
       "12  1.46  6.00\n",
       "13  1.50  1.83\n",
       "14  1.52  1.12\n",
       "15  1.87  1.80\n",
       "16  1.88  1.85\n",
       "17  1.92  1.37\n",
       "18  1.94  1.97\n",
       "19  5.00  1.22"
      ]
     },
     "execution_count": 30,
     "metadata": {},
     "output_type": "execute_result"
    }
   ],
   "source": [
    "dataframe[(dataframe > dataframe.quantile(0.01))]\n",
    "\n",
    "#<xml xmlns=\"https://developers.google.com/blockly/xml\"><variables><variable id=\"/z]X|sEpLfH7ip{3^4{[\">dataframe</variable></variables><block type=\"indexer\" id=\"p!~MCHh9W4;w^SK#?oHl\" x=\"59\" y=\"457\"><field name=\"VAR\" id=\"/z]X|sEpLfH7ip{3^4{[\">dataframe</field><value name=\"INDEX\"><block type=\"logic_compare\" id=\"@a=%pHkmqTI0V|367Ka-\"><field name=\"OP\">GT</field><value name=\"A\"><block type=\"variables_get\" id=\"iE@PIY):dC]gr?$m]]fR\"><field name=\"VAR\" id=\"/z]X|sEpLfH7ip{3^4{[\">dataframe</field></block></value><value name=\"B\"><block type=\"varDoMethod\" id=\"N4bLloV766%L9?_-TEHf\"><mutation items=\"1\"></mutation><field name=\"VAR\" id=\"/z]X|sEpLfH7ip{3^4{[\">dataframe</field><field name=\"MEMBER\">quantile</field><data>dataframe:quantile</data><value name=\"ADD0\"><block type=\"math_number\" id=\"~A=rnIC3lc_(NN+[Vjt]\"><field name=\"NUM\">0.01</field></block></value></block></value></block></value></block></xml>"
   ]
  },
  {
   "cell_type": "markdown",
   "metadata": {},
   "source": [
    "Both the 1st and 99th percentile can be turned into `NaN` by doing a transformation like this back to back:\n",
    "\n",
    "- Set `dataframe` to `dataframe[ ]` containing\n",
    "     - `dataframe` followed by `>` followed by `with dataframe do quantile using .01`\n",
    "- Set `dataframe` to `dataframe[ ]` containing\n",
    "     - `dataframe` followed by `<` followed by `with dataframe do quantile using .99`\n",
    "- `dataframe`"
   ]
  },
  {
   "cell_type": "code",
   "execution_count": 31,
   "metadata": {
    "user_blocks": [
     "variables_set",
     "indexer",
     "logic_compare",
     "variables_get",
     "varDoMethod",
     "math_number",
     "variables_set",
     "indexer",
     "logic_compare",
     "variables_get",
     "varDoMethod",
     "math_number",
     "variables_get"
    ],
    "user_blocks_xml": "<xml xmlns=\"https://developers.google.com/blockly/xml\"><variables><variable id=\"/z]X|sEpLfH7ip{3^4{[\">dataframe</variable></variables><block type=\"variables_set\" id=\"I{[E6BpRRz0%Jnt3M39?\" x=\"3\" y=\"261\"><field name=\"VAR\" id=\"/z]X|sEpLfH7ip{3^4{[\">dataframe</field><value name=\"VALUE\"><block type=\"indexer\" id=\"p!~MCHh9W4;w^SK#?oHl\"><field name=\"VAR\" id=\"/z]X|sEpLfH7ip{3^4{[\">dataframe</field><value name=\"INDEX\"><block type=\"logic_compare\" id=\"@a=%pHkmqTI0V|367Ka-\"><field name=\"OP\">GT</field><value name=\"A\"><block type=\"variables_get\" id=\"iE@PIY):dC]gr?$m]]fR\"><field name=\"VAR\" id=\"/z]X|sEpLfH7ip{3^4{[\">dataframe</field></block></value><value name=\"B\"><block type=\"varDoMethod\" id=\"N4bLloV766%L9?_-TEHf\"><mutation items=\"1\"></mutation><field name=\"VAR\" id=\"/z]X|sEpLfH7ip{3^4{[\">dataframe</field><field name=\"MEMBER\">quantile</field><data>dataframe:quantile</data><value name=\"ADD0\"><block type=\"math_number\" id=\"~A=rnIC3lc_(NN+[Vjt]\"><field name=\"NUM\">0.01</field></block></value></block></value></block></value></block></value><next><block type=\"variables_set\" id=\"lA8IBL^|fi9h|0LPqfUV\"><field name=\"VAR\" id=\"/z]X|sEpLfH7ip{3^4{[\">dataframe</field><value name=\"VALUE\"><block type=\"indexer\" id=\"_etYy#Q`mFrYN._Y%nKU\"><field name=\"VAR\" id=\"/z]X|sEpLfH7ip{3^4{[\">dataframe</field><value name=\"INDEX\"><block type=\"logic_compare\" id=\"%KL2HYd.L6T-B@:#huwJ\"><field name=\"OP\">LT</field><value name=\"A\"><block type=\"variables_get\" id=\"#icuS!{Ah6/Xt615]5dP\"><field name=\"VAR\" id=\"/z]X|sEpLfH7ip{3^4{[\">dataframe</field></block></value><value name=\"B\"><block type=\"varDoMethod\" id=\"Mh]7.yhCfAsXcMw{0Z1,\"><mutation items=\"1\"></mutation><field name=\"VAR\" id=\"/z]X|sEpLfH7ip{3^4{[\">dataframe</field><field name=\"MEMBER\">quantile</field><data>dataframe:quantile</data><value name=\"ADD0\"><block type=\"math_number\" id=\"yeT11I1e`@977*xsR@/b\"><field name=\"NUM\">0.99</field></block></value></block></value></block></value></block></value></block></next></block><block type=\"variables_get\" id=\"{=l1?Pg%Q3QSj.fkH$-]\" x=\"231\" y=\"483\"><field name=\"VAR\" id=\"/z]X|sEpLfH7ip{3^4{[\">dataframe</field></block></xml>",
    "user_code_from_blocks": "dataframe = dataframe[(dataframe > dataframe.quantile(0.01))]\ndataframe = dataframe[(dataframe < dataframe.quantile(0.99))]\n\ndataframe\n"
   },
   "outputs": [
    {
     "data": {
      "text/html": [
       "<div>\n",
       "<style scoped>\n",
       "    .dataframe tbody tr th:only-of-type {\n",
       "        vertical-align: middle;\n",
       "    }\n",
       "\n",
       "    .dataframe tbody tr th {\n",
       "        vertical-align: top;\n",
       "    }\n",
       "\n",
       "    .dataframe thead th {\n",
       "        text-align: right;\n",
       "    }\n",
       "</style>\n",
       "<table border=\"1\" class=\"dataframe\">\n",
       "  <thead>\n",
       "    <tr style=\"text-align: right;\">\n",
       "      <th></th>\n",
       "      <th>x1</th>\n",
       "      <th>x2</th>\n",
       "    </tr>\n",
       "  </thead>\n",
       "  <tbody>\n",
       "    <tr>\n",
       "      <th>0</th>\n",
       "      <td>NaN</td>\n",
       "      <td>NaN</td>\n",
       "    </tr>\n",
       "    <tr>\n",
       "      <th>1</th>\n",
       "      <td>1.02</td>\n",
       "      <td>1.92</td>\n",
       "    </tr>\n",
       "    <tr>\n",
       "      <th>2</th>\n",
       "      <td>1.03</td>\n",
       "      <td>2.00</td>\n",
       "    </tr>\n",
       "    <tr>\n",
       "      <th>3</th>\n",
       "      <td>1.04</td>\n",
       "      <td>1.06</td>\n",
       "    </tr>\n",
       "    <tr>\n",
       "      <th>4</th>\n",
       "      <td>1.16</td>\n",
       "      <td>1.53</td>\n",
       "    </tr>\n",
       "    <tr>\n",
       "      <th>5</th>\n",
       "      <td>1.30</td>\n",
       "      <td>1.66</td>\n",
       "    </tr>\n",
       "    <tr>\n",
       "      <th>6</th>\n",
       "      <td>1.33</td>\n",
       "      <td>1.53</td>\n",
       "    </tr>\n",
       "    <tr>\n",
       "      <th>7</th>\n",
       "      <td>1.34</td>\n",
       "      <td>1.30</td>\n",
       "    </tr>\n",
       "    <tr>\n",
       "      <th>8</th>\n",
       "      <td>1.37</td>\n",
       "      <td>1.75</td>\n",
       "    </tr>\n",
       "    <tr>\n",
       "      <th>9</th>\n",
       "      <td>1.38</td>\n",
       "      <td>1.50</td>\n",
       "    </tr>\n",
       "    <tr>\n",
       "      <th>10</th>\n",
       "      <td>1.39</td>\n",
       "      <td>1.86</td>\n",
       "    </tr>\n",
       "    <tr>\n",
       "      <th>11</th>\n",
       "      <td>1.41</td>\n",
       "      <td>1.29</td>\n",
       "    </tr>\n",
       "    <tr>\n",
       "      <th>12</th>\n",
       "      <td>1.46</td>\n",
       "      <td>NaN</td>\n",
       "    </tr>\n",
       "    <tr>\n",
       "      <th>13</th>\n",
       "      <td>1.50</td>\n",
       "      <td>1.83</td>\n",
       "    </tr>\n",
       "    <tr>\n",
       "      <th>14</th>\n",
       "      <td>1.52</td>\n",
       "      <td>1.12</td>\n",
       "    </tr>\n",
       "    <tr>\n",
       "      <th>15</th>\n",
       "      <td>1.87</td>\n",
       "      <td>1.80</td>\n",
       "    </tr>\n",
       "    <tr>\n",
       "      <th>16</th>\n",
       "      <td>1.88</td>\n",
       "      <td>1.85</td>\n",
       "    </tr>\n",
       "    <tr>\n",
       "      <th>17</th>\n",
       "      <td>1.92</td>\n",
       "      <td>1.37</td>\n",
       "    </tr>\n",
       "    <tr>\n",
       "      <th>18</th>\n",
       "      <td>1.94</td>\n",
       "      <td>1.97</td>\n",
       "    </tr>\n",
       "    <tr>\n",
       "      <th>19</th>\n",
       "      <td>NaN</td>\n",
       "      <td>1.22</td>\n",
       "    </tr>\n",
       "  </tbody>\n",
       "</table>\n",
       "</div>"
      ],
      "text/plain": [
       "      x1    x2\n",
       "0    NaN   NaN\n",
       "1   1.02  1.92\n",
       "2   1.03  2.00\n",
       "3   1.04  1.06\n",
       "4   1.16  1.53\n",
       "5   1.30  1.66\n",
       "6   1.33  1.53\n",
       "7   1.34  1.30\n",
       "8   1.37  1.75\n",
       "9   1.38  1.50\n",
       "10  1.39  1.86\n",
       "11  1.41  1.29\n",
       "12  1.46   NaN\n",
       "13  1.50  1.83\n",
       "14  1.52  1.12\n",
       "15  1.87  1.80\n",
       "16  1.88  1.85\n",
       "17  1.92  1.37\n",
       "18  1.94  1.97\n",
       "19   NaN  1.22"
      ]
     },
     "execution_count": 31,
     "metadata": {},
     "output_type": "execute_result"
    }
   ],
   "source": [
    "dataframe = dataframe[(dataframe > dataframe.quantile(0.01))]\n",
    "dataframe = dataframe[(dataframe < dataframe.quantile(0.99))]\n",
    "\n",
    "dataframe\n",
    "\n",
    "#<xml xmlns=\"https://developers.google.com/blockly/xml\"><variables><variable id=\"/z]X|sEpLfH7ip{3^4{[\">dataframe</variable></variables><block type=\"variables_set\" id=\"I{[E6BpRRz0%Jnt3M39?\" x=\"3\" y=\"261\"><field name=\"VAR\" id=\"/z]X|sEpLfH7ip{3^4{[\">dataframe</field><value name=\"VALUE\"><block type=\"indexer\" id=\"p!~MCHh9W4;w^SK#?oHl\"><field name=\"VAR\" id=\"/z]X|sEpLfH7ip{3^4{[\">dataframe</field><value name=\"INDEX\"><block type=\"logic_compare\" id=\"@a=%pHkmqTI0V|367Ka-\"><field name=\"OP\">GT</field><value name=\"A\"><block type=\"variables_get\" id=\"iE@PIY):dC]gr?$m]]fR\"><field name=\"VAR\" id=\"/z]X|sEpLfH7ip{3^4{[\">dataframe</field></block></value><value name=\"B\"><block type=\"varDoMethod\" id=\"N4bLloV766%L9?_-TEHf\"><mutation items=\"1\"></mutation><field name=\"VAR\" id=\"/z]X|sEpLfH7ip{3^4{[\">dataframe</field><field name=\"MEMBER\">quantile</field><data>dataframe:quantile</data><value name=\"ADD0\"><block type=\"math_number\" id=\"~A=rnIC3lc_(NN+[Vjt]\"><field name=\"NUM\">0.01</field></block></value></block></value></block></value></block></value><next><block type=\"variables_set\" id=\"lA8IBL^|fi9h|0LPqfUV\"><field name=\"VAR\" id=\"/z]X|sEpLfH7ip{3^4{[\">dataframe</field><value name=\"VALUE\"><block type=\"indexer\" id=\"_etYy#Q`mFrYN._Y%nKU\"><field name=\"VAR\" id=\"/z]X|sEpLfH7ip{3^4{[\">dataframe</field><value name=\"INDEX\"><block type=\"logic_compare\" id=\"%KL2HYd.L6T-B@:#huwJ\"><field name=\"OP\">LT</field><value name=\"A\"><block type=\"variables_get\" id=\"#icuS!{Ah6/Xt615]5dP\"><field name=\"VAR\" id=\"/z]X|sEpLfH7ip{3^4{[\">dataframe</field></block></value><value name=\"B\"><block type=\"varDoMethod\" id=\"Mh]7.yhCfAsXcMw{0Z1,\"><mutation items=\"1\"></mutation><field name=\"VAR\" id=\"/z]X|sEpLfH7ip{3^4{[\">dataframe</field><field name=\"MEMBER\">quantile</field><data>dataframe:quantile</data><value name=\"ADD0\"><block type=\"math_number\" id=\"yeT11I1e`@977*xsR@/b\"><field name=\"NUM\">0.99</field></block></value></block></value></block></value></block></value></block></next></block><block type=\"variables_get\" id=\"{=l1?Pg%Q3QSj.fkH$-]\" x=\"231\" y=\"483\"><field name=\"VAR\" id=\"/z]X|sEpLfH7ip{3^4{[\">dataframe</field></block></xml>"
   ]
  },
  {
   "cell_type": "markdown",
   "metadata": {},
   "source": [
    "Now we can use a `NaN` strategy like `dropna` or transforming `NaN` to another value.\n",
    "Transforming to median is not common in the case of outliers.\n",
    "Instead, a common practice is to `clip` the data at the last permitted extreme value, e.g. the 1st or 99th percentile:\n",
    "\n",
    "- Set `dataframe` to with `pd` do `read_csv` using\n",
    "    - `\"datasets/outlier1.csv\"`\n",
    "- with `dataframe` do `clip` using\n",
    "    - with `dataframe` do `quantile` using `.01`\n",
    "    - with `dataframe` do `quantile` using `.99`\n",
    "    - freestyle `axis=1` (tells pandas to operate on columns, not rows)\n"
   ]
  },
  {
   "cell_type": "code",
   "execution_count": 32,
   "metadata": {
    "user_blocks": [
     "variables_set",
     "varDoMethod",
     "text",
     "varDoMethod",
     "varDoMethod",
     "math_number",
     "varDoMethod",
     "math_number",
     "dummyOutputCodeBlock"
    ],
    "user_blocks_xml": "<xml xmlns=\"https://developers.google.com/blockly/xml\"><variables><variable id=\"/z]X|sEpLfH7ip{3^4{[\">dataframe</variable><variable id=\"Nzt=g[pEt(%l}kD/){CM\">pd</variable></variables><block type=\"variables_set\" id=\"b?N6-i,)knP9k=Cx-aQo\" x=\"74\" y=\"218\"><field name=\"VAR\" id=\"/z]X|sEpLfH7ip{3^4{[\">dataframe</field><value name=\"VALUE\"><block type=\"varDoMethod\" id=\"IduV!unUxquz$R)OF$8Q\"><mutation items=\"1\"></mutation><field name=\"VAR\" id=\"Nzt=g[pEt(%l}kD/){CM\">pd</field><field name=\"MEMBER\">read_csv</field><data>pd:read_csv</data><value name=\"ADD0\"><block type=\"text\" id=\"UV-{,|(UTl=c/MWb]u5W\"><field name=\"TEXT\">datasets/outlier1.csv</field></block></value></block></value></block><block type=\"varDoMethod\" id=\"HMr-.+`Og0Q(-]je8=;u\" x=\"59\" y=\"349\"><mutation items=\"3\"></mutation><field name=\"VAR\" id=\"/z]X|sEpLfH7ip{3^4{[\">dataframe</field><field name=\"MEMBER\">clip</field><data>dataframe:clip</data><value name=\"ADD0\"><block type=\"varDoMethod\" id=\"Qj/D:dgEd;YOZLfEJj$W\"><mutation items=\"1\"></mutation><field name=\"VAR\" id=\"/z]X|sEpLfH7ip{3^4{[\">dataframe</field><field name=\"MEMBER\">quantile</field><data>dataframe:quantile</data><value name=\"ADD0\"><block type=\"math_number\" id=\":/th%q8saBzVz.Gr_LR=\"><field name=\"NUM\">0.01</field></block></value></block></value><value name=\"ADD1\"><block type=\"varDoMethod\" id=\"$6%rX8B+U:iRM8nE1{7i\"><mutation items=\"1\"></mutation><field name=\"VAR\" id=\"/z]X|sEpLfH7ip{3^4{[\">dataframe</field><field name=\"MEMBER\">quantile</field><data>dataframe:quantile</data><value name=\"ADD0\"><block type=\"math_number\" id=\".na|viyqoK|k6?Sxw}-H\"><field name=\"NUM\">0.99</field></block></value></block></value><value name=\"ADD2\"><block type=\"dummyOutputCodeBlock\" id=\"M2R2`wh04B22c|3vI^8Y\"><field name=\"CODE\">axis=1</field></block></value></block></xml>",
    "user_code_from_blocks": "dataframe = pd.read_csv('datasets/outlier1.csv')\n\ndataframe.clip(dataframe.quantile(0.01),dataframe.quantile(0.99),axis=1)\n"
   },
   "outputs": [
    {
     "data": {
      "text/html": [
       "<div>\n",
       "<style scoped>\n",
       "    .dataframe tbody tr th:only-of-type {\n",
       "        vertical-align: middle;\n",
       "    }\n",
       "\n",
       "    .dataframe tbody tr th {\n",
       "        vertical-align: top;\n",
       "    }\n",
       "\n",
       "    .dataframe thead th {\n",
       "        text-align: right;\n",
       "    }\n",
       "</style>\n",
       "<table border=\"1\" class=\"dataframe\">\n",
       "  <thead>\n",
       "    <tr style=\"text-align: right;\">\n",
       "      <th></th>\n",
       "      <th>x1</th>\n",
       "      <th>x2</th>\n",
       "    </tr>\n",
       "  </thead>\n",
       "  <tbody>\n",
       "    <tr>\n",
       "      <th>0</th>\n",
       "      <td>0.3558</td>\n",
       "      <td>0.2824</td>\n",
       "    </tr>\n",
       "    <tr>\n",
       "      <th>1</th>\n",
       "      <td>1.0200</td>\n",
       "      <td>1.9200</td>\n",
       "    </tr>\n",
       "    <tr>\n",
       "      <th>2</th>\n",
       "      <td>1.0300</td>\n",
       "      <td>2.0000</td>\n",
       "    </tr>\n",
       "    <tr>\n",
       "      <th>3</th>\n",
       "      <td>1.0400</td>\n",
       "      <td>1.0600</td>\n",
       "    </tr>\n",
       "    <tr>\n",
       "      <th>4</th>\n",
       "      <td>1.1600</td>\n",
       "      <td>1.5300</td>\n",
       "    </tr>\n",
       "    <tr>\n",
       "      <th>5</th>\n",
       "      <td>1.3000</td>\n",
       "      <td>1.6600</td>\n",
       "    </tr>\n",
       "    <tr>\n",
       "      <th>6</th>\n",
       "      <td>1.3300</td>\n",
       "      <td>1.5300</td>\n",
       "    </tr>\n",
       "    <tr>\n",
       "      <th>7</th>\n",
       "      <td>1.3400</td>\n",
       "      <td>1.3000</td>\n",
       "    </tr>\n",
       "    <tr>\n",
       "      <th>8</th>\n",
       "      <td>1.3700</td>\n",
       "      <td>1.7500</td>\n",
       "    </tr>\n",
       "    <tr>\n",
       "      <th>9</th>\n",
       "      <td>1.3800</td>\n",
       "      <td>1.5000</td>\n",
       "    </tr>\n",
       "    <tr>\n",
       "      <th>10</th>\n",
       "      <td>1.3900</td>\n",
       "      <td>1.8600</td>\n",
       "    </tr>\n",
       "    <tr>\n",
       "      <th>11</th>\n",
       "      <td>1.4100</td>\n",
       "      <td>1.2900</td>\n",
       "    </tr>\n",
       "    <tr>\n",
       "      <th>12</th>\n",
       "      <td>1.4600</td>\n",
       "      <td>5.2400</td>\n",
       "    </tr>\n",
       "    <tr>\n",
       "      <th>13</th>\n",
       "      <td>1.5000</td>\n",
       "      <td>1.8300</td>\n",
       "    </tr>\n",
       "    <tr>\n",
       "      <th>14</th>\n",
       "      <td>1.5200</td>\n",
       "      <td>1.1200</td>\n",
       "    </tr>\n",
       "    <tr>\n",
       "      <th>15</th>\n",
       "      <td>1.8700</td>\n",
       "      <td>1.8000</td>\n",
       "    </tr>\n",
       "    <tr>\n",
       "      <th>16</th>\n",
       "      <td>1.8800</td>\n",
       "      <td>1.8500</td>\n",
       "    </tr>\n",
       "    <tr>\n",
       "      <th>17</th>\n",
       "      <td>1.9200</td>\n",
       "      <td>1.3700</td>\n",
       "    </tr>\n",
       "    <tr>\n",
       "      <th>18</th>\n",
       "      <td>1.9400</td>\n",
       "      <td>1.9700</td>\n",
       "    </tr>\n",
       "    <tr>\n",
       "      <th>19</th>\n",
       "      <td>4.4186</td>\n",
       "      <td>1.2200</td>\n",
       "    </tr>\n",
       "  </tbody>\n",
       "</table>\n",
       "</div>"
      ],
      "text/plain": [
       "        x1      x2\n",
       "0   0.3558  0.2824\n",
       "1   1.0200  1.9200\n",
       "2   1.0300  2.0000\n",
       "3   1.0400  1.0600\n",
       "4   1.1600  1.5300\n",
       "5   1.3000  1.6600\n",
       "6   1.3300  1.5300\n",
       "7   1.3400  1.3000\n",
       "8   1.3700  1.7500\n",
       "9   1.3800  1.5000\n",
       "10  1.3900  1.8600\n",
       "11  1.4100  1.2900\n",
       "12  1.4600  5.2400\n",
       "13  1.5000  1.8300\n",
       "14  1.5200  1.1200\n",
       "15  1.8700  1.8000\n",
       "16  1.8800  1.8500\n",
       "17  1.9200  1.3700\n",
       "18  1.9400  1.9700\n",
       "19  4.4186  1.2200"
      ]
     },
     "execution_count": 32,
     "metadata": {},
     "output_type": "execute_result"
    }
   ],
   "source": [
    "dataframe = pd.read_csv('datasets/outlier1.csv')\n",
    "\n",
    "dataframe.clip(dataframe.quantile(0.01),dataframe.quantile(0.99),axis=1)\n",
    "\n",
    "#<xml xmlns=\"https://developers.google.com/blockly/xml\"><variables><variable id=\"/z]X|sEpLfH7ip{3^4{[\">dataframe</variable><variable id=\"Nzt=g[pEt(%l}kD/){CM\">pd</variable></variables><block type=\"variables_set\" id=\"b?N6-i,)knP9k=Cx-aQo\" x=\"74\" y=\"218\"><field name=\"VAR\" id=\"/z]X|sEpLfH7ip{3^4{[\">dataframe</field><value name=\"VALUE\"><block type=\"varDoMethod\" id=\"IduV!unUxquz$R)OF$8Q\"><mutation items=\"1\"></mutation><field name=\"VAR\" id=\"Nzt=g[pEt(%l}kD/){CM\">pd</field><field name=\"MEMBER\">read_csv</field><data>pd:read_csv</data><value name=\"ADD0\"><block type=\"text\" id=\"UV-{,|(UTl=c/MWb]u5W\"><field name=\"TEXT\">datasets/outlier1.csv</field></block></value></block></value></block><block type=\"varDoMethod\" id=\"HMr-.+`Og0Q(-]je8=;u\" x=\"59\" y=\"349\"><mutation items=\"3\"></mutation><field name=\"VAR\" id=\"/z]X|sEpLfH7ip{3^4{[\">dataframe</field><field name=\"MEMBER\">clip</field><data>dataframe:clip</data><value name=\"ADD0\"><block type=\"varDoMethod\" id=\"Qj/D:dgEd;YOZLfEJj$W\"><mutation items=\"1\"></mutation><field name=\"VAR\" id=\"/z]X|sEpLfH7ip{3^4{[\">dataframe</field><field name=\"MEMBER\">quantile</field><data>dataframe:quantile</data><value name=\"ADD0\"><block type=\"math_number\" id=\":/th%q8saBzVz.Gr_LR=\"><field name=\"NUM\">0.01</field></block></value></block></value><value name=\"ADD1\"><block type=\"varDoMethod\" id=\"$6%rX8B+U:iRM8nE1{7i\"><mutation items=\"1\"></mutation><field name=\"VAR\" id=\"/z]X|sEpLfH7ip{3^4{[\">dataframe</field><field name=\"MEMBER\">quantile</field><data>dataframe:quantile</data><value name=\"ADD0\"><block type=\"math_number\" id=\".na|viyqoK|k6?Sxw}-H\"><field name=\"NUM\">0.99</field></block></value></block></value><value name=\"ADD2\"><block type=\"dummyOutputCodeBlock\" id=\"M2R2`wh04B22c|3vI^8Y\"><field name=\"CODE\">axis=1</field></block></value></block></xml>"
   ]
  },
  {
   "cell_type": "markdown",
   "metadata": {},
   "source": [
    "Notice that some of our `NaN` values have been replaced with values that were never in the dataset.\n",
    "This is because `quantile` has interpolated the values for us.\n",
    "If we prefer it not do this, we can tell it to calculate the values [using a different method](https://pandas.pydata.org/pandas-docs/stable/reference/api/pandas.DataFrame.quantile.html)."
   ]
  },
  {
   "cell_type": "markdown",
   "metadata": {},
   "source": [
    "### Common scale\n",
    "\n",
    "Different variables will naturally be on different scales.\n",
    "For example, `height` might range from 4 to 7 feet, but `weight` might range from 80 to 400 pounds.\n",
    "Some models are very sensitive to these differences across variables and perform better when all the variables are on a common scale.\n",
    "An example of this is lasso or ridge regression when a penalty is being applied across all variables.\n",
    "Variables with larger scales absorb more of the penalty and prevent the penalty from acting as strongly on other variables.\n",
    "\n",
    "The most often used common scale is the `standard deviation`, and we say that data on this scale has been **standardized.**\n",
    "A standardized variable has a mean of zero and a standard deviation of 1, i.e. a standard deviation is 1 unit on the scale.\n",
    "In `sklearn`, this can be accomplished with `StandardScaler` as we've previously seen in the context of pipelines.\n",
    "However, it is also possible to apply it directly to data.\n",
    "\n",
    "First, import the `sklearn` preprocessing library:\n",
    "\n",
    "- `import sklearn.preprocessing as preprocessing`"
   ]
  },
  {
   "cell_type": "code",
   "execution_count": 33,
   "metadata": {
    "user_blocks": [
     "importAs"
    ],
    "user_blocks_xml": "<xml xmlns=\"https://developers.google.com/blockly/xml\"><variables><variable id=\"[P^-!_^$F=Ygib|ngr@,\">preprocessing</variable></variables><block type=\"importAs\" id=\"]donCaX=TeUAuC1wmF3v\" x=\"-44\" y=\"288\"><field name=\"libraryName\">sklearn.preprocessing</field><field name=\"VAR\" id=\"[P^-!_^$F=Ygib|ngr@,\">preprocessing</field></block></xml>",
    "user_code_from_blocks": "import sklearn.preprocessing as preprocessing\n"
   },
   "outputs": [],
   "source": [
    "import sklearn.preprocessing as preprocessing\n",
    "\n",
    "#<xml xmlns=\"https://developers.google.com/blockly/xml\"><variables><variable id=\"[P^-!_^$F=Ygib|ngr@,\">preprocessing</variable></variables><block type=\"importAs\" id=\"]donCaX=TeUAuC1wmF3v\" x=\"-44\" y=\"288\"><field name=\"libraryName\">sklearn.preprocessing</field><field name=\"VAR\" id=\"[P^-!_^$F=Ygib|ngr@,\">preprocessing</field></block></xml>"
   ]
  },
  {
   "cell_type": "markdown",
   "metadata": {},
   "source": [
    "- Create variable `scaler`\n",
    "- Set it to with `preprocessing` create `StandardScaler`"
   ]
  },
  {
   "cell_type": "code",
   "execution_count": 34,
   "metadata": {
    "user_blocks": [
     "variables_set",
     "varCreateObject"
    ],
    "user_blocks_xml": "<xml xmlns=\"https://developers.google.com/blockly/xml\"><variables><variable id=\"{BFS9wkbZ7a4dkH]48ci\">scaler</variable><variable id=\"[P^-!_^$F=Ygib|ngr@,\">preprocessing</variable></variables><block type=\"variables_set\" id=\"G9+8hbTW!}7tdqd?iLdK\" x=\"-77\" y=\"319\"><field name=\"VAR\" id=\"{BFS9wkbZ7a4dkH]48ci\">scaler</field><value name=\"VALUE\"><block type=\"varCreateObject\" id=\"*ZL}f4^lTWBU+}oyYK@V\"><mutation items=\"1\"></mutation><field name=\"VAR\" id=\"[P^-!_^$F=Ygib|ngr@,\">preprocessing</field><field name=\"MEMBER\">StandardScaler</field><data>preprocessing:StandardScaler</data></block></value></block></xml>",
    "user_code_from_blocks": "scaler = preprocessing.StandardScaler()\n"
   },
   "outputs": [],
   "source": [
    "scaler = preprocessing.StandardScaler()\n",
    "\n",
    "#<xml xmlns=\"https://developers.google.com/blockly/xml\"><variables><variable id=\"{BFS9wkbZ7a4dkH]48ci\">scaler</variable><variable id=\"[P^-!_^$F=Ygib|ngr@,\">preprocessing</variable></variables><block type=\"variables_set\" id=\"G9+8hbTW!}7tdqd?iLdK\" x=\"-77\" y=\"319\"><field name=\"VAR\" id=\"{BFS9wkbZ7a4dkH]48ci\">scaler</field><value name=\"VALUE\"><block type=\"varCreateObject\" id=\"*ZL}f4^lTWBU+}oyYK@V\"><mutation items=\"1\"></mutation><field name=\"VAR\" id=\"[P^-!_^$F=Ygib|ngr@,\">preprocessing</field><field name=\"MEMBER\">StandardScaler</field><data>preprocessing:StandardScaler</data></block></value></block></xml>"
   ]
  },
  {
   "cell_type": "markdown",
   "metadata": {},
   "source": [
    "And `fit` and `transform` the data in one step:\n",
    "\n",
    "- Create variable `standardized`\n",
    "- Set it to with `scaler` do `fit_transform` using\n",
    "    - `dataframe`\n",
    "\n",
    "This next part is just to put the result in a dataframe to make it pretty and use later:\n",
    "\n",
    "- Set `standardized` to with `pd` create `DataFrame` using\n",
    "    - `standardized`\n",
    "    - freestyle `columns=[\"s1\",\"s2\"]`\n",
    "- `standardized` (to display)"
   ]
  },
  {
   "cell_type": "code",
   "execution_count": 35,
   "metadata": {
    "user_blocks": [
     "variables_set",
     "varDoMethod",
     "variables_get",
     "variables_set",
     "varCreateObject",
     "variables_get",
     "dummyOutputCodeBlock",
     "variables_get"
    ],
    "user_blocks_xml": "<xml xmlns=\"https://developers.google.com/blockly/xml\"><variables><variable id=\"yOhEcFMuTz-%rn1lPED3\">standardized</variable><variable id=\"{BFS9wkbZ7a4dkH]48ci\">scaler</variable><variable id=\"/z]X|sEpLfH7ip{3^4{[\">dataframe</variable><variable id=\"Nzt=g[pEt(%l}kD/){CM\">pd</variable></variables><block type=\"variables_set\" id=\"QVUh0OPY[0}+,cj0P}=K\" x=\"-56\" y=\"139\"><field name=\"VAR\" id=\"yOhEcFMuTz-%rn1lPED3\">standardized</field><value name=\"VALUE\"><block type=\"varDoMethod\" id=\"No3j4ZBEelSCL,J8AIb/\"><mutation items=\"1\"></mutation><field name=\"VAR\" id=\"{BFS9wkbZ7a4dkH]48ci\">scaler</field><field name=\"MEMBER\">fit_transform</field><data>scaler:fit_transform</data><value name=\"ADD0\"><block type=\"variables_get\" id=\"E/g`}h/5(_Fp]{kj!W^l\"><field name=\"VAR\" id=\"/z]X|sEpLfH7ip{3^4{[\">dataframe</field></block></value></block></value><next><block type=\"variables_set\" id=\"v*rYy%L#6C_PrOSk_JY(\"><field name=\"VAR\" id=\"yOhEcFMuTz-%rn1lPED3\">standardized</field><value name=\"VALUE\"><block type=\"varCreateObject\" id=\"tqtjB4k{cIeXRp=AM2CY\"><mutation items=\"2\"></mutation><field name=\"VAR\" id=\"Nzt=g[pEt(%l}kD/){CM\">pd</field><field name=\"MEMBER\">DataFrame</field><data>pd:DataFrame</data><value name=\"ADD0\"><block type=\"variables_get\" id=\"ldY=$ap:|85)fy*dcR=6\"><field name=\"VAR\" id=\"yOhEcFMuTz-%rn1lPED3\">standardized</field></block></value><value name=\"ADD1\"><block type=\"dummyOutputCodeBlock\" id=\"Bm}*wb]38eZaDCWp6j)+\"><field name=\"CODE\">columns=[\"s1\",\"s2\"]</field></block></value></block></value></block></next></block><block type=\"variables_get\" id=\"aQL_KHGw`RkX7F!qMz*_\" x=\"-48\" y=\"297\"><field name=\"VAR\" id=\"yOhEcFMuTz-%rn1lPED3\">standardized</field></block></xml>",
    "user_code_from_blocks": "standardized = scaler.fit_transform(dataframe)\nstandardized = pd.DataFrame(standardized,columns=[\"s1\",\"s2\"])\n\nstandardized\n"
   },
   "outputs": [
    {
     "data": {
      "text/html": [
       "<div>\n",
       "<style scoped>\n",
       "    .dataframe tbody tr th:only-of-type {\n",
       "        vertical-align: middle;\n",
       "    }\n",
       "\n",
       "    .dataframe tbody tr th {\n",
       "        vertical-align: top;\n",
       "    }\n",
       "\n",
       "    .dataframe thead th {\n",
       "        text-align: right;\n",
       "    }\n",
       "</style>\n",
       "<table border=\"1\" class=\"dataframe\">\n",
       "  <thead>\n",
       "    <tr style=\"text-align: right;\">\n",
       "      <th></th>\n",
       "      <th>s1</th>\n",
       "      <th>s2</th>\n",
       "    </tr>\n",
       "  </thead>\n",
       "  <tbody>\n",
       "    <tr>\n",
       "      <th>0</th>\n",
       "      <td>-1.538811</td>\n",
       "      <td>-1.528445</td>\n",
       "    </tr>\n",
       "    <tr>\n",
       "      <th>1</th>\n",
       "      <td>-0.606198</td>\n",
       "      <td>0.175027</td>\n",
       "    </tr>\n",
       "    <tr>\n",
       "      <th>2</th>\n",
       "      <td>-0.594825</td>\n",
       "      <td>0.249905</td>\n",
       "    </tr>\n",
       "    <tr>\n",
       "      <th>3</th>\n",
       "      <td>-0.583452</td>\n",
       "      <td>-0.629910</td>\n",
       "    </tr>\n",
       "    <tr>\n",
       "      <th>4</th>\n",
       "      <td>-0.446972</td>\n",
       "      <td>-0.190003</td>\n",
       "    </tr>\n",
       "    <tr>\n",
       "      <th>5</th>\n",
       "      <td>-0.287745</td>\n",
       "      <td>-0.068326</td>\n",
       "    </tr>\n",
       "    <tr>\n",
       "      <th>6</th>\n",
       "      <td>-0.253625</td>\n",
       "      <td>-0.190003</td>\n",
       "    </tr>\n",
       "    <tr>\n",
       "      <th>7</th>\n",
       "      <td>-0.242252</td>\n",
       "      <td>-0.405277</td>\n",
       "    </tr>\n",
       "    <tr>\n",
       "      <th>8</th>\n",
       "      <td>-0.208132</td>\n",
       "      <td>0.015912</td>\n",
       "    </tr>\n",
       "    <tr>\n",
       "      <th>9</th>\n",
       "      <td>-0.196759</td>\n",
       "      <td>-0.218082</td>\n",
       "    </tr>\n",
       "    <tr>\n",
       "      <th>10</th>\n",
       "      <td>-0.185385</td>\n",
       "      <td>0.118869</td>\n",
       "    </tr>\n",
       "    <tr>\n",
       "      <th>11</th>\n",
       "      <td>-0.162639</td>\n",
       "      <td>-0.414636</td>\n",
       "    </tr>\n",
       "    <tr>\n",
       "      <th>12</th>\n",
       "      <td>-0.105772</td>\n",
       "      <td>3.993801</td>\n",
       "    </tr>\n",
       "    <tr>\n",
       "      <th>13</th>\n",
       "      <td>-0.060279</td>\n",
       "      <td>0.090789</td>\n",
       "    </tr>\n",
       "    <tr>\n",
       "      <th>14</th>\n",
       "      <td>-0.037532</td>\n",
       "      <td>-0.573752</td>\n",
       "    </tr>\n",
       "    <tr>\n",
       "      <th>15</th>\n",
       "      <td>0.360534</td>\n",
       "      <td>0.062710</td>\n",
       "    </tr>\n",
       "    <tr>\n",
       "      <th>16</th>\n",
       "      <td>0.371908</td>\n",
       "      <td>0.109509</td>\n",
       "    </tr>\n",
       "    <tr>\n",
       "      <th>17</th>\n",
       "      <td>0.417401</td>\n",
       "      <td>-0.339759</td>\n",
       "    </tr>\n",
       "    <tr>\n",
       "      <th>18</th>\n",
       "      <td>0.440148</td>\n",
       "      <td>0.221826</td>\n",
       "    </tr>\n",
       "    <tr>\n",
       "      <th>19</th>\n",
       "      <td>3.920386</td>\n",
       "      <td>-0.480155</td>\n",
       "    </tr>\n",
       "  </tbody>\n",
       "</table>\n",
       "</div>"
      ],
      "text/plain": [
       "          s1        s2\n",
       "0  -1.538811 -1.528445\n",
       "1  -0.606198  0.175027\n",
       "2  -0.594825  0.249905\n",
       "3  -0.583452 -0.629910\n",
       "4  -0.446972 -0.190003\n",
       "5  -0.287745 -0.068326\n",
       "6  -0.253625 -0.190003\n",
       "7  -0.242252 -0.405277\n",
       "8  -0.208132  0.015912\n",
       "9  -0.196759 -0.218082\n",
       "10 -0.185385  0.118869\n",
       "11 -0.162639 -0.414636\n",
       "12 -0.105772  3.993801\n",
       "13 -0.060279  0.090789\n",
       "14 -0.037532 -0.573752\n",
       "15  0.360534  0.062710\n",
       "16  0.371908  0.109509\n",
       "17  0.417401 -0.339759\n",
       "18  0.440148  0.221826\n",
       "19  3.920386 -0.480155"
      ]
     },
     "execution_count": 35,
     "metadata": {},
     "output_type": "execute_result"
    }
   ],
   "source": [
    "standardized = scaler.fit_transform(dataframe)\n",
    "standardized = pd.DataFrame(standardized,columns=[\"s1\",\"s2\"])\n",
    "\n",
    "standardized\n",
    "\n",
    "#<xml xmlns=\"https://developers.google.com/blockly/xml\"><variables><variable id=\"yOhEcFMuTz-%rn1lPED3\">standardized</variable><variable id=\"{BFS9wkbZ7a4dkH]48ci\">scaler</variable><variable id=\"/z]X|sEpLfH7ip{3^4{[\">dataframe</variable><variable id=\"Nzt=g[pEt(%l}kD/){CM\">pd</variable></variables><block type=\"variables_set\" id=\"QVUh0OPY[0}+,cj0P}=K\" x=\"-56\" y=\"139\"><field name=\"VAR\" id=\"yOhEcFMuTz-%rn1lPED3\">standardized</field><value name=\"VALUE\"><block type=\"varDoMethod\" id=\"No3j4ZBEelSCL,J8AIb/\"><mutation items=\"1\"></mutation><field name=\"VAR\" id=\"{BFS9wkbZ7a4dkH]48ci\">scaler</field><field name=\"MEMBER\">fit_transform</field><data>scaler:fit_transform</data><value name=\"ADD0\"><block type=\"variables_get\" id=\"E/g`}h/5(_Fp]{kj!W^l\"><field name=\"VAR\" id=\"/z]X|sEpLfH7ip{3^4{[\">dataframe</field></block></value></block></value><next><block type=\"variables_set\" id=\"v*rYy%L#6C_PrOSk_JY(\"><field name=\"VAR\" id=\"yOhEcFMuTz-%rn1lPED3\">standardized</field><value name=\"VALUE\"><block type=\"varCreateObject\" id=\"tqtjB4k{cIeXRp=AM2CY\"><mutation items=\"2\"></mutation><field name=\"VAR\" id=\"Nzt=g[pEt(%l}kD/){CM\">pd</field><field name=\"MEMBER\">DataFrame</field><data>pd:DataFrame</data><value name=\"ADD0\"><block type=\"variables_get\" id=\"ldY=$ap:|85)fy*dcR=6\"><field name=\"VAR\" id=\"yOhEcFMuTz-%rn1lPED3\">standardized</field></block></value><value name=\"ADD1\"><block type=\"dummyOutputCodeBlock\" id=\"Bm}*wb]38eZaDCWp6j)+\"><field name=\"CODE\">columns=[\"s1\",\"s2\"]</field></block></value></block></value></block></next></block><block type=\"variables_get\" id=\"aQL_KHGw`RkX7F!qMz*_\" x=\"-48\" y=\"297\"><field name=\"VAR\" id=\"yOhEcFMuTz-%rn1lPED3\">standardized</field></block></xml>"
   ]
  },
  {
   "cell_type": "markdown",
   "metadata": {},
   "source": [
    "Notice that the small and large values are still there - this is the unclipped dataframe that we have standardized.\n",
    "A common misconception is that standardization makes the distribution normal, but this isn't true, and can be demonstrated with a plot:\n",
    "\n",
    "- `import plotly.express as px`"
   ]
  },
  {
   "cell_type": "code",
   "execution_count": 36,
   "metadata": {
    "user_blocks": [
     "importAs"
    ],
    "user_blocks_xml": "<xml xmlns=\"https://developers.google.com/blockly/xml\"><variables><variable id=\"zZmWV$gHDceKnNTL0qJD\">px</variable></variables><block type=\"importAs\" id=\"Zq^c/BhiMuX?Od,m^$/)\" x=\"-161\" y=\"4\"><field name=\"libraryName\">plotly.express</field><field name=\"VAR\" id=\"zZmWV$gHDceKnNTL0qJD\">px</field></block></xml>",
    "user_code_from_blocks": "import plotly.express as px\n"
   },
   "outputs": [],
   "source": [
    "import plotly.express as px\n",
    "\n",
    "#<xml xmlns=\"https://developers.google.com/blockly/xml\"><variables><variable id=\"zZmWV$gHDceKnNTL0qJD\">px</variable></variables><block type=\"importAs\" id=\"Zq^c/BhiMuX?Od,m^$/)\" x=\"-161\" y=\"4\"><field name=\"libraryName\">plotly.express</field><field name=\"VAR\" id=\"zZmWV$gHDceKnNTL0qJD\">px</field></block></xml>"
   ]
  },
  {
   "cell_type": "markdown",
   "metadata": {},
   "source": [
    "Create a figure of the first column of unstandardized data:\n",
    "\n",
    "- Set `fig` to with `px` do `histogram` using\n",
    "    - from `dataframe` get `x1`"
   ]
  },
  {
   "cell_type": "code",
   "execution_count": 37,
   "metadata": {
    "user_blocks": [
     "variables_set",
     "varDoMethod",
     "varGetProperty"
    ],
    "user_blocks_xml": "<xml xmlns=\"https://developers.google.com/blockly/xml\"><variables><variable id=\"Hl3{d8Vd1N{)P}/PayDc\">fig</variable><variable id=\"zZmWV$gHDceKnNTL0qJD\">px</variable><variable id=\"/z]X|sEpLfH7ip{3^4{[\">dataframe</variable></variables><block type=\"variables_set\" id=\"LsK`AeNP}rJXb+`4Gld0\" x=\"-109\" y=\"93\"><field name=\"VAR\" id=\"Hl3{d8Vd1N{)P}/PayDc\">fig</field><value name=\"VALUE\"><block type=\"varDoMethod\" id=\"]5dK[y+QK0?a**k6dozY\"><mutation items=\"1\"></mutation><field name=\"VAR\" id=\"zZmWV$gHDceKnNTL0qJD\">px</field><field name=\"MEMBER\">histogram</field><data>px:histogram</data><value name=\"ADD0\"><block type=\"varGetProperty\" id=\"3TFk*1#0qN0$G=![U@wY\"><field name=\"VAR\" id=\"/z]X|sEpLfH7ip{3^4{[\">dataframe</field><field name=\"MEMBER\">x1</field><data>dataframe:x1</data></block></value></block></value></block></xml>",
    "user_code_from_blocks": "fig = px.histogram(dataframe.x1)\n"
   },
   "outputs": [],
   "source": [
    "fig = px.histogram(dataframe.x1)\n",
    "\n",
    "#<xml xmlns=\"https://developers.google.com/blockly/xml\"><variables><variable id=\"Hl3{d8Vd1N{)P}/PayDc\">fig</variable><variable id=\"zZmWV$gHDceKnNTL0qJD\">px</variable><variable id=\"/z]X|sEpLfH7ip{3^4{[\">dataframe</variable></variables><block type=\"variables_set\" id=\"LsK`AeNP}rJXb+`4Gld0\" x=\"-109\" y=\"93\"><field name=\"VAR\" id=\"Hl3{d8Vd1N{)P}/PayDc\">fig</field><value name=\"VALUE\"><block type=\"varDoMethod\" id=\"]5dK[y+QK0?a**k6dozY\"><mutation items=\"1\"></mutation><field name=\"VAR\" id=\"zZmWV$gHDceKnNTL0qJD\">px</field><field name=\"MEMBER\">histogram</field><data>px:histogram</data><value name=\"ADD0\"><block type=\"varGetProperty\" id=\"3TFk*1#0qN0$G=![U@wY\"><field name=\"VAR\" id=\"/z]X|sEpLfH7ip{3^4{[\">dataframe</field><field name=\"MEMBER\">x1</field><data>dataframe:x1</data></block></value></block></value></block></xml>"
   ]
  },
  {
   "cell_type": "markdown",
   "metadata": {},
   "source": [
    "Add the first column of standardized data:\n",
    "\n",
    "- with `fig` do `add_histogram` using\n",
    "    - freestyle `x=` followed by `from standarized get s1`\n",
    "    - freestyle `name=\"s1\"`"
   ]
  },
  {
   "cell_type": "code",
   "execution_count": 38,
   "metadata": {
    "user_blocks": [
     "variables_set",
     "varDoMethod",
     "varGetProperty"
    ],
    "user_blocks_xml": "<xml xmlns=\"https://developers.google.com/blockly/xml\"><variables><variable id=\"Hl3{d8Vd1N{)P}/PayDc\">fig</variable><variable id=\"zZmWV$gHDceKnNTL0qJD\">px</variable><variable id=\"/z]X|sEpLfH7ip{3^4{[\">dataframe</variable></variables><block type=\"variables_set\" id=\"LsK`AeNP}rJXb+`4Gld0\" x=\"-109\" y=\"93\"><field name=\"VAR\" id=\"Hl3{d8Vd1N{)P}/PayDc\">fig</field><value name=\"VALUE\"><block type=\"varDoMethod\" id=\"]5dK[y+QK0?a**k6dozY\"><mutation items=\"1\"></mutation><field name=\"VAR\" id=\"zZmWV$gHDceKnNTL0qJD\">px</field><field name=\"MEMBER\">histogram</field><data>px:histogram</data><value name=\"ADD0\"><block type=\"varGetProperty\" id=\"3TFk*1#0qN0$G=![U@wY\"><field name=\"VAR\" id=\"/z]X|sEpLfH7ip{3^4{[\">dataframe</field><field name=\"MEMBER\">x1</field><data>dataframe:x1</data></block></value></block></value></block></xml>",
    "user_code_from_blocks": "fig = px.histogram(dataframe.x1)\n"
   },
   "outputs": [],
   "source": [
    "fig = px.histogram(dataframe.x1)\n",
    "\n",
    "#<xml xmlns=\"https://developers.google.com/blockly/xml\"><variables><variable id=\"Hl3{d8Vd1N{)P}/PayDc\">fig</variable><variable id=\"zZmWV$gHDceKnNTL0qJD\">px</variable><variable id=\"/z]X|sEpLfH7ip{3^4{[\">dataframe</variable></variables><block type=\"variables_set\" id=\"LsK`AeNP}rJXb+`4Gld0\" x=\"-109\" y=\"93\"><field name=\"VAR\" id=\"Hl3{d8Vd1N{)P}/PayDc\">fig</field><value name=\"VALUE\"><block type=\"varDoMethod\" id=\"]5dK[y+QK0?a**k6dozY\"><mutation items=\"1\"></mutation><field name=\"VAR\" id=\"zZmWV$gHDceKnNTL0qJD\">px</field><field name=\"MEMBER\">histogram</field><data>px:histogram</data><value name=\"ADD0\"><block type=\"varGetProperty\" id=\"3TFk*1#0qN0$G=![U@wY\"><field name=\"VAR\" id=\"/z]X|sEpLfH7ip{3^4{[\">dataframe</field><field name=\"MEMBER\">x1</field><data>dataframe:x1</data></block></value></block></value></block></xml>"
   ]
  },
  {
   "cell_type": "markdown",
   "metadata": {},
   "source": [
    "As you can see, the standardized variable is now centered on zero (i.e. shifted left) and had been \"squeezed\" slightly, but has the same essential shape.\n",
    "It's important to recognize that **standardization does not remove outliers!**"
   ]
  },
  {
   "cell_type": "markdown",
   "metadata": {},
   "source": [
    "### Non-normality\n",
    "\n",
    "Non-normality is not necessarily a problem for many models.\n",
    "However, some models, like linear regression, try to minimize sum squared error, and if the response variable (the thing you are trying to predict) is not normal-ish, it's unlikely that the residuals will be well behaved (i.e. symmetrically distributed around zero, as we saw in diagnostic plots).\n",
    "\n",
    "Let's load up some data to transform into a dataframe:\n",
    "\n",
    "- Set `dataframe` to with `pd` do `read_csv` using\n",
    "    - `\"datasets/baseball.csv\"`"
   ]
  },
  {
   "cell_type": "code",
   "execution_count": 39,
   "metadata": {
    "user_blocks": [
     "variables_set",
     "varDoMethod",
     "text"
    ],
    "user_blocks_xml": "<xml xmlns=\"https://developers.google.com/blockly/xml\"><variables><variable id=\"/z]X|sEpLfH7ip{3^4{[\">dataframe</variable><variable id=\"Nzt=g[pEt(%l}kD/){CM\">pd</variable></variables><block type=\"variables_set\" id=\"`?6KbBU]0P;dk9!]~IoS\" x=\"74\" y=\"218\"><field name=\"VAR\" id=\"/z]X|sEpLfH7ip{3^4{[\">dataframe</field><value name=\"VALUE\"><block type=\"varDoMethod\" id=\"4f!(OO{0q;5C0pvY6`_`\"><mutation items=\"1\"></mutation><field name=\"VAR\" id=\"Nzt=g[pEt(%l}kD/){CM\">pd</field><field name=\"MEMBER\">read_csv</field><data>pd:read_csv</data><value name=\"ADD0\"><block type=\"text\" id=\";~5r|uS~)G.`MPuZ.CnP\"><field name=\"TEXT\">datasets/baseball.csv</field></block></value></block></value></block></xml>",
    "user_code_from_blocks": "dataframe = pd.read_csv('datasets/baseball.csv')\n"
   },
   "outputs": [],
   "source": [
    "dataframe = pd.read_csv('datasets/baseball.csv')\n",
    "\n",
    "#<xml xmlns=\"https://developers.google.com/blockly/xml\"><variables><variable id=\"/z]X|sEpLfH7ip{3^4{[\">dataframe</variable><variable id=\"Nzt=g[pEt(%l}kD/){CM\">pd</variable></variables><block type=\"variables_set\" id=\"`?6KbBU]0P;dk9!]~IoS\" x=\"74\" y=\"218\"><field name=\"VAR\" id=\"/z]X|sEpLfH7ip{3^4{[\">dataframe</field><value name=\"VALUE\"><block type=\"varDoMethod\" id=\"4f!(OO{0q;5C0pvY6`_`\"><mutation items=\"1\"></mutation><field name=\"VAR\" id=\"Nzt=g[pEt(%l}kD/){CM\">pd</field><field name=\"MEMBER\">read_csv</field><data>pd:read_csv</data><value name=\"ADD0\"><block type=\"text\" id=\";~5r|uS~)G.`MPuZ.CnP\"><field name=\"TEXT\">datasets/baseball.csv</field></block></value></block></value></block></xml>"
   ]
  },
  {
   "cell_type": "markdown",
   "metadata": {},
   "source": [
    "`CRuns` is career runs, and is highly skewed:\n",
    "\n",
    "- with `px` do `histogram` using\n",
    "    - `dataframe[` `\"CRuns\"` `]`"
   ]
  },
  {
   "cell_type": "code",
   "execution_count": 40,
   "metadata": {
    "user_blocks": [
     "varDoMethod",
     "indexer",
     "text"
    ],
    "user_blocks_xml": "<xml xmlns=\"https://developers.google.com/blockly/xml\"><variables><variable id=\"zZmWV$gHDceKnNTL0qJD\">px</variable><variable id=\"/z]X|sEpLfH7ip{3^4{[\">dataframe</variable></variables><block type=\"varDoMethod\" id=\";3XBa2S8*(1iI?altE[v\" x=\"-115\" y=\"207\"><mutation items=\"1\"></mutation><field name=\"VAR\" id=\"zZmWV$gHDceKnNTL0qJD\">px</field><field name=\"MEMBER\">histogram</field><data>px:histogram</data><value name=\"ADD0\"><block type=\"indexer\" id=\"ZQGGecy}9v^qC^zH#438\"><field name=\"VAR\" id=\"/z]X|sEpLfH7ip{3^4{[\">dataframe</field><value name=\"INDEX\"><block type=\"text\" id=\":5!?d_2r8:.l]OVh|M|M\"><field name=\"TEXT\">CRuns</field></block></value></block></value></block></xml>",
    "user_code_from_blocks": "px.histogram(dataframe['CRuns'])\n"
   },
   "outputs": [
    {
     "data": {
      "application/vnd.plotly.v1+json": {
       "config": {
        "plotlyServerURL": "https://plot.ly"
       },
       "data": [
        {
         "bingroup": "x",
         "hovertemplate": "variable=CRuns<br>value=%{x}<br>count=%{y}<extra></extra>",
         "legendgroup": "CRuns",
         "marker": {
          "color": "#636efa",
          "pattern": {
           "shape": ""
          }
         },
         "name": "CRuns",
         "orientation": "v",
         "showlegend": true,
         "type": "histogram",
         "x": {
          "bdata": "HgBBAeAAPAMwAPUBHgApACAAEAO+AsAAzQA1AXgBFAAVBEEAgwJDAEgANwAJAPIA8AO6ASMB9gBdAfsCCQRQACEC2wB+AFsDnAAiABADIgAUABwDcwFWAOYBbABxAHUA2wNgAesDIAADAHoC6wJjAKQAuQGZARECOgC6AnQAdgAUAHUEPQA5AGMAZAK2AyEAyAKXBDoEzQHEAJAAHQF7AIUD+wNdAZwALQM/AtIDPQDqAqAAnAAkASMAVwACAR8BbwTxApwATwF0A3sApgAKAYoDawBNAOcCKQETADAEwwBPA5QA2gNpAWYAkwOtAdgALgSUBPcAHAG/AqkC0wC8AQkB7AE5AZEApwNIAFAAOgBzAUUCiwBDAGUA0gC+AtQDLQIRATABSgHCASACygAtACEAewEuAVkAaAJ+ANoCtQBkAG4BEgBQBAYCRAA2AbwAJgBhAEICHwBgAE0AowHbACIAsQHXA8kDlQH5AekAMwBrAZgBlgAGAR8AtAF1AC0CZwJxAAECQQLkAhQAWAA7AtQCGwDYAGUALAEYAHkAvQFCANIADQE7ARkAFAD3AJYAUAAGALUAOwBHAIQAwwHGALUApwCBAKgAuwJHArAA9QDvAlIApAIWAXUIpgD6ACkAdgKyAAoBxQNmALYB9AD5AF4D5QUCAO4AmgEcAHsBZgCDAicBeQEgAG0BEACAAO4BXgBiADIAyQJJADsBJwATBMwAGwBdAEwAagDaAHIERAA/ANMApAEBAMIBRAFxAcQAzwBTAGABhwBbBKUBagACAGkAgQBYAOgBMwGVAPgE4gBDAlwCGAS0AFIByQCPARcBEAHaAUIAUgBrAHsBgQPZANYBBwM=",
          "dtype": "i2"
         },
         "xaxis": "x",
         "yaxis": "y"
        }
       ],
       "layout": {
        "barmode": "relative",
        "legend": {
         "title": {
          "text": "variable"
         },
         "tracegroupgap": 0
        },
        "margin": {
         "t": 60
        },
        "template": {
         "data": {
          "bar": [
           {
            "error_x": {
             "color": "#2a3f5f"
            },
            "error_y": {
             "color": "#2a3f5f"
            },
            "marker": {
             "line": {
              "color": "#E5ECF6",
              "width": 0.5
             },
             "pattern": {
              "fillmode": "overlay",
              "size": 10,
              "solidity": 0.2
             }
            },
            "type": "bar"
           }
          ],
          "barpolar": [
           {
            "marker": {
             "line": {
              "color": "#E5ECF6",
              "width": 0.5
             },
             "pattern": {
              "fillmode": "overlay",
              "size": 10,
              "solidity": 0.2
             }
            },
            "type": "barpolar"
           }
          ],
          "carpet": [
           {
            "aaxis": {
             "endlinecolor": "#2a3f5f",
             "gridcolor": "white",
             "linecolor": "white",
             "minorgridcolor": "white",
             "startlinecolor": "#2a3f5f"
            },
            "baxis": {
             "endlinecolor": "#2a3f5f",
             "gridcolor": "white",
             "linecolor": "white",
             "minorgridcolor": "white",
             "startlinecolor": "#2a3f5f"
            },
            "type": "carpet"
           }
          ],
          "choropleth": [
           {
            "colorbar": {
             "outlinewidth": 0,
             "ticks": ""
            },
            "type": "choropleth"
           }
          ],
          "contour": [
           {
            "colorbar": {
             "outlinewidth": 0,
             "ticks": ""
            },
            "colorscale": [
             [
              0,
              "#0d0887"
             ],
             [
              0.1111111111111111,
              "#46039f"
             ],
             [
              0.2222222222222222,
              "#7201a8"
             ],
             [
              0.3333333333333333,
              "#9c179e"
             ],
             [
              0.4444444444444444,
              "#bd3786"
             ],
             [
              0.5555555555555556,
              "#d8576b"
             ],
             [
              0.6666666666666666,
              "#ed7953"
             ],
             [
              0.7777777777777778,
              "#fb9f3a"
             ],
             [
              0.8888888888888888,
              "#fdca26"
             ],
             [
              1,
              "#f0f921"
             ]
            ],
            "type": "contour"
           }
          ],
          "contourcarpet": [
           {
            "colorbar": {
             "outlinewidth": 0,
             "ticks": ""
            },
            "type": "contourcarpet"
           }
          ],
          "heatmap": [
           {
            "colorbar": {
             "outlinewidth": 0,
             "ticks": ""
            },
            "colorscale": [
             [
              0,
              "#0d0887"
             ],
             [
              0.1111111111111111,
              "#46039f"
             ],
             [
              0.2222222222222222,
              "#7201a8"
             ],
             [
              0.3333333333333333,
              "#9c179e"
             ],
             [
              0.4444444444444444,
              "#bd3786"
             ],
             [
              0.5555555555555556,
              "#d8576b"
             ],
             [
              0.6666666666666666,
              "#ed7953"
             ],
             [
              0.7777777777777778,
              "#fb9f3a"
             ],
             [
              0.8888888888888888,
              "#fdca26"
             ],
             [
              1,
              "#f0f921"
             ]
            ],
            "type": "heatmap"
           }
          ],
          "histogram": [
           {
            "marker": {
             "pattern": {
              "fillmode": "overlay",
              "size": 10,
              "solidity": 0.2
             }
            },
            "type": "histogram"
           }
          ],
          "histogram2d": [
           {
            "colorbar": {
             "outlinewidth": 0,
             "ticks": ""
            },
            "colorscale": [
             [
              0,
              "#0d0887"
             ],
             [
              0.1111111111111111,
              "#46039f"
             ],
             [
              0.2222222222222222,
              "#7201a8"
             ],
             [
              0.3333333333333333,
              "#9c179e"
             ],
             [
              0.4444444444444444,
              "#bd3786"
             ],
             [
              0.5555555555555556,
              "#d8576b"
             ],
             [
              0.6666666666666666,
              "#ed7953"
             ],
             [
              0.7777777777777778,
              "#fb9f3a"
             ],
             [
              0.8888888888888888,
              "#fdca26"
             ],
             [
              1,
              "#f0f921"
             ]
            ],
            "type": "histogram2d"
           }
          ],
          "histogram2dcontour": [
           {
            "colorbar": {
             "outlinewidth": 0,
             "ticks": ""
            },
            "colorscale": [
             [
              0,
              "#0d0887"
             ],
             [
              0.1111111111111111,
              "#46039f"
             ],
             [
              0.2222222222222222,
              "#7201a8"
             ],
             [
              0.3333333333333333,
              "#9c179e"
             ],
             [
              0.4444444444444444,
              "#bd3786"
             ],
             [
              0.5555555555555556,
              "#d8576b"
             ],
             [
              0.6666666666666666,
              "#ed7953"
             ],
             [
              0.7777777777777778,
              "#fb9f3a"
             ],
             [
              0.8888888888888888,
              "#fdca26"
             ],
             [
              1,
              "#f0f921"
             ]
            ],
            "type": "histogram2dcontour"
           }
          ],
          "mesh3d": [
           {
            "colorbar": {
             "outlinewidth": 0,
             "ticks": ""
            },
            "type": "mesh3d"
           }
          ],
          "parcoords": [
           {
            "line": {
             "colorbar": {
              "outlinewidth": 0,
              "ticks": ""
             }
            },
            "type": "parcoords"
           }
          ],
          "pie": [
           {
            "automargin": true,
            "type": "pie"
           }
          ],
          "scatter": [
           {
            "fillpattern": {
             "fillmode": "overlay",
             "size": 10,
             "solidity": 0.2
            },
            "type": "scatter"
           }
          ],
          "scatter3d": [
           {
            "line": {
             "colorbar": {
              "outlinewidth": 0,
              "ticks": ""
             }
            },
            "marker": {
             "colorbar": {
              "outlinewidth": 0,
              "ticks": ""
             }
            },
            "type": "scatter3d"
           }
          ],
          "scattercarpet": [
           {
            "marker": {
             "colorbar": {
              "outlinewidth": 0,
              "ticks": ""
             }
            },
            "type": "scattercarpet"
           }
          ],
          "scattergeo": [
           {
            "marker": {
             "colorbar": {
              "outlinewidth": 0,
              "ticks": ""
             }
            },
            "type": "scattergeo"
           }
          ],
          "scattergl": [
           {
            "marker": {
             "colorbar": {
              "outlinewidth": 0,
              "ticks": ""
             }
            },
            "type": "scattergl"
           }
          ],
          "scattermap": [
           {
            "marker": {
             "colorbar": {
              "outlinewidth": 0,
              "ticks": ""
             }
            },
            "type": "scattermap"
           }
          ],
          "scattermapbox": [
           {
            "marker": {
             "colorbar": {
              "outlinewidth": 0,
              "ticks": ""
             }
            },
            "type": "scattermapbox"
           }
          ],
          "scatterpolar": [
           {
            "marker": {
             "colorbar": {
              "outlinewidth": 0,
              "ticks": ""
             }
            },
            "type": "scatterpolar"
           }
          ],
          "scatterpolargl": [
           {
            "marker": {
             "colorbar": {
              "outlinewidth": 0,
              "ticks": ""
             }
            },
            "type": "scatterpolargl"
           }
          ],
          "scatterternary": [
           {
            "marker": {
             "colorbar": {
              "outlinewidth": 0,
              "ticks": ""
             }
            },
            "type": "scatterternary"
           }
          ],
          "surface": [
           {
            "colorbar": {
             "outlinewidth": 0,
             "ticks": ""
            },
            "colorscale": [
             [
              0,
              "#0d0887"
             ],
             [
              0.1111111111111111,
              "#46039f"
             ],
             [
              0.2222222222222222,
              "#7201a8"
             ],
             [
              0.3333333333333333,
              "#9c179e"
             ],
             [
              0.4444444444444444,
              "#bd3786"
             ],
             [
              0.5555555555555556,
              "#d8576b"
             ],
             [
              0.6666666666666666,
              "#ed7953"
             ],
             [
              0.7777777777777778,
              "#fb9f3a"
             ],
             [
              0.8888888888888888,
              "#fdca26"
             ],
             [
              1,
              "#f0f921"
             ]
            ],
            "type": "surface"
           }
          ],
          "table": [
           {
            "cells": {
             "fill": {
              "color": "#EBF0F8"
             },
             "line": {
              "color": "white"
             }
            },
            "header": {
             "fill": {
              "color": "#C8D4E3"
             },
             "line": {
              "color": "white"
             }
            },
            "type": "table"
           }
          ]
         },
         "layout": {
          "annotationdefaults": {
           "arrowcolor": "#2a3f5f",
           "arrowhead": 0,
           "arrowwidth": 1
          },
          "autotypenumbers": "strict",
          "coloraxis": {
           "colorbar": {
            "outlinewidth": 0,
            "ticks": ""
           }
          },
          "colorscale": {
           "diverging": [
            [
             0,
             "#8e0152"
            ],
            [
             0.1,
             "#c51b7d"
            ],
            [
             0.2,
             "#de77ae"
            ],
            [
             0.3,
             "#f1b6da"
            ],
            [
             0.4,
             "#fde0ef"
            ],
            [
             0.5,
             "#f7f7f7"
            ],
            [
             0.6,
             "#e6f5d0"
            ],
            [
             0.7,
             "#b8e186"
            ],
            [
             0.8,
             "#7fbc41"
            ],
            [
             0.9,
             "#4d9221"
            ],
            [
             1,
             "#276419"
            ]
           ],
           "sequential": [
            [
             0,
             "#0d0887"
            ],
            [
             0.1111111111111111,
             "#46039f"
            ],
            [
             0.2222222222222222,
             "#7201a8"
            ],
            [
             0.3333333333333333,
             "#9c179e"
            ],
            [
             0.4444444444444444,
             "#bd3786"
            ],
            [
             0.5555555555555556,
             "#d8576b"
            ],
            [
             0.6666666666666666,
             "#ed7953"
            ],
            [
             0.7777777777777778,
             "#fb9f3a"
            ],
            [
             0.8888888888888888,
             "#fdca26"
            ],
            [
             1,
             "#f0f921"
            ]
           ],
           "sequentialminus": [
            [
             0,
             "#0d0887"
            ],
            [
             0.1111111111111111,
             "#46039f"
            ],
            [
             0.2222222222222222,
             "#7201a8"
            ],
            [
             0.3333333333333333,
             "#9c179e"
            ],
            [
             0.4444444444444444,
             "#bd3786"
            ],
            [
             0.5555555555555556,
             "#d8576b"
            ],
            [
             0.6666666666666666,
             "#ed7953"
            ],
            [
             0.7777777777777778,
             "#fb9f3a"
            ],
            [
             0.8888888888888888,
             "#fdca26"
            ],
            [
             1,
             "#f0f921"
            ]
           ]
          },
          "colorway": [
           "#636efa",
           "#EF553B",
           "#00cc96",
           "#ab63fa",
           "#FFA15A",
           "#19d3f3",
           "#FF6692",
           "#B6E880",
           "#FF97FF",
           "#FECB52"
          ],
          "font": {
           "color": "#2a3f5f"
          },
          "geo": {
           "bgcolor": "white",
           "lakecolor": "white",
           "landcolor": "#E5ECF6",
           "showlakes": true,
           "showland": true,
           "subunitcolor": "white"
          },
          "hoverlabel": {
           "align": "left"
          },
          "hovermode": "closest",
          "mapbox": {
           "style": "light"
          },
          "paper_bgcolor": "white",
          "plot_bgcolor": "#E5ECF6",
          "polar": {
           "angularaxis": {
            "gridcolor": "white",
            "linecolor": "white",
            "ticks": ""
           },
           "bgcolor": "#E5ECF6",
           "radialaxis": {
            "gridcolor": "white",
            "linecolor": "white",
            "ticks": ""
           }
          },
          "scene": {
           "xaxis": {
            "backgroundcolor": "#E5ECF6",
            "gridcolor": "white",
            "gridwidth": 2,
            "linecolor": "white",
            "showbackground": true,
            "ticks": "",
            "zerolinecolor": "white"
           },
           "yaxis": {
            "backgroundcolor": "#E5ECF6",
            "gridcolor": "white",
            "gridwidth": 2,
            "linecolor": "white",
            "showbackground": true,
            "ticks": "",
            "zerolinecolor": "white"
           },
           "zaxis": {
            "backgroundcolor": "#E5ECF6",
            "gridcolor": "white",
            "gridwidth": 2,
            "linecolor": "white",
            "showbackground": true,
            "ticks": "",
            "zerolinecolor": "white"
           }
          },
          "shapedefaults": {
           "line": {
            "color": "#2a3f5f"
           }
          },
          "ternary": {
           "aaxis": {
            "gridcolor": "white",
            "linecolor": "white",
            "ticks": ""
           },
           "baxis": {
            "gridcolor": "white",
            "linecolor": "white",
            "ticks": ""
           },
           "bgcolor": "#E5ECF6",
           "caxis": {
            "gridcolor": "white",
            "linecolor": "white",
            "ticks": ""
           }
          },
          "title": {
           "x": 0.05
          },
          "xaxis": {
           "automargin": true,
           "gridcolor": "white",
           "linecolor": "white",
           "ticks": "",
           "title": {
            "standoff": 15
           },
           "zerolinecolor": "white",
           "zerolinewidth": 2
          },
          "yaxis": {
           "automargin": true,
           "gridcolor": "white",
           "linecolor": "white",
           "ticks": "",
           "title": {
            "standoff": 15
           },
           "zerolinecolor": "white",
           "zerolinewidth": 2
          }
         }
        },
        "xaxis": {
         "anchor": "y",
         "domain": [
          0,
          1
         ],
         "title": {
          "text": "value"
         }
        },
        "yaxis": {
         "anchor": "x",
         "domain": [
          0,
          1
         ],
         "title": {
          "text": "count"
         }
        }
       }
      },
      "image/png": "[encoded data removed]"
     },
     "metadata": {},
     "output_type": "display_data"
    }
   ],
   "source": [
    "px.histogram(dataframe['CRuns'])\n",
    "\n",
    "#<xml xmlns=\"https://developers.google.com/blockly/xml\"><variables><variable id=\"zZmWV$gHDceKnNTL0qJD\">px</variable><variable id=\"/z]X|sEpLfH7ip{3^4{[\">dataframe</variable></variables><block type=\"varDoMethod\" id=\";3XBa2S8*(1iI?altE[v\" x=\"-115\" y=\"207\"><mutation items=\"1\"></mutation><field name=\"VAR\" id=\"zZmWV$gHDceKnNTL0qJD\">px</field><field name=\"MEMBER\">histogram</field><data>px:histogram</data><value name=\"ADD0\"><block type=\"indexer\" id=\"ZQGGecy}9v^qC^zH#438\"><field name=\"VAR\" id=\"/z]X|sEpLfH7ip{3^4{[\">dataframe</field><value name=\"INDEX\"><block type=\"text\" id=\":5!?d_2r8:.l]OVh|M|M\"><field name=\"TEXT\">CRuns</field></block></value></block></value></block></xml>"
   ]
  },
  {
   "cell_type": "markdown",
   "metadata": {},
   "source": [
    "To transform the variable, we need to import `numpy`:\n",
    "\n",
    "- `import numpy as np`"
   ]
  },
  {
   "cell_type": "code",
   "execution_count": 41,
   "metadata": {
    "user_blocks": [
     "importAs"
    ],
    "user_blocks_xml": "<xml xmlns=\"https://developers.google.com/blockly/xml\"><variables><variable id=\"]r.MVxn$.B;84`lPo@#0\">np</variable></variables><block type=\"importAs\" id=\"405[o%Y^^u?jrH7uGE3H\" x=\"50\" y=\"96\"><field name=\"libraryName\">numpy</field><field name=\"VAR\" id=\"]r.MVxn$.B;84`lPo@#0\">np</field></block></xml>",
    "user_code_from_blocks": "import numpy as np\n"
   },
   "outputs": [],
   "source": [
    "import numpy as np\n",
    "\n",
    "#<xml xmlns=\"https://developers.google.com/blockly/xml\"><variables><variable id=\"]r.MVxn$.B;84`lPo@#0\">np</variable></variables><block type=\"importAs\" id=\"405[o%Y^^u?jrH7uGE3H\" x=\"50\" y=\"96\"><field name=\"libraryName\">numpy</field><field name=\"VAR\" id=\"]r.MVxn$.B;84`lPo@#0\">np</field></block></xml>"
   ]
  },
  {
   "cell_type": "markdown",
   "metadata": {},
   "source": [
    "To plot log transformed `CRuns`:\n",
    "\n",
    "- with `px` do `histogram` using\n",
    "    - freestyle `np.log1p(dataframe[\"CRuns\"])`\n",
    "    \n",
    "<!-- NOTE: freestyle is necessary here because intellisense reports log1p as a property, so we can't supply an argument with v1 intelliblocks -->"
   ]
  },
  {
   "cell_type": "code",
   "execution_count": 42,
   "metadata": {
    "user_blocks": [
     "varDoMethod",
     "dummyOutputCodeBlock"
    ],
    "user_blocks_xml": "<xml xmlns=\"https://developers.google.com/blockly/xml\"><variables><variable id=\"zZmWV$gHDceKnNTL0qJD\">px</variable></variables><block type=\"varDoMethod\" id=\";3XBa2S8*(1iI?altE[v\" x=\"-115\" y=\"207\"><mutation items=\"1\"></mutation><field name=\"VAR\" id=\"zZmWV$gHDceKnNTL0qJD\">px</field><field name=\"MEMBER\">histogram</field><data>px:histogram</data><value name=\"ADD0\"><block type=\"dummyOutputCodeBlock\" id=\"v2~j@?227+GX^/(Du7(P\"><field name=\"CODE\">np.log1p(dataframe[\"CRuns\"])</field></block></value></block></xml>",
    "user_code_from_blocks": "px.histogram(np.log1p(dataframe[\"CRuns\"]))\n"
   },
   "outputs": [
    {
     "data": {
      "application/vnd.plotly.v1+json": {
       "config": {
        "plotlyServerURL": "https://plot.ly"
       },
       "data": [
        {
         "bingroup": "x",
         "hovertemplate": "variable=CRuns<br>value=%{x}<br>count=%{y}<extra></extra>",
         "legendgroup": "CRuns",
         "marker": {
          "color": "#636efa",
          "pattern": {
           "shape": ""
          }
         },
         "name": "CRuns",
         "orientation": "v",
         "showlegend": true,
         "type": "histogram",
         "x": {
          "bdata": "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",
          "dtype": "f8"
         },
         "xaxis": "x",
         "yaxis": "y"
        }
       ],
       "layout": {
        "barmode": "relative",
        "legend": {
         "title": {
          "text": "variable"
         },
         "tracegroupgap": 0
        },
        "margin": {
         "t": 60
        },
        "template": {
         "data": {
          "bar": [
           {
            "error_x": {
             "color": "#2a3f5f"
            },
            "error_y": {
             "color": "#2a3f5f"
            },
            "marker": {
             "line": {
              "color": "#E5ECF6",
              "width": 0.5
             },
             "pattern": {
              "fillmode": "overlay",
              "size": 10,
              "solidity": 0.2
             }
            },
            "type": "bar"
           }
          ],
          "barpolar": [
           {
            "marker": {
             "line": {
              "color": "#E5ECF6",
              "width": 0.5
             },
             "pattern": {
              "fillmode": "overlay",
              "size": 10,
              "solidity": 0.2
             }
            },
            "type": "barpolar"
           }
          ],
          "carpet": [
           {
            "aaxis": {
             "endlinecolor": "#2a3f5f",
             "gridcolor": "white",
             "linecolor": "white",
             "minorgridcolor": "white",
             "startlinecolor": "#2a3f5f"
            },
            "baxis": {
             "endlinecolor": "#2a3f5f",
             "gridcolor": "white",
             "linecolor": "white",
             "minorgridcolor": "white",
             "startlinecolor": "#2a3f5f"
            },
            "type": "carpet"
           }
          ],
          "choropleth": [
           {
            "colorbar": {
             "outlinewidth": 0,
             "ticks": ""
            },
            "type": "choropleth"
           }
          ],
          "contour": [
           {
            "colorbar": {
             "outlinewidth": 0,
             "ticks": ""
            },
            "colorscale": [
             [
              0,
              "#0d0887"
             ],
             [
              0.1111111111111111,
              "#46039f"
             ],
             [
              0.2222222222222222,
              "#7201a8"
             ],
             [
              0.3333333333333333,
              "#9c179e"
             ],
             [
              0.4444444444444444,
              "#bd3786"
             ],
             [
              0.5555555555555556,
              "#d8576b"
             ],
             [
              0.6666666666666666,
              "#ed7953"
             ],
             [
              0.7777777777777778,
              "#fb9f3a"
             ],
             [
              0.8888888888888888,
              "#fdca26"
             ],
             [
              1,
              "#f0f921"
             ]
            ],
            "type": "contour"
           }
          ],
          "contourcarpet": [
           {
            "colorbar": {
             "outlinewidth": 0,
             "ticks": ""
            },
            "type": "contourcarpet"
           }
          ],
          "heatmap": [
           {
            "colorbar": {
             "outlinewidth": 0,
             "ticks": ""
            },
            "colorscale": [
             [
              0,
              "#0d0887"
             ],
             [
              0.1111111111111111,
              "#46039f"
             ],
             [
              0.2222222222222222,
              "#7201a8"
             ],
             [
              0.3333333333333333,
              "#9c179e"
             ],
             [
              0.4444444444444444,
              "#bd3786"
             ],
             [
              0.5555555555555556,
              "#d8576b"
             ],
             [
              0.6666666666666666,
              "#ed7953"
             ],
             [
              0.7777777777777778,
              "#fb9f3a"
             ],
             [
              0.8888888888888888,
              "#fdca26"
             ],
             [
              1,
              "#f0f921"
             ]
            ],
            "type": "heatmap"
           }
          ],
          "histogram": [
           {
            "marker": {
             "pattern": {
              "fillmode": "overlay",
              "size": 10,
              "solidity": 0.2
             }
            },
            "type": "histogram"
           }
          ],
          "histogram2d": [
           {
            "colorbar": {
             "outlinewidth": 0,
             "ticks": ""
            },
            "colorscale": [
             [
              0,
              "#0d0887"
             ],
             [
              0.1111111111111111,
              "#46039f"
             ],
             [
              0.2222222222222222,
              "#7201a8"
             ],
             [
              0.3333333333333333,
              "#9c179e"
             ],
             [
              0.4444444444444444,
              "#bd3786"
             ],
             [
              0.5555555555555556,
              "#d8576b"
             ],
             [
              0.6666666666666666,
              "#ed7953"
             ],
             [
              0.7777777777777778,
              "#fb9f3a"
             ],
             [
              0.8888888888888888,
              "#fdca26"
             ],
             [
              1,
              "#f0f921"
             ]
            ],
            "type": "histogram2d"
           }
          ],
          "histogram2dcontour": [
           {
            "colorbar": {
             "outlinewidth": 0,
             "ticks": ""
            },
            "colorscale": [
             [
              0,
              "#0d0887"
             ],
             [
              0.1111111111111111,
              "#46039f"
             ],
             [
              0.2222222222222222,
              "#7201a8"
             ],
             [
              0.3333333333333333,
              "#9c179e"
             ],
             [
              0.4444444444444444,
              "#bd3786"
             ],
             [
              0.5555555555555556,
              "#d8576b"
             ],
             [
              0.6666666666666666,
              "#ed7953"
             ],
             [
              0.7777777777777778,
              "#fb9f3a"
             ],
             [
              0.8888888888888888,
              "#fdca26"
             ],
             [
              1,
              "#f0f921"
             ]
            ],
            "type": "histogram2dcontour"
           }
          ],
          "mesh3d": [
           {
            "colorbar": {
             "outlinewidth": 0,
             "ticks": ""
            },
            "type": "mesh3d"
           }
          ],
          "parcoords": [
           {
            "line": {
             "colorbar": {
              "outlinewidth": 0,
              "ticks": ""
             }
            },
            "type": "parcoords"
           }
          ],
          "pie": [
           {
            "automargin": true,
            "type": "pie"
           }
          ],
          "scatter": [
           {
            "fillpattern": {
             "fillmode": "overlay",
             "size": 10,
             "solidity": 0.2
            },
            "type": "scatter"
           }
          ],
          "scatter3d": [
           {
            "line": {
             "colorbar": {
              "outlinewidth": 0,
              "ticks": ""
             }
            },
            "marker": {
             "colorbar": {
              "outlinewidth": 0,
              "ticks": ""
             }
            },
            "type": "scatter3d"
           }
          ],
          "scattercarpet": [
           {
            "marker": {
             "colorbar": {
              "outlinewidth": 0,
              "ticks": ""
             }
            },
            "type": "scattercarpet"
           }
          ],
          "scattergeo": [
           {
            "marker": {
             "colorbar": {
              "outlinewidth": 0,
              "ticks": ""
             }
            },
            "type": "scattergeo"
           }
          ],
          "scattergl": [
           {
            "marker": {
             "colorbar": {
              "outlinewidth": 0,
              "ticks": ""
             }
            },
            "type": "scattergl"
           }
          ],
          "scattermap": [
           {
            "marker": {
             "colorbar": {
              "outlinewidth": 0,
              "ticks": ""
             }
            },
            "type": "scattermap"
           }
          ],
          "scattermapbox": [
           {
            "marker": {
             "colorbar": {
              "outlinewidth": 0,
              "ticks": ""
             }
            },
            "type": "scattermapbox"
           }
          ],
          "scatterpolar": [
           {
            "marker": {
             "colorbar": {
              "outlinewidth": 0,
              "ticks": ""
             }
            },
            "type": "scatterpolar"
           }
          ],
          "scatterpolargl": [
           {
            "marker": {
             "colorbar": {
              "outlinewidth": 0,
              "ticks": ""
             }
            },
            "type": "scatterpolargl"
           }
          ],
          "scatterternary": [
           {
            "marker": {
             "colorbar": {
              "outlinewidth": 0,
              "ticks": ""
             }
            },
            "type": "scatterternary"
           }
          ],
          "surface": [
           {
            "colorbar": {
             "outlinewidth": 0,
             "ticks": ""
            },
            "colorscale": [
             [
              0,
              "#0d0887"
             ],
             [
              0.1111111111111111,
              "#46039f"
             ],
             [
              0.2222222222222222,
              "#7201a8"
             ],
             [
              0.3333333333333333,
              "#9c179e"
             ],
             [
              0.4444444444444444,
              "#bd3786"
             ],
             [
              0.5555555555555556,
              "#d8576b"
             ],
             [
              0.6666666666666666,
              "#ed7953"
             ],
             [
              0.7777777777777778,
              "#fb9f3a"
             ],
             [
              0.8888888888888888,
              "#fdca26"
             ],
             [
              1,
              "#f0f921"
             ]
            ],
            "type": "surface"
           }
          ],
          "table": [
           {
            "cells": {
             "fill": {
              "color": "#EBF0F8"
             },
             "line": {
              "color": "white"
             }
            },
            "header": {
             "fill": {
              "color": "#C8D4E3"
             },
             "line": {
              "color": "white"
             }
            },
            "type": "table"
           }
          ]
         },
         "layout": {
          "annotationdefaults": {
           "arrowcolor": "#2a3f5f",
           "arrowhead": 0,
           "arrowwidth": 1
          },
          "autotypenumbers": "strict",
          "coloraxis": {
           "colorbar": {
            "outlinewidth": 0,
            "ticks": ""
           }
          },
          "colorscale": {
           "diverging": [
            [
             0,
             "#8e0152"
            ],
            [
             0.1,
             "#c51b7d"
            ],
            [
             0.2,
             "#de77ae"
            ],
            [
             0.3,
             "#f1b6da"
            ],
            [
             0.4,
             "#fde0ef"
            ],
            [
             0.5,
             "#f7f7f7"
            ],
            [
             0.6,
             "#e6f5d0"
            ],
            [
             0.7,
             "#b8e186"
            ],
            [
             0.8,
             "#7fbc41"
            ],
            [
             0.9,
             "#4d9221"
            ],
            [
             1,
             "#276419"
            ]
           ],
           "sequential": [
            [
             0,
             "#0d0887"
            ],
            [
             0.1111111111111111,
             "#46039f"
            ],
            [
             0.2222222222222222,
             "#7201a8"
            ],
            [
             0.3333333333333333,
             "#9c179e"
            ],
            [
             0.4444444444444444,
             "#bd3786"
            ],
            [
             0.5555555555555556,
             "#d8576b"
            ],
            [
             0.6666666666666666,
             "#ed7953"
            ],
            [
             0.7777777777777778,
             "#fb9f3a"
            ],
            [
             0.8888888888888888,
             "#fdca26"
            ],
            [
             1,
             "#f0f921"
            ]
           ],
           "sequentialminus": [
            [
             0,
             "#0d0887"
            ],
            [
             0.1111111111111111,
             "#46039f"
            ],
            [
             0.2222222222222222,
             "#7201a8"
            ],
            [
             0.3333333333333333,
             "#9c179e"
            ],
            [
             0.4444444444444444,
             "#bd3786"
            ],
            [
             0.5555555555555556,
             "#d8576b"
            ],
            [
             0.6666666666666666,
             "#ed7953"
            ],
            [
             0.7777777777777778,
             "#fb9f3a"
            ],
            [
             0.8888888888888888,
             "#fdca26"
            ],
            [
             1,
             "#f0f921"
            ]
           ]
          },
          "colorway": [
           "#636efa",
           "#EF553B",
           "#00cc96",
           "#ab63fa",
           "#FFA15A",
           "#19d3f3",
           "#FF6692",
           "#B6E880",
           "#FF97FF",
           "#FECB52"
          ],
          "font": {
           "color": "#2a3f5f"
          },
          "geo": {
           "bgcolor": "white",
           "lakecolor": "white",
           "landcolor": "#E5ECF6",
           "showlakes": true,
           "showland": true,
           "subunitcolor": "white"
          },
          "hoverlabel": {
           "align": "left"
          },
          "hovermode": "closest",
          "mapbox": {
           "style": "light"
          },
          "paper_bgcolor": "white",
          "plot_bgcolor": "#E5ECF6",
          "polar": {
           "angularaxis": {
            "gridcolor": "white",
            "linecolor": "white",
            "ticks": ""
           },
           "bgcolor": "#E5ECF6",
           "radialaxis": {
            "gridcolor": "white",
            "linecolor": "white",
            "ticks": ""
           }
          },
          "scene": {
           "xaxis": {
            "backgroundcolor": "#E5ECF6",
            "gridcolor": "white",
            "gridwidth": 2,
            "linecolor": "white",
            "showbackground": true,
            "ticks": "",
            "zerolinecolor": "white"
           },
           "yaxis": {
            "backgroundcolor": "#E5ECF6",
            "gridcolor": "white",
            "gridwidth": 2,
            "linecolor": "white",
            "showbackground": true,
            "ticks": "",
            "zerolinecolor": "white"
           },
           "zaxis": {
            "backgroundcolor": "#E5ECF6",
            "gridcolor": "white",
            "gridwidth": 2,
            "linecolor": "white",
            "showbackground": true,
            "ticks": "",
            "zerolinecolor": "white"
           }
          },
          "shapedefaults": {
           "line": {
            "color": "#2a3f5f"
           }
          },
          "ternary": {
           "aaxis": {
            "gridcolor": "white",
            "linecolor": "white",
            "ticks": ""
           },
           "baxis": {
            "gridcolor": "white",
            "linecolor": "white",
            "ticks": ""
           },
           "bgcolor": "#E5ECF6",
           "caxis": {
            "gridcolor": "white",
            "linecolor": "white",
            "ticks": ""
           }
          },
          "title": {
           "x": 0.05
          },
          "xaxis": {
           "automargin": true,
           "gridcolor": "white",
           "linecolor": "white",
           "ticks": "",
           "title": {
            "standoff": 15
           },
           "zerolinecolor": "white",
           "zerolinewidth": 2
          },
          "yaxis": {
           "automargin": true,
           "gridcolor": "white",
           "linecolor": "white",
           "ticks": "",
           "title": {
            "standoff": 15
           },
           "zerolinecolor": "white",
           "zerolinewidth": 2
          }
         }
        },
        "xaxis": {
         "anchor": "y",
         "domain": [
          0,
          1
         ],
         "title": {
          "text": "value"
         }
        },
        "yaxis": {
         "anchor": "x",
         "domain": [
          0,
          1
         ],
         "title": {
          "text": "count"
         }
        }
       }
      },
      "image/png": "[encoded data removed]"
     },
     "metadata": {},
     "output_type": "display_data"
    }
   ],
   "source": [
    "px.histogram(np.log1p(dataframe[\"CRuns\"]))\n",
    "\n",
    "#<xml xmlns=\"https://developers.google.com/blockly/xml\"><variables><variable id=\"zZmWV$gHDceKnNTL0qJD\">px</variable></variables><block type=\"varDoMethod\" id=\";3XBa2S8*(1iI?altE[v\" x=\"-115\" y=\"207\"><mutation items=\"1\"></mutation><field name=\"VAR\" id=\"zZmWV$gHDceKnNTL0qJD\">px</field><field name=\"MEMBER\">histogram</field><data>px:histogram</data><value name=\"ADD0\"><block type=\"dummyOutputCodeBlock\" id=\"v2~j@?227+GX^/(Du7(P\"><field name=\"CODE\">np.log1p(dataframe[\"CRuns\"])</field></block></value></block></xml>"
   ]
  },
  {
   "cell_type": "markdown",
   "metadata": {},
   "source": [
    "In this case, a log transform improved the shape of the distribution a lot. \n",
    "Another common transform is the square root, which tends to be a bit less powerful.\n",
    "In general:\n",
    "\n",
    "- If the distribution has a tail to the right (right skewed) use a root-type transformation (or log)\n",
    "- If the distribution has a tail to the left (left skewed) use a power transformation\n",
    "\n"
   ]
  },
  {
   "cell_type": "markdown",
   "metadata": {},
   "source": [
    "## Create new variables\n",
    "\n",
    "Often we need to create a new variable to answer a specific question.\n",
    "Let's look at an example from the `tips` dataset.\n",
    "This dataset is built into `plotly`, so to access it, do this:\n",
    "\n",
    "- Set `dataframe` to freestyle `px.data.tips()`\n",
    "- `dataframe`"
   ]
  },
  {
   "cell_type": "code",
   "execution_count": 43,
   "metadata": {
    "user_blocks": [
     "variables_set",
     "dummyOutputCodeBlock",
     "variables_get"
    ],
    "user_blocks_xml": "<xml xmlns=\"https://developers.google.com/blockly/xml\"><variables><variable id=\"/z]X|sEpLfH7ip{3^4{[\">dataframe</variable></variables><block type=\"variables_set\" id=\"4@5zw:c510icc@f5gj0h\" x=\"-145\" y=\"54\"><field name=\"VAR\" id=\"/z]X|sEpLfH7ip{3^4{[\">dataframe</field><value name=\"VALUE\"><block type=\"dummyOutputCodeBlock\" id=\"4fAGcx?Ksz+QMQ7u0)].\"><field name=\"CODE\">px.data.tips()</field></block></value></block><block type=\"variables_get\" id=\"Ub0w4?_NjBM~szj,NjrF\" x=\"-152\" y=\"109\"><field name=\"VAR\" id=\"/z]X|sEpLfH7ip{3^4{[\">dataframe</field></block></xml>",
    "user_code_from_blocks": "dataframe = px.data.tips()\n\ndataframe\n"
   },
   "outputs": [
    {
     "data": {
      "text/html": [
       "<div>\n",
       "<style scoped>\n",
       "    .dataframe tbody tr th:only-of-type {\n",
       "        vertical-align: middle;\n",
       "    }\n",
       "\n",
       "    .dataframe tbody tr th {\n",
       "        vertical-align: top;\n",
       "    }\n",
       "\n",
       "    .dataframe thead th {\n",
       "        text-align: right;\n",
       "    }\n",
       "</style>\n",
       "<table border=\"1\" class=\"dataframe\">\n",
       "  <thead>\n",
       "    <tr style=\"text-align: right;\">\n",
       "      <th></th>\n",
       "      <th>total_bill</th>\n",
       "      <th>tip</th>\n",
       "      <th>sex</th>\n",
       "      <th>smoker</th>\n",
       "      <th>day</th>\n",
       "      <th>time</th>\n",
       "      <th>size</th>\n",
       "    </tr>\n",
       "  </thead>\n",
       "  <tbody>\n",
       "    <tr>\n",
       "      <th>0</th>\n",
       "      <td>16.99</td>\n",
       "      <td>1.01</td>\n",
       "      <td>Female</td>\n",
       "      <td>No</td>\n",
       "      <td>Sun</td>\n",
       "      <td>Dinner</td>\n",
       "      <td>2</td>\n",
       "    </tr>\n",
       "    <tr>\n",
       "      <th>1</th>\n",
       "      <td>10.34</td>\n",
       "      <td>1.66</td>\n",
       "      <td>Male</td>\n",
       "      <td>No</td>\n",
       "      <td>Sun</td>\n",
       "      <td>Dinner</td>\n",
       "      <td>3</td>\n",
       "    </tr>\n",
       "    <tr>\n",
       "      <th>2</th>\n",
       "      <td>21.01</td>\n",
       "      <td>3.50</td>\n",
       "      <td>Male</td>\n",
       "      <td>No</td>\n",
       "      <td>Sun</td>\n",
       "      <td>Dinner</td>\n",
       "      <td>3</td>\n",
       "    </tr>\n",
       "    <tr>\n",
       "      <th>3</th>\n",
       "      <td>23.68</td>\n",
       "      <td>3.31</td>\n",
       "      <td>Male</td>\n",
       "      <td>No</td>\n",
       "      <td>Sun</td>\n",
       "      <td>Dinner</td>\n",
       "      <td>2</td>\n",
       "    </tr>\n",
       "    <tr>\n",
       "      <th>4</th>\n",
       "      <td>24.59</td>\n",
       "      <td>3.61</td>\n",
       "      <td>Female</td>\n",
       "      <td>No</td>\n",
       "      <td>Sun</td>\n",
       "      <td>Dinner</td>\n",
       "      <td>4</td>\n",
       "    </tr>\n",
       "    <tr>\n",
       "      <th>...</th>\n",
       "      <td>...</td>\n",
       "      <td>...</td>\n",
       "      <td>...</td>\n",
       "      <td>...</td>\n",
       "      <td>...</td>\n",
       "      <td>...</td>\n",
       "      <td>...</td>\n",
       "    </tr>\n",
       "    <tr>\n",
       "      <th>239</th>\n",
       "      <td>29.03</td>\n",
       "      <td>5.92</td>\n",
       "      <td>Male</td>\n",
       "      <td>No</td>\n",
       "      <td>Sat</td>\n",
       "      <td>Dinner</td>\n",
       "      <td>3</td>\n",
       "    </tr>\n",
       "    <tr>\n",
       "      <th>240</th>\n",
       "      <td>27.18</td>\n",
       "      <td>2.00</td>\n",
       "      <td>Female</td>\n",
       "      <td>Yes</td>\n",
       "      <td>Sat</td>\n",
       "      <td>Dinner</td>\n",
       "      <td>2</td>\n",
       "    </tr>\n",
       "    <tr>\n",
       "      <th>241</th>\n",
       "      <td>22.67</td>\n",
       "      <td>2.00</td>\n",
       "      <td>Male</td>\n",
       "      <td>Yes</td>\n",
       "      <td>Sat</td>\n",
       "      <td>Dinner</td>\n",
       "      <td>2</td>\n",
       "    </tr>\n",
       "    <tr>\n",
       "      <th>242</th>\n",
       "      <td>17.82</td>\n",
       "      <td>1.75</td>\n",
       "      <td>Male</td>\n",
       "      <td>No</td>\n",
       "      <td>Sat</td>\n",
       "      <td>Dinner</td>\n",
       "      <td>2</td>\n",
       "    </tr>\n",
       "    <tr>\n",
       "      <th>243</th>\n",
       "      <td>18.78</td>\n",
       "      <td>3.00</td>\n",
       "      <td>Female</td>\n",
       "      <td>No</td>\n",
       "      <td>Thur</td>\n",
       "      <td>Dinner</td>\n",
       "      <td>2</td>\n",
       "    </tr>\n",
       "  </tbody>\n",
       "</table>\n",
       "<p>244 rows × 7 columns</p>\n",
       "</div>"
      ],
      "text/plain": [
       "     total_bill   tip     sex smoker   day    time  size\n",
       "0         16.99  1.01  Female     No   Sun  Dinner     2\n",
       "1         10.34  1.66    Male     No   Sun  Dinner     3\n",
       "2         21.01  3.50    Male     No   Sun  Dinner     3\n",
       "3         23.68  3.31    Male     No   Sun  Dinner     2\n",
       "4         24.59  3.61  Female     No   Sun  Dinner     4\n",
       "..          ...   ...     ...    ...   ...     ...   ...\n",
       "239       29.03  5.92    Male     No   Sat  Dinner     3\n",
       "240       27.18  2.00  Female    Yes   Sat  Dinner     2\n",
       "241       22.67  2.00    Male    Yes   Sat  Dinner     2\n",
       "242       17.82  1.75    Male     No   Sat  Dinner     2\n",
       "243       18.78  3.00  Female     No  Thur  Dinner     2\n",
       "\n",
       "[244 rows x 7 columns]"
      ]
     },
     "execution_count": 43,
     "metadata": {},
     "output_type": "execute_result"
    }
   ],
   "source": [
    "dataframe = px.data.tips()\n",
    "\n",
    "dataframe\n",
    "\n",
    "#<xml xmlns=\"https://developers.google.com/blockly/xml\"><variables><variable id=\"/z]X|sEpLfH7ip{3^4{[\">dataframe</variable></variables><block type=\"variables_set\" id=\"4@5zw:c510icc@f5gj0h\" x=\"-145\" y=\"54\"><field name=\"VAR\" id=\"/z]X|sEpLfH7ip{3^4{[\">dataframe</field><value name=\"VALUE\"><block type=\"dummyOutputCodeBlock\" id=\"4fAGcx?Ksz+QMQ7u0)].\"><field name=\"CODE\">px.data.tips()</field></block></value></block><block type=\"variables_get\" id=\"Ub0w4?_NjBM~szj,NjrF\" x=\"-152\" y=\"109\"><field name=\"VAR\" id=\"/z]X|sEpLfH7ip{3^4{[\">dataframe</field></block></xml>"
   ]
  },
  {
   "cell_type": "markdown",
   "metadata": {},
   "source": [
    "As you can see, the `tips` dataset contains 7 variables involved with restaurant tipping:\n",
    "\n",
    "- `total_bill`: the total bill amount\n",
    "- `tip`: the tip amount\n",
    "- `sex`: the sex of the waiter\n",
    "- `smoker`: the smoking status of the customer\n",
    "- `day`: the day of the week\n",
    "- `time`: the time of day\n",
    "- `size`: the size of the the customer party \n",
    "\n",
    "We'd like to see if there is a difference between how much men and women tip.\n",
    "\n",
    "But we have a problem: \"how much\" isn't just the `tip` amount - it should depend on the total amount too.\n",
    "\n",
    "One way to resolve this is to divide `tip` by `total_bill` to get a tip percentage, e.g. 20%.\n",
    "To do this, we use the `assign` function to create a new column called `ratio` that we've calculated this way:\n",
    "\n",
    "- Set `dataframe` to with `dataframe` do `assign` using\n",
    "    - freestyle `ratio=` followed by `dataframe[\"tip\"]` &divide; `dataframe[\"total_bill\"]`"
   ]
  },
  {
   "cell_type": "code",
   "execution_count": 44,
   "metadata": {
    "user_blocks": [
     "variables_set",
     "varDoMethod",
     "valueOutputCodeBlock",
     "math_arithmetic",
     "indexer",
     "text",
     "indexer",
     "text",
     "variables_get"
    ],
    "user_blocks_xml": "<xml xmlns=\"https://developers.google.com/blockly/xml\"><variables><variable id=\"/z]X|sEpLfH7ip{3^4{[\">dataframe</variable></variables><block type=\"variables_set\" id=\"o1ct$+ge.@t#IWxzqDuf\" x=\"-177\" y=\"104\"><field name=\"VAR\" id=\"/z]X|sEpLfH7ip{3^4{[\">dataframe</field><value name=\"VALUE\"><block type=\"varDoMethod\" id=\"{60QkieNtlIe!8pofv*j\"><mutation items=\"1\"></mutation><field name=\"VAR\" id=\"/z]X|sEpLfH7ip{3^4{[\">dataframe</field><field name=\"MEMBER\">assign</field><data>dataframe:assign</data><value name=\"ADD0\"><block type=\"valueOutputCodeBlock\" id=\"X/E.e+WlpSIe/yc:L^Bx\"><field name=\"CODE\">ratio=</field><value name=\"INPUT\"><block type=\"math_arithmetic\" id=\"(@KKNt8RN{99pjjzOzhf\"><field name=\"OP\">DIVIDE</field><value name=\"A\"><shadow type=\"math_number\" id=\"WZW,S?V3a!yHpWw}3wgh\"><field name=\"NUM\">1</field></shadow><block type=\"indexer\" id=\"U,rmi6B;8.sp]Wp]-cDs\"><field name=\"VAR\" id=\"/z]X|sEpLfH7ip{3^4{[\">dataframe</field><value name=\"INDEX\"><block type=\"text\" id=\"+CzdXBJrqJ_kB;uryeTt\"><field name=\"TEXT\">tip</field></block></value></block></value><value name=\"B\"><shadow type=\"math_number\" id=\"p3:TTG6s0VGd$!+33Tt%\"><field name=\"NUM\">1</field></shadow><block type=\"indexer\" id=\"^?_42r/5u_]V)l!tEXi^\"><field name=\"VAR\" id=\"/z]X|sEpLfH7ip{3^4{[\">dataframe</field><value name=\"INDEX\"><block type=\"text\" id=\"ODv=7HD#(EacB]av0dbv\"><field name=\"TEXT\">total_bill</field></block></value></block></value></block></value></block></value></block></value></block><block type=\"variables_get\" id=\"(6Afq^C~smg)Yqm.BpSu\" x=\"-192\" y=\"296\"><field name=\"VAR\" id=\"/z]X|sEpLfH7ip{3^4{[\">dataframe</field></block></xml>",
    "user_code_from_blocks": "dataframe = dataframe.assign(ratio= (dataframe['tip'] / dataframe['total_bill']))\n\ndataframe\n"
   },
   "outputs": [
    {
     "data": {
      "text/html": [
       "<div>\n",
       "<style scoped>\n",
       "    .dataframe tbody tr th:only-of-type {\n",
       "        vertical-align: middle;\n",
       "    }\n",
       "\n",
       "    .dataframe tbody tr th {\n",
       "        vertical-align: top;\n",
       "    }\n",
       "\n",
       "    .dataframe thead th {\n",
       "        text-align: right;\n",
       "    }\n",
       "</style>\n",
       "<table border=\"1\" class=\"dataframe\">\n",
       "  <thead>\n",
       "    <tr style=\"text-align: right;\">\n",
       "      <th></th>\n",
       "      <th>total_bill</th>\n",
       "      <th>tip</th>\n",
       "      <th>sex</th>\n",
       "      <th>smoker</th>\n",
       "      <th>day</th>\n",
       "      <th>time</th>\n",
       "      <th>size</th>\n",
       "      <th>ratio</th>\n",
       "    </tr>\n",
       "  </thead>\n",
       "  <tbody>\n",
       "    <tr>\n",
       "      <th>0</th>\n",
       "      <td>16.99</td>\n",
       "      <td>1.01</td>\n",
       "      <td>Female</td>\n",
       "      <td>No</td>\n",
       "      <td>Sun</td>\n",
       "      <td>Dinner</td>\n",
       "      <td>2</td>\n",
       "      <td>0.059447</td>\n",
       "    </tr>\n",
       "    <tr>\n",
       "      <th>1</th>\n",
       "      <td>10.34</td>\n",
       "      <td>1.66</td>\n",
       "      <td>Male</td>\n",
       "      <td>No</td>\n",
       "      <td>Sun</td>\n",
       "      <td>Dinner</td>\n",
       "      <td>3</td>\n",
       "      <td>0.160542</td>\n",
       "    </tr>\n",
       "    <tr>\n",
       "      <th>2</th>\n",
       "      <td>21.01</td>\n",
       "      <td>3.50</td>\n",
       "      <td>Male</td>\n",
       "      <td>No</td>\n",
       "      <td>Sun</td>\n",
       "      <td>Dinner</td>\n",
       "      <td>3</td>\n",
       "      <td>0.166587</td>\n",
       "    </tr>\n",
       "    <tr>\n",
       "      <th>3</th>\n",
       "      <td>23.68</td>\n",
       "      <td>3.31</td>\n",
       "      <td>Male</td>\n",
       "      <td>No</td>\n",
       "      <td>Sun</td>\n",
       "      <td>Dinner</td>\n",
       "      <td>2</td>\n",
       "      <td>0.139780</td>\n",
       "    </tr>\n",
       "    <tr>\n",
       "      <th>4</th>\n",
       "      <td>24.59</td>\n",
       "      <td>3.61</td>\n",
       "      <td>Female</td>\n",
       "      <td>No</td>\n",
       "      <td>Sun</td>\n",
       "      <td>Dinner</td>\n",
       "      <td>4</td>\n",
       "      <td>0.146808</td>\n",
       "    </tr>\n",
       "    <tr>\n",
       "      <th>...</th>\n",
       "      <td>...</td>\n",
       "      <td>...</td>\n",
       "      <td>...</td>\n",
       "      <td>...</td>\n",
       "      <td>...</td>\n",
       "      <td>...</td>\n",
       "      <td>...</td>\n",
       "      <td>...</td>\n",
       "    </tr>\n",
       "    <tr>\n",
       "      <th>239</th>\n",
       "      <td>29.03</td>\n",
       "      <td>5.92</td>\n",
       "      <td>Male</td>\n",
       "      <td>No</td>\n",
       "      <td>Sat</td>\n",
       "      <td>Dinner</td>\n",
       "      <td>3</td>\n",
       "      <td>0.203927</td>\n",
       "    </tr>\n",
       "    <tr>\n",
       "      <th>240</th>\n",
       "      <td>27.18</td>\n",
       "      <td>2.00</td>\n",
       "      <td>Female</td>\n",
       "      <td>Yes</td>\n",
       "      <td>Sat</td>\n",
       "      <td>Dinner</td>\n",
       "      <td>2</td>\n",
       "      <td>0.073584</td>\n",
       "    </tr>\n",
       "    <tr>\n",
       "      <th>241</th>\n",
       "      <td>22.67</td>\n",
       "      <td>2.00</td>\n",
       "      <td>Male</td>\n",
       "      <td>Yes</td>\n",
       "      <td>Sat</td>\n",
       "      <td>Dinner</td>\n",
       "      <td>2</td>\n",
       "      <td>0.088222</td>\n",
       "    </tr>\n",
       "    <tr>\n",
       "      <th>242</th>\n",
       "      <td>17.82</td>\n",
       "      <td>1.75</td>\n",
       "      <td>Male</td>\n",
       "      <td>No</td>\n",
       "      <td>Sat</td>\n",
       "      <td>Dinner</td>\n",
       "      <td>2</td>\n",
       "      <td>0.098204</td>\n",
       "    </tr>\n",
       "    <tr>\n",
       "      <th>243</th>\n",
       "      <td>18.78</td>\n",
       "      <td>3.00</td>\n",
       "      <td>Female</td>\n",
       "      <td>No</td>\n",
       "      <td>Thur</td>\n",
       "      <td>Dinner</td>\n",
       "      <td>2</td>\n",
       "      <td>0.159744</td>\n",
       "    </tr>\n",
       "  </tbody>\n",
       "</table>\n",
       "<p>244 rows × 8 columns</p>\n",
       "</div>"
      ],
      "text/plain": [
       "     total_bill   tip     sex smoker   day    time  size     ratio\n",
       "0         16.99  1.01  Female     No   Sun  Dinner     2  0.059447\n",
       "1         10.34  1.66    Male     No   Sun  Dinner     3  0.160542\n",
       "2         21.01  3.50    Male     No   Sun  Dinner     3  0.166587\n",
       "3         23.68  3.31    Male     No   Sun  Dinner     2  0.139780\n",
       "4         24.59  3.61  Female     No   Sun  Dinner     4  0.146808\n",
       "..          ...   ...     ...    ...   ...     ...   ...       ...\n",
       "239       29.03  5.92    Male     No   Sat  Dinner     3  0.203927\n",
       "240       27.18  2.00  Female    Yes   Sat  Dinner     2  0.073584\n",
       "241       22.67  2.00    Male    Yes   Sat  Dinner     2  0.088222\n",
       "242       17.82  1.75    Male     No   Sat  Dinner     2  0.098204\n",
       "243       18.78  3.00  Female     No  Thur  Dinner     2  0.159744\n",
       "\n",
       "[244 rows x 8 columns]"
      ]
     },
     "execution_count": 44,
     "metadata": {},
     "output_type": "execute_result"
    }
   ],
   "source": [
    "dataframe = dataframe.assign(ratio= (dataframe['tip'] / dataframe['total_bill']))\n",
    "\n",
    "dataframe\n",
    "\n",
    "#<xml xmlns=\"https://developers.google.com/blockly/xml\"><variables><variable id=\"/z]X|sEpLfH7ip{3^4{[\">dataframe</variable></variables><block type=\"variables_set\" id=\"o1ct$+ge.@t#IWxzqDuf\" x=\"-177\" y=\"104\"><field name=\"VAR\" id=\"/z]X|sEpLfH7ip{3^4{[\">dataframe</field><value name=\"VALUE\"><block type=\"varDoMethod\" id=\"{60QkieNtlIe!8pofv*j\"><mutation items=\"1\"></mutation><field name=\"VAR\" id=\"/z]X|sEpLfH7ip{3^4{[\">dataframe</field><field name=\"MEMBER\">assign</field><data>dataframe:assign</data><value name=\"ADD0\"><block type=\"valueOutputCodeBlock\" id=\"X/E.e+WlpSIe/yc:L^Bx\"><field name=\"CODE\">ratio=</field><value name=\"INPUT\"><block type=\"math_arithmetic\" id=\"(@KKNt8RN{99pjjzOzhf\"><field name=\"OP\">DIVIDE</field><value name=\"A\"><shadow type=\"math_number\" id=\"WZW,S?V3a!yHpWw}3wgh\"><field name=\"NUM\">1</field></shadow><block type=\"indexer\" id=\"U,rmi6B;8.sp]Wp]-cDs\"><field name=\"VAR\" id=\"/z]X|sEpLfH7ip{3^4{[\">dataframe</field><value name=\"INDEX\"><block type=\"text\" id=\"+CzdXBJrqJ_kB;uryeTt\"><field name=\"TEXT\">tip</field></block></value></block></value><value name=\"B\"><shadow type=\"math_number\" id=\"p3:TTG6s0VGd$!+33Tt%\"><field name=\"NUM\">1</field></shadow><block type=\"indexer\" id=\"^?_42r/5u_]V)l!tEXi^\"><field name=\"VAR\" id=\"/z]X|sEpLfH7ip{3^4{[\">dataframe</field><value name=\"INDEX\"><block type=\"text\" id=\"ODv=7HD#(EacB]av0dbv\"><field name=\"TEXT\">total_bill</field></block></value></block></value></block></value></block></value></block></value></block><block type=\"variables_get\" id=\"(6Afq^C~smg)Yqm.BpSu\" x=\"-192\" y=\"296\"><field name=\"VAR\" id=\"/z]X|sEpLfH7ip{3^4{[\">dataframe</field></block></xml>"
   ]
  },
  {
   "cell_type": "markdown",
   "metadata": {},
   "source": [
    "One way to proceed would be to see if there was a statistically significant difference between `ratio` for men and women, e.g. by using an independent samples t-test, but let's just plot to check if we can see a difference:\n",
    "\n",
    "- with `px` do `histogram` using\n",
    "    - `dataframe` \n",
    "    - freestyle `x=\"ratio\"`\n",
    "    - freestyle `color=\"sex\"`"
   ]
  },
  {
   "cell_type": "code",
   "execution_count": 45,
   "metadata": {
    "user_blocks": [
     "varDoMethod",
     "variables_get",
     "dummyOutputCodeBlock",
     "dummyOutputCodeBlock"
    ],
    "user_blocks_xml": "<xml xmlns=\"https://developers.google.com/blockly/xml\"><variables><variable id=\"zZmWV$gHDceKnNTL0qJD\">px</variable><variable id=\"/z]X|sEpLfH7ip{3^4{[\">dataframe</variable></variables><block type=\"varDoMethod\" id=\";3XBa2S8*(1iI?altE[v\" x=\"-115\" y=\"207\"><mutation items=\"3\"></mutation><field name=\"VAR\" id=\"zZmWV$gHDceKnNTL0qJD\">px</field><field name=\"MEMBER\">histogram</field><data>px:histogram</data><value name=\"ADD0\"><block type=\"variables_get\" id=\"BwJzSVtxVG};cH=9|/.*\"><field name=\"VAR\" id=\"/z]X|sEpLfH7ip{3^4{[\">dataframe</field></block></value><value name=\"ADD1\"><block type=\"dummyOutputCodeBlock\" id=\"~BA1[^jmdq+qzIO-z`s1\"><field name=\"CODE\">x=\"ratio\"</field></block></value><value name=\"ADD2\"><block type=\"dummyOutputCodeBlock\" id=\"}Ma;X*[#_wZ4ZP0pjT!w\"><field name=\"CODE\">color=\"sex\"</field></block></value></block></xml>",
    "user_code_from_blocks": "px.histogram(dataframe,x=\"ratio\",color=\"sex\")\n"
   },
   "outputs": [
    {
     "data": {
      "application/vnd.plotly.v1+json": {
       "config": {
        "plotlyServerURL": "https://plot.ly"
       },
       "data": [
        {
         "bingroup": "x",
         "hovertemplate": "sex=Female<br>ratio=%{x}<br>count=%{y}<extra></extra>",
         "legendgroup": "Female",
         "marker": {
          "color": "#636efa",
          "pattern": {
           "shape": ""
          }
         },
         "name": "Female",
         "orientation": "v",
         "showlegend": true,
         "type": "histogram",
         "x": {
          "bdata": "n+JgX81vrj9nOt3Jl8rCPzmJpQSgJsI/ZO5xxOoQyj+b10rCcLHEP2FCSIFHZso/MYAo2zNZwT9EFTURphnCP4dp7oK/isM/RkFAc31/yT+HRi7ibFC+PwpWs3b7Ncc/53pqRMkr0D+IsWIS9h7DPwpUje5zFK0/DP1+EC44wz9eMCLNztjUPx6uZQ7gfsY/kPBuxlHtvT+i0pE9A1HJP+YZKwgRHsM/VIyoJ9xCxz9OCB0v7f/CP2QhC1nIQsY/3dzc3Nzc0D+SJEmSJEnCP1MdYgOfMcw/32HacK33yD9a0nz41uSsP6aHbpwz3sM/vlGrJrP2yD9dUwIFvOPRP5Z7GmG5p8E/AKOxGBjqwz8Jg67MiOHJP+dAohU2B8I/GGRuOCqJwj/DZ151Dgu/P2Yt17QaBsA/ip3YiZ3YyT/TMZcITwrCPxbjuqV/ocE/Ha5lDuB+xj8GfP4j6d7BP2mYk6xbMME/csO8jIPhxD9WfbGXM8jGPwrqcjYpzcI/7yO3dT3IyD/c96r5hBfCP1keEZpqv8o/peARotqkyT9M4N597qjHP6LEtgEf68E/RfWgkXf+xj/GbJW4mK2yPwrwLdm7k8E/S+H1hXYKxj8zMzMzMzPDPzqKt8Aw88g/bAeNd9+Vvz87jVbQKe7FPx6saOW5dcM/OTWlXjEVyD+rqqqqqqraP1XLOtB2b8U/UqQF6OWuyD85ukvuvBLLPwpP+0gFsb0/FDuxEzuxwz/4+Xpm1THEPxQ7sRM7scM/hPMxOB+Dwz9yja6zRBrJP64ZICiyXsY/wHPYwlIdyD9NqMSM84jNP3VFXVFX1LU/j4c2ddo+uj8GbwOpm5jQP2+7aYqwB8g/LzVqpwirwz8KWPXJJF/JP1Qh+KhbqsA/L5L+6+euwD96WUuQXtayP13+ETqBcsQ/",
          "dtype": "f8"
         },
         "xaxis": "x",
         "yaxis": "y"
        },
        {
         "bingroup": "x",
         "hovertemplate": "sex=Male<br>ratio=%{x}<br>count=%{y}<extra></extra>",
         "legendgroup": "Male",
         "marker": {
          "color": "#EF553B",
          "pattern": {
           "shape": ""
          }
         },
         "name": "Male",
         "orientation": "v",
         "showlegend": true,
         "type": "histogram",
         "x": {
          "bdata": "O7XqbqCMxD/jgT7ju1LFP0U+6wZT5ME/KgVtK7PWxz/FFjp9vzDNP27btm3btr0/g5hcQUyuwD+oaSVcEvnLP1E+Av0DUMU/mhCaEJoQuj+O+19/6dXEPxEIEuxLQMc/sWL8AtEmzT9Mc37E38PEP0mSJEmSJM0/zok5J+acyD+7c8DJbYnEP67LO+BI0cA/BvKQY7glwz8YIpujYSzEP8t0ZboyXck/LOGo/j5vwz9PUhYgTnDBP+IVVLyCisc/YMoTUfEmwz8XkNb3S2S/P/rRj370o78/wH0A1oZ3xD9aNM5tFODBP5IsKN/vnsI/GZyPwfkYzD910UUXXXTBP0N5DeU1lMc/XjP9g73+xD+jzKFtOMrMP0N7Ce0ltMc/dU7jv7xhsj9KlZNUOUnFPzQ7FQSyhMk/Q17Z+qkWxD9EKefB5LvFPyimmytEDcc/SqZTlog0tD+ifr2w7grEP+lwveSl2ME/h6SIORhAxD8GrOD0i4nCPwoGVQ+J/8Y/wWzrVldQyj9ht2yL/jXDPwHN9f1lFMQ/r8e6ZHxvuT+lI3sGotLBPzU7fWp2+sQ/xpYPQHtyvj8AAAAAAADGP9PS0tLS0sI/lkLMCijfwD8AQYmh/Q/EP7fmh0XKwMM/iMb60Fgfyj+HIaXBdpXDP25YlK+kQsA/RrnXup+lwz/3j4eePQLMP2MIuYqzTc4/F9AyJ78lwj/tG4RZm4K6P2947smC68M/EgoC4NUkvj/EEkssscTCP6CmyzGS678/ebh+MOpGwj/IaI8NkdG+P1VVVVVVVbs/llFzZdRcyT/qLoIuJsjFPy2ms5jOYso/27Zt27Ztyz8g2M6E1+W6P/2a4qi8Qbs/+ShxZb6uxT/MDTEgHUvJP+tpkZO9cMY/iSp1EtcMwD8ucp0JGDzGPxrcH2qrdLg/yp2ihTMgtD8AAAAAAADAP9OKKhG/AMk/iQXxNlQTvz9yNthrYqTGP7Qfjb4/C9E//OkGJlG+xj9xW8tNUX/DP1fHoF7fUcQ/46e6TvvatD8zOL7b1+W5Pz8v1/+Skro/ILg+LJMMvz82ZU1ZU9bEP9Bu3irGRsk/Bqzg9IuJwj8eWCnZmCrCPzkUsV9Sn7s/kahIVCQqwj8gc8vKHzHJP5YZKmx0lck/UrJrEyW75j+HvWrQT4+5P1stE7mgcM4/5NRIXAszuD+Sq+UXjZ68P4ExiYP3rcE/vg89ij4+uj9iJ9OmPjC7P+U0Nrqr/84/g5AAuufBsz8n0UfOSfTRP4ltb12I8LI/VZZ9Jc3uzj8B7QoFFs+wP3OoWNAcKsY/PWkbWGR5uD/6Zg5oKQu3Py2UYHrts8A/KixFoG3hzj8YhmEYhmHIPzUeJ70awsg/EsWQ3Ozywj+wewiec13LPy9O6b1p8Mg/BP0UIkpqwD9fj6f5X9SzP7A1GeOVabU/wo/MkVgIsT8UxHVt0YLJP2+vEGUM1sc/GhgJZExIuz9BDRy35ZDAP/QFfUFf0Mc/h/Iaymsoxz+R4V4Fs6TMP7sqcObcI74/EH/9owrHwj/lsmKghDfKPzXroggPU7U/PWkbWGR5yD+sVIBq9a/SP2pdezWDeME/yOYIKvG5yD9YjWz7Dce/PxRFURRFUbQ/86bxZyk/oj+fW/dtRxrKP7H6POy8lbY/jMjyKeojuT8=",
          "dtype": "f8"
         },
         "xaxis": "x",
         "yaxis": "y"
        }
       ],
       "layout": {
        "barmode": "relative",
        "legend": {
         "title": {
          "text": "sex"
         },
         "tracegroupgap": 0
        },
        "margin": {
         "t": 60
        },
        "template": {
         "data": {
          "bar": [
           {
            "error_x": {
             "color": "#2a3f5f"
            },
            "error_y": {
             "color": "#2a3f5f"
            },
            "marker": {
             "line": {
              "color": "#E5ECF6",
              "width": 0.5
             },
             "pattern": {
              "fillmode": "overlay",
              "size": 10,
              "solidity": 0.2
             }
            },
            "type": "bar"
           }
          ],
          "barpolar": [
           {
            "marker": {
             "line": {
              "color": "#E5ECF6",
              "width": 0.5
             },
             "pattern": {
              "fillmode": "overlay",
              "size": 10,
              "solidity": 0.2
             }
            },
            "type": "barpolar"
           }
          ],
          "carpet": [
           {
            "aaxis": {
             "endlinecolor": "#2a3f5f",
             "gridcolor": "white",
             "linecolor": "white",
             "minorgridcolor": "white",
             "startlinecolor": "#2a3f5f"
            },
            "baxis": {
             "endlinecolor": "#2a3f5f",
             "gridcolor": "white",
             "linecolor": "white",
             "minorgridcolor": "white",
             "startlinecolor": "#2a3f5f"
            },
            "type": "carpet"
           }
          ],
          "choropleth": [
           {
            "colorbar": {
             "outlinewidth": 0,
             "ticks": ""
            },
            "type": "choropleth"
           }
          ],
          "contour": [
           {
            "colorbar": {
             "outlinewidth": 0,
             "ticks": ""
            },
            "colorscale": [
             [
              0,
              "#0d0887"
             ],
             [
              0.1111111111111111,
              "#46039f"
             ],
             [
              0.2222222222222222,
              "#7201a8"
             ],
             [
              0.3333333333333333,
              "#9c179e"
             ],
             [
              0.4444444444444444,
              "#bd3786"
             ],
             [
              0.5555555555555556,
              "#d8576b"
             ],
             [
              0.6666666666666666,
              "#ed7953"
             ],
             [
              0.7777777777777778,
              "#fb9f3a"
             ],
             [
              0.8888888888888888,
              "#fdca26"
             ],
             [
              1,
              "#f0f921"
             ]
            ],
            "type": "contour"
           }
          ],
          "contourcarpet": [
           {
            "colorbar": {
             "outlinewidth": 0,
             "ticks": ""
            },
            "type": "contourcarpet"
           }
          ],
          "heatmap": [
           {
            "colorbar": {
             "outlinewidth": 0,
             "ticks": ""
            },
            "colorscale": [
             [
              0,
              "#0d0887"
             ],
             [
              0.1111111111111111,
              "#46039f"
             ],
             [
              0.2222222222222222,
              "#7201a8"
             ],
             [
              0.3333333333333333,
              "#9c179e"
             ],
             [
              0.4444444444444444,
              "#bd3786"
             ],
             [
              0.5555555555555556,
              "#d8576b"
             ],
             [
              0.6666666666666666,
              "#ed7953"
             ],
             [
              0.7777777777777778,
              "#fb9f3a"
             ],
             [
              0.8888888888888888,
              "#fdca26"
             ],
             [
              1,
              "#f0f921"
             ]
            ],
            "type": "heatmap"
           }
          ],
          "histogram": [
           {
            "marker": {
             "pattern": {
              "fillmode": "overlay",
              "size": 10,
              "solidity": 0.2
             }
            },
            "type": "histogram"
           }
          ],
          "histogram2d": [
           {
            "colorbar": {
             "outlinewidth": 0,
             "ticks": ""
            },
            "colorscale": [
             [
              0,
              "#0d0887"
             ],
             [
              0.1111111111111111,
              "#46039f"
             ],
             [
              0.2222222222222222,
              "#7201a8"
             ],
             [
              0.3333333333333333,
              "#9c179e"
             ],
             [
              0.4444444444444444,
              "#bd3786"
             ],
             [
              0.5555555555555556,
              "#d8576b"
             ],
             [
              0.6666666666666666,
              "#ed7953"
             ],
             [
              0.7777777777777778,
              "#fb9f3a"
             ],
             [
              0.8888888888888888,
              "#fdca26"
             ],
             [
              1,
              "#f0f921"
             ]
            ],
            "type": "histogram2d"
           }
          ],
          "histogram2dcontour": [
           {
            "colorbar": {
             "outlinewidth": 0,
             "ticks": ""
            },
            "colorscale": [
             [
              0,
              "#0d0887"
             ],
             [
              0.1111111111111111,
              "#46039f"
             ],
             [
              0.2222222222222222,
              "#7201a8"
             ],
             [
              0.3333333333333333,
              "#9c179e"
             ],
             [
              0.4444444444444444,
              "#bd3786"
             ],
             [
              0.5555555555555556,
              "#d8576b"
             ],
             [
              0.6666666666666666,
              "#ed7953"
             ],
             [
              0.7777777777777778,
              "#fb9f3a"
             ],
             [
              0.8888888888888888,
              "#fdca26"
             ],
             [
              1,
              "#f0f921"
             ]
            ],
            "type": "histogram2dcontour"
           }
          ],
          "mesh3d": [
           {
            "colorbar": {
             "outlinewidth": 0,
             "ticks": ""
            },
            "type": "mesh3d"
           }
          ],
          "parcoords": [
           {
            "line": {
             "colorbar": {
              "outlinewidth": 0,
              "ticks": ""
             }
            },
            "type": "parcoords"
           }
          ],
          "pie": [
           {
            "automargin": true,
            "type": "pie"
           }
          ],
          "scatter": [
           {
            "fillpattern": {
             "fillmode": "overlay",
             "size": 10,
             "solidity": 0.2
            },
            "type": "scatter"
           }
          ],
          "scatter3d": [
           {
            "line": {
             "colorbar": {
              "outlinewidth": 0,
              "ticks": ""
             }
            },
            "marker": {
             "colorbar": {
              "outlinewidth": 0,
              "ticks": ""
             }
            },
            "type": "scatter3d"
           }
          ],
          "scattercarpet": [
           {
            "marker": {
             "colorbar": {
              "outlinewidth": 0,
              "ticks": ""
             }
            },
            "type": "scattercarpet"
           }
          ],
          "scattergeo": [
           {
            "marker": {
             "colorbar": {
              "outlinewidth": 0,
              "ticks": ""
             }
            },
            "type": "scattergeo"
           }
          ],
          "scattergl": [
           {
            "marker": {
             "colorbar": {
              "outlinewidth": 0,
              "ticks": ""
             }
            },
            "type": "scattergl"
           }
          ],
          "scattermap": [
           {
            "marker": {
             "colorbar": {
              "outlinewidth": 0,
              "ticks": ""
             }
            },
            "type": "scattermap"
           }
          ],
          "scattermapbox": [
           {
            "marker": {
             "colorbar": {
              "outlinewidth": 0,
              "ticks": ""
             }
            },
            "type": "scattermapbox"
           }
          ],
          "scatterpolar": [
           {
            "marker": {
             "colorbar": {
              "outlinewidth": 0,
              "ticks": ""
             }
            },
            "type": "scatterpolar"
           }
          ],
          "scatterpolargl": [
           {
            "marker": {
             "colorbar": {
              "outlinewidth": 0,
              "ticks": ""
             }
            },
            "type": "scatterpolargl"
           }
          ],
          "scatterternary": [
           {
            "marker": {
             "colorbar": {
              "outlinewidth": 0,
              "ticks": ""
             }
            },
            "type": "scatterternary"
           }
          ],
          "surface": [
           {
            "colorbar": {
             "outlinewidth": 0,
             "ticks": ""
            },
            "colorscale": [
             [
              0,
              "#0d0887"
             ],
             [
              0.1111111111111111,
              "#46039f"
             ],
             [
              0.2222222222222222,
              "#7201a8"
             ],
             [
              0.3333333333333333,
              "#9c179e"
             ],
             [
              0.4444444444444444,
              "#bd3786"
             ],
             [
              0.5555555555555556,
              "#d8576b"
             ],
             [
              0.6666666666666666,
              "#ed7953"
             ],
             [
              0.7777777777777778,
              "#fb9f3a"
             ],
             [
              0.8888888888888888,
              "#fdca26"
             ],
             [
              1,
              "#f0f921"
             ]
            ],
            "type": "surface"
           }
          ],
          "table": [
           {
            "cells": {
             "fill": {
              "color": "#EBF0F8"
             },
             "line": {
              "color": "white"
             }
            },
            "header": {
             "fill": {
              "color": "#C8D4E3"
             },
             "line": {
              "color": "white"
             }
            },
            "type": "table"
           }
          ]
         },
         "layout": {
          "annotationdefaults": {
           "arrowcolor": "#2a3f5f",
           "arrowhead": 0,
           "arrowwidth": 1
          },
          "autotypenumbers": "strict",
          "coloraxis": {
           "colorbar": {
            "outlinewidth": 0,
            "ticks": ""
           }
          },
          "colorscale": {
           "diverging": [
            [
             0,
             "#8e0152"
            ],
            [
             0.1,
             "#c51b7d"
            ],
            [
             0.2,
             "#de77ae"
            ],
            [
             0.3,
             "#f1b6da"
            ],
            [
             0.4,
             "#fde0ef"
            ],
            [
             0.5,
             "#f7f7f7"
            ],
            [
             0.6,
             "#e6f5d0"
            ],
            [
             0.7,
             "#b8e186"
            ],
            [
             0.8,
             "#7fbc41"
            ],
            [
             0.9,
             "#4d9221"
            ],
            [
             1,
             "#276419"
            ]
           ],
           "sequential": [
            [
             0,
             "#0d0887"
            ],
            [
             0.1111111111111111,
             "#46039f"
            ],
            [
             0.2222222222222222,
             "#7201a8"
            ],
            [
             0.3333333333333333,
             "#9c179e"
            ],
            [
             0.4444444444444444,
             "#bd3786"
            ],
            [
             0.5555555555555556,
             "#d8576b"
            ],
            [
             0.6666666666666666,
             "#ed7953"
            ],
            [
             0.7777777777777778,
             "#fb9f3a"
            ],
            [
             0.8888888888888888,
             "#fdca26"
            ],
            [
             1,
             "#f0f921"
            ]
           ],
           "sequentialminus": [
            [
             0,
             "#0d0887"
            ],
            [
             0.1111111111111111,
             "#46039f"
            ],
            [
             0.2222222222222222,
             "#7201a8"
            ],
            [
             0.3333333333333333,
             "#9c179e"
            ],
            [
             0.4444444444444444,
             "#bd3786"
            ],
            [
             0.5555555555555556,
             "#d8576b"
            ],
            [
             0.6666666666666666,
             "#ed7953"
            ],
            [
             0.7777777777777778,
             "#fb9f3a"
            ],
            [
             0.8888888888888888,
             "#fdca26"
            ],
            [
             1,
             "#f0f921"
            ]
           ]
          },
          "colorway": [
           "#636efa",
           "#EF553B",
           "#00cc96",
           "#ab63fa",
           "#FFA15A",
           "#19d3f3",
           "#FF6692",
           "#B6E880",
           "#FF97FF",
           "#FECB52"
          ],
          "font": {
           "color": "#2a3f5f"
          },
          "geo": {
           "bgcolor": "white",
           "lakecolor": "white",
           "landcolor": "#E5ECF6",
           "showlakes": true,
           "showland": true,
           "subunitcolor": "white"
          },
          "hoverlabel": {
           "align": "left"
          },
          "hovermode": "closest",
          "mapbox": {
           "style": "light"
          },
          "paper_bgcolor": "white",
          "plot_bgcolor": "#E5ECF6",
          "polar": {
           "angularaxis": {
            "gridcolor": "white",
            "linecolor": "white",
            "ticks": ""
           },
           "bgcolor": "#E5ECF6",
           "radialaxis": {
            "gridcolor": "white",
            "linecolor": "white",
            "ticks": ""
           }
          },
          "scene": {
           "xaxis": {
            "backgroundcolor": "#E5ECF6",
            "gridcolor": "white",
            "gridwidth": 2,
            "linecolor": "white",
            "showbackground": true,
            "ticks": "",
            "zerolinecolor": "white"
           },
           "yaxis": {
            "backgroundcolor": "#E5ECF6",
            "gridcolor": "white",
            "gridwidth": 2,
            "linecolor": "white",
            "showbackground": true,
            "ticks": "",
            "zerolinecolor": "white"
           },
           "zaxis": {
            "backgroundcolor": "#E5ECF6",
            "gridcolor": "white",
            "gridwidth": 2,
            "linecolor": "white",
            "showbackground": true,
            "ticks": "",
            "zerolinecolor": "white"
           }
          },
          "shapedefaults": {
           "line": {
            "color": "#2a3f5f"
           }
          },
          "ternary": {
           "aaxis": {
            "gridcolor": "white",
            "linecolor": "white",
            "ticks": ""
           },
           "baxis": {
            "gridcolor": "white",
            "linecolor": "white",
            "ticks": ""
           },
           "bgcolor": "#E5ECF6",
           "caxis": {
            "gridcolor": "white",
            "linecolor": "white",
            "ticks": ""
           }
          },
          "title": {
           "x": 0.05
          },
          "xaxis": {
           "automargin": true,
           "gridcolor": "white",
           "linecolor": "white",
           "ticks": "",
           "title": {
            "standoff": 15
           },
           "zerolinecolor": "white",
           "zerolinewidth": 2
          },
          "yaxis": {
           "automargin": true,
           "gridcolor": "white",
           "linecolor": "white",
           "ticks": "",
           "title": {
            "standoff": 15
           },
           "zerolinecolor": "white",
           "zerolinewidth": 2
          }
         }
        },
        "xaxis": {
         "anchor": "y",
         "domain": [
          0,
          1
         ],
         "title": {
          "text": "ratio"
         }
        },
        "yaxis": {
         "anchor": "x",
         "domain": [
          0,
          1
         ],
         "title": {
          "text": "count"
         }
        }
       }
      },
      "image/png": "[encoded data removed]"
     },
     "metadata": {},
     "output_type": "display_data"
    }
   ],
   "source": [
    "px.histogram(dataframe,x=\"ratio\",color=\"sex\")\n",
    "\n",
    "#<xml xmlns=\"https://developers.google.com/blockly/xml\"><variables><variable id=\"zZmWV$gHDceKnNTL0qJD\">px</variable><variable id=\"/z]X|sEpLfH7ip{3^4{[\">dataframe</variable></variables><block type=\"varDoMethod\" id=\";3XBa2S8*(1iI?altE[v\" x=\"-115\" y=\"207\"><mutation items=\"3\"></mutation><field name=\"VAR\" id=\"zZmWV$gHDceKnNTL0qJD\">px</field><field name=\"MEMBER\">histogram</field><data>px:histogram</data><value name=\"ADD0\"><block type=\"variables_get\" id=\"BwJzSVtxVG};cH=9|/.*\"><field name=\"VAR\" id=\"/z]X|sEpLfH7ip{3^4{[\">dataframe</field></block></value><value name=\"ADD1\"><block type=\"dummyOutputCodeBlock\" id=\"~BA1[^jmdq+qzIO-z`s1\"><field name=\"CODE\">x=\"ratio\"</field></block></value><value name=\"ADD2\"><block type=\"dummyOutputCodeBlock\" id=\"}Ma;X*[#_wZ4ZP0pjT!w\"><field name=\"CODE\">color=\"sex\"</field></block></value></block></xml>"
   ]
  },
  {
   "cell_type": "markdown",
   "metadata": {},
   "source": [
    "Is there a difference? \n",
    "Visually, no, there isn't - the distributions for men and women are centered on the same tip ratio and have the same shape.\n",
    "Remember that the y-axis is count, so differences in height only show how many men vs. women were present in the data, not how they tipped.\n",
    "\n",
    "It's pretty common to create variables to answer your data science questions!"
   ]
  },
  {
   "attachments": {
    "image.png": {
     "image/png": "[encoded data removed]"
    }
   },
   "cell_type": "markdown",
   "metadata": {},
   "source": [
    "## Versioning\n",
    "\n",
    "Versioning is a separate topic from data cleaning, but it is also closely related.\n",
    "\n",
    "As you've probably already figured out, how you clean/preprocess your data can have profound implications for your later modeling work.\n",
    "\n",
    "Therefore it is very important to transparently document each step of cleaning/preprocessing.\n",
    "\n",
    "One way to do this is with a Jupyter notebook, like we've been doing, but another way is to incrementally save different versions of your work.\n",
    "This is helpful if you want to try out one approach without \"junking up\" your existing notebook.\n",
    "\n",
    "The standard for version control in modern software engineering is something called `git`, which is British slang for an unpleasant person.\n",
    "`git` allows you to save **snapshots** of your work that you can restore at any point. \n",
    "It also allows you to create different versions of your workspace, so you can try different things out, using something called **branches**.\n",
    "\n",
    "`git` can be used in several different ways.\n",
    "The most advanced way, which you will often see described online, is from the terminal.\n",
    "In Juptyer, we can access the terminal from the Launcher or File->New.\n",
    "Here is an example command `git status`, from the terminal:\n",
    "\n",
    "![image.png](attachment:image.png)"
   ]
  },
  {
   "attachments": {
    "image.png": {
     "image/png": "[encoded data removed]"
    }
   },
   "cell_type": "markdown",
   "metadata": {},
   "source": [
    "If you find this cryptic, you're not alone.\n",
    "There are [many tutorials](https://www.atlassian.com/git/tutorials) available for using `git` this way.\n",
    "\n",
    "Fortunately, there are ways to integrate `git` with Jupyter's web interface.\n",
    "Look on the left hand side for this `git` icon, and press it:\n",
    "\n",
    "![image.png](attachment:image.png)"
   ]
  },
  {
   "attachments": {
    "image.png": {
     "image/png": "[encoded data removed]"
    }
   },
   "cell_type": "markdown",
   "metadata": {},
   "source": [
    "The pop out menu shows what `git` knows about your working folder and files, and it allows you to save a snapshot with a **commit**:\n",
    "\n",
    "![image.png](attachment:image.png)"
   ]
  },
  {
   "attachments": {
    "image.png": {
     "image/png": "[encoded data removed]"
    }
   },
   "cell_type": "markdown",
   "metadata": {},
   "source": [
    "A commit will save a snapshot of all changes that have been *staged*.\n",
    "\n",
    "`git` will keep track of any file that you previously committed, so if you've changed that file, it will show in *changed*.\n",
    "\n",
    "Any file that exists but is not being tracked appears in *untracked*.\n",
    "\n",
    "You can move a file between these categories by pressing the +/- button that appears when you mouse over them:\n",
    "\n",
    "![image.png](attachment:image.png)"
   ]
  },
  {
   "attachments": {
    "image.png": {
     "image/png": "[encoded data removed]"
    }
   },
   "cell_type": "markdown",
   "metadata": {
    "jp-MarkdownHeadingCollapsed": true
   },
   "source": [
    "Once you are ready to commit, you type a little message describing what you're saving and then press the commit button.\n",
    "\n",
    "To see your previous snapshots, press the *History* tab:\n",
    "\n",
    "![image.png](attachment:image.png)\n",
    "\n",
    "### Summing up\n",
    "\n",
    "Versioning is very powerful and useful for trying things out and undoing mistakes.\n",
    "`git` gives you sophisticated tools for doing this, and is a good alternative to making lots of copies of the same notebook that are just slightly different from each other."
   ]
  },
  {
   "cell_type": "markdown",
   "metadata": {},
   "source": [
    "## Check your knowledge\n",
    "\n",
    "**Hover to see the correct answer.**"
   ]
  },
  {
   "cell_type": "markdown",
   "metadata": {},
   "source": [
    "1.  Which of the following is **not** recognized by default as `NaN` by `pandas` when reading a CSV file?\n",
    "- `<NA>`\n",
    "- null\n",
    "- <div title=\"Correct answer\">?</div>\n",
    "- NaN\n",
    "\n",
    "2.  When dealing with missing data, if you want to replace `NaN` values with a central tendency measure from each column, which `pandas` function is most suitable?\n",
    "- dropna()\n",
    "- replace()\n",
    "- <div title=\"Correct answer\">fillna(dataframe.median())</div>\n",
    "- fill_missing()\n",
    "\n",
    "3.  What is a common reason for transforming data, especially for models sensitive to variable scales?\n",
    "- To make the data normally distribute-\n",
    "- To reduce the number of variables.\n",
    "- <div title=\"Correct answer\"> To put all variables on a common scale.</div>\n",
    "- To identify missing values.\n",
    "\n",
    "4.  In the context of outliers, what does the Interquartile Range (IQR) method use to define outliers in a boxplot?\n",
    "- Values within three standard deviations of the mean.\n",
    "- <div title=\"Correct answer\"> Values outside 1.5 times the IQR from the 25th and 75th percentiles.</div>\n",
    "- Values above the 99th percentile.\n",
    "- Values below the 1st percentile.\n",
    "\n",
    "5.  When using `StandardScaler` from `sklearn.preprocessing`, what are the typical mean and standard deviation of the transformed data?\n",
    "- Mean of 1, Standard Deviation of 0\n",
    "- <div title=\"Correct answer\"> Mean of 0, Standard Deviation of 1</div>\n",
    "- Mean of 100, Standard Deviation of 10\n",
    "- Mean and Standard Deviation vary with the original dat-\n",
    "\n",
    "6.  If a variable's distribution has a strong \"tail to the right\" (right-skewed), which type of transformation is generally recommended to improve its shape?\n",
    "- Power transformation\n",
    "- <div title=\"Correct answer\"> Log or root-type transformation</div>\n",
    "- Inverse transformation\n",
    "- No transformation is neede-\n",
    "\n",
    "7.  To create a new variable in a `pandas` DataFrame based on calculations from existing columns, which function is used in the notebook example?\n",
    "- create_column()\n",
    "- new_variable()\n",
    "- <div title=\"Correct answer\">assign()</div>\n",
    "- add_column()\n",
    "\n",
    "8.  What is the primary benefit of using `git` for versioning in data science projects, as described in the notebook?\n",
    "- To automatically clean missing dat-\n",
    "- To simplify data visualization.\n",
    "- <div title=\"Correct answer\"> To save snapshots of your work and track changes.</div>\n",
    "- To run machine learning models faster."
   ]
  },
  {
   "cell_type": "markdown",
   "metadata": {},
   "source": [
    "<!--  -->"
   ]
  }
 ],
 "metadata": {
  "kernelspec": {
   "display_name": "Python 3 (ipykernel)",
   "language": "python",
   "name": "python3"
  },
  "language_info": {
   "codemirror_mode": {
    "name": "ipython",
    "version": 3
   },
   "file_extension": ".py",
   "mimetype": "text/x-python",
   "name": "python",
   "nbconvert_exporter": "python",
   "pygments_lexer": "ipython3",
   "version": "3.12.6"
  }
 },
 "nbformat": 4,
 "nbformat_minor": 4
}
