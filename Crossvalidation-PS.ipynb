{
 "cells": [
  {
   "cell_type": "markdown",
   "metadata": {
    "deletable": false,
    "editable": false
   },
   "source": [
    "Copyright 2020 Andrew M. Olney and made available under [CC BY-SA](https://creativecommons.org/licenses/by-sa/4.0) for text and [Apache-2.0](http://www.apache.org/licenses/LICENSE-2.0) for code."
   ]
  },
  {
   "cell_type": "markdown",
   "metadata": {},
   "source": [
    "# Crossvalidation and Nested crossvalidation: Problem solving\n",
    "\n",
    "In this session, you will apply nested crossvalidation to logistic lasso regression, to find the optimal regularization parameter (or penalty term) for predicting breast cancer.\n",
    "\n",
    "The [data](https://scikit-learn.org/stable/datasets/index.html#breast-cancer-dataset) consists of the following variables as mean, standard error, and \"worst\" (mean of three largest variables) collected by digital imagery of a biopsy.\n",
    "\n",
    "| Variable | Type | Description |\n",
    "|:-------|:-------|:-------|\n",
    "|radius | Ratio | mean of distances from center to points on the perimeter|\n",
    "|texture | Ratio | standard deviation of gray-scale values|\n",
    "|perimeter | Ratio | perimeter of cancer|\n",
    "|area | Ratio | area of cancer|\n",
    "|smoothness | Ratio | local variation in radius lengths|\n",
    "|compactness | Ratio |  perimeter^2 / area - 1.0|\n",
    "|concavity | Ratio |  severity of concave portions of the contour|\n",
    "|concave points | Ratio |  number of concave portions of the contour|\n",
    "|symmetry | Ratio | symmetry of cancer|\n",
    "|fractal dimension | Ratio | \"coastline approximation\" - 1|\n",
    "\n",
    "<div style=\"text-align:center;font-size: smaller\">\n",
    "    <b>Source:</b> This dataset was taken from the <a href=\"https://archive.ics.uci.edu/ml/datasets/Breast+Cancer+Wisconsin+(Diagnostic)\">UCI Machine Learning Repository library\n",
    "    </a>\n",
    "</div>\n",
    "<br>\n",
    "\n",
    "\n",
    "In addition to these predictors is the class label:\n",
    "\n",
    "| Variable | Type | Description |\n",
    "|:-------|:-------|:-------|\n",
    "| Target | Nominal (binary) | malignant (1) or benign (0)\n",
    "\n",
    "\n",
    "The goal is to predict `Target`, i.e. the presence of breast cancer."
   ]
  },
  {
   "cell_type": "markdown",
   "metadata": {},
   "source": [
    "### Load data\n",
    "\n",
    "Import `pandas` so we can load a dataframe."
   ]
  },
  {
   "cell_type": "code",
   "execution_count": 16,
   "metadata": {
    "user_blocks": [
     "importAs"
    ],
    "user_blocks_xml": "<xml xmlns=\"https://developers.google.com/blockly/xml\"><variables><variable id=\"A]5Vf/x,=8dk=KKk3OrJ\">pd</variable></variables><block type=\"importAs\" id=\"G*NhDz5Jo?CcaJf3rUv}\" x=\"150\" y=\"308\"><field name=\"libraryName\">pandas</field><field name=\"VAR\" id=\"A]5Vf/x,=8dk=KKk3OrJ\">pd</field></block></xml>",
    "user_code_from_blocks": "import pandas as pd\n"
   },
   "outputs": [],
   "source": [
    "import pandas as pd\n",
    "\n",
    "#<xml xmlns=\"https://developers.google.com/blockly/xml\"><variables><variable id=\"A]5Vf/x,=8dk=KKk3OrJ\">pd</variable></variables><block type=\"importAs\" id=\"G*NhDz5Jo?CcaJf3rUv}\" x=\"150\" y=\"308\"><field name=\"libraryName\">pandas</field><field name=\"VAR\" id=\"A]5Vf/x,=8dk=KKk3OrJ\">pd</field></block></xml>"
   ]
  },
  {
   "cell_type": "markdown",
   "metadata": {},
   "source": [
    "Load the dataframe with `datasets/cancer.csv`."
   ]
  },
  {
   "cell_type": "code",
   "execution_count": 17,
   "metadata": {
    "user_blocks": [
     "variables_set",
     "varDoMethod",
     "text",
     "variables_get"
    ],
    "user_blocks_xml": "<xml xmlns=\"https://developers.google.com/blockly/xml\"><variables><variable id=\"Y+grzOaS*0=OHV6zO8m/\">dataframe</variable><variable id=\"A]5Vf/x,=8dk=KKk3OrJ\">pd</variable></variables><block type=\"variables_set\" id=\"^p6DH/6N@h{Uka=BzJ_j\" x=\"9\" y=\"196\"><field name=\"VAR\" id=\"Y+grzOaS*0=OHV6zO8m/\">dataframe</field><value name=\"VALUE\"><block type=\"varDoMethod\" id=\"69MJvg`#}wvn~s)@r$Oy\"><mutation items=\"1\"></mutation><field name=\"VAR\" id=\"A]5Vf/x,=8dk=KKk3OrJ\">pd</field><field name=\"MEMBER\">read_csv</field><data>pd:read_csv</data><value name=\"ADD0\"><block type=\"text\" id=\"h]qBQ;Jd,%5[VFJ{5Qrg\"><field name=\"TEXT\">datasets/cancer.csv</field></block></value></block></value></block><block type=\"variables_get\" id=\"cecq@1cDqS`l`^:tG5pI\" x=\"8\" y=\"296\"><field name=\"VAR\" id=\"Y+grzOaS*0=OHV6zO8m/\">dataframe</field></block></xml>",
    "user_code_from_blocks": "dataframe = pd.read_csv('datasets/cancer.csv')\n\ndataframe\n"
   },
   "outputs": [
    {
     "data": {
      "text/html": [
       "<div>\n",
       "<style scoped>\n",
       "    .dataframe tbody tr th:only-of-type {\n",
       "        vertical-align: middle;\n",
       "    }\n",
       "\n",
       "    .dataframe tbody tr th {\n",
       "        vertical-align: top;\n",
       "    }\n",
       "\n",
       "    .dataframe thead th {\n",
       "        text-align: right;\n",
       "    }\n",
       "</style>\n",
       "<table border=\"1\" class=\"dataframe\">\n",
       "  <thead>\n",
       "    <tr style=\"text-align: right;\">\n",
       "      <th></th>\n",
       "      <th>mean radius</th>\n",
       "      <th>mean texture</th>\n",
       "      <th>mean perimeter</th>\n",
       "      <th>mean area</th>\n",
       "      <th>mean smoothness</th>\n",
       "      <th>mean compactness</th>\n",
       "      <th>mean concavity</th>\n",
       "      <th>mean concave points</th>\n",
       "      <th>mean symmetry</th>\n",
       "      <th>mean fractal dimension</th>\n",
       "      <th>...</th>\n",
       "      <th>worst texture</th>\n",
       "      <th>worst perimeter</th>\n",
       "      <th>worst area</th>\n",
       "      <th>worst smoothness</th>\n",
       "      <th>worst compactness</th>\n",
       "      <th>worst concavity</th>\n",
       "      <th>worst concave points</th>\n",
       "      <th>worst symmetry</th>\n",
       "      <th>worst fractal dimension</th>\n",
       "      <th>Target</th>\n",
       "    </tr>\n",
       "  </thead>\n",
       "  <tbody>\n",
       "    <tr>\n",
       "      <th>0</th>\n",
       "      <td>17.99</td>\n",
       "      <td>10.38</td>\n",
       "      <td>122.80</td>\n",
       "      <td>1001.0</td>\n",
       "      <td>0.11840</td>\n",
       "      <td>0.27760</td>\n",
       "      <td>0.30010</td>\n",
       "      <td>0.14710</td>\n",
       "      <td>0.2419</td>\n",
       "      <td>0.07871</td>\n",
       "      <td>...</td>\n",
       "      <td>17.33</td>\n",
       "      <td>184.60</td>\n",
       "      <td>2019.0</td>\n",
       "      <td>0.16220</td>\n",
       "      <td>0.66560</td>\n",
       "      <td>0.7119</td>\n",
       "      <td>0.2654</td>\n",
       "      <td>0.4601</td>\n",
       "      <td>0.11890</td>\n",
       "      <td>0</td>\n",
       "    </tr>\n",
       "    <tr>\n",
       "      <th>1</th>\n",
       "      <td>20.57</td>\n",
       "      <td>17.77</td>\n",
       "      <td>132.90</td>\n",
       "      <td>1326.0</td>\n",
       "      <td>0.08474</td>\n",
       "      <td>0.07864</td>\n",
       "      <td>0.08690</td>\n",
       "      <td>0.07017</td>\n",
       "      <td>0.1812</td>\n",
       "      <td>0.05667</td>\n",
       "      <td>...</td>\n",
       "      <td>23.41</td>\n",
       "      <td>158.80</td>\n",
       "      <td>1956.0</td>\n",
       "      <td>0.12380</td>\n",
       "      <td>0.18660</td>\n",
       "      <td>0.2416</td>\n",
       "      <td>0.1860</td>\n",
       "      <td>0.2750</td>\n",
       "      <td>0.08902</td>\n",
       "      <td>0</td>\n",
       "    </tr>\n",
       "    <tr>\n",
       "      <th>2</th>\n",
       "      <td>19.69</td>\n",
       "      <td>21.25</td>\n",
       "      <td>130.00</td>\n",
       "      <td>1203.0</td>\n",
       "      <td>0.10960</td>\n",
       "      <td>0.15990</td>\n",
       "      <td>0.19740</td>\n",
       "      <td>0.12790</td>\n",
       "      <td>0.2069</td>\n",
       "      <td>0.05999</td>\n",
       "      <td>...</td>\n",
       "      <td>25.53</td>\n",
       "      <td>152.50</td>\n",
       "      <td>1709.0</td>\n",
       "      <td>0.14440</td>\n",
       "      <td>0.42450</td>\n",
       "      <td>0.4504</td>\n",
       "      <td>0.2430</td>\n",
       "      <td>0.3613</td>\n",
       "      <td>0.08758</td>\n",
       "      <td>0</td>\n",
       "    </tr>\n",
       "    <tr>\n",
       "      <th>3</th>\n",
       "      <td>11.42</td>\n",
       "      <td>20.38</td>\n",
       "      <td>77.58</td>\n",
       "      <td>386.1</td>\n",
       "      <td>0.14250</td>\n",
       "      <td>0.28390</td>\n",
       "      <td>0.24140</td>\n",
       "      <td>0.10520</td>\n",
       "      <td>0.2597</td>\n",
       "      <td>0.09744</td>\n",
       "      <td>...</td>\n",
       "      <td>26.50</td>\n",
       "      <td>98.87</td>\n",
       "      <td>567.7</td>\n",
       "      <td>0.20980</td>\n",
       "      <td>0.86630</td>\n",
       "      <td>0.6869</td>\n",
       "      <td>0.2575</td>\n",
       "      <td>0.6638</td>\n",
       "      <td>0.17300</td>\n",
       "      <td>0</td>\n",
       "    </tr>\n",
       "    <tr>\n",
       "      <th>4</th>\n",
       "      <td>20.29</td>\n",
       "      <td>14.34</td>\n",
       "      <td>135.10</td>\n",
       "      <td>1297.0</td>\n",
       "      <td>0.10030</td>\n",
       "      <td>0.13280</td>\n",
       "      <td>0.19800</td>\n",
       "      <td>0.10430</td>\n",
       "      <td>0.1809</td>\n",
       "      <td>0.05883</td>\n",
       "      <td>...</td>\n",
       "      <td>16.67</td>\n",
       "      <td>152.20</td>\n",
       "      <td>1575.0</td>\n",
       "      <td>0.13740</td>\n",
       "      <td>0.20500</td>\n",
       "      <td>0.4000</td>\n",
       "      <td>0.1625</td>\n",
       "      <td>0.2364</td>\n",
       "      <td>0.07678</td>\n",
       "      <td>0</td>\n",
       "    </tr>\n",
       "    <tr>\n",
       "      <th>...</th>\n",
       "      <td>...</td>\n",
       "      <td>...</td>\n",
       "      <td>...</td>\n",
       "      <td>...</td>\n",
       "      <td>...</td>\n",
       "      <td>...</td>\n",
       "      <td>...</td>\n",
       "      <td>...</td>\n",
       "      <td>...</td>\n",
       "      <td>...</td>\n",
       "      <td>...</td>\n",
       "      <td>...</td>\n",
       "      <td>...</td>\n",
       "      <td>...</td>\n",
       "      <td>...</td>\n",
       "      <td>...</td>\n",
       "      <td>...</td>\n",
       "      <td>...</td>\n",
       "      <td>...</td>\n",
       "      <td>...</td>\n",
       "      <td>...</td>\n",
       "    </tr>\n",
       "    <tr>\n",
       "      <th>564</th>\n",
       "      <td>21.56</td>\n",
       "      <td>22.39</td>\n",
       "      <td>142.00</td>\n",
       "      <td>1479.0</td>\n",
       "      <td>0.11100</td>\n",
       "      <td>0.11590</td>\n",
       "      <td>0.24390</td>\n",
       "      <td>0.13890</td>\n",
       "      <td>0.1726</td>\n",
       "      <td>0.05623</td>\n",
       "      <td>...</td>\n",
       "      <td>26.40</td>\n",
       "      <td>166.10</td>\n",
       "      <td>2027.0</td>\n",
       "      <td>0.14100</td>\n",
       "      <td>0.21130</td>\n",
       "      <td>0.4107</td>\n",
       "      <td>0.2216</td>\n",
       "      <td>0.2060</td>\n",
       "      <td>0.07115</td>\n",
       "      <td>0</td>\n",
       "    </tr>\n",
       "    <tr>\n",
       "      <th>565</th>\n",
       "      <td>20.13</td>\n",
       "      <td>28.25</td>\n",
       "      <td>131.20</td>\n",
       "      <td>1261.0</td>\n",
       "      <td>0.09780</td>\n",
       "      <td>0.10340</td>\n",
       "      <td>0.14400</td>\n",
       "      <td>0.09791</td>\n",
       "      <td>0.1752</td>\n",
       "      <td>0.05533</td>\n",
       "      <td>...</td>\n",
       "      <td>38.25</td>\n",
       "      <td>155.00</td>\n",
       "      <td>1731.0</td>\n",
       "      <td>0.11660</td>\n",
       "      <td>0.19220</td>\n",
       "      <td>0.3215</td>\n",
       "      <td>0.1628</td>\n",
       "      <td>0.2572</td>\n",
       "      <td>0.06637</td>\n",
       "      <td>0</td>\n",
       "    </tr>\n",
       "    <tr>\n",
       "      <th>566</th>\n",
       "      <td>16.60</td>\n",
       "      <td>28.08</td>\n",
       "      <td>108.30</td>\n",
       "      <td>858.1</td>\n",
       "      <td>0.08455</td>\n",
       "      <td>0.10230</td>\n",
       "      <td>0.09251</td>\n",
       "      <td>0.05302</td>\n",
       "      <td>0.1590</td>\n",
       "      <td>0.05648</td>\n",
       "      <td>...</td>\n",
       "      <td>34.12</td>\n",
       "      <td>126.70</td>\n",
       "      <td>1124.0</td>\n",
       "      <td>0.11390</td>\n",
       "      <td>0.30940</td>\n",
       "      <td>0.3403</td>\n",
       "      <td>0.1418</td>\n",
       "      <td>0.2218</td>\n",
       "      <td>0.07820</td>\n",
       "      <td>0</td>\n",
       "    </tr>\n",
       "    <tr>\n",
       "      <th>567</th>\n",
       "      <td>20.60</td>\n",
       "      <td>29.33</td>\n",
       "      <td>140.10</td>\n",
       "      <td>1265.0</td>\n",
       "      <td>0.11780</td>\n",
       "      <td>0.27700</td>\n",
       "      <td>0.35140</td>\n",
       "      <td>0.15200</td>\n",
       "      <td>0.2397</td>\n",
       "      <td>0.07016</td>\n",
       "      <td>...</td>\n",
       "      <td>39.42</td>\n",
       "      <td>184.60</td>\n",
       "      <td>1821.0</td>\n",
       "      <td>0.16500</td>\n",
       "      <td>0.86810</td>\n",
       "      <td>0.9387</td>\n",
       "      <td>0.2650</td>\n",
       "      <td>0.4087</td>\n",
       "      <td>0.12400</td>\n",
       "      <td>0</td>\n",
       "    </tr>\n",
       "    <tr>\n",
       "      <th>568</th>\n",
       "      <td>7.76</td>\n",
       "      <td>24.54</td>\n",
       "      <td>47.92</td>\n",
       "      <td>181.0</td>\n",
       "      <td>0.05263</td>\n",
       "      <td>0.04362</td>\n",
       "      <td>NaN</td>\n",
       "      <td>NaN</td>\n",
       "      <td>0.1587</td>\n",
       "      <td>0.05884</td>\n",
       "      <td>...</td>\n",
       "      <td>30.37</td>\n",
       "      <td>59.16</td>\n",
       "      <td>268.6</td>\n",
       "      <td>0.08996</td>\n",
       "      <td>0.06444</td>\n",
       "      <td>NaN</td>\n",
       "      <td>NaN</td>\n",
       "      <td>0.2871</td>\n",
       "      <td>0.07039</td>\n",
       "      <td>1</td>\n",
       "    </tr>\n",
       "  </tbody>\n",
       "</table>\n",
       "<p>569 rows × 31 columns</p>\n",
       "</div>"
      ],
      "text/plain": [
       "     mean radius  mean texture  mean perimeter  mean area  mean smoothness  \\\n",
       "0          17.99         10.38          122.80     1001.0          0.11840   \n",
       "1          20.57         17.77          132.90     1326.0          0.08474   \n",
       "2          19.69         21.25          130.00     1203.0          0.10960   \n",
       "3          11.42         20.38           77.58      386.1          0.14250   \n",
       "4          20.29         14.34          135.10     1297.0          0.10030   \n",
       "..           ...           ...             ...        ...              ...   \n",
       "564        21.56         22.39          142.00     1479.0          0.11100   \n",
       "565        20.13         28.25          131.20     1261.0          0.09780   \n",
       "566        16.60         28.08          108.30      858.1          0.08455   \n",
       "567        20.60         29.33          140.10     1265.0          0.11780   \n",
       "568         7.76         24.54           47.92      181.0          0.05263   \n",
       "\n",
       "     mean compactness  mean concavity  mean concave points  mean symmetry  \\\n",
       "0             0.27760         0.30010              0.14710         0.2419   \n",
       "1             0.07864         0.08690              0.07017         0.1812   \n",
       "2             0.15990         0.19740              0.12790         0.2069   \n",
       "3             0.28390         0.24140              0.10520         0.2597   \n",
       "4             0.13280         0.19800              0.10430         0.1809   \n",
       "..                ...             ...                  ...            ...   \n",
       "564           0.11590         0.24390              0.13890         0.1726   \n",
       "565           0.10340         0.14400              0.09791         0.1752   \n",
       "566           0.10230         0.09251              0.05302         0.1590   \n",
       "567           0.27700         0.35140              0.15200         0.2397   \n",
       "568           0.04362             NaN                  NaN         0.1587   \n",
       "\n",
       "     mean fractal dimension  ...  worst texture  worst perimeter  worst area  \\\n",
       "0                   0.07871  ...          17.33           184.60      2019.0   \n",
       "1                   0.05667  ...          23.41           158.80      1956.0   \n",
       "2                   0.05999  ...          25.53           152.50      1709.0   \n",
       "3                   0.09744  ...          26.50            98.87       567.7   \n",
       "4                   0.05883  ...          16.67           152.20      1575.0   \n",
       "..                      ...  ...            ...              ...         ...   \n",
       "564                 0.05623  ...          26.40           166.10      2027.0   \n",
       "565                 0.05533  ...          38.25           155.00      1731.0   \n",
       "566                 0.05648  ...          34.12           126.70      1124.0   \n",
       "567                 0.07016  ...          39.42           184.60      1821.0   \n",
       "568                 0.05884  ...          30.37            59.16       268.6   \n",
       "\n",
       "     worst smoothness  worst compactness  worst concavity  \\\n",
       "0             0.16220            0.66560           0.7119   \n",
       "1             0.12380            0.18660           0.2416   \n",
       "2             0.14440            0.42450           0.4504   \n",
       "3             0.20980            0.86630           0.6869   \n",
       "4             0.13740            0.20500           0.4000   \n",
       "..                ...                ...              ...   \n",
       "564           0.14100            0.21130           0.4107   \n",
       "565           0.11660            0.19220           0.3215   \n",
       "566           0.11390            0.30940           0.3403   \n",
       "567           0.16500            0.86810           0.9387   \n",
       "568           0.08996            0.06444              NaN   \n",
       "\n",
       "     worst concave points  worst symmetry  worst fractal dimension  Target  \n",
       "0                  0.2654          0.4601                  0.11890       0  \n",
       "1                  0.1860          0.2750                  0.08902       0  \n",
       "2                  0.2430          0.3613                  0.08758       0  \n",
       "3                  0.2575          0.6638                  0.17300       0  \n",
       "4                  0.1625          0.2364                  0.07678       0  \n",
       "..                    ...             ...                      ...     ...  \n",
       "564                0.2216          0.2060                  0.07115       0  \n",
       "565                0.1628          0.2572                  0.06637       0  \n",
       "566                0.1418          0.2218                  0.07820       0  \n",
       "567                0.2650          0.4087                  0.12400       0  \n",
       "568                   NaN          0.2871                  0.07039       1  \n",
       "\n",
       "[569 rows x 31 columns]"
      ]
     },
     "execution_count": 17,
     "metadata": {},
     "output_type": "execute_result"
    }
   ],
   "source": [
    "dataframe = pd.read_csv('datasets/cancer.csv')\n",
    "\n",
    "dataframe\n",
    "\n",
    "#<xml xmlns=\"https://developers.google.com/blockly/xml\"><variables><variable id=\"Y+grzOaS*0=OHV6zO8m/\">dataframe</variable><variable id=\"A]5Vf/x,=8dk=KKk3OrJ\">pd</variable></variables><block type=\"variables_set\" id=\"^p6DH/6N@h{Uka=BzJ_j\" x=\"9\" y=\"196\"><field name=\"VAR\" id=\"Y+grzOaS*0=OHV6zO8m/\">dataframe</field><value name=\"VALUE\"><block type=\"varDoMethod\" id=\"69MJvg`#}wvn~s)@r$Oy\"><mutation items=\"1\"></mutation><field name=\"VAR\" id=\"A]5Vf/x,=8dk=KKk3OrJ\">pd</field><field name=\"MEMBER\">read_csv</field><data>pd:read_csv</data><value name=\"ADD0\"><block type=\"text\" id=\"h]qBQ;Jd,%5[VFJ{5Qrg\"><field name=\"TEXT\">datasets/cancer.csv</field></block></value></block></value></block><block type=\"variables_get\" id=\"cecq@1cDqS`l`^:tG5pI\" x=\"8\" y=\"296\"><field name=\"VAR\" id=\"Y+grzOaS*0=OHV6zO8m/\">dataframe</field></block></xml>"
   ]
  },
  {
   "cell_type": "markdown",
   "metadata": {},
   "source": [
    "## Explore data"
   ]
  },
  {
   "cell_type": "markdown",
   "metadata": {},
   "source": [
    "Since there are clearly some NaN, `dropna` and store the results back into your dataframe."
   ]
  },
  {
   "cell_type": "code",
   "execution_count": 18,
   "metadata": {
    "user_blocks": [
     "variables_set",
     "varDoMethod",
     "variables_get"
    ],
    "user_blocks_xml": "<xml xmlns=\"https://developers.google.com/blockly/xml\"><variables><variable id=\"Y+grzOaS*0=OHV6zO8m/\">dataframe</variable></variables><block type=\"variables_set\" id=\"FJGldw(qFp?V=E]uaN)4\" x=\"31\" y=\"222\"><field name=\"VAR\" id=\"Y+grzOaS*0=OHV6zO8m/\">dataframe</field><value name=\"VALUE\"><block type=\"varDoMethod\" id=\"4s18v%0iqE%_l@{fLYCo\"><mutation items=\"1\"></mutation><field name=\"VAR\" id=\"Y+grzOaS*0=OHV6zO8m/\">dataframe</field><field name=\"MEMBER\">dropna</field><data>dataframe:dropna</data></block></value></block><block type=\"variables_get\" id=\"yN6MT1B[)Pk)cEECN_YZ\" x=\"31\" y=\"286\"><field name=\"VAR\" id=\"Y+grzOaS*0=OHV6zO8m/\">dataframe</field></block></xml>",
    "user_code_from_blocks": "dataframe = dataframe.dropna()\n\ndataframe\n"
   },
   "outputs": [
    {
     "data": {
      "text/html": [
       "<div>\n",
       "<style scoped>\n",
       "    .dataframe tbody tr th:only-of-type {\n",
       "        vertical-align: middle;\n",
       "    }\n",
       "\n",
       "    .dataframe tbody tr th {\n",
       "        vertical-align: top;\n",
       "    }\n",
       "\n",
       "    .dataframe thead th {\n",
       "        text-align: right;\n",
       "    }\n",
       "</style>\n",
       "<table border=\"1\" class=\"dataframe\">\n",
       "  <thead>\n",
       "    <tr style=\"text-align: right;\">\n",
       "      <th></th>\n",
       "      <th>mean radius</th>\n",
       "      <th>mean texture</th>\n",
       "      <th>mean perimeter</th>\n",
       "      <th>mean area</th>\n",
       "      <th>mean smoothness</th>\n",
       "      <th>mean compactness</th>\n",
       "      <th>mean concavity</th>\n",
       "      <th>mean concave points</th>\n",
       "      <th>mean symmetry</th>\n",
       "      <th>mean fractal dimension</th>\n",
       "      <th>...</th>\n",
       "      <th>worst texture</th>\n",
       "      <th>worst perimeter</th>\n",
       "      <th>worst area</th>\n",
       "      <th>worst smoothness</th>\n",
       "      <th>worst compactness</th>\n",
       "      <th>worst concavity</th>\n",
       "      <th>worst concave points</th>\n",
       "      <th>worst symmetry</th>\n",
       "      <th>worst fractal dimension</th>\n",
       "      <th>Target</th>\n",
       "    </tr>\n",
       "  </thead>\n",
       "  <tbody>\n",
       "    <tr>\n",
       "      <th>0</th>\n",
       "      <td>17.99</td>\n",
       "      <td>10.38</td>\n",
       "      <td>122.80</td>\n",
       "      <td>1001.0</td>\n",
       "      <td>0.11840</td>\n",
       "      <td>0.27760</td>\n",
       "      <td>0.30010</td>\n",
       "      <td>0.14710</td>\n",
       "      <td>0.2419</td>\n",
       "      <td>0.07871</td>\n",
       "      <td>...</td>\n",
       "      <td>17.33</td>\n",
       "      <td>184.60</td>\n",
       "      <td>2019.0</td>\n",
       "      <td>0.1622</td>\n",
       "      <td>0.6656</td>\n",
       "      <td>0.7119</td>\n",
       "      <td>0.2654</td>\n",
       "      <td>0.4601</td>\n",
       "      <td>0.11890</td>\n",
       "      <td>0</td>\n",
       "    </tr>\n",
       "    <tr>\n",
       "      <th>1</th>\n",
       "      <td>20.57</td>\n",
       "      <td>17.77</td>\n",
       "      <td>132.90</td>\n",
       "      <td>1326.0</td>\n",
       "      <td>0.08474</td>\n",
       "      <td>0.07864</td>\n",
       "      <td>0.08690</td>\n",
       "      <td>0.07017</td>\n",
       "      <td>0.1812</td>\n",
       "      <td>0.05667</td>\n",
       "      <td>...</td>\n",
       "      <td>23.41</td>\n",
       "      <td>158.80</td>\n",
       "      <td>1956.0</td>\n",
       "      <td>0.1238</td>\n",
       "      <td>0.1866</td>\n",
       "      <td>0.2416</td>\n",
       "      <td>0.1860</td>\n",
       "      <td>0.2750</td>\n",
       "      <td>0.08902</td>\n",
       "      <td>0</td>\n",
       "    </tr>\n",
       "    <tr>\n",
       "      <th>2</th>\n",
       "      <td>19.69</td>\n",
       "      <td>21.25</td>\n",
       "      <td>130.00</td>\n",
       "      <td>1203.0</td>\n",
       "      <td>0.10960</td>\n",
       "      <td>0.15990</td>\n",
       "      <td>0.19740</td>\n",
       "      <td>0.12790</td>\n",
       "      <td>0.2069</td>\n",
       "      <td>0.05999</td>\n",
       "      <td>...</td>\n",
       "      <td>25.53</td>\n",
       "      <td>152.50</td>\n",
       "      <td>1709.0</td>\n",
       "      <td>0.1444</td>\n",
       "      <td>0.4245</td>\n",
       "      <td>0.4504</td>\n",
       "      <td>0.2430</td>\n",
       "      <td>0.3613</td>\n",
       "      <td>0.08758</td>\n",
       "      <td>0</td>\n",
       "    </tr>\n",
       "    <tr>\n",
       "      <th>3</th>\n",
       "      <td>11.42</td>\n",
       "      <td>20.38</td>\n",
       "      <td>77.58</td>\n",
       "      <td>386.1</td>\n",
       "      <td>0.14250</td>\n",
       "      <td>0.28390</td>\n",
       "      <td>0.24140</td>\n",
       "      <td>0.10520</td>\n",
       "      <td>0.2597</td>\n",
       "      <td>0.09744</td>\n",
       "      <td>...</td>\n",
       "      <td>26.50</td>\n",
       "      <td>98.87</td>\n",
       "      <td>567.7</td>\n",
       "      <td>0.2098</td>\n",
       "      <td>0.8663</td>\n",
       "      <td>0.6869</td>\n",
       "      <td>0.2575</td>\n",
       "      <td>0.6638</td>\n",
       "      <td>0.17300</td>\n",
       "      <td>0</td>\n",
       "    </tr>\n",
       "    <tr>\n",
       "      <th>4</th>\n",
       "      <td>20.29</td>\n",
       "      <td>14.34</td>\n",
       "      <td>135.10</td>\n",
       "      <td>1297.0</td>\n",
       "      <td>0.10030</td>\n",
       "      <td>0.13280</td>\n",
       "      <td>0.19800</td>\n",
       "      <td>0.10430</td>\n",
       "      <td>0.1809</td>\n",
       "      <td>0.05883</td>\n",
       "      <td>...</td>\n",
       "      <td>16.67</td>\n",
       "      <td>152.20</td>\n",
       "      <td>1575.0</td>\n",
       "      <td>0.1374</td>\n",
       "      <td>0.2050</td>\n",
       "      <td>0.4000</td>\n",
       "      <td>0.1625</td>\n",
       "      <td>0.2364</td>\n",
       "      <td>0.07678</td>\n",
       "      <td>0</td>\n",
       "    </tr>\n",
       "    <tr>\n",
       "      <th>...</th>\n",
       "      <td>...</td>\n",
       "      <td>...</td>\n",
       "      <td>...</td>\n",
       "      <td>...</td>\n",
       "      <td>...</td>\n",
       "      <td>...</td>\n",
       "      <td>...</td>\n",
       "      <td>...</td>\n",
       "      <td>...</td>\n",
       "      <td>...</td>\n",
       "      <td>...</td>\n",
       "      <td>...</td>\n",
       "      <td>...</td>\n",
       "      <td>...</td>\n",
       "      <td>...</td>\n",
       "      <td>...</td>\n",
       "      <td>...</td>\n",
       "      <td>...</td>\n",
       "      <td>...</td>\n",
       "      <td>...</td>\n",
       "      <td>...</td>\n",
       "    </tr>\n",
       "    <tr>\n",
       "      <th>563</th>\n",
       "      <td>20.92</td>\n",
       "      <td>25.09</td>\n",
       "      <td>143.00</td>\n",
       "      <td>1347.0</td>\n",
       "      <td>0.10990</td>\n",
       "      <td>0.22360</td>\n",
       "      <td>0.31740</td>\n",
       "      <td>0.14740</td>\n",
       "      <td>0.2149</td>\n",
       "      <td>0.06879</td>\n",
       "      <td>...</td>\n",
       "      <td>29.41</td>\n",
       "      <td>179.10</td>\n",
       "      <td>1819.0</td>\n",
       "      <td>0.1407</td>\n",
       "      <td>0.4186</td>\n",
       "      <td>0.6599</td>\n",
       "      <td>0.2542</td>\n",
       "      <td>0.2929</td>\n",
       "      <td>0.09873</td>\n",
       "      <td>0</td>\n",
       "    </tr>\n",
       "    <tr>\n",
       "      <th>564</th>\n",
       "      <td>21.56</td>\n",
       "      <td>22.39</td>\n",
       "      <td>142.00</td>\n",
       "      <td>1479.0</td>\n",
       "      <td>0.11100</td>\n",
       "      <td>0.11590</td>\n",
       "      <td>0.24390</td>\n",
       "      <td>0.13890</td>\n",
       "      <td>0.1726</td>\n",
       "      <td>0.05623</td>\n",
       "      <td>...</td>\n",
       "      <td>26.40</td>\n",
       "      <td>166.10</td>\n",
       "      <td>2027.0</td>\n",
       "      <td>0.1410</td>\n",
       "      <td>0.2113</td>\n",
       "      <td>0.4107</td>\n",
       "      <td>0.2216</td>\n",
       "      <td>0.2060</td>\n",
       "      <td>0.07115</td>\n",
       "      <td>0</td>\n",
       "    </tr>\n",
       "    <tr>\n",
       "      <th>565</th>\n",
       "      <td>20.13</td>\n",
       "      <td>28.25</td>\n",
       "      <td>131.20</td>\n",
       "      <td>1261.0</td>\n",
       "      <td>0.09780</td>\n",
       "      <td>0.10340</td>\n",
       "      <td>0.14400</td>\n",
       "      <td>0.09791</td>\n",
       "      <td>0.1752</td>\n",
       "      <td>0.05533</td>\n",
       "      <td>...</td>\n",
       "      <td>38.25</td>\n",
       "      <td>155.00</td>\n",
       "      <td>1731.0</td>\n",
       "      <td>0.1166</td>\n",
       "      <td>0.1922</td>\n",
       "      <td>0.3215</td>\n",
       "      <td>0.1628</td>\n",
       "      <td>0.2572</td>\n",
       "      <td>0.06637</td>\n",
       "      <td>0</td>\n",
       "    </tr>\n",
       "    <tr>\n",
       "      <th>566</th>\n",
       "      <td>16.60</td>\n",
       "      <td>28.08</td>\n",
       "      <td>108.30</td>\n",
       "      <td>858.1</td>\n",
       "      <td>0.08455</td>\n",
       "      <td>0.10230</td>\n",
       "      <td>0.09251</td>\n",
       "      <td>0.05302</td>\n",
       "      <td>0.1590</td>\n",
       "      <td>0.05648</td>\n",
       "      <td>...</td>\n",
       "      <td>34.12</td>\n",
       "      <td>126.70</td>\n",
       "      <td>1124.0</td>\n",
       "      <td>0.1139</td>\n",
       "      <td>0.3094</td>\n",
       "      <td>0.3403</td>\n",
       "      <td>0.1418</td>\n",
       "      <td>0.2218</td>\n",
       "      <td>0.07820</td>\n",
       "      <td>0</td>\n",
       "    </tr>\n",
       "    <tr>\n",
       "      <th>567</th>\n",
       "      <td>20.60</td>\n",
       "      <td>29.33</td>\n",
       "      <td>140.10</td>\n",
       "      <td>1265.0</td>\n",
       "      <td>0.11780</td>\n",
       "      <td>0.27700</td>\n",
       "      <td>0.35140</td>\n",
       "      <td>0.15200</td>\n",
       "      <td>0.2397</td>\n",
       "      <td>0.07016</td>\n",
       "      <td>...</td>\n",
       "      <td>39.42</td>\n",
       "      <td>184.60</td>\n",
       "      <td>1821.0</td>\n",
       "      <td>0.1650</td>\n",
       "      <td>0.8681</td>\n",
       "      <td>0.9387</td>\n",
       "      <td>0.2650</td>\n",
       "      <td>0.4087</td>\n",
       "      <td>0.12400</td>\n",
       "      <td>0</td>\n",
       "    </tr>\n",
       "  </tbody>\n",
       "</table>\n",
       "<p>556 rows × 31 columns</p>\n",
       "</div>"
      ],
      "text/plain": [
       "     mean radius  mean texture  mean perimeter  mean area  mean smoothness  \\\n",
       "0          17.99         10.38          122.80     1001.0          0.11840   \n",
       "1          20.57         17.77          132.90     1326.0          0.08474   \n",
       "2          19.69         21.25          130.00     1203.0          0.10960   \n",
       "3          11.42         20.38           77.58      386.1          0.14250   \n",
       "4          20.29         14.34          135.10     1297.0          0.10030   \n",
       "..           ...           ...             ...        ...              ...   \n",
       "563        20.92         25.09          143.00     1347.0          0.10990   \n",
       "564        21.56         22.39          142.00     1479.0          0.11100   \n",
       "565        20.13         28.25          131.20     1261.0          0.09780   \n",
       "566        16.60         28.08          108.30      858.1          0.08455   \n",
       "567        20.60         29.33          140.10     1265.0          0.11780   \n",
       "\n",
       "     mean compactness  mean concavity  mean concave points  mean symmetry  \\\n",
       "0             0.27760         0.30010              0.14710         0.2419   \n",
       "1             0.07864         0.08690              0.07017         0.1812   \n",
       "2             0.15990         0.19740              0.12790         0.2069   \n",
       "3             0.28390         0.24140              0.10520         0.2597   \n",
       "4             0.13280         0.19800              0.10430         0.1809   \n",
       "..                ...             ...                  ...            ...   \n",
       "563           0.22360         0.31740              0.14740         0.2149   \n",
       "564           0.11590         0.24390              0.13890         0.1726   \n",
       "565           0.10340         0.14400              0.09791         0.1752   \n",
       "566           0.10230         0.09251              0.05302         0.1590   \n",
       "567           0.27700         0.35140              0.15200         0.2397   \n",
       "\n",
       "     mean fractal dimension  ...  worst texture  worst perimeter  worst area  \\\n",
       "0                   0.07871  ...          17.33           184.60      2019.0   \n",
       "1                   0.05667  ...          23.41           158.80      1956.0   \n",
       "2                   0.05999  ...          25.53           152.50      1709.0   \n",
       "3                   0.09744  ...          26.50            98.87       567.7   \n",
       "4                   0.05883  ...          16.67           152.20      1575.0   \n",
       "..                      ...  ...            ...              ...         ...   \n",
       "563                 0.06879  ...          29.41           179.10      1819.0   \n",
       "564                 0.05623  ...          26.40           166.10      2027.0   \n",
       "565                 0.05533  ...          38.25           155.00      1731.0   \n",
       "566                 0.05648  ...          34.12           126.70      1124.0   \n",
       "567                 0.07016  ...          39.42           184.60      1821.0   \n",
       "\n",
       "     worst smoothness  worst compactness  worst concavity  \\\n",
       "0              0.1622             0.6656           0.7119   \n",
       "1              0.1238             0.1866           0.2416   \n",
       "2              0.1444             0.4245           0.4504   \n",
       "3              0.2098             0.8663           0.6869   \n",
       "4              0.1374             0.2050           0.4000   \n",
       "..                ...                ...              ...   \n",
       "563            0.1407             0.4186           0.6599   \n",
       "564            0.1410             0.2113           0.4107   \n",
       "565            0.1166             0.1922           0.3215   \n",
       "566            0.1139             0.3094           0.3403   \n",
       "567            0.1650             0.8681           0.9387   \n",
       "\n",
       "     worst concave points  worst symmetry  worst fractal dimension  Target  \n",
       "0                  0.2654          0.4601                  0.11890       0  \n",
       "1                  0.1860          0.2750                  0.08902       0  \n",
       "2                  0.2430          0.3613                  0.08758       0  \n",
       "3                  0.2575          0.6638                  0.17300       0  \n",
       "4                  0.1625          0.2364                  0.07678       0  \n",
       "..                    ...             ...                      ...     ...  \n",
       "563                0.2542          0.2929                  0.09873       0  \n",
       "564                0.2216          0.2060                  0.07115       0  \n",
       "565                0.1628          0.2572                  0.06637       0  \n",
       "566                0.1418          0.2218                  0.07820       0  \n",
       "567                0.2650          0.4087                  0.12400       0  \n",
       "\n",
       "[556 rows x 31 columns]"
      ]
     },
     "execution_count": 18,
     "metadata": {},
     "output_type": "execute_result"
    }
   ],
   "source": [
    "dataframe = dataframe.dropna()\n",
    "\n",
    "dataframe\n",
    "\n",
    "#<xml xmlns=\"https://developers.google.com/blockly/xml\"><variables><variable id=\"Y+grzOaS*0=OHV6zO8m/\">dataframe</variable></variables><block type=\"variables_set\" id=\"FJGldw(qFp?V=E]uaN)4\" x=\"31\" y=\"222\"><field name=\"VAR\" id=\"Y+grzOaS*0=OHV6zO8m/\">dataframe</field><value name=\"VALUE\"><block type=\"varDoMethod\" id=\"4s18v%0iqE%_l@{fLYCo\"><mutation items=\"1\"></mutation><field name=\"VAR\" id=\"Y+grzOaS*0=OHV6zO8m/\">dataframe</field><field name=\"MEMBER\">dropna</field><data>dataframe:dropna</data></block></value></block><block type=\"variables_get\" id=\"yN6MT1B[)Pk)cEECN_YZ\" x=\"31\" y=\"286\"><field name=\"VAR\" id=\"Y+grzOaS*0=OHV6zO8m/\">dataframe</field></block></xml>"
   ]
  },
  {
   "cell_type": "markdown",
   "metadata": {},
   "source": [
    "Check the data makes sense with the five figure summary."
   ]
  },
  {
   "cell_type": "code",
   "execution_count": 19,
   "metadata": {
    "user_blocks": [
     "varDoMethod"
    ],
    "user_blocks_xml": "<xml xmlns=\"https://developers.google.com/blockly/xml\"><variables><variable id=\"Y+grzOaS*0=OHV6zO8m/\">dataframe</variable></variables><block type=\"varDoMethod\" id=\"-[lX-}4sT`|#7E(Sti)^\" x=\"78\" y=\"266\"><mutation items=\"1\"></mutation><field name=\"VAR\" id=\"Y+grzOaS*0=OHV6zO8m/\">dataframe</field><field name=\"MEMBER\">describe</field><data>dataframe:describe</data></block></xml>",
    "user_code_from_blocks": "dataframe.describe()\n"
   },
   "outputs": [
    {
     "data": {
      "text/html": [
       "<div>\n",
       "<style scoped>\n",
       "    .dataframe tbody tr th:only-of-type {\n",
       "        vertical-align: middle;\n",
       "    }\n",
       "\n",
       "    .dataframe tbody tr th {\n",
       "        vertical-align: top;\n",
       "    }\n",
       "\n",
       "    .dataframe thead th {\n",
       "        text-align: right;\n",
       "    }\n",
       "</style>\n",
       "<table border=\"1\" class=\"dataframe\">\n",
       "  <thead>\n",
       "    <tr style=\"text-align: right;\">\n",
       "      <th></th>\n",
       "      <th>mean radius</th>\n",
       "      <th>mean texture</th>\n",
       "      <th>mean perimeter</th>\n",
       "      <th>mean area</th>\n",
       "      <th>mean smoothness</th>\n",
       "      <th>mean compactness</th>\n",
       "      <th>mean concavity</th>\n",
       "      <th>mean concave points</th>\n",
       "      <th>mean symmetry</th>\n",
       "      <th>mean fractal dimension</th>\n",
       "      <th>...</th>\n",
       "      <th>worst texture</th>\n",
       "      <th>worst perimeter</th>\n",
       "      <th>worst area</th>\n",
       "      <th>worst smoothness</th>\n",
       "      <th>worst compactness</th>\n",
       "      <th>worst concavity</th>\n",
       "      <th>worst concave points</th>\n",
       "      <th>worst symmetry</th>\n",
       "      <th>worst fractal dimension</th>\n",
       "      <th>Target</th>\n",
       "    </tr>\n",
       "  </thead>\n",
       "  <tbody>\n",
       "    <tr>\n",
       "      <th>count</th>\n",
       "      <td>556.000000</td>\n",
       "      <td>556.000000</td>\n",
       "      <td>556.000000</td>\n",
       "      <td>556.000000</td>\n",
       "      <td>556.000000</td>\n",
       "      <td>556.000000</td>\n",
       "      <td>556.000000</td>\n",
       "      <td>556.000000</td>\n",
       "      <td>556.000000</td>\n",
       "      <td>556.000000</td>\n",
       "      <td>...</td>\n",
       "      <td>556.000000</td>\n",
       "      <td>556.000000</td>\n",
       "      <td>556.000000</td>\n",
       "      <td>556.000000</td>\n",
       "      <td>556.000000</td>\n",
       "      <td>556.000000</td>\n",
       "      <td>556.000000</td>\n",
       "      <td>556.000000</td>\n",
       "      <td>556.000000</td>\n",
       "      <td>556.000000</td>\n",
       "    </tr>\n",
       "    <tr>\n",
       "      <th>mean</th>\n",
       "      <td>14.237565</td>\n",
       "      <td>19.259748</td>\n",
       "      <td>92.736673</td>\n",
       "      <td>663.734712</td>\n",
       "      <td>0.096616</td>\n",
       "      <td>0.105679</td>\n",
       "      <td>0.090876</td>\n",
       "      <td>0.050063</td>\n",
       "      <td>0.181278</td>\n",
       "      <td>0.062746</td>\n",
       "      <td>...</td>\n",
       "      <td>25.679388</td>\n",
       "      <td>108.242878</td>\n",
       "      <td>893.412410</td>\n",
       "      <td>0.132824</td>\n",
       "      <td>0.258472</td>\n",
       "      <td>0.278553</td>\n",
       "      <td>0.117286</td>\n",
       "      <td>0.290802</td>\n",
       "      <td>0.084141</td>\n",
       "      <td>0.618705</td>\n",
       "    </tr>\n",
       "    <tr>\n",
       "      <th>std</th>\n",
       "      <td>3.482170</td>\n",
       "      <td>4.246993</td>\n",
       "      <td>24.006362</td>\n",
       "      <td>350.893313</td>\n",
       "      <td>0.013895</td>\n",
       "      <td>0.052643</td>\n",
       "      <td>0.079468</td>\n",
       "      <td>0.038517</td>\n",
       "      <td>0.027446</td>\n",
       "      <td>0.007059</td>\n",
       "      <td>...</td>\n",
       "      <td>6.105744</td>\n",
       "      <td>33.337041</td>\n",
       "      <td>569.492912</td>\n",
       "      <td>0.022616</td>\n",
       "      <td>0.156663</td>\n",
       "      <td>0.206803</td>\n",
       "      <td>0.064087</td>\n",
       "      <td>0.062027</td>\n",
       "      <td>0.018130</td>\n",
       "      <td>0.486142</td>\n",
       "    </tr>\n",
       "    <tr>\n",
       "      <th>min</th>\n",
       "      <td>7.691000</td>\n",
       "      <td>9.710000</td>\n",
       "      <td>48.340000</td>\n",
       "      <td>170.400000</td>\n",
       "      <td>0.062510</td>\n",
       "      <td>0.019380</td>\n",
       "      <td>0.000692</td>\n",
       "      <td>0.001852</td>\n",
       "      <td>0.116700</td>\n",
       "      <td>0.049960</td>\n",
       "      <td>...</td>\n",
       "      <td>12.020000</td>\n",
       "      <td>54.490000</td>\n",
       "      <td>223.600000</td>\n",
       "      <td>0.081250</td>\n",
       "      <td>0.034320</td>\n",
       "      <td>0.001845</td>\n",
       "      <td>0.008772</td>\n",
       "      <td>0.156500</td>\n",
       "      <td>0.055040</td>\n",
       "      <td>0.000000</td>\n",
       "    </tr>\n",
       "    <tr>\n",
       "      <th>25%</th>\n",
       "      <td>11.760000</td>\n",
       "      <td>16.177500</td>\n",
       "      <td>75.845000</td>\n",
       "      <td>427.750000</td>\n",
       "      <td>0.086665</td>\n",
       "      <td>0.066608</td>\n",
       "      <td>0.030880</td>\n",
       "      <td>0.020895</td>\n",
       "      <td>0.161900</td>\n",
       "      <td>0.057675</td>\n",
       "      <td>...</td>\n",
       "      <td>21.160000</td>\n",
       "      <td>84.567500</td>\n",
       "      <td>521.450000</td>\n",
       "      <td>0.117175</td>\n",
       "      <td>0.151175</td>\n",
       "      <td>0.121800</td>\n",
       "      <td>0.065713</td>\n",
       "      <td>0.250900</td>\n",
       "      <td>0.071873</td>\n",
       "      <td>0.000000</td>\n",
       "    </tr>\n",
       "    <tr>\n",
       "      <th>50%</th>\n",
       "      <td>13.455000</td>\n",
       "      <td>18.855000</td>\n",
       "      <td>87.090000</td>\n",
       "      <td>557.650000</td>\n",
       "      <td>0.096035</td>\n",
       "      <td>0.095090</td>\n",
       "      <td>0.064905</td>\n",
       "      <td>0.034840</td>\n",
       "      <td>0.179250</td>\n",
       "      <td>0.061515</td>\n",
       "      <td>...</td>\n",
       "      <td>25.445000</td>\n",
       "      <td>98.320000</td>\n",
       "      <td>696.050000</td>\n",
       "      <td>0.131550</td>\n",
       "      <td>0.217000</td>\n",
       "      <td>0.231400</td>\n",
       "      <td>0.101700</td>\n",
       "      <td>0.282450</td>\n",
       "      <td>0.080075</td>\n",
       "      <td>1.000000</td>\n",
       "    </tr>\n",
       "    <tr>\n",
       "      <th>75%</th>\n",
       "      <td>16.040000</td>\n",
       "      <td>21.735000</td>\n",
       "      <td>105.250000</td>\n",
       "      <td>798.050000</td>\n",
       "      <td>0.105400</td>\n",
       "      <td>0.130600</td>\n",
       "      <td>0.132325</td>\n",
       "      <td>0.074842</td>\n",
       "      <td>0.195750</td>\n",
       "      <td>0.066090</td>\n",
       "      <td>...</td>\n",
       "      <td>29.547500</td>\n",
       "      <td>126.750000</td>\n",
       "      <td>1106.750000</td>\n",
       "      <td>0.146325</td>\n",
       "      <td>0.341600</td>\n",
       "      <td>0.386200</td>\n",
       "      <td>0.163150</td>\n",
       "      <td>0.318850</td>\n",
       "      <td>0.092095</td>\n",
       "      <td>1.000000</td>\n",
       "    </tr>\n",
       "    <tr>\n",
       "      <th>max</th>\n",
       "      <td>28.110000</td>\n",
       "      <td>39.280000</td>\n",
       "      <td>188.500000</td>\n",
       "      <td>2501.000000</td>\n",
       "      <td>0.163400</td>\n",
       "      <td>0.345400</td>\n",
       "      <td>0.426800</td>\n",
       "      <td>0.201200</td>\n",
       "      <td>0.304000</td>\n",
       "      <td>0.097440</td>\n",
       "      <td>...</td>\n",
       "      <td>49.540000</td>\n",
       "      <td>251.200000</td>\n",
       "      <td>4254.000000</td>\n",
       "      <td>0.222600</td>\n",
       "      <td>1.058000</td>\n",
       "      <td>1.252000</td>\n",
       "      <td>0.291000</td>\n",
       "      <td>0.663800</td>\n",
       "      <td>0.207500</td>\n",
       "      <td>1.000000</td>\n",
       "    </tr>\n",
       "  </tbody>\n",
       "</table>\n",
       "<p>8 rows × 31 columns</p>\n",
       "</div>"
      ],
      "text/plain": [
       "       mean radius  mean texture  mean perimeter    mean area  \\\n",
       "count   556.000000    556.000000      556.000000   556.000000   \n",
       "mean     14.237565     19.259748       92.736673   663.734712   \n",
       "std       3.482170      4.246993       24.006362   350.893313   \n",
       "min       7.691000      9.710000       48.340000   170.400000   \n",
       "25%      11.760000     16.177500       75.845000   427.750000   \n",
       "50%      13.455000     18.855000       87.090000   557.650000   \n",
       "75%      16.040000     21.735000      105.250000   798.050000   \n",
       "max      28.110000     39.280000      188.500000  2501.000000   \n",
       "\n",
       "       mean smoothness  mean compactness  mean concavity  mean concave points  \\\n",
       "count       556.000000        556.000000      556.000000           556.000000   \n",
       "mean          0.096616          0.105679        0.090876             0.050063   \n",
       "std           0.013895          0.052643        0.079468             0.038517   \n",
       "min           0.062510          0.019380        0.000692             0.001852   \n",
       "25%           0.086665          0.066608        0.030880             0.020895   \n",
       "50%           0.096035          0.095090        0.064905             0.034840   \n",
       "75%           0.105400          0.130600        0.132325             0.074842   \n",
       "max           0.163400          0.345400        0.426800             0.201200   \n",
       "\n",
       "       mean symmetry  mean fractal dimension  ...  worst texture  \\\n",
       "count     556.000000              556.000000  ...     556.000000   \n",
       "mean        0.181278                0.062746  ...      25.679388   \n",
       "std         0.027446                0.007059  ...       6.105744   \n",
       "min         0.116700                0.049960  ...      12.020000   \n",
       "25%         0.161900                0.057675  ...      21.160000   \n",
       "50%         0.179250                0.061515  ...      25.445000   \n",
       "75%         0.195750                0.066090  ...      29.547500   \n",
       "max         0.304000                0.097440  ...      49.540000   \n",
       "\n",
       "       worst perimeter   worst area  worst smoothness  worst compactness  \\\n",
       "count       556.000000   556.000000        556.000000         556.000000   \n",
       "mean        108.242878   893.412410          0.132824           0.258472   \n",
       "std          33.337041   569.492912          0.022616           0.156663   \n",
       "min          54.490000   223.600000          0.081250           0.034320   \n",
       "25%          84.567500   521.450000          0.117175           0.151175   \n",
       "50%          98.320000   696.050000          0.131550           0.217000   \n",
       "75%         126.750000  1106.750000          0.146325           0.341600   \n",
       "max         251.200000  4254.000000          0.222600           1.058000   \n",
       "\n",
       "       worst concavity  worst concave points  worst symmetry  \\\n",
       "count       556.000000            556.000000      556.000000   \n",
       "mean          0.278553              0.117286        0.290802   \n",
       "std           0.206803              0.064087        0.062027   \n",
       "min           0.001845              0.008772        0.156500   \n",
       "25%           0.121800              0.065713        0.250900   \n",
       "50%           0.231400              0.101700        0.282450   \n",
       "75%           0.386200              0.163150        0.318850   \n",
       "max           1.252000              0.291000        0.663800   \n",
       "\n",
       "       worst fractal dimension      Target  \n",
       "count               556.000000  556.000000  \n",
       "mean                  0.084141    0.618705  \n",
       "std                   0.018130    0.486142  \n",
       "min                   0.055040    0.000000  \n",
       "25%                   0.071873    0.000000  \n",
       "50%                   0.080075    1.000000  \n",
       "75%                   0.092095    1.000000  \n",
       "max                   0.207500    1.000000  \n",
       "\n",
       "[8 rows x 31 columns]"
      ]
     },
     "execution_count": 19,
     "metadata": {},
     "output_type": "execute_result"
    }
   ],
   "source": [
    "dataframe.describe()\n",
    "\n",
    "#<xml xmlns=\"https://developers.google.com/blockly/xml\"><variables><variable id=\"Y+grzOaS*0=OHV6zO8m/\">dataframe</variable></variables><block type=\"varDoMethod\" id=\"-[lX-}4sT`|#7E(Sti)^\" x=\"78\" y=\"266\"><mutation items=\"1\"></mutation><field name=\"VAR\" id=\"Y+grzOaS*0=OHV6zO8m/\">dataframe</field><field name=\"MEMBER\">describe</field><data>dataframe:describe</data></block></xml>"
   ]
  },
  {
   "cell_type": "markdown",
   "metadata": {},
   "source": [
    "-----------\n",
    "**QUESTION:**\n",
    "\n",
    "Do the min, mean, and max look reasonable to you?"
   ]
  },
  {
   "cell_type": "markdown",
   "metadata": {},
   "source": [
    "**ANSWER: (click here to edit)**\n",
    "\n",
    "\n",
    "*I really can't say; I don't have enough medical knowledge to fully understand these variables.*\n",
    "<hr>"
   ]
  },
  {
   "cell_type": "markdown",
   "metadata": {},
   "source": [
    "**QUESTION:**\n",
    "\n",
    "What percentage of the data has `Target=1` and `Target=0`?"
   ]
  },
  {
   "cell_type": "markdown",
   "metadata": {},
   "source": [
    "**ANSWER: (click here to edit)**\n",
    "\n",
    "\n",
    "*Since `Target` is 0 or 1, and the mean is .618, `Target=1` is 61.8% of the data and `Target=0` is 38.2%*\n",
    "<hr>"
   ]
  },
  {
   "cell_type": "markdown",
   "metadata": {},
   "source": [
    "To look at the correlations between variables, create a correlation heatmap."
   ]
  },
  {
   "cell_type": "markdown",
   "metadata": {},
   "source": [
    "First import `plotly.express`."
   ]
  },
  {
   "cell_type": "code",
   "execution_count": 20,
   "metadata": {
    "user_blocks": [
     "importAs"
    ],
    "user_blocks_xml": "<xml xmlns=\"https://developers.google.com/blockly/xml\"><variables><variable id=\"+yh,Zg{hON]zy6D~.rH#\">px</variable></variables><block type=\"importAs\" id=\"JKd}DIrGfV*IelKZ!4ls\" x=\"129\" y=\"219\"><field name=\"libraryName\">plotly.express</field><field name=\"VAR\" id=\"+yh,Zg{hON]zy6D~.rH#\">px</field></block></xml>",
    "user_code_from_blocks": "import plotly.express as px\n"
   },
   "outputs": [],
   "source": [
    "import plotly.express as px\n",
    "\n",
    "#<xml xmlns=\"https://developers.google.com/blockly/xml\"><variables><variable id=\"+yh,Zg{hON]zy6D~.rH#\">px</variable></variables><block type=\"importAs\" id=\"JKd}DIrGfV*IelKZ!4ls\" x=\"129\" y=\"219\"><field name=\"libraryName\">plotly.express</field><field name=\"VAR\" id=\"+yh,Zg{hON]zy6D~.rH#\">px</field></block></xml>"
   ]
  },
  {
   "cell_type": "markdown",
   "metadata": {},
   "source": [
    "And create a correlation matrix."
   ]
  },
  {
   "cell_type": "code",
   "execution_count": 21,
   "metadata": {
    "user_blocks": [
     "variables_set",
     "varDoMethod"
    ],
    "user_blocks_xml": "<xml xmlns=\"https://developers.google.com/blockly/xml\"><variables><variable id=\"Nzf/=Q)W#.;)QR}gY_Ur\">corr</variable><variable id=\"Y+grzOaS*0=OHV6zO8m/\">dataframe</variable></variables><block type=\"variables_set\" id=\"g:(h]9_d91#9*:0+_W#-\" x=\"56\" y=\"310\"><field name=\"VAR\" id=\"Nzf/=Q)W#.;)QR}gY_Ur\">corr</field><value name=\"VALUE\"><block type=\"varDoMethod\" id=\"8;d*+wxrr5%F3m!clD{p\"><mutation items=\"1\"></mutation><field name=\"VAR\" id=\"Y+grzOaS*0=OHV6zO8m/\">dataframe</field><field name=\"MEMBER\">corr</field><data>dataframe:corr</data></block></value></block></xml>",
    "user_code_from_blocks": "corr = dataframe.corr()\n"
   },
   "outputs": [],
   "source": [
    "corr = dataframe.corr()\n",
    "\n",
    "#<xml xmlns=\"https://developers.google.com/blockly/xml\"><variables><variable id=\"Nzf/=Q)W#.;)QR}gY_Ur\">corr</variable><variable id=\"Y+grzOaS*0=OHV6zO8m/\">dataframe</variable></variables><block type=\"variables_set\" id=\"g:(h]9_d91#9*:0+_W#-\" x=\"56\" y=\"310\"><field name=\"VAR\" id=\"Nzf/=Q)W#.;)QR}gY_Ur\">corr</field><value name=\"VALUE\"><block type=\"varDoMethod\" id=\"8;d*+wxrr5%F3m!clD{p\"><mutation items=\"1\"></mutation><field name=\"VAR\" id=\"Y+grzOaS*0=OHV6zO8m/\">dataframe</field><field name=\"MEMBER\">corr</field><data>dataframe:corr</data></block></value></block></xml>"
   ]
  },
  {
   "cell_type": "markdown",
   "metadata": {},
   "source": [
    "Show a correlation heatmap with row/column labels."
   ]
  },
  {
   "cell_type": "code",
   "execution_count": 22,
   "metadata": {
    "user_blocks": [
     "varDoMethod",
     "variables_get",
     "dummyOutputCodeBlock",
     "dummyOutputCodeBlock"
    ],
    "user_blocks_xml": "<xml xmlns=\"https://developers.google.com/blockly/xml\"><variables><variable id=\"+yh,Zg{hON]zy6D~.rH#\">px</variable><variable id=\"Nzf/=Q)W#.;)QR}gY_Ur\">corr</variable></variables><block type=\"varDoMethod\" id=\";Cb=u8[v?Z=ZqSh!rye-\" x=\"8\" y=\"176\"><mutation items=\"3\"></mutation><field name=\"VAR\" id=\"+yh,Zg{hON]zy6D~.rH#\">px</field><field name=\"MEMBER\">imshow</field><data>px:imshow</data><value name=\"ADD0\"><block type=\"variables_get\" id=\"8R}*biK{_3*YsC5vT-Sw\"><field name=\"VAR\" id=\"Nzf/=Q)W#.;)QR}gY_Ur\">corr</field></block></value><value name=\"ADD1\"><block type=\"dummyOutputCodeBlock\" id=\"P19%UZQYzb=tJWH-[-D.\"><field name=\"CODE\">x=corr.columns</field></block></value><value name=\"ADD2\"><block type=\"dummyOutputCodeBlock\" id=\"`nYiz=e7MyuC3[iPuHsz\"><field name=\"CODE\">y=corr.columns</field></block></value></block></xml>",
    "user_code_from_blocks": "px.imshow(corr,x=corr.columns,y=corr.columns)\n"
   },
   "outputs": [
    {
     "data": {
      "application/vnd.plotly.v1+json": {
       "config": {
        "plotlyServerURL": "https://plot.ly"
       },
       "data": [
        {
         "coloraxis": "coloraxis",
         "hovertemplate": "x: %{x}<br>y: %{y}<br>color: %{z}<extra></extra>",
         "name": "0",
         "type": "heatmap",
         "x": [
          "mean radius",
          "mean texture",
          "mean perimeter",
          "mean area",
          "mean smoothness",
          "mean compactness",
          "mean concavity",
          "mean concave points",
          "mean symmetry",
          "mean fractal dimension",
          "radius error",
          "texture error",
          "perimeter error",
          "area error",
          "smoothness error",
          "compactness error",
          "concavity error",
          "concave points error",
          "symmetry error",
          "fractal dimension error",
          "worst radius",
          "worst texture",
          "worst perimeter",
          "worst area",
          "worst smoothness",
          "worst compactness",
          "worst concavity",
          "worst concave points",
          "worst symmetry",
          "worst fractal dimension",
          "Target"
         ],
         "xaxis": "x",
         "y": [
          "mean radius",
          "mean texture",
          "mean perimeter",
          "mean area",
          "mean smoothness",
          "mean compactness",
          "mean concavity",
          "mean concave points",
          "mean symmetry",
          "mean fractal dimension",
          "radius error",
          "texture error",
          "perimeter error",
          "area error",
          "smoothness error",
          "compactness error",
          "concavity error",
          "concave points error",
          "symmetry error",
          "fractal dimension error",
          "worst radius",
          "worst texture",
          "worst perimeter",
          "worst area",
          "worst smoothness",
          "worst compactness",
          "worst concavity",
          "worst concave points",
          "worst symmetry",
          "worst fractal dimension",
          "Target"
         ],
         "yaxis": "y",
         "z": {
          "bdata": "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",
          "dtype": "f8",
          "shape": "31, 31"
         }
        }
       ],
       "layout": {
        "coloraxis": {
         "colorscale": [
          [
           0,
           "#0d0887"
          ],
          [
           0.1111111111111111,
           "#46039f"
          ],
          [
           0.2222222222222222,
           "#7201a8"
          ],
          [
           0.3333333333333333,
           "#9c179e"
          ],
          [
           0.4444444444444444,
           "#bd3786"
          ],
          [
           0.5555555555555556,
           "#d8576b"
          ],
          [
           0.6666666666666666,
           "#ed7953"
          ],
          [
           0.7777777777777778,
           "#fb9f3a"
          ],
          [
           0.8888888888888888,
           "#fdca26"
          ],
          [
           1,
           "#f0f921"
          ]
         ]
        },
        "margin": {
         "t": 60
        },
        "template": {
         "data": {
          "bar": [
           {
            "error_x": {
             "color": "#2a3f5f"
            },
            "error_y": {
             "color": "#2a3f5f"
            },
            "marker": {
             "line": {
              "color": "#E5ECF6",
              "width": 0.5
             },
             "pattern": {
              "fillmode": "overlay",
              "size": 10,
              "solidity": 0.2
             }
            },
            "type": "bar"
           }
          ],
          "barpolar": [
           {
            "marker": {
             "line": {
              "color": "#E5ECF6",
              "width": 0.5
             },
             "pattern": {
              "fillmode": "overlay",
              "size": 10,
              "solidity": 0.2
             }
            },
            "type": "barpolar"
           }
          ],
          "carpet": [
           {
            "aaxis": {
             "endlinecolor": "#2a3f5f",
             "gridcolor": "white",
             "linecolor": "white",
             "minorgridcolor": "white",
             "startlinecolor": "#2a3f5f"
            },
            "baxis": {
             "endlinecolor": "#2a3f5f",
             "gridcolor": "white",
             "linecolor": "white",
             "minorgridcolor": "white",
             "startlinecolor": "#2a3f5f"
            },
            "type": "carpet"
           }
          ],
          "choropleth": [
           {
            "colorbar": {
             "outlinewidth": 0,
             "ticks": ""
            },
            "type": "choropleth"
           }
          ],
          "contour": [
           {
            "colorbar": {
             "outlinewidth": 0,
             "ticks": ""
            },
            "colorscale": [
             [
              0,
              "#0d0887"
             ],
             [
              0.1111111111111111,
              "#46039f"
             ],
             [
              0.2222222222222222,
              "#7201a8"
             ],
             [
              0.3333333333333333,
              "#9c179e"
             ],
             [
              0.4444444444444444,
              "#bd3786"
             ],
             [
              0.5555555555555556,
              "#d8576b"
             ],
             [
              0.6666666666666666,
              "#ed7953"
             ],
             [
              0.7777777777777778,
              "#fb9f3a"
             ],
             [
              0.8888888888888888,
              "#fdca26"
             ],
             [
              1,
              "#f0f921"
             ]
            ],
            "type": "contour"
           }
          ],
          "contourcarpet": [
           {
            "colorbar": {
             "outlinewidth": 0,
             "ticks": ""
            },
            "type": "contourcarpet"
           }
          ],
          "heatmap": [
           {
            "colorbar": {
             "outlinewidth": 0,
             "ticks": ""
            },
            "colorscale": [
             [
              0,
              "#0d0887"
             ],
             [
              0.1111111111111111,
              "#46039f"
             ],
             [
              0.2222222222222222,
              "#7201a8"
             ],
             [
              0.3333333333333333,
              "#9c179e"
             ],
             [
              0.4444444444444444,
              "#bd3786"
             ],
             [
              0.5555555555555556,
              "#d8576b"
             ],
             [
              0.6666666666666666,
              "#ed7953"
             ],
             [
              0.7777777777777778,
              "#fb9f3a"
             ],
             [
              0.8888888888888888,
              "#fdca26"
             ],
             [
              1,
              "#f0f921"
             ]
            ],
            "type": "heatmap"
           }
          ],
          "histogram": [
           {
            "marker": {
             "pattern": {
              "fillmode": "overlay",
              "size": 10,
              "solidity": 0.2
             }
            },
            "type": "histogram"
           }
          ],
          "histogram2d": [
           {
            "colorbar": {
             "outlinewidth": 0,
             "ticks": ""
            },
            "colorscale": [
             [
              0,
              "#0d0887"
             ],
             [
              0.1111111111111111,
              "#46039f"
             ],
             [
              0.2222222222222222,
              "#7201a8"
             ],
             [
              0.3333333333333333,
              "#9c179e"
             ],
             [
              0.4444444444444444,
              "#bd3786"
             ],
             [
              0.5555555555555556,
              "#d8576b"
             ],
             [
              0.6666666666666666,
              "#ed7953"
             ],
             [
              0.7777777777777778,
              "#fb9f3a"
             ],
             [
              0.8888888888888888,
              "#fdca26"
             ],
             [
              1,
              "#f0f921"
             ]
            ],
            "type": "histogram2d"
           }
          ],
          "histogram2dcontour": [
           {
            "colorbar": {
             "outlinewidth": 0,
             "ticks": ""
            },
            "colorscale": [
             [
              0,
              "#0d0887"
             ],
             [
              0.1111111111111111,
              "#46039f"
             ],
             [
              0.2222222222222222,
              "#7201a8"
             ],
             [
              0.3333333333333333,
              "#9c179e"
             ],
             [
              0.4444444444444444,
              "#bd3786"
             ],
             [
              0.5555555555555556,
              "#d8576b"
             ],
             [
              0.6666666666666666,
              "#ed7953"
             ],
             [
              0.7777777777777778,
              "#fb9f3a"
             ],
             [
              0.8888888888888888,
              "#fdca26"
             ],
             [
              1,
              "#f0f921"
             ]
            ],
            "type": "histogram2dcontour"
           }
          ],
          "mesh3d": [
           {
            "colorbar": {
             "outlinewidth": 0,
             "ticks": ""
            },
            "type": "mesh3d"
           }
          ],
          "parcoords": [
           {
            "line": {
             "colorbar": {
              "outlinewidth": 0,
              "ticks": ""
             }
            },
            "type": "parcoords"
           }
          ],
          "pie": [
           {
            "automargin": true,
            "type": "pie"
           }
          ],
          "scatter": [
           {
            "fillpattern": {
             "fillmode": "overlay",
             "size": 10,
             "solidity": 0.2
            },
            "type": "scatter"
           }
          ],
          "scatter3d": [
           {
            "line": {
             "colorbar": {
              "outlinewidth": 0,
              "ticks": ""
             }
            },
            "marker": {
             "colorbar": {
              "outlinewidth": 0,
              "ticks": ""
             }
            },
            "type": "scatter3d"
           }
          ],
          "scattercarpet": [
           {
            "marker": {
             "colorbar": {
              "outlinewidth": 0,
              "ticks": ""
             }
            },
            "type": "scattercarpet"
           }
          ],
          "scattergeo": [
           {
            "marker": {
             "colorbar": {
              "outlinewidth": 0,
              "ticks": ""
             }
            },
            "type": "scattergeo"
           }
          ],
          "scattergl": [
           {
            "marker": {
             "colorbar": {
              "outlinewidth": 0,
              "ticks": ""
             }
            },
            "type": "scattergl"
           }
          ],
          "scattermap": [
           {
            "marker": {
             "colorbar": {
              "outlinewidth": 0,
              "ticks": ""
             }
            },
            "type": "scattermap"
           }
          ],
          "scattermapbox": [
           {
            "marker": {
             "colorbar": {
              "outlinewidth": 0,
              "ticks": ""
             }
            },
            "type": "scattermapbox"
           }
          ],
          "scatterpolar": [
           {
            "marker": {
             "colorbar": {
              "outlinewidth": 0,
              "ticks": ""
             }
            },
            "type": "scatterpolar"
           }
          ],
          "scatterpolargl": [
           {
            "marker": {
             "colorbar": {
              "outlinewidth": 0,
              "ticks": ""
             }
            },
            "type": "scatterpolargl"
           }
          ],
          "scatterternary": [
           {
            "marker": {
             "colorbar": {
              "outlinewidth": 0,
              "ticks": ""
             }
            },
            "type": "scatterternary"
           }
          ],
          "surface": [
           {
            "colorbar": {
             "outlinewidth": 0,
             "ticks": ""
            },
            "colorscale": [
             [
              0,
              "#0d0887"
             ],
             [
              0.1111111111111111,
              "#46039f"
             ],
             [
              0.2222222222222222,
              "#7201a8"
             ],
             [
              0.3333333333333333,
              "#9c179e"
             ],
             [
              0.4444444444444444,
              "#bd3786"
             ],
             [
              0.5555555555555556,
              "#d8576b"
             ],
             [
              0.6666666666666666,
              "#ed7953"
             ],
             [
              0.7777777777777778,
              "#fb9f3a"
             ],
             [
              0.8888888888888888,
              "#fdca26"
             ],
             [
              1,
              "#f0f921"
             ]
            ],
            "type": "surface"
           }
          ],
          "table": [
           {
            "cells": {
             "fill": {
              "color": "#EBF0F8"
             },
             "line": {
              "color": "white"
             }
            },
            "header": {
             "fill": {
              "color": "#C8D4E3"
             },
             "line": {
              "color": "white"
             }
            },
            "type": "table"
           }
          ]
         },
         "layout": {
          "annotationdefaults": {
           "arrowcolor": "#2a3f5f",
           "arrowhead": 0,
           "arrowwidth": 1
          },
          "autotypenumbers": "strict",
          "coloraxis": {
           "colorbar": {
            "outlinewidth": 0,
            "ticks": ""
           }
          },
          "colorscale": {
           "diverging": [
            [
             0,
             "#8e0152"
            ],
            [
             0.1,
             "#c51b7d"
            ],
            [
             0.2,
             "#de77ae"
            ],
            [
             0.3,
             "#f1b6da"
            ],
            [
             0.4,
             "#fde0ef"
            ],
            [
             0.5,
             "#f7f7f7"
            ],
            [
             0.6,
             "#e6f5d0"
            ],
            [
             0.7,
             "#b8e186"
            ],
            [
             0.8,
             "#7fbc41"
            ],
            [
             0.9,
             "#4d9221"
            ],
            [
             1,
             "#276419"
            ]
           ],
           "sequential": [
            [
             0,
             "#0d0887"
            ],
            [
             0.1111111111111111,
             "#46039f"
            ],
            [
             0.2222222222222222,
             "#7201a8"
            ],
            [
             0.3333333333333333,
             "#9c179e"
            ],
            [
             0.4444444444444444,
             "#bd3786"
            ],
            [
             0.5555555555555556,
             "#d8576b"
            ],
            [
             0.6666666666666666,
             "#ed7953"
            ],
            [
             0.7777777777777778,
             "#fb9f3a"
            ],
            [
             0.8888888888888888,
             "#fdca26"
            ],
            [
             1,
             "#f0f921"
            ]
           ],
           "sequentialminus": [
            [
             0,
             "#0d0887"
            ],
            [
             0.1111111111111111,
             "#46039f"
            ],
            [
             0.2222222222222222,
             "#7201a8"
            ],
            [
             0.3333333333333333,
             "#9c179e"
            ],
            [
             0.4444444444444444,
             "#bd3786"
            ],
            [
             0.5555555555555556,
             "#d8576b"
            ],
            [
             0.6666666666666666,
             "#ed7953"
            ],
            [
             0.7777777777777778,
             "#fb9f3a"
            ],
            [
             0.8888888888888888,
             "#fdca26"
            ],
            [
             1,
             "#f0f921"
            ]
           ]
          },
          "colorway": [
           "#636efa",
           "#EF553B",
           "#00cc96",
           "#ab63fa",
           "#FFA15A",
           "#19d3f3",
           "#FF6692",
           "#B6E880",
           "#FF97FF",
           "#FECB52"
          ],
          "font": {
           "color": "#2a3f5f"
          },
          "geo": {
           "bgcolor": "white",
           "lakecolor": "white",
           "landcolor": "#E5ECF6",
           "showlakes": true,
           "showland": true,
           "subunitcolor": "white"
          },
          "hoverlabel": {
           "align": "left"
          },
          "hovermode": "closest",
          "mapbox": {
           "style": "light"
          },
          "paper_bgcolor": "white",
          "plot_bgcolor": "#E5ECF6",
          "polar": {
           "angularaxis": {
            "gridcolor": "white",
            "linecolor": "white",
            "ticks": ""
           },
           "bgcolor": "#E5ECF6",
           "radialaxis": {
            "gridcolor": "white",
            "linecolor": "white",
            "ticks": ""
           }
          },
          "scene": {
           "xaxis": {
            "backgroundcolor": "#E5ECF6",
            "gridcolor": "white",
            "gridwidth": 2,
            "linecolor": "white",
            "showbackground": true,
            "ticks": "",
            "zerolinecolor": "white"
           },
           "yaxis": {
            "backgroundcolor": "#E5ECF6",
            "gridcolor": "white",
            "gridwidth": 2,
            "linecolor": "white",
            "showbackground": true,
            "ticks": "",
            "zerolinecolor": "white"
           },
           "zaxis": {
            "backgroundcolor": "#E5ECF6",
            "gridcolor": "white",
            "gridwidth": 2,
            "linecolor": "white",
            "showbackground": true,
            "ticks": "",
            "zerolinecolor": "white"
           }
          },
          "shapedefaults": {
           "line": {
            "color": "#2a3f5f"
           }
          },
          "ternary": {
           "aaxis": {
            "gridcolor": "white",
            "linecolor": "white",
            "ticks": ""
           },
           "baxis": {
            "gridcolor": "white",
            "linecolor": "white",
            "ticks": ""
           },
           "bgcolor": "#E5ECF6",
           "caxis": {
            "gridcolor": "white",
            "linecolor": "white",
            "ticks": ""
           }
          },
          "title": {
           "x": 0.05
          },
          "xaxis": {
           "automargin": true,
           "gridcolor": "white",
           "linecolor": "white",
           "ticks": "",
           "title": {
            "standoff": 15
           },
           "zerolinecolor": "white",
           "zerolinewidth": 2
          },
          "yaxis": {
           "automargin": true,
           "gridcolor": "white",
           "linecolor": "white",
           "ticks": "",
           "title": {
            "standoff": 15
           },
           "zerolinecolor": "white",
           "zerolinewidth": 2
          }
         }
        },
        "xaxis": {
         "anchor": "y",
         "constrain": "domain",
         "domain": [
          0,
          1
         ],
         "scaleanchor": "y"
        },
        "yaxis": {
         "anchor": "x",
         "autorange": "reversed",
         "constrain": "domain",
         "domain": [
          0,
          1
         ]
        }
       }
      },
      "image/png": "[encoded data removed]"
     },
     "metadata": {},
     "output_type": "display_data"
    }
   ],
   "source": [
    "px.imshow(corr,x=corr.columns,y=corr.columns)\n",
    "\n",
    "#<xml xmlns=\"https://developers.google.com/blockly/xml\"><variables><variable id=\"+yh,Zg{hON]zy6D~.rH#\">px</variable><variable id=\"Nzf/=Q)W#.;)QR}gY_Ur\">corr</variable></variables><block type=\"varDoMethod\" id=\";Cb=u8[v?Z=ZqSh!rye-\" x=\"8\" y=\"176\"><mutation items=\"3\"></mutation><field name=\"VAR\" id=\"+yh,Zg{hON]zy6D~.rH#\">px</field><field name=\"MEMBER\">imshow</field><data>px:imshow</data><value name=\"ADD0\"><block type=\"variables_get\" id=\"8R}*biK{_3*YsC5vT-Sw\"><field name=\"VAR\" id=\"Nzf/=Q)W#.;)QR}gY_Ur\">corr</field></block></value><value name=\"ADD1\"><block type=\"dummyOutputCodeBlock\" id=\"P19%UZQYzb=tJWH-[-D.\"><field name=\"CODE\">x=corr.columns</field></block></value><value name=\"ADD2\"><block type=\"dummyOutputCodeBlock\" id=\"`nYiz=e7MyuC3[iPuHsz\"><field name=\"CODE\">y=corr.columns</field></block></value></block></xml>"
   ]
  },
  {
   "cell_type": "markdown",
   "metadata": {},
   "source": [
    "-----------\n",
    "**QUESTION:**\n",
    "\n",
    "What can you say about the correlations amongst the variables?"
   ]
  },
  {
   "cell_type": "markdown",
   "metadata": {},
   "source": [
    "**ANSWER: (click here to edit)**\n",
    "\n",
    "*You can see the three group structure referenced in the data description, because each group has similar correlations to all other variables.\n",
    "It appears the first and third groups are very similar, but the second group is a bit different (less strongly correlated with some variables.\n",
    "Finally, the class label seems to be negatively correlated with many of the variables and not correlated with a small number of them.*\n",
    "<hr>"
   ]
  },
  {
   "cell_type": "markdown",
   "metadata": {},
   "source": [
    "\n",
    "**QUESTION:**\n",
    "\n",
    "Are there any more plots you'd want to do at this point? Why or why not?"
   ]
  },
  {
   "cell_type": "markdown",
   "metadata": {},
   "source": [
    "**ANSWER: (click here to edit)**\n",
    "\n",
    "*We already have the class imbalance from the descriptives. \n",
    "We could do a scatterplot matrix to look for nonlinear relationships since that is important for logistic regression.*\n",
    "<hr>"
   ]
  },
  {
   "cell_type": "markdown",
   "metadata": {},
   "source": [
    "### Prepare train/test sets"
   ]
  },
  {
   "cell_type": "markdown",
   "metadata": {},
   "source": [
    "Separate our predictors (`X`) from our class label (`Y`), putting each into its own dataframe."
   ]
  },
  {
   "cell_type": "code",
   "execution_count": 23,
   "metadata": {
    "user_blocks": [
     "variables_set",
     "varDoMethod",
     "dummyOutputCodeBlock",
     "variables_set",
     "indexer",
     "lists_create_with",
     "text"
    ],
    "user_blocks_xml": "<xml xmlns=\"https://developers.google.com/blockly/xml\"><variables><variable id=\"_z/H/tTnOYS1Lla2~;*0\">X</variable><variable id=\"o8#tp%!,_Okj2aVwX(DL\">Y</variable><variable id=\"Y+grzOaS*0=OHV6zO8m/\">dataframe</variable></variables><block type=\"variables_set\" id=\"v$m6b}OQu(wF6Gk!)w:Z\" x=\"95\" y=\"191\"><field name=\"VAR\" id=\"_z/H/tTnOYS1Lla2~;*0\">X</field><value name=\"VALUE\"><block type=\"varDoMethod\" id=\"mA!*r=_YYu?ypCUOhdUQ\"><mutation items=\"1\"></mutation><field name=\"VAR\" id=\"Y+grzOaS*0=OHV6zO8m/\">dataframe</field><field name=\"MEMBER\">drop</field><data>dataframe:drop</data><value name=\"ADD0\"><block type=\"dummyOutputCodeBlock\" id=\"zG~mVrGO2la?/4Tc#+4K\"><field name=\"CODE\">columns=[\"Target\"]</field></block></value></block></value></block><block type=\"variables_set\" id=\"J.(r-ci$Z]0(z{=R,T;+\" x=\"99\" y=\"279\"><field name=\"VAR\" id=\"o8#tp%!,_Okj2aVwX(DL\">Y</field><value name=\"VALUE\"><block type=\"indexer\" id=\"6o/%E8zn:UY-`.k%%dlC\"><field name=\"VAR\" id=\"Y+grzOaS*0=OHV6zO8m/\">dataframe</field><value name=\"INDEX\"><block type=\"lists_create_with\" id=\".^J[E#0S[3`@2d@+Mu@n\"><mutation items=\"1\"></mutation><value name=\"ADD0\"><block type=\"text\" id=\"M*Uc@Tv*y}{]xN4#,S9j\"><field name=\"TEXT\">Target</field></block></value></block></value></block></value></block></xml>",
    "user_code_from_blocks": "X = dataframe.drop(columns=[\"Target\"])\n\nY = dataframe[['Target']]\n"
   },
   "outputs": [],
   "source": [
    "X = dataframe.drop(columns=[\"Target\"])\n",
    "\n",
    "Y = dataframe[['Target']]\n",
    "\n",
    "#<xml xmlns=\"https://developers.google.com/blockly/xml\"><variables><variable id=\"_z/H/tTnOYS1Lla2~;*0\">X</variable><variable id=\"o8#tp%!,_Okj2aVwX(DL\">Y</variable><variable id=\"Y+grzOaS*0=OHV6zO8m/\">dataframe</variable></variables><block type=\"variables_set\" id=\"v$m6b}OQu(wF6Gk!)w:Z\" x=\"95\" y=\"191\"><field name=\"VAR\" id=\"_z/H/tTnOYS1Lla2~;*0\">X</field><value name=\"VALUE\"><block type=\"varDoMethod\" id=\"mA!*r=_YYu?ypCUOhdUQ\"><mutation items=\"1\"></mutation><field name=\"VAR\" id=\"Y+grzOaS*0=OHV6zO8m/\">dataframe</field><field name=\"MEMBER\">drop</field><data>dataframe:drop</data><value name=\"ADD0\"><block type=\"dummyOutputCodeBlock\" id=\"zG~mVrGO2la?/4Tc#+4K\"><field name=\"CODE\">columns=[\"Target\"]</field></block></value></block></value></block><block type=\"variables_set\" id=\"J.(r-ci$Z]0(z{=R,T;+\" x=\"99\" y=\"279\"><field name=\"VAR\" id=\"o8#tp%!,_Okj2aVwX(DL\">Y</field><value name=\"VALUE\"><block type=\"indexer\" id=\"6o/%E8zn:UY-`.k%%dlC\"><field name=\"VAR\" id=\"Y+grzOaS*0=OHV6zO8m/\">dataframe</field><value name=\"INDEX\"><block type=\"lists_create_with\" id=\".^J[E#0S[3`@2d@+Mu@n\"><mutation items=\"1\"></mutation><value name=\"ADD0\"><block type=\"text\" id=\"M*Uc@Tv*y}{]xN4#,S9j\"><field name=\"TEXT\">Target</field></block></value></block></value></block></value></block></xml>"
   ]
  },
  {
   "cell_type": "markdown",
   "metadata": {},
   "source": [
    "### Train model with nested crossvalidation\n",
    "\n",
    "Import libraries for \n",
    "\n",
    "- Logistic regression (`sklearn.linear_model`)\n",
    "- Crossvalidation\n",
    "- `ravel`\n",
    "- Scale (lasso regression is very sensitive to standardization)\n",
    "- Pipeline (to combine scaling and modeling)\n",
    "- Metrics (for evaluation)"
   ]
  },
  {
   "cell_type": "code",
   "execution_count": 24,
   "metadata": {
    "user_blocks": [
     "importAs",
     "importAs",
     "importAs",
     "importAs",
     "importAs",
     "importAs"
    ],
    "user_blocks_xml": "<xml xmlns=\"https://developers.google.com/blockly/xml\"><variables><variable id=\"cGnMvhq5543q[r$:Og-x\">linear_model</variable><variable id=\"-q~R*yx.VGQ@%!0Q+!gh\">model_selection</variable><variable id=\"hxqH|@PJU~wrI]t*tHgd\">np</variable><variable id=\".T`xqZHAu7r0$MQ4s=Yg\">pp</variable><variable id=\"=z9KfSBWpoDS,oj-?yx,\">pipe</variable><variable id=\"jpz]0=,hLYv~rN^#0dFO\">metrics</variable></variables><block type=\"importAs\" id=\"a_VXotnNJ4I;X-InkXS5\" x=\"-3\" y=\"136\"><field name=\"libraryName\">sklearn.linear_model</field><field name=\"VAR\" id=\"cGnMvhq5543q[r$:Og-x\">linear_model</field><next><block type=\"importAs\" id=\"E{QJ$O@lc8u.;OTWdVgf\"><field name=\"libraryName\">sklearn.model_selection</field><field name=\"VAR\" id=\"-q~R*yx.VGQ@%!0Q+!gh\">model_selection</field><next><block type=\"importAs\" id=\"%54AMyx`5atYhM+,;y=E\"><field name=\"libraryName\">numpy</field><field name=\"VAR\" id=\"hxqH|@PJU~wrI]t*tHgd\">np</field><next><block type=\"importAs\" id=\"Y_X_=wl?6L0]3t_pz!qr\"><field name=\"libraryName\">sklearn.preprocessing</field><field name=\"VAR\" id=\".T`xqZHAu7r0$MQ4s=Yg\">pp</field><next><block type=\"importAs\" id=\"a2fY;O3%6%So/D6a1oop\"><field name=\"libraryName\">sklearn.pipeline</field><field name=\"VAR\" id=\"=z9KfSBWpoDS,oj-?yx,\">pipe</field><next><block type=\"importAs\" id=\"t2i[`M_,(h0KHIF4[UGr\"><field name=\"libraryName\">sklearn.metrics</field><field name=\"VAR\" id=\"jpz]0=,hLYv~rN^#0dFO\">metrics</field></block></next></block></next></block></next></block></next></block></next></block></xml>",
    "user_code_from_blocks": "import sklearn.linear_model as linear_model\nimport sklearn.model_selection as model_selection\nimport numpy as np\nimport sklearn.preprocessing as pp\nimport sklearn.pipeline as pipe\nimport sklearn.metrics as metrics\n"
   },
   "outputs": [],
   "source": [
    "import sklearn.linear_model as linear_model\n",
    "import sklearn.model_selection as model_selection\n",
    "import numpy as np\n",
    "import sklearn.preprocessing as pp\n",
    "import sklearn.pipeline as pipe\n",
    "import sklearn.metrics as metrics\n",
    "\n",
    "#<xml xmlns=\"https://developers.google.com/blockly/xml\"><variables><variable id=\"cGnMvhq5543q[r$:Og-x\">linear_model</variable><variable id=\"-q~R*yx.VGQ@%!0Q+!gh\">model_selection</variable><variable id=\"hxqH|@PJU~wrI]t*tHgd\">np</variable><variable id=\".T`xqZHAu7r0$MQ4s=Yg\">pp</variable><variable id=\"=z9KfSBWpoDS,oj-?yx,\">pipe</variable><variable id=\"jpz]0=,hLYv~rN^#0dFO\">metrics</variable></variables><block type=\"importAs\" id=\"a_VXotnNJ4I;X-InkXS5\" x=\"-3\" y=\"136\"><field name=\"libraryName\">sklearn.linear_model</field><field name=\"VAR\" id=\"cGnMvhq5543q[r$:Og-x\">linear_model</field><next><block type=\"importAs\" id=\"E{QJ$O@lc8u.;OTWdVgf\"><field name=\"libraryName\">sklearn.model_selection</field><field name=\"VAR\" id=\"-q~R*yx.VGQ@%!0Q+!gh\">model_selection</field><next><block type=\"importAs\" id=\"%54AMyx`5atYhM+,;y=E\"><field name=\"libraryName\">numpy</field><field name=\"VAR\" id=\"hxqH|@PJU~wrI]t*tHgd\">np</field><next><block type=\"importAs\" id=\"Y_X_=wl?6L0]3t_pz!qr\"><field name=\"libraryName\">sklearn.preprocessing</field><field name=\"VAR\" id=\".T`xqZHAu7r0$MQ4s=Yg\">pp</field><next><block type=\"importAs\" id=\"a2fY;O3%6%So/D6a1oop\"><field name=\"libraryName\">sklearn.pipeline</field><field name=\"VAR\" id=\"=z9KfSBWpoDS,oj-?yx,\">pipe</field><next><block type=\"importAs\" id=\"t2i[`M_,(h0KHIF4[UGr\"><field name=\"libraryName\">sklearn.metrics</field><field name=\"VAR\" id=\"jpz]0=,hLYv~rN^#0dFO\">metrics</field></block></next></block></next></block></next></block></next></block></next></block></xml>"
   ]
  },
  {
   "cell_type": "markdown",
   "metadata": {},
   "source": [
    "Create a pipeline to scale and train in one step:\n",
    "- Call stage 1 `\"scale\"` and use `StandardScaler`\n",
    "- Call stage 2 `\"lasso\"` and use `LogisticRegression` with `penalty=\"l2\"`\n"
   ]
  },
  {
   "cell_type": "code",
   "execution_count": 25,
   "metadata": {
    "user_blocks": [
     "variables_set",
     "varCreateObject",
     "lists_create_with",
     "tupleBlock",
     "text",
     "varCreateObject",
     "tupleBlock",
     "text",
     "varCreateObject",
     "dummyOutputCodeBlock"
    ],
    "user_blocks_xml": "<xml xmlns=\"https://developers.google.com/blockly/xml\"><variables><variable id=\"WMn%x,]:2AW7#OLRLzEH\">model</variable><variable id=\"=z9KfSBWpoDS,oj-?yx,\">pipe</variable><variable id=\".T`xqZHAu7r0$MQ4s=Yg\">pp</variable><variable id=\"cGnMvhq5543q[r$:Og-x\">linear_model</variable></variables><block type=\"variables_set\" id=\"/Qq`Z+-E+@?d7iqIa$gt\" x=\"-81\" y=\"270\"><field name=\"VAR\" id=\"WMn%x,]:2AW7#OLRLzEH\">model</field><value name=\"VALUE\"><block type=\"varCreateObject\" id=\"C1|kicy)4reyhtAHqLiy\"><mutation items=\"1\"></mutation><field name=\"VAR\" id=\"=z9KfSBWpoDS,oj-?yx,\">pipe</field><field name=\"MEMBER\">Pipeline</field><data>pipe:Pipeline</data><value name=\"ADD0\"><block type=\"lists_create_with\" id=\"_l)zP/3CzX:}g67,c=WQ\"><mutation items=\"2\"></mutation><value name=\"ADD0\"><block type=\"tupleBlock\" id=\"1maX^Dw3HS=.B.Nu|X36\"><value name=\"FIRST\"><block type=\"text\" id=\"DiZ?E2]);rmc#9%ta{V:\"><field name=\"TEXT\">scale</field></block></value><value name=\"SECOND\"><block type=\"varCreateObject\" id=\"R0A,0sp15n@tOP;u(ZK[\"><mutation items=\"1\"></mutation><field name=\"VAR\" id=\".T`xqZHAu7r0$MQ4s=Yg\">pp</field><field name=\"MEMBER\">StandardScaler</field><data>pp:StandardScaler</data></block></value></block></value><value name=\"ADD1\"><block type=\"tupleBlock\" id=\"X*K@DJs:A2Y[YDBsYLE9\"><value name=\"FIRST\"><block type=\"text\" id=\"zVx=RpJIpMJVwqSv(}r=\"><field name=\"TEXT\">lasso</field></block></value><value name=\"SECOND\"><block type=\"varCreateObject\" id=\"7J3ooiL#@;m{L]Z39ntG\"><mutation items=\"1\"></mutation><field name=\"VAR\" id=\"cGnMvhq5543q[r$:Og-x\">linear_model</field><field name=\"MEMBER\">LogisticRegression</field><data>linear_model:LogisticRegression</data><value name=\"ADD0\"><block type=\"dummyOutputCodeBlock\" id=\"G_=6Myq/5e|A}qv]wKgP\"><field name=\"CODE\">penalty=\"l2\"</field></block></value></block></value></block></value></block></value></block></value></block></xml>",
    "user_code_from_blocks": "model = pipe.Pipeline([('scale',(pp.StandardScaler())), ('lasso',(linear_model.LogisticRegression(penalty=\"l2\")))])\n"
   },
   "outputs": [],
   "source": [
    "model = pipe.Pipeline([('scale',(pp.StandardScaler())), ('lasso',(linear_model.LogisticRegression(penalty=\"l2\")))])\n",
    "\n",
    "#<xml xmlns=\"https://developers.google.com/blockly/xml\"><variables><variable id=\"WMn%x,]:2AW7#OLRLzEH\">model</variable><variable id=\"=z9KfSBWpoDS,oj-?yx,\">pipe</variable><variable id=\".T`xqZHAu7r0$MQ4s=Yg\">pp</variable><variable id=\"cGnMvhq5543q[r$:Og-x\">linear_model</variable></variables><block type=\"variables_set\" id=\"/Qq`Z+-E+@?d7iqIa$gt\" x=\"-81\" y=\"270\"><field name=\"VAR\" id=\"WMn%x,]:2AW7#OLRLzEH\">model</field><value name=\"VALUE\"><block type=\"varCreateObject\" id=\"C1|kicy)4reyhtAHqLiy\"><mutation items=\"1\"></mutation><field name=\"VAR\" id=\"=z9KfSBWpoDS,oj-?yx,\">pipe</field><field name=\"MEMBER\">Pipeline</field><data>pipe:Pipeline</data><value name=\"ADD0\"><block type=\"lists_create_with\" id=\"_l)zP/3CzX:}g67,c=WQ\"><mutation items=\"2\"></mutation><value name=\"ADD0\"><block type=\"tupleBlock\" id=\"1maX^Dw3HS=.B.Nu|X36\"><value name=\"FIRST\"><block type=\"text\" id=\"DiZ?E2]);rmc#9%ta{V:\"><field name=\"TEXT\">scale</field></block></value><value name=\"SECOND\"><block type=\"varCreateObject\" id=\"R0A,0sp15n@tOP;u(ZK[\"><mutation items=\"1\"></mutation><field name=\"VAR\" id=\".T`xqZHAu7r0$MQ4s=Yg\">pp</field><field name=\"MEMBER\">StandardScaler</field><data>pp:StandardScaler</data></block></value></block></value><value name=\"ADD1\"><block type=\"tupleBlock\" id=\"X*K@DJs:A2Y[YDBsYLE9\"><value name=\"FIRST\"><block type=\"text\" id=\"zVx=RpJIpMJVwqSv(}r=\"><field name=\"TEXT\">lasso</field></block></value><value name=\"SECOND\"><block type=\"varCreateObject\" id=\"7J3ooiL#@;m{L]Z39ntG\"><mutation items=\"1\"></mutation><field name=\"VAR\" id=\"cGnMvhq5543q[r$:Og-x\">linear_model</field><field name=\"MEMBER\">LogisticRegression</field><data>linear_model:LogisticRegression</data><value name=\"ADD0\"><block type=\"dummyOutputCodeBlock\" id=\"G_=6Myq/5e|A}qv]wKgP\"><field name=\"CODE\">penalty=\"l2\"</field></block></value></block></value></block></value></block></value></block></value></block></xml>"
   ]
  },
  {
   "cell_type": "markdown",
   "metadata": {},
   "source": [
    "Create a grid search with:\n",
    "- `'lasso__C': [.25, .50, .75, 1.0]`\n",
    "- `cv=10`\n",
    "\n",
    "Create predictions using `cross_val_predict` with the grid search, data and `cv=10`"
   ]
  },
  {
   "cell_type": "code",
   "execution_count": 26,
   "metadata": {
    "user_blocks": [
     "variables_set",
     "varCreateObject",
     "dummyOutputCodeBlock",
     "dummyOutputCodeBlock",
     "dummyOutputCodeBlock",
     "variables_set",
     "varDoMethod",
     "variables_get",
     "variables_get",
     "varDoMethod",
     "variables_get",
     "dummyOutputCodeBlock"
    ],
    "user_blocks_xml": "<xml xmlns=\"https://developers.google.com/blockly/xml\"><variables><variable id=\"yv+gPAZd/8:NDOnmJ~uf\">gridSearch</variable><variable id=\"(`;mrW|63Vww]$wlV9+1\">predictions</variable><variable id=\"-q~R*yx.VGQ@%!0Q+!gh\">model_selection</variable><variable id=\"_z/H/tTnOYS1Lla2~;*0\">X</variable><variable id=\"hxqH|@PJU~wrI]t*tHgd\">np</variable><variable id=\"o8#tp%!,_Okj2aVwX(DL\">Y</variable></variables><block type=\"variables_set\" id=\"MdOb2;C)R63)q*Rc2=ST\" x=\"-121\" y=\"238\"><field name=\"VAR\" id=\"yv+gPAZd/8:NDOnmJ~uf\">gridSearch</field><value name=\"VALUE\"><block type=\"varCreateObject\" id=\"CH5|hYh%Pz@KaZhFAm=y\"><mutation items=\"3\"></mutation><field name=\"VAR\" id=\"-q~R*yx.VGQ@%!0Q+!gh\">model_selection</field><field name=\"MEMBER\">GridSearchCV</field><data>model_selection:GridSearchCV</data><value name=\"ADD0\"><block type=\"dummyOutputCodeBlock\" id=\"_[*=v~x0I=DYlb0$v*)m\"><field name=\"CODE\">estimator=model</field></block></value><value name=\"ADD1\"><block type=\"dummyOutputCodeBlock\" id=\"ei5PqC02zmUAht@0TGE`\"><field name=\"CODE\">param_grid={'lasso__C': [.25, .50, .75, 1.0]}</field></block></value><value name=\"ADD2\"><block type=\"dummyOutputCodeBlock\" id=\"|rwaRAwKdlmxrXv[CB5(\"><field name=\"CODE\">cv=10</field></block></value></block></value></block><block type=\"variables_set\" id=\"lSvA0DytvC@jnk4`j!b@\" x=\"-138\" y=\"386\"><field name=\"VAR\" id=\"(`;mrW|63Vww]$wlV9+1\">predictions</field><value name=\"VALUE\"><block type=\"varDoMethod\" id=\"-wd!`}p_pK]R$T[Yv{yX\"><mutation items=\"4\"></mutation><field name=\"VAR\" id=\"-q~R*yx.VGQ@%!0Q+!gh\">model_selection</field><field name=\"MEMBER\">cross_val_predict</field><data>model_selection:cross_val_predict</data><value name=\"ADD0\"><block type=\"variables_get\" id=\"1TBz_GS_%,|[%?#+^iOT\"><field name=\"VAR\" id=\"yv+gPAZd/8:NDOnmJ~uf\">gridSearch</field></block></value><value name=\"ADD1\"><block type=\"variables_get\" id=\"XJzP!dqd;3(:hPM;G=ZY\"><field name=\"VAR\" id=\"_z/H/tTnOYS1Lla2~;*0\">X</field></block></value><value name=\"ADD2\"><block type=\"varDoMethod\" id=\"$T?4UUb7hL:@:x}.v2[,\"><mutation items=\"1\"></mutation><field name=\"VAR\" id=\"hxqH|@PJU~wrI]t*tHgd\">np</field><field name=\"MEMBER\">ravel</field><data>np:ravel</data><value name=\"ADD0\"><block type=\"variables_get\" id=\"t88}nxVtUKyz,ou8{:p-\"><field name=\"VAR\" id=\"o8#tp%!,_Okj2aVwX(DL\">Y</field></block></value></block></value><value name=\"ADD3\"><block type=\"dummyOutputCodeBlock\" id=\"|:`mH*(*4#?X?haDRohM\"><field name=\"CODE\">cv=10</field></block></value></block></value></block></xml>",
    "user_code_from_blocks": "gridSearch = model_selection.GridSearchCV(estimator=model,param_grid={'lasso__C': [.25, .50, .75, 1.0]},cv=10)\n\npredictions = model_selection.cross_val_predict(gridSearch,X,np.ravel(Y),cv=10)\n"
   },
   "outputs": [],
   "source": [
    "gridSearch = model_selection.GridSearchCV(estimator=model,param_grid={'lasso__C': [.25, .50, .75, 1.0]},cv=10)\n",
    "\n",
    "predictions = model_selection.cross_val_predict(gridSearch,X,np.ravel(Y),cv=10)\n",
    "\n",
    "#<xml xmlns=\"https://developers.google.com/blockly/xml\"><variables><variable id=\"yv+gPAZd/8:NDOnmJ~uf\">gridSearch</variable><variable id=\"(`;mrW|63Vww]$wlV9+1\">predictions</variable><variable id=\"-q~R*yx.VGQ@%!0Q+!gh\">model_selection</variable><variable id=\"_z/H/tTnOYS1Lla2~;*0\">X</variable><variable id=\"hxqH|@PJU~wrI]t*tHgd\">np</variable><variable id=\"o8#tp%!,_Okj2aVwX(DL\">Y</variable></variables><block type=\"variables_set\" id=\"MdOb2;C)R63)q*Rc2=ST\" x=\"-121\" y=\"238\"><field name=\"VAR\" id=\"yv+gPAZd/8:NDOnmJ~uf\">gridSearch</field><value name=\"VALUE\"><block type=\"varCreateObject\" id=\"CH5|hYh%Pz@KaZhFAm=y\"><mutation items=\"3\"></mutation><field name=\"VAR\" id=\"-q~R*yx.VGQ@%!0Q+!gh\">model_selection</field><field name=\"MEMBER\">GridSearchCV</field><data>model_selection:GridSearchCV</data><value name=\"ADD0\"><block type=\"dummyOutputCodeBlock\" id=\"_[*=v~x0I=DYlb0$v*)m\"><field name=\"CODE\">estimator=model</field></block></value><value name=\"ADD1\"><block type=\"dummyOutputCodeBlock\" id=\"ei5PqC02zmUAht@0TGE`\"><field name=\"CODE\">param_grid={'lasso__C': [.25, .50, .75, 1.0]}</field></block></value><value name=\"ADD2\"><block type=\"dummyOutputCodeBlock\" id=\"|rwaRAwKdlmxrXv[CB5(\"><field name=\"CODE\">cv=10</field></block></value></block></value></block><block type=\"variables_set\" id=\"lSvA0DytvC@jnk4`j!b@\" x=\"-138\" y=\"386\"><field name=\"VAR\" id=\"(`;mrW|63Vww]$wlV9+1\">predictions</field><value name=\"VALUE\"><block type=\"varDoMethod\" id=\"-wd!`}p_pK]R$T[Yv{yX\"><mutation items=\"4\"></mutation><field name=\"VAR\" id=\"-q~R*yx.VGQ@%!0Q+!gh\">model_selection</field><field name=\"MEMBER\">cross_val_predict</field><data>model_selection:cross_val_predict</data><value name=\"ADD0\"><block type=\"variables_get\" id=\"1TBz_GS_%,|[%?#+^iOT\"><field name=\"VAR\" id=\"yv+gPAZd/8:NDOnmJ~uf\">gridSearch</field></block></value><value name=\"ADD1\"><block type=\"variables_get\" id=\"XJzP!dqd;3(:hPM;G=ZY\"><field name=\"VAR\" id=\"_z/H/tTnOYS1Lla2~;*0\">X</field></block></value><value name=\"ADD2\"><block type=\"varDoMethod\" id=\"$T?4UUb7hL:@:x}.v2[,\"><mutation items=\"1\"></mutation><field name=\"VAR\" id=\"hxqH|@PJU~wrI]t*tHgd\">np</field><field name=\"MEMBER\">ravel</field><data>np:ravel</data><value name=\"ADD0\"><block type=\"variables_get\" id=\"t88}nxVtUKyz,ou8{:p-\"><field name=\"VAR\" id=\"o8#tp%!,_Okj2aVwX(DL\">Y</field></block></value></block></value><value name=\"ADD3\"><block type=\"dummyOutputCodeBlock\" id=\"|:`mH*(*4#?X?haDRohM\"><field name=\"CODE\">cv=10</field></block></value></block></value></block></xml>"
   ]
  },
  {
   "cell_type": "markdown",
   "metadata": {},
   "source": [
    "### Evaluate the model"
   ]
  },
  {
   "cell_type": "markdown",
   "metadata": {},
   "source": [
    "Get the accuracy by comparing the predictions to *all* of `Y`."
   ]
  },
  {
   "cell_type": "code",
   "execution_count": 27,
   "metadata": {
    "user_blocks": [
     "varDoMethod",
     "variables_get",
     "variables_get"
    ],
    "user_blocks_xml": "<xml xmlns=\"https://developers.google.com/blockly/xml\"><variables><variable id=\"jpz]0=,hLYv~rN^#0dFO\">metrics</variable><variable id=\"o8#tp%!,_Okj2aVwX(DL\">Y</variable><variable id=\"(`;mrW|63Vww]$wlV9+1\">predictions</variable></variables><block type=\"varDoMethod\" id=\"F}9p/^p9*;pp~ZcNuE;@\" x=\"0\" y=\"176\"><mutation items=\"2\"></mutation><field name=\"VAR\" id=\"jpz]0=,hLYv~rN^#0dFO\">metrics</field><field name=\"MEMBER\">accuracy_score</field><data>metrics:accuracy_score</data><value name=\"ADD0\"><block type=\"variables_get\" id=\"LErTj1eg0L*3UA7lXLE{\"><field name=\"VAR\" id=\"o8#tp%!,_Okj2aVwX(DL\">Y</field></block></value><value name=\"ADD1\"><block type=\"variables_get\" id=\"lMeh@i^cTm54?r|qefnC\"><field name=\"VAR\" id=\"(`;mrW|63Vww]$wlV9+1\">predictions</field></block></value></block></xml>",
    "user_code_from_blocks": "metrics.accuracy_score(Y,predictions)\n"
   },
   "outputs": [
    {
     "data": {
      "text/plain": [
       "0.9802158273381295"
      ]
     },
     "execution_count": 27,
     "metadata": {},
     "output_type": "execute_result"
    }
   ],
   "source": [
    "metrics.accuracy_score(Y,predictions)\n",
    "\n",
    "#<xml xmlns=\"https://developers.google.com/blockly/xml\"><variables><variable id=\"jpz]0=,hLYv~rN^#0dFO\">metrics</variable><variable id=\"o8#tp%!,_Okj2aVwX(DL\">Y</variable><variable id=\"(`;mrW|63Vww]$wlV9+1\">predictions</variable></variables><block type=\"varDoMethod\" id=\"F}9p/^p9*;pp~ZcNuE;@\" x=\"0\" y=\"176\"><mutation items=\"2\"></mutation><field name=\"VAR\" id=\"jpz]0=,hLYv~rN^#0dFO\">metrics</field><field name=\"MEMBER\">accuracy_score</field><data>metrics:accuracy_score</data><value name=\"ADD0\"><block type=\"variables_get\" id=\"LErTj1eg0L*3UA7lXLE{\"><field name=\"VAR\" id=\"o8#tp%!,_Okj2aVwX(DL\">Y</field></block></value><value name=\"ADD1\"><block type=\"variables_get\" id=\"lMeh@i^cTm54?r|qefnC\"><field name=\"VAR\" id=\"(`;mrW|63Vww]$wlV9+1\">predictions</field></block></value></block></xml>"
   ]
  },
  {
   "cell_type": "markdown",
   "metadata": {},
   "source": [
    "Similarly we can get the recall and precision using all of `Y`."
   ]
  },
  {
   "cell_type": "code",
   "execution_count": 28,
   "metadata": {
    "user_blocks": [
     "text_print",
     "varDoMethod",
     "variables_get",
     "variables_get"
    ],
    "user_blocks_xml": "<xml xmlns=\"https://developers.google.com/blockly/xml\"><variables><variable id=\"jpz]0=,hLYv~rN^#0dFO\">metrics</variable><variable id=\"o8#tp%!,_Okj2aVwX(DL\">Y</variable><variable id=\"(`;mrW|63Vww]$wlV9+1\">predictions</variable></variables><block type=\"text_print\" id=\"{9DtH#+Zi{1}^((zc[x!\" x=\"87\" y=\"368\"><value name=\"TEXT\"><shadow type=\"text\" id=\"|?Q+,+Qs3m9t(4eE@qGx\"><field name=\"TEXT\">abc</field></shadow><block type=\"varDoMethod\" id=\"F}9p/^p9*;pp~ZcNuE;@\"><mutation items=\"2\"></mutation><field name=\"VAR\" id=\"jpz]0=,hLYv~rN^#0dFO\">metrics</field><field name=\"MEMBER\">classification_report</field><data>metrics:classification_report</data><value name=\"ADD0\"><block type=\"variables_get\" id=\"LErTj1eg0L*3UA7lXLE{\"><field name=\"VAR\" id=\"o8#tp%!,_Okj2aVwX(DL\">Y</field></block></value><value name=\"ADD1\"><block type=\"variables_get\" id=\"lMeh@i^cTm54?r|qefnC\"><field name=\"VAR\" id=\"(`;mrW|63Vww]$wlV9+1\">predictions</field></block></value></block></value></block></xml>",
    "user_code_from_blocks": "print(metrics.classification_report(Y,predictions))\n"
   },
   "outputs": [
    {
     "name": "stdout",
     "output_type": "stream",
     "text": [
      "              precision    recall  f1-score   support\n",
      "\n",
      "           0       0.99      0.96      0.97       212\n",
      "           1       0.97      0.99      0.98       344\n",
      "\n",
      "    accuracy                           0.98       556\n",
      "   macro avg       0.98      0.98      0.98       556\n",
      "weighted avg       0.98      0.98      0.98       556\n",
      "\n"
     ]
    }
   ],
   "source": [
    "print(metrics.classification_report(Y,predictions))\n",
    "\n",
    "#<xml xmlns=\"https://developers.google.com/blockly/xml\"><variables><variable id=\"jpz]0=,hLYv~rN^#0dFO\">metrics</variable><variable id=\"o8#tp%!,_Okj2aVwX(DL\">Y</variable><variable id=\"(`;mrW|63Vww]$wlV9+1\">predictions</variable></variables><block type=\"text_print\" id=\"{9DtH#+Zi{1}^((zc[x!\" x=\"87\" y=\"368\"><value name=\"TEXT\"><shadow type=\"text\" id=\"|?Q+,+Qs3m9t(4eE@qGx\"><field name=\"TEXT\">abc</field></shadow><block type=\"varDoMethod\" id=\"F}9p/^p9*;pp~ZcNuE;@\"><mutation items=\"2\"></mutation><field name=\"VAR\" id=\"jpz]0=,hLYv~rN^#0dFO\">metrics</field><field name=\"MEMBER\">classification_report</field><data>metrics:classification_report</data><value name=\"ADD0\"><block type=\"variables_get\" id=\"LErTj1eg0L*3UA7lXLE{\"><field name=\"VAR\" id=\"o8#tp%!,_Okj2aVwX(DL\">Y</field></block></value><value name=\"ADD1\"><block type=\"variables_get\" id=\"lMeh@i^cTm54?r|qefnC\"><field name=\"VAR\" id=\"(`;mrW|63Vww]$wlV9+1\">predictions</field></block></value></block></value></block></xml>"
   ]
  },
  {
   "cell_type": "markdown",
   "metadata": {},
   "source": [
    "### Hyperparameter\n",
    "\n",
    "Use `fit` on the grid search to learn the best overall hyperparameter value for `C`."
   ]
  },
  {
   "cell_type": "code",
   "execution_count": 29,
   "metadata": {
    "user_blocks": [
     "varDoMethod",
     "variables_get",
     "varDoMethod",
     "variables_get"
    ],
    "user_blocks_xml": "<xml xmlns=\"https://developers.google.com/blockly/xml\"><variables><variable id=\"yv+gPAZd/8:NDOnmJ~uf\">gridSearch</variable><variable id=\"_z/H/tTnOYS1Lla2~;*0\">X</variable><variable id=\"hxqH|@PJU~wrI]t*tHgd\">np</variable><variable id=\"o8#tp%!,_Okj2aVwX(DL\">Y</variable></variables><block type=\"varDoMethod\" id=\".[DsHG}f2S4=]TC5Wwx1\" x=\"17\" y=\"386\"><mutation items=\"2\"></mutation><field name=\"VAR\" id=\"yv+gPAZd/8:NDOnmJ~uf\">gridSearch</field><field name=\"MEMBER\">fit</field><data>gridSearch:fit</data><value name=\"ADD0\"><block type=\"variables_get\" id=\"`B(AHJOp9Qp}qrPxooSc\"><field name=\"VAR\" id=\"_z/H/tTnOYS1Lla2~;*0\">X</field></block></value><value name=\"ADD1\"><block type=\"varDoMethod\" id=\"$atcQ%H`L]6,1bhQmCH9\"><mutation items=\"1\"></mutation><field name=\"VAR\" id=\"hxqH|@PJU~wrI]t*tHgd\">np</field><field name=\"MEMBER\">ravel</field><data>np:ravel</data><value name=\"ADD0\"><block type=\"variables_get\" id=\"L!.qq-Tn}xc#Lht8WJAL\"><field name=\"VAR\" id=\"o8#tp%!,_Okj2aVwX(DL\">Y</field></block></value></block></value></block></xml>",
    "user_code_from_blocks": "gridSearch.fit(X,np.ravel(Y))\n"
   },
   "outputs": [
    {
     "data": {
      "text/html": [
       "<style>#sk-container-id-1 {\n",
       "  /* Definition of color scheme common for light and dark mode */\n",
       "  --sklearn-color-text: #000;\n",
       "  --sklearn-color-text-muted: #666;\n",
       "  --sklearn-color-line: gray;\n",
       "  /* Definition of color scheme for unfitted estimators */\n",
       "  --sklearn-color-unfitted-level-0: #fff5e6;\n",
       "  --sklearn-color-unfitted-level-1: #f6e4d2;\n",
       "  --sklearn-color-unfitted-level-2: #ffe0b3;\n",
       "  --sklearn-color-unfitted-level-3: chocolate;\n",
       "  /* Definition of color scheme for fitted estimators */\n",
       "  --sklearn-color-fitted-level-0: #f0f8ff;\n",
       "  --sklearn-color-fitted-level-1: #d4ebff;\n",
       "  --sklearn-color-fitted-level-2: #b3dbfd;\n",
       "  --sklearn-color-fitted-level-3: cornflowerblue;\n",
       "\n",
       "  /* Specific color for light theme */\n",
       "  --sklearn-color-text-on-default-background: var(--sg-text-color, var(--theme-code-foreground, var(--jp-content-font-color1, black)));\n",
       "  --sklearn-color-background: var(--sg-background-color, var(--theme-background, var(--jp-layout-color0, white)));\n",
       "  --sklearn-color-border-box: var(--sg-text-color, var(--theme-code-foreground, var(--jp-content-font-color1, black)));\n",
       "  --sklearn-color-icon: #696969;\n",
       "\n",
       "  @media (prefers-color-scheme: dark) {\n",
       "    /* Redefinition of color scheme for dark theme */\n",
       "    --sklearn-color-text-on-default-background: var(--sg-text-color, var(--theme-code-foreground, var(--jp-content-font-color1, white)));\n",
       "    --sklearn-color-background: var(--sg-background-color, var(--theme-background, var(--jp-layout-color0, #111)));\n",
       "    --sklearn-color-border-box: var(--sg-text-color, var(--theme-code-foreground, var(--jp-content-font-color1, white)));\n",
       "    --sklearn-color-icon: #878787;\n",
       "  }\n",
       "}\n",
       "\n",
       "#sk-container-id-1 {\n",
       "  color: var(--sklearn-color-text);\n",
       "}\n",
       "\n",
       "#sk-container-id-1 pre {\n",
       "  padding: 0;\n",
       "}\n",
       "\n",
       "#sk-container-id-1 input.sk-hidden--visually {\n",
       "  border: 0;\n",
       "  clip: rect(1px 1px 1px 1px);\n",
       "  clip: rect(1px, 1px, 1px, 1px);\n",
       "  height: 1px;\n",
       "  margin: -1px;\n",
       "  overflow: hidden;\n",
       "  padding: 0;\n",
       "  position: absolute;\n",
       "  width: 1px;\n",
       "}\n",
       "\n",
       "#sk-container-id-1 div.sk-dashed-wrapped {\n",
       "  border: 1px dashed var(--sklearn-color-line);\n",
       "  margin: 0 0.4em 0.5em 0.4em;\n",
       "  box-sizing: border-box;\n",
       "  padding-bottom: 0.4em;\n",
       "  background-color: var(--sklearn-color-background);\n",
       "}\n",
       "\n",
       "#sk-container-id-1 div.sk-container {\n",
       "  /* jupyter's `normalize.less` sets `[hidden] { display: none; }`\n",
       "     but bootstrap.min.css set `[hidden] { display: none !important; }`\n",
       "     so we also need the `!important` here to be able to override the\n",
       "     default hidden behavior on the sphinx rendered scikit-learn.org.\n",
       "     See: https://github.com/scikit-learn/scikit-learn/issues/21755 */\n",
       "  display: inline-block !important;\n",
       "  position: relative;\n",
       "}\n",
       "\n",
       "#sk-container-id-1 div.sk-text-repr-fallback {\n",
       "  display: none;\n",
       "}\n",
       "\n",
       "div.sk-parallel-item,\n",
       "div.sk-serial,\n",
       "div.sk-item {\n",
       "  /* draw centered vertical line to link estimators */\n",
       "  background-image: linear-gradient(var(--sklearn-color-text-on-default-background), var(--sklearn-color-text-on-default-background));\n",
       "  background-size: 2px 100%;\n",
       "  background-repeat: no-repeat;\n",
       "  background-position: center center;\n",
       "}\n",
       "\n",
       "/* Parallel-specific style estimator block */\n",
       "\n",
       "#sk-container-id-1 div.sk-parallel-item::after {\n",
       "  content: \"\";\n",
       "  width: 100%;\n",
       "  border-bottom: 2px solid var(--sklearn-color-text-on-default-background);\n",
       "  flex-grow: 1;\n",
       "}\n",
       "\n",
       "#sk-container-id-1 div.sk-parallel {\n",
       "  display: flex;\n",
       "  align-items: stretch;\n",
       "  justify-content: center;\n",
       "  background-color: var(--sklearn-color-background);\n",
       "  position: relative;\n",
       "}\n",
       "\n",
       "#sk-container-id-1 div.sk-parallel-item {\n",
       "  display: flex;\n",
       "  flex-direction: column;\n",
       "}\n",
       "\n",
       "#sk-container-id-1 div.sk-parallel-item:first-child::after {\n",
       "  align-self: flex-end;\n",
       "  width: 50%;\n",
       "}\n",
       "\n",
       "#sk-container-id-1 div.sk-parallel-item:last-child::after {\n",
       "  align-self: flex-start;\n",
       "  width: 50%;\n",
       "}\n",
       "\n",
       "#sk-container-id-1 div.sk-parallel-item:only-child::after {\n",
       "  width: 0;\n",
       "}\n",
       "\n",
       "/* Serial-specific style estimator block */\n",
       "\n",
       "#sk-container-id-1 div.sk-serial {\n",
       "  display: flex;\n",
       "  flex-direction: column;\n",
       "  align-items: center;\n",
       "  background-color: var(--sklearn-color-background);\n",
       "  padding-right: 1em;\n",
       "  padding-left: 1em;\n",
       "}\n",
       "\n",
       "\n",
       "/* Toggleable style: style used for estimator/Pipeline/ColumnTransformer box that is\n",
       "clickable and can be expanded/collapsed.\n",
       "- Pipeline and ColumnTransformer use this feature and define the default style\n",
       "- Estimators will overwrite some part of the style using the `sk-estimator` class\n",
       "*/\n",
       "\n",
       "/* Pipeline and ColumnTransformer style (default) */\n",
       "\n",
       "#sk-container-id-1 div.sk-toggleable {\n",
       "  /* Default theme specific background. It is overwritten whether we have a\n",
       "  specific estimator or a Pipeline/ColumnTransformer */\n",
       "  background-color: var(--sklearn-color-background);\n",
       "}\n",
       "\n",
       "/* Toggleable label */\n",
       "#sk-container-id-1 label.sk-toggleable__label {\n",
       "  cursor: pointer;\n",
       "  display: flex;\n",
       "  width: 100%;\n",
       "  margin-bottom: 0;\n",
       "  padding: 0.5em;\n",
       "  box-sizing: border-box;\n",
       "  text-align: center;\n",
       "  align-items: start;\n",
       "  justify-content: space-between;\n",
       "  gap: 0.5em;\n",
       "}\n",
       "\n",
       "#sk-container-id-1 label.sk-toggleable__label .caption {\n",
       "  font-size: 0.6rem;\n",
       "  font-weight: lighter;\n",
       "  color: var(--sklearn-color-text-muted);\n",
       "}\n",
       "\n",
       "#sk-container-id-1 label.sk-toggleable__label-arrow:before {\n",
       "  /* Arrow on the left of the label */\n",
       "  content: \"▸\";\n",
       "  float: left;\n",
       "  margin-right: 0.25em;\n",
       "  color: var(--sklearn-color-icon);\n",
       "}\n",
       "\n",
       "#sk-container-id-1 label.sk-toggleable__label-arrow:hover:before {\n",
       "  color: var(--sklearn-color-text);\n",
       "}\n",
       "\n",
       "/* Toggleable content - dropdown */\n",
       "\n",
       "#sk-container-id-1 div.sk-toggleable__content {\n",
       "  max-height: 0;\n",
       "  max-width: 0;\n",
       "  overflow: hidden;\n",
       "  text-align: left;\n",
       "  /* unfitted */\n",
       "  background-color: var(--sklearn-color-unfitted-level-0);\n",
       "}\n",
       "\n",
       "#sk-container-id-1 div.sk-toggleable__content.fitted {\n",
       "  /* fitted */\n",
       "  background-color: var(--sklearn-color-fitted-level-0);\n",
       "}\n",
       "\n",
       "#sk-container-id-1 div.sk-toggleable__content pre {\n",
       "  margin: 0.2em;\n",
       "  border-radius: 0.25em;\n",
       "  color: var(--sklearn-color-text);\n",
       "  /* unfitted */\n",
       "  background-color: var(--sklearn-color-unfitted-level-0);\n",
       "}\n",
       "\n",
       "#sk-container-id-1 div.sk-toggleable__content.fitted pre {\n",
       "  /* unfitted */\n",
       "  background-color: var(--sklearn-color-fitted-level-0);\n",
       "}\n",
       "\n",
       "#sk-container-id-1 input.sk-toggleable__control:checked~div.sk-toggleable__content {\n",
       "  /* Expand drop-down */\n",
       "  max-height: 200px;\n",
       "  max-width: 100%;\n",
       "  overflow: auto;\n",
       "}\n",
       "\n",
       "#sk-container-id-1 input.sk-toggleable__control:checked~label.sk-toggleable__label-arrow:before {\n",
       "  content: \"▾\";\n",
       "}\n",
       "\n",
       "/* Pipeline/ColumnTransformer-specific style */\n",
       "\n",
       "#sk-container-id-1 div.sk-label input.sk-toggleable__control:checked~label.sk-toggleable__label {\n",
       "  color: var(--sklearn-color-text);\n",
       "  background-color: var(--sklearn-color-unfitted-level-2);\n",
       "}\n",
       "\n",
       "#sk-container-id-1 div.sk-label.fitted input.sk-toggleable__control:checked~label.sk-toggleable__label {\n",
       "  background-color: var(--sklearn-color-fitted-level-2);\n",
       "}\n",
       "\n",
       "/* Estimator-specific style */\n",
       "\n",
       "/* Colorize estimator box */\n",
       "#sk-container-id-1 div.sk-estimator input.sk-toggleable__control:checked~label.sk-toggleable__label {\n",
       "  /* unfitted */\n",
       "  background-color: var(--sklearn-color-unfitted-level-2);\n",
       "}\n",
       "\n",
       "#sk-container-id-1 div.sk-estimator.fitted input.sk-toggleable__control:checked~label.sk-toggleable__label {\n",
       "  /* fitted */\n",
       "  background-color: var(--sklearn-color-fitted-level-2);\n",
       "}\n",
       "\n",
       "#sk-container-id-1 div.sk-label label.sk-toggleable__label,\n",
       "#sk-container-id-1 div.sk-label label {\n",
       "  /* The background is the default theme color */\n",
       "  color: var(--sklearn-color-text-on-default-background);\n",
       "}\n",
       "\n",
       "/* On hover, darken the color of the background */\n",
       "#sk-container-id-1 div.sk-label:hover label.sk-toggleable__label {\n",
       "  color: var(--sklearn-color-text);\n",
       "  background-color: var(--sklearn-color-unfitted-level-2);\n",
       "}\n",
       "\n",
       "/* Label box, darken color on hover, fitted */\n",
       "#sk-container-id-1 div.sk-label.fitted:hover label.sk-toggleable__label.fitted {\n",
       "  color: var(--sklearn-color-text);\n",
       "  background-color: var(--sklearn-color-fitted-level-2);\n",
       "}\n",
       "\n",
       "/* Estimator label */\n",
       "\n",
       "#sk-container-id-1 div.sk-label label {\n",
       "  font-family: monospace;\n",
       "  font-weight: bold;\n",
       "  display: inline-block;\n",
       "  line-height: 1.2em;\n",
       "}\n",
       "\n",
       "#sk-container-id-1 div.sk-label-container {\n",
       "  text-align: center;\n",
       "}\n",
       "\n",
       "/* Estimator-specific */\n",
       "#sk-container-id-1 div.sk-estimator {\n",
       "  font-family: monospace;\n",
       "  border: 1px dotted var(--sklearn-color-border-box);\n",
       "  border-radius: 0.25em;\n",
       "  box-sizing: border-box;\n",
       "  margin-bottom: 0.5em;\n",
       "  /* unfitted */\n",
       "  background-color: var(--sklearn-color-unfitted-level-0);\n",
       "}\n",
       "\n",
       "#sk-container-id-1 div.sk-estimator.fitted {\n",
       "  /* fitted */\n",
       "  background-color: var(--sklearn-color-fitted-level-0);\n",
       "}\n",
       "\n",
       "/* on hover */\n",
       "#sk-container-id-1 div.sk-estimator:hover {\n",
       "  /* unfitted */\n",
       "  background-color: var(--sklearn-color-unfitted-level-2);\n",
       "}\n",
       "\n",
       "#sk-container-id-1 div.sk-estimator.fitted:hover {\n",
       "  /* fitted */\n",
       "  background-color: var(--sklearn-color-fitted-level-2);\n",
       "}\n",
       "\n",
       "/* Specification for estimator info (e.g. \"i\" and \"?\") */\n",
       "\n",
       "/* Common style for \"i\" and \"?\" */\n",
       "\n",
       ".sk-estimator-doc-link,\n",
       "a:link.sk-estimator-doc-link,\n",
       "a:visited.sk-estimator-doc-link {\n",
       "  float: right;\n",
       "  font-size: smaller;\n",
       "  line-height: 1em;\n",
       "  font-family: monospace;\n",
       "  background-color: var(--sklearn-color-background);\n",
       "  border-radius: 1em;\n",
       "  height: 1em;\n",
       "  width: 1em;\n",
       "  text-decoration: none !important;\n",
       "  margin-left: 0.5em;\n",
       "  text-align: center;\n",
       "  /* unfitted */\n",
       "  border: var(--sklearn-color-unfitted-level-1) 1pt solid;\n",
       "  color: var(--sklearn-color-unfitted-level-1);\n",
       "}\n",
       "\n",
       ".sk-estimator-doc-link.fitted,\n",
       "a:link.sk-estimator-doc-link.fitted,\n",
       "a:visited.sk-estimator-doc-link.fitted {\n",
       "  /* fitted */\n",
       "  border: var(--sklearn-color-fitted-level-1) 1pt solid;\n",
       "  color: var(--sklearn-color-fitted-level-1);\n",
       "}\n",
       "\n",
       "/* On hover */\n",
       "div.sk-estimator:hover .sk-estimator-doc-link:hover,\n",
       ".sk-estimator-doc-link:hover,\n",
       "div.sk-label-container:hover .sk-estimator-doc-link:hover,\n",
       ".sk-estimator-doc-link:hover {\n",
       "  /* unfitted */\n",
       "  background-color: var(--sklearn-color-unfitted-level-3);\n",
       "  color: var(--sklearn-color-background);\n",
       "  text-decoration: none;\n",
       "}\n",
       "\n",
       "div.sk-estimator.fitted:hover .sk-estimator-doc-link.fitted:hover,\n",
       ".sk-estimator-doc-link.fitted:hover,\n",
       "div.sk-label-container:hover .sk-estimator-doc-link.fitted:hover,\n",
       ".sk-estimator-doc-link.fitted:hover {\n",
       "  /* fitted */\n",
       "  background-color: var(--sklearn-color-fitted-level-3);\n",
       "  color: var(--sklearn-color-background);\n",
       "  text-decoration: none;\n",
       "}\n",
       "\n",
       "/* Span, style for the box shown on hovering the info icon */\n",
       ".sk-estimator-doc-link span {\n",
       "  display: none;\n",
       "  z-index: 9999;\n",
       "  position: relative;\n",
       "  font-weight: normal;\n",
       "  right: .2ex;\n",
       "  padding: .5ex;\n",
       "  margin: .5ex;\n",
       "  width: min-content;\n",
       "  min-width: 20ex;\n",
       "  max-width: 50ex;\n",
       "  color: var(--sklearn-color-text);\n",
       "  box-shadow: 2pt 2pt 4pt #999;\n",
       "  /* unfitted */\n",
       "  background: var(--sklearn-color-unfitted-level-0);\n",
       "  border: .5pt solid var(--sklearn-color-unfitted-level-3);\n",
       "}\n",
       "\n",
       ".sk-estimator-doc-link.fitted span {\n",
       "  /* fitted */\n",
       "  background: var(--sklearn-color-fitted-level-0);\n",
       "  border: var(--sklearn-color-fitted-level-3);\n",
       "}\n",
       "\n",
       ".sk-estimator-doc-link:hover span {\n",
       "  display: block;\n",
       "}\n",
       "\n",
       "/* \"?\"-specific style due to the `<a>` HTML tag */\n",
       "\n",
       "#sk-container-id-1 a.estimator_doc_link {\n",
       "  float: right;\n",
       "  font-size: 1rem;\n",
       "  line-height: 1em;\n",
       "  font-family: monospace;\n",
       "  background-color: var(--sklearn-color-background);\n",
       "  border-radius: 1rem;\n",
       "  height: 1rem;\n",
       "  width: 1rem;\n",
       "  text-decoration: none;\n",
       "  /* unfitted */\n",
       "  color: var(--sklearn-color-unfitted-level-1);\n",
       "  border: var(--sklearn-color-unfitted-level-1) 1pt solid;\n",
       "}\n",
       "\n",
       "#sk-container-id-1 a.estimator_doc_link.fitted {\n",
       "  /* fitted */\n",
       "  border: var(--sklearn-color-fitted-level-1) 1pt solid;\n",
       "  color: var(--sklearn-color-fitted-level-1);\n",
       "}\n",
       "\n",
       "/* On hover */\n",
       "#sk-container-id-1 a.estimator_doc_link:hover {\n",
       "  /* unfitted */\n",
       "  background-color: var(--sklearn-color-unfitted-level-3);\n",
       "  color: var(--sklearn-color-background);\n",
       "  text-decoration: none;\n",
       "}\n",
       "\n",
       "#sk-container-id-1 a.estimator_doc_link.fitted:hover {\n",
       "  /* fitted */\n",
       "  background-color: var(--sklearn-color-fitted-level-3);\n",
       "}\n",
       "</style><div id=\"sk-container-id-1\" class=\"sk-top-container\"><div class=\"sk-text-repr-fallback\"><pre>GridSearchCV(cv=10,\n",
       "             estimator=Pipeline(steps=[(&#x27;scale&#x27;, StandardScaler()),\n",
       "                                       (&#x27;lasso&#x27;, LogisticRegression())]),\n",
       "             param_grid={&#x27;lasso__C&#x27;: [0.25, 0.5, 0.75, 1.0]})</pre><b>In a Jupyter environment, please rerun this cell to show the HTML representation or trust the notebook. <br />On GitHub, the HTML representation is unable to render, please try loading this page with nbviewer.org.</b></div><div class=\"sk-container\" hidden><div class=\"sk-item sk-dashed-wrapped\"><div class=\"sk-label-container\"><div class=\"sk-label fitted sk-toggleable\"><input class=\"sk-toggleable__control sk-hidden--visually\" id=\"sk-estimator-id-1\" type=\"checkbox\" ><label for=\"sk-estimator-id-1\" class=\"sk-toggleable__label fitted sk-toggleable__label-arrow\"><div><div>GridSearchCV</div></div><div><a class=\"sk-estimator-doc-link fitted\" rel=\"noreferrer\" target=\"_blank\" href=\"https://scikit-learn.org/1.6/modules/generated/sklearn.model_selection.GridSearchCV.html\">?<span>Documentation for GridSearchCV</span></a><span class=\"sk-estimator-doc-link fitted\">i<span>Fitted</span></span></div></label><div class=\"sk-toggleable__content fitted\"><pre>GridSearchCV(cv=10,\n",
       "             estimator=Pipeline(steps=[(&#x27;scale&#x27;, StandardScaler()),\n",
       "                                       (&#x27;lasso&#x27;, LogisticRegression())]),\n",
       "             param_grid={&#x27;lasso__C&#x27;: [0.25, 0.5, 0.75, 1.0]})</pre></div> </div></div><div class=\"sk-parallel\"><div class=\"sk-parallel-item\"><div class=\"sk-item\"><div class=\"sk-label-container\"><div class=\"sk-label fitted sk-toggleable\"><input class=\"sk-toggleable__control sk-hidden--visually\" id=\"sk-estimator-id-2\" type=\"checkbox\" ><label for=\"sk-estimator-id-2\" class=\"sk-toggleable__label fitted sk-toggleable__label-arrow\"><div><div>best_estimator_: Pipeline</div></div></label><div class=\"sk-toggleable__content fitted\"><pre>Pipeline(steps=[(&#x27;scale&#x27;, StandardScaler()),\n",
       "                (&#x27;lasso&#x27;, LogisticRegression(C=0.75))])</pre></div> </div></div><div class=\"sk-serial\"><div class=\"sk-item\"><div class=\"sk-serial\"><div class=\"sk-item\"><div class=\"sk-estimator fitted sk-toggleable\"><input class=\"sk-toggleable__control sk-hidden--visually\" id=\"sk-estimator-id-3\" type=\"checkbox\" ><label for=\"sk-estimator-id-3\" class=\"sk-toggleable__label fitted sk-toggleable__label-arrow\"><div><div>StandardScaler</div></div><div><a class=\"sk-estimator-doc-link fitted\" rel=\"noreferrer\" target=\"_blank\" href=\"https://scikit-learn.org/1.6/modules/generated/sklearn.preprocessing.StandardScaler.html\">?<span>Documentation for StandardScaler</span></a></div></label><div class=\"sk-toggleable__content fitted\"><pre>StandardScaler()</pre></div> </div></div><div class=\"sk-item\"><div class=\"sk-estimator fitted sk-toggleable\"><input class=\"sk-toggleable__control sk-hidden--visually\" id=\"sk-estimator-id-4\" type=\"checkbox\" ><label for=\"sk-estimator-id-4\" class=\"sk-toggleable__label fitted sk-toggleable__label-arrow\"><div><div>LogisticRegression</div></div><div><a class=\"sk-estimator-doc-link fitted\" rel=\"noreferrer\" target=\"_blank\" href=\"https://scikit-learn.org/1.6/modules/generated/sklearn.linear_model.LogisticRegression.html\">?<span>Documentation for LogisticRegression</span></a></div></label><div class=\"sk-toggleable__content fitted\"><pre>LogisticRegression(C=0.75)</pre></div> </div></div></div></div></div></div></div></div></div></div></div>"
      ],
      "text/plain": [
       "GridSearchCV(cv=10,\n",
       "             estimator=Pipeline(steps=[('scale', StandardScaler()),\n",
       "                                       ('lasso', LogisticRegression())]),\n",
       "             param_grid={'lasso__C': [0.25, 0.5, 0.75, 1.0]})"
      ]
     },
     "execution_count": 29,
     "metadata": {},
     "output_type": "execute_result"
    }
   ],
   "source": [
    "gridSearch.fit(X,np.ravel(Y))\n",
    "\n",
    "#<xml xmlns=\"https://developers.google.com/blockly/xml\"><variables><variable id=\"yv+gPAZd/8:NDOnmJ~uf\">gridSearch</variable><variable id=\"_z/H/tTnOYS1Lla2~;*0\">X</variable><variable id=\"hxqH|@PJU~wrI]t*tHgd\">np</variable><variable id=\"o8#tp%!,_Okj2aVwX(DL\">Y</variable></variables><block type=\"varDoMethod\" id=\".[DsHG}f2S4=]TC5Wwx1\" x=\"17\" y=\"386\"><mutation items=\"2\"></mutation><field name=\"VAR\" id=\"yv+gPAZd/8:NDOnmJ~uf\">gridSearch</field><field name=\"MEMBER\">fit</field><data>gridSearch:fit</data><value name=\"ADD0\"><block type=\"variables_get\" id=\"`B(AHJOp9Qp}qrPxooSc\"><field name=\"VAR\" id=\"_z/H/tTnOYS1Lla2~;*0\">X</field></block></value><value name=\"ADD1\"><block type=\"varDoMethod\" id=\"$atcQ%H`L]6,1bhQmCH9\"><mutation items=\"1\"></mutation><field name=\"VAR\" id=\"hxqH|@PJU~wrI]t*tHgd\">np</field><field name=\"MEMBER\">ravel</field><data>np:ravel</data><value name=\"ADD0\"><block type=\"variables_get\" id=\"L!.qq-Tn}xc#Lht8WJAL\"><field name=\"VAR\" id=\"o8#tp%!,_Okj2aVwX(DL\">Y</field></block></value></block></value></block></xml>"
   ]
  },
  {
   "cell_type": "markdown",
   "metadata": {},
   "source": [
    "Display the best hyperparameter value for `C`."
   ]
  },
  {
   "cell_type": "code",
   "execution_count": 30,
   "metadata": {
    "user_blocks": [
     "dummyOutputCodeBlock"
    ],
    "user_blocks_xml": "<xml xmlns=\"https://developers.google.com/blockly/xml\"><block type=\"dummyOutputCodeBlock\" id=\"-l+|(Er0I~hx@x,VxdlQ\" x=\"-7\" y=\"10\"><field name=\"CODE\">gridSearch.best_params_</field></block></xml>",
    "user_code_from_blocks": "gridSearch.best_params_\n"
   },
   "outputs": [
    {
     "data": {
      "text/plain": [
       "{'lasso__C': 0.75}"
      ]
     },
     "execution_count": 30,
     "metadata": {},
     "output_type": "execute_result"
    }
   ],
   "source": [
    "gridSearch.best_params_\n",
    "\n",
    "#<xml xmlns=\"https://developers.google.com/blockly/xml\"><block type=\"dummyOutputCodeBlock\" id=\"-l+|(Er0I~hx@x,VxdlQ\" x=\"-7\" y=\"10\"><field name=\"CODE\">gridSearch.best_params_</field></block></xml>"
   ]
  },
  {
   "cell_type": "markdown",
   "metadata": {},
   "source": [
    "-----------\n",
    "**QUESTION:**\n",
    "\n",
    "In the previous lasso exercise, we used `C=.75`, but our accuracy was 2% worse.\n",
    "Why do you think our results are better now?"
   ]
  },
  {
   "cell_type": "markdown",
   "metadata": {},
   "source": [
    "**ANSWER: (click here to edit)**\n",
    "\n",
    "*Because the hyperparameter is the same, the likely other explanation is that crossvalidation let us use more of the training data than we used before.\n",
    "Another possible explanation is that the original dataset had some NaN (which were labeled as `0`) that could have acted as outliers and reduced accuracy.*\n",
    "<hr>"
   ]
  }
 ],
 "metadata": {
  "kernelspec": {
   "display_name": "Python 3 (ipykernel)",
   "language": "python",
   "name": "python3"
  },
  "language_info": {
   "codemirror_mode": {
    "name": "ipython",
    "version": 3
   },
   "file_extension": ".py",
   "mimetype": "text/x-python",
   "name": "python",
   "nbconvert_exporter": "python",
   "pygments_lexer": "ipython3",
   "version": "3.12.6"
  }
 },
 "nbformat": 4,
 "nbformat_minor": 4
}
