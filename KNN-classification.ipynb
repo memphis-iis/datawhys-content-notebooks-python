{
 "cells": [
  {
   "cell_type": "markdown",
   "metadata": {
    "deletable": false,
    "editable": false
   },
   "source": [
    "Copyright 2020 Dale Bowman, Natasha A. Sahr, Andrew M. Olney and made available under [CC BY-SA](https://creativecommons.org/licenses/by-sa/4.0) for text and [Apache-2.0](http://www.apache.org/licenses/LICENSE-2.0) for code.\n"
   ]
  },
  {
   "cell_type": "markdown",
   "metadata": {},
   "source": [
    "# Classification with KNN"
   ]
  },
  {
   "cell_type": "markdown",
   "metadata": {},
   "source": [
    "The classification problem, simply stated, is to assign a new observation to a class, where the classes have been specified in advance. \n",
    "There are many different types of classifiers as we will see throughout this course."
   ]
  },
  {
   "cell_type": "markdown",
   "metadata": {},
   "source": [
    "The difference between classification and clustering is simple.\n",
    "In clustering, we don't know the classes in advance, so we group observations together to try to discover the classes.\n",
    "In classification, we know the classes in advance, so we train a model that can predict the class for any new observation.\n",
    "\n",
    "Clustering is an _unsupervised_ method since the correct classes are unknown.\n",
    "Classification is a _supervised_ method since the classes are known. "
   ]
  },
  {
   "cell_type": "markdown",
   "metadata": {},
   "source": [
    "We will look at a commonly used classifier, $\\mathbf{k}$__-nearest neighbors__ (KNN)."
   ]
  },
  {
   "cell_type": "markdown",
   "metadata": {},
   "source": [
    "### What you will learn\n",
    "\n",
    "In this notebook you will learn about the problem of classification and how you can use your data to train a classifier that can be used to determine the class of a new observation.  We will study the following:\n",
    "\n",
    "- k nearest neighbor\n",
    "- Confusion matrices\n",
    "\n",
    "### When to use classifiers\n",
    "\n",
    "Classification is useful when you have a set of annotated data.  That is, for each set of features the true class is known.  In this case you can use the data to train a classifier so that when a new set of features is encountered with unknown class, you are able to infer its class from its features."
   ]
  },
  {
   "cell_type": "markdown",
   "metadata": {},
   "source": [
    "## $k$-Nearest Neighbor"
   ]
  },
  {
   "cell_type": "markdown",
   "metadata": {},
   "source": [
    "The $k$-nearest neighbor (KNN) method of classification based on distance.\n",
    "Consider the picture below."
   ]
  },
  {
   "attachments": {
    "knn.png": {
     "image/png": "[encoded data removed]"
    }
   },
   "cell_type": "markdown",
   "metadata": {},
   "source": [
    "![knn.png](attachment:knn.png)\n",
    "\n",
    "[By Antti Ajanki AnAj, CC BY-SA 3.0](https://commons.wikimedia.org/w/index.php?curid=2170282)"
   ]
  },
  {
   "cell_type": "markdown",
   "metadata": {},
   "source": [
    "In this picture, we have a new observation represented by a green circle.\n",
    "We want to predict its class, which is either a blue square or or a red triangle.\n",
    "KNN does this by looking at the $K$ closest previous observations; in the picture, $K$ is 3 (solid line).\n",
    "KNN predicts whatever class is the most common in the $K$ closest previous observations.\n",
    "In this case, the most common class is red triangle (the three closest neighbors are two red triangles and one blue square), so KNN would predict the new observation (green circle) is a red triangle."
   ]
  },
  {
   "cell_type": "markdown",
   "metadata": {},
   "source": [
    "As you might guess, the value of $K$ can change KNN's behavior a lot.\n",
    "If  $K=5$ (the dashed line in the picture above), the KNN prediction will change from red triangle  to blue square.\n",
    "Imagine in the picture above if $K=11$, which is the total number of previous observations.\n",
    "In that case, KNN will always predict whatever class is most common *overall* (in this case blue square).\n",
    "This is bad because it means that the model will always be wrong for new observations that are red triangles."
   ]
  },
  {
   "cell_type": "markdown",
   "metadata": {},
   "source": [
    "### $k$-Nearest Neighbor Programming Example"
   ]
  },
  {
   "cell_type": "markdown",
   "metadata": {},
   "source": [
    "The `iris.csv` dataset contains 5 variables:\n",
    "\n",
    "| Variable    | Type    | Description           |\n",
    "|:-------------|:---------|:-----------------------|\n",
    "| SepalLength | Ratio   | the sepal length (cm) |\n",
    "| SepalWidth  | Ratio   | the sepal width (cm)  |\n",
    "| PetalLength | Ratio   | the petal length (cm) |\n",
    "| PetalWidth  | Ratio   | the petal width (cm)  |\n",
    "| Species     | Nominal | the flower species    |\n",
    "\n",
    "<div style=\"text-align:center;font-size: smaller\">\n",
    " <b>Source:</b> This dataset was taken from the <a href=\"https://archive.ics.uci.edu/ml/datasets/iris\">UCI Machine Learning Repository library\n",
    "    </a></div>\n",
    "<br>\n",
    "\n",
    "Let's load it into a dataframe.\n",
    "First import the dataframe library `pandas`:\n",
    "\n",
    "- `import pandas as pd`"
   ]
  },
  {
   "cell_type": "code",
   "execution_count": 19,
   "metadata": {
    "user_blocks": [
     "importAs"
    ],
    "user_blocks_xml": "<xml xmlns=\"https://developers.google.com/blockly/xml\"><variables><variable id=\"/%IFN5#t2uAm}E`8:KV:\">pd</variable></variables><block type=\"importAs\" id=\"_@5-r*j4E`}d?=DXLinf\" x=\"16\" y=\"10\"><field name=\"libraryName\">pandas</field><field name=\"VAR\" id=\"/%IFN5#t2uAm}E`8:KV:\">pd</field></block></xml>",
    "user_code_from_blocks": "import pandas as pd\n"
   },
   "outputs": [],
   "source": [
    "import pandas as pd\n",
    "\n",
    "#<xml xmlns=\"https://developers.google.com/blockly/xml\"><variables><variable id=\"/%IFN5#t2uAm}E`8:KV:\">pd</variable></variables><block type=\"importAs\" id=\"_@5-r*j4E`}d?=DXLinf\" x=\"16\" y=\"10\"><field name=\"libraryName\">pandas</field><field name=\"VAR\" id=\"/%IFN5#t2uAm}E`8:KV:\">pd</field></block></xml>"
   ]
  },
  {
   "cell_type": "markdown",
   "metadata": {},
   "source": [
    "Now load the dataframe:\n",
    "\n",
    "- Set `dataframe` to with `pd` do `read_csv` using \n",
    "    - `\"datasets/iris.csv\"`\n",
    "- dataframe (to display)"
   ]
  },
  {
   "cell_type": "code",
   "execution_count": 20,
   "metadata": {
    "user_blocks": [
     "variables_set",
     "varDoMethod",
     "text",
     "variables_get"
    ],
    "user_blocks_xml": "<xml xmlns=\"https://developers.google.com/blockly/xml\"><variables><variable id=\"(*,(U(rm+VG0+vg;w$65\">dataframe</variable><variable id=\"/%IFN5#t2uAm}E`8:KV:\">pd</variable></variables><block type=\"variables_set\" id=\"gM*jw`FfIR3)8=g0iEB7\" x=\"-12\" y=\"162\"><field name=\"VAR\" id=\"(*,(U(rm+VG0+vg;w$65\">dataframe</field><value name=\"VALUE\"><block type=\"varDoMethod\" id=\"ny0sjvqTnn2B]K2za7Li\"><mutation items=\"1\"></mutation><field name=\"VAR\" id=\"/%IFN5#t2uAm}E`8:KV:\">pd</field><field name=\"MEMBER\">read_csv</field><data>pd:read_csv</data><value name=\"ADD0\"><block type=\"text\" id=\"dfrpI5b@DHr+DQ:|@vpv\"><field name=\"TEXT\">datasets/iris.csv</field></block></value></block></value></block><block type=\"variables_get\" id=\"tKXDNJFh}!c~`YX;)~{u\" x=\"8\" y=\"330\"><field name=\"VAR\" id=\"(*,(U(rm+VG0+vg;w$65\">dataframe</field></block></xml>",
    "user_code_from_blocks": "dataframe = pd.read_csv('datasets/iris.csv')\n\ndataframe\n"
   },
   "outputs": [
    {
     "data": {
      "text/html": [
       "<div>\n",
       "<style scoped>\n",
       "    .dataframe tbody tr th:only-of-type {\n",
       "        vertical-align: middle;\n",
       "    }\n",
       "\n",
       "    .dataframe tbody tr th {\n",
       "        vertical-align: top;\n",
       "    }\n",
       "\n",
       "    .dataframe thead th {\n",
       "        text-align: right;\n",
       "    }\n",
       "</style>\n",
       "<table border=\"1\" class=\"dataframe\">\n",
       "  <thead>\n",
       "    <tr style=\"text-align: right;\">\n",
       "      <th></th>\n",
       "      <th>SepalLength</th>\n",
       "      <th>SepalWidth</th>\n",
       "      <th>PetalLength</th>\n",
       "      <th>PetalWidth</th>\n",
       "      <th>Species</th>\n",
       "    </tr>\n",
       "  </thead>\n",
       "  <tbody>\n",
       "    <tr>\n",
       "      <th>0</th>\n",
       "      <td>5.1</td>\n",
       "      <td>3.5</td>\n",
       "      <td>1.4</td>\n",
       "      <td>0.2</td>\n",
       "      <td>setosa</td>\n",
       "    </tr>\n",
       "    <tr>\n",
       "      <th>1</th>\n",
       "      <td>4.9</td>\n",
       "      <td>3.0</td>\n",
       "      <td>1.4</td>\n",
       "      <td>0.2</td>\n",
       "      <td>setosa</td>\n",
       "    </tr>\n",
       "    <tr>\n",
       "      <th>2</th>\n",
       "      <td>4.7</td>\n",
       "      <td>3.2</td>\n",
       "      <td>1.3</td>\n",
       "      <td>0.2</td>\n",
       "      <td>setosa</td>\n",
       "    </tr>\n",
       "    <tr>\n",
       "      <th>3</th>\n",
       "      <td>4.6</td>\n",
       "      <td>3.1</td>\n",
       "      <td>1.5</td>\n",
       "      <td>0.2</td>\n",
       "      <td>setosa</td>\n",
       "    </tr>\n",
       "    <tr>\n",
       "      <th>4</th>\n",
       "      <td>5.0</td>\n",
       "      <td>3.6</td>\n",
       "      <td>1.4</td>\n",
       "      <td>0.2</td>\n",
       "      <td>setosa</td>\n",
       "    </tr>\n",
       "    <tr>\n",
       "      <th>...</th>\n",
       "      <td>...</td>\n",
       "      <td>...</td>\n",
       "      <td>...</td>\n",
       "      <td>...</td>\n",
       "      <td>...</td>\n",
       "    </tr>\n",
       "    <tr>\n",
       "      <th>145</th>\n",
       "      <td>6.7</td>\n",
       "      <td>3.0</td>\n",
       "      <td>5.2</td>\n",
       "      <td>2.3</td>\n",
       "      <td>virginica</td>\n",
       "    </tr>\n",
       "    <tr>\n",
       "      <th>146</th>\n",
       "      <td>6.3</td>\n",
       "      <td>2.5</td>\n",
       "      <td>5.0</td>\n",
       "      <td>1.9</td>\n",
       "      <td>virginica</td>\n",
       "    </tr>\n",
       "    <tr>\n",
       "      <th>147</th>\n",
       "      <td>6.5</td>\n",
       "      <td>3.0</td>\n",
       "      <td>5.2</td>\n",
       "      <td>2.0</td>\n",
       "      <td>virginica</td>\n",
       "    </tr>\n",
       "    <tr>\n",
       "      <th>148</th>\n",
       "      <td>6.2</td>\n",
       "      <td>3.4</td>\n",
       "      <td>5.4</td>\n",
       "      <td>2.3</td>\n",
       "      <td>virginica</td>\n",
       "    </tr>\n",
       "    <tr>\n",
       "      <th>149</th>\n",
       "      <td>5.9</td>\n",
       "      <td>3.0</td>\n",
       "      <td>5.1</td>\n",
       "      <td>1.8</td>\n",
       "      <td>virginica</td>\n",
       "    </tr>\n",
       "  </tbody>\n",
       "</table>\n",
       "<p>150 rows × 5 columns</p>\n",
       "</div>"
      ],
      "text/plain": [
       "     SepalLength  SepalWidth  PetalLength  PetalWidth    Species\n",
       "0            5.1         3.5          1.4         0.2     setosa\n",
       "1            4.9         3.0          1.4         0.2     setosa\n",
       "2            4.7         3.2          1.3         0.2     setosa\n",
       "3            4.6         3.1          1.5         0.2     setosa\n",
       "4            5.0         3.6          1.4         0.2     setosa\n",
       "..           ...         ...          ...         ...        ...\n",
       "145          6.7         3.0          5.2         2.3  virginica\n",
       "146          6.3         2.5          5.0         1.9  virginica\n",
       "147          6.5         3.0          5.2         2.0  virginica\n",
       "148          6.2         3.4          5.4         2.3  virginica\n",
       "149          5.9         3.0          5.1         1.8  virginica\n",
       "\n",
       "[150 rows x 5 columns]"
      ]
     },
     "execution_count": 20,
     "metadata": {},
     "output_type": "execute_result"
    }
   ],
   "source": [
    "dataframe = pd.read_csv('datasets/iris.csv')\n",
    "\n",
    "dataframe\n",
    "\n",
    "#<xml xmlns=\"https://developers.google.com/blockly/xml\"><variables><variable id=\"(*,(U(rm+VG0+vg;w$65\">dataframe</variable><variable id=\"/%IFN5#t2uAm}E`8:KV:\">pd</variable></variables><block type=\"variables_set\" id=\"gM*jw`FfIR3)8=g0iEB7\" x=\"-12\" y=\"162\"><field name=\"VAR\" id=\"(*,(U(rm+VG0+vg;w$65\">dataframe</field><value name=\"VALUE\"><block type=\"varDoMethod\" id=\"ny0sjvqTnn2B]K2za7Li\"><mutation items=\"1\"></mutation><field name=\"VAR\" id=\"/%IFN5#t2uAm}E`8:KV:\">pd</field><field name=\"MEMBER\">read_csv</field><data>pd:read_csv</data><value name=\"ADD0\"><block type=\"text\" id=\"dfrpI5b@DHr+DQ:|@vpv\"><field name=\"TEXT\">datasets/iris.csv</field></block></value></block></value></block><block type=\"variables_get\" id=\"tKXDNJFh}!c~`YX;)~{u\" x=\"8\" y=\"330\"><field name=\"VAR\" id=\"(*,(U(rm+VG0+vg;w$65\">dataframe</field></block></xml>"
   ]
  },
  {
   "cell_type": "markdown",
   "metadata": {},
   "source": [
    "We need an additional library called `numpy`, which is a widely-used math library:\n",
    "\n",
    "- `import numpy as np`"
   ]
  },
  {
   "cell_type": "code",
   "execution_count": 21,
   "metadata": {
    "user_blocks": [
     "importAs"
    ],
    "user_blocks_xml": "<xml xmlns=\"https://developers.google.com/blockly/xml\"><variables><variable id=\"Zhzp)s*VL?V@ES3(j:*b\">np</variable></variables><block type=\"importAs\" id=\"6{E|A)Ya_2{hXV^n,QJP\" x=\"16\" y=\"10\"><field name=\"libraryName\">numpy</field><field name=\"VAR\" id=\"Zhzp)s*VL?V@ES3(j:*b\">np</field></block></xml>",
    "user_code_from_blocks": "import numpy as np\n"
   },
   "outputs": [],
   "source": [
    "import numpy as np\n",
    "\n",
    "#<xml xmlns=\"https://developers.google.com/blockly/xml\"><variables><variable id=\"Zhzp)s*VL?V@ES3(j:*b\">np</variable></variables><block type=\"importAs\" id=\"6{E|A)Ya_2{hXV^n,QJP\" x=\"16\" y=\"10\"><field name=\"libraryName\">numpy</field><field name=\"VAR\" id=\"Zhzp)s*VL?V@ES3(j:*b\">np</field></block></xml>"
   ]
  },
  {
   "cell_type": "markdown",
   "metadata": {},
   "source": [
    "#### Preparing the data\n",
    "\n",
    "Remember that when we train a classification model, we tell the program what the class labels are.\n",
    "\n",
    "To do this, we're going to split our dataframe into two pieces:\n",
    "\n",
    "- Everything but the labels\n",
    "- The labels by themselves\n",
    "\n",
    "Let's start with everything but the labels:\n",
    "\n",
    "- Create variable `X` (this is uppercase X)\n",
    "- Set it to `dataframe [ ] ` and put inside it the following in a list\n",
    "    - `\"SepalLength\"`\n",
    "    - `\"SepalWidth\"`\n",
    "    - `\"PetalLength\"`\n",
    "    - `\"PetalWidth\"`\n",
    "- `X` (to display)\n",
    "\n",
    "**Note: Use `{dictVariable} []` in LISTS and change to `dataframe [ ] `**"
   ]
  },
  {
   "cell_type": "code",
   "execution_count": 22,
   "metadata": {
    "user_blocks": [
     "variables_set",
     "indexer",
     "lists_create_with",
     "text",
     "text",
     "text",
     "text",
     "variables_get"
    ],
    "user_blocks_xml": "<xml xmlns=\"https://developers.google.com/blockly/xml\"><variables><variable id=\"py,.kr!f9i=.v7I5_d+^\">X</variable><variable id=\"(*,(U(rm+VG0+vg;w$65\">dataframe</variable></variables><block type=\"variables_set\" id=\"46~F|Y~BiXd|Vok0}p,p\" x=\"33\" y=\"69\"><field name=\"VAR\" id=\"py,.kr!f9i=.v7I5_d+^\">X</field><value name=\"VALUE\"><block type=\"indexer\" id=\"p,##xUo8Nj3`vpMVBjr8\"><field name=\"VAR\" id=\"(*,(U(rm+VG0+vg;w$65\">dataframe</field><value name=\"INDEX\"><block type=\"lists_create_with\" id=\"a.wA7Xdx%GbQ)t#XDKvV\"><mutation items=\"4\"></mutation><value name=\"ADD0\"><block type=\"text\" id=\"aZG|GLqavO~,RXBOcuJ+\"><field name=\"TEXT\">SepalLength</field></block></value><value name=\"ADD1\"><block type=\"text\" id=\"b/mW9(0w,rS.ny;Y(]5A\"><field name=\"TEXT\">SepalWidth</field></block></value><value name=\"ADD2\"><block type=\"text\" id=\"4yc?!4pnBI1/rSBQ41!t\"><field name=\"TEXT\">PetalLength</field></block></value><value name=\"ADD3\"><block type=\"text\" id=\"2biSAqV~ba^2sL^FlfyH\"><field name=\"TEXT\">PetalWidth</field></block></value></block></value></block></value></block><block type=\"variables_get\" id=\"W]bu*LAe{2;n#?+7WQ-[\" x=\"30\" y=\"219\"><field name=\"VAR\" id=\"py,.kr!f9i=.v7I5_d+^\">X</field></block></xml>",
    "user_code_from_blocks": "X = dataframe[['SepalLength', 'SepalWidth', 'PetalLength', 'PetalWidth']]\n\nX\n"
   },
   "outputs": [
    {
     "data": {
      "text/html": [
       "<div>\n",
       "<style scoped>\n",
       "    .dataframe tbody tr th:only-of-type {\n",
       "        vertical-align: middle;\n",
       "    }\n",
       "\n",
       "    .dataframe tbody tr th {\n",
       "        vertical-align: top;\n",
       "    }\n",
       "\n",
       "    .dataframe thead th {\n",
       "        text-align: right;\n",
       "    }\n",
       "</style>\n",
       "<table border=\"1\" class=\"dataframe\">\n",
       "  <thead>\n",
       "    <tr style=\"text-align: right;\">\n",
       "      <th></th>\n",
       "      <th>SepalLength</th>\n",
       "      <th>SepalWidth</th>\n",
       "      <th>PetalLength</th>\n",
       "      <th>PetalWidth</th>\n",
       "    </tr>\n",
       "  </thead>\n",
       "  <tbody>\n",
       "    <tr>\n",
       "      <th>0</th>\n",
       "      <td>5.1</td>\n",
       "      <td>3.5</td>\n",
       "      <td>1.4</td>\n",
       "      <td>0.2</td>\n",
       "    </tr>\n",
       "    <tr>\n",
       "      <th>1</th>\n",
       "      <td>4.9</td>\n",
       "      <td>3.0</td>\n",
       "      <td>1.4</td>\n",
       "      <td>0.2</td>\n",
       "    </tr>\n",
       "    <tr>\n",
       "      <th>2</th>\n",
       "      <td>4.7</td>\n",
       "      <td>3.2</td>\n",
       "      <td>1.3</td>\n",
       "      <td>0.2</td>\n",
       "    </tr>\n",
       "    <tr>\n",
       "      <th>3</th>\n",
       "      <td>4.6</td>\n",
       "      <td>3.1</td>\n",
       "      <td>1.5</td>\n",
       "      <td>0.2</td>\n",
       "    </tr>\n",
       "    <tr>\n",
       "      <th>4</th>\n",
       "      <td>5.0</td>\n",
       "      <td>3.6</td>\n",
       "      <td>1.4</td>\n",
       "      <td>0.2</td>\n",
       "    </tr>\n",
       "    <tr>\n",
       "      <th>...</th>\n",
       "      <td>...</td>\n",
       "      <td>...</td>\n",
       "      <td>...</td>\n",
       "      <td>...</td>\n",
       "    </tr>\n",
       "    <tr>\n",
       "      <th>145</th>\n",
       "      <td>6.7</td>\n",
       "      <td>3.0</td>\n",
       "      <td>5.2</td>\n",
       "      <td>2.3</td>\n",
       "    </tr>\n",
       "    <tr>\n",
       "      <th>146</th>\n",
       "      <td>6.3</td>\n",
       "      <td>2.5</td>\n",
       "      <td>5.0</td>\n",
       "      <td>1.9</td>\n",
       "    </tr>\n",
       "    <tr>\n",
       "      <th>147</th>\n",
       "      <td>6.5</td>\n",
       "      <td>3.0</td>\n",
       "      <td>5.2</td>\n",
       "      <td>2.0</td>\n",
       "    </tr>\n",
       "    <tr>\n",
       "      <th>148</th>\n",
       "      <td>6.2</td>\n",
       "      <td>3.4</td>\n",
       "      <td>5.4</td>\n",
       "      <td>2.3</td>\n",
       "    </tr>\n",
       "    <tr>\n",
       "      <th>149</th>\n",
       "      <td>5.9</td>\n",
       "      <td>3.0</td>\n",
       "      <td>5.1</td>\n",
       "      <td>1.8</td>\n",
       "    </tr>\n",
       "  </tbody>\n",
       "</table>\n",
       "<p>150 rows × 4 columns</p>\n",
       "</div>"
      ],
      "text/plain": [
       "     SepalLength  SepalWidth  PetalLength  PetalWidth\n",
       "0            5.1         3.5          1.4         0.2\n",
       "1            4.9         3.0          1.4         0.2\n",
       "2            4.7         3.2          1.3         0.2\n",
       "3            4.6         3.1          1.5         0.2\n",
       "4            5.0         3.6          1.4         0.2\n",
       "..           ...         ...          ...         ...\n",
       "145          6.7         3.0          5.2         2.3\n",
       "146          6.3         2.5          5.0         1.9\n",
       "147          6.5         3.0          5.2         2.0\n",
       "148          6.2         3.4          5.4         2.3\n",
       "149          5.9         3.0          5.1         1.8\n",
       "\n",
       "[150 rows x 4 columns]"
      ]
     },
     "execution_count": 22,
     "metadata": {},
     "output_type": "execute_result"
    }
   ],
   "source": [
    "X = dataframe[['SepalLength', 'SepalWidth', 'PetalLength', 'PetalWidth']]\n",
    "\n",
    "X\n",
    "\n",
    "#<xml xmlns=\"https://developers.google.com/blockly/xml\"><variables><variable id=\"py,.kr!f9i=.v7I5_d+^\">X</variable><variable id=\"(*,(U(rm+VG0+vg;w$65\">dataframe</variable></variables><block type=\"variables_set\" id=\"46~F|Y~BiXd|Vok0}p,p\" x=\"33\" y=\"69\"><field name=\"VAR\" id=\"py,.kr!f9i=.v7I5_d+^\">X</field><value name=\"VALUE\"><block type=\"indexer\" id=\"p,##xUo8Nj3`vpMVBjr8\"><field name=\"VAR\" id=\"(*,(U(rm+VG0+vg;w$65\">dataframe</field><value name=\"INDEX\"><block type=\"lists_create_with\" id=\"a.wA7Xdx%GbQ)t#XDKvV\"><mutation items=\"4\"></mutation><value name=\"ADD0\"><block type=\"text\" id=\"aZG|GLqavO~,RXBOcuJ+\"><field name=\"TEXT\">SepalLength</field></block></value><value name=\"ADD1\"><block type=\"text\" id=\"b/mW9(0w,rS.ny;Y(]5A\"><field name=\"TEXT\">SepalWidth</field></block></value><value name=\"ADD2\"><block type=\"text\" id=\"4yc?!4pnBI1/rSBQ41!t\"><field name=\"TEXT\">PetalLength</field></block></value><value name=\"ADD3\"><block type=\"text\" id=\"2biSAqV~ba^2sL^FlfyH\"><field name=\"TEXT\">PetalWidth</field></block></value></block></value></block></value></block><block type=\"variables_get\" id=\"W]bu*LAe{2;n#?+7WQ-[\" x=\"30\" y=\"219\"><field name=\"VAR\" id=\"py,.kr!f9i=.v7I5_d+^\">X</field></block></xml>"
   ]
  },
  {
   "cell_type": "markdown",
   "metadata": {},
   "source": [
    "Now do the same thing with `Species` but save in `Y`.\n",
    "These are our class labels!\n",
    "You may wish to copy your blocks above and modify:\n",
    "\n",
    "- Create variable `Y`\n",
    "- Set it to `dataframe [ ] ` containing the following in a list\n",
    "    - `\"Species\"`\n",
    "- `Y` (to display)"
   ]
  },
  {
   "cell_type": "code",
   "execution_count": 23,
   "metadata": {
    "user_blocks": [
     "variables_set",
     "indexer",
     "lists_create_with",
     "text",
     "variables_get"
    ],
    "user_blocks_xml": "<xml xmlns=\"https://developers.google.com/blockly/xml\"><variables><variable id=\"@83Gxqb{/h|%%9Yr?2q!\">Y</variable><variable id=\"(*,(U(rm+VG0+vg;w$65\">dataframe</variable></variables><block type=\"variables_set\" id=\"46~F|Y~BiXd|Vok0}p,p\" x=\"33\" y=\"69\"><field name=\"VAR\" id=\"@83Gxqb{/h|%%9Yr?2q!\">Y</field><value name=\"VALUE\"><block type=\"indexer\" id=\"p,##xUo8Nj3`vpMVBjr8\"><field name=\"VAR\" id=\"(*,(U(rm+VG0+vg;w$65\">dataframe</field><value name=\"INDEX\"><block type=\"lists_create_with\" id=\"a.wA7Xdx%GbQ)t#XDKvV\"><mutation items=\"1\"></mutation><value name=\"ADD0\"><block type=\"text\" id=\"aZG|GLqavO~,RXBOcuJ+\"><field name=\"TEXT\">Species</field></block></value></block></value></block></value></block><block type=\"variables_get\" id=\"W]bu*LAe{2;n#?+7WQ-[\" x=\"30\" y=\"219\"><field name=\"VAR\" id=\"@83Gxqb{/h|%%9Yr?2q!\">Y</field></block></xml>",
    "user_code_from_blocks": "Y = dataframe[['Species']]\n\nY\n"
   },
   "outputs": [
    {
     "data": {
      "text/html": [
       "<div>\n",
       "<style scoped>\n",
       "    .dataframe tbody tr th:only-of-type {\n",
       "        vertical-align: middle;\n",
       "    }\n",
       "\n",
       "    .dataframe tbody tr th {\n",
       "        vertical-align: top;\n",
       "    }\n",
       "\n",
       "    .dataframe thead th {\n",
       "        text-align: right;\n",
       "    }\n",
       "</style>\n",
       "<table border=\"1\" class=\"dataframe\">\n",
       "  <thead>\n",
       "    <tr style=\"text-align: right;\">\n",
       "      <th></th>\n",
       "      <th>Species</th>\n",
       "    </tr>\n",
       "  </thead>\n",
       "  <tbody>\n",
       "    <tr>\n",
       "      <th>0</th>\n",
       "      <td>setosa</td>\n",
       "    </tr>\n",
       "    <tr>\n",
       "      <th>1</th>\n",
       "      <td>setosa</td>\n",
       "    </tr>\n",
       "    <tr>\n",
       "      <th>2</th>\n",
       "      <td>setosa</td>\n",
       "    </tr>\n",
       "    <tr>\n",
       "      <th>3</th>\n",
       "      <td>setosa</td>\n",
       "    </tr>\n",
       "    <tr>\n",
       "      <th>4</th>\n",
       "      <td>setosa</td>\n",
       "    </tr>\n",
       "    <tr>\n",
       "      <th>...</th>\n",
       "      <td>...</td>\n",
       "    </tr>\n",
       "    <tr>\n",
       "      <th>145</th>\n",
       "      <td>virginica</td>\n",
       "    </tr>\n",
       "    <tr>\n",
       "      <th>146</th>\n",
       "      <td>virginica</td>\n",
       "    </tr>\n",
       "    <tr>\n",
       "      <th>147</th>\n",
       "      <td>virginica</td>\n",
       "    </tr>\n",
       "    <tr>\n",
       "      <th>148</th>\n",
       "      <td>virginica</td>\n",
       "    </tr>\n",
       "    <tr>\n",
       "      <th>149</th>\n",
       "      <td>virginica</td>\n",
       "    </tr>\n",
       "  </tbody>\n",
       "</table>\n",
       "<p>150 rows × 1 columns</p>\n",
       "</div>"
      ],
      "text/plain": [
       "       Species\n",
       "0       setosa\n",
       "1       setosa\n",
       "2       setosa\n",
       "3       setosa\n",
       "4       setosa\n",
       "..         ...\n",
       "145  virginica\n",
       "146  virginica\n",
       "147  virginica\n",
       "148  virginica\n",
       "149  virginica\n",
       "\n",
       "[150 rows x 1 columns]"
      ]
     },
     "execution_count": 23,
     "metadata": {},
     "output_type": "execute_result"
    }
   ],
   "source": [
    "Y = dataframe[['Species']]\n",
    "\n",
    "Y\n",
    "\n",
    "#<xml xmlns=\"https://developers.google.com/blockly/xml\"><variables><variable id=\"@83Gxqb{/h|%%9Yr?2q!\">Y</variable><variable id=\"(*,(U(rm+VG0+vg;w$65\">dataframe</variable></variables><block type=\"variables_set\" id=\"46~F|Y~BiXd|Vok0}p,p\" x=\"33\" y=\"69\"><field name=\"VAR\" id=\"@83Gxqb{/h|%%9Yr?2q!\">Y</field><value name=\"VALUE\"><block type=\"indexer\" id=\"p,##xUo8Nj3`vpMVBjr8\"><field name=\"VAR\" id=\"(*,(U(rm+VG0+vg;w$65\">dataframe</field><value name=\"INDEX\"><block type=\"lists_create_with\" id=\"a.wA7Xdx%GbQ)t#XDKvV\"><mutation items=\"1\"></mutation><value name=\"ADD0\"><block type=\"text\" id=\"aZG|GLqavO~,RXBOcuJ+\"><field name=\"TEXT\">Species</field></block></value></block></value></block></value></block><block type=\"variables_get\" id=\"W]bu*LAe{2;n#?+7WQ-[\" x=\"30\" y=\"219\"><field name=\"VAR\" id=\"@83Gxqb{/h|%%9Yr?2q!\">Y</field></block></xml>"
   ]
  },
  {
   "cell_type": "markdown",
   "metadata": {},
   "source": [
    "Now we're going to introduce a new idea, **train/test data splitting**.\n",
    "This is a bit like sampling from a dataframe, which we've already done, but instead of sampling just a few rows, we randomize all the rows (like shuffling a deck of cards) and then split the rows into two new dataframes (like splitting a deck of cards).\n",
    "\n",
    "The reason for this is that we want to keep some of the data from the classifier so that we can test the classifier on data its never seen.\n",
    "We do this because we are not interested in whether the classifier can memorize the data; we want to see if the classifier can **generalize** to new data.\n",
    "\n",
    "So next we are going to split our `X` and `Y` into train and test sets. \n",
    "That means we'll end up with four data frames: `Xtrain`, `Xtest`, `Ytrain`, `Ytest`.\n",
    "\n",
    "First, the import for splitting:\n",
    "\n",
    "- `import sklearn.model_selection as model_selection`"
   ]
  },
  {
   "cell_type": "code",
   "execution_count": 24,
   "metadata": {
    "user_blocks": [
     "importAs"
    ],
    "user_blocks_xml": "<xml xmlns=\"https://developers.google.com/blockly/xml\"><variables><variable id=\"uASGz64Zb$AOvQyV4pRj\">model_selection</variable></variables><block type=\"importAs\" id=\"sN1YO5FEzpHyxb31@j,Z\" x=\"16\" y=\"10\"><field name=\"libraryName\">sklearn.model_selection</field><field name=\"VAR\" id=\"uASGz64Zb$AOvQyV4pRj\">model_selection</field></block></xml>",
    "user_code_from_blocks": "import sklearn.model_selection as model_selection\n"
   },
   "outputs": [],
   "source": [
    "import sklearn.model_selection as model_selection\n",
    "\n",
    "#<xml xmlns=\"https://developers.google.com/blockly/xml\"><variables><variable id=\"uASGz64Zb$AOvQyV4pRj\">model_selection</variable></variables><block type=\"importAs\" id=\"sN1YO5FEzpHyxb31@j,Z\" x=\"16\" y=\"10\"><field name=\"libraryName\">sklearn.model_selection</field><field name=\"VAR\" id=\"uASGz64Zb$AOvQyV4pRj\">model_selection</field></block></xml>"
   ]
  },
  {
   "cell_type": "markdown",
   "metadata": {},
   "source": [
    "Now do the splits:\n",
    "\n",
    "- Set `splits` to with `model_selection` do `train_test_split` using \n",
    "    - `X` (the features in an array)\n",
    "    - `Y` (the labels in an array)\n",
    "    - freestyle `test_size=0.2` (the proportion of the dataset to include in the test split)\n",
    "    \n",
    "<!-- The resulting object will have 4 names: `X_train, X_test, Y_train, Y_test`.  -->"
   ]
  },
  {
   "cell_type": "code",
   "execution_count": 25,
   "metadata": {
    "user_blocks": [
     "variables_set",
     "varDoMethod",
     "variables_get",
     "variables_get",
     "dummyOutputCodeBlock"
    ],
    "user_blocks_xml": "<xml xmlns=\"https://developers.google.com/blockly/xml\"><variables><variable id=\"_ut$e0PL4OMi4o1MXTpw\">splits</variable><variable id=\"uASGz64Zb$AOvQyV4pRj\">model_selection</variable><variable id=\"py,.kr!f9i=.v7I5_d+^\">X</variable><variable id=\"@83Gxqb{/h|%%9Yr?2q!\">Y</variable></variables><block type=\"variables_set\" id=\"oTGRJ#{R!U^we@Bl@pkT\" x=\"52\" y=\"150\"><field name=\"VAR\" id=\"_ut$e0PL4OMi4o1MXTpw\">splits</field><value name=\"VALUE\"><block type=\"varDoMethod\" id=\"f?j@ker(a#hJv;Nh)IGX\"><mutation items=\"3\"></mutation><field name=\"VAR\" id=\"uASGz64Zb$AOvQyV4pRj\">model_selection</field><field name=\"MEMBER\">train_test_split</field><data>model_selection:train_test_split</data><value name=\"ADD0\"><block type=\"variables_get\" id=\".mm}`*H4)i%Eq5z={e-$\"><field name=\"VAR\" id=\"py,.kr!f9i=.v7I5_d+^\">X</field></block></value><value name=\"ADD1\"><block type=\"variables_get\" id=\"I3dOV;CPBf^~E%BvgthZ\"><field name=\"VAR\" id=\"@83Gxqb{/h|%%9Yr?2q!\">Y</field></block></value><value name=\"ADD2\"><block type=\"dummyOutputCodeBlock\" id=\"@Hg?ib/!8fH$;f3pWJy2\"><field name=\"CODE\">test_size=0.2</field></block></value></block></value></block></xml>",
    "user_code_from_blocks": "splits = model_selection.train_test_split(X,Y,test_size=0.2)\n"
   },
   "outputs": [],
   "source": [
    "splits = model_selection.train_test_split(X,Y,test_size=0.2)\n",
    "\n",
    "#<xml xmlns=\"https://developers.google.com/blockly/xml\"><variables><variable id=\"_ut$e0PL4OMi4o1MXTpw\">splits</variable><variable id=\"uASGz64Zb$AOvQyV4pRj\">model_selection</variable><variable id=\"py,.kr!f9i=.v7I5_d+^\">X</variable><variable id=\"@83Gxqb{/h|%%9Yr?2q!\">Y</variable></variables><block type=\"variables_set\" id=\"oTGRJ#{R!U^we@Bl@pkT\" x=\"52\" y=\"150\"><field name=\"VAR\" id=\"_ut$e0PL4OMi4o1MXTpw\">splits</field><value name=\"VALUE\"><block type=\"varDoMethod\" id=\"f?j@ker(a#hJv;Nh)IGX\"><mutation items=\"3\"></mutation><field name=\"VAR\" id=\"uASGz64Zb$AOvQyV4pRj\">model_selection</field><field name=\"MEMBER\">train_test_split</field><data>model_selection:train_test_split</data><value name=\"ADD0\"><block type=\"variables_get\" id=\".mm}`*H4)i%Eq5z={e-$\"><field name=\"VAR\" id=\"py,.kr!f9i=.v7I5_d+^\">X</field></block></value><value name=\"ADD1\"><block type=\"variables_get\" id=\"I3dOV;CPBf^~E%BvgthZ\"><field name=\"VAR\" id=\"@83Gxqb{/h|%%9Yr?2q!\">Y</field></block></value><value name=\"ADD2\"><block type=\"dummyOutputCodeBlock\" id=\"@Hg?ib/!8fH$;f3pWJy2\"><field name=\"CODE\">test_size=0.2</field></block></value></block></value></block></xml>"
   ]
  },
  {
   "cell_type": "markdown",
   "metadata": {},
   "source": [
    "`splits` is actually a list that contains four dataframes:  `Xtrain`, `Xtest`, `Ytrain`, and `Ytest`.\n",
    "\n",
    "Take a look at `Xtrain`:\n",
    "\n",
    "- `in list splits get # 1` (in menu LISTS)"
   ]
  },
  {
   "cell_type": "code",
   "execution_count": 26,
   "metadata": {
    "user_blocks": [
     "lists_getIndex",
     "variables_get",
     "math_number"
    ],
    "user_blocks_xml": "<xml xmlns=\"https://developers.google.com/blockly/xml\"><variables><variable id=\"_ut$e0PL4OMi4o1MXTpw\">splits</variable></variables><block type=\"lists_getIndex\" id=\"4+/u48,dnx9B6buR/^{s\" x=\"8\" y=\"392\"><mutation statement=\"false\" at=\"true\"></mutation><field name=\"MODE\">GET</field><field name=\"WHERE\">FROM_START</field><value name=\"VALUE\"><block type=\"variables_get\" id=\"=;czY:o^AM7^+*f1rr8I\"><field name=\"VAR\" id=\"_ut$e0PL4OMi4o1MXTpw\">splits</field></block></value><value name=\"AT\"><block type=\"math_number\" id=\"]1|M.P|wo?(_*@5jCfXG\"><field name=\"NUM\">1</field></block></value></block></xml>",
    "user_code_from_blocks": "splits[0]\n"
   },
   "outputs": [
    {
     "data": {
      "text/html": [
       "<div>\n",
       "<style scoped>\n",
       "    .dataframe tbody tr th:only-of-type {\n",
       "        vertical-align: middle;\n",
       "    }\n",
       "\n",
       "    .dataframe tbody tr th {\n",
       "        vertical-align: top;\n",
       "    }\n",
       "\n",
       "    .dataframe thead th {\n",
       "        text-align: right;\n",
       "    }\n",
       "</style>\n",
       "<table border=\"1\" class=\"dataframe\">\n",
       "  <thead>\n",
       "    <tr style=\"text-align: right;\">\n",
       "      <th></th>\n",
       "      <th>SepalLength</th>\n",
       "      <th>SepalWidth</th>\n",
       "      <th>PetalLength</th>\n",
       "      <th>PetalWidth</th>\n",
       "    </tr>\n",
       "  </thead>\n",
       "  <tbody>\n",
       "    <tr>\n",
       "      <th>96</th>\n",
       "      <td>5.7</td>\n",
       "      <td>2.9</td>\n",
       "      <td>4.2</td>\n",
       "      <td>1.3</td>\n",
       "    </tr>\n",
       "    <tr>\n",
       "      <th>54</th>\n",
       "      <td>6.5</td>\n",
       "      <td>2.8</td>\n",
       "      <td>4.6</td>\n",
       "      <td>1.5</td>\n",
       "    </tr>\n",
       "    <tr>\n",
       "      <th>5</th>\n",
       "      <td>5.4</td>\n",
       "      <td>3.9</td>\n",
       "      <td>1.7</td>\n",
       "      <td>0.4</td>\n",
       "    </tr>\n",
       "    <tr>\n",
       "      <th>105</th>\n",
       "      <td>7.6</td>\n",
       "      <td>3.0</td>\n",
       "      <td>6.6</td>\n",
       "      <td>2.1</td>\n",
       "    </tr>\n",
       "    <tr>\n",
       "      <th>31</th>\n",
       "      <td>5.4</td>\n",
       "      <td>3.4</td>\n",
       "      <td>1.5</td>\n",
       "      <td>0.4</td>\n",
       "    </tr>\n",
       "    <tr>\n",
       "      <th>...</th>\n",
       "      <td>...</td>\n",
       "      <td>...</td>\n",
       "      <td>...</td>\n",
       "      <td>...</td>\n",
       "    </tr>\n",
       "    <tr>\n",
       "      <th>81</th>\n",
       "      <td>5.5</td>\n",
       "      <td>2.4</td>\n",
       "      <td>3.7</td>\n",
       "      <td>1.0</td>\n",
       "    </tr>\n",
       "    <tr>\n",
       "      <th>7</th>\n",
       "      <td>5.0</td>\n",
       "      <td>3.4</td>\n",
       "      <td>1.5</td>\n",
       "      <td>0.2</td>\n",
       "    </tr>\n",
       "    <tr>\n",
       "      <th>16</th>\n",
       "      <td>5.4</td>\n",
       "      <td>3.9</td>\n",
       "      <td>1.3</td>\n",
       "      <td>0.4</td>\n",
       "    </tr>\n",
       "    <tr>\n",
       "      <th>52</th>\n",
       "      <td>6.9</td>\n",
       "      <td>3.1</td>\n",
       "      <td>4.9</td>\n",
       "      <td>1.5</td>\n",
       "    </tr>\n",
       "    <tr>\n",
       "      <th>87</th>\n",
       "      <td>6.3</td>\n",
       "      <td>2.3</td>\n",
       "      <td>4.4</td>\n",
       "      <td>1.3</td>\n",
       "    </tr>\n",
       "  </tbody>\n",
       "</table>\n",
       "<p>120 rows × 4 columns</p>\n",
       "</div>"
      ],
      "text/plain": [
       "     SepalLength  SepalWidth  PetalLength  PetalWidth\n",
       "96           5.7         2.9          4.2         1.3\n",
       "54           6.5         2.8          4.6         1.5\n",
       "5            5.4         3.9          1.7         0.4\n",
       "105          7.6         3.0          6.6         2.1\n",
       "31           5.4         3.4          1.5         0.4\n",
       "..           ...         ...          ...         ...\n",
       "81           5.5         2.4          3.7         1.0\n",
       "7            5.0         3.4          1.5         0.2\n",
       "16           5.4         3.9          1.3         0.4\n",
       "52           6.9         3.1          4.9         1.5\n",
       "87           6.3         2.3          4.4         1.3\n",
       "\n",
       "[120 rows x 4 columns]"
      ]
     },
     "execution_count": 26,
     "metadata": {},
     "output_type": "execute_result"
    }
   ],
   "source": [
    "splits[0]\n",
    "\n",
    "#<xml xmlns=\"https://developers.google.com/blockly/xml\"><variables><variable id=\"_ut$e0PL4OMi4o1MXTpw\">splits</variable></variables><block type=\"lists_getIndex\" id=\"4+/u48,dnx9B6buR/^{s\" x=\"8\" y=\"392\"><mutation statement=\"false\" at=\"true\"></mutation><field name=\"MODE\">GET</field><field name=\"WHERE\">FROM_START</field><value name=\"VALUE\"><block type=\"variables_get\" id=\"=;czY:o^AM7^+*f1rr8I\"><field name=\"VAR\" id=\"_ut$e0PL4OMi4o1MXTpw\">splits</field></block></value><value name=\"AT\"><block type=\"math_number\" id=\"]1|M.P|wo?(_*@5jCfXG\"><field name=\"NUM\">1</field></block></value></block></xml>"
   ]
  },
  {
   "cell_type": "markdown",
   "metadata": {},
   "source": [
    "Now do the same for `Ytrain`:\n",
    "\n",
    "- `in list splits get # 3`"
   ]
  },
  {
   "cell_type": "code",
   "execution_count": 27,
   "metadata": {
    "user_blocks": [
     "lists_getIndex",
     "variables_get",
     "math_number"
    ],
    "user_blocks_xml": "<xml xmlns=\"https://developers.google.com/blockly/xml\"><variables><variable id=\"_ut$e0PL4OMi4o1MXTpw\">splits</variable></variables><block type=\"lists_getIndex\" id=\"4+/u48,dnx9B6buR/^{s\" x=\"8\" y=\"392\"><mutation statement=\"false\" at=\"true\"></mutation><field name=\"MODE\">GET</field><field name=\"WHERE\">FROM_START</field><value name=\"VALUE\"><block type=\"variables_get\" id=\"=;czY:o^AM7^+*f1rr8I\"><field name=\"VAR\" id=\"_ut$e0PL4OMi4o1MXTpw\">splits</field></block></value><value name=\"AT\"><block type=\"math_number\" id=\"]1|M.P|wo?(_*@5jCfXG\"><field name=\"NUM\">3</field></block></value></block></xml>",
    "user_code_from_blocks": "splits[2]\n"
   },
   "outputs": [
    {
     "data": {
      "text/html": [
       "<div>\n",
       "<style scoped>\n",
       "    .dataframe tbody tr th:only-of-type {\n",
       "        vertical-align: middle;\n",
       "    }\n",
       "\n",
       "    .dataframe tbody tr th {\n",
       "        vertical-align: top;\n",
       "    }\n",
       "\n",
       "    .dataframe thead th {\n",
       "        text-align: right;\n",
       "    }\n",
       "</style>\n",
       "<table border=\"1\" class=\"dataframe\">\n",
       "  <thead>\n",
       "    <tr style=\"text-align: right;\">\n",
       "      <th></th>\n",
       "      <th>Species</th>\n",
       "    </tr>\n",
       "  </thead>\n",
       "  <tbody>\n",
       "    <tr>\n",
       "      <th>96</th>\n",
       "      <td>versicolor</td>\n",
       "    </tr>\n",
       "    <tr>\n",
       "      <th>54</th>\n",
       "      <td>versicolor</td>\n",
       "    </tr>\n",
       "    <tr>\n",
       "      <th>5</th>\n",
       "      <td>setosa</td>\n",
       "    </tr>\n",
       "    <tr>\n",
       "      <th>105</th>\n",
       "      <td>virginica</td>\n",
       "    </tr>\n",
       "    <tr>\n",
       "      <th>31</th>\n",
       "      <td>setosa</td>\n",
       "    </tr>\n",
       "    <tr>\n",
       "      <th>...</th>\n",
       "      <td>...</td>\n",
       "    </tr>\n",
       "    <tr>\n",
       "      <th>81</th>\n",
       "      <td>versicolor</td>\n",
       "    </tr>\n",
       "    <tr>\n",
       "      <th>7</th>\n",
       "      <td>setosa</td>\n",
       "    </tr>\n",
       "    <tr>\n",
       "      <th>16</th>\n",
       "      <td>setosa</td>\n",
       "    </tr>\n",
       "    <tr>\n",
       "      <th>52</th>\n",
       "      <td>versicolor</td>\n",
       "    </tr>\n",
       "    <tr>\n",
       "      <th>87</th>\n",
       "      <td>versicolor</td>\n",
       "    </tr>\n",
       "  </tbody>\n",
       "</table>\n",
       "<p>120 rows × 1 columns</p>\n",
       "</div>"
      ],
      "text/plain": [
       "        Species\n",
       "96   versicolor\n",
       "54   versicolor\n",
       "5        setosa\n",
       "105   virginica\n",
       "31       setosa\n",
       "..          ...\n",
       "81   versicolor\n",
       "7        setosa\n",
       "16       setosa\n",
       "52   versicolor\n",
       "87   versicolor\n",
       "\n",
       "[120 rows x 1 columns]"
      ]
     },
     "execution_count": 27,
     "metadata": {},
     "output_type": "execute_result"
    }
   ],
   "source": [
    "splits[2]\n",
    "\n",
    "#<xml xmlns=\"https://developers.google.com/blockly/xml\"><variables><variable id=\"_ut$e0PL4OMi4o1MXTpw\">splits</variable></variables><block type=\"lists_getIndex\" id=\"4+/u48,dnx9B6buR/^{s\" x=\"8\" y=\"392\"><mutation statement=\"false\" at=\"true\"></mutation><field name=\"MODE\">GET</field><field name=\"WHERE\">FROM_START</field><value name=\"VALUE\"><block type=\"variables_get\" id=\"=;czY:o^AM7^+*f1rr8I\"><field name=\"VAR\" id=\"_ut$e0PL4OMi4o1MXTpw\">splits</field></block></value><value name=\"AT\"><block type=\"math_number\" id=\"]1|M.P|wo?(_*@5jCfXG\"><field name=\"NUM\">3</field></block></value></block></xml>"
   ]
  },
  {
   "cell_type": "markdown",
   "metadata": {},
   "source": [
    "Notice that `Xtrain` and `Ytrain` have the same number of rows and that their indexes (i.e. IDs) match, which they must, since each training example must have both features (the variables we are using to predict) and a label (the variable we are trying to predict).\n",
    "\n",
    "If you displayed `Xtest` and `Ytest`, you would see a similar correspondence for the remaining rows in `iris.csv`.\n",
    "\n",
    "So all we've done here is take the original dataframe and split it into four pieces:\n",
    "\n",
    "- Training data: `Xtrain` and `Ytrain`, which have the same length as each other\n",
    "- Testing data: `Xtest` and `Ytest`, which again have the same length as each other\n",
    "\n",
    "We will use the training data to train the model and the testing data to test the model.\n",
    "Both times we separate the class labels `Y` from the rest of the data `X`, because `X` is what we put into the model and `Y` is what we get out."
   ]
  },
  {
   "cell_type": "markdown",
   "metadata": {},
   "source": [
    "<!-- NOTE: scaling seems unnecessary: https://stats.stackexchange.com/questions/109071/standardizing-features-when-using-lda-as-a-pre-processing-step\n",
    "\n",
    "We need to scale the features so `SepalWidth`, `SepalLength`, `PetalLength`, and `PetalWidth` are on the same scale. To do this, we need to from `sklearn.preprocessing` import the `StandardScaler` function. -->\n",
    "\n",
    "<!-- # from sklearn.preprocessing import StandardScaler -->\n",
    "\n",
    "<!-- Since `SepalWidth`, `SepalLength`, `PetalLength`, and `PetalWidth` are in `X_train` and `X_test`, we will transform both. \n",
    "\n",
    "First, use the function `fit_transform` with the object `X_train` on `StandardScaler()`. Rename the object `X_train1`. \n",
    "\n",
    "Next, use the function `fit_transform` with the object `X_test` on `StandardScaler()`. Rename the object `X_test1`.  -->\n",
    "\n",
    "<!-- X_train1 = StandardScaler().fit_transform(X_train)\n",
    "X_test1 = StandardScaler().fit_transform(X_test) -->"
   ]
  },
  {
   "cell_type": "markdown",
   "metadata": {},
   "source": [
    "#### Training the model\n",
    "\n",
    "We're now ready to train the KNN model, but first we need to load the library for KNN models!\n",
    "\n",
    "So do the imports:\n",
    "\n",
    "- `import sklearn.neighbors as neighbors`"
   ]
  },
  {
   "cell_type": "code",
   "execution_count": 28,
   "metadata": {
    "user_blocks": [
     "importAs"
    ],
    "user_blocks_xml": "<xml xmlns=\"https://developers.google.com/blockly/xml\"><variables><variable id=\"~%[Y}a{Syr+LrQ[I8?d(\">neighbors</variable></variables><block type=\"importAs\" id=\"ayw$B{(evWs,ynm/fP%g\" x=\"123\" y=\"313\"><field name=\"libraryName\">sklearn.neighbors</field><field name=\"VAR\" id=\"~%[Y}a{Syr+LrQ[I8?d(\">neighbors</field></block></xml>",
    "user_code_from_blocks": "import sklearn.neighbors as neighbors\n"
   },
   "outputs": [],
   "source": [
    "import sklearn.neighbors as neighbors\n",
    "\n",
    "#<xml xmlns=\"https://developers.google.com/blockly/xml\"><variables><variable id=\"~%[Y}a{Syr+LrQ[I8?d(\">neighbors</variable></variables><block type=\"importAs\" id=\"ayw$B{(evWs,ynm/fP%g\" x=\"123\" y=\"313\"><field name=\"libraryName\">sklearn.neighbors</field><field name=\"VAR\" id=\"~%[Y}a{Syr+LrQ[I8?d(\">neighbors</field></block></xml>"
   ]
  },
  {
   "cell_type": "markdown",
   "metadata": {},
   "source": [
    "We need to create the model before we can train it:\n",
    "\n",
    "- Set `knn` to with `neighbors` create `KNeighborsClassifier` using\n",
    "    - freestyle `n_neighbors=5`\n",
    "    \n",
    "This last block means we will use 5 neighbors, which is the most commonly used value for the KNN algorithm. "
   ]
  },
  {
   "cell_type": "code",
   "execution_count": 29,
   "metadata": {
    "user_blocks": [
     "variables_set",
     "varCreateObject",
     "dummyOutputCodeBlock"
    ],
    "user_blocks_xml": "<xml xmlns=\"https://developers.google.com/blockly/xml\"><variables><variable id=\"qiYg#10P*[{cvl~,g!4n\">knn</variable><variable id=\"~%[Y}a{Syr+LrQ[I8?d(\">neighbors</variable></variables><block type=\"variables_set\" id=\"`z.|tb|jX$Y2a5;iN{pz\" x=\"9\" y=\"278\"><field name=\"VAR\" id=\"qiYg#10P*[{cvl~,g!4n\">knn</field><value name=\"VALUE\"><block type=\"varCreateObject\" id=\"9i7]OHHOnhf2~MjH^n+y\"><mutation items=\"1\"></mutation><field name=\"VAR\" id=\"~%[Y}a{Syr+LrQ[I8?d(\">neighbors</field><field name=\"MEMBER\">KNeighborsClassifier</field><data>neighbors:KNeighborsClassifier</data><value name=\"ADD0\"><block type=\"dummyOutputCodeBlock\" id=\"R*)t!8POzxw3}@cy,{:]\"><field name=\"CODE\">n_neighbors=5</field></block></value></block></value></block></xml>",
    "user_code_from_blocks": "knn = neighbors.KNeighborsClassifier(n_neighbors=5)\n"
   },
   "outputs": [],
   "source": [
    "knn = neighbors.KNeighborsClassifier(n_neighbors=5)\n",
    "\n",
    "#<xml xmlns=\"https://developers.google.com/blockly/xml\"><variables><variable id=\"qiYg#10P*[{cvl~,g!4n\">knn</variable><variable id=\"~%[Y}a{Syr+LrQ[I8?d(\">neighbors</variable></variables><block type=\"variables_set\" id=\"`z.|tb|jX$Y2a5;iN{pz\" x=\"9\" y=\"278\"><field name=\"VAR\" id=\"qiYg#10P*[{cvl~,g!4n\">knn</field><value name=\"VALUE\"><block type=\"varCreateObject\" id=\"9i7]OHHOnhf2~MjH^n+y\"><mutation items=\"1\"></mutation><field name=\"VAR\" id=\"~%[Y}a{Syr+LrQ[I8?d(\">neighbors</field><field name=\"MEMBER\">KNeighborsClassifier</field><data>neighbors:KNeighborsClassifier</data><value name=\"ADD0\"><block type=\"dummyOutputCodeBlock\" id=\"R*)t!8POzxw3}@cy,{:]\"><field name=\"CODE\">n_neighbors=5</field></block></value></block></value></block></xml>"
   ]
  },
  {
   "cell_type": "markdown",
   "metadata": {},
   "source": [
    "Next we need to train the classifier. \n",
    "Remember the first and third elements in `splits` are `Xtrain` and `Ytrain`, respectively:\n",
    "\n",
    "-  with `knn` do `fit` using\n",
    "    - `in list splits get # 1` (in menu LISTS)\n",
    "    - with `np` do `ravel` using\n",
    "        - `in list splits get # 3` (in menu LISTS)\n",
    "    \n",
    "`ravel` is just a conversion function that turns our `Ytrain` dataframe into a list, which is what `fit` wants.\n",
    "\n",
    "The steps that you've done are very common steps in creating models.\n",
    "In a library like `sklearn`, similar operations (here training a model) will look the same.\n",
    "So once you know how to train one model, you know how to train them all (for the most part, the parameters in `using` will change depending on the model)."
   ]
  },
  {
   "cell_type": "code",
   "execution_count": 30,
   "metadata": {
    "user_blocks": [
     "varDoMethod",
     "lists_getIndex",
     "variables_get",
     "math_number",
     "varDoMethod",
     "lists_getIndex",
     "variables_get",
     "math_number"
    ],
    "user_blocks_xml": "<xml xmlns=\"https://developers.google.com/blockly/xml\"><variables><variable id=\"qiYg#10P*[{cvl~,g!4n\">knn</variable><variable id=\"Zhzp)s*VL?V@ES3(j:*b\">np</variable><variable id=\"_ut$e0PL4OMi4o1MXTpw\">splits</variable></variables><block type=\"varDoMethod\" id=\"8Ljs~haYrP^|UkSn*ZFY\" x=\"14\" y=\"249\"><mutation items=\"2\"></mutation><field name=\"VAR\" id=\"qiYg#10P*[{cvl~,g!4n\">knn</field><field name=\"MEMBER\">fit</field><data>knn:fit</data><value name=\"ADD0\"><block type=\"lists_getIndex\" id=\"1MeJkC]YhSKb1g:QUq!i\"><mutation statement=\"false\" at=\"true\"></mutation><field name=\"MODE\">GET</field><field name=\"WHERE\">FROM_START</field><value name=\"VALUE\"><block type=\"variables_get\" id=\"^R/0R7yd6JHXc%c++34J\"><field name=\"VAR\" id=\"_ut$e0PL4OMi4o1MXTpw\">splits</field></block></value><value name=\"AT\"><block type=\"math_number\" id=\"jLV:Y45[^:fBT{|!(.r`\"><field name=\"NUM\">1</field></block></value></block></value><value name=\"ADD1\"><block type=\"varDoMethod\" id=\";tG1YnMBwV?P4hBmIFcK\"><mutation items=\"1\"></mutation><field name=\"VAR\" id=\"Zhzp)s*VL?V@ES3(j:*b\">np</field><field name=\"MEMBER\">ravel</field><data>np:ravel</data><value name=\"ADD0\"><block type=\"lists_getIndex\" id=\"k/?QqU$23,hhQq.^1(BU\"><mutation statement=\"false\" at=\"true\"></mutation><field name=\"MODE\">GET</field><field name=\"WHERE\">FROM_START</field><value name=\"VALUE\"><block type=\"variables_get\" id=\"*;}}|a4^CJemb:I]=)A5\"><field name=\"VAR\" id=\"_ut$e0PL4OMi4o1MXTpw\">splits</field></block></value><value name=\"AT\"><block type=\"math_number\" id=\"pB6/r)Wezpc@A.wR5z-a\"><field name=\"NUM\">3</field></block></value></block></value></block></value></block></xml>",
    "user_code_from_blocks": "knn.fit(splits[0],np.ravel(splits[2]))\n"
   },
   "outputs": [
    {
     "data": {
      "text/html": [
       "<style>#sk-container-id-1 {\n",
       "  /* Definition of color scheme common for light and dark mode */\n",
       "  --sklearn-color-text: #000;\n",
       "  --sklearn-color-text-muted: #666;\n",
       "  --sklearn-color-line: gray;\n",
       "  /* Definition of color scheme for unfitted estimators */\n",
       "  --sklearn-color-unfitted-level-0: #fff5e6;\n",
       "  --sklearn-color-unfitted-level-1: #f6e4d2;\n",
       "  --sklearn-color-unfitted-level-2: #ffe0b3;\n",
       "  --sklearn-color-unfitted-level-3: chocolate;\n",
       "  /* Definition of color scheme for fitted estimators */\n",
       "  --sklearn-color-fitted-level-0: #f0f8ff;\n",
       "  --sklearn-color-fitted-level-1: #d4ebff;\n",
       "  --sklearn-color-fitted-level-2: #b3dbfd;\n",
       "  --sklearn-color-fitted-level-3: cornflowerblue;\n",
       "\n",
       "  /* Specific color for light theme */\n",
       "  --sklearn-color-text-on-default-background: var(--sg-text-color, var(--theme-code-foreground, var(--jp-content-font-color1, black)));\n",
       "  --sklearn-color-background: var(--sg-background-color, var(--theme-background, var(--jp-layout-color0, white)));\n",
       "  --sklearn-color-border-box: var(--sg-text-color, var(--theme-code-foreground, var(--jp-content-font-color1, black)));\n",
       "  --sklearn-color-icon: #696969;\n",
       "\n",
       "  @media (prefers-color-scheme: dark) {\n",
       "    /* Redefinition of color scheme for dark theme */\n",
       "    --sklearn-color-text-on-default-background: var(--sg-text-color, var(--theme-code-foreground, var(--jp-content-font-color1, white)));\n",
       "    --sklearn-color-background: var(--sg-background-color, var(--theme-background, var(--jp-layout-color0, #111)));\n",
       "    --sklearn-color-border-box: var(--sg-text-color, var(--theme-code-foreground, var(--jp-content-font-color1, white)));\n",
       "    --sklearn-color-icon: #878787;\n",
       "  }\n",
       "}\n",
       "\n",
       "#sk-container-id-1 {\n",
       "  color: var(--sklearn-color-text);\n",
       "}\n",
       "\n",
       "#sk-container-id-1 pre {\n",
       "  padding: 0;\n",
       "}\n",
       "\n",
       "#sk-container-id-1 input.sk-hidden--visually {\n",
       "  border: 0;\n",
       "  clip: rect(1px 1px 1px 1px);\n",
       "  clip: rect(1px, 1px, 1px, 1px);\n",
       "  height: 1px;\n",
       "  margin: -1px;\n",
       "  overflow: hidden;\n",
       "  padding: 0;\n",
       "  position: absolute;\n",
       "  width: 1px;\n",
       "}\n",
       "\n",
       "#sk-container-id-1 div.sk-dashed-wrapped {\n",
       "  border: 1px dashed var(--sklearn-color-line);\n",
       "  margin: 0 0.4em 0.5em 0.4em;\n",
       "  box-sizing: border-box;\n",
       "  padding-bottom: 0.4em;\n",
       "  background-color: var(--sklearn-color-background);\n",
       "}\n",
       "\n",
       "#sk-container-id-1 div.sk-container {\n",
       "  /* jupyter's `normalize.less` sets `[hidden] { display: none; }`\n",
       "     but bootstrap.min.css set `[hidden] { display: none !important; }`\n",
       "     so we also need the `!important` here to be able to override the\n",
       "     default hidden behavior on the sphinx rendered scikit-learn.org.\n",
       "     See: https://github.com/scikit-learn/scikit-learn/issues/21755 */\n",
       "  display: inline-block !important;\n",
       "  position: relative;\n",
       "}\n",
       "\n",
       "#sk-container-id-1 div.sk-text-repr-fallback {\n",
       "  display: none;\n",
       "}\n",
       "\n",
       "div.sk-parallel-item,\n",
       "div.sk-serial,\n",
       "div.sk-item {\n",
       "  /* draw centered vertical line to link estimators */\n",
       "  background-image: linear-gradient(var(--sklearn-color-text-on-default-background), var(--sklearn-color-text-on-default-background));\n",
       "  background-size: 2px 100%;\n",
       "  background-repeat: no-repeat;\n",
       "  background-position: center center;\n",
       "}\n",
       "\n",
       "/* Parallel-specific style estimator block */\n",
       "\n",
       "#sk-container-id-1 div.sk-parallel-item::after {\n",
       "  content: \"\";\n",
       "  width: 100%;\n",
       "  border-bottom: 2px solid var(--sklearn-color-text-on-default-background);\n",
       "  flex-grow: 1;\n",
       "}\n",
       "\n",
       "#sk-container-id-1 div.sk-parallel {\n",
       "  display: flex;\n",
       "  align-items: stretch;\n",
       "  justify-content: center;\n",
       "  background-color: var(--sklearn-color-background);\n",
       "  position: relative;\n",
       "}\n",
       "\n",
       "#sk-container-id-1 div.sk-parallel-item {\n",
       "  display: flex;\n",
       "  flex-direction: column;\n",
       "}\n",
       "\n",
       "#sk-container-id-1 div.sk-parallel-item:first-child::after {\n",
       "  align-self: flex-end;\n",
       "  width: 50%;\n",
       "}\n",
       "\n",
       "#sk-container-id-1 div.sk-parallel-item:last-child::after {\n",
       "  align-self: flex-start;\n",
       "  width: 50%;\n",
       "}\n",
       "\n",
       "#sk-container-id-1 div.sk-parallel-item:only-child::after {\n",
       "  width: 0;\n",
       "}\n",
       "\n",
       "/* Serial-specific style estimator block */\n",
       "\n",
       "#sk-container-id-1 div.sk-serial {\n",
       "  display: flex;\n",
       "  flex-direction: column;\n",
       "  align-items: center;\n",
       "  background-color: var(--sklearn-color-background);\n",
       "  padding-right: 1em;\n",
       "  padding-left: 1em;\n",
       "}\n",
       "\n",
       "\n",
       "/* Toggleable style: style used for estimator/Pipeline/ColumnTransformer box that is\n",
       "clickable and can be expanded/collapsed.\n",
       "- Pipeline and ColumnTransformer use this feature and define the default style\n",
       "- Estimators will overwrite some part of the style using the `sk-estimator` class\n",
       "*/\n",
       "\n",
       "/* Pipeline and ColumnTransformer style (default) */\n",
       "\n",
       "#sk-container-id-1 div.sk-toggleable {\n",
       "  /* Default theme specific background. It is overwritten whether we have a\n",
       "  specific estimator or a Pipeline/ColumnTransformer */\n",
       "  background-color: var(--sklearn-color-background);\n",
       "}\n",
       "\n",
       "/* Toggleable label */\n",
       "#sk-container-id-1 label.sk-toggleable__label {\n",
       "  cursor: pointer;\n",
       "  display: flex;\n",
       "  width: 100%;\n",
       "  margin-bottom: 0;\n",
       "  padding: 0.5em;\n",
       "  box-sizing: border-box;\n",
       "  text-align: center;\n",
       "  align-items: start;\n",
       "  justify-content: space-between;\n",
       "  gap: 0.5em;\n",
       "}\n",
       "\n",
       "#sk-container-id-1 label.sk-toggleable__label .caption {\n",
       "  font-size: 0.6rem;\n",
       "  font-weight: lighter;\n",
       "  color: var(--sklearn-color-text-muted);\n",
       "}\n",
       "\n",
       "#sk-container-id-1 label.sk-toggleable__label-arrow:before {\n",
       "  /* Arrow on the left of the label */\n",
       "  content: \"▸\";\n",
       "  float: left;\n",
       "  margin-right: 0.25em;\n",
       "  color: var(--sklearn-color-icon);\n",
       "}\n",
       "\n",
       "#sk-container-id-1 label.sk-toggleable__label-arrow:hover:before {\n",
       "  color: var(--sklearn-color-text);\n",
       "}\n",
       "\n",
       "/* Toggleable content - dropdown */\n",
       "\n",
       "#sk-container-id-1 div.sk-toggleable__content {\n",
       "  max-height: 0;\n",
       "  max-width: 0;\n",
       "  overflow: hidden;\n",
       "  text-align: left;\n",
       "  /* unfitted */\n",
       "  background-color: var(--sklearn-color-unfitted-level-0);\n",
       "}\n",
       "\n",
       "#sk-container-id-1 div.sk-toggleable__content.fitted {\n",
       "  /* fitted */\n",
       "  background-color: var(--sklearn-color-fitted-level-0);\n",
       "}\n",
       "\n",
       "#sk-container-id-1 div.sk-toggleable__content pre {\n",
       "  margin: 0.2em;\n",
       "  border-radius: 0.25em;\n",
       "  color: var(--sklearn-color-text);\n",
       "  /* unfitted */\n",
       "  background-color: var(--sklearn-color-unfitted-level-0);\n",
       "}\n",
       "\n",
       "#sk-container-id-1 div.sk-toggleable__content.fitted pre {\n",
       "  /* unfitted */\n",
       "  background-color: var(--sklearn-color-fitted-level-0);\n",
       "}\n",
       "\n",
       "#sk-container-id-1 input.sk-toggleable__control:checked~div.sk-toggleable__content {\n",
       "  /* Expand drop-down */\n",
       "  max-height: 200px;\n",
       "  max-width: 100%;\n",
       "  overflow: auto;\n",
       "}\n",
       "\n",
       "#sk-container-id-1 input.sk-toggleable__control:checked~label.sk-toggleable__label-arrow:before {\n",
       "  content: \"▾\";\n",
       "}\n",
       "\n",
       "/* Pipeline/ColumnTransformer-specific style */\n",
       "\n",
       "#sk-container-id-1 div.sk-label input.sk-toggleable__control:checked~label.sk-toggleable__label {\n",
       "  color: var(--sklearn-color-text);\n",
       "  background-color: var(--sklearn-color-unfitted-level-2);\n",
       "}\n",
       "\n",
       "#sk-container-id-1 div.sk-label.fitted input.sk-toggleable__control:checked~label.sk-toggleable__label {\n",
       "  background-color: var(--sklearn-color-fitted-level-2);\n",
       "}\n",
       "\n",
       "/* Estimator-specific style */\n",
       "\n",
       "/* Colorize estimator box */\n",
       "#sk-container-id-1 div.sk-estimator input.sk-toggleable__control:checked~label.sk-toggleable__label {\n",
       "  /* unfitted */\n",
       "  background-color: var(--sklearn-color-unfitted-level-2);\n",
       "}\n",
       "\n",
       "#sk-container-id-1 div.sk-estimator.fitted input.sk-toggleable__control:checked~label.sk-toggleable__label {\n",
       "  /* fitted */\n",
       "  background-color: var(--sklearn-color-fitted-level-2);\n",
       "}\n",
       "\n",
       "#sk-container-id-1 div.sk-label label.sk-toggleable__label,\n",
       "#sk-container-id-1 div.sk-label label {\n",
       "  /* The background is the default theme color */\n",
       "  color: var(--sklearn-color-text-on-default-background);\n",
       "}\n",
       "\n",
       "/* On hover, darken the color of the background */\n",
       "#sk-container-id-1 div.sk-label:hover label.sk-toggleable__label {\n",
       "  color: var(--sklearn-color-text);\n",
       "  background-color: var(--sklearn-color-unfitted-level-2);\n",
       "}\n",
       "\n",
       "/* Label box, darken color on hover, fitted */\n",
       "#sk-container-id-1 div.sk-label.fitted:hover label.sk-toggleable__label.fitted {\n",
       "  color: var(--sklearn-color-text);\n",
       "  background-color: var(--sklearn-color-fitted-level-2);\n",
       "}\n",
       "\n",
       "/* Estimator label */\n",
       "\n",
       "#sk-container-id-1 div.sk-label label {\n",
       "  font-family: monospace;\n",
       "  font-weight: bold;\n",
       "  display: inline-block;\n",
       "  line-height: 1.2em;\n",
       "}\n",
       "\n",
       "#sk-container-id-1 div.sk-label-container {\n",
       "  text-align: center;\n",
       "}\n",
       "\n",
       "/* Estimator-specific */\n",
       "#sk-container-id-1 div.sk-estimator {\n",
       "  font-family: monospace;\n",
       "  border: 1px dotted var(--sklearn-color-border-box);\n",
       "  border-radius: 0.25em;\n",
       "  box-sizing: border-box;\n",
       "  margin-bottom: 0.5em;\n",
       "  /* unfitted */\n",
       "  background-color: var(--sklearn-color-unfitted-level-0);\n",
       "}\n",
       "\n",
       "#sk-container-id-1 div.sk-estimator.fitted {\n",
       "  /* fitted */\n",
       "  background-color: var(--sklearn-color-fitted-level-0);\n",
       "}\n",
       "\n",
       "/* on hover */\n",
       "#sk-container-id-1 div.sk-estimator:hover {\n",
       "  /* unfitted */\n",
       "  background-color: var(--sklearn-color-unfitted-level-2);\n",
       "}\n",
       "\n",
       "#sk-container-id-1 div.sk-estimator.fitted:hover {\n",
       "  /* fitted */\n",
       "  background-color: var(--sklearn-color-fitted-level-2);\n",
       "}\n",
       "\n",
       "/* Specification for estimator info (e.g. \"i\" and \"?\") */\n",
       "\n",
       "/* Common style for \"i\" and \"?\" */\n",
       "\n",
       ".sk-estimator-doc-link,\n",
       "a:link.sk-estimator-doc-link,\n",
       "a:visited.sk-estimator-doc-link {\n",
       "  float: right;\n",
       "  font-size: smaller;\n",
       "  line-height: 1em;\n",
       "  font-family: monospace;\n",
       "  background-color: var(--sklearn-color-background);\n",
       "  border-radius: 1em;\n",
       "  height: 1em;\n",
       "  width: 1em;\n",
       "  text-decoration: none !important;\n",
       "  margin-left: 0.5em;\n",
       "  text-align: center;\n",
       "  /* unfitted */\n",
       "  border: var(--sklearn-color-unfitted-level-1) 1pt solid;\n",
       "  color: var(--sklearn-color-unfitted-level-1);\n",
       "}\n",
       "\n",
       ".sk-estimator-doc-link.fitted,\n",
       "a:link.sk-estimator-doc-link.fitted,\n",
       "a:visited.sk-estimator-doc-link.fitted {\n",
       "  /* fitted */\n",
       "  border: var(--sklearn-color-fitted-level-1) 1pt solid;\n",
       "  color: var(--sklearn-color-fitted-level-1);\n",
       "}\n",
       "\n",
       "/* On hover */\n",
       "div.sk-estimator:hover .sk-estimator-doc-link:hover,\n",
       ".sk-estimator-doc-link:hover,\n",
       "div.sk-label-container:hover .sk-estimator-doc-link:hover,\n",
       ".sk-estimator-doc-link:hover {\n",
       "  /* unfitted */\n",
       "  background-color: var(--sklearn-color-unfitted-level-3);\n",
       "  color: var(--sklearn-color-background);\n",
       "  text-decoration: none;\n",
       "}\n",
       "\n",
       "div.sk-estimator.fitted:hover .sk-estimator-doc-link.fitted:hover,\n",
       ".sk-estimator-doc-link.fitted:hover,\n",
       "div.sk-label-container:hover .sk-estimator-doc-link.fitted:hover,\n",
       ".sk-estimator-doc-link.fitted:hover {\n",
       "  /* fitted */\n",
       "  background-color: var(--sklearn-color-fitted-level-3);\n",
       "  color: var(--sklearn-color-background);\n",
       "  text-decoration: none;\n",
       "}\n",
       "\n",
       "/* Span, style for the box shown on hovering the info icon */\n",
       ".sk-estimator-doc-link span {\n",
       "  display: none;\n",
       "  z-index: 9999;\n",
       "  position: relative;\n",
       "  font-weight: normal;\n",
       "  right: .2ex;\n",
       "  padding: .5ex;\n",
       "  margin: .5ex;\n",
       "  width: min-content;\n",
       "  min-width: 20ex;\n",
       "  max-width: 50ex;\n",
       "  color: var(--sklearn-color-text);\n",
       "  box-shadow: 2pt 2pt 4pt #999;\n",
       "  /* unfitted */\n",
       "  background: var(--sklearn-color-unfitted-level-0);\n",
       "  border: .5pt solid var(--sklearn-color-unfitted-level-3);\n",
       "}\n",
       "\n",
       ".sk-estimator-doc-link.fitted span {\n",
       "  /* fitted */\n",
       "  background: var(--sklearn-color-fitted-level-0);\n",
       "  border: var(--sklearn-color-fitted-level-3);\n",
       "}\n",
       "\n",
       ".sk-estimator-doc-link:hover span {\n",
       "  display: block;\n",
       "}\n",
       "\n",
       "/* \"?\"-specific style due to the `<a>` HTML tag */\n",
       "\n",
       "#sk-container-id-1 a.estimator_doc_link {\n",
       "  float: right;\n",
       "  font-size: 1rem;\n",
       "  line-height: 1em;\n",
       "  font-family: monospace;\n",
       "  background-color: var(--sklearn-color-background);\n",
       "  border-radius: 1rem;\n",
       "  height: 1rem;\n",
       "  width: 1rem;\n",
       "  text-decoration: none;\n",
       "  /* unfitted */\n",
       "  color: var(--sklearn-color-unfitted-level-1);\n",
       "  border: var(--sklearn-color-unfitted-level-1) 1pt solid;\n",
       "}\n",
       "\n",
       "#sk-container-id-1 a.estimator_doc_link.fitted {\n",
       "  /* fitted */\n",
       "  border: var(--sklearn-color-fitted-level-1) 1pt solid;\n",
       "  color: var(--sklearn-color-fitted-level-1);\n",
       "}\n",
       "\n",
       "/* On hover */\n",
       "#sk-container-id-1 a.estimator_doc_link:hover {\n",
       "  /* unfitted */\n",
       "  background-color: var(--sklearn-color-unfitted-level-3);\n",
       "  color: var(--sklearn-color-background);\n",
       "  text-decoration: none;\n",
       "}\n",
       "\n",
       "#sk-container-id-1 a.estimator_doc_link.fitted:hover {\n",
       "  /* fitted */\n",
       "  background-color: var(--sklearn-color-fitted-level-3);\n",
       "}\n",
       "</style><div id=\"sk-container-id-1\" class=\"sk-top-container\"><div class=\"sk-text-repr-fallback\"><pre>KNeighborsClassifier()</pre><b>In a Jupyter environment, please rerun this cell to show the HTML representation or trust the notebook. <br />On GitHub, the HTML representation is unable to render, please try loading this page with nbviewer.org.</b></div><div class=\"sk-container\" hidden><div class=\"sk-item\"><div class=\"sk-estimator fitted sk-toggleable\"><input class=\"sk-toggleable__control sk-hidden--visually\" id=\"sk-estimator-id-1\" type=\"checkbox\" checked><label for=\"sk-estimator-id-1\" class=\"sk-toggleable__label fitted sk-toggleable__label-arrow\"><div><div>KNeighborsClassifier</div></div><div><a class=\"sk-estimator-doc-link fitted\" rel=\"noreferrer\" target=\"_blank\" href=\"https://scikit-learn.org/1.6/modules/generated/sklearn.neighbors.KNeighborsClassifier.html\">?<span>Documentation for KNeighborsClassifier</span></a><span class=\"sk-estimator-doc-link fitted\">i<span>Fitted</span></span></div></label><div class=\"sk-toggleable__content fitted\"><pre>KNeighborsClassifier()</pre></div> </div></div></div></div>"
      ],
      "text/plain": [
       "KNeighborsClassifier()"
      ]
     },
     "execution_count": 30,
     "metadata": {},
     "output_type": "execute_result"
    }
   ],
   "source": [
    "knn.fit(splits[0],np.ravel(splits[2]))\n",
    "\n",
    "#<xml xmlns=\"https://developers.google.com/blockly/xml\"><variables><variable id=\"qiYg#10P*[{cvl~,g!4n\">knn</variable><variable id=\"Zhzp)s*VL?V@ES3(j:*b\">np</variable><variable id=\"_ut$e0PL4OMi4o1MXTpw\">splits</variable></variables><block type=\"varDoMethod\" id=\"8Ljs~haYrP^|UkSn*ZFY\" x=\"14\" y=\"249\"><mutation items=\"2\"></mutation><field name=\"VAR\" id=\"qiYg#10P*[{cvl~,g!4n\">knn</field><field name=\"MEMBER\">fit</field><data>knn:fit</data><value name=\"ADD0\"><block type=\"lists_getIndex\" id=\"1MeJkC]YhSKb1g:QUq!i\"><mutation statement=\"false\" at=\"true\"></mutation><field name=\"MODE\">GET</field><field name=\"WHERE\">FROM_START</field><value name=\"VALUE\"><block type=\"variables_get\" id=\"^R/0R7yd6JHXc%c++34J\"><field name=\"VAR\" id=\"_ut$e0PL4OMi4o1MXTpw\">splits</field></block></value><value name=\"AT\"><block type=\"math_number\" id=\"jLV:Y45[^:fBT{|!(.r`\"><field name=\"NUM\">1</field></block></value></block></value><value name=\"ADD1\"><block type=\"varDoMethod\" id=\";tG1YnMBwV?P4hBmIFcK\"><mutation items=\"1\"></mutation><field name=\"VAR\" id=\"Zhzp)s*VL?V@ES3(j:*b\">np</field><field name=\"MEMBER\">ravel</field><data>np:ravel</data><value name=\"ADD0\"><block type=\"lists_getIndex\" id=\"k/?QqU$23,hhQq.^1(BU\"><mutation statement=\"false\" at=\"true\"></mutation><field name=\"MODE\">GET</field><field name=\"WHERE\">FROM_START</field><value name=\"VALUE\"><block type=\"variables_get\" id=\"*;}}|a4^CJemb:I]=)A5\"><field name=\"VAR\" id=\"_ut$e0PL4OMi4o1MXTpw\">splits</field></block></value><value name=\"AT\"><block type=\"math_number\" id=\"pB6/r)Wezpc@A.wR5z-a\"><field name=\"NUM\">3</field></block></value></block></value></block></value></block></xml>"
   ]
  },
  {
   "cell_type": "markdown",
   "metadata": {},
   "source": [
    "**Congratulations, you just trained a KNN classifier!**"
   ]
  },
  {
   "cell_type": "markdown",
   "metadata": {},
   "source": [
    "#### Testing the model\n",
    "\n",
    "As before, the final step is to predict classes with the test data:\n",
    "\n",
    "- Set `predictions` to with `knn` do `predict` using\n",
    "    - `in list splits get # 2` \n",
    "- `predictions` (to display)"
   ]
  },
  {
   "cell_type": "code",
   "execution_count": 31,
   "metadata": {
    "user_blocks": [
     "variables_set",
     "varDoMethod",
     "lists_getIndex",
     "variables_get",
     "math_number",
     "variables_get"
    ],
    "user_blocks_xml": "<xml xmlns=\"https://developers.google.com/blockly/xml\"><variables><variable id=\"S${cx6mpro:A3F6)k7GU\">predictions</variable><variable id=\"qiYg#10P*[{cvl~,g!4n\">knn</variable><variable id=\"_ut$e0PL4OMi4o1MXTpw\">splits</variable></variables><block type=\"variables_set\" id=\"NHw$/HH988vNLbZgn)CM\" x=\"0\" y=\"229\"><field name=\"VAR\" id=\"S${cx6mpro:A3F6)k7GU\">predictions</field><value name=\"VALUE\"><block type=\"varDoMethod\" id=\"N}3ds6:i%0MtTA:(2im4\"><mutation items=\"1\"></mutation><field name=\"VAR\" id=\"qiYg#10P*[{cvl~,g!4n\">knn</field><field name=\"MEMBER\">predict</field><data>knn:predict</data><value name=\"ADD0\"><block type=\"lists_getIndex\" id=\"@lpyN+:CEcPQ#Q:Svm|9\"><mutation statement=\"false\" at=\"true\"></mutation><field name=\"MODE\">GET</field><field name=\"WHERE\">FROM_START</field><value name=\"VALUE\"><block type=\"variables_get\" id=\"ng))4fZyb@U1|eswo1}:\"><field name=\"VAR\" id=\"_ut$e0PL4OMi4o1MXTpw\">splits</field></block></value><value name=\"AT\"><block type=\"math_number\" id=\"Lo)w=2LL|Tf-L/gkeTdT\"><field name=\"NUM\">2</field></block></value></block></value></block></value></block><block type=\"variables_get\" id=\"l*ZLIc:H{/wcQWO.bmZ,\" x=\"4\" y=\"356\"><field name=\"VAR\" id=\"S${cx6mpro:A3F6)k7GU\">predictions</field></block></xml>",
    "user_code_from_blocks": "predictions = knn.predict(splits[1])\n\npredictions\n"
   },
   "outputs": [
    {
     "data": {
      "text/plain": [
       "array(['virginica', 'versicolor', 'setosa', 'versicolor', 'versicolor',\n",
       "       'setosa', 'versicolor', 'versicolor', 'virginica', 'virginica',\n",
       "       'setosa', 'setosa', 'setosa', 'versicolor', 'versicolor',\n",
       "       'versicolor', 'setosa', 'versicolor', 'virginica', 'virginica',\n",
       "       'virginica', 'setosa', 'setosa', 'virginica', 'setosa',\n",
       "       'virginica', 'virginica', 'setosa', 'virginica', 'setosa'],\n",
       "      dtype=object)"
      ]
     },
     "execution_count": 31,
     "metadata": {},
     "output_type": "execute_result"
    }
   ],
   "source": [
    "predictions = knn.predict(splits[1])\n",
    "\n",
    "predictions\n",
    "\n",
    "#<xml xmlns=\"https://developers.google.com/blockly/xml\"><variables><variable id=\"S${cx6mpro:A3F6)k7GU\">predictions</variable><variable id=\"qiYg#10P*[{cvl~,g!4n\">knn</variable><variable id=\"_ut$e0PL4OMi4o1MXTpw\">splits</variable></variables><block type=\"variables_set\" id=\"NHw$/HH988vNLbZgn)CM\" x=\"0\" y=\"229\"><field name=\"VAR\" id=\"S${cx6mpro:A3F6)k7GU\">predictions</field><value name=\"VALUE\"><block type=\"varDoMethod\" id=\"N}3ds6:i%0MtTA:(2im4\"><mutation items=\"1\"></mutation><field name=\"VAR\" id=\"qiYg#10P*[{cvl~,g!4n\">knn</field><field name=\"MEMBER\">predict</field><data>knn:predict</data><value name=\"ADD0\"><block type=\"lists_getIndex\" id=\"@lpyN+:CEcPQ#Q:Svm|9\"><mutation statement=\"false\" at=\"true\"></mutation><field name=\"MODE\">GET</field><field name=\"WHERE\">FROM_START</field><value name=\"VALUE\"><block type=\"variables_get\" id=\"ng))4fZyb@U1|eswo1}:\"><field name=\"VAR\" id=\"_ut$e0PL4OMi4o1MXTpw\">splits</field></block></value><value name=\"AT\"><block type=\"math_number\" id=\"Lo)w=2LL|Tf-L/gkeTdT\"><field name=\"NUM\">2</field></block></value></block></value></block></value></block><block type=\"variables_get\" id=\"l*ZLIc:H{/wcQWO.bmZ,\" x=\"4\" y=\"356\"><field name=\"VAR\" id=\"S${cx6mpro:A3F6)k7GU\">predictions</field></block></xml>"
   ]
  },
  {
   "cell_type": "markdown",
   "metadata": {},
   "source": [
    "**We now have performed all steps to train and predict classes with an KNN classifier!**"
   ]
  },
  {
   "cell_type": "markdown",
   "metadata": {},
   "source": [
    "To be clear, `predictions` contains the predictions of `Species` from data the classifier has never seen before, which is exactly what we're interested in.\n",
    "\n",
    "The above predictions are the most common class among the nearest neighbors, but we can also get the frequencies of the classes among the near neighbors for each of these predictions.\n",
    "The KNN expresses these as a probability, i.e. for a new observation, what is the probability of each of the three classes of iris?\n",
    "\n",
    "We can access this information too by using `predict_proba`:\n",
    "\n",
    "- with `knn` do `predict_proba` using\n",
    "    - `in list splits get # 2` (again, this is `Xtest`)"
   ]
  },
  {
   "cell_type": "code",
   "execution_count": 32,
   "metadata": {
    "user_blocks": [
     "varDoMethod",
     "lists_getIndex",
     "variables_get",
     "math_number"
    ],
    "user_blocks_xml": "<xml xmlns=\"https://developers.google.com/blockly/xml\"><variables><variable id=\"qiYg#10P*[{cvl~,g!4n\">knn</variable><variable id=\"_ut$e0PL4OMi4o1MXTpw\">splits</variable></variables><block type=\"varDoMethod\" id=\"N}3ds6:i%0MtTA:(2im4\" x=\"38\" y=\"190\"><mutation items=\"1\"></mutation><field name=\"VAR\" id=\"qiYg#10P*[{cvl~,g!4n\">knn</field><field name=\"MEMBER\">predict_proba</field><data>knn:predict_proba</data><value name=\"ADD0\"><block type=\"lists_getIndex\" id=\"@lpyN+:CEcPQ#Q:Svm|9\"><mutation statement=\"false\" at=\"true\"></mutation><field name=\"MODE\">GET</field><field name=\"WHERE\">FROM_START</field><value name=\"VALUE\"><block type=\"variables_get\" id=\"ng))4fZyb@U1|eswo1}:\"><field name=\"VAR\" id=\"_ut$e0PL4OMi4o1MXTpw\">splits</field></block></value><value name=\"AT\"><block type=\"math_number\" id=\"Lo)w=2LL|Tf-L/gkeTdT\"><field name=\"NUM\">2</field></block></value></block></value></block></xml>",
    "user_code_from_blocks": "knn.predict_proba(splits[1])\n"
   },
   "outputs": [
    {
     "data": {
      "text/plain": [
       "array([[0. , 0.4, 0.6],\n",
       "       [0. , 0.8, 0.2],\n",
       "       [1. , 0. , 0. ],\n",
       "       [0. , 1. , 0. ],\n",
       "       [0. , 1. , 0. ],\n",
       "       [1. , 0. , 0. ],\n",
       "       [0. , 1. , 0. ],\n",
       "       [0. , 1. , 0. ],\n",
       "       [0. , 0. , 1. ],\n",
       "       [0. , 0. , 1. ],\n",
       "       [1. , 0. , 0. ],\n",
       "       [1. , 0. , 0. ],\n",
       "       [1. , 0. , 0. ],\n",
       "       [0. , 1. , 0. ],\n",
       "       [0. , 1. , 0. ],\n",
       "       [0. , 1. , 0. ],\n",
       "       [1. , 0. , 0. ],\n",
       "       [0. , 1. , 0. ],\n",
       "       [0. , 0.2, 0.8],\n",
       "       [0. , 0.2, 0.8],\n",
       "       [0. , 0.2, 0.8],\n",
       "       [1. , 0. , 0. ],\n",
       "       [1. , 0. , 0. ],\n",
       "       [0. , 0. , 1. ],\n",
       "       [1. , 0. , 0. ],\n",
       "       [0. , 0. , 1. ],\n",
       "       [0. , 0. , 1. ],\n",
       "       [1. , 0. , 0. ],\n",
       "       [0. , 0. , 1. ],\n",
       "       [1. , 0. , 0. ]])"
      ]
     },
     "execution_count": 32,
     "metadata": {},
     "output_type": "execute_result"
    }
   ],
   "source": [
    "knn.predict_proba(splits[1])\n",
    "\n",
    "#<xml xmlns=\"https://developers.google.com/blockly/xml\"><variables><variable id=\"qiYg#10P*[{cvl~,g!4n\">knn</variable><variable id=\"_ut$e0PL4OMi4o1MXTpw\">splits</variable></variables><block type=\"varDoMethod\" id=\"N}3ds6:i%0MtTA:(2im4\" x=\"38\" y=\"190\"><mutation items=\"1\"></mutation><field name=\"VAR\" id=\"qiYg#10P*[{cvl~,g!4n\">knn</field><field name=\"MEMBER\">predict_proba</field><data>knn:predict_proba</data><value name=\"ADD0\"><block type=\"lists_getIndex\" id=\"@lpyN+:CEcPQ#Q:Svm|9\"><mutation statement=\"false\" at=\"true\"></mutation><field name=\"MODE\">GET</field><field name=\"WHERE\">FROM_START</field><value name=\"VALUE\"><block type=\"variables_get\" id=\"ng))4fZyb@U1|eswo1}:\"><field name=\"VAR\" id=\"_ut$e0PL4OMi4o1MXTpw\">splits</field></block></value><value name=\"AT\"><block type=\"math_number\" id=\"Lo)w=2LL|Tf-L/gkeTdT\"><field name=\"NUM\">2</field></block></value></block></value></block></xml>"
   ]
  },
  {
   "cell_type": "markdown",
   "metadata": {},
   "source": [
    "Notice that for each prediction (a row) we have three probabilities that sum up to 1, corresponding to the three different `iris` species."
   ]
  },
  {
   "cell_type": "markdown",
   "metadata": {},
   "source": [
    "## Assessing the Classifier\n",
    "\n",
    "Consider for a moment a classifier that always predicted species `versicolor`.\n",
    "It wouldn't be very smart right?\n",
    "You certainly wouldn't need any data to train it.\n",
    "However, even this \"dumb\" classifier would be right 33% of the time, because `versicolor` is the correct class for 33% of the data.\n",
    "We could make another \"dumb\" classifier by choosing from `versicolor`, `setosa`, and `virginica` randomly; it would also be right 33% of the time in this case.\n",
    "\n",
    "These \"dumb\" classifiers illustrate why it is important to assess classifier performance.\n",
    "If we don't do this extra step, we don't know if the classifier is working well or at all.\n",
    "In general, people agree that if a classifier is no better than random or always choosing the same class, it isn't working at all.\n",
    "\n",
    "To assess the performance of a classifier, we need to look at the mistakes it makes, starting with its **confusion matrix.**"
   ]
  },
  {
   "cell_type": "markdown",
   "metadata": {},
   "source": [
    "### Confusion Matrix"
   ]
  },
  {
   "cell_type": "markdown",
   "metadata": {},
   "source": [
    "For simplicity, consider a classifier where the response variable has only two classes, say positive (1) and negative (0). \n",
    "An example for this might be a test for coronavirus: either you get a positive test or a negative test.\n",
    "\n",
    "A _confusion matrix_ is a tool to evaluate the predictive value of the classifier. \n",
    "The table below is an example of a confusion matrix for a two category classifier."
   ]
  },
  {
   "cell_type": "markdown",
   "metadata": {},
   "source": [
    "<!-- __Figure 2__ -->"
   ]
  },
  {
   "attachments": {
    "confusionMatrixSimple-1.png": {
     "image/png": "[encoded data removed]"
    }
   },
   "cell_type": "markdown",
   "metadata": {},
   "source": [
    "<!-- ![confusionMatrixSimple-1.png](attachment:confusionMatrixSimple-1.png) -->\n",
    "<div>\n",
    "<img src=\"attachment:confusionMatrixSimple-1.png\" width=\"500\"/>\n",
    "</div>"
   ]
  },
  {
   "cell_type": "markdown",
   "metadata": {},
   "source": [
    "**Figure 2**"
   ]
  },
  {
   "cell_type": "markdown",
   "metadata": {},
   "source": [
    "When making a classification, there are two ways to be correct.\n",
    "A prediction is a true positive (TP) if the actual value was positive and the classifier predicted it to be positive. \n",
    "A prediction is a true negative (TN) if the actual value was negative and the classifier predicted it to be negative. \n",
    "TP and TN are correct predictions and should be large for a _good classifier_. \n",
    "\n",
    "There are also two ways to be wrong when making a classification.\n",
    "A prediction is a false positive (FP) if the actual response was negative and the predicted response was positive. \n",
    "A prediction is a false negative (FN) if the actual response was positive and the classifier predicted it to be negative. \n",
    "FP and FN are errors and should be small for a _good classifier_. \n",
    "\n",
    "To summarize this, there are two ways to be right and two ways to be wrong.\n",
    "The two ways to be right are TP and TN: saying something (e.g. the virus) is there when it's there, and saying something isn't there when it isn't there.\n",
    "The two ways to be wrong are FP and FN: staying something is there when it isn't, and saying something isn't there when it is."
   ]
  },
  {
   "cell_type": "markdown",
   "metadata": {},
   "source": [
    "<!-- This is good, but I already wrote the above when I saw it and don't have time to combine -->\n",
    "\n",
    "<!-- Consider a medical setting for evaluating diagnostic tests. TP is the number of people that have the disease and the test correctly showed that they have the disease. TN is the number of people that don’t have the disease and the test correctly says they don’t. FP is the number of people who do not have the disease but the test incorrectly predicts that they do and FN is the number of people who do have the disease but the test predicts they don’t. -->"
   ]
  },
  {
   "cell_type": "markdown",
   "metadata": {},
   "source": [
    "While the four corners of the confusion matrix are useful by themselves, we can also construct metrics using them.\n",
    "The most well-known metric is **accuracy** which is $TP+TN$ divided by the sum of everything in the matrix (how many times were you right divided by all the classifications you made). \n",
    "\n",
    "There are some additional measures used to assess classifiers in addition to accuracy, each of which highlights a different part of the classifier's performance."
   ]
  },
  {
   "cell_type": "markdown",
   "metadata": {},
   "source": [
    "The **sensitivity**, also called **recall**, is defined as the ratio of true positive to total number of actual positives, $\\frac{TP}{TP+FN}$. \n",
    "In our disease example, sensitivity is the number of times we correctly said positive divided by then number of times the disease was present.\n",
    "The sensitivity will be between 0 and 1. \n",
    "The better the classifier, the larger the sensitivity."
   ]
  },
  {
   "cell_type": "markdown",
   "metadata": {},
   "source": [
    "The **specificity**  is a similar measure for the negative response. \n",
    "It is the ratio of true negative to the total number of actual negatives, $\\frac{TN}{TN+FP}$. \n",
    "In our disease example, specificity is the number of times we correctly said negative divided by then number of times the disease was *not* present.\n",
    "The specificity is also between 0 and 1. \n",
    "The better the classifier, the larger the specificity. "
   ]
  },
  {
   "cell_type": "markdown",
   "metadata": {},
   "source": [
    "A measure of the error that is often used is the _false discovery rate_ (FDR). \n",
    "The FDR measures how many of the actual negative responses were predicted as positive by the classifier, $FDR = \\frac{FP}{FP+TN} = 1 - \\text{specificity}$. \n",
    "The better the classifier, the smaller the FDR. "
   ]
  },
  {
   "cell_type": "markdown",
   "metadata": {},
   "source": [
    "It is possible to construct confusion matrices for situations where there are more than two classes but the specificity, sensitivity and FDR are defined differently."
   ]
  },
  {
   "cell_type": "markdown",
   "metadata": {},
   "source": [
    "An expanded graphic is in Figure 3. \n",
    "<!-- Not sure what is meant by missing, so cutting for now -->\n",
    "<!-- Can you spot the metric missing? -->"
   ]
  },
  {
   "cell_type": "markdown",
   "metadata": {},
   "source": [
    "<!-- __Figure 3__ -->"
   ]
  },
  {
   "attachments": {
    "confusionMatrix-1.png": {
     "image/png": "[encoded data removed]"
    }
   },
   "cell_type": "markdown",
   "metadata": {},
   "source": [
    "<!-- ![confusionMatrix-1.png](attachment:confusionMatrix-1.png) -->\n",
    "<div>\n",
    "<img src=\"attachment:confusionMatrix-1.png\" width=\"700\"/>\n",
    "</div>"
   ]
  },
  {
   "cell_type": "markdown",
   "metadata": {},
   "source": [
    "**Figure 3**"
   ]
  },
  {
   "cell_type": "markdown",
   "metadata": {},
   "source": [
    "### KNN Programming Example cont."
   ]
  },
  {
   "cell_type": "markdown",
   "metadata": {},
   "source": [
    "Now that we know about confusion matrices, let's evaluate the performance of the KNN classifier for our test dataset. \n",
    "To do this, we only need two things:\n",
    "\n",
    "- `Ytest` (the class labels from our test data split)\n",
    "- `predictions` (our class label predictions from our KNN model)\n",
    "\n",
    "First, the imports for computing performance metrics:\n",
    "\n",
    "- `import sklearn.metrics as metrics`\n",
    "\n",
    "<!-- We first need to import `confusion_matrix`, `classification_report`, and `accuracy_score` from `sklearn.metrics`. -->"
   ]
  },
  {
   "cell_type": "code",
   "execution_count": 33,
   "metadata": {
    "user_blocks": [
     "importAs"
    ],
    "user_blocks_xml": "<xml xmlns=\"https://developers.google.com/blockly/xml\"><variables><variable id=\"C8HQ^p):qDkQA/nhxe{{\">metrics</variable></variables><block type=\"importAs\" id=\"|1fEPj_#9:@0Qa@y|1F.\" x=\"135\" y=\"207\"><field name=\"libraryName\">sklearn.metrics</field><field name=\"VAR\" id=\"C8HQ^p):qDkQA/nhxe{{\">metrics</field></block></xml>",
    "user_code_from_blocks": "import sklearn.metrics as metrics\n"
   },
   "outputs": [],
   "source": [
    "import sklearn.metrics as metrics\n",
    "\n",
    "#<xml xmlns=\"https://developers.google.com/blockly/xml\"><variables><variable id=\"C8HQ^p):qDkQA/nhxe{{\">metrics</variable></variables><block type=\"importAs\" id=\"|1fEPj_#9:@0Qa@y|1F.\" x=\"135\" y=\"207\"><field name=\"libraryName\">sklearn.metrics</field><field name=\"VAR\" id=\"C8HQ^p):qDkQA/nhxe{{\">metrics</field></block></xml>"
   ]
  },
  {
   "cell_type": "markdown",
   "metadata": {},
   "source": [
    "Let's start with the confusion matrix:\n",
    "\n",
    "- with `metrics` do `confusion_matrix` using\n",
    "    - `in list splits get # 4`  (this is `Ytest`)\n",
    "    - `predictions`"
   ]
  },
  {
   "cell_type": "code",
   "execution_count": 34,
   "metadata": {
    "user_blocks": [
     "varDoMethod",
     "lists_getIndex",
     "variables_get",
     "math_number",
     "variables_get"
    ],
    "user_blocks_xml": "<xml xmlns=\"https://developers.google.com/blockly/xml\"><variables><variable id=\"C8HQ^p):qDkQA/nhxe{{\">metrics</variable><variable id=\"S${cx6mpro:A3F6)k7GU\">predictions</variable><variable id=\"_ut$e0PL4OMi4o1MXTpw\">splits</variable></variables><block type=\"varDoMethod\" id=\"l,28Y;cf6Q.r-rTBWP4}\" x=\"78\" y=\"243\"><mutation items=\"2\"></mutation><field name=\"VAR\" id=\"C8HQ^p):qDkQA/nhxe{{\">metrics</field><field name=\"MEMBER\">confusion_matrix</field><data>metrics:confusion_matrix</data><value name=\"ADD0\"><block type=\"lists_getIndex\" id=\"6Nb!QUCs+zcSbgi2=8Jb\"><mutation statement=\"false\" at=\"true\"></mutation><field name=\"MODE\">GET</field><field name=\"WHERE\">FROM_START</field><value name=\"VALUE\"><block type=\"variables_get\" id=\"0SesC-O%M@-rqWgnWJ[q\"><field name=\"VAR\" id=\"_ut$e0PL4OMi4o1MXTpw\">splits</field></block></value><value name=\"AT\"><block type=\"math_number\" id=\"ZQBTZmCAMzn[;:irh:{@\"><field name=\"NUM\">4</field></block></value></block></value><value name=\"ADD1\"><block type=\"variables_get\" id=\":5r(/A;QY|,.0/gzcHi.\"><field name=\"VAR\" id=\"S${cx6mpro:A3F6)k7GU\">predictions</field></block></value></block></xml>",
    "user_code_from_blocks": "metrics.confusion_matrix(splits[3],predictions)\n"
   },
   "outputs": [
    {
     "data": {
      "text/plain": [
       "array([[11,  0,  0],\n",
       "       [ 0,  8,  1],\n",
       "       [ 0,  1,  9]])"
      ]
     },
     "execution_count": 34,
     "metadata": {},
     "output_type": "execute_result"
    }
   ],
   "source": [
    "metrics.confusion_matrix(splits[3],predictions)\n",
    "\n",
    "#<xml xmlns=\"https://developers.google.com/blockly/xml\"><variables><variable id=\"C8HQ^p):qDkQA/nhxe{{\">metrics</variable><variable id=\"S${cx6mpro:A3F6)k7GU\">predictions</variable><variable id=\"_ut$e0PL4OMi4o1MXTpw\">splits</variable></variables><block type=\"varDoMethod\" id=\"l,28Y;cf6Q.r-rTBWP4}\" x=\"78\" y=\"243\"><mutation items=\"2\"></mutation><field name=\"VAR\" id=\"C8HQ^p):qDkQA/nhxe{{\">metrics</field><field name=\"MEMBER\">confusion_matrix</field><data>metrics:confusion_matrix</data><value name=\"ADD0\"><block type=\"lists_getIndex\" id=\"6Nb!QUCs+zcSbgi2=8Jb\"><mutation statement=\"false\" at=\"true\"></mutation><field name=\"MODE\">GET</field><field name=\"WHERE\">FROM_START</field><value name=\"VALUE\"><block type=\"variables_get\" id=\"0SesC-O%M@-rqWgnWJ[q\"><field name=\"VAR\" id=\"_ut$e0PL4OMi4o1MXTpw\">splits</field></block></value><value name=\"AT\"><block type=\"math_number\" id=\"ZQBTZmCAMzn[;:irh:{@\"><field name=\"NUM\">4</field></block></value></block></value><value name=\"ADD1\"><block type=\"variables_get\" id=\":5r(/A;QY|,.0/gzcHi.\"><field name=\"VAR\" id=\"S${cx6mpro:A3F6)k7GU\">predictions</field></block></value></block></xml>"
   ]
  },
  {
   "cell_type": "markdown",
   "metadata": {},
   "source": [
    "You can see that most of the big numbers are on the diagonal, which means that we are classifying most classes correctly.\n",
    "\n",
    "However, it can be hard to read the confusion matrix, especially this one, when the rows and columns aren't labeled.\n",
    "Let's look at some of the other metrics that are calculated with this confusion matrix."
   ]
  },
  {
   "cell_type": "markdown",
   "metadata": {},
   "source": [
    "To get the accuracy:\n",
    "\n",
    "- with `metrics` do `accuracy_score` using\n",
    "    - `in list splits get # 4`  (this is `Ytest`)\n",
    "    - `predictions`\n",
    "    \n",
    "As you no doubt noticed, this is very similar to calling `confusion_matrix`, so you might like to copy blocks from that to save some time."
   ]
  },
  {
   "cell_type": "code",
   "execution_count": 35,
   "metadata": {
    "user_blocks": [
     "varDoMethod",
     "lists_getIndex",
     "variables_get",
     "math_number",
     "variables_get"
    ],
    "user_blocks_xml": "<xml xmlns=\"https://developers.google.com/blockly/xml\"><variables><variable id=\"C8HQ^p):qDkQA/nhxe{{\">metrics</variable><variable id=\"S${cx6mpro:A3F6)k7GU\">predictions</variable><variable id=\"_ut$e0PL4OMi4o1MXTpw\">splits</variable></variables><block type=\"varDoMethod\" id=\"l,28Y;cf6Q.r-rTBWP4}\" x=\"76\" y=\"293\"><mutation items=\"2\"></mutation><field name=\"VAR\" id=\"C8HQ^p):qDkQA/nhxe{{\">metrics</field><field name=\"MEMBER\">accuracy_score</field><data>metrics:accuracy_score</data><value name=\"ADD0\"><block type=\"lists_getIndex\" id=\"6Nb!QUCs+zcSbgi2=8Jb\"><mutation statement=\"false\" at=\"true\"></mutation><field name=\"MODE\">GET</field><field name=\"WHERE\">FROM_START</field><value name=\"VALUE\"><block type=\"variables_get\" id=\"0SesC-O%M@-rqWgnWJ[q\"><field name=\"VAR\" id=\"_ut$e0PL4OMi4o1MXTpw\">splits</field></block></value><value name=\"AT\"><block type=\"math_number\" id=\"ZQBTZmCAMzn[;:irh:{@\"><field name=\"NUM\">4</field></block></value></block></value><value name=\"ADD1\"><block type=\"variables_get\" id=\":5r(/A;QY|,.0/gzcHi.\"><field name=\"VAR\" id=\"S${cx6mpro:A3F6)k7GU\">predictions</field></block></value></block></xml>",
    "user_code_from_blocks": "metrics.accuracy_score(splits[3],predictions)\n"
   },
   "outputs": [
    {
     "data": {
      "text/plain": [
       "0.9333333333333333"
      ]
     },
     "execution_count": 35,
     "metadata": {},
     "output_type": "execute_result"
    }
   ],
   "source": [
    "metrics.accuracy_score(splits[3],predictions)\n",
    "\n",
    "#<xml xmlns=\"https://developers.google.com/blockly/xml\"><variables><variable id=\"C8HQ^p):qDkQA/nhxe{{\">metrics</variable><variable id=\"S${cx6mpro:A3F6)k7GU\">predictions</variable><variable id=\"_ut$e0PL4OMi4o1MXTpw\">splits</variable></variables><block type=\"varDoMethod\" id=\"l,28Y;cf6Q.r-rTBWP4}\" x=\"76\" y=\"293\"><mutation items=\"2\"></mutation><field name=\"VAR\" id=\"C8HQ^p):qDkQA/nhxe{{\">metrics</field><field name=\"MEMBER\">accuracy_score</field><data>metrics:accuracy_score</data><value name=\"ADD0\"><block type=\"lists_getIndex\" id=\"6Nb!QUCs+zcSbgi2=8Jb\"><mutation statement=\"false\" at=\"true\"></mutation><field name=\"MODE\">GET</field><field name=\"WHERE\">FROM_START</field><value name=\"VALUE\"><block type=\"variables_get\" id=\"0SesC-O%M@-rqWgnWJ[q\"><field name=\"VAR\" id=\"_ut$e0PL4OMi4o1MXTpw\">splits</field></block></value><value name=\"AT\"><block type=\"math_number\" id=\"ZQBTZmCAMzn[;:irh:{@\"><field name=\"NUM\">4</field></block></value></block></value><value name=\"ADD1\"><block type=\"variables_get\" id=\":5r(/A;QY|,.0/gzcHi.\"><field name=\"VAR\" id=\"S${cx6mpro:A3F6)k7GU\">predictions</field></block></value></block></xml>"
   ]
  },
  {
   "cell_type": "markdown",
   "metadata": {},
   "source": [
    "To get the recall and precision:\n",
    "\n",
    "- `print` with `metrics` do `classification_report` using\n",
    "    - `in list splits get # 4`  (this is `Ytest`)\n",
    "    - `predictions`\n",
    "    \n",
    "Again, you might like to copy blocks to save some time.\n",
    "Notice this time we use `print` to get a pretty output.\n",
    "If you ever get ugly output displaying text, try using `print`."
   ]
  },
  {
   "cell_type": "code",
   "execution_count": 36,
   "metadata": {
    "user_blocks": [
     "text_print",
     "varDoMethod",
     "lists_getIndex",
     "variables_get",
     "math_number",
     "variables_get"
    ],
    "user_blocks_xml": "<xml xmlns=\"https://developers.google.com/blockly/xml\"><variables><variable id=\"C8HQ^p):qDkQA/nhxe{{\">metrics</variable><variable id=\"S${cx6mpro:A3F6)k7GU\">predictions</variable><variable id=\"_ut$e0PL4OMi4o1MXTpw\">splits</variable></variables><block type=\"text_print\" id=\"Sx0uF}9IfzkucZiyR^1:\" x=\"9\" y=\"224\"><value name=\"TEXT\"><block type=\"varDoMethod\" id=\"l,28Y;cf6Q.r-rTBWP4}\"><mutation items=\"2\"></mutation><field name=\"VAR\" id=\"C8HQ^p):qDkQA/nhxe{{\">metrics</field><field name=\"MEMBER\">classification_report</field><data>metrics:classification_report</data><value name=\"ADD0\"><block type=\"lists_getIndex\" id=\"6Nb!QUCs+zcSbgi2=8Jb\"><mutation statement=\"false\" at=\"true\"></mutation><field name=\"MODE\">GET</field><field name=\"WHERE\">FROM_START</field><value name=\"VALUE\"><block type=\"variables_get\" id=\"0SesC-O%M@-rqWgnWJ[q\"><field name=\"VAR\" id=\"_ut$e0PL4OMi4o1MXTpw\">splits</field></block></value><value name=\"AT\"><block type=\"math_number\" id=\"ZQBTZmCAMzn[;:irh:{@\"><field name=\"NUM\">4</field></block></value></block></value><value name=\"ADD1\"><block type=\"variables_get\" id=\":5r(/A;QY|,.0/gzcHi.\"><field name=\"VAR\" id=\"S${cx6mpro:A3F6)k7GU\">predictions</field></block></value></block></value></block></xml>",
    "user_code_from_blocks": "print(metrics.classification_report(splits[3],predictions))\n"
   },
   "outputs": [
    {
     "name": "stdout",
     "output_type": "stream",
     "text": [
      "              precision    recall  f1-score   support\n",
      "\n",
      "      setosa       1.00      1.00      1.00        11\n",
      "  versicolor       0.89      0.89      0.89         9\n",
      "   virginica       0.90      0.90      0.90        10\n",
      "\n",
      "    accuracy                           0.93        30\n",
      "   macro avg       0.93      0.93      0.93        30\n",
      "weighted avg       0.93      0.93      0.93        30\n",
      "\n"
     ]
    }
   ],
   "source": [
    "print(metrics.classification_report(splits[3],predictions))\n",
    "\n",
    "#<xml xmlns=\"https://developers.google.com/blockly/xml\"><variables><variable id=\"C8HQ^p):qDkQA/nhxe{{\">metrics</variable><variable id=\"S${cx6mpro:A3F6)k7GU\">predictions</variable><variable id=\"_ut$e0PL4OMi4o1MXTpw\">splits</variable></variables><block type=\"text_print\" id=\"Sx0uF}9IfzkucZiyR^1:\" x=\"9\" y=\"224\"><value name=\"TEXT\"><block type=\"varDoMethod\" id=\"l,28Y;cf6Q.r-rTBWP4}\"><mutation items=\"2\"></mutation><field name=\"VAR\" id=\"C8HQ^p):qDkQA/nhxe{{\">metrics</field><field name=\"MEMBER\">classification_report</field><data>metrics:classification_report</data><value name=\"ADD0\"><block type=\"lists_getIndex\" id=\"6Nb!QUCs+zcSbgi2=8Jb\"><mutation statement=\"false\" at=\"true\"></mutation><field name=\"MODE\">GET</field><field name=\"WHERE\">FROM_START</field><value name=\"VALUE\"><block type=\"variables_get\" id=\"0SesC-O%M@-rqWgnWJ[q\"><field name=\"VAR\" id=\"_ut$e0PL4OMi4o1MXTpw\">splits</field></block></value><value name=\"AT\"><block type=\"math_number\" id=\"ZQBTZmCAMzn[;:irh:{@\"><field name=\"NUM\">4</field></block></value></block></value><value name=\"ADD1\"><block type=\"variables_get\" id=\":5r(/A;QY|,.0/gzcHi.\"><field name=\"VAR\" id=\"S${cx6mpro:A3F6)k7GU\">predictions</field></block></value></block></value></block></xml>"
   ]
  },
  {
   "cell_type": "markdown",
   "metadata": {},
   "source": [
    "Altogether, these results are really, really good.\n",
    "Accuracy above 90% is generally considered very good, and the classification report shows that the classifier is working well for all three `iris` species.\n",
    "This last point is important: it's possible to have a classifier with good overall accuracy that still doesn't work well for a particular class, so it's important to go into the detail of the classification report."
   ]
  },
  {
   "cell_type": "markdown",
   "metadata": {},
   "source": [
    "## Check your knowledge\n",
    "\n",
    "**Hover to see the correct answer.**"
   ]
  },
  {
   "cell_type": "markdown",
   "metadata": {},
   "source": [
    "1.  What is the primary difference between **classification** and **clustering**?\n",
    "- In classification, classes are unknown, while in clustering, they are known.\n",
    "- <div title=\"Correct answer\">In classification, classes are known, while in clustering, they are unknown.</div>\n",
    "- Classification is an unsupervised method, while clustering is supervised.\n",
    "- Both classification and clustering are always supervised methods.\n",
    "\n",
    "2.  The **k-nearest neighbors (KNN)** method of classification is based on what principle?\n",
    "- Random guessing\n",
    "- Maximizing the distance between observations\n",
    "- <div title=\"Correct answer\">Distance to the closest previous observations</div>\n",
    "- Minimizing the number of features\n",
    "\n",
    "3.  In the KNN example with the green circle, if $K=3$, what class would KNN predict for the new observation?\n",
    "- Blue Square\n",
    "- <div title=\"Correct answer\">Red Triangle</div>\n",
    "- Green Circle\n",
    "- Both Blue Square and Red Triangle equally\n",
    "\n",
    "4.  What happens to the KNN prediction if $K$ is set to the total number of previous observations?\n",
    "- The model becomes highly accurate for all new observations.\n",
    "- The model always predicts the class that is least common overall.\n",
    "- <div title=\"Correct answer\">The model always predicts the class that is most common overall.</div>\n",
    "- The model becomes computationally inefficient.\n",
    "\n",
    "5.  Which of the following libraries is primarily used for working with **dataframes** in Python, as demonstrated in the notebook?\n",
    "- `numpy`\n",
    "- `sklearn`\n",
    "- <div title=\"Correct answer\">`pandas`</div>\n",
    "- `matplotlib`\n",
    "\n",
    "6.  When preparing data for a classification model, why is the data typically split into two pieces: \"everything but the labels\" and \"the labels by themselves\"?\n",
    "- To reduce the size of the dataset.\n",
    "- To make the data easier to visualize.\n",
    "- <div title=\"Correct answer\">To separate the features (X) from the target variable (Y) that the model will predict.</div>\n",
    "- To perform a different type of statistical analysis.\n",
    "\n",
    "7.  What is the purpose of **train/test data splitting** in machine learning?\n",
    "- To speed up the training process.\n",
    "- To ensure the model memorizes the training data perfectly.\n",
    "- <div title=\"Correct answer\">To assess how well the classifier can generalize to new, unseen data.</div>\n",
    "- To remove outliers from the dataset.\n",
    "\n",
    "8.  In the `sklearn` library, what method is commonly used to **train** a classifier after it has been initialized?\n",
    "- `predict()`\n",
    "- `score()`\n",
    "- <div title=\"Correct answer\">`fit()`</div>\n",
    "- `transform()`\n",
    "\n",
    "9.  After training a KNN model, what does the `predictions` variable contain when `knn.predict(splits[1])` is called?\n",
    "- The training data's actual class labels.\n",
    "- The probabilities of each class for the test data.\n",
    "- <div title=\"Correct answer\">The predicted class labels for the test data.</div>\n",
    "- The features of the test data.\n",
    "\n",
    "10. What does the `predict_proba()` method for a KNN classifier return?\n",
    "- The exact predicted class for each observation.\n",
    "- The number of neighbors used for each prediction.\n",
    "- <div title=\"Correct answer\">The probability of each class for each new observation.</div>\n",
    "- A measure of the model's overall accuracy.\n",
    "\n",
    "11. In a **confusion matrix**, what does a **True Positive (TP)** represent?\n",
    "- The actual value was negative, and the classifier predicted it as positive.\n",
    "- The actual value was positive, and the classifier predicted it as negative.\n",
    "- <div title=\"Correct answer\">The actual value was positive, and the classifier predicted it as positive.</div>\n",
    "- The actual value was negative, and the classifier predicted it as negative.\n",
    "\n",
    "12. **Accuracy** in a classifier is calculated as:\n",
    "- $\\frac{TP}{TP+FN}$\n",
    "- $\\frac{TN}{TN+FP}$\n",
    "- <div title=\"Correct answer\">$\\frac{TP+TN}{\\text{Sum of all values in the matrix}}$</div>\n",
    "- $\\frac{FP}{FP+TN}$\n",
    "\n",
    "13. What is another name for **sensitivity**?\n",
    "- Specificity\n",
    "- False Discovery Rate\n",
    "- <div title=\"Correct answer\">Recall</div>\n",
    "- Precision\n",
    "\n",
    "14. A high accuracy score (e.g., above 90%) generally indicates a good classifier. However, why is it important to also examine the **classification report**?\n",
    "- To check for missing values in the dataset.\n",
    "- To determine the optimal number of neighbors ($K$).\n",
    "- <div title=\"Correct answer\">To see if the classifier is working well for all individual classes, not just overall.</div>\n",
    "- To compare the training time with the prediction time."
   ]
  },
  {
   "cell_type": "markdown",
   "metadata": {},
   "source": [
    "<!-- ### ROC Curves -->"
   ]
  },
  {
   "cell_type": "markdown",
   "metadata": {},
   "source": [
    "<!-- The __ROC curve__ is a way to plot the sensitivity and specificity of a classifier.\n",
    "\n",
    "ROC stands for receiver operating characteristics, a term from communications theory.\n",
    "Figure 4 below shows a typical ROC curve for a classifier.\n",
    "\n",
    "ROC curves are useful for showing the tradeoffs between sensitivity and specificity.\n",
    "We can always make a classifier more sensitive by biasing it to detect something (e.g. a disease).\n",
    "However, if we do that, we are more likely to have false positives (FP) which makes our specificity go down.\n",
    "\n",
    "ROC curves show us how sensitivity and specificity move together at different levels of bias.   -->"
   ]
  },
  {
   "cell_type": "markdown",
   "metadata": {},
   "source": [
    "<!-- __Figure 4__ -->"
   ]
  },
  {
   "attachments": {
    "image.png": {
     "image/png": "[encoded data removed]"
    }
   },
   "cell_type": "markdown",
   "metadata": {},
   "source": [
    "<!-- \n",
    "![image.png](attachment:image.png)\n",
    "\n",
    "**Figure 4** -->"
   ]
  },
  {
   "cell_type": "markdown",
   "metadata": {},
   "source": [
    "<!-- The ROC curve has the sensitivity on the vertical axis (y-axis) and 1-specificity (FDR) on the horizontal axis (x-axis).\n",
    "The ideal ROC curve hugs the top left corner which corresponds to a high true positive rate and a low false positive rate.\n",
    "The forty-five degree line that goes from bottom left (0,0) to upper right (1,1) shown as a black dotted line in the plot is considered to be a classifier that is no better than guessing i.e. the posterior probabilities are both 0.5. -->"
   ]
  },
  {
   "cell_type": "markdown",
   "metadata": {},
   "source": [
    "<!-- A single number summary of the ROC curve is the _AUC_ which stands for area under the (ROC) curve.\n",
    "The larger the AUC the better the classifier has done.\n",
    "The forty-five degree line has an AUC of 0.50 so a good classifier will have AUC higher than random guessing.\n",
    "For the ROC curve in Figure 4, the AUC is 0.8342.\n",
    "This is a moderately good classifier, certainly better than random. -->"
   ]
  }
 ],
 "metadata": {
  "kernelspec": {
   "display_name": "Python 3 (ipykernel)",
   "language": "python",
   "name": "python3"
  },
  "language_info": {
   "codemirror_mode": {
    "name": "ipython",
    "version": 3
   },
   "file_extension": ".py",
   "mimetype": "text/x-python",
   "name": "python",
   "nbconvert_exporter": "python",
   "pygments_lexer": "ipython3",
   "version": "3.12.6"
  }
 },
 "nbformat": 4,
 "nbformat_minor": 4
}
