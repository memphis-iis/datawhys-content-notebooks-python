{
 "cells": [
  {
   "cell_type": "markdown",
   "id": "4de7eeb7",
   "metadata": {},
   "source": [
    "# Modules\n",
    "\n",
    "- Getting around  \n",
    "  - [Getting around](https://youtu.be/-luPzplPDI0)\n",
    "- Data science and the nature of data  \n",
    "  - [Data-science-and-the-nature-of-data.ipynb](Data-science-and-the-nature-of-data.ipynb)\n",
    "  - [Data-science-and-the-nature-of-data-PS.ipynb](Data-science-and-the-nature-of-data-PS.ipynb)\n",
    "- Plotting  \n",
    "  - [Plotting.ipynb](Plotting.ipynb)\n",
    "  - [Plotting-PS.ipynb](Plotting-PS.ipynb)\n",
    "- Descriptive stats  \n",
    "  - [Descriptive-statistics.ipynb](Descriptive-statistics.ipynb)\n",
    "  - [Descriptive-statistics-PS.ipynb](Descriptive-statistics-PS.ipynb)\n",
    "- Measures of association  \n",
    "  - [Measures-of-association.ipynb](Measures-of-association.ipynb)\n",
    "  - [Measures-of-association-PS.ipynb](Measures-of-association-PS.ipynb)\n",
    "- Clustering  \n",
    "  - [Clustering.ipynb](Clustering.ipynb)\n",
    "  - [Clustering-PS.ipynb](Clustering-PS.ipynb)\n",
    "- KNN classification  \n",
    "  - [KNN-classification.ipynb](KNN-classification.ipynb)\n",
    "  - [KNN-classification-PS.ipynb](KNN-classification-PS.ipynb)\n",
    "- KNN regression  \n",
    "  - [KNN-regression.ipynb](KNN-regression.ipynb)\n",
    "  - [KNN-regression-PS.ipynb](KNN-regression-PS.ipynb)\n",
    "- Simple linear regression  \n",
    "  - [Simple-linear-regression.ipynb](Simple-linear-regression.ipynb)\n",
    "  - [Simple-linear-regression-PS.ipynb](Simple-linear-regression-PS.ipynb)\n",
    "- Multiple linear regression  \n",
    "  - [Multiple-linear-regression.ipynb](Multiple-linear-regression.ipynb)\n",
    "  - [Multiple-linear-regression-PS.ipynb](Multiple-linear-regression-PS.ipynb)\n",
    "- Logistic regression  \n",
    "  - [Logistic-regression.ipynb](Logistic-regression.ipynb)\n",
    "  - [Logistic-regression-PS.ipynb](Logistic-regression-PS.ipynb)\n",
    "- Lasso  \n",
    "  - [Lasso.ipynb](Lasso.ipynb)\n",
    "  - [Lasso-PS.ipynb](Lasso-PS.ipynb)\n",
    "- Decision trees  \n",
    "  - [Decision-trees.ipynb](Decision-trees.ipynb)\n",
    "  - [Decision-trees-PS.ipynb](Decision-trees-PS.ipynb)\n",
    "- Regression trees  \n",
    "  - [Regression-trees.ipynb](Regression-trees.ipynb)\n",
    "  - [Regression-trees-PS.ipynb](Regression-trees-PS.ipynb)\n",
    "- Random forests  \n",
    "  - [Random-forests.ipynb](Random-forests.ipynb)\n",
    "  - [Random-forests-PS.ipynb](Random-forests-PS.ipynb)\n",
    "- Gradient boosting  \n",
    "  - [Gradient-boosting.ipynb](Gradient-boosting.ipynb)\n",
    "  - [Gradient-boosting-PS.ipynb](Gradient-boosting-PS.ipynb)\n",
    "- Support vector machines  \n",
    "  - [Support-vector-machines.ipynb](Support-vector-machines.ipynb)\n",
    "  - [Support-vector-machines-PS.ipynb](Support-vector-machines-PS.ipynb)\n",
    "- Naive Bayes  \n",
    "  - [Naive-Bayes.ipynb](Naive-Bayes.ipynb)\n",
    "  - [Naive-Bayes-PS.ipynb](Naive-Bayes-PS.ipynb)\n",
    "- Crossvalidation and nested crossvalidation  \n",
    "  - [Crossvalidation.ipynb](Crossvalidation.ipynb)\n",
    "  - [Crossvalidation-PS.ipynb](Crossvalidation-PS.ipynb)\n",
    "- Data cleaning  \n",
    "  - [Data-cleaning-versioning.ipynb](Data-cleaning-versioning.ipynb)\n",
    "  - [Data-cleaning-versioning-PS.ipynb](Data-cleaning-versioning-PS.ipynb)\n"
   ]
  },
  {
   "cell_type": "markdown",
   "id": "38f48568",
   "metadata": {},
   "source": [
    "<!-- Examples for internal links: https://medium.com/3blades-blog/jupyter-notebook-little-known-tricks-b0866a558017 -->"
   ]
  },
  {
   "cell_type": "code",
   "execution_count": null,
   "id": "8226268c",
   "metadata": {},
   "outputs": [],
   "source": []
  }
 ],
 "metadata": {
  "kernelspec": {
   "display_name": "Python 3 (ipykernel)",
   "language": "python",
   "name": "python3"
  },
  "language_info": {
   "codemirror_mode": {
    "name": "ipython",
    "version": 3
   },
   "file_extension": ".py",
   "mimetype": "text/x-python",
   "name": "python",
   "nbconvert_exporter": "python",
   "pygments_lexer": "ipython3",
   "version": "3.12.6"
  }
 },
 "nbformat": 4,
 "nbformat_minor": 5
}
