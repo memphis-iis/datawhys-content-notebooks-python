{
 "cells": [
  {
   "cell_type": "markdown",
   "metadata": {
    "deletable": false,
    "editable": false
   },
   "source": [
    "Copyright 2020 Dale Bowman, Natasha A. Sahr, Andrew M. Olney and made available under [CC BY-SA](https://creativecommons.org/licenses/by-sa/4.0) for text and [Apache-2.0](http://www.apache.org/licenses/LICENSE-2.0) for code.\n"
   ]
  },
  {
   "cell_type": "markdown",
   "metadata": {},
   "source": [
    "# $K$-Nearest Neighbor Regression"
   ]
  },
  {
   "cell_type": "markdown",
   "metadata": {},
   "source": [
    "Unlike clustering, where the goal is to uncover latent patterns, and classification, where the goal is to predict a class label, $K$-nearest neighbor (KNN) regression is a technique that is used to predict a numeric value.\n",
    "KNN regression is a _non-parametric_ regression method and is simple to understand and implement.\n",
    "Non-parametric methods are statistical models that do not assume the data come from a particular probability distribution.\n",
    "Like the KNN classifier, KNN regression is based on the idea that observation vectors that are close to each other in space tend to be similar.\n",
    "\n",
    "## What you will learn\n",
    "\n",
    "In the sections that follow you will learn about KNN regression and how it can be used to model your data for prediction. \n",
    "We will study the following:\n",
    "\n",
    "- KNN regression\n",
    "- Choosing K\n",
    "\n",
    "## When to use KNN regression\n",
    "\n",
    "KNN regression is useful in situations that involve response variables that are not normally distributed and when the relationship between the predictors and response is not linear.\n",
    "\n",
    "## How it works"
   ]
  },
  {
   "cell_type": "markdown",
   "metadata": {},
   "source": [
    "KNN regression predicts the numeric value of a new datapoint as the *average distance* between the datapoint and its $K$ nearest neighbors.\n",
    "We illustrate this using the data in the table below on home loans, age, and House Price Index (HPI).\n",
    "The two numerical variables, `Age` and `Loan`, are used to predict the `HPI` and so they are called **predictors**. \n",
    "The `HPI` being predicted is called the **response** or **dependent variable**. \n",
    "We observe the data in the table, and using these predictors, we would like to predict the `HPI` for an individual 47 years old with home loan of $150,000."
   ]
  },
  {
   "cell_type": "markdown",
   "metadata": {},
   "source": [
    "In the table below, the `Distance` column is calculated as the Euclidean distance between each predictor datapoint and the values of age (47) and loan (150,000) that we want to predict the HPI for.\n",
    "The formula looks like: \n",
    "\n",
    "$$Distance = \\sqrt{(\\text{Age}-47)^2 + (\\text{Loan}-150000)^2}$$"
   ]
  },
  {
   "cell_type": "markdown",
   "metadata": {},
   "source": [
    "<!-- <table>\n",
    "<thead>\n",
    "<tr class=\"header\">\n",
    "<th align=\"left\">Age</th>\n",
    "<th align=\"right\">Loan</th>\n",
    "<th align=\"right\">HPI</th>\n",
    "<th align=\"right\">Distance</th>\n",
    "</tr>\n",
    "</thead>\n",
    "<tbody>\n",
    "<tr class=\"odd\">\n",
    "<td align=\"left\">47</td>\n",
    "<td align=\"right\">150,745</td>\n",
    "<td align=\"right\"><font color=\"red\">244</font></td>\n",
    "<td align=\"right\"> 745</td>\n",
    "</tr>\n",
    "<tr class=\"even\">\n",
    "<td align=\"left\">34</td>\n",
    "<td align=\"right\">198,333</td>\n",
    "<td align=\"right\">269</td>\n",
    "<td align=\"right\">48,333</td>\n",
    "</tr>\n",
    "<tr class=\"odd\">\n",
    "<td align=\"left\">42</td>\n",
    "<td align=\"right\">187,338</td>\n",
    "<td align=\"right\">154</td>\n",
    "<td align=\"right\">37,338</td>\n",
    "</tr>\n",
    "<tr class=\"even\">\n",
    "<td align=\"left\">44</td>\n",
    "<td align=\"right\">139,505</td>\n",
    "<td align=\"right\">173</td>\n",
    "<td align=\"right\">10,495</td>\n",
    "</tr>\n",
    "<tr class=\"odd\">\n",
    "<td align=\"left\">41</td>\n",
    "<td align=\"right\">142,113</td>\n",
    "<td align=\"right\">256</td>\n",
    "<td align=\"right\">7,887</td>\n",
    "</tr>\n",
    "<tr class=\"even\">\n",
    "<td align=\"left\">44</td>\n",
    "<td align=\"right\">102,839</td>\n",
    "<td align=\"right\">274</td>\n",
    "<td align=\"right\">47,161</td>\n",
    "</tr>\n",
    "<tr class=\"odd\">\n",
    "<td align=\"left\">32</td>\n",
    "<td align=\"right\">120,020</td>\n",
    "<td align=\"right\">191</td>\n",
    "<td align=\"right\">29,980</td>\n",
    "</tr>\n",
    "<tr class=\"even\">\n",
    "<td align=\"left\">49</td>\n",
    "<td align=\"right\">191,772</td>\n",
    "<td align=\"right\">110</td>\n",
    "<td align=\"right\">41,772</td>\n",
    "</tr>\n",
    "<tr class=\"odd\">\n",
    "<td align=\"left\">39</td>\n",
    "<td align=\"right\">142,664</td>\n",
    "<td align=\"right\"><font color=\"red\"> 138</font></td>\n",
    "<td align=\"right\">7,336</td>\n",
    "</tr>\n",
    "<tr class=\"even\">\n",
    "<td align=\"left\">45</td>\n",
    "<td align=\"right\">165,817</td>\n",
    "<td align=\"right\">238</td>\n",
    "<td align=\"right\">15,817</td>\n",
    "</tr>\n",
    "<tr class=\"odd\">\n",
    "<td align=\"left\">34</td>\n",
    "<td align=\"right\">163,728</td>\n",
    "<td align=\"right\">140</td>\n",
    "<td align=\"right\">13,728</td>\n",
    "</tr>\n",
    "<tr class=\"even\">\n",
    "<td align=\"left\">34</td>\n",
    "<td align=\"right\">143,132</td>\n",
    "<td align=\"right\"><font color=\"red\"> 198</font></td>\n",
    "<td align=\"right\">6,868</td>\n",
    "</tr>\n",
    "</tbody>\n",
    "</table>\n",
    " -->\n",
    "<!--  Note: concerned about single table presentation implying distance was part of data, so split -->\n",
    "<table>\n",
    "    <tr><th>Training Data</th><th>Age=47 and Loan=150,000</th></tr>\n",
    "   <tr><td>\n",
    "       \n",
    "| Age | Loan    | HPI |\n",
    "|-----|---------|-----|\n",
    "| **47**  | **150,745** | <font color=\"red\"> **244**</font> |\n",
    "| 34  | 198,333 | 269 |\n",
    "| 42  | 187,338 | 154 |\n",
    "| 44  | 139,505 | 173 |\n",
    "| 41  | 142,113 | 256 |\n",
    "| 44  | 102,839 | 274 |\n",
    "| 32  | 120,020 | 191 |\n",
    "| 49  | 191,772 | 110 |\n",
    "| **39**  | **142,664** | <font color=\"red\"> **138**</font> |\n",
    "| 45  | 165,817 | 238 |\n",
    "| 34  | 163,728 | 140 |\n",
    "| **34**  | **143,132** | <font color=\"red\"> **198**</font> |\n",
    "\n",
    "</td><td>\n",
    "    \n",
    "| Distance |\n",
    "|----------|\n",
    "| **745**      |\n",
    "| 48,333   |\n",
    "| 37,338   |\n",
    "| 10,495   |\n",
    "| 7,887    |\n",
    "| 47,161   |\n",
    "| 29,980   |\n",
    "| 41,772   |\n",
    "| **7,336**    |\n",
    "| 15,817   |\n",
    "| 13,728   |\n",
    "| **6,868**    |\n",
    "    \n",
    "</td></tr></table>"
   ]
  },
  {
   "cell_type": "markdown",
   "metadata": {},
   "source": [
    "If we use $K=3$ then to predict the HPI for age = 47 and loan = 150,000 we average the HPI values for the 3 nearest neighbors.\n",
    "These are the neighbors with the smallest distance as shown in red in the table.\n",
    "The predicted HPI is found as \n",
    "\n",
    "$$HPI = \\frac{244+198+138}{3} = 193.33$$"
   ]
  },
  {
   "cell_type": "markdown",
   "metadata": {},
   "source": [
    "## Residuals"
   ]
  },
  {
   "cell_type": "markdown",
   "metadata": {},
   "source": [
    "Typically the KNN regression is trained on a training set and the performance of the model is tested by comparing predicted values with the actual responses in the the testing set.\n",
    "The table below shows the performance of the KNN regression model on 3 members of the test set."
   ]
  },
  {
   "cell_type": "markdown",
   "metadata": {},
   "source": [
    "<!-- <table>\n",
    "<thead>\n",
    "<tr class=\"header\">\n",
    "<th align=\"left\"><span><strong>Age</strong></span></th>\n",
    "<th align=\"left\"><span><strong>Loan</strong></span></th>\n",
    "<th align=\"left\"><span><strong>HPI Observed</strong></span></th>\n",
    "<th align=\"left\"><span><strong>HPI Predicted</strong></span></th>\n",
    "<th align=\"left\"><span><strong>Residual</strong></span></th>\n",
    "</tr>\n",
    "</thead>\n",
    "<tbody>\n",
    "<tr class=\"odd\">\n",
    "<td align=\"left\">44</td>\n",
    "<td align=\"left\">107,889</td>\n",
    "<td align=\"left\">133</td>\n",
    "<td align=\"left\">222</td>\n",
    "<td align=\"left\">-89</td>\n",
    "</tr>\n",
    "<tr class=\"even\">\n",
    "<td align=\"left\">32</td>\n",
    "<td align=\"left\">127,052</td>\n",
    "<td align=\"left\">207</td>\n",
    "<td align=\"left\">188</td>\n",
    "<td align=\"left\">19</td>\n",
    "</tr>\n",
    "<tr class=\"odd\">\n",
    "<td align=\"left\">35</td>\n",
    "<td align=\"left\">163,463</td>\n",
    "<td align=\"left\">242</td>\n",
    "<td align=\"left\">207</td>\n",
    "<td align=\"left\">35</td>\n",
    "</tr>\n",
    "</tbody>\n",
    "</table> -->\n",
    "\n",
    "<table>\n",
    "<tr><th>Test Data</th><th>KNN Regression Results</th></tr>\n",
    "<tr><td>\n",
    "       \n",
    "| Age | Loan   | HPI |\n",
    "|-----|--------|-----|\n",
    "| 44  | 107889 | 133 |\n",
    "| 32  | 127052 | 207 |\n",
    "| 35  | 163463 | 242 |\n",
    "\n",
    "</td><td>\n",
    "\n",
    "| HPI Predicted | Residual |\n",
    "|---------------|----------|\n",
    "| 222           | -89      |\n",
    "| 188           | 19       |\n",
    "| 207           | 35       |\n",
    "       \n",
    "</td></tr></table>"
   ]
  },
  {
   "cell_type": "markdown",
   "metadata": {},
   "source": [
    "The last column in the table titled `Residual` is computed as the Observed HPI minus the Predicted HPI and can be used to diagnose the model fit.\n",
    "Checking the residuals is an important part of model diagnostics.\n",
    "The residuals can be summarized in a single measure called the _root mean square error_ (RMSE).\n",
    "It is the square root of the sum of the squared residuals divided by the number of sample points.\n",
    "The smaller the RMSE the better the fit. The formula for the RMSE is \n",
    "\n",
    "$$RMSE = \\sqrt{\\sum_{i=1}^n \\frac{res_i^2}{n}}$$\n",
    "\n",
    "where $res_i$ is the residual for the $i$th observation.\n",
    "For the testing set in this example, the RMSE is $56.29$.\n",
    "Alone this does not tell us anything about the fit of the model, but we can use it to compare various models.\n",
    "For example, if you wanted to try different values of $K$ you could use the RMSE to compare the fits."
   ]
  },
  {
   "cell_type": "markdown",
   "metadata": {},
   "source": [
    "## Standardization"
   ]
  },
  {
   "cell_type": "markdown",
   "metadata": {},
   "source": [
    "This example highlights one issue that you may run into when you are running a KNN regression model (or KNN classifier). The magnitude (size) of the Loan variable is much bigger than the magnitude of the Age variable. This difference in magnitude can lead the distance measure to favor differences in the Loan variable and the Age variable can have much less of an impact. One solution to this problem is to standardize each variable by subtracting the sample mean, $\\bar{X}$, and dividing by the sample standard deviation, $S=\\sqrt{S^2}$, as \n",
    "\n",
    "$$Z_i = \\frac{(X_i - \\bar{X})}{S}$$\n",
    "\n",
    "and performing the KNN regression on the standardized variables."
   ]
  },
  {
   "cell_type": "markdown",
   "metadata": {},
   "source": [
    "## Choosing $K$"
   ]
  },
  {
   "cell_type": "markdown",
   "metadata": {},
   "source": [
    "Similar to the KNN classifier, the choice of $K$ has a big impact on the regression.\n",
    "When $K$ is low, the regression fit will be very choppy and gets smoother as $K$ increases.\n",
    "The figures below show a progression of values of $K$ from $K=1$ to $K=n=506$.\n",
    "For this data, there is only one predictor on the x axis.\n",
    "The points in blue are the predictor (x-axis) and the associated response (y-axis).\n",
    "The orange line is the KNN regression prediction.\n",
    "As you can see, in Figure 1 where $K=1$, the regression prediction is very choppy and smooths out as $K$ increases.\n",
    "When $K=n=506$ as in Figure 6, the prediction line is completely smooth and horizontal.\n",
    "The choice of $K$ is a compromise between accurate but choppy predictions (low $K$) and less accurate but less variable predictions (high $K$)."
   ]
  },
  {
   "attachments": {
    "image.png": {
     "image/png": "[encoded data removed]"
    }
   },
   "cell_type": "markdown",
   "metadata": {},
   "source": [
    "&nbsp; &nbsp; &nbsp; &nbsp; &nbsp; &nbsp; &nbsp; &nbsp; &nbsp; &nbsp; &nbsp; &nbsp; &nbsp; &nbsp; &nbsp; &nbsp; &nbsp; &nbsp; &nbsp; &nbsp; &nbsp; &nbsp; &nbsp; &nbsp; &nbsp; &nbsp; &nbsp; &nbsp; &nbsp; &nbsp; &nbsp; &nbsp; &nbsp; &nbsp;  **k = 1**\n",
    "<!-- TODO: put k=1 in image -->\n",
    "<div>\n",
    "<img src=\"attachment:image.png\" width=\"500\"/>\n",
    "</div>\n",
    "\n",
    "**Figure 1**\n",
    "\n",
    "<!-- ![image.png](attachment:image.png) -->"
   ]
  },
  {
   "attachments": {
    "image.png": {
     "image/png": "[encoded data removed]"
    }
   },
   "cell_type": "markdown",
   "metadata": {},
   "source": [
    "<div>\n",
    "<img src=\"attachment:image.png\" width=\"500\"/>\n",
    "</div>\n",
    "\n",
    "**Figure 2**\n",
    "<!-- ![image.png](attachment:image.png) -->"
   ]
  },
  {
   "attachments": {
    "image.png": {
     "image/png": "[encoded data removed]"
    }
   },
   "cell_type": "markdown",
   "metadata": {},
   "source": [
    "<div>\n",
    "<img src=\"attachment:image.png\" width=\"500\"/>\n",
    "</div>\n",
    "\n",
    "**Figure 3**\n",
    "<!-- ![image.png](attachment:image.png) -->"
   ]
  },
  {
   "attachments": {
    "image.png": {
     "image/png": "[encoded data removed]"
    }
   },
   "cell_type": "markdown",
   "metadata": {},
   "source": [
    "<div>\n",
    "<img src=\"attachment:image.png\" width=\"500\"/>\n",
    "</div>\n",
    "\n",
    "**Figure 4**\n",
    "<!-- ![image.png](attachment:image.png) -->"
   ]
  },
  {
   "attachments": {
    "image.png": {
     "image/png": "[encoded data removed]"
    }
   },
   "cell_type": "markdown",
   "metadata": {},
   "source": [
    "<div>\n",
    "<img src=\"attachment:image.png\" width=\"500\"/>\n",
    "</div>\n",
    "\n",
    "**Figure 5**\n",
    "\n",
    "<!-- ![image.png](attachment:image.png) -->"
   ]
  },
  {
   "cell_type": "markdown",
   "metadata": {},
   "source": [
    "## How does the KNN algorithm work?"
   ]
  },
  {
   "cell_type": "markdown",
   "metadata": {},
   "source": [
    "We have now seen that the KNN algorithm can be used for both _classification_ and _regression_ problems.\n",
    "The KNN algorithm uses __feature similarity__ to predict values of new data.\n",
    "This means the new data is assigned a value based on how closely it resembles the closest $K$ data in the training set. "
   ]
  },
  {
   "cell_type": "markdown",
   "metadata": {},
   "source": [
    "The step-by-step instructions for KNN regression is as follows:"
   ]
  },
  {
   "cell_type": "markdown",
   "metadata": {},
   "source": [
    "0. Pre-process the data. \n",
    "\n",
    "The data needs to be *standardized* and split into testing and training sets.\n",
    "\n",
    "When we say standardized, we mean put onto the same scale.\n",
    "Otherwise variables with large magnitude (like `Loan` above) will contribute more to distance than variables with small magnitude (like `Age` above)."
   ]
  },
  {
   "cell_type": "markdown",
   "metadata": {},
   "source": [
    "1. Calculate the distance between the new point and each training point.\n",
    "\n",
    "There are various methods for calculating the distance between the new data and each training data.\n",
    "The most common methods are _Euclidean_, _Manhattan_, and _Hamming_.\n",
    "We will use the Euclidean Distance calculated as the square root of the sum of the squared differences between a new point and an existing point. "
   ]
  },
  {
   "cell_type": "markdown",
   "metadata": {},
   "source": [
    "2. The closest $K$ data points are selected based on the calculated distance. \n",
    "\n",
    "In general, the KNN model overfits on the training data for a very low value of $K$ and performs poorly on both training and validation sets for a very high value of $K$.\n",
    "The _elbow curve_ and _grid search techniques_ are methods to help you find the __best__ values for $K$."
   ]
  },
  {
   "cell_type": "markdown",
   "metadata": {},
   "source": [
    "3. Average the response of the closest $K$ data points to get the final prediction for the new data. "
   ]
  },
  {
   "cell_type": "markdown",
   "metadata": {},
   "source": [
    "## Example: House prices"
   ]
  },
  {
   "cell_type": "markdown",
   "metadata": {},
   "source": [
    "To start to perform KNN regression, we need data. \n",
    "The `boston` dataset was collected in the 1970s and has been used to examine the relationship between clean air and house prices.\n",
    "It contains 13 variables:\n",
    "\n",
    "\n",
    "| Variable | Type | Description |\n",
    "|:----|:-----|:----------|\n",
    "|crim | Ratio | per capita crime rate by town | \n",
    "|zn | Ratio | proportion of residential land zoned for lots over 25,000 sq. ft. | \n",
    "|indus | Ratio | proportion of non-retain business acres per town | \n",
    "|chas | Nominal (binary) | Charles River dummy variable (=1 if tract bounds river, =0 otherwise) | \n",
    "|nox | Ratio | nitrogen oxides concentration (parts per 10 million) | \n",
    "|rm | Ratio | average number of rooms per dwelling | \n",
    "|age | Ratio | proportion of owner-occupied units built prior to 1940 | \n",
    "|dis | Ratio | weighted mean of distances to five Boston employment centers | \n",
    "|rad | Ordinal | index of accessibility to radial highways | \n",
    "|tax | Ratio | full-value property tax rate per \\$10,000 | \n",
    "|ptratio | Ratio | pupil-teacher ratio by town | \n",
    "|lstat | Ratio | percent lower status of population (defined as non-high school graduate, manual labor) | \n",
    "|medv | Ratio | median value of owner-occupied homes in $1000s | \n",
    "\n",
    "<div style=\"text-align:center;font-size: smaller\">\n",
    "    <b>Source:</b> This dataset was taken from the StatLib library which is maintained at Carnegie Mellon University.\n",
    "</div>\n",
    "    \n",
    "### Load the data\n",
    "\n",
    "First import `pandas` so we can work with dataframes:\n",
    "\n",
    "- `import pandas as pd`"
   ]
  },
  {
   "cell_type": "code",
   "execution_count": 21,
   "metadata": {
    "user_blocks": [
     "importAs"
    ],
    "user_blocks_xml": "<xml xmlns=\"https://developers.google.com/blockly/xml\"><variables><variable id=\"A]5Vf/x,=8dk=KKk3OrJ\">pd</variable></variables><block type=\"importAs\" id=\"/k@:}OLWtAh)hpx[.2^]\" x=\"150\" y=\"308\"><field name=\"libraryName\">pandas</field><field name=\"VAR\" id=\"A]5Vf/x,=8dk=KKk3OrJ\">pd</field></block></xml>",
    "user_code_from_blocks": "import pandas as pd\n"
   },
   "outputs": [],
   "source": [
    "import pandas as pd\n",
    "\n",
    "#<xml xmlns=\"https://developers.google.com/blockly/xml\"><variables><variable id=\"A]5Vf/x,=8dk=KKk3OrJ\">pd</variable></variables><block type=\"importAs\" id=\"/k@:}OLWtAh)hpx[.2^]\" x=\"150\" y=\"308\"><field name=\"libraryName\">pandas</field><field name=\"VAR\" id=\"A]5Vf/x,=8dk=KKk3OrJ\">pd</field></block></xml>"
   ]
  },
  {
   "cell_type": "markdown",
   "metadata": {},
   "source": [
    "Load the dataframe:\n",
    "\n",
    "- Set `dataframe` to with `pd` do `read_csv` using \n",
    "    - `\"datasets/boston.csv\"`\n",
    "- `dataframe` (to display)"
   ]
  },
  {
   "cell_type": "code",
   "execution_count": 22,
   "metadata": {
    "user_blocks": [
     "variables_set",
     "varDoMethod",
     "text",
     "variables_get"
    ],
    "user_blocks_xml": "<xml xmlns=\"https://developers.google.com/blockly/xml\"><variables><variable id=\"$%drMkQ:qhLh-L8dv:ow\">dataframe</variable><variable id=\"A]5Vf/x,=8dk=KKk3OrJ\">pd</variable></variables><block type=\"variables_set\" id=\"FJGldw(qFp?V=E]uaN)4\" x=\"3\" y=\"114\"><field name=\"VAR\" id=\"$%drMkQ:qhLh-L8dv:ow\">dataframe</field><value name=\"VALUE\"><block type=\"varDoMethod\" id=\"4s18v%0iqE%_l@{fLYCo\"><mutation items=\"1\"></mutation><field name=\"VAR\" id=\"A]5Vf/x,=8dk=KKk3OrJ\">pd</field><field name=\"MEMBER\">read_csv</field><data>pd:read_csv</data><value name=\"ADD0\"><block type=\"text\" id=\"tN4Jmaffy/={ZFo;uu;W\"><field name=\"TEXT\">datasets/boston.csv</field></block></value></block></value></block><block type=\"variables_get\" id=\"xe,_So|iQl`4_no@5h_m\" x=\"8\" y=\"296\"><field name=\"VAR\" id=\"$%drMkQ:qhLh-L8dv:ow\">dataframe</field></block></xml>",
    "user_code_from_blocks": "dataframe = pd.read_csv('datasets/boston.csv')\n\ndataframe\n"
   },
   "outputs": [
    {
     "data": {
      "text/html": [
       "<div>\n",
       "<style scoped>\n",
       "    .dataframe tbody tr th:only-of-type {\n",
       "        vertical-align: middle;\n",
       "    }\n",
       "\n",
       "    .dataframe tbody tr th {\n",
       "        vertical-align: top;\n",
       "    }\n",
       "\n",
       "    .dataframe thead th {\n",
       "        text-align: right;\n",
       "    }\n",
       "</style>\n",
       "<table border=\"1\" class=\"dataframe\">\n",
       "  <thead>\n",
       "    <tr style=\"text-align: right;\">\n",
       "      <th></th>\n",
       "      <th>crim</th>\n",
       "      <th>zn</th>\n",
       "      <th>indus</th>\n",
       "      <th>chas</th>\n",
       "      <th>nox</th>\n",
       "      <th>rm</th>\n",
       "      <th>age</th>\n",
       "      <th>dis</th>\n",
       "      <th>rad</th>\n",
       "      <th>tax</th>\n",
       "      <th>ptratio</th>\n",
       "      <th>lstat</th>\n",
       "      <th>medv</th>\n",
       "    </tr>\n",
       "  </thead>\n",
       "  <tbody>\n",
       "    <tr>\n",
       "      <th>0</th>\n",
       "      <td>0.00632</td>\n",
       "      <td>18.0</td>\n",
       "      <td>2.31</td>\n",
       "      <td>0</td>\n",
       "      <td>0.538</td>\n",
       "      <td>6.575</td>\n",
       "      <td>65.2</td>\n",
       "      <td>4.0900</td>\n",
       "      <td>1</td>\n",
       "      <td>296</td>\n",
       "      <td>15.3</td>\n",
       "      <td>4.98</td>\n",
       "      <td>24.0</td>\n",
       "    </tr>\n",
       "    <tr>\n",
       "      <th>1</th>\n",
       "      <td>0.02731</td>\n",
       "      <td>0.0</td>\n",
       "      <td>7.07</td>\n",
       "      <td>0</td>\n",
       "      <td>0.469</td>\n",
       "      <td>6.421</td>\n",
       "      <td>78.9</td>\n",
       "      <td>4.9671</td>\n",
       "      <td>2</td>\n",
       "      <td>242</td>\n",
       "      <td>17.8</td>\n",
       "      <td>9.14</td>\n",
       "      <td>21.6</td>\n",
       "    </tr>\n",
       "    <tr>\n",
       "      <th>2</th>\n",
       "      <td>0.02729</td>\n",
       "      <td>0.0</td>\n",
       "      <td>7.07</td>\n",
       "      <td>0</td>\n",
       "      <td>0.469</td>\n",
       "      <td>7.185</td>\n",
       "      <td>61.1</td>\n",
       "      <td>4.9671</td>\n",
       "      <td>2</td>\n",
       "      <td>242</td>\n",
       "      <td>17.8</td>\n",
       "      <td>4.03</td>\n",
       "      <td>34.7</td>\n",
       "    </tr>\n",
       "    <tr>\n",
       "      <th>3</th>\n",
       "      <td>0.03237</td>\n",
       "      <td>0.0</td>\n",
       "      <td>2.18</td>\n",
       "      <td>0</td>\n",
       "      <td>0.458</td>\n",
       "      <td>6.998</td>\n",
       "      <td>45.8</td>\n",
       "      <td>6.0622</td>\n",
       "      <td>3</td>\n",
       "      <td>222</td>\n",
       "      <td>18.7</td>\n",
       "      <td>2.94</td>\n",
       "      <td>33.4</td>\n",
       "    </tr>\n",
       "    <tr>\n",
       "      <th>4</th>\n",
       "      <td>0.06905</td>\n",
       "      <td>0.0</td>\n",
       "      <td>2.18</td>\n",
       "      <td>0</td>\n",
       "      <td>0.458</td>\n",
       "      <td>7.147</td>\n",
       "      <td>54.2</td>\n",
       "      <td>6.0622</td>\n",
       "      <td>3</td>\n",
       "      <td>222</td>\n",
       "      <td>18.7</td>\n",
       "      <td>5.33</td>\n",
       "      <td>36.2</td>\n",
       "    </tr>\n",
       "    <tr>\n",
       "      <th>...</th>\n",
       "      <td>...</td>\n",
       "      <td>...</td>\n",
       "      <td>...</td>\n",
       "      <td>...</td>\n",
       "      <td>...</td>\n",
       "      <td>...</td>\n",
       "      <td>...</td>\n",
       "      <td>...</td>\n",
       "      <td>...</td>\n",
       "      <td>...</td>\n",
       "      <td>...</td>\n",
       "      <td>...</td>\n",
       "      <td>...</td>\n",
       "    </tr>\n",
       "    <tr>\n",
       "      <th>501</th>\n",
       "      <td>0.06263</td>\n",
       "      <td>0.0</td>\n",
       "      <td>11.93</td>\n",
       "      <td>0</td>\n",
       "      <td>0.573</td>\n",
       "      <td>6.593</td>\n",
       "      <td>69.1</td>\n",
       "      <td>2.4786</td>\n",
       "      <td>1</td>\n",
       "      <td>273</td>\n",
       "      <td>21.0</td>\n",
       "      <td>9.67</td>\n",
       "      <td>22.4</td>\n",
       "    </tr>\n",
       "    <tr>\n",
       "      <th>502</th>\n",
       "      <td>0.04527</td>\n",
       "      <td>0.0</td>\n",
       "      <td>11.93</td>\n",
       "      <td>0</td>\n",
       "      <td>0.573</td>\n",
       "      <td>6.120</td>\n",
       "      <td>76.7</td>\n",
       "      <td>2.2875</td>\n",
       "      <td>1</td>\n",
       "      <td>273</td>\n",
       "      <td>21.0</td>\n",
       "      <td>9.08</td>\n",
       "      <td>20.6</td>\n",
       "    </tr>\n",
       "    <tr>\n",
       "      <th>503</th>\n",
       "      <td>0.06076</td>\n",
       "      <td>0.0</td>\n",
       "      <td>11.93</td>\n",
       "      <td>0</td>\n",
       "      <td>0.573</td>\n",
       "      <td>6.976</td>\n",
       "      <td>91.0</td>\n",
       "      <td>2.1675</td>\n",
       "      <td>1</td>\n",
       "      <td>273</td>\n",
       "      <td>21.0</td>\n",
       "      <td>5.64</td>\n",
       "      <td>23.9</td>\n",
       "    </tr>\n",
       "    <tr>\n",
       "      <th>504</th>\n",
       "      <td>0.10959</td>\n",
       "      <td>0.0</td>\n",
       "      <td>11.93</td>\n",
       "      <td>0</td>\n",
       "      <td>0.573</td>\n",
       "      <td>6.794</td>\n",
       "      <td>89.3</td>\n",
       "      <td>2.3889</td>\n",
       "      <td>1</td>\n",
       "      <td>273</td>\n",
       "      <td>21.0</td>\n",
       "      <td>6.48</td>\n",
       "      <td>22.0</td>\n",
       "    </tr>\n",
       "    <tr>\n",
       "      <th>505</th>\n",
       "      <td>0.04741</td>\n",
       "      <td>0.0</td>\n",
       "      <td>11.93</td>\n",
       "      <td>0</td>\n",
       "      <td>0.573</td>\n",
       "      <td>6.030</td>\n",
       "      <td>80.8</td>\n",
       "      <td>2.5050</td>\n",
       "      <td>1</td>\n",
       "      <td>273</td>\n",
       "      <td>21.0</td>\n",
       "      <td>7.88</td>\n",
       "      <td>11.9</td>\n",
       "    </tr>\n",
       "  </tbody>\n",
       "</table>\n",
       "<p>506 rows × 13 columns</p>\n",
       "</div>"
      ],
      "text/plain": [
       "        crim    zn  indus  chas    nox     rm   age     dis  rad  tax  \\\n",
       "0    0.00632  18.0   2.31     0  0.538  6.575  65.2  4.0900    1  296   \n",
       "1    0.02731   0.0   7.07     0  0.469  6.421  78.9  4.9671    2  242   \n",
       "2    0.02729   0.0   7.07     0  0.469  7.185  61.1  4.9671    2  242   \n",
       "3    0.03237   0.0   2.18     0  0.458  6.998  45.8  6.0622    3  222   \n",
       "4    0.06905   0.0   2.18     0  0.458  7.147  54.2  6.0622    3  222   \n",
       "..       ...   ...    ...   ...    ...    ...   ...     ...  ...  ...   \n",
       "501  0.06263   0.0  11.93     0  0.573  6.593  69.1  2.4786    1  273   \n",
       "502  0.04527   0.0  11.93     0  0.573  6.120  76.7  2.2875    1  273   \n",
       "503  0.06076   0.0  11.93     0  0.573  6.976  91.0  2.1675    1  273   \n",
       "504  0.10959   0.0  11.93     0  0.573  6.794  89.3  2.3889    1  273   \n",
       "505  0.04741   0.0  11.93     0  0.573  6.030  80.8  2.5050    1  273   \n",
       "\n",
       "     ptratio  lstat  medv  \n",
       "0       15.3   4.98  24.0  \n",
       "1       17.8   9.14  21.6  \n",
       "2       17.8   4.03  34.7  \n",
       "3       18.7   2.94  33.4  \n",
       "4       18.7   5.33  36.2  \n",
       "..       ...    ...   ...  \n",
       "501     21.0   9.67  22.4  \n",
       "502     21.0   9.08  20.6  \n",
       "503     21.0   5.64  23.9  \n",
       "504     21.0   6.48  22.0  \n",
       "505     21.0   7.88  11.9  \n",
       "\n",
       "[506 rows x 13 columns]"
      ]
     },
     "execution_count": 22,
     "metadata": {},
     "output_type": "execute_result"
    }
   ],
   "source": [
    "dataframe = pd.read_csv('datasets/boston.csv')\n",
    "\n",
    "dataframe\n",
    "\n",
    "#<xml xmlns=\"https://developers.google.com/blockly/xml\"><variables><variable id=\"$%drMkQ:qhLh-L8dv:ow\">dataframe</variable><variable id=\"A]5Vf/x,=8dk=KKk3OrJ\">pd</variable></variables><block type=\"variables_set\" id=\"FJGldw(qFp?V=E]uaN)4\" x=\"3\" y=\"114\"><field name=\"VAR\" id=\"$%drMkQ:qhLh-L8dv:ow\">dataframe</field><value name=\"VALUE\"><block type=\"varDoMethod\" id=\"4s18v%0iqE%_l@{fLYCo\"><mutation items=\"1\"></mutation><field name=\"VAR\" id=\"A]5Vf/x,=8dk=KKk3OrJ\">pd</field><field name=\"MEMBER\">read_csv</field><data>pd:read_csv</data><value name=\"ADD0\"><block type=\"text\" id=\"tN4Jmaffy/={ZFo;uu;W\"><field name=\"TEXT\">datasets/boston.csv</field></block></value></block></value></block><block type=\"variables_get\" id=\"xe,_So|iQl`4_no@5h_m\" x=\"8\" y=\"296\"><field name=\"VAR\" id=\"$%drMkQ:qhLh-L8dv:ow\">dataframe</field></block></xml>"
   ]
  },
  {
   "cell_type": "markdown",
   "metadata": {},
   "source": [
    "### Visualize the data\n",
    "\n",
    "Let's look at the relationship between percent of lower status (`lstat`) and the value of a home (`medv`). \n",
    "\n",
    "First, import `plotly` for plotting:\n",
    "\n",
    "- `import plotly.express as px`"
   ]
  },
  {
   "cell_type": "code",
   "execution_count": 23,
   "metadata": {
    "user_blocks": [
     "importAs"
    ],
    "user_blocks_xml": "<xml xmlns=\"https://developers.google.com/blockly/xml\"><variables><variable id=\"x2E1re-+t1/@.:kt|~XV\">px</variable></variables><block type=\"importAs\" id=\"+cd]v=]w[Y{ypm^J_~c}\" x=\"198\" y=\"290\"><field name=\"libraryName\">plotly.express</field><field name=\"VAR\" id=\"x2E1re-+t1/@.:kt|~XV\">px</field></block></xml>",
    "user_code_from_blocks": "import plotly.express as px\n"
   },
   "outputs": [],
   "source": [
    "import plotly.express as px\n",
    "\n",
    "#<xml xmlns=\"https://developers.google.com/blockly/xml\"><variables><variable id=\"x2E1re-+t1/@.:kt|~XV\">px</variable></variables><block type=\"importAs\" id=\"+cd]v=]w[Y{ypm^J_~c}\" x=\"198\" y=\"290\"><field name=\"libraryName\">plotly.express</field><field name=\"VAR\" id=\"x2E1re-+t1/@.:kt|~XV\">px</field></block></xml>"
   ]
  },
  {
   "cell_type": "markdown",
   "metadata": {},
   "source": [
    "Make the scatterplot:\n",
    "\n",
    "- with `px` do `scatter` using\n",
    "    - `dataframe`\n",
    "    - freestyle `x=\"lstat\"`\n",
    "    - freestyle `y=\"medv\"`"
   ]
  },
  {
   "cell_type": "code",
   "execution_count": 24,
   "metadata": {
    "user_blocks": [
     "varDoMethod",
     "variables_get",
     "dummyOutputCodeBlock",
     "dummyOutputCodeBlock"
    ],
    "user_blocks_xml": "<xml xmlns=\"https://developers.google.com/blockly/xml\"><variables><variable id=\"x2E1re-+t1/@.:kt|~XV\">px</variable><variable id=\"$%drMkQ:qhLh-L8dv:ow\">dataframe</variable></variables><block type=\"varDoMethod\" id=\"#{`uqQJ7o((KWM@lD9qM\" x=\"31\" y=\"202\"><mutation items=\"3\"></mutation><field name=\"VAR\" id=\"x2E1re-+t1/@.:kt|~XV\">px</field><field name=\"MEMBER\">scatter</field><data>px:scatter</data><value name=\"ADD0\"><block type=\"variables_get\" id=\"%+W1]bM6TMW-dcT(D)!q\"><field name=\"VAR\" id=\"$%drMkQ:qhLh-L8dv:ow\">dataframe</field></block></value><value name=\"ADD1\"><block type=\"dummyOutputCodeBlock\" id=\"_db~Ig?DLuc}U+3QVLY+\"><field name=\"CODE\">x=\"lstat\"</field></block></value><value name=\"ADD2\"><block type=\"dummyOutputCodeBlock\" id=\"}PsvFr/L@QtObEW4I4*|\"><field name=\"CODE\">y=\"medv\"</field></block></value></block></xml>",
    "user_code_from_blocks": "px.scatter(dataframe,x=\"lstat\",y=\"medv\")\n"
   },
   "outputs": [
    {
     "data": {
      "application/vnd.plotly.v1+json": {
       "config": {
        "plotlyServerURL": "https://plot.ly"
       },
       "data": [
        {
         "hovertemplate": "lstat=%{x}<br>medv=%{y}<extra></extra>",
         "legendgroup": "",
         "marker": {
          "color": "#636efa",
          "symbol": "circle"
         },
         "mode": "markers",
         "name": "",
         "orientation": "v",
         "showlegend": false,
         "type": "scatter",
         "x": {
          "bdata": "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",
          "dtype": "f8"
         },
         "xaxis": "x",
         "y": {
          "bdata": "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",
          "dtype": "f8"
         },
         "yaxis": "y"
        }
       ],
       "layout": {
        "legend": {
         "tracegroupgap": 0
        },
        "margin": {
         "t": 60
        },
        "template": {
         "data": {
          "bar": [
           {
            "error_x": {
             "color": "#2a3f5f"
            },
            "error_y": {
             "color": "#2a3f5f"
            },
            "marker": {
             "line": {
              "color": "#E5ECF6",
              "width": 0.5
             },
             "pattern": {
              "fillmode": "overlay",
              "size": 10,
              "solidity": 0.2
             }
            },
            "type": "bar"
           }
          ],
          "barpolar": [
           {
            "marker": {
             "line": {
              "color": "#E5ECF6",
              "width": 0.5
             },
             "pattern": {
              "fillmode": "overlay",
              "size": 10,
              "solidity": 0.2
             }
            },
            "type": "barpolar"
           }
          ],
          "carpet": [
           {
            "aaxis": {
             "endlinecolor": "#2a3f5f",
             "gridcolor": "white",
             "linecolor": "white",
             "minorgridcolor": "white",
             "startlinecolor": "#2a3f5f"
            },
            "baxis": {
             "endlinecolor": "#2a3f5f",
             "gridcolor": "white",
             "linecolor": "white",
             "minorgridcolor": "white",
             "startlinecolor": "#2a3f5f"
            },
            "type": "carpet"
           }
          ],
          "choropleth": [
           {
            "colorbar": {
             "outlinewidth": 0,
             "ticks": ""
            },
            "type": "choropleth"
           }
          ],
          "contour": [
           {
            "colorbar": {
             "outlinewidth": 0,
             "ticks": ""
            },
            "colorscale": [
             [
              0,
              "#0d0887"
             ],
             [
              0.1111111111111111,
              "#46039f"
             ],
             [
              0.2222222222222222,
              "#7201a8"
             ],
             [
              0.3333333333333333,
              "#9c179e"
             ],
             [
              0.4444444444444444,
              "#bd3786"
             ],
             [
              0.5555555555555556,
              "#d8576b"
             ],
             [
              0.6666666666666666,
              "#ed7953"
             ],
             [
              0.7777777777777778,
              "#fb9f3a"
             ],
             [
              0.8888888888888888,
              "#fdca26"
             ],
             [
              1,
              "#f0f921"
             ]
            ],
            "type": "contour"
           }
          ],
          "contourcarpet": [
           {
            "colorbar": {
             "outlinewidth": 0,
             "ticks": ""
            },
            "type": "contourcarpet"
           }
          ],
          "heatmap": [
           {
            "colorbar": {
             "outlinewidth": 0,
             "ticks": ""
            },
            "colorscale": [
             [
              0,
              "#0d0887"
             ],
             [
              0.1111111111111111,
              "#46039f"
             ],
             [
              0.2222222222222222,
              "#7201a8"
             ],
             [
              0.3333333333333333,
              "#9c179e"
             ],
             [
              0.4444444444444444,
              "#bd3786"
             ],
             [
              0.5555555555555556,
              "#d8576b"
             ],
             [
              0.6666666666666666,
              "#ed7953"
             ],
             [
              0.7777777777777778,
              "#fb9f3a"
             ],
             [
              0.8888888888888888,
              "#fdca26"
             ],
             [
              1,
              "#f0f921"
             ]
            ],
            "type": "heatmap"
           }
          ],
          "histogram": [
           {
            "marker": {
             "pattern": {
              "fillmode": "overlay",
              "size": 10,
              "solidity": 0.2
             }
            },
            "type": "histogram"
           }
          ],
          "histogram2d": [
           {
            "colorbar": {
             "outlinewidth": 0,
             "ticks": ""
            },
            "colorscale": [
             [
              0,
              "#0d0887"
             ],
             [
              0.1111111111111111,
              "#46039f"
             ],
             [
              0.2222222222222222,
              "#7201a8"
             ],
             [
              0.3333333333333333,
              "#9c179e"
             ],
             [
              0.4444444444444444,
              "#bd3786"
             ],
             [
              0.5555555555555556,
              "#d8576b"
             ],
             [
              0.6666666666666666,
              "#ed7953"
             ],
             [
              0.7777777777777778,
              "#fb9f3a"
             ],
             [
              0.8888888888888888,
              "#fdca26"
             ],
             [
              1,
              "#f0f921"
             ]
            ],
            "type": "histogram2d"
           }
          ],
          "histogram2dcontour": [
           {
            "colorbar": {
             "outlinewidth": 0,
             "ticks": ""
            },
            "colorscale": [
             [
              0,
              "#0d0887"
             ],
             [
              0.1111111111111111,
              "#46039f"
             ],
             [
              0.2222222222222222,
              "#7201a8"
             ],
             [
              0.3333333333333333,
              "#9c179e"
             ],
             [
              0.4444444444444444,
              "#bd3786"
             ],
             [
              0.5555555555555556,
              "#d8576b"
             ],
             [
              0.6666666666666666,
              "#ed7953"
             ],
             [
              0.7777777777777778,
              "#fb9f3a"
             ],
             [
              0.8888888888888888,
              "#fdca26"
             ],
             [
              1,
              "#f0f921"
             ]
            ],
            "type": "histogram2dcontour"
           }
          ],
          "mesh3d": [
           {
            "colorbar": {
             "outlinewidth": 0,
             "ticks": ""
            },
            "type": "mesh3d"
           }
          ],
          "parcoords": [
           {
            "line": {
             "colorbar": {
              "outlinewidth": 0,
              "ticks": ""
             }
            },
            "type": "parcoords"
           }
          ],
          "pie": [
           {
            "automargin": true,
            "type": "pie"
           }
          ],
          "scatter": [
           {
            "fillpattern": {
             "fillmode": "overlay",
             "size": 10,
             "solidity": 0.2
            },
            "type": "scatter"
           }
          ],
          "scatter3d": [
           {
            "line": {
             "colorbar": {
              "outlinewidth": 0,
              "ticks": ""
             }
            },
            "marker": {
             "colorbar": {
              "outlinewidth": 0,
              "ticks": ""
             }
            },
            "type": "scatter3d"
           }
          ],
          "scattercarpet": [
           {
            "marker": {
             "colorbar": {
              "outlinewidth": 0,
              "ticks": ""
             }
            },
            "type": "scattercarpet"
           }
          ],
          "scattergeo": [
           {
            "marker": {
             "colorbar": {
              "outlinewidth": 0,
              "ticks": ""
             }
            },
            "type": "scattergeo"
           }
          ],
          "scattergl": [
           {
            "marker": {
             "colorbar": {
              "outlinewidth": 0,
              "ticks": ""
             }
            },
            "type": "scattergl"
           }
          ],
          "scattermap": [
           {
            "marker": {
             "colorbar": {
              "outlinewidth": 0,
              "ticks": ""
             }
            },
            "type": "scattermap"
           }
          ],
          "scattermapbox": [
           {
            "marker": {
             "colorbar": {
              "outlinewidth": 0,
              "ticks": ""
             }
            },
            "type": "scattermapbox"
           }
          ],
          "scatterpolar": [
           {
            "marker": {
             "colorbar": {
              "outlinewidth": 0,
              "ticks": ""
             }
            },
            "type": "scatterpolar"
           }
          ],
          "scatterpolargl": [
           {
            "marker": {
             "colorbar": {
              "outlinewidth": 0,
              "ticks": ""
             }
            },
            "type": "scatterpolargl"
           }
          ],
          "scatterternary": [
           {
            "marker": {
             "colorbar": {
              "outlinewidth": 0,
              "ticks": ""
             }
            },
            "type": "scatterternary"
           }
          ],
          "surface": [
           {
            "colorbar": {
             "outlinewidth": 0,
             "ticks": ""
            },
            "colorscale": [
             [
              0,
              "#0d0887"
             ],
             [
              0.1111111111111111,
              "#46039f"
             ],
             [
              0.2222222222222222,
              "#7201a8"
             ],
             [
              0.3333333333333333,
              "#9c179e"
             ],
             [
              0.4444444444444444,
              "#bd3786"
             ],
             [
              0.5555555555555556,
              "#d8576b"
             ],
             [
              0.6666666666666666,
              "#ed7953"
             ],
             [
              0.7777777777777778,
              "#fb9f3a"
             ],
             [
              0.8888888888888888,
              "#fdca26"
             ],
             [
              1,
              "#f0f921"
             ]
            ],
            "type": "surface"
           }
          ],
          "table": [
           {
            "cells": {
             "fill": {
              "color": "#EBF0F8"
             },
             "line": {
              "color": "white"
             }
            },
            "header": {
             "fill": {
              "color": "#C8D4E3"
             },
             "line": {
              "color": "white"
             }
            },
            "type": "table"
           }
          ]
         },
         "layout": {
          "annotationdefaults": {
           "arrowcolor": "#2a3f5f",
           "arrowhead": 0,
           "arrowwidth": 1
          },
          "autotypenumbers": "strict",
          "coloraxis": {
           "colorbar": {
            "outlinewidth": 0,
            "ticks": ""
           }
          },
          "colorscale": {
           "diverging": [
            [
             0,
             "#8e0152"
            ],
            [
             0.1,
             "#c51b7d"
            ],
            [
             0.2,
             "#de77ae"
            ],
            [
             0.3,
             "#f1b6da"
            ],
            [
             0.4,
             "#fde0ef"
            ],
            [
             0.5,
             "#f7f7f7"
            ],
            [
             0.6,
             "#e6f5d0"
            ],
            [
             0.7,
             "#b8e186"
            ],
            [
             0.8,
             "#7fbc41"
            ],
            [
             0.9,
             "#4d9221"
            ],
            [
             1,
             "#276419"
            ]
           ],
           "sequential": [
            [
             0,
             "#0d0887"
            ],
            [
             0.1111111111111111,
             "#46039f"
            ],
            [
             0.2222222222222222,
             "#7201a8"
            ],
            [
             0.3333333333333333,
             "#9c179e"
            ],
            [
             0.4444444444444444,
             "#bd3786"
            ],
            [
             0.5555555555555556,
             "#d8576b"
            ],
            [
             0.6666666666666666,
             "#ed7953"
            ],
            [
             0.7777777777777778,
             "#fb9f3a"
            ],
            [
             0.8888888888888888,
             "#fdca26"
            ],
            [
             1,
             "#f0f921"
            ]
           ],
           "sequentialminus": [
            [
             0,
             "#0d0887"
            ],
            [
             0.1111111111111111,
             "#46039f"
            ],
            [
             0.2222222222222222,
             "#7201a8"
            ],
            [
             0.3333333333333333,
             "#9c179e"
            ],
            [
             0.4444444444444444,
             "#bd3786"
            ],
            [
             0.5555555555555556,
             "#d8576b"
            ],
            [
             0.6666666666666666,
             "#ed7953"
            ],
            [
             0.7777777777777778,
             "#fb9f3a"
            ],
            [
             0.8888888888888888,
             "#fdca26"
            ],
            [
             1,
             "#f0f921"
            ]
           ]
          },
          "colorway": [
           "#636efa",
           "#EF553B",
           "#00cc96",
           "#ab63fa",
           "#FFA15A",
           "#19d3f3",
           "#FF6692",
           "#B6E880",
           "#FF97FF",
           "#FECB52"
          ],
          "font": {
           "color": "#2a3f5f"
          },
          "geo": {
           "bgcolor": "white",
           "lakecolor": "white",
           "landcolor": "#E5ECF6",
           "showlakes": true,
           "showland": true,
           "subunitcolor": "white"
          },
          "hoverlabel": {
           "align": "left"
          },
          "hovermode": "closest",
          "mapbox": {
           "style": "light"
          },
          "paper_bgcolor": "white",
          "plot_bgcolor": "#E5ECF6",
          "polar": {
           "angularaxis": {
            "gridcolor": "white",
            "linecolor": "white",
            "ticks": ""
           },
           "bgcolor": "#E5ECF6",
           "radialaxis": {
            "gridcolor": "white",
            "linecolor": "white",
            "ticks": ""
           }
          },
          "scene": {
           "xaxis": {
            "backgroundcolor": "#E5ECF6",
            "gridcolor": "white",
            "gridwidth": 2,
            "linecolor": "white",
            "showbackground": true,
            "ticks": "",
            "zerolinecolor": "white"
           },
           "yaxis": {
            "backgroundcolor": "#E5ECF6",
            "gridcolor": "white",
            "gridwidth": 2,
            "linecolor": "white",
            "showbackground": true,
            "ticks": "",
            "zerolinecolor": "white"
           },
           "zaxis": {
            "backgroundcolor": "#E5ECF6",
            "gridcolor": "white",
            "gridwidth": 2,
            "linecolor": "white",
            "showbackground": true,
            "ticks": "",
            "zerolinecolor": "white"
           }
          },
          "shapedefaults": {
           "line": {
            "color": "#2a3f5f"
           }
          },
          "ternary": {
           "aaxis": {
            "gridcolor": "white",
            "linecolor": "white",
            "ticks": ""
           },
           "baxis": {
            "gridcolor": "white",
            "linecolor": "white",
            "ticks": ""
           },
           "bgcolor": "#E5ECF6",
           "caxis": {
            "gridcolor": "white",
            "linecolor": "white",
            "ticks": ""
           }
          },
          "title": {
           "x": 0.05
          },
          "xaxis": {
           "automargin": true,
           "gridcolor": "white",
           "linecolor": "white",
           "ticks": "",
           "title": {
            "standoff": 15
           },
           "zerolinecolor": "white",
           "zerolinewidth": 2
          },
          "yaxis": {
           "automargin": true,
           "gridcolor": "white",
           "linecolor": "white",
           "ticks": "",
           "title": {
            "standoff": 15
           },
           "zerolinecolor": "white",
           "zerolinewidth": 2
          }
         }
        },
        "xaxis": {
         "anchor": "y",
         "domain": [
          0,
          1
         ],
         "title": {
          "text": "lstat"
         }
        },
        "yaxis": {
         "anchor": "x",
         "domain": [
          0,
          1
         ],
         "title": {
          "text": "medv"
         }
        }
       }
      },
      "image/png": "[encoded data removed]"
     },
     "metadata": {},
     "output_type": "display_data"
    }
   ],
   "source": [
    "px.scatter(dataframe,x=\"lstat\",y=\"medv\")\n",
    "\n",
    "#<xml xmlns=\"https://developers.google.com/blockly/xml\"><variables><variable id=\"x2E1re-+t1/@.:kt|~XV\">px</variable><variable id=\"$%drMkQ:qhLh-L8dv:ow\">dataframe</variable></variables><block type=\"varDoMethod\" id=\"#{`uqQJ7o((KWM@lD9qM\" x=\"31\" y=\"202\"><mutation items=\"3\"></mutation><field name=\"VAR\" id=\"x2E1re-+t1/@.:kt|~XV\">px</field><field name=\"MEMBER\">scatter</field><data>px:scatter</data><value name=\"ADD0\"><block type=\"variables_get\" id=\"%+W1]bM6TMW-dcT(D)!q\"><field name=\"VAR\" id=\"$%drMkQ:qhLh-L8dv:ow\">dataframe</field></block></value><value name=\"ADD1\"><block type=\"dummyOutputCodeBlock\" id=\"_db~Ig?DLuc}U+3QVLY+\"><field name=\"CODE\">x=\"lstat\"</field></block></value><value name=\"ADD2\"><block type=\"dummyOutputCodeBlock\" id=\"}PsvFr/L@QtObEW4I4*|\"><field name=\"CODE\">y=\"medv\"</field></block></value></block></xml>"
   ]
  },
  {
   "cell_type": "markdown",
   "metadata": {},
   "source": [
    "There appears to be a non-linear relationship between `lstat` and `medv`. \n",
    "\n",
    "### Prepare train/test sets\n",
    "\n",
    "Now, we need to separate the dataset into predictor features and corresponding response (`medv`). \n",
    "In other words, split the dataframe into training data and testing data.\n",
    "\n",
    "Let's start with everything but the response.\n",
    "We'll use a new function called `drop` to remove `medv`.\n",
    "This is faster than listing all the columns we want to keep:\n",
    "\n",
    "- Set `X` to with `dataframe` do `drop` using\n",
    "    - freestyle `columns=[\"medv\"]`\n",
    "- `X` (to display)"
   ]
  },
  {
   "cell_type": "code",
   "execution_count": 25,
   "metadata": {
    "user_blocks": [
     "variables_set",
     "varDoMethod",
     "dummyOutputCodeBlock",
     "variables_get"
    ],
    "user_blocks_xml": "<xml xmlns=\"https://developers.google.com/blockly/xml\"><variables><variable id=\".X4`4]:_GBz1DeII8[o2\">X</variable><variable id=\"$%drMkQ:qhLh-L8dv:ow\">dataframe</variable></variables><block type=\"variables_set\" id=\"j12HEn?u}2$P-S)Ax6d(\" x=\"18\" y=\"151\"><field name=\"VAR\" id=\".X4`4]:_GBz1DeII8[o2\">X</field><value name=\"VALUE\"><block type=\"varDoMethod\" id=\"PMH^/O2y?rD(Y}r-N6eY\"><mutation items=\"1\"></mutation><field name=\"VAR\" id=\"$%drMkQ:qhLh-L8dv:ow\">dataframe</field><field name=\"MEMBER\">drop</field><data>dataframe:drop</data><value name=\"ADD0\"><block type=\"dummyOutputCodeBlock\" id=\"8N-YF(7ms%)oox.~Z;b/\"><field name=\"CODE\">columns=[\"medv\"]</field></block></value></block></value></block><block type=\"variables_get\" id=\"DdFRZt{,QusD6$#{{SUu\" x=\"8\" y=\"296\"><field name=\"VAR\" id=\".X4`4]:_GBz1DeII8[o2\">X</field></block></xml>",
    "user_code_from_blocks": "X = dataframe.drop(columns=[\"medv\"])\n\nX\n"
   },
   "outputs": [
    {
     "data": {
      "text/html": [
       "<div>\n",
       "<style scoped>\n",
       "    .dataframe tbody tr th:only-of-type {\n",
       "        vertical-align: middle;\n",
       "    }\n",
       "\n",
       "    .dataframe tbody tr th {\n",
       "        vertical-align: top;\n",
       "    }\n",
       "\n",
       "    .dataframe thead th {\n",
       "        text-align: right;\n",
       "    }\n",
       "</style>\n",
       "<table border=\"1\" class=\"dataframe\">\n",
       "  <thead>\n",
       "    <tr style=\"text-align: right;\">\n",
       "      <th></th>\n",
       "      <th>crim</th>\n",
       "      <th>zn</th>\n",
       "      <th>indus</th>\n",
       "      <th>chas</th>\n",
       "      <th>nox</th>\n",
       "      <th>rm</th>\n",
       "      <th>age</th>\n",
       "      <th>dis</th>\n",
       "      <th>rad</th>\n",
       "      <th>tax</th>\n",
       "      <th>ptratio</th>\n",
       "      <th>lstat</th>\n",
       "    </tr>\n",
       "  </thead>\n",
       "  <tbody>\n",
       "    <tr>\n",
       "      <th>0</th>\n",
       "      <td>0.00632</td>\n",
       "      <td>18.0</td>\n",
       "      <td>2.31</td>\n",
       "      <td>0</td>\n",
       "      <td>0.538</td>\n",
       "      <td>6.575</td>\n",
       "      <td>65.2</td>\n",
       "      <td>4.0900</td>\n",
       "      <td>1</td>\n",
       "      <td>296</td>\n",
       "      <td>15.3</td>\n",
       "      <td>4.98</td>\n",
       "    </tr>\n",
       "    <tr>\n",
       "      <th>1</th>\n",
       "      <td>0.02731</td>\n",
       "      <td>0.0</td>\n",
       "      <td>7.07</td>\n",
       "      <td>0</td>\n",
       "      <td>0.469</td>\n",
       "      <td>6.421</td>\n",
       "      <td>78.9</td>\n",
       "      <td>4.9671</td>\n",
       "      <td>2</td>\n",
       "      <td>242</td>\n",
       "      <td>17.8</td>\n",
       "      <td>9.14</td>\n",
       "    </tr>\n",
       "    <tr>\n",
       "      <th>2</th>\n",
       "      <td>0.02729</td>\n",
       "      <td>0.0</td>\n",
       "      <td>7.07</td>\n",
       "      <td>0</td>\n",
       "      <td>0.469</td>\n",
       "      <td>7.185</td>\n",
       "      <td>61.1</td>\n",
       "      <td>4.9671</td>\n",
       "      <td>2</td>\n",
       "      <td>242</td>\n",
       "      <td>17.8</td>\n",
       "      <td>4.03</td>\n",
       "    </tr>\n",
       "    <tr>\n",
       "      <th>3</th>\n",
       "      <td>0.03237</td>\n",
       "      <td>0.0</td>\n",
       "      <td>2.18</td>\n",
       "      <td>0</td>\n",
       "      <td>0.458</td>\n",
       "      <td>6.998</td>\n",
       "      <td>45.8</td>\n",
       "      <td>6.0622</td>\n",
       "      <td>3</td>\n",
       "      <td>222</td>\n",
       "      <td>18.7</td>\n",
       "      <td>2.94</td>\n",
       "    </tr>\n",
       "    <tr>\n",
       "      <th>4</th>\n",
       "      <td>0.06905</td>\n",
       "      <td>0.0</td>\n",
       "      <td>2.18</td>\n",
       "      <td>0</td>\n",
       "      <td>0.458</td>\n",
       "      <td>7.147</td>\n",
       "      <td>54.2</td>\n",
       "      <td>6.0622</td>\n",
       "      <td>3</td>\n",
       "      <td>222</td>\n",
       "      <td>18.7</td>\n",
       "      <td>5.33</td>\n",
       "    </tr>\n",
       "    <tr>\n",
       "      <th>...</th>\n",
       "      <td>...</td>\n",
       "      <td>...</td>\n",
       "      <td>...</td>\n",
       "      <td>...</td>\n",
       "      <td>...</td>\n",
       "      <td>...</td>\n",
       "      <td>...</td>\n",
       "      <td>...</td>\n",
       "      <td>...</td>\n",
       "      <td>...</td>\n",
       "      <td>...</td>\n",
       "      <td>...</td>\n",
       "    </tr>\n",
       "    <tr>\n",
       "      <th>501</th>\n",
       "      <td>0.06263</td>\n",
       "      <td>0.0</td>\n",
       "      <td>11.93</td>\n",
       "      <td>0</td>\n",
       "      <td>0.573</td>\n",
       "      <td>6.593</td>\n",
       "      <td>69.1</td>\n",
       "      <td>2.4786</td>\n",
       "      <td>1</td>\n",
       "      <td>273</td>\n",
       "      <td>21.0</td>\n",
       "      <td>9.67</td>\n",
       "    </tr>\n",
       "    <tr>\n",
       "      <th>502</th>\n",
       "      <td>0.04527</td>\n",
       "      <td>0.0</td>\n",
       "      <td>11.93</td>\n",
       "      <td>0</td>\n",
       "      <td>0.573</td>\n",
       "      <td>6.120</td>\n",
       "      <td>76.7</td>\n",
       "      <td>2.2875</td>\n",
       "      <td>1</td>\n",
       "      <td>273</td>\n",
       "      <td>21.0</td>\n",
       "      <td>9.08</td>\n",
       "    </tr>\n",
       "    <tr>\n",
       "      <th>503</th>\n",
       "      <td>0.06076</td>\n",
       "      <td>0.0</td>\n",
       "      <td>11.93</td>\n",
       "      <td>0</td>\n",
       "      <td>0.573</td>\n",
       "      <td>6.976</td>\n",
       "      <td>91.0</td>\n",
       "      <td>2.1675</td>\n",
       "      <td>1</td>\n",
       "      <td>273</td>\n",
       "      <td>21.0</td>\n",
       "      <td>5.64</td>\n",
       "    </tr>\n",
       "    <tr>\n",
       "      <th>504</th>\n",
       "      <td>0.10959</td>\n",
       "      <td>0.0</td>\n",
       "      <td>11.93</td>\n",
       "      <td>0</td>\n",
       "      <td>0.573</td>\n",
       "      <td>6.794</td>\n",
       "      <td>89.3</td>\n",
       "      <td>2.3889</td>\n",
       "      <td>1</td>\n",
       "      <td>273</td>\n",
       "      <td>21.0</td>\n",
       "      <td>6.48</td>\n",
       "    </tr>\n",
       "    <tr>\n",
       "      <th>505</th>\n",
       "      <td>0.04741</td>\n",
       "      <td>0.0</td>\n",
       "      <td>11.93</td>\n",
       "      <td>0</td>\n",
       "      <td>0.573</td>\n",
       "      <td>6.030</td>\n",
       "      <td>80.8</td>\n",
       "      <td>2.5050</td>\n",
       "      <td>1</td>\n",
       "      <td>273</td>\n",
       "      <td>21.0</td>\n",
       "      <td>7.88</td>\n",
       "    </tr>\n",
       "  </tbody>\n",
       "</table>\n",
       "<p>506 rows × 12 columns</p>\n",
       "</div>"
      ],
      "text/plain": [
       "        crim    zn  indus  chas    nox     rm   age     dis  rad  tax  \\\n",
       "0    0.00632  18.0   2.31     0  0.538  6.575  65.2  4.0900    1  296   \n",
       "1    0.02731   0.0   7.07     0  0.469  6.421  78.9  4.9671    2  242   \n",
       "2    0.02729   0.0   7.07     0  0.469  7.185  61.1  4.9671    2  242   \n",
       "3    0.03237   0.0   2.18     0  0.458  6.998  45.8  6.0622    3  222   \n",
       "4    0.06905   0.0   2.18     0  0.458  7.147  54.2  6.0622    3  222   \n",
       "..       ...   ...    ...   ...    ...    ...   ...     ...  ...  ...   \n",
       "501  0.06263   0.0  11.93     0  0.573  6.593  69.1  2.4786    1  273   \n",
       "502  0.04527   0.0  11.93     0  0.573  6.120  76.7  2.2875    1  273   \n",
       "503  0.06076   0.0  11.93     0  0.573  6.976  91.0  2.1675    1  273   \n",
       "504  0.10959   0.0  11.93     0  0.573  6.794  89.3  2.3889    1  273   \n",
       "505  0.04741   0.0  11.93     0  0.573  6.030  80.8  2.5050    1  273   \n",
       "\n",
       "     ptratio  lstat  \n",
       "0       15.3   4.98  \n",
       "1       17.8   9.14  \n",
       "2       17.8   4.03  \n",
       "3       18.7   2.94  \n",
       "4       18.7   5.33  \n",
       "..       ...    ...  \n",
       "501     21.0   9.67  \n",
       "502     21.0   9.08  \n",
       "503     21.0   5.64  \n",
       "504     21.0   6.48  \n",
       "505     21.0   7.88  \n",
       "\n",
       "[506 rows x 12 columns]"
      ]
     },
     "execution_count": 25,
     "metadata": {},
     "output_type": "execute_result"
    }
   ],
   "source": [
    "X = dataframe.drop(columns=[\"medv\"])\n",
    "\n",
    "X\n",
    "\n",
    "#<xml xmlns=\"https://developers.google.com/blockly/xml\"><variables><variable id=\".X4`4]:_GBz1DeII8[o2\">X</variable><variable id=\"$%drMkQ:qhLh-L8dv:ow\">dataframe</variable></variables><block type=\"variables_set\" id=\"j12HEn?u}2$P-S)Ax6d(\" x=\"18\" y=\"151\"><field name=\"VAR\" id=\".X4`4]:_GBz1DeII8[o2\">X</field><value name=\"VALUE\"><block type=\"varDoMethod\" id=\"PMH^/O2y?rD(Y}r-N6eY\"><mutation items=\"1\"></mutation><field name=\"VAR\" id=\"$%drMkQ:qhLh-L8dv:ow\">dataframe</field><field name=\"MEMBER\">drop</field><data>dataframe:drop</data><value name=\"ADD0\"><block type=\"dummyOutputCodeBlock\" id=\"8N-YF(7ms%)oox.~Z;b/\"><field name=\"CODE\">columns=[\"medv\"]</field></block></value></block></value></block><block type=\"variables_get\" id=\"DdFRZt{,QusD6$#{{SUu\" x=\"8\" y=\"296\"><field name=\"VAR\" id=\".X4`4]:_GBz1DeII8[o2\">X</field></block></xml>"
   ]
  },
  {
   "cell_type": "markdown",
   "metadata": {},
   "source": [
    "Save a dataframe with just `medv` in `Y`:\n",
    "\n",
    "- Set `Y` to `dataframe [ ] ` containing the following in a list\n",
    "    - `\"medv\"`\n",
    "- `Y` (to display)"
   ]
  },
  {
   "cell_type": "code",
   "execution_count": 26,
   "metadata": {
    "user_blocks": [
     "variables_set",
     "indexer",
     "lists_create_with",
     "text",
     "variables_get"
    ],
    "user_blocks_xml": "<xml xmlns=\"https://developers.google.com/blockly/xml\"><variables><variable id=\"fnSh@+0BWBw|hcm3M|WE\">Y</variable><variable id=\"$%drMkQ:qhLh-L8dv:ow\">dataframe</variable></variables><block type=\"variables_set\" id=\"_:J1([xryT4i+F7k{#[%\" x=\"17\" y=\"175\"><field name=\"VAR\" id=\"fnSh@+0BWBw|hcm3M|WE\">Y</field><value name=\"VALUE\"><block type=\"indexer\" id=\"22hOF=T:mHvJrMybHkPs\"><field name=\"VAR\" id=\"$%drMkQ:qhLh-L8dv:ow\">dataframe</field><value name=\"INDEX\"><block type=\"lists_create_with\" id=\"qT2G_{7q~*L;[5j:vtKq\"><mutation items=\"1\"></mutation><value name=\"ADD0\"><block type=\"text\" id=\"=UVLwuCW$1d9ZJ]6HF_,\"><field name=\"TEXT\">medv</field></block></value></block></value></block></value></block><block type=\"variables_get\" id=\"pog__n6Jf{VK_sNEB)B$\" x=\"17\" y=\"239\"><field name=\"VAR\" id=\"fnSh@+0BWBw|hcm3M|WE\">Y</field></block></xml>",
    "user_code_from_blocks": "Y = dataframe[['medv']]\n\nY\n"
   },
   "outputs": [
    {
     "data": {
      "text/html": [
       "<div>\n",
       "<style scoped>\n",
       "    .dataframe tbody tr th:only-of-type {\n",
       "        vertical-align: middle;\n",
       "    }\n",
       "\n",
       "    .dataframe tbody tr th {\n",
       "        vertical-align: top;\n",
       "    }\n",
       "\n",
       "    .dataframe thead th {\n",
       "        text-align: right;\n",
       "    }\n",
       "</style>\n",
       "<table border=\"1\" class=\"dataframe\">\n",
       "  <thead>\n",
       "    <tr style=\"text-align: right;\">\n",
       "      <th></th>\n",
       "      <th>medv</th>\n",
       "    </tr>\n",
       "  </thead>\n",
       "  <tbody>\n",
       "    <tr>\n",
       "      <th>0</th>\n",
       "      <td>24.0</td>\n",
       "    </tr>\n",
       "    <tr>\n",
       "      <th>1</th>\n",
       "      <td>21.6</td>\n",
       "    </tr>\n",
       "    <tr>\n",
       "      <th>2</th>\n",
       "      <td>34.7</td>\n",
       "    </tr>\n",
       "    <tr>\n",
       "      <th>3</th>\n",
       "      <td>33.4</td>\n",
       "    </tr>\n",
       "    <tr>\n",
       "      <th>4</th>\n",
       "      <td>36.2</td>\n",
       "    </tr>\n",
       "    <tr>\n",
       "      <th>...</th>\n",
       "      <td>...</td>\n",
       "    </tr>\n",
       "    <tr>\n",
       "      <th>501</th>\n",
       "      <td>22.4</td>\n",
       "    </tr>\n",
       "    <tr>\n",
       "      <th>502</th>\n",
       "      <td>20.6</td>\n",
       "    </tr>\n",
       "    <tr>\n",
       "      <th>503</th>\n",
       "      <td>23.9</td>\n",
       "    </tr>\n",
       "    <tr>\n",
       "      <th>504</th>\n",
       "      <td>22.0</td>\n",
       "    </tr>\n",
       "    <tr>\n",
       "      <th>505</th>\n",
       "      <td>11.9</td>\n",
       "    </tr>\n",
       "  </tbody>\n",
       "</table>\n",
       "<p>506 rows × 1 columns</p>\n",
       "</div>"
      ],
      "text/plain": [
       "     medv\n",
       "0    24.0\n",
       "1    21.6\n",
       "2    34.7\n",
       "3    33.4\n",
       "4    36.2\n",
       "..    ...\n",
       "501  22.4\n",
       "502  20.6\n",
       "503  23.9\n",
       "504  22.0\n",
       "505  11.9\n",
       "\n",
       "[506 rows x 1 columns]"
      ]
     },
     "execution_count": 26,
     "metadata": {},
     "output_type": "execute_result"
    }
   ],
   "source": [
    "Y = dataframe[['medv']]\n",
    "\n",
    "Y\n",
    "\n",
    "#<xml xmlns=\"https://developers.google.com/blockly/xml\"><variables><variable id=\"fnSh@+0BWBw|hcm3M|WE\">Y</variable><variable id=\"$%drMkQ:qhLh-L8dv:ow\">dataframe</variable></variables><block type=\"variables_set\" id=\"_:J1([xryT4i+F7k{#[%\" x=\"17\" y=\"175\"><field name=\"VAR\" id=\"fnSh@+0BWBw|hcm3M|WE\">Y</field><value name=\"VALUE\"><block type=\"indexer\" id=\"22hOF=T:mHvJrMybHkPs\"><field name=\"VAR\" id=\"$%drMkQ:qhLh-L8dv:ow\">dataframe</field><value name=\"INDEX\"><block type=\"lists_create_with\" id=\"qT2G_{7q~*L;[5j:vtKq\"><mutation items=\"1\"></mutation><value name=\"ADD0\"><block type=\"text\" id=\"=UVLwuCW$1d9ZJ]6HF_,\"><field name=\"TEXT\">medv</field></block></value></block></value></block></value></block><block type=\"variables_get\" id=\"pog__n6Jf{VK_sNEB)B$\" x=\"17\" y=\"239\"><field name=\"VAR\" id=\"fnSh@+0BWBw|hcm3M|WE\">Y</field></block></xml>"
   ]
  },
  {
   "cell_type": "markdown",
   "metadata": {},
   "source": [
    "Next we are going to split our `X` and `Y` into train and test sets. \n",
    "That means we'll end up with four data frames: `Xtrain`, `Xtest`, `Ytrain`, `Ytest`.\n",
    "\n",
    "First, the `sklearn` import for splitting:\n",
    "\n",
    "- `import sklearn.model_selection as model_selection`"
   ]
  },
  {
   "cell_type": "code",
   "execution_count": 27,
   "metadata": {
    "user_blocks": [
     "importAs"
    ],
    "user_blocks_xml": "<xml xmlns=\"https://developers.google.com/blockly/xml\"><variables><variable id=\"uASGz64Zb$AOvQyV4pRj\">model_selection</variable></variables><block type=\"importAs\" id=\"sN1YO5FEzpHyxb31@j,Z\" x=\"16\" y=\"10\"><field name=\"libraryName\">sklearn.model_selection</field><field name=\"VAR\" id=\"uASGz64Zb$AOvQyV4pRj\">model_selection</field></block></xml>",
    "user_code_from_blocks": "import sklearn.model_selection as model_selection\n"
   },
   "outputs": [],
   "source": [
    "import sklearn.model_selection as model_selection\n",
    "\n",
    "#<xml xmlns=\"https://developers.google.com/blockly/xml\"><variables><variable id=\"uASGz64Zb$AOvQyV4pRj\">model_selection</variable></variables><block type=\"importAs\" id=\"sN1YO5FEzpHyxb31@j,Z\" x=\"16\" y=\"10\"><field name=\"libraryName\">sklearn.model_selection</field><field name=\"VAR\" id=\"uASGz64Zb$AOvQyV4pRj\">model_selection</field></block></xml>"
   ]
  },
  {
   "cell_type": "markdown",
   "metadata": {},
   "source": [
    "Now do the splits:\n",
    "\n",
    "- Set `splits` to with `model_selection` do `train_test_split` using\n",
    "    - `X` (the features in an array)\n",
    "    - `Y` (the labels in an array)\n",
    "    - freestyle `test_size=0.2` (the proportion of the dataset to include in the test split)\n",
    "    "
   ]
  },
  {
   "cell_type": "code",
   "execution_count": 28,
   "metadata": {
    "user_blocks": [
     "variables_set",
     "varDoMethod",
     "variables_get",
     "variables_get",
     "dummyOutputCodeBlock",
     "variables_get"
    ],
    "user_blocks_xml": "<xml xmlns=\"https://developers.google.com/blockly/xml\"><variables><variable id=\"_ut$e0PL4OMi4o1MXTpw\">splits</variable><variable id=\"$%drMkQ:qhLh-L8dv:ow\">dataframe</variable><variable id=\"uASGz64Zb$AOvQyV4pRj\">model_selection</variable><variable id=\".X4`4]:_GBz1DeII8[o2\">X</variable><variable id=\"fnSh@+0BWBw|hcm3M|WE\">Y</variable></variables><block type=\"variables_set\" id=\"oTGRJ#{R!U^we@Bl@pkT\" x=\"19\" y=\"206\"><field name=\"VAR\" id=\"_ut$e0PL4OMi4o1MXTpw\">splits</field><value name=\"VALUE\"><block type=\"varDoMethod\" id=\"f?j@ker(a#hJv;Nh)IGX\"><mutation items=\"3\"></mutation><field name=\"VAR\" id=\"uASGz64Zb$AOvQyV4pRj\">model_selection</field><field name=\"MEMBER\">train_test_split</field><data>model_selection:train_test_split</data><value name=\"ADD0\"><block type=\"variables_get\" id=\".mm}`*H4)i%Eq5z={e-$\"><field name=\"VAR\" id=\".X4`4]:_GBz1DeII8[o2\">X</field></block></value><value name=\"ADD1\"><block type=\"variables_get\" id=\"I3dOV;CPBf^~E%BvgthZ\"><field name=\"VAR\" id=\"fnSh@+0BWBw|hcm3M|WE\">Y</field></block></value><value name=\"ADD2\"><block type=\"dummyOutputCodeBlock\" id=\"@Hg?ib/!8fH$;f3pWJy2\"><field name=\"CODE\">test_size=0.2</field></block></value></block></value></block><block type=\"variables_get\" id=\"LziQaRD`q6IGN=vPaqsj\" x=\"8\" y=\"364\"><field name=\"VAR\" id=\"$%drMkQ:qhLh-L8dv:ow\">dataframe</field></block></xml>",
    "user_code_from_blocks": "splits = model_selection.train_test_split(X,Y,test_size=0.2)\n\ndataframe\n"
   },
   "outputs": [
    {
     "data": {
      "text/html": [
       "<div>\n",
       "<style scoped>\n",
       "    .dataframe tbody tr th:only-of-type {\n",
       "        vertical-align: middle;\n",
       "    }\n",
       "\n",
       "    .dataframe tbody tr th {\n",
       "        vertical-align: top;\n",
       "    }\n",
       "\n",
       "    .dataframe thead th {\n",
       "        text-align: right;\n",
       "    }\n",
       "</style>\n",
       "<table border=\"1\" class=\"dataframe\">\n",
       "  <thead>\n",
       "    <tr style=\"text-align: right;\">\n",
       "      <th></th>\n",
       "      <th>crim</th>\n",
       "      <th>zn</th>\n",
       "      <th>indus</th>\n",
       "      <th>chas</th>\n",
       "      <th>nox</th>\n",
       "      <th>rm</th>\n",
       "      <th>age</th>\n",
       "      <th>dis</th>\n",
       "      <th>rad</th>\n",
       "      <th>tax</th>\n",
       "      <th>ptratio</th>\n",
       "      <th>lstat</th>\n",
       "      <th>medv</th>\n",
       "    </tr>\n",
       "  </thead>\n",
       "  <tbody>\n",
       "    <tr>\n",
       "      <th>0</th>\n",
       "      <td>0.00632</td>\n",
       "      <td>18.0</td>\n",
       "      <td>2.31</td>\n",
       "      <td>0</td>\n",
       "      <td>0.538</td>\n",
       "      <td>6.575</td>\n",
       "      <td>65.2</td>\n",
       "      <td>4.0900</td>\n",
       "      <td>1</td>\n",
       "      <td>296</td>\n",
       "      <td>15.3</td>\n",
       "      <td>4.98</td>\n",
       "      <td>24.0</td>\n",
       "    </tr>\n",
       "    <tr>\n",
       "      <th>1</th>\n",
       "      <td>0.02731</td>\n",
       "      <td>0.0</td>\n",
       "      <td>7.07</td>\n",
       "      <td>0</td>\n",
       "      <td>0.469</td>\n",
       "      <td>6.421</td>\n",
       "      <td>78.9</td>\n",
       "      <td>4.9671</td>\n",
       "      <td>2</td>\n",
       "      <td>242</td>\n",
       "      <td>17.8</td>\n",
       "      <td>9.14</td>\n",
       "      <td>21.6</td>\n",
       "    </tr>\n",
       "    <tr>\n",
       "      <th>2</th>\n",
       "      <td>0.02729</td>\n",
       "      <td>0.0</td>\n",
       "      <td>7.07</td>\n",
       "      <td>0</td>\n",
       "      <td>0.469</td>\n",
       "      <td>7.185</td>\n",
       "      <td>61.1</td>\n",
       "      <td>4.9671</td>\n",
       "      <td>2</td>\n",
       "      <td>242</td>\n",
       "      <td>17.8</td>\n",
       "      <td>4.03</td>\n",
       "      <td>34.7</td>\n",
       "    </tr>\n",
       "    <tr>\n",
       "      <th>3</th>\n",
       "      <td>0.03237</td>\n",
       "      <td>0.0</td>\n",
       "      <td>2.18</td>\n",
       "      <td>0</td>\n",
       "      <td>0.458</td>\n",
       "      <td>6.998</td>\n",
       "      <td>45.8</td>\n",
       "      <td>6.0622</td>\n",
       "      <td>3</td>\n",
       "      <td>222</td>\n",
       "      <td>18.7</td>\n",
       "      <td>2.94</td>\n",
       "      <td>33.4</td>\n",
       "    </tr>\n",
       "    <tr>\n",
       "      <th>4</th>\n",
       "      <td>0.06905</td>\n",
       "      <td>0.0</td>\n",
       "      <td>2.18</td>\n",
       "      <td>0</td>\n",
       "      <td>0.458</td>\n",
       "      <td>7.147</td>\n",
       "      <td>54.2</td>\n",
       "      <td>6.0622</td>\n",
       "      <td>3</td>\n",
       "      <td>222</td>\n",
       "      <td>18.7</td>\n",
       "      <td>5.33</td>\n",
       "      <td>36.2</td>\n",
       "    </tr>\n",
       "    <tr>\n",
       "      <th>...</th>\n",
       "      <td>...</td>\n",
       "      <td>...</td>\n",
       "      <td>...</td>\n",
       "      <td>...</td>\n",
       "      <td>...</td>\n",
       "      <td>...</td>\n",
       "      <td>...</td>\n",
       "      <td>...</td>\n",
       "      <td>...</td>\n",
       "      <td>...</td>\n",
       "      <td>...</td>\n",
       "      <td>...</td>\n",
       "      <td>...</td>\n",
       "    </tr>\n",
       "    <tr>\n",
       "      <th>501</th>\n",
       "      <td>0.06263</td>\n",
       "      <td>0.0</td>\n",
       "      <td>11.93</td>\n",
       "      <td>0</td>\n",
       "      <td>0.573</td>\n",
       "      <td>6.593</td>\n",
       "      <td>69.1</td>\n",
       "      <td>2.4786</td>\n",
       "      <td>1</td>\n",
       "      <td>273</td>\n",
       "      <td>21.0</td>\n",
       "      <td>9.67</td>\n",
       "      <td>22.4</td>\n",
       "    </tr>\n",
       "    <tr>\n",
       "      <th>502</th>\n",
       "      <td>0.04527</td>\n",
       "      <td>0.0</td>\n",
       "      <td>11.93</td>\n",
       "      <td>0</td>\n",
       "      <td>0.573</td>\n",
       "      <td>6.120</td>\n",
       "      <td>76.7</td>\n",
       "      <td>2.2875</td>\n",
       "      <td>1</td>\n",
       "      <td>273</td>\n",
       "      <td>21.0</td>\n",
       "      <td>9.08</td>\n",
       "      <td>20.6</td>\n",
       "    </tr>\n",
       "    <tr>\n",
       "      <th>503</th>\n",
       "      <td>0.06076</td>\n",
       "      <td>0.0</td>\n",
       "      <td>11.93</td>\n",
       "      <td>0</td>\n",
       "      <td>0.573</td>\n",
       "      <td>6.976</td>\n",
       "      <td>91.0</td>\n",
       "      <td>2.1675</td>\n",
       "      <td>1</td>\n",
       "      <td>273</td>\n",
       "      <td>21.0</td>\n",
       "      <td>5.64</td>\n",
       "      <td>23.9</td>\n",
       "    </tr>\n",
       "    <tr>\n",
       "      <th>504</th>\n",
       "      <td>0.10959</td>\n",
       "      <td>0.0</td>\n",
       "      <td>11.93</td>\n",
       "      <td>0</td>\n",
       "      <td>0.573</td>\n",
       "      <td>6.794</td>\n",
       "      <td>89.3</td>\n",
       "      <td>2.3889</td>\n",
       "      <td>1</td>\n",
       "      <td>273</td>\n",
       "      <td>21.0</td>\n",
       "      <td>6.48</td>\n",
       "      <td>22.0</td>\n",
       "    </tr>\n",
       "    <tr>\n",
       "      <th>505</th>\n",
       "      <td>0.04741</td>\n",
       "      <td>0.0</td>\n",
       "      <td>11.93</td>\n",
       "      <td>0</td>\n",
       "      <td>0.573</td>\n",
       "      <td>6.030</td>\n",
       "      <td>80.8</td>\n",
       "      <td>2.5050</td>\n",
       "      <td>1</td>\n",
       "      <td>273</td>\n",
       "      <td>21.0</td>\n",
       "      <td>7.88</td>\n",
       "      <td>11.9</td>\n",
       "    </tr>\n",
       "  </tbody>\n",
       "</table>\n",
       "<p>506 rows × 13 columns</p>\n",
       "</div>"
      ],
      "text/plain": [
       "        crim    zn  indus  chas    nox     rm   age     dis  rad  tax  \\\n",
       "0    0.00632  18.0   2.31     0  0.538  6.575  65.2  4.0900    1  296   \n",
       "1    0.02731   0.0   7.07     0  0.469  6.421  78.9  4.9671    2  242   \n",
       "2    0.02729   0.0   7.07     0  0.469  7.185  61.1  4.9671    2  242   \n",
       "3    0.03237   0.0   2.18     0  0.458  6.998  45.8  6.0622    3  222   \n",
       "4    0.06905   0.0   2.18     0  0.458  7.147  54.2  6.0622    3  222   \n",
       "..       ...   ...    ...   ...    ...    ...   ...     ...  ...  ...   \n",
       "501  0.06263   0.0  11.93     0  0.573  6.593  69.1  2.4786    1  273   \n",
       "502  0.04527   0.0  11.93     0  0.573  6.120  76.7  2.2875    1  273   \n",
       "503  0.06076   0.0  11.93     0  0.573  6.976  91.0  2.1675    1  273   \n",
       "504  0.10959   0.0  11.93     0  0.573  6.794  89.3  2.3889    1  273   \n",
       "505  0.04741   0.0  11.93     0  0.573  6.030  80.8  2.5050    1  273   \n",
       "\n",
       "     ptratio  lstat  medv  \n",
       "0       15.3   4.98  24.0  \n",
       "1       17.8   9.14  21.6  \n",
       "2       17.8   4.03  34.7  \n",
       "3       18.7   2.94  33.4  \n",
       "4       18.7   5.33  36.2  \n",
       "..       ...    ...   ...  \n",
       "501     21.0   9.67  22.4  \n",
       "502     21.0   9.08  20.6  \n",
       "503     21.0   5.64  23.9  \n",
       "504     21.0   6.48  22.0  \n",
       "505     21.0   7.88  11.9  \n",
       "\n",
       "[506 rows x 13 columns]"
      ]
     },
     "execution_count": 28,
     "metadata": {},
     "output_type": "execute_result"
    }
   ],
   "source": [
    "splits = model_selection.train_test_split(X,Y,test_size=0.2)\n",
    "\n",
    "dataframe\n",
    "\n",
    "#<xml xmlns=\"https://developers.google.com/blockly/xml\"><variables><variable id=\"_ut$e0PL4OMi4o1MXTpw\">splits</variable><variable id=\"$%drMkQ:qhLh-L8dv:ow\">dataframe</variable><variable id=\"uASGz64Zb$AOvQyV4pRj\">model_selection</variable><variable id=\".X4`4]:_GBz1DeII8[o2\">X</variable><variable id=\"fnSh@+0BWBw|hcm3M|WE\">Y</variable></variables><block type=\"variables_set\" id=\"oTGRJ#{R!U^we@Bl@pkT\" x=\"19\" y=\"206\"><field name=\"VAR\" id=\"_ut$e0PL4OMi4o1MXTpw\">splits</field><value name=\"VALUE\"><block type=\"varDoMethod\" id=\"f?j@ker(a#hJv;Nh)IGX\"><mutation items=\"3\"></mutation><field name=\"VAR\" id=\"uASGz64Zb$AOvQyV4pRj\">model_selection</field><field name=\"MEMBER\">train_test_split</field><data>model_selection:train_test_split</data><value name=\"ADD0\"><block type=\"variables_get\" id=\".mm}`*H4)i%Eq5z={e-$\"><field name=\"VAR\" id=\".X4`4]:_GBz1DeII8[o2\">X</field></block></value><value name=\"ADD1\"><block type=\"variables_get\" id=\"I3dOV;CPBf^~E%BvgthZ\"><field name=\"VAR\" id=\"fnSh@+0BWBw|hcm3M|WE\">Y</field></block></value><value name=\"ADD2\"><block type=\"dummyOutputCodeBlock\" id=\"@Hg?ib/!8fH$;f3pWJy2\"><field name=\"CODE\">test_size=0.2</field></block></value></block></value></block><block type=\"variables_get\" id=\"LziQaRD`q6IGN=vPaqsj\" x=\"8\" y=\"364\"><field name=\"VAR\" id=\"$%drMkQ:qhLh-L8dv:ow\">dataframe</field></block></xml>"
   ]
  },
  {
   "cell_type": "markdown",
   "metadata": {},
   "source": [
    "You may have noticed we haven't scaled (standardized) the predictor features yet.\n",
    "We'll do that next."
   ]
  },
  {
   "cell_type": "markdown",
   "metadata": {},
   "source": [
    "### KNN regression model\n",
    "\n",
    "We need to import libraries for:\n",
    "\n",
    "- KNN regression\n",
    "- Mean squared error\n",
    "- Ravel\n",
    "\n",
    "As well as libraries we need to standardize:\n",
    "\n",
    "- Scale\n",
    "- Pipeline\n",
    "\n",
    "So do the following imports:\n",
    "\n",
    "- `import sklearn.neighbors as neighbors`\n",
    "- `import sklearn.metrics as metrics`\n",
    "- `import numpy as np`\n",
    "- `import sklearn.preprocessing as pp`\n",
    "- `import sklearn.pipeline as pipe`"
   ]
  },
  {
   "cell_type": "code",
   "execution_count": 29,
   "metadata": {
    "user_blocks": [
     "importAs",
     "importAs",
     "importAs",
     "importAs",
     "importAs"
    ],
    "user_blocks_xml": "<xml xmlns=\"https://developers.google.com/blockly/xml\"><variables><variable id=\"MvUG^P$o3=I*6/67?Rk:\">neighbors</variable><variable id=\")}+w@N9iB/j=:+PLkMv8\">metrics</variable><variable id=\"Zhzp)s*VL?V@ES3(j:*b\">np</variable><variable id=\".T`xqZHAu7r0$MQ4s=Yg\">pp</variable><variable id=\"=z9KfSBWpoDS,oj-?yx,\">pipe</variable></variables><block type=\"importAs\" id=\"Jkis0rqxTm[rs0.yA(O7\" x=\"183\" y=\"249\"><field name=\"libraryName\">sklearn.neighbors</field><field name=\"VAR\" id=\"MvUG^P$o3=I*6/67?Rk:\">neighbors</field><next><block type=\"importAs\" id=\"*G_SVgZ;}hIr,Hi1~$Z6\"><field name=\"libraryName\">sklearn.metrics</field><field name=\"VAR\" id=\")}+w@N9iB/j=:+PLkMv8\">metrics</field><next><block type=\"importAs\" id=\"1ODp#_M`@7Fj/@US}H%#\"><field name=\"libraryName\">numpy</field><field name=\"VAR\" id=\"Zhzp)s*VL?V@ES3(j:*b\">np</field><next><block type=\"importAs\" id=\"/YAkt4vqDQp/.5;pPcY.\"><field name=\"libraryName\">sklearn.preprocessing</field><field name=\"VAR\" id=\".T`xqZHAu7r0$MQ4s=Yg\">pp</field><next><block type=\"importAs\" id=\"O15G]dI#1oM;`7^r@Pr,\"><field name=\"libraryName\">sklearn.pipeline</field><field name=\"VAR\" id=\"=z9KfSBWpoDS,oj-?yx,\">pipe</field></block></next></block></next></block></next></block></next></block></xml>",
    "user_code_from_blocks": "import sklearn.neighbors as neighbors\nimport sklearn.metrics as metrics\nimport numpy as np\nimport sklearn.preprocessing as pp\nimport sklearn.pipeline as pipe\n"
   },
   "outputs": [],
   "source": [
    "import sklearn.neighbors as neighbors\n",
    "import sklearn.metrics as metrics\n",
    "import numpy as np\n",
    "import sklearn.preprocessing as pp\n",
    "import sklearn.pipeline as pipe\n",
    "\n",
    "#<xml xmlns=\"https://developers.google.com/blockly/xml\"><variables><variable id=\"MvUG^P$o3=I*6/67?Rk:\">neighbors</variable><variable id=\")}+w@N9iB/j=:+PLkMv8\">metrics</variable><variable id=\"Zhzp)s*VL?V@ES3(j:*b\">np</variable><variable id=\".T`xqZHAu7r0$MQ4s=Yg\">pp</variable><variable id=\"=z9KfSBWpoDS,oj-?yx,\">pipe</variable></variables><block type=\"importAs\" id=\"Jkis0rqxTm[rs0.yA(O7\" x=\"183\" y=\"249\"><field name=\"libraryName\">sklearn.neighbors</field><field name=\"VAR\" id=\"MvUG^P$o3=I*6/67?Rk:\">neighbors</field><next><block type=\"importAs\" id=\"*G_SVgZ;}hIr,Hi1~$Z6\"><field name=\"libraryName\">sklearn.metrics</field><field name=\"VAR\" id=\")}+w@N9iB/j=:+PLkMv8\">metrics</field><next><block type=\"importAs\" id=\"1ODp#_M`@7Fj/@US}H%#\"><field name=\"libraryName\">numpy</field><field name=\"VAR\" id=\"Zhzp)s*VL?V@ES3(j:*b\">np</field><next><block type=\"importAs\" id=\"/YAkt4vqDQp/.5;pPcY.\"><field name=\"libraryName\">sklearn.preprocessing</field><field name=\"VAR\" id=\".T`xqZHAu7r0$MQ4s=Yg\">pp</field><next><block type=\"importAs\" id=\"O15G]dI#1oM;`7^r@Pr,\"><field name=\"libraryName\">sklearn.pipeline</field><field name=\"VAR\" id=\"=z9KfSBWpoDS,oj-?yx,\">pipe</field></block></next></block></next></block></next></block></next></block></xml>"
   ]
  },
  {
   "cell_type": "markdown",
   "metadata": {},
   "source": [
    "Before we can train the KNN regression model, we need to scale the data.\n",
    "To do this easily, we introduce a new concept, **pipelines**.\n",
    "A pipeline is a series of steps, or stages, that process your data.\n",
    "You can think of it like an assembly line, with each stage adding something (or taking something away).\n",
    "\n",
    "The reason we need a pipeline is because when we scale our data, we need to scale not only the training set but also the testing set, and we need to scale them all the same way (so they match).\n",
    "Pipelines make this easy because we can wrap the scaler and our KNN model in the same pipeline and then forget about it.\n",
    "\n",
    "Let's make a pipeline with both a scaler and KNN regression:\n",
    "\n",
    "- Set `std_clf` to with `pipe` do `make_pipeline` using\n",
    "    - with `pp` create `StandardScaler`\n",
    "    - with `neighbors` create `KNeighborsRegressor` using\n",
    "        - freestyle `n_neighbors=10`"
   ]
  },
  {
   "cell_type": "code",
   "execution_count": 30,
   "metadata": {
    "user_blocks": [
     "variables_set",
     "varDoMethod",
     "varCreateObject",
     "varCreateObject",
     "dummyOutputCodeBlock"
    ],
    "user_blocks_xml": "<xml xmlns=\"https://developers.google.com/blockly/xml\"><variables><variable id=\"`P)`+jl|;h{.[r}{78q6\">std_clf</variable><variable id=\"=z9KfSBWpoDS,oj-?yx,\">pipe</variable><variable id=\".T`xqZHAu7r0$MQ4s=Yg\">pp</variable><variable id=\"MvUG^P$o3=I*6/67?Rk:\">neighbors</variable></variables><block type=\"variables_set\" id=\"}81D/tZY#o}$E:M}:u4x\" x=\"28\" y=\"96\"><field name=\"VAR\" id=\"`P)`+jl|;h{.[r}{78q6\">std_clf</field><value name=\"VALUE\"><block type=\"varDoMethod\" id=\"(Noh/e~gvTM3-4|;g]s[\"><mutation items=\"2\"></mutation><field name=\"VAR\" id=\"=z9KfSBWpoDS,oj-?yx,\">pipe</field><field name=\"MEMBER\">make_pipeline</field><data>pipe:make_pipeline</data><value name=\"ADD0\"><block type=\"varCreateObject\" id=\"e9G_EPu`q{*0`$!~:jh~\"><mutation items=\"1\"></mutation><field name=\"VAR\" id=\".T`xqZHAu7r0$MQ4s=Yg\">pp</field><field name=\"MEMBER\">StandardScaler</field><data>pp:StandardScaler</data></block></value><value name=\"ADD1\"><block type=\"varCreateObject\" id=\"ar7keIh-Yv)+b+#Edsp_\"><mutation items=\"1\"></mutation><field name=\"VAR\" id=\"MvUG^P$o3=I*6/67?Rk:\">neighbors</field><field name=\"MEMBER\">KNeighborsRegressor</field><data>neighbors:KNeighborsRegressor</data><value name=\"ADD0\"><block type=\"dummyOutputCodeBlock\" id=\"Q!`Pnb+=Gq!aL4Xa}S{z\"><field name=\"CODE\">n_neighbors = 10</field></block></value></block></value></block></value></block></xml>",
    "user_code_from_blocks": "std_clf = pipe.make_pipeline(pp.StandardScaler(),neighbors.KNeighborsRegressor(n_neighbors = 10))\n"
   },
   "outputs": [],
   "source": [
    "std_clf = pipe.make_pipeline(pp.StandardScaler(),neighbors.KNeighborsRegressor(n_neighbors = 10))\n",
    "\n",
    "#<xml xmlns=\"https://developers.google.com/blockly/xml\"><variables><variable id=\"`P)`+jl|;h{.[r}{78q6\">std_clf</variable><variable id=\"=z9KfSBWpoDS,oj-?yx,\">pipe</variable><variable id=\".T`xqZHAu7r0$MQ4s=Yg\">pp</variable><variable id=\"MvUG^P$o3=I*6/67?Rk:\">neighbors</variable></variables><block type=\"variables_set\" id=\"}81D/tZY#o}$E:M}:u4x\" x=\"28\" y=\"96\"><field name=\"VAR\" id=\"`P)`+jl|;h{.[r}{78q6\">std_clf</field><value name=\"VALUE\"><block type=\"varDoMethod\" id=\"(Noh/e~gvTM3-4|;g]s[\"><mutation items=\"2\"></mutation><field name=\"VAR\" id=\"=z9KfSBWpoDS,oj-?yx,\">pipe</field><field name=\"MEMBER\">make_pipeline</field><data>pipe:make_pipeline</data><value name=\"ADD0\"><block type=\"varCreateObject\" id=\"e9G_EPu`q{*0`$!~:jh~\"><mutation items=\"1\"></mutation><field name=\"VAR\" id=\".T`xqZHAu7r0$MQ4s=Yg\">pp</field><field name=\"MEMBER\">StandardScaler</field><data>pp:StandardScaler</data></block></value><value name=\"ADD1\"><block type=\"varCreateObject\" id=\"ar7keIh-Yv)+b+#Edsp_\"><mutation items=\"1\"></mutation><field name=\"VAR\" id=\"MvUG^P$o3=I*6/67?Rk:\">neighbors</field><field name=\"MEMBER\">KNeighborsRegressor</field><data>neighbors:KNeighborsRegressor</data><value name=\"ADD0\"><block type=\"dummyOutputCodeBlock\" id=\"Q!`Pnb+=Gq!aL4Xa}S{z\"><field name=\"CODE\">n_neighbors = 10</field></block></value></block></value></block></value></block></xml>"
   ]
  },
  {
   "cell_type": "markdown",
   "metadata": {},
   "source": [
    "Because our KNN regression model is inside the pipeline, we can go ahead and train it.\n",
    "In fact, we can treat the whole pipeline like it's a classifier:\n",
    "\n",
    "-  with `std_clf` do `fit` using\n",
    "    - `in list splits get # 1` (in menu LISTS)\n",
    "    - with `np` do `ravel` using\n",
    "        - `in list splits get # 3` (in menu LISTS)\n",
    "        \n",
    "Remember the first and third elements in `splits` are `Xtrain` and `Ytrain`, respectively."
   ]
  },
  {
   "cell_type": "code",
   "execution_count": 31,
   "metadata": {
    "user_blocks": [
     "varDoMethod",
     "lists_getIndex",
     "variables_get",
     "math_number",
     "varDoMethod",
     "lists_getIndex",
     "variables_get",
     "math_number"
    ],
    "user_blocks_xml": "<xml xmlns=\"https://developers.google.com/blockly/xml\"><variables><variable id=\"`P)`+jl|;h{.[r}{78q6\">std_clf</variable><variable id=\"Zhzp)s*VL?V@ES3(j:*b\">np</variable><variable id=\"_ut$e0PL4OMi4o1MXTpw\">splits</variable></variables><block type=\"varDoMethod\" id=\"Z)$q-zn.KTC{+^l-wH6u\" x=\"-34\" y=\"159\"><mutation items=\"2\"></mutation><field name=\"VAR\" id=\"`P)`+jl|;h{.[r}{78q6\">std_clf</field><field name=\"MEMBER\">fit</field><data>std_clf:fit</data><value name=\"ADD0\"><block type=\"lists_getIndex\" id=\"C#,#1*rEm+]qEx?L1x[L\"><mutation statement=\"false\" at=\"true\"></mutation><field name=\"MODE\">GET</field><field name=\"WHERE\">FROM_START</field><value name=\"VALUE\"><block type=\"variables_get\" id=\"b_Sz{9#d7d=ystO|k?l_\"><field name=\"VAR\" id=\"_ut$e0PL4OMi4o1MXTpw\">splits</field></block></value><value name=\"AT\"><block type=\"math_number\" id=\":s{r1~S,,@.CSh#9`$R;\"><field name=\"NUM\">1</field></block></value></block></value><value name=\"ADD1\"><block type=\"varDoMethod\" id=\"zYBlZ,!^P^%Ib5R@Ch.H\"><mutation items=\"1\"></mutation><field name=\"VAR\" id=\"Zhzp)s*VL?V@ES3(j:*b\">np</field><field name=\"MEMBER\">ravel</field><data>np:ravel</data><value name=\"ADD0\"><block type=\"lists_getIndex\" id=\"^)UBt0jM;BnGmWeG7pw*\"><mutation statement=\"false\" at=\"true\"></mutation><field name=\"MODE\">GET</field><field name=\"WHERE\">FROM_START</field><value name=\"VALUE\"><block type=\"variables_get\" id=\"4Vo!*g]qQ=D}XtD2i39/\"><field name=\"VAR\" id=\"_ut$e0PL4OMi4o1MXTpw\">splits</field></block></value><value name=\"AT\"><block type=\"math_number\" id=\"RysCD3.C27sBxztz(T}2\"><field name=\"NUM\">3</field></block></value></block></value></block></value></block></xml>",
    "user_code_from_blocks": "std_clf.fit(splits[0],np.ravel(splits[2]))\n"
   },
   "outputs": [
    {
     "data": {
      "text/html": [
       "<style>#sk-container-id-1 {\n",
       "  /* Definition of color scheme common for light and dark mode */\n",
       "  --sklearn-color-text: #000;\n",
       "  --sklearn-color-text-muted: #666;\n",
       "  --sklearn-color-line: gray;\n",
       "  /* Definition of color scheme for unfitted estimators */\n",
       "  --sklearn-color-unfitted-level-0: #fff5e6;\n",
       "  --sklearn-color-unfitted-level-1: #f6e4d2;\n",
       "  --sklearn-color-unfitted-level-2: #ffe0b3;\n",
       "  --sklearn-color-unfitted-level-3: chocolate;\n",
       "  /* Definition of color scheme for fitted estimators */\n",
       "  --sklearn-color-fitted-level-0: #f0f8ff;\n",
       "  --sklearn-color-fitted-level-1: #d4ebff;\n",
       "  --sklearn-color-fitted-level-2: #b3dbfd;\n",
       "  --sklearn-color-fitted-level-3: cornflowerblue;\n",
       "\n",
       "  /* Specific color for light theme */\n",
       "  --sklearn-color-text-on-default-background: var(--sg-text-color, var(--theme-code-foreground, var(--jp-content-font-color1, black)));\n",
       "  --sklearn-color-background: var(--sg-background-color, var(--theme-background, var(--jp-layout-color0, white)));\n",
       "  --sklearn-color-border-box: var(--sg-text-color, var(--theme-code-foreground, var(--jp-content-font-color1, black)));\n",
       "  --sklearn-color-icon: #696969;\n",
       "\n",
       "  @media (prefers-color-scheme: dark) {\n",
       "    /* Redefinition of color scheme for dark theme */\n",
       "    --sklearn-color-text-on-default-background: var(--sg-text-color, var(--theme-code-foreground, var(--jp-content-font-color1, white)));\n",
       "    --sklearn-color-background: var(--sg-background-color, var(--theme-background, var(--jp-layout-color0, #111)));\n",
       "    --sklearn-color-border-box: var(--sg-text-color, var(--theme-code-foreground, var(--jp-content-font-color1, white)));\n",
       "    --sklearn-color-icon: #878787;\n",
       "  }\n",
       "}\n",
       "\n",
       "#sk-container-id-1 {\n",
       "  color: var(--sklearn-color-text);\n",
       "}\n",
       "\n",
       "#sk-container-id-1 pre {\n",
       "  padding: 0;\n",
       "}\n",
       "\n",
       "#sk-container-id-1 input.sk-hidden--visually {\n",
       "  border: 0;\n",
       "  clip: rect(1px 1px 1px 1px);\n",
       "  clip: rect(1px, 1px, 1px, 1px);\n",
       "  height: 1px;\n",
       "  margin: -1px;\n",
       "  overflow: hidden;\n",
       "  padding: 0;\n",
       "  position: absolute;\n",
       "  width: 1px;\n",
       "}\n",
       "\n",
       "#sk-container-id-1 div.sk-dashed-wrapped {\n",
       "  border: 1px dashed var(--sklearn-color-line);\n",
       "  margin: 0 0.4em 0.5em 0.4em;\n",
       "  box-sizing: border-box;\n",
       "  padding-bottom: 0.4em;\n",
       "  background-color: var(--sklearn-color-background);\n",
       "}\n",
       "\n",
       "#sk-container-id-1 div.sk-container {\n",
       "  /* jupyter's `normalize.less` sets `[hidden] { display: none; }`\n",
       "     but bootstrap.min.css set `[hidden] { display: none !important; }`\n",
       "     so we also need the `!important` here to be able to override the\n",
       "     default hidden behavior on the sphinx rendered scikit-learn.org.\n",
       "     See: https://github.com/scikit-learn/scikit-learn/issues/21755 */\n",
       "  display: inline-block !important;\n",
       "  position: relative;\n",
       "}\n",
       "\n",
       "#sk-container-id-1 div.sk-text-repr-fallback {\n",
       "  display: none;\n",
       "}\n",
       "\n",
       "div.sk-parallel-item,\n",
       "div.sk-serial,\n",
       "div.sk-item {\n",
       "  /* draw centered vertical line to link estimators */\n",
       "  background-image: linear-gradient(var(--sklearn-color-text-on-default-background), var(--sklearn-color-text-on-default-background));\n",
       "  background-size: 2px 100%;\n",
       "  background-repeat: no-repeat;\n",
       "  background-position: center center;\n",
       "}\n",
       "\n",
       "/* Parallel-specific style estimator block */\n",
       "\n",
       "#sk-container-id-1 div.sk-parallel-item::after {\n",
       "  content: \"\";\n",
       "  width: 100%;\n",
       "  border-bottom: 2px solid var(--sklearn-color-text-on-default-background);\n",
       "  flex-grow: 1;\n",
       "}\n",
       "\n",
       "#sk-container-id-1 div.sk-parallel {\n",
       "  display: flex;\n",
       "  align-items: stretch;\n",
       "  justify-content: center;\n",
       "  background-color: var(--sklearn-color-background);\n",
       "  position: relative;\n",
       "}\n",
       "\n",
       "#sk-container-id-1 div.sk-parallel-item {\n",
       "  display: flex;\n",
       "  flex-direction: column;\n",
       "}\n",
       "\n",
       "#sk-container-id-1 div.sk-parallel-item:first-child::after {\n",
       "  align-self: flex-end;\n",
       "  width: 50%;\n",
       "}\n",
       "\n",
       "#sk-container-id-1 div.sk-parallel-item:last-child::after {\n",
       "  align-self: flex-start;\n",
       "  width: 50%;\n",
       "}\n",
       "\n",
       "#sk-container-id-1 div.sk-parallel-item:only-child::after {\n",
       "  width: 0;\n",
       "}\n",
       "\n",
       "/* Serial-specific style estimator block */\n",
       "\n",
       "#sk-container-id-1 div.sk-serial {\n",
       "  display: flex;\n",
       "  flex-direction: column;\n",
       "  align-items: center;\n",
       "  background-color: var(--sklearn-color-background);\n",
       "  padding-right: 1em;\n",
       "  padding-left: 1em;\n",
       "}\n",
       "\n",
       "\n",
       "/* Toggleable style: style used for estimator/Pipeline/ColumnTransformer box that is\n",
       "clickable and can be expanded/collapsed.\n",
       "- Pipeline and ColumnTransformer use this feature and define the default style\n",
       "- Estimators will overwrite some part of the style using the `sk-estimator` class\n",
       "*/\n",
       "\n",
       "/* Pipeline and ColumnTransformer style (default) */\n",
       "\n",
       "#sk-container-id-1 div.sk-toggleable {\n",
       "  /* Default theme specific background. It is overwritten whether we have a\n",
       "  specific estimator or a Pipeline/ColumnTransformer */\n",
       "  background-color: var(--sklearn-color-background);\n",
       "}\n",
       "\n",
       "/* Toggleable label */\n",
       "#sk-container-id-1 label.sk-toggleable__label {\n",
       "  cursor: pointer;\n",
       "  display: flex;\n",
       "  width: 100%;\n",
       "  margin-bottom: 0;\n",
       "  padding: 0.5em;\n",
       "  box-sizing: border-box;\n",
       "  text-align: center;\n",
       "  align-items: start;\n",
       "  justify-content: space-between;\n",
       "  gap: 0.5em;\n",
       "}\n",
       "\n",
       "#sk-container-id-1 label.sk-toggleable__label .caption {\n",
       "  font-size: 0.6rem;\n",
       "  font-weight: lighter;\n",
       "  color: var(--sklearn-color-text-muted);\n",
       "}\n",
       "\n",
       "#sk-container-id-1 label.sk-toggleable__label-arrow:before {\n",
       "  /* Arrow on the left of the label */\n",
       "  content: \"▸\";\n",
       "  float: left;\n",
       "  margin-right: 0.25em;\n",
       "  color: var(--sklearn-color-icon);\n",
       "}\n",
       "\n",
       "#sk-container-id-1 label.sk-toggleable__label-arrow:hover:before {\n",
       "  color: var(--sklearn-color-text);\n",
       "}\n",
       "\n",
       "/* Toggleable content - dropdown */\n",
       "\n",
       "#sk-container-id-1 div.sk-toggleable__content {\n",
       "  max-height: 0;\n",
       "  max-width: 0;\n",
       "  overflow: hidden;\n",
       "  text-align: left;\n",
       "  /* unfitted */\n",
       "  background-color: var(--sklearn-color-unfitted-level-0);\n",
       "}\n",
       "\n",
       "#sk-container-id-1 div.sk-toggleable__content.fitted {\n",
       "  /* fitted */\n",
       "  background-color: var(--sklearn-color-fitted-level-0);\n",
       "}\n",
       "\n",
       "#sk-container-id-1 div.sk-toggleable__content pre {\n",
       "  margin: 0.2em;\n",
       "  border-radius: 0.25em;\n",
       "  color: var(--sklearn-color-text);\n",
       "  /* unfitted */\n",
       "  background-color: var(--sklearn-color-unfitted-level-0);\n",
       "}\n",
       "\n",
       "#sk-container-id-1 div.sk-toggleable__content.fitted pre {\n",
       "  /* unfitted */\n",
       "  background-color: var(--sklearn-color-fitted-level-0);\n",
       "}\n",
       "\n",
       "#sk-container-id-1 input.sk-toggleable__control:checked~div.sk-toggleable__content {\n",
       "  /* Expand drop-down */\n",
       "  max-height: 200px;\n",
       "  max-width: 100%;\n",
       "  overflow: auto;\n",
       "}\n",
       "\n",
       "#sk-container-id-1 input.sk-toggleable__control:checked~label.sk-toggleable__label-arrow:before {\n",
       "  content: \"▾\";\n",
       "}\n",
       "\n",
       "/* Pipeline/ColumnTransformer-specific style */\n",
       "\n",
       "#sk-container-id-1 div.sk-label input.sk-toggleable__control:checked~label.sk-toggleable__label {\n",
       "  color: var(--sklearn-color-text);\n",
       "  background-color: var(--sklearn-color-unfitted-level-2);\n",
       "}\n",
       "\n",
       "#sk-container-id-1 div.sk-label.fitted input.sk-toggleable__control:checked~label.sk-toggleable__label {\n",
       "  background-color: var(--sklearn-color-fitted-level-2);\n",
       "}\n",
       "\n",
       "/* Estimator-specific style */\n",
       "\n",
       "/* Colorize estimator box */\n",
       "#sk-container-id-1 div.sk-estimator input.sk-toggleable__control:checked~label.sk-toggleable__label {\n",
       "  /* unfitted */\n",
       "  background-color: var(--sklearn-color-unfitted-level-2);\n",
       "}\n",
       "\n",
       "#sk-container-id-1 div.sk-estimator.fitted input.sk-toggleable__control:checked~label.sk-toggleable__label {\n",
       "  /* fitted */\n",
       "  background-color: var(--sklearn-color-fitted-level-2);\n",
       "}\n",
       "\n",
       "#sk-container-id-1 div.sk-label label.sk-toggleable__label,\n",
       "#sk-container-id-1 div.sk-label label {\n",
       "  /* The background is the default theme color */\n",
       "  color: var(--sklearn-color-text-on-default-background);\n",
       "}\n",
       "\n",
       "/* On hover, darken the color of the background */\n",
       "#sk-container-id-1 div.sk-label:hover label.sk-toggleable__label {\n",
       "  color: var(--sklearn-color-text);\n",
       "  background-color: var(--sklearn-color-unfitted-level-2);\n",
       "}\n",
       "\n",
       "/* Label box, darken color on hover, fitted */\n",
       "#sk-container-id-1 div.sk-label.fitted:hover label.sk-toggleable__label.fitted {\n",
       "  color: var(--sklearn-color-text);\n",
       "  background-color: var(--sklearn-color-fitted-level-2);\n",
       "}\n",
       "\n",
       "/* Estimator label */\n",
       "\n",
       "#sk-container-id-1 div.sk-label label {\n",
       "  font-family: monospace;\n",
       "  font-weight: bold;\n",
       "  display: inline-block;\n",
       "  line-height: 1.2em;\n",
       "}\n",
       "\n",
       "#sk-container-id-1 div.sk-label-container {\n",
       "  text-align: center;\n",
       "}\n",
       "\n",
       "/* Estimator-specific */\n",
       "#sk-container-id-1 div.sk-estimator {\n",
       "  font-family: monospace;\n",
       "  border: 1px dotted var(--sklearn-color-border-box);\n",
       "  border-radius: 0.25em;\n",
       "  box-sizing: border-box;\n",
       "  margin-bottom: 0.5em;\n",
       "  /* unfitted */\n",
       "  background-color: var(--sklearn-color-unfitted-level-0);\n",
       "}\n",
       "\n",
       "#sk-container-id-1 div.sk-estimator.fitted {\n",
       "  /* fitted */\n",
       "  background-color: var(--sklearn-color-fitted-level-0);\n",
       "}\n",
       "\n",
       "/* on hover */\n",
       "#sk-container-id-1 div.sk-estimator:hover {\n",
       "  /* unfitted */\n",
       "  background-color: var(--sklearn-color-unfitted-level-2);\n",
       "}\n",
       "\n",
       "#sk-container-id-1 div.sk-estimator.fitted:hover {\n",
       "  /* fitted */\n",
       "  background-color: var(--sklearn-color-fitted-level-2);\n",
       "}\n",
       "\n",
       "/* Specification for estimator info (e.g. \"i\" and \"?\") */\n",
       "\n",
       "/* Common style for \"i\" and \"?\" */\n",
       "\n",
       ".sk-estimator-doc-link,\n",
       "a:link.sk-estimator-doc-link,\n",
       "a:visited.sk-estimator-doc-link {\n",
       "  float: right;\n",
       "  font-size: smaller;\n",
       "  line-height: 1em;\n",
       "  font-family: monospace;\n",
       "  background-color: var(--sklearn-color-background);\n",
       "  border-radius: 1em;\n",
       "  height: 1em;\n",
       "  width: 1em;\n",
       "  text-decoration: none !important;\n",
       "  margin-left: 0.5em;\n",
       "  text-align: center;\n",
       "  /* unfitted */\n",
       "  border: var(--sklearn-color-unfitted-level-1) 1pt solid;\n",
       "  color: var(--sklearn-color-unfitted-level-1);\n",
       "}\n",
       "\n",
       ".sk-estimator-doc-link.fitted,\n",
       "a:link.sk-estimator-doc-link.fitted,\n",
       "a:visited.sk-estimator-doc-link.fitted {\n",
       "  /* fitted */\n",
       "  border: var(--sklearn-color-fitted-level-1) 1pt solid;\n",
       "  color: var(--sklearn-color-fitted-level-1);\n",
       "}\n",
       "\n",
       "/* On hover */\n",
       "div.sk-estimator:hover .sk-estimator-doc-link:hover,\n",
       ".sk-estimator-doc-link:hover,\n",
       "div.sk-label-container:hover .sk-estimator-doc-link:hover,\n",
       ".sk-estimator-doc-link:hover {\n",
       "  /* unfitted */\n",
       "  background-color: var(--sklearn-color-unfitted-level-3);\n",
       "  color: var(--sklearn-color-background);\n",
       "  text-decoration: none;\n",
       "}\n",
       "\n",
       "div.sk-estimator.fitted:hover .sk-estimator-doc-link.fitted:hover,\n",
       ".sk-estimator-doc-link.fitted:hover,\n",
       "div.sk-label-container:hover .sk-estimator-doc-link.fitted:hover,\n",
       ".sk-estimator-doc-link.fitted:hover {\n",
       "  /* fitted */\n",
       "  background-color: var(--sklearn-color-fitted-level-3);\n",
       "  color: var(--sklearn-color-background);\n",
       "  text-decoration: none;\n",
       "}\n",
       "\n",
       "/* Span, style for the box shown on hovering the info icon */\n",
       ".sk-estimator-doc-link span {\n",
       "  display: none;\n",
       "  z-index: 9999;\n",
       "  position: relative;\n",
       "  font-weight: normal;\n",
       "  right: .2ex;\n",
       "  padding: .5ex;\n",
       "  margin: .5ex;\n",
       "  width: min-content;\n",
       "  min-width: 20ex;\n",
       "  max-width: 50ex;\n",
       "  color: var(--sklearn-color-text);\n",
       "  box-shadow: 2pt 2pt 4pt #999;\n",
       "  /* unfitted */\n",
       "  background: var(--sklearn-color-unfitted-level-0);\n",
       "  border: .5pt solid var(--sklearn-color-unfitted-level-3);\n",
       "}\n",
       "\n",
       ".sk-estimator-doc-link.fitted span {\n",
       "  /* fitted */\n",
       "  background: var(--sklearn-color-fitted-level-0);\n",
       "  border: var(--sklearn-color-fitted-level-3);\n",
       "}\n",
       "\n",
       ".sk-estimator-doc-link:hover span {\n",
       "  display: block;\n",
       "}\n",
       "\n",
       "/* \"?\"-specific style due to the `<a>` HTML tag */\n",
       "\n",
       "#sk-container-id-1 a.estimator_doc_link {\n",
       "  float: right;\n",
       "  font-size: 1rem;\n",
       "  line-height: 1em;\n",
       "  font-family: monospace;\n",
       "  background-color: var(--sklearn-color-background);\n",
       "  border-radius: 1rem;\n",
       "  height: 1rem;\n",
       "  width: 1rem;\n",
       "  text-decoration: none;\n",
       "  /* unfitted */\n",
       "  color: var(--sklearn-color-unfitted-level-1);\n",
       "  border: var(--sklearn-color-unfitted-level-1) 1pt solid;\n",
       "}\n",
       "\n",
       "#sk-container-id-1 a.estimator_doc_link.fitted {\n",
       "  /* fitted */\n",
       "  border: var(--sklearn-color-fitted-level-1) 1pt solid;\n",
       "  color: var(--sklearn-color-fitted-level-1);\n",
       "}\n",
       "\n",
       "/* On hover */\n",
       "#sk-container-id-1 a.estimator_doc_link:hover {\n",
       "  /* unfitted */\n",
       "  background-color: var(--sklearn-color-unfitted-level-3);\n",
       "  color: var(--sklearn-color-background);\n",
       "  text-decoration: none;\n",
       "}\n",
       "\n",
       "#sk-container-id-1 a.estimator_doc_link.fitted:hover {\n",
       "  /* fitted */\n",
       "  background-color: var(--sklearn-color-fitted-level-3);\n",
       "}\n",
       "</style><div id=\"sk-container-id-1\" class=\"sk-top-container\"><div class=\"sk-text-repr-fallback\"><pre>Pipeline(steps=[(&#x27;standardscaler&#x27;, StandardScaler()),\n",
       "                (&#x27;kneighborsregressor&#x27;, KNeighborsRegressor(n_neighbors=10))])</pre><b>In a Jupyter environment, please rerun this cell to show the HTML representation or trust the notebook. <br />On GitHub, the HTML representation is unable to render, please try loading this page with nbviewer.org.</b></div><div class=\"sk-container\" hidden><div class=\"sk-item sk-dashed-wrapped\"><div class=\"sk-label-container\"><div class=\"sk-label fitted sk-toggleable\"><input class=\"sk-toggleable__control sk-hidden--visually\" id=\"sk-estimator-id-1\" type=\"checkbox\" ><label for=\"sk-estimator-id-1\" class=\"sk-toggleable__label fitted sk-toggleable__label-arrow\"><div><div>Pipeline</div></div><div><a class=\"sk-estimator-doc-link fitted\" rel=\"noreferrer\" target=\"_blank\" href=\"https://scikit-learn.org/1.6/modules/generated/sklearn.pipeline.Pipeline.html\">?<span>Documentation for Pipeline</span></a><span class=\"sk-estimator-doc-link fitted\">i<span>Fitted</span></span></div></label><div class=\"sk-toggleable__content fitted\"><pre>Pipeline(steps=[(&#x27;standardscaler&#x27;, StandardScaler()),\n",
       "                (&#x27;kneighborsregressor&#x27;, KNeighborsRegressor(n_neighbors=10))])</pre></div> </div></div><div class=\"sk-serial\"><div class=\"sk-item\"><div class=\"sk-estimator fitted sk-toggleable\"><input class=\"sk-toggleable__control sk-hidden--visually\" id=\"sk-estimator-id-2\" type=\"checkbox\" ><label for=\"sk-estimator-id-2\" class=\"sk-toggleable__label fitted sk-toggleable__label-arrow\"><div><div>StandardScaler</div></div><div><a class=\"sk-estimator-doc-link fitted\" rel=\"noreferrer\" target=\"_blank\" href=\"https://scikit-learn.org/1.6/modules/generated/sklearn.preprocessing.StandardScaler.html\">?<span>Documentation for StandardScaler</span></a></div></label><div class=\"sk-toggleable__content fitted\"><pre>StandardScaler()</pre></div> </div></div><div class=\"sk-item\"><div class=\"sk-estimator fitted sk-toggleable\"><input class=\"sk-toggleable__control sk-hidden--visually\" id=\"sk-estimator-id-3\" type=\"checkbox\" ><label for=\"sk-estimator-id-3\" class=\"sk-toggleable__label fitted sk-toggleable__label-arrow\"><div><div>KNeighborsRegressor</div></div><div><a class=\"sk-estimator-doc-link fitted\" rel=\"noreferrer\" target=\"_blank\" href=\"https://scikit-learn.org/1.6/modules/generated/sklearn.neighbors.KNeighborsRegressor.html\">?<span>Documentation for KNeighborsRegressor</span></a></div></label><div class=\"sk-toggleable__content fitted\"><pre>KNeighborsRegressor(n_neighbors=10)</pre></div> </div></div></div></div></div></div>"
      ],
      "text/plain": [
       "Pipeline(steps=[('standardscaler', StandardScaler()),\n",
       "                ('kneighborsregressor', KNeighborsRegressor(n_neighbors=10))])"
      ]
     },
     "execution_count": 31,
     "metadata": {},
     "output_type": "execute_result"
    }
   ],
   "source": [
    "std_clf.fit(splits[0],np.ravel(splits[2]))\n",
    "\n",
    "#<xml xmlns=\"https://developers.google.com/blockly/xml\"><variables><variable id=\"`P)`+jl|;h{.[r}{78q6\">std_clf</variable><variable id=\"Zhzp)s*VL?V@ES3(j:*b\">np</variable><variable id=\"_ut$e0PL4OMi4o1MXTpw\">splits</variable></variables><block type=\"varDoMethod\" id=\"Z)$q-zn.KTC{+^l-wH6u\" x=\"-34\" y=\"159\"><mutation items=\"2\"></mutation><field name=\"VAR\" id=\"`P)`+jl|;h{.[r}{78q6\">std_clf</field><field name=\"MEMBER\">fit</field><data>std_clf:fit</data><value name=\"ADD0\"><block type=\"lists_getIndex\" id=\"C#,#1*rEm+]qEx?L1x[L\"><mutation statement=\"false\" at=\"true\"></mutation><field name=\"MODE\">GET</field><field name=\"WHERE\">FROM_START</field><value name=\"VALUE\"><block type=\"variables_get\" id=\"b_Sz{9#d7d=ystO|k?l_\"><field name=\"VAR\" id=\"_ut$e0PL4OMi4o1MXTpw\">splits</field></block></value><value name=\"AT\"><block type=\"math_number\" id=\":s{r1~S,,@.CSh#9`$R;\"><field name=\"NUM\">1</field></block></value></block></value><value name=\"ADD1\"><block type=\"varDoMethod\" id=\"zYBlZ,!^P^%Ib5R@Ch.H\"><mutation items=\"1\"></mutation><field name=\"VAR\" id=\"Zhzp)s*VL?V@ES3(j:*b\">np</field><field name=\"MEMBER\">ravel</field><data>np:ravel</data><value name=\"ADD0\"><block type=\"lists_getIndex\" id=\"^)UBt0jM;BnGmWeG7pw*\"><mutation statement=\"false\" at=\"true\"></mutation><field name=\"MODE\">GET</field><field name=\"WHERE\">FROM_START</field><value name=\"VALUE\"><block type=\"variables_get\" id=\"4Vo!*g]qQ=D}XtD2i39/\"><field name=\"VAR\" id=\"_ut$e0PL4OMi4o1MXTpw\">splits</field></block></value><value name=\"AT\"><block type=\"math_number\" id=\"RysCD3.C27sBxztz(T}2\"><field name=\"NUM\">3</field></block></value></block></value></block></value></block></xml>"
   ]
  },
  {
   "cell_type": "markdown",
   "metadata": {},
   "source": [
    "The final step is to predict house prices (median value of owner-occupied homes, in $1000s) using the test data:\n",
    "\n",
    "- Set `predictions` to with `std_clf` do `predict` using\n",
    "    - `in list splits get # 2` \n",
    "- `predictions` (to display)"
   ]
  },
  {
   "cell_type": "code",
   "execution_count": 32,
   "metadata": {
    "user_blocks": [
     "variables_set",
     "varDoMethod",
     "lists_getIndex",
     "variables_get",
     "math_number",
     "variables_get"
    ],
    "user_blocks_xml": "<xml xmlns=\"https://developers.google.com/blockly/xml\"><variables><variable id=\"5lkT$zi8W,`TXDny?Cv7\">predictions</variable><variable id=\"`P)`+jl|;h{.[r}{78q6\">std_clf</variable><variable id=\"_ut$e0PL4OMi4o1MXTpw\">splits</variable></variables><block type=\"variables_set\" id=\"NHw$/HH988vNLbZgn)CM\" x=\"-54\" y=\"190\"><field name=\"VAR\" id=\"5lkT$zi8W,`TXDny?Cv7\">predictions</field><value name=\"VALUE\"><block type=\"varDoMethod\" id=\"N}3ds6:i%0MtTA:(2im4\"><mutation items=\"1\"></mutation><field name=\"VAR\" id=\"`P)`+jl|;h{.[r}{78q6\">std_clf</field><field name=\"MEMBER\">predict</field><data>std_clf:predict</data><value name=\"ADD0\"><block type=\"lists_getIndex\" id=\"@lpyN+:CEcPQ#Q:Svm|9\"><mutation statement=\"false\" at=\"true\"></mutation><field name=\"MODE\">GET</field><field name=\"WHERE\">FROM_START</field><value name=\"VALUE\"><block type=\"variables_get\" id=\"ng))4fZyb@U1|eswo1}:\"><field name=\"VAR\" id=\"_ut$e0PL4OMi4o1MXTpw\">splits</field></block></value><value name=\"AT\"><block type=\"math_number\" id=\"Lo)w=2LL|Tf-L/gkeTdT\"><field name=\"NUM\">2</field></block></value></block></value></block></value></block><block type=\"variables_get\" id=\"hEVH$Cl8Tw9^=,@Ir([y\" x=\"-52\" y=\"280\"><field name=\"VAR\" id=\"5lkT$zi8W,`TXDny?Cv7\">predictions</field></block></xml>",
    "user_code_from_blocks": "predictions = std_clf.predict(splits[1])\n\npredictions\n"
   },
   "outputs": [
    {
     "data": {
      "text/plain": [
       "array([22.85, 22.2 , 25.43, 19.97, 20.5 , 17.62, 25.14, 21.19,  9.97,\n",
       "       14.86, 17.15, 39.75, 18.26, 24.44, 20.52, 30.31, 26.06, 20.45,\n",
       "       15.48, 23.26, 22.1 , 12.1 , 36.48, 11.85, 23.59, 22.94, 22.44,\n",
       "       24.89, 19.92, 22.66, 18.64, 17.2 , 30.09, 26.48, 34.79, 30.51,\n",
       "       22.13, 23.63, 17.86, 14.9 , 38.1 , 19.4 , 19.44, 17.11, 30.67,\n",
       "       23.8 , 27.24, 22.67, 26.38, 14.22, 25.12, 20.32, 20.71, 17.29,\n",
       "       38.1 , 20.11, 19.08, 18.86, 28.06, 23.13,  9.49, 28.59, 21.1 ,\n",
       "       23.77, 21.98, 19.66, 22.79, 18.9 , 37.52, 11.51, 18.26, 17.29,\n",
       "       16.82, 22.17, 23.33, 16.04, 24.22, 27.02, 14.84, 36.6 , 17.12,\n",
       "       17.29,  9.58, 14.94, 19.11, 28.71, 10.53, 22.62, 23.5 , 21.92,\n",
       "       26.  , 23.26, 23.52, 14.24, 17.2 , 23.08, 22.62, 24.4 , 20.36,\n",
       "       16.21, 15.59, 21.76])"
      ]
     },
     "execution_count": 32,
     "metadata": {},
     "output_type": "execute_result"
    }
   ],
   "source": [
    "predictions = std_clf.predict(splits[1])\n",
    "\n",
    "predictions\n",
    "\n",
    "#<xml xmlns=\"https://developers.google.com/blockly/xml\"><variables><variable id=\"5lkT$zi8W,`TXDny?Cv7\">predictions</variable><variable id=\"`P)`+jl|;h{.[r}{78q6\">std_clf</variable><variable id=\"_ut$e0PL4OMi4o1MXTpw\">splits</variable></variables><block type=\"variables_set\" id=\"NHw$/HH988vNLbZgn)CM\" x=\"-54\" y=\"190\"><field name=\"VAR\" id=\"5lkT$zi8W,`TXDny?Cv7\">predictions</field><value name=\"VALUE\"><block type=\"varDoMethod\" id=\"N}3ds6:i%0MtTA:(2im4\"><mutation items=\"1\"></mutation><field name=\"VAR\" id=\"`P)`+jl|;h{.[r}{78q6\">std_clf</field><field name=\"MEMBER\">predict</field><data>std_clf:predict</data><value name=\"ADD0\"><block type=\"lists_getIndex\" id=\"@lpyN+:CEcPQ#Q:Svm|9\"><mutation statement=\"false\" at=\"true\"></mutation><field name=\"MODE\">GET</field><field name=\"WHERE\">FROM_START</field><value name=\"VALUE\"><block type=\"variables_get\" id=\"ng))4fZyb@U1|eswo1}:\"><field name=\"VAR\" id=\"_ut$e0PL4OMi4o1MXTpw\">splits</field></block></value><value name=\"AT\"><block type=\"math_number\" id=\"Lo)w=2LL|Tf-L/gkeTdT\"><field name=\"NUM\">2</field></block></value></block></value></block></value></block><block type=\"variables_get\" id=\"hEVH$Cl8Tw9^=,@Ir([y\" x=\"-52\" y=\"280\"><field name=\"VAR\" id=\"5lkT$zi8W,`TXDny?Cv7\">predictions</field></block></xml>"
   ]
  },
  {
   "cell_type": "markdown",
   "metadata": {},
   "source": [
    "### Assessing the model"
   ]
  },
  {
   "cell_type": "markdown",
   "metadata": {},
   "source": [
    "Use the `sqrt` of `mean_squared_error` to calculate the root mean squared error (RMSE) between `Ytest` and our predictions:\n",
    "\n",
    "- `square root` of with `metrics` do `mean_squared_error` using\n",
    "    - `in list splits get # 4` \n",
    "    - `predictions`\n",
    "    \n",
    "Remember `square root` lives in the MATH menu."
   ]
  },
  {
   "cell_type": "code",
   "execution_count": 33,
   "metadata": {
    "user_blocks": [
     "math_single",
     "varDoMethod",
     "lists_getIndex",
     "variables_get",
     "math_number",
     "variables_get"
    ],
    "user_blocks_xml": "<xml xmlns=\"https://developers.google.com/blockly/xml\"><variables><variable id=\")}+w@N9iB/j=:+PLkMv8\">metrics</variable><variable id=\"5lkT$zi8W,`TXDny?Cv7\">predictions</variable><variable id=\"_ut$e0PL4OMi4o1MXTpw\">splits</variable></variables><block type=\"math_single\" id=\"K+~AfTut!=kX_{{*?zjq\" x=\"-102\" y=\"160\"><field name=\"OP\">ROOT</field><value name=\"NUM\"><block type=\"varDoMethod\" id=\"dtb+F,1WedaH`AXMNxY[\"><mutation items=\"2\"></mutation><field name=\"VAR\" id=\")}+w@N9iB/j=:+PLkMv8\">metrics</field><field name=\"MEMBER\">mean_squared_error</field><data>metrics:mean_squared_error</data><value name=\"ADD0\"><block type=\"lists_getIndex\" id=\"%Q5nelLnQN_U[o);kAqv\"><mutation statement=\"false\" at=\"true\"></mutation><field name=\"MODE\">GET</field><field name=\"WHERE\">FROM_START</field><value name=\"VALUE\"><block type=\"variables_get\" id=\"eCZagv7%IlQ;!+X*/wn7\"><field name=\"VAR\" id=\"_ut$e0PL4OMi4o1MXTpw\">splits</field></block></value><value name=\"AT\"><block type=\"math_number\" id=\"+UoB2X],lB*~xVCJOMRM\"><field name=\"NUM\">4</field></block></value></block></value><value name=\"ADD1\"><block type=\"variables_get\" id=\"Y`5[z@^QpYeXO!b/zuki\"><field name=\"VAR\" id=\"5lkT$zi8W,`TXDny?Cv7\">predictions</field></block></value></block></value></block></xml>",
    "user_code_from_blocks": "\nimport math\n\n\nmath.sqrt(metrics.mean_squared_error(splits[3],predictions))\n"
   },
   "outputs": [
    {
     "data": {
      "text/plain": [
       "4.221031608876823"
      ]
     },
     "execution_count": 33,
     "metadata": {},
     "output_type": "execute_result"
    }
   ],
   "source": [
    "\n",
    "import math\n",
    "\n",
    "\n",
    "math.sqrt(metrics.mean_squared_error(splits[3],predictions))\n",
    "\n",
    "#<xml xmlns=\"https://developers.google.com/blockly/xml\"><variables><variable id=\")}+w@N9iB/j=:+PLkMv8\">metrics</variable><variable id=\"5lkT$zi8W,`TXDny?Cv7\">predictions</variable><variable id=\"_ut$e0PL4OMi4o1MXTpw\">splits</variable></variables><block type=\"math_single\" id=\"K+~AfTut!=kX_{{*?zjq\" x=\"-102\" y=\"160\"><field name=\"OP\">ROOT</field><value name=\"NUM\"><block type=\"varDoMethod\" id=\"dtb+F,1WedaH`AXMNxY[\"><mutation items=\"2\"></mutation><field name=\"VAR\" id=\")}+w@N9iB/j=:+PLkMv8\">metrics</field><field name=\"MEMBER\">mean_squared_error</field><data>metrics:mean_squared_error</data><value name=\"ADD0\"><block type=\"lists_getIndex\" id=\"%Q5nelLnQN_U[o);kAqv\"><mutation statement=\"false\" at=\"true\"></mutation><field name=\"MODE\">GET</field><field name=\"WHERE\">FROM_START</field><value name=\"VALUE\"><block type=\"variables_get\" id=\"eCZagv7%IlQ;!+X*/wn7\"><field name=\"VAR\" id=\"_ut$e0PL4OMi4o1MXTpw\">splits</field></block></value><value name=\"AT\"><block type=\"math_number\" id=\"+UoB2X],lB*~xVCJOMRM\"><field name=\"NUM\">4</field></block></value></block></value><value name=\"ADD1\"><block type=\"variables_get\" id=\"Y`5[z@^QpYeXO!b/zuki\"><field name=\"VAR\" id=\"5lkT$zi8W,`TXDny?Cv7\">predictions</field></block></value></block></value></block></xml>"
   ]
  },
  {
   "cell_type": "markdown",
   "metadata": {},
   "source": [
    "If you have the time, try taking the scaler stage out of the pipeline, train the model, and assess it.\n",
    "You should find that your RMSE about doubled without the scaling."
   ]
  },
  {
   "cell_type": "markdown",
   "metadata": {},
   "source": [
    "### Finding the optimal K"
   ]
  },
  {
   "cell_type": "markdown",
   "metadata": {},
   "source": [
    "In figures 1-5 above, we saw how different values of K affect the shape of the line in KNN regression.\n",
    "Both small values of K and large values of K don't seem very good.\n",
    "Instead we want a K that is \"just right,\" somewhere in the middle.\n",
    "\n",
    "One way to find the optimal K is to train models for a range of K values, say 1 to 100.\n",
    "It would take you a long time to do this, even copy/pasting the code above!\n",
    "\n",
    "To make this kind of task doable, we're going to introduce a basic programming concept called a loop (see the LOOPS menu).\n",
    "But don't be fooled, even though loops are basic, they are one of the hardest things to understand in programming.\n",
    "\n",
    "The basic idea of a loop is that you create a template of the thing you want to do many times, and you put that template inside the loop.\n",
    "Then you have a few values that change depending on the *iteration* of the loop.\n",
    "\n",
    "Let's look a simple example, a loop that prints the numbers 1 to 3:\n",
    "\n",
    "- Get the **green** `for each item i in list` block\n",
    "- To its right, attach a list containing 1, 2, and 3\n",
    "- Inside the loop block, put `print i`"
   ]
  },
  {
   "cell_type": "code",
   "execution_count": 34,
   "metadata": {
    "user_blocks": [
     "controls_forEach",
     "lists_create_with",
     "math_number",
     "math_number",
     "math_number",
     "text_print",
     "variables_get"
    ],
    "user_blocks_xml": "<xml xmlns=\"https://developers.google.com/blockly/xml\"><variables><variable id=\"eV4EZ~~D[TKTsoJ=Y9i/\">i</variable></variables><block type=\"controls_forEach\" id=\"FQ8X,Yn$Q`D}l2yQmxgn\" x=\"99\" y=\"276\"><field name=\"VAR\" id=\"eV4EZ~~D[TKTsoJ=Y9i/\">i</field><value name=\"LIST\"><block type=\"lists_create_with\" id=\"gJi:5JuudMItfG.a90l7\"><mutation items=\"3\"></mutation><value name=\"ADD0\"><block type=\"math_number\" id=\"x%u{x?:sZy@{o?3py;AZ\"><field name=\"NUM\">1</field></block></value><value name=\"ADD1\"><block type=\"math_number\" id=\"8uQpfZhd]$_:!+h{X+gX\"><field name=\"NUM\">2</field></block></value><value name=\"ADD2\"><block type=\"math_number\" id=\"Y@I~L`X)g,BYB$-Yk;i_\"><field name=\"NUM\">3</field></block></value></block></value><statement name=\"DO\"><block type=\"text_print\" id=\"GOAMMS}Lq-d0X-vGEKQn\"><value name=\"TEXT\"><shadow type=\"text\" id=\"$wPTCb2SBOUHe@SW]e-A\"><field name=\"TEXT\">abc</field></shadow><block type=\"variables_get\" id=\"$;paAJN}M27hOi7BpPVE\"><field name=\"VAR\" id=\"eV4EZ~~D[TKTsoJ=Y9i/\">i</field></block></value></block></statement></block></xml>",
    "user_code_from_blocks": "for i in [1, 2, 3]:\n  print(i)\n"
   },
   "outputs": [
    {
     "name": "stdout",
     "output_type": "stream",
     "text": [
      "1\n",
      "2\n",
      "3\n"
     ]
    }
   ],
   "source": [
    "for i in [1, 2, 3]:\n",
    "  print(i)\n",
    "\n",
    "#<xml xmlns=\"https://developers.google.com/blockly/xml\"><variables><variable id=\"eV4EZ~~D[TKTsoJ=Y9i/\">i</variable></variables><block type=\"controls_forEach\" id=\"FQ8X,Yn$Q`D}l2yQmxgn\" x=\"99\" y=\"276\"><field name=\"VAR\" id=\"eV4EZ~~D[TKTsoJ=Y9i/\">i</field><value name=\"LIST\"><block type=\"lists_create_with\" id=\"gJi:5JuudMItfG.a90l7\"><mutation items=\"3\"></mutation><value name=\"ADD0\"><block type=\"math_number\" id=\"x%u{x?:sZy@{o?3py;AZ\"><field name=\"NUM\">1</field></block></value><value name=\"ADD1\"><block type=\"math_number\" id=\"8uQpfZhd]$_:!+h{X+gX\"><field name=\"NUM\">2</field></block></value><value name=\"ADD2\"><block type=\"math_number\" id=\"Y@I~L`X)g,BYB$-Yk;i_\"><field name=\"NUM\">3</field></block></value></block></value><statement name=\"DO\"><block type=\"text_print\" id=\"GOAMMS}Lq-d0X-vGEKQn\"><value name=\"TEXT\"><shadow type=\"text\" id=\"$wPTCb2SBOUHe@SW]e-A\"><field name=\"TEXT\">abc</field></shadow><block type=\"variables_get\" id=\"$;paAJN}M27hOi7BpPVE\"><field name=\"VAR\" id=\"eV4EZ~~D[TKTsoJ=Y9i/\">i</field></block></value></block></statement></block></xml>"
   ]
  },
  {
   "cell_type": "markdown",
   "metadata": {},
   "source": [
    "In this example:\n",
    "\n",
    "- `print i` is our template\n",
    "- `i` changes at each iteration of the loop to the next thing in the list\n",
    "\n",
    "Next, we're going to follow the same logic, but instead of just printing inside the loop, we will build a KNN regression and print out its RMSE.\n",
    "\n",
    "<!-- First, the imports:\n",
    "\n",
    "- `import plotly.graph_objects as go` -->"
   ]
  },
  {
   "attachments": {
    "image.png": {
     "image/png": "[encoded data removed]"
    }
   },
   "cell_type": "markdown",
   "metadata": {},
   "source": [
    "Here are the steps (use blocks to code after each step to save your work):\n",
    "\n",
    "- Get the **green** `for each item j in list` block and attach a list containing 1, 10, 25, 50, 100, and 250\n",
    "- Copy the entire `std_clf` block (that makes the pipeline) and put it inside the loop\n",
    "- Change the freestyle `n_neighbors = 10` to `n_neighbors = j`\n",
    "- Copy the entire `std_clf.fit` block (that trains the pipeline) attach a freestyle to the front of it (see below) and put it in the loop (this adapter block lets you but `std_clf.fit` in the loop block)\n",
    "\n",
    "![image.png](attachment:image.png)\n",
    "- Copy the entire `predictions` block (that does the prediction) and put it inside the loop\n",
    "- Create a variable `rmse` and set it to the entire `square root` block and put it inside the loop\n",
    "- Inside the loop do `print` `create text with`\n",
    "    - `j`\n",
    "    - `\":\"`\n",
    "    - `rmse`\n",
    "    \n",
    "**In each of the above steps, when you put something in the loop, it goes below the block from the previous step**"
   ]
  },
  {
   "cell_type": "code",
   "execution_count": 35,
   "metadata": {
    "user_blocks": [
     "controls_forEach",
     "lists_create_with",
     "math_number",
     "math_number",
     "math_number",
     "math_number",
     "math_number",
     "math_number",
     "variables_set",
     "varDoMethod",
     "varCreateObject",
     "varCreateObject",
     "dummyOutputCodeBlock",
     "valueNoOutputCodeBlock",
     "varDoMethod",
     "lists_getIndex",
     "variables_get",
     "math_number",
     "varDoMethod",
     "lists_getIndex",
     "variables_get",
     "math_number",
     "variables_set",
     "varDoMethod",
     "lists_getIndex",
     "variables_get",
     "math_number",
     "variables_set",
     "math_single",
     "varDoMethod",
     "lists_getIndex",
     "variables_get",
     "math_number",
     "variables_get",
     "text_print",
     "text_join",
     "variables_get",
     "text",
     "variables_get"
    ],
    "user_blocks_xml": "<xml xmlns=\"https://developers.google.com/blockly/xml\"><variables><variable id=\"nr%W_%EA(*n$_f,PuH#c\">j</variable><variable id=\"`P)`+jl|;h{.[r}{78q6\">std_clf</variable><variable id=\"=z9KfSBWpoDS,oj-?yx,\">pipe</variable><variable id=\".T`xqZHAu7r0$MQ4s=Yg\">pp</variable><variable id=\"MvUG^P$o3=I*6/67?Rk:\">neighbors</variable><variable id=\"5lkT$zi8W,`TXDny?Cv7\">predictions</variable><variable id=\"Zhzp)s*VL?V@ES3(j:*b\">np</variable><variable id=\"RN+myW;vx){}Q0LuFA9y\">rmse</variable><variable id=\"_ut$e0PL4OMi4o1MXTpw\">splits</variable><variable id=\")}+w@N9iB/j=:+PLkMv8\">metrics</variable></variables><block type=\"controls_forEach\" id=\"MbWYZ/u3Q#+3*u`TM}ce\" x=\"-33\" y=\"25\"><field name=\"VAR\" id=\"nr%W_%EA(*n$_f,PuH#c\">j</field><value name=\"LIST\"><block type=\"lists_create_with\" id=\"Q6_EXa41T:y(.uy[pm.V\"><mutation items=\"6\"></mutation><value name=\"ADD0\"><block type=\"math_number\" id=\"+BJ@yT0IgJORgO^/))c~\"><field name=\"NUM\">1</field></block></value><value name=\"ADD1\"><block type=\"math_number\" id=\".~r[qy7$p-Jy_g:ACHYr\"><field name=\"NUM\">10</field></block></value><value name=\"ADD2\"><block type=\"math_number\" id=\"w!m`o}C;PB7OhYP5ZTq~\"><field name=\"NUM\">25</field></block></value><value name=\"ADD3\"><block type=\"math_number\" id=\"?!EK)M.j{u~@|;ytL|nd\"><field name=\"NUM\">50</field></block></value><value name=\"ADD4\"><block type=\"math_number\" id=\"cLtaU]#w-;S(sUq8pw/l\"><field name=\"NUM\">100</field></block></value><value name=\"ADD5\"><block type=\"math_number\" id=\"910qY[[4~4nziBPT;K+G\"><field name=\"NUM\">250</field></block></value></block></value><statement name=\"DO\"><block type=\"variables_set\" id=\"8APEX{xGs3Qz/$NzTFrY\"><field name=\"VAR\" id=\"`P)`+jl|;h{.[r}{78q6\">std_clf</field><value name=\"VALUE\"><block type=\"varDoMethod\" id=\"W=ep`rJjDXvsAV^R+NIG\"><mutation items=\"2\"></mutation><field name=\"VAR\" id=\"=z9KfSBWpoDS,oj-?yx,\">pipe</field><field name=\"MEMBER\">make_pipeline</field><data>pipe:make_pipeline</data><value name=\"ADD0\"><block type=\"varCreateObject\" id=\"ME+Z@t~BnN}LL22r%Hxt\"><mutation items=\"1\"></mutation><field name=\"VAR\" id=\".T`xqZHAu7r0$MQ4s=Yg\">pp</field><field name=\"MEMBER\">StandardScaler</field><data>pp:StandardScaler</data></block></value><value name=\"ADD1\"><block type=\"varCreateObject\" id=\"p=kmgsx6gSLD(RSPi]We\"><mutation items=\"1\"></mutation><field name=\"VAR\" id=\"MvUG^P$o3=I*6/67?Rk:\">neighbors</field><field name=\"MEMBER\">KNeighborsRegressor</field><data>neighbors:KNeighborsRegressor</data><value name=\"ADD0\"><block type=\"dummyOutputCodeBlock\" id=\"4*MO9`pDvGbjv^%|]#Jm\"><field name=\"CODE\">n_neighbors = j</field></block></value></block></value></block></value><next><block type=\"valueNoOutputCodeBlock\" id=\"b2$eeB}vA+APG9EY4RvG\"><field name=\"CODE\"></field><value name=\"INPUT\"><block type=\"varDoMethod\" id=\"!a#R5q~=+4G.fWQ-a:Ai\"><mutation items=\"2\"></mutation><field name=\"VAR\" id=\"`P)`+jl|;h{.[r}{78q6\">std_clf</field><field name=\"MEMBER\">fit</field><data>std_clf:fit</data><value name=\"ADD0\"><block type=\"lists_getIndex\" id=\"Bg)U?tUT/i!BuqI+~78i\"><mutation statement=\"false\" at=\"true\"></mutation><field name=\"MODE\">GET</field><field name=\"WHERE\">FROM_START</field><value name=\"VALUE\"><block type=\"variables_get\" id=\"J0_:T[7!I[/pre=^gqIw\"><field name=\"VAR\" id=\"_ut$e0PL4OMi4o1MXTpw\">splits</field></block></value><value name=\"AT\"><block type=\"math_number\" id=\"Jt|3]Id8E7gD7O}{bmrW\"><field name=\"NUM\">1</field></block></value></block></value><value name=\"ADD1\"><block type=\"varDoMethod\" id=\"7!WF{br/dCPJd;YQ:(Ik\"><mutation items=\"1\"></mutation><field name=\"VAR\" id=\"Zhzp)s*VL?V@ES3(j:*b\">np</field><field name=\"MEMBER\">ravel</field><data>np:ravel</data><value name=\"ADD0\"><block type=\"lists_getIndex\" id=\"p9_vm4JY1L*#.U$2H~(3\"><mutation statement=\"false\" at=\"true\"></mutation><field name=\"MODE\">GET</field><field name=\"WHERE\">FROM_START</field><value name=\"VALUE\"><block type=\"variables_get\" id=\"Ix.0Sy(FQ_=FtQZ`E7YO\"><field name=\"VAR\" id=\"_ut$e0PL4OMi4o1MXTpw\">splits</field></block></value><value name=\"AT\"><block type=\"math_number\" id=\"R!St?-]QDZB.6:gA5w9[\"><field name=\"NUM\">3</field></block></value></block></value></block></value></block></value><next><block type=\"variables_set\" id=\"}aopG5Di|aBV}PCsFRt|\"><field name=\"VAR\" id=\"5lkT$zi8W,`TXDny?Cv7\">predictions</field><value name=\"VALUE\"><block type=\"varDoMethod\" id=\"{!ML%F.iI.(gk.yKaKAo\"><mutation items=\"1\"></mutation><field name=\"VAR\" id=\"`P)`+jl|;h{.[r}{78q6\">std_clf</field><field name=\"MEMBER\">predict</field><data>std_clf:predict</data><value name=\"ADD0\"><block type=\"lists_getIndex\" id=\"NnMds!lCkgRZMy3GES4A\"><mutation statement=\"false\" at=\"true\"></mutation><field name=\"MODE\">GET</field><field name=\"WHERE\">FROM_START</field><value name=\"VALUE\"><block type=\"variables_get\" id=\"u{3q7m[%l/#e^qWs(A+$\"><field name=\"VAR\" id=\"_ut$e0PL4OMi4o1MXTpw\">splits</field></block></value><value name=\"AT\"><block type=\"math_number\" id=\"J=#ZnMxhAvm4we#*n[1u\"><field name=\"NUM\">2</field></block></value></block></value></block></value><next><block type=\"variables_set\" id=\"]Ea4cP;)eg*?FYSg,Hut\"><field name=\"VAR\" id=\"RN+myW;vx){}Q0LuFA9y\">rmse</field><value name=\"VALUE\"><block type=\"math_single\" id=\"Zj7qwunxC88s#@FHZp;o\"><field name=\"OP\">ROOT</field><value name=\"NUM\"><block type=\"varDoMethod\" id=\"7qLvGJ/o$}+](kkcy*!s\"><mutation items=\"2\"></mutation><field name=\"VAR\" id=\")}+w@N9iB/j=:+PLkMv8\">metrics</field><field name=\"MEMBER\">mean_squared_error</field><data>metrics:mean_squared_error</data><value name=\"ADD0\"><block type=\"lists_getIndex\" id=\"~=g?~X5=@%yq(ykF,@vT\"><mutation statement=\"false\" at=\"true\"></mutation><field name=\"MODE\">GET</field><field name=\"WHERE\">FROM_START</field><value name=\"VALUE\"><block type=\"variables_get\" id=\"p^5+}-qjm4#-sUjITW:U\"><field name=\"VAR\" id=\"_ut$e0PL4OMi4o1MXTpw\">splits</field></block></value><value name=\"AT\"><block type=\"math_number\" id=\"p+QpL(p9Fvb81#)=M#AO\"><field name=\"NUM\">4</field></block></value></block></value><value name=\"ADD1\"><block type=\"variables_get\" id=\"JlQHE,X|BqgbRt62iHR}\"><field name=\"VAR\" id=\"5lkT$zi8W,`TXDny?Cv7\">predictions</field></block></value></block></value></block></value><next><block type=\"text_print\" id=\"vG7/v1s~ddKS,]{?){9j\"><value name=\"TEXT\"><shadow type=\"text\" id=\"m]M`(:U/i~j@n/SHk!aE\"><field name=\"TEXT\">abc</field></shadow><block type=\"text_join\" id=\";i@2WV=j)URh;Nq30iJE\"><mutation items=\"3\"></mutation><value name=\"ADD0\"><block type=\"variables_get\" id=\"79Ugt/dg#lCaHOD+ufw=\"><field name=\"VAR\" id=\"nr%W_%EA(*n$_f,PuH#c\">j</field></block></value><value name=\"ADD1\"><block type=\"text\" id=\"2fUR/Sw-q*p=QW,%x7!;\"><field name=\"TEXT\">:</field></block></value><value name=\"ADD2\"><block type=\"variables_get\" id=\"Hz-2Ry[Go)mlv?{#UdM6\"><field name=\"VAR\" id=\"RN+myW;vx){}Q0LuFA9y\">rmse</field></block></value></block></value></block></next></block></next></block></next></block></next></block></statement></block></xml>",
    "user_code_from_blocks": "\nimport math\n\n\nfor j in [1, 10, 25, 50, 100, 250]:\n  std_clf = pipe.make_pipeline(pp.StandardScaler(),neighbors.KNeighborsRegressor(n_neighbors = j))\n  (std_clf.fit(splits[0],np.ravel(splits[2])))\n  predictions = std_clf.predict(splits[1])\n  rmse = math.sqrt(metrics.mean_squared_error(splits[3],predictions))\n  print(''.join([str(x) for x in [j, ':', rmse]]))\n"
   },
   "outputs": [
    {
     "name": "stdout",
     "output_type": "stream",
     "text": [
      "1:3.6501947302339164\n",
      "10:4.221031608876823\n",
      "25:4.771913678689374\n",
      "50:5.600732284054209\n",
      "100:6.489700576947396\n",
      "250:7.2604440389244065\n"
     ]
    }
   ],
   "source": [
    "\n",
    "import math\n",
    "\n",
    "\n",
    "for j in [1, 10, 25, 50, 100, 250]:\n",
    "  std_clf = pipe.make_pipeline(pp.StandardScaler(),neighbors.KNeighborsRegressor(n_neighbors = j))\n",
    "  (std_clf.fit(splits[0],np.ravel(splits[2])))\n",
    "  predictions = std_clf.predict(splits[1])\n",
    "  rmse = math.sqrt(metrics.mean_squared_error(splits[3],predictions))\n",
    "  print(''.join([str(x) for x in [j, ':', rmse]]))\n",
    "\n",
    "#<xml xmlns=\"https://developers.google.com/blockly/xml\"><variables><variable id=\"nr%W_%EA(*n$_f,PuH#c\">j</variable><variable id=\"`P)`+jl|;h{.[r}{78q6\">std_clf</variable><variable id=\"=z9KfSBWpoDS,oj-?yx,\">pipe</variable><variable id=\".T`xqZHAu7r0$MQ4s=Yg\">pp</variable><variable id=\"MvUG^P$o3=I*6/67?Rk:\">neighbors</variable><variable id=\"5lkT$zi8W,`TXDny?Cv7\">predictions</variable><variable id=\"Zhzp)s*VL?V@ES3(j:*b\">np</variable><variable id=\"RN+myW;vx){}Q0LuFA9y\">rmse</variable><variable id=\"_ut$e0PL4OMi4o1MXTpw\">splits</variable><variable id=\")}+w@N9iB/j=:+PLkMv8\">metrics</variable></variables><block type=\"controls_forEach\" id=\"MbWYZ/u3Q#+3*u`TM}ce\" x=\"-33\" y=\"25\"><field name=\"VAR\" id=\"nr%W_%EA(*n$_f,PuH#c\">j</field><value name=\"LIST\"><block type=\"lists_create_with\" id=\"Q6_EXa41T:y(.uy[pm.V\"><mutation items=\"6\"></mutation><value name=\"ADD0\"><block type=\"math_number\" id=\"+BJ@yT0IgJORgO^/))c~\"><field name=\"NUM\">1</field></block></value><value name=\"ADD1\"><block type=\"math_number\" id=\".~r[qy7$p-Jy_g:ACHYr\"><field name=\"NUM\">10</field></block></value><value name=\"ADD2\"><block type=\"math_number\" id=\"w!m`o}C;PB7OhYP5ZTq~\"><field name=\"NUM\">25</field></block></value><value name=\"ADD3\"><block type=\"math_number\" id=\"?!EK)M.j{u~@|;ytL|nd\"><field name=\"NUM\">50</field></block></value><value name=\"ADD4\"><block type=\"math_number\" id=\"cLtaU]#w-;S(sUq8pw/l\"><field name=\"NUM\">100</field></block></value><value name=\"ADD5\"><block type=\"math_number\" id=\"910qY[[4~4nziBPT;K+G\"><field name=\"NUM\">250</field></block></value></block></value><statement name=\"DO\"><block type=\"variables_set\" id=\"8APEX{xGs3Qz/$NzTFrY\"><field name=\"VAR\" id=\"`P)`+jl|;h{.[r}{78q6\">std_clf</field><value name=\"VALUE\"><block type=\"varDoMethod\" id=\"W=ep`rJjDXvsAV^R+NIG\"><mutation items=\"2\"></mutation><field name=\"VAR\" id=\"=z9KfSBWpoDS,oj-?yx,\">pipe</field><field name=\"MEMBER\">make_pipeline</field><data>pipe:make_pipeline</data><value name=\"ADD0\"><block type=\"varCreateObject\" id=\"ME+Z@t~BnN}LL22r%Hxt\"><mutation items=\"1\"></mutation><field name=\"VAR\" id=\".T`xqZHAu7r0$MQ4s=Yg\">pp</field><field name=\"MEMBER\">StandardScaler</field><data>pp:StandardScaler</data></block></value><value name=\"ADD1\"><block type=\"varCreateObject\" id=\"p=kmgsx6gSLD(RSPi]We\"><mutation items=\"1\"></mutation><field name=\"VAR\" id=\"MvUG^P$o3=I*6/67?Rk:\">neighbors</field><field name=\"MEMBER\">KNeighborsRegressor</field><data>neighbors:KNeighborsRegressor</data><value name=\"ADD0\"><block type=\"dummyOutputCodeBlock\" id=\"4*MO9`pDvGbjv^%|]#Jm\"><field name=\"CODE\">n_neighbors = j</field></block></value></block></value></block></value><next><block type=\"valueNoOutputCodeBlock\" id=\"b2$eeB}vA+APG9EY4RvG\"><field name=\"CODE\"></field><value name=\"INPUT\"><block type=\"varDoMethod\" id=\"!a#R5q~=+4G.fWQ-a:Ai\"><mutation items=\"2\"></mutation><field name=\"VAR\" id=\"`P)`+jl|;h{.[r}{78q6\">std_clf</field><field name=\"MEMBER\">fit</field><data>std_clf:fit</data><value name=\"ADD0\"><block type=\"lists_getIndex\" id=\"Bg)U?tUT/i!BuqI+~78i\"><mutation statement=\"false\" at=\"true\"></mutation><field name=\"MODE\">GET</field><field name=\"WHERE\">FROM_START</field><value name=\"VALUE\"><block type=\"variables_get\" id=\"J0_:T[7!I[/pre=^gqIw\"><field name=\"VAR\" id=\"_ut$e0PL4OMi4o1MXTpw\">splits</field></block></value><value name=\"AT\"><block type=\"math_number\" id=\"Jt|3]Id8E7gD7O}{bmrW\"><field name=\"NUM\">1</field></block></value></block></value><value name=\"ADD1\"><block type=\"varDoMethod\" id=\"7!WF{br/dCPJd;YQ:(Ik\"><mutation items=\"1\"></mutation><field name=\"VAR\" id=\"Zhzp)s*VL?V@ES3(j:*b\">np</field><field name=\"MEMBER\">ravel</field><data>np:ravel</data><value name=\"ADD0\"><block type=\"lists_getIndex\" id=\"p9_vm4JY1L*#.U$2H~(3\"><mutation statement=\"false\" at=\"true\"></mutation><field name=\"MODE\">GET</field><field name=\"WHERE\">FROM_START</field><value name=\"VALUE\"><block type=\"variables_get\" id=\"Ix.0Sy(FQ_=FtQZ`E7YO\"><field name=\"VAR\" id=\"_ut$e0PL4OMi4o1MXTpw\">splits</field></block></value><value name=\"AT\"><block type=\"math_number\" id=\"R!St?-]QDZB.6:gA5w9[\"><field name=\"NUM\">3</field></block></value></block></value></block></value></block></value><next><block type=\"variables_set\" id=\"}aopG5Di|aBV}PCsFRt|\"><field name=\"VAR\" id=\"5lkT$zi8W,`TXDny?Cv7\">predictions</field><value name=\"VALUE\"><block type=\"varDoMethod\" id=\"{!ML%F.iI.(gk.yKaKAo\"><mutation items=\"1\"></mutation><field name=\"VAR\" id=\"`P)`+jl|;h{.[r}{78q6\">std_clf</field><field name=\"MEMBER\">predict</field><data>std_clf:predict</data><value name=\"ADD0\"><block type=\"lists_getIndex\" id=\"NnMds!lCkgRZMy3GES4A\"><mutation statement=\"false\" at=\"true\"></mutation><field name=\"MODE\">GET</field><field name=\"WHERE\">FROM_START</field><value name=\"VALUE\"><block type=\"variables_get\" id=\"u{3q7m[%l/#e^qWs(A+$\"><field name=\"VAR\" id=\"_ut$e0PL4OMi4o1MXTpw\">splits</field></block></value><value name=\"AT\"><block type=\"math_number\" id=\"J=#ZnMxhAvm4we#*n[1u\"><field name=\"NUM\">2</field></block></value></block></value></block></value><next><block type=\"variables_set\" id=\"]Ea4cP;)eg*?FYSg,Hut\"><field name=\"VAR\" id=\"RN+myW;vx){}Q0LuFA9y\">rmse</field><value name=\"VALUE\"><block type=\"math_single\" id=\"Zj7qwunxC88s#@FHZp;o\"><field name=\"OP\">ROOT</field><value name=\"NUM\"><block type=\"varDoMethod\" id=\"7qLvGJ/o$}+](kkcy*!s\"><mutation items=\"2\"></mutation><field name=\"VAR\" id=\")}+w@N9iB/j=:+PLkMv8\">metrics</field><field name=\"MEMBER\">mean_squared_error</field><data>metrics:mean_squared_error</data><value name=\"ADD0\"><block type=\"lists_getIndex\" id=\"~=g?~X5=@%yq(ykF,@vT\"><mutation statement=\"false\" at=\"true\"></mutation><field name=\"MODE\">GET</field><field name=\"WHERE\">FROM_START</field><value name=\"VALUE\"><block type=\"variables_get\" id=\"p^5+}-qjm4#-sUjITW:U\"><field name=\"VAR\" id=\"_ut$e0PL4OMi4o1MXTpw\">splits</field></block></value><value name=\"AT\"><block type=\"math_number\" id=\"p+QpL(p9Fvb81#)=M#AO\"><field name=\"NUM\">4</field></block></value></block></value><value name=\"ADD1\"><block type=\"variables_get\" id=\"JlQHE,X|BqgbRt62iHR}\"><field name=\"VAR\" id=\"5lkT$zi8W,`TXDny?Cv7\">predictions</field></block></value></block></value></block></value><next><block type=\"text_print\" id=\"vG7/v1s~ddKS,]{?){9j\"><value name=\"TEXT\"><shadow type=\"text\" id=\"m]M`(:U/i~j@n/SHk!aE\"><field name=\"TEXT\">abc</field></shadow><block type=\"text_join\" id=\";i@2WV=j)URh;Nq30iJE\"><mutation items=\"3\"></mutation><value name=\"ADD0\"><block type=\"variables_get\" id=\"79Ugt/dg#lCaHOD+ufw=\"><field name=\"VAR\" id=\"nr%W_%EA(*n$_f,PuH#c\">j</field></block></value><value name=\"ADD1\"><block type=\"text\" id=\"2fUR/Sw-q*p=QW,%x7!;\"><field name=\"TEXT\">:</field></block></value><value name=\"ADD2\"><block type=\"variables_get\" id=\"Hz-2Ry[Go)mlv?{#UdM6\"><field name=\"VAR\" id=\"RN+myW;vx){}Q0LuFA9y\">rmse</field></block></value></block></value></block></next></block></next></block></next></block></next></block></statement></block></xml>"
   ]
  },
  {
   "cell_type": "markdown",
   "metadata": {},
   "source": [
    "The optimal K (in terms of rmse) is 10 for me, but may be different for you depending on your data split.\n",
    "This is an example of what is sometimes called an *elbow*: errors start and end high, but have a distinct minimum somewhere in between."
   ]
  },
  {
   "cell_type": "markdown",
   "metadata": {},
   "source": [
    "### Plotting the data and the model predictions\n",
    "\n",
    "Previously we used a scatterplot to examine the relationship between percent of lower status (`lstat`) and the value of a home (`medv`). \n",
    "Although our model uses many other predictors, we can only easily plot one of them (e.g. `lstat`) against `medv` at a time, because scatterplots are 2D.\n",
    "\n",
    "However, we can still plot our predictions, which are based on all predictor features, on the same 2D plot.\n",
    "This allows us to look at the model's fit, at least with respect to the one dimension of `lstat`.\n",
    "\n",
    "To do this, we need to import a more sophisticated part of `plotly` called `graph_objects`:\n",
    "\n",
    "- `import plotly.graph_objects as go`"
   ]
  },
  {
   "cell_type": "code",
   "execution_count": 36,
   "metadata": {
    "user_blocks": [
     "importAs"
    ],
    "user_blocks_xml": "<xml xmlns=\"https://developers.google.com/blockly/xml\"><variables><variable id=\"`iml3^SQ8#}M{aSRdsjz\">go</variable></variables><block type=\"importAs\" id=\"I=D{X(f@]J?iDq8EKrNP\" x=\"65\" y=\"163\"><field name=\"libraryName\">plotly.graph_objects</field><field name=\"VAR\" id=\"`iml3^SQ8#}M{aSRdsjz\">go</field></block></xml>",
    "user_code_from_blocks": "import plotly.graph_objects as go\n"
   },
   "outputs": [],
   "source": [
    "import plotly.graph_objects as go\n",
    "\n",
    "#<xml xmlns=\"https://developers.google.com/blockly/xml\"><variables><variable id=\"`iml3^SQ8#}M{aSRdsjz\">go</variable></variables><block type=\"importAs\" id=\"I=D{X(f@]J?iDq8EKrNP\" x=\"65\" y=\"163\"><field name=\"libraryName\">plotly.graph_objects</field><field name=\"VAR\" id=\"`iml3^SQ8#}M{aSRdsjz\">go</field></block></xml>"
   ]
  },
  {
   "cell_type": "markdown",
   "metadata": {},
   "source": [
    "The way `go` works is that we first create an *empty* figure, then we add data to it in layers.\n",
    "This is in contrast to `px`, where we created the figure and added data all at once.\n",
    "\n",
    "To create the empty figure:\n",
    "\n",
    "- Set `fig` to with `go` create `Figure`"
   ]
  },
  {
   "cell_type": "code",
   "execution_count": 37,
   "metadata": {
    "user_blocks": [
     "variables_set",
     "varCreateObject"
    ],
    "user_blocks_xml": "<xml xmlns=\"https://developers.google.com/blockly/xml\"><variables><variable id=\"@U5l^JIp,}.H=ECCW?@g\">fig</variable><variable id=\"`iml3^SQ8#}M{aSRdsjz\">go</variable></variables><block type=\"variables_set\" id=\"jhv+dBJpS#?]Xz;mB/y}\" x=\"63\" y=\"341\"><field name=\"VAR\" id=\"@U5l^JIp,}.H=ECCW?@g\">fig</field><value name=\"VALUE\"><block type=\"varCreateObject\" id=\"U[~m;7}PfW266d{R4B_w\"><mutation items=\"1\"></mutation><field name=\"VAR\" id=\"`iml3^SQ8#}M{aSRdsjz\">go</field><field name=\"MEMBER\">Figure</field><data>go:Figure</data></block></value></block></xml>",
    "user_code_from_blocks": "fig = go.Figure()\n"
   },
   "outputs": [],
   "source": [
    "fig = go.Figure()\n",
    "\n",
    "#<xml xmlns=\"https://developers.google.com/blockly/xml\"><variables><variable id=\"@U5l^JIp,}.H=ECCW?@g\">fig</variable><variable id=\"`iml3^SQ8#}M{aSRdsjz\">go</variable></variables><block type=\"variables_set\" id=\"jhv+dBJpS#?]Xz;mB/y}\" x=\"63\" y=\"341\"><field name=\"VAR\" id=\"@U5l^JIp,}.H=ECCW?@g\">fig</field><value name=\"VALUE\"><block type=\"varCreateObject\" id=\"U[~m;7}PfW266d{R4B_w\"><mutation items=\"1\"></mutation><field name=\"VAR\" id=\"`iml3^SQ8#}M{aSRdsjz\">go</field><field name=\"MEMBER\">Figure</field><data>go:Figure</data></block></value></block></xml>"
   ]
  },
  {
   "cell_type": "markdown",
   "metadata": {},
   "source": [
    "Now we need to add two kinds of data to `fig`:\n",
    "\n",
    "- The test data (both `Xtest` and `Ytest` from `split`\n",
    "- The predictions (both `Xtest` and `predictions`\n",
    "\n",
    "Each of these can be done with the function `add_trace`.\n",
    "However, notice the both times we need just a column from `Xtest`, not the whole thing.\n",
    "So we need to get the `lstat` column on its own first.\n",
    "\n",
    "Here are the steps:\n",
    "\n",
    "**Getting `lstat` out of `splits`**\n",
    "- Set `Xtest` to `in list splits get # 2`\n",
    "- Set `lstat` to `Xtest [` a list containing `\"lstat\"` `]`"
   ]
  },
  {
   "cell_type": "code",
   "execution_count": 38,
   "metadata": {
    "user_blocks": [
     "variables_set",
     "lists_getIndex",
     "variables_get",
     "math_number",
     "variables_set",
     "indexer",
     "lists_create_with",
     "text"
    ],
    "user_blocks_xml": "<xml xmlns=\"https://developers.google.com/blockly/xml\"><variables><variable id=\"fe.98]:,bU@x*=}zaJ1/\">Xtest</variable><variable id=\"rVUZld`HfW,n/PC{X!9-\">lstat</variable><variable id=\"_ut$e0PL4OMi4o1MXTpw\">splits</variable></variables><block type=\"variables_set\" id=\"Q=9pQHE7F@.Gw^K.L-dt\" x=\"11\" y=\"385\"><field name=\"VAR\" id=\"fe.98]:,bU@x*=}zaJ1/\">Xtest</field><value name=\"VALUE\"><block type=\"lists_getIndex\" id=\"57k*lJ0;vmKpSg*!H`]8\"><mutation statement=\"false\" at=\"true\"></mutation><field name=\"MODE\">GET</field><field name=\"WHERE\">FROM_START</field><value name=\"VALUE\"><block type=\"variables_get\" id=\"F4hyTfPiqx9)S?z+xUIq\"><field name=\"VAR\" id=\"_ut$e0PL4OMi4o1MXTpw\">splits</field></block></value><value name=\"AT\"><block type=\"math_number\" id=\"|irh~@jIqN~E)ZBhA5j/\"><field name=\"NUM\">2</field></block></value></block></value><next><block type=\"variables_set\" id=\"%B!g^jAyg[JC}a?Gd;]2\"><field name=\"VAR\" id=\"rVUZld`HfW,n/PC{X!9-\">lstat</field><value name=\"VALUE\"><block type=\"indexer\" id=\"L]ClG49hl?`v1EmAZY)h\"><field name=\"VAR\" id=\"fe.98]:,bU@x*=}zaJ1/\">Xtest</field><value name=\"INDEX\"><block type=\"lists_create_with\" id=\",YhZdkj[DdlL=cwFv4FA\"><mutation items=\"1\"></mutation><value name=\"ADD0\"><block type=\"text\" id=\"opa@$sxEyy6xpto~juJ:\"><field name=\"TEXT\">lstat</field></block></value></block></value></block></value></block></next></block></xml>",
    "user_code_from_blocks": "Xtest = splits[1]\nlstat = Xtest[['lstat']]\n"
   },
   "outputs": [],
   "source": [
    "Xtest = splits[1]\n",
    "lstat = Xtest[['lstat']]\n",
    "\n",
    "#<xml xmlns=\"https://developers.google.com/blockly/xml\"><variables><variable id=\"fe.98]:,bU@x*=}zaJ1/\">Xtest</variable><variable id=\"rVUZld`HfW,n/PC{X!9-\">lstat</variable><variable id=\"_ut$e0PL4OMi4o1MXTpw\">splits</variable></variables><block type=\"variables_set\" id=\"Q=9pQHE7F@.Gw^K.L-dt\" x=\"11\" y=\"385\"><field name=\"VAR\" id=\"fe.98]:,bU@x*=}zaJ1/\">Xtest</field><value name=\"VALUE\"><block type=\"lists_getIndex\" id=\"57k*lJ0;vmKpSg*!H`]8\"><mutation statement=\"false\" at=\"true\"></mutation><field name=\"MODE\">GET</field><field name=\"WHERE\">FROM_START</field><value name=\"VALUE\"><block type=\"variables_get\" id=\"F4hyTfPiqx9)S?z+xUIq\"><field name=\"VAR\" id=\"_ut$e0PL4OMi4o1MXTpw\">splits</field></block></value><value name=\"AT\"><block type=\"math_number\" id=\"|irh~@jIqN~E)ZBhA5j/\"><field name=\"NUM\">2</field></block></value></block></value><next><block type=\"variables_set\" id=\"%B!g^jAyg[JC}a?Gd;]2\"><field name=\"VAR\" id=\"rVUZld`HfW,n/PC{X!9-\">lstat</field><value name=\"VALUE\"><block type=\"indexer\" id=\"L]ClG49hl?`v1EmAZY)h\"><field name=\"VAR\" id=\"fe.98]:,bU@x*=}zaJ1/\">Xtest</field><value name=\"INDEX\"><block type=\"lists_create_with\" id=\",YhZdkj[DdlL=cwFv4FA\"><mutation items=\"1\"></mutation><value name=\"ADD0\"><block type=\"text\" id=\"opa@$sxEyy6xpto~juJ:\"><field name=\"TEXT\">lstat</field></block></value></block></value></block></value></block></next></block></xml>"
   ]
  },
  {
   "attachments": {
    "image.png": {
     "image/png": "[encoded data removed]"
    }
   },
   "cell_type": "markdown",
   "metadata": {},
   "source": [
    "**Adding scatterplot of observed data**\n",
    "- with `fig` do `add_scatter` using\n",
    "    - freestyle `x=` with `np` do `ravel` using \n",
    "        - `lstat`  (see image below for this freestyle)\n",
    "    - freestyle `y=` with `np` do `ravel` using\n",
    "        - `in list splits get # 4` \n",
    "    - freestyle `mode=\"markers\"`\n",
    "    - freestyle `name=\"observed\"`\n",
    "    - freestyle `line=dict(color='royalblue')`\n",
    "        \n",
    "![image.png](attachment:image.png)"
   ]
  },
  {
   "cell_type": "code",
   "execution_count": 39,
   "metadata": {
    "user_blocks": [
     "varDoMethod",
     "valueOutputCodeBlock",
     "varDoMethod",
     "variables_get",
     "valueOutputCodeBlock",
     "varDoMethod",
     "lists_getIndex",
     "variables_get",
     "math_number",
     "dummyOutputCodeBlock",
     "dummyOutputCodeBlock",
     "dummyOutputCodeBlock"
    ],
    "user_blocks_xml": "<xml xmlns=\"https://developers.google.com/blockly/xml\"><variables><variable id=\"@U5l^JIp,}.H=ECCW?@g\">fig</variable><variable id=\"Zhzp)s*VL?V@ES3(j:*b\">np</variable><variable id=\"rVUZld`HfW,n/PC{X!9-\">lstat</variable><variable id=\"_ut$e0PL4OMi4o1MXTpw\">splits</variable></variables><block type=\"varDoMethod\" id=\"qZ|Z9.ijg3CRAUbY+PrR\" x=\"86\" y=\"199\"><mutation items=\"5\"></mutation><field name=\"VAR\" id=\"@U5l^JIp,}.H=ECCW?@g\">fig</field><field name=\"MEMBER\">add_scatter</field><data>fig:add_scatter</data><value name=\"ADD0\"><block type=\"valueOutputCodeBlock\" id=\"RTv-p{TaUq@4_58RZB%1\"><field name=\"CODE\">x=</field><value name=\"INPUT\"><block type=\"varDoMethod\" id=\"j8@mjp~f?I7StnE+y$s,\"><mutation items=\"1\"></mutation><field name=\"VAR\" id=\"Zhzp)s*VL?V@ES3(j:*b\">np</field><field name=\"MEMBER\">ravel</field><data>np:ravel</data><value name=\"ADD0\"><block type=\"variables_get\" id=\"AMp#2-apaCBpWlKv]`Ce\"><field name=\"VAR\" id=\"rVUZld`HfW,n/PC{X!9-\">lstat</field></block></value></block></value></block></value><value name=\"ADD1\"><block type=\"valueOutputCodeBlock\" id=\"6m0G+-^kfR]Eenvpo/EG\"><field name=\"CODE\">y=</field><value name=\"INPUT\"><block type=\"varDoMethod\" id=\"zhmXZDw$a:+3N3Ku8QiP\"><mutation items=\"1\"></mutation><field name=\"VAR\" id=\"Zhzp)s*VL?V@ES3(j:*b\">np</field><field name=\"MEMBER\">ravel</field><data>np:ravel</data><value name=\"ADD0\"><block type=\"lists_getIndex\" id=\"5qTOTBSLB=NE^C6_*08?\"><mutation statement=\"false\" at=\"true\"></mutation><field name=\"MODE\">GET</field><field name=\"WHERE\">FROM_START</field><value name=\"VALUE\"><block type=\"variables_get\" id=\"?wwsU(;W7Ij?5fbx}|^2\"><field name=\"VAR\" id=\"_ut$e0PL4OMi4o1MXTpw\">splits</field></block></value><value name=\"AT\"><block type=\"math_number\" id=\"+9|,kf=1_:].xRpoB|%Y\"><field name=\"NUM\">4</field></block></value></block></value></block></value></block></value><value name=\"ADD2\"><block type=\"dummyOutputCodeBlock\" id=\"Ht-!;BCPTD4b$ZLafodk\"><field name=\"CODE\">mode=\"markers\"</field></block></value><value name=\"ADD3\"><block type=\"dummyOutputCodeBlock\" id=\"0uhd2Bmdznda(paBhnX*\"><field name=\"CODE\">name=\"observed\" </field></block></value><value name=\"ADD4\"><block type=\"dummyOutputCodeBlock\" id=\"wfU8.|6m-r/a+Kct/[I[\"><field name=\"CODE\">line=dict(color='royalblue')</field></block></value></block></xml>",
    "user_code_from_blocks": "fig.add_scatter(x= (np.ravel(lstat)),y= (np.ravel(splits[3])),mode=\"markers\",name=\"observed\",line=dict(color='royalblue'))\n"
   },
   "outputs": [
    {
     "data": {
      "application/vnd.plotly.v1+json": {
       "config": {
        "plotlyServerURL": "https://plot.ly"
       },
       "data": [
        {
         "line": {
          "color": "royalblue"
         },
         "mode": "markers",
         "name": "observed",
         "type": "scatter",
         "x": {
          "bdata": "w/UoXI/CJUDsUbgehesaQArXo3A9iipAAAAAAAAAJ0BmZmZmZuYqQI/C9Shczz5A4XoUrkfhE0CuR+F6FK4vQHE9CtejsDdAw/UoXI/CMkAUrkfhepQkQClcj8L1KB9AZmZmZmbmJkA9CtejcD0aQK5H4XoULiJASOF6FK5HE0C4HoXrUbgdQArXo3A9iihAmpmZmZlZMkCF61G4HgUrQFyPwvUo3CJAFK5H4XoUOEAUrkfhehQOQIXrUbgeRTdA9ihcj8L1K0DhehSuR+EhQNejcD0KVyNAXI/C9ShcE0CuR+F6FC4qQArXo3A9iiRA16NwPQrXJED2KFyPwvUwQD0K16NwPRJA7FG4HoVrI0Bcj8L1KFwPQD0K16NwPRJAmpmZmZkZI0DNzMzMzMwkQBSuR+F6lDFA4XoUrkchMkCF61G4HoUSQIXrUbgehSBAzczMzMxMKkDNzMzMzEwtQK5H4XoUrgdASOF6FK4HMEDXo3A9CtcHQClcj8L1KB9APQrXo3A9DECF61G4HkUxQJqZmZmZGSBAhetRuB6FH0BxPQrXo/AjQIXrUbgehShAw/UoXI/CA0BxPQrXo3AnQPYoXI/C9SdA16NwPQoXMUC4HoXrUbgbQM3MzMzMTCdApHA9CtejOkApXI/C9SgUQPYoXI/CdSlA4XoUrkfhGkCamZmZmZktQOF6FK5H4SpArkfhehSuKED2KFyPwnUyQM3MzMzMzBFAexSuR+H6N0CuR+F6FK4qQDMzMzMzMylAKVyPwvUoH0CPwvUoXI8dQK5H4XoULiVA7FG4HoVrOkDXo3A9CtcYQAAAAAAAABJAmpmZmZmZNkB7FK5H4XoaQMP1KFyPQjtASOF6FK7HLkB7FK5H4fo2QK5H4XoUrjJACtejcD2KLEBSuB6F61EaQI/C9ShcL0FASOF6FK5HGkApXI/C9SgeQFK4HoXrUSJAKVyPwvUoGUB7FK5H4fo3QHE9Ctej8CJA16NwPQqXMECPwvUoXE8xQPYoXI/C9RVAXI/C9SjcIEDsUbgehesXQLgehetRuCxAj8L1KFyPKkBxPQrXo/AwQHE9CtejcCZA",
          "dtype": "f8"
         },
         "y": {
          "bdata": "AAAAAAAAOEAzMzMzMzM2QDMzMzMzszVAMzMzMzMzMEAzMzMzM7MzQM3MzMzMzCxAAAAAAACANkDNzMzMzEw0QDMzMzMzMypAMzMzMzMzN0AzMzMzMzM0QAAAAAAAAEJAmpmZmZmZNEAzMzMzMzM6QM3MzMzMzDNAMzMzMzPzQkCamZmZmRk4QM3MzMzMzDNAMzMzMzMzKkDNzMzMzEw3QAAAAAAAgDRAAAAAAAAAI0AzMzMzM7NGQM3MzMzMzCpAZmZmZmZmOkBmZmZmZmY1QGZmZmZmZjZAmpmZmZmZOkBmZmZmZmYxQM3MzMzMzDRAzczMzMzMNUCamZmZmRkyQDMzMzMzc0FAMzMzMzOzOkCamZmZmVlHQM3MzMzMzD1AMzMzMzMzNUAzMzMzM7M1QM3MzMzMzDJAMzMzMzMzLEAAAAAAAABJQGZmZmZmZjRAMzMzMzOzMkAzMzMzM7MxQAAAAAAAAElAZmZmZmZmNkAAAAAAAABAQJqZmZmZmTJAmpmZmZmZPUCamZmZmRkwQAAAAAAAAD1AzczMzMzMJ0DNzMzMzEw0QJqZmZmZmTNAmpmZmZnZREBmZmZmZmYzQAAAAAAAADVAMzMzMzOzMkDNzMzMzAxCQM3MzMzMTDhAzczMzMzMJECamZmZmZlCQAAAAAAAADVAzczMzMzMOEBmZmZmZuYyQM3MzMzMTDNAMzMzMzMzNUAAAAAAAIAyQAAAAAAAAElAmpmZmZmZJ0CamZmZmZk0QDMzMzMzMzNAAAAAAAAAOUDNzMzMzEw3QJqZmZmZmTRAMzMzMzMzL0AAAAAAAAA5QJqZmZmZGT5AZmZmZmZmKUDNzMzMzExBQGZmZmZmZi9AAAAAAAAAMkAAAAAAAAAUQDMzMzMzszBAzczMzMxMNECamZmZmZlBQGZmZmZm5jFAZmZmZmbmNUBmZmZmZmY3QM3MzMzMTDhAmpmZmZmZOEDNzMzMzEwzQAAAAAAAADlAZmZmZmZmMkAzMzMzMzMvQJqZmZmZGThAZmZmZmZmN0BmZmZmZuY2QDMzMzMzMzdAmpmZmZmZM0AAAAAAAAArQDMzMzMzMzZA",
          "dtype": "f8"
         }
        }
       ],
       "layout": {
        "template": {
         "data": {
          "bar": [
           {
            "error_x": {
             "color": "#2a3f5f"
            },
            "error_y": {
             "color": "#2a3f5f"
            },
            "marker": {
             "line": {
              "color": "#E5ECF6",
              "width": 0.5
             },
             "pattern": {
              "fillmode": "overlay",
              "size": 10,
              "solidity": 0.2
             }
            },
            "type": "bar"
           }
          ],
          "barpolar": [
           {
            "marker": {
             "line": {
              "color": "#E5ECF6",
              "width": 0.5
             },
             "pattern": {
              "fillmode": "overlay",
              "size": 10,
              "solidity": 0.2
             }
            },
            "type": "barpolar"
           }
          ],
          "carpet": [
           {
            "aaxis": {
             "endlinecolor": "#2a3f5f",
             "gridcolor": "white",
             "linecolor": "white",
             "minorgridcolor": "white",
             "startlinecolor": "#2a3f5f"
            },
            "baxis": {
             "endlinecolor": "#2a3f5f",
             "gridcolor": "white",
             "linecolor": "white",
             "minorgridcolor": "white",
             "startlinecolor": "#2a3f5f"
            },
            "type": "carpet"
           }
          ],
          "choropleth": [
           {
            "colorbar": {
             "outlinewidth": 0,
             "ticks": ""
            },
            "type": "choropleth"
           }
          ],
          "contour": [
           {
            "colorbar": {
             "outlinewidth": 0,
             "ticks": ""
            },
            "colorscale": [
             [
              0,
              "#0d0887"
             ],
             [
              0.1111111111111111,
              "#46039f"
             ],
             [
              0.2222222222222222,
              "#7201a8"
             ],
             [
              0.3333333333333333,
              "#9c179e"
             ],
             [
              0.4444444444444444,
              "#bd3786"
             ],
             [
              0.5555555555555556,
              "#d8576b"
             ],
             [
              0.6666666666666666,
              "#ed7953"
             ],
             [
              0.7777777777777778,
              "#fb9f3a"
             ],
             [
              0.8888888888888888,
              "#fdca26"
             ],
             [
              1,
              "#f0f921"
             ]
            ],
            "type": "contour"
           }
          ],
          "contourcarpet": [
           {
            "colorbar": {
             "outlinewidth": 0,
             "ticks": ""
            },
            "type": "contourcarpet"
           }
          ],
          "heatmap": [
           {
            "colorbar": {
             "outlinewidth": 0,
             "ticks": ""
            },
            "colorscale": [
             [
              0,
              "#0d0887"
             ],
             [
              0.1111111111111111,
              "#46039f"
             ],
             [
              0.2222222222222222,
              "#7201a8"
             ],
             [
              0.3333333333333333,
              "#9c179e"
             ],
             [
              0.4444444444444444,
              "#bd3786"
             ],
             [
              0.5555555555555556,
              "#d8576b"
             ],
             [
              0.6666666666666666,
              "#ed7953"
             ],
             [
              0.7777777777777778,
              "#fb9f3a"
             ],
             [
              0.8888888888888888,
              "#fdca26"
             ],
             [
              1,
              "#f0f921"
             ]
            ],
            "type": "heatmap"
           }
          ],
          "histogram": [
           {
            "marker": {
             "pattern": {
              "fillmode": "overlay",
              "size": 10,
              "solidity": 0.2
             }
            },
            "type": "histogram"
           }
          ],
          "histogram2d": [
           {
            "colorbar": {
             "outlinewidth": 0,
             "ticks": ""
            },
            "colorscale": [
             [
              0,
              "#0d0887"
             ],
             [
              0.1111111111111111,
              "#46039f"
             ],
             [
              0.2222222222222222,
              "#7201a8"
             ],
             [
              0.3333333333333333,
              "#9c179e"
             ],
             [
              0.4444444444444444,
              "#bd3786"
             ],
             [
              0.5555555555555556,
              "#d8576b"
             ],
             [
              0.6666666666666666,
              "#ed7953"
             ],
             [
              0.7777777777777778,
              "#fb9f3a"
             ],
             [
              0.8888888888888888,
              "#fdca26"
             ],
             [
              1,
              "#f0f921"
             ]
            ],
            "type": "histogram2d"
           }
          ],
          "histogram2dcontour": [
           {
            "colorbar": {
             "outlinewidth": 0,
             "ticks": ""
            },
            "colorscale": [
             [
              0,
              "#0d0887"
             ],
             [
              0.1111111111111111,
              "#46039f"
             ],
             [
              0.2222222222222222,
              "#7201a8"
             ],
             [
              0.3333333333333333,
              "#9c179e"
             ],
             [
              0.4444444444444444,
              "#bd3786"
             ],
             [
              0.5555555555555556,
              "#d8576b"
             ],
             [
              0.6666666666666666,
              "#ed7953"
             ],
             [
              0.7777777777777778,
              "#fb9f3a"
             ],
             [
              0.8888888888888888,
              "#fdca26"
             ],
             [
              1,
              "#f0f921"
             ]
            ],
            "type": "histogram2dcontour"
           }
          ],
          "mesh3d": [
           {
            "colorbar": {
             "outlinewidth": 0,
             "ticks": ""
            },
            "type": "mesh3d"
           }
          ],
          "parcoords": [
           {
            "line": {
             "colorbar": {
              "outlinewidth": 0,
              "ticks": ""
             }
            },
            "type": "parcoords"
           }
          ],
          "pie": [
           {
            "automargin": true,
            "type": "pie"
           }
          ],
          "scatter": [
           {
            "fillpattern": {
             "fillmode": "overlay",
             "size": 10,
             "solidity": 0.2
            },
            "type": "scatter"
           }
          ],
          "scatter3d": [
           {
            "line": {
             "colorbar": {
              "outlinewidth": 0,
              "ticks": ""
             }
            },
            "marker": {
             "colorbar": {
              "outlinewidth": 0,
              "ticks": ""
             }
            },
            "type": "scatter3d"
           }
          ],
          "scattercarpet": [
           {
            "marker": {
             "colorbar": {
              "outlinewidth": 0,
              "ticks": ""
             }
            },
            "type": "scattercarpet"
           }
          ],
          "scattergeo": [
           {
            "marker": {
             "colorbar": {
              "outlinewidth": 0,
              "ticks": ""
             }
            },
            "type": "scattergeo"
           }
          ],
          "scattergl": [
           {
            "marker": {
             "colorbar": {
              "outlinewidth": 0,
              "ticks": ""
             }
            },
            "type": "scattergl"
           }
          ],
          "scattermap": [
           {
            "marker": {
             "colorbar": {
              "outlinewidth": 0,
              "ticks": ""
             }
            },
            "type": "scattermap"
           }
          ],
          "scattermapbox": [
           {
            "marker": {
             "colorbar": {
              "outlinewidth": 0,
              "ticks": ""
             }
            },
            "type": "scattermapbox"
           }
          ],
          "scatterpolar": [
           {
            "marker": {
             "colorbar": {
              "outlinewidth": 0,
              "ticks": ""
             }
            },
            "type": "scatterpolar"
           }
          ],
          "scatterpolargl": [
           {
            "marker": {
             "colorbar": {
              "outlinewidth": 0,
              "ticks": ""
             }
            },
            "type": "scatterpolargl"
           }
          ],
          "scatterternary": [
           {
            "marker": {
             "colorbar": {
              "outlinewidth": 0,
              "ticks": ""
             }
            },
            "type": "scatterternary"
           }
          ],
          "surface": [
           {
            "colorbar": {
             "outlinewidth": 0,
             "ticks": ""
            },
            "colorscale": [
             [
              0,
              "#0d0887"
             ],
             [
              0.1111111111111111,
              "#46039f"
             ],
             [
              0.2222222222222222,
              "#7201a8"
             ],
             [
              0.3333333333333333,
              "#9c179e"
             ],
             [
              0.4444444444444444,
              "#bd3786"
             ],
             [
              0.5555555555555556,
              "#d8576b"
             ],
             [
              0.6666666666666666,
              "#ed7953"
             ],
             [
              0.7777777777777778,
              "#fb9f3a"
             ],
             [
              0.8888888888888888,
              "#fdca26"
             ],
             [
              1,
              "#f0f921"
             ]
            ],
            "type": "surface"
           }
          ],
          "table": [
           {
            "cells": {
             "fill": {
              "color": "#EBF0F8"
             },
             "line": {
              "color": "white"
             }
            },
            "header": {
             "fill": {
              "color": "#C8D4E3"
             },
             "line": {
              "color": "white"
             }
            },
            "type": "table"
           }
          ]
         },
         "layout": {
          "annotationdefaults": {
           "arrowcolor": "#2a3f5f",
           "arrowhead": 0,
           "arrowwidth": 1
          },
          "autotypenumbers": "strict",
          "coloraxis": {
           "colorbar": {
            "outlinewidth": 0,
            "ticks": ""
           }
          },
          "colorscale": {
           "diverging": [
            [
             0,
             "#8e0152"
            ],
            [
             0.1,
             "#c51b7d"
            ],
            [
             0.2,
             "#de77ae"
            ],
            [
             0.3,
             "#f1b6da"
            ],
            [
             0.4,
             "#fde0ef"
            ],
            [
             0.5,
             "#f7f7f7"
            ],
            [
             0.6,
             "#e6f5d0"
            ],
            [
             0.7,
             "#b8e186"
            ],
            [
             0.8,
             "#7fbc41"
            ],
            [
             0.9,
             "#4d9221"
            ],
            [
             1,
             "#276419"
            ]
           ],
           "sequential": [
            [
             0,
             "#0d0887"
            ],
            [
             0.1111111111111111,
             "#46039f"
            ],
            [
             0.2222222222222222,
             "#7201a8"
            ],
            [
             0.3333333333333333,
             "#9c179e"
            ],
            [
             0.4444444444444444,
             "#bd3786"
            ],
            [
             0.5555555555555556,
             "#d8576b"
            ],
            [
             0.6666666666666666,
             "#ed7953"
            ],
            [
             0.7777777777777778,
             "#fb9f3a"
            ],
            [
             0.8888888888888888,
             "#fdca26"
            ],
            [
             1,
             "#f0f921"
            ]
           ],
           "sequentialminus": [
            [
             0,
             "#0d0887"
            ],
            [
             0.1111111111111111,
             "#46039f"
            ],
            [
             0.2222222222222222,
             "#7201a8"
            ],
            [
             0.3333333333333333,
             "#9c179e"
            ],
            [
             0.4444444444444444,
             "#bd3786"
            ],
            [
             0.5555555555555556,
             "#d8576b"
            ],
            [
             0.6666666666666666,
             "#ed7953"
            ],
            [
             0.7777777777777778,
             "#fb9f3a"
            ],
            [
             0.8888888888888888,
             "#fdca26"
            ],
            [
             1,
             "#f0f921"
            ]
           ]
          },
          "colorway": [
           "#636efa",
           "#EF553B",
           "#00cc96",
           "#ab63fa",
           "#FFA15A",
           "#19d3f3",
           "#FF6692",
           "#B6E880",
           "#FF97FF",
           "#FECB52"
          ],
          "font": {
           "color": "#2a3f5f"
          },
          "geo": {
           "bgcolor": "white",
           "lakecolor": "white",
           "landcolor": "#E5ECF6",
           "showlakes": true,
           "showland": true,
           "subunitcolor": "white"
          },
          "hoverlabel": {
           "align": "left"
          },
          "hovermode": "closest",
          "mapbox": {
           "style": "light"
          },
          "paper_bgcolor": "white",
          "plot_bgcolor": "#E5ECF6",
          "polar": {
           "angularaxis": {
            "gridcolor": "white",
            "linecolor": "white",
            "ticks": ""
           },
           "bgcolor": "#E5ECF6",
           "radialaxis": {
            "gridcolor": "white",
            "linecolor": "white",
            "ticks": ""
           }
          },
          "scene": {
           "xaxis": {
            "backgroundcolor": "#E5ECF6",
            "gridcolor": "white",
            "gridwidth": 2,
            "linecolor": "white",
            "showbackground": true,
            "ticks": "",
            "zerolinecolor": "white"
           },
           "yaxis": {
            "backgroundcolor": "#E5ECF6",
            "gridcolor": "white",
            "gridwidth": 2,
            "linecolor": "white",
            "showbackground": true,
            "ticks": "",
            "zerolinecolor": "white"
           },
           "zaxis": {
            "backgroundcolor": "#E5ECF6",
            "gridcolor": "white",
            "gridwidth": 2,
            "linecolor": "white",
            "showbackground": true,
            "ticks": "",
            "zerolinecolor": "white"
           }
          },
          "shapedefaults": {
           "line": {
            "color": "#2a3f5f"
           }
          },
          "ternary": {
           "aaxis": {
            "gridcolor": "white",
            "linecolor": "white",
            "ticks": ""
           },
           "baxis": {
            "gridcolor": "white",
            "linecolor": "white",
            "ticks": ""
           },
           "bgcolor": "#E5ECF6",
           "caxis": {
            "gridcolor": "white",
            "linecolor": "white",
            "ticks": ""
           }
          },
          "title": {
           "x": 0.05
          },
          "xaxis": {
           "automargin": true,
           "gridcolor": "white",
           "linecolor": "white",
           "ticks": "",
           "title": {
            "standoff": 15
           },
           "zerolinecolor": "white",
           "zerolinewidth": 2
          },
          "yaxis": {
           "automargin": true,
           "gridcolor": "white",
           "linecolor": "white",
           "ticks": "",
           "title": {
            "standoff": 15
           },
           "zerolinecolor": "white",
           "zerolinewidth": 2
          }
         }
        }
       }
      },
      "image/png": "[encoded data removed]"
     },
     "metadata": {},
     "output_type": "display_data"
    }
   ],
   "source": [
    "fig.add_scatter(x= (np.ravel(lstat)),y= (np.ravel(splits[3])),mode=\"markers\",name=\"observed\",line=dict(color='royalblue'))\n",
    "\n",
    "#<xml xmlns=\"https://developers.google.com/blockly/xml\"><variables><variable id=\"@U5l^JIp,}.H=ECCW?@g\">fig</variable><variable id=\"Zhzp)s*VL?V@ES3(j:*b\">np</variable><variable id=\"rVUZld`HfW,n/PC{X!9-\">lstat</variable><variable id=\"_ut$e0PL4OMi4o1MXTpw\">splits</variable></variables><block type=\"varDoMethod\" id=\"qZ|Z9.ijg3CRAUbY+PrR\" x=\"86\" y=\"199\"><mutation items=\"5\"></mutation><field name=\"VAR\" id=\"@U5l^JIp,}.H=ECCW?@g\">fig</field><field name=\"MEMBER\">add_scatter</field><data>fig:add_scatter</data><value name=\"ADD0\"><block type=\"valueOutputCodeBlock\" id=\"RTv-p{TaUq@4_58RZB%1\"><field name=\"CODE\">x=</field><value name=\"INPUT\"><block type=\"varDoMethod\" id=\"j8@mjp~f?I7StnE+y$s,\"><mutation items=\"1\"></mutation><field name=\"VAR\" id=\"Zhzp)s*VL?V@ES3(j:*b\">np</field><field name=\"MEMBER\">ravel</field><data>np:ravel</data><value name=\"ADD0\"><block type=\"variables_get\" id=\"AMp#2-apaCBpWlKv]`Ce\"><field name=\"VAR\" id=\"rVUZld`HfW,n/PC{X!9-\">lstat</field></block></value></block></value></block></value><value name=\"ADD1\"><block type=\"valueOutputCodeBlock\" id=\"6m0G+-^kfR]Eenvpo/EG\"><field name=\"CODE\">y=</field><value name=\"INPUT\"><block type=\"varDoMethod\" id=\"zhmXZDw$a:+3N3Ku8QiP\"><mutation items=\"1\"></mutation><field name=\"VAR\" id=\"Zhzp)s*VL?V@ES3(j:*b\">np</field><field name=\"MEMBER\">ravel</field><data>np:ravel</data><value name=\"ADD0\"><block type=\"lists_getIndex\" id=\"5qTOTBSLB=NE^C6_*08?\"><mutation statement=\"false\" at=\"true\"></mutation><field name=\"MODE\">GET</field><field name=\"WHERE\">FROM_START</field><value name=\"VALUE\"><block type=\"variables_get\" id=\"?wwsU(;W7Ij?5fbx}|^2\"><field name=\"VAR\" id=\"_ut$e0PL4OMi4o1MXTpw\">splits</field></block></value><value name=\"AT\"><block type=\"math_number\" id=\"+9|,kf=1_:].xRpoB|%Y\"><field name=\"NUM\">4</field></block></value></block></value></block></value></block></value><value name=\"ADD2\"><block type=\"dummyOutputCodeBlock\" id=\"Ht-!;BCPTD4b$ZLafodk\"><field name=\"CODE\">mode=\"markers\"</field></block></value><value name=\"ADD3\"><block type=\"dummyOutputCodeBlock\" id=\"0uhd2Bmdznda(paBhnX*\"><field name=\"CODE\">name=\"observed\" </field></block></value><value name=\"ADD4\"><block type=\"dummyOutputCodeBlock\" id=\"wfU8.|6m-r/a+Kct/[I[\"><field name=\"CODE\">line=dict(color='royalblue')</field></block></value></block></xml>"
   ]
  },
  {
   "cell_type": "markdown",
   "metadata": {},
   "source": [
    "**Adding scatterplot of predictions**\n",
    "- with `fig` do `add_scatter` using\n",
    "    - freestyle `x=` with `np` do `ravel` using \n",
    "        - `lstat`\n",
    "    - freestyle `y=` with `np` do `ravel` using \n",
    "        - `predictions`\n",
    "    - freestyle `mode=markers`\n",
    "    - freestyle `name=predicted`\n",
    "    - line=dict(color='orange')        "
   ]
  },
  {
   "cell_type": "code",
   "execution_count": 40,
   "metadata": {
    "user_blocks": [
     "varDoMethod",
     "valueOutputCodeBlock",
     "varDoMethod",
     "variables_get",
     "valueOutputCodeBlock",
     "varDoMethod",
     "variables_get",
     "dummyOutputCodeBlock",
     "dummyOutputCodeBlock",
     "dummyOutputCodeBlock"
    ],
    "user_blocks_xml": "<xml xmlns=\"https://developers.google.com/blockly/xml\"><variables><variable id=\"@U5l^JIp,}.H=ECCW?@g\">fig</variable><variable id=\"Zhzp)s*VL?V@ES3(j:*b\">np</variable><variable id=\"rVUZld`HfW,n/PC{X!9-\">lstat</variable><variable id=\"5lkT$zi8W,`TXDny?Cv7\">predictions</variable></variables><block type=\"varDoMethod\" id=\"qZ|Z9.ijg3CRAUbY+PrR\" x=\"86\" y=\"199\"><mutation items=\"5\"></mutation><field name=\"VAR\" id=\"@U5l^JIp,}.H=ECCW?@g\">fig</field><field name=\"MEMBER\">add_scatter</field><data>fig:add_scatter</data><value name=\"ADD0\"><block type=\"valueOutputCodeBlock\" id=\"RTv-p{TaUq@4_58RZB%1\"><field name=\"CODE\">x=</field><value name=\"INPUT\"><block type=\"varDoMethod\" id=\"j8@mjp~f?I7StnE+y$s,\"><mutation items=\"1\"></mutation><field name=\"VAR\" id=\"Zhzp)s*VL?V@ES3(j:*b\">np</field><field name=\"MEMBER\">ravel</field><data>np:ravel</data><value name=\"ADD0\"><block type=\"variables_get\" id=\"AMp#2-apaCBpWlKv]`Ce\"><field name=\"VAR\" id=\"rVUZld`HfW,n/PC{X!9-\">lstat</field></block></value></block></value></block></value><value name=\"ADD1\"><block type=\"valueOutputCodeBlock\" id=\"6m0G+-^kfR]Eenvpo/EG\"><field name=\"CODE\">y=</field><value name=\"INPUT\"><block type=\"varDoMethod\" id=\"zhmXZDw$a:+3N3Ku8QiP\"><mutation items=\"1\"></mutation><field name=\"VAR\" id=\"Zhzp)s*VL?V@ES3(j:*b\">np</field><field name=\"MEMBER\">ravel</field><data>np:ravel</data><value name=\"ADD0\"><block type=\"variables_get\" id=\"(nLCjxyyxgfW6OyGwn\"><field name=\"VAR\" id=\"5lkT$zi8W,`TXDny?Cv7\">predictions</field></block></value></block></value></block></value><value name=\"ADD2\"><block type=\"dummyOutputCodeBlock\" id=\"Ht-!;BCPTD4b$ZLafodk\"><field name=\"CODE\">mode=\"markers\"</field></block></value><value name=\"ADD3\"><block type=\"dummyOutputCodeBlock\" id=\"0uhd2Bmdznda(paBhnX*\"><field name=\"CODE\">name=\"predicted\" </field></block></value><value name=\"ADD4\"><block type=\"dummyOutputCodeBlock\" id=\"wfU8.|6m-r/a+Kct/[I[\"><field name=\"CODE\">line=dict(color='orange')</field></block></value></block></xml>",
    "user_code_from_blocks": "fig.add_scatter(x= (np.ravel(lstat)),y= (np.ravel(predictions)),mode=\"markers\",name=\"predicted\",line=dict(color='orange'))\n"
   },
   "outputs": [
    {
     "data": {
      "application/vnd.plotly.v1+json": {
       "config": {
        "plotlyServerURL": "https://plot.ly"
       },
       "data": [
        {
         "line": {
          "color": "royalblue"
         },
         "mode": "markers",
         "name": "observed",
         "type": "scatter",
         "x": {
          "bdata": "w/UoXI/CJUDsUbgehesaQArXo3A9iipAAAAAAAAAJ0BmZmZmZuYqQI/C9Shczz5A4XoUrkfhE0CuR+F6FK4vQHE9CtejsDdAw/UoXI/CMkAUrkfhepQkQClcj8L1KB9AZmZmZmbmJkA9CtejcD0aQK5H4XoULiJASOF6FK5HE0C4HoXrUbgdQArXo3A9iihAmpmZmZlZMkCF61G4HgUrQFyPwvUo3CJAFK5H4XoUOEAUrkfhehQOQIXrUbgeRTdA9ihcj8L1K0DhehSuR+EhQNejcD0KVyNAXI/C9ShcE0CuR+F6FC4qQArXo3A9iiRA16NwPQrXJED2KFyPwvUwQD0K16NwPRJA7FG4HoVrI0Bcj8L1KFwPQD0K16NwPRJAmpmZmZkZI0DNzMzMzMwkQBSuR+F6lDFA4XoUrkchMkCF61G4HoUSQIXrUbgehSBAzczMzMxMKkDNzMzMzEwtQK5H4XoUrgdASOF6FK4HMEDXo3A9CtcHQClcj8L1KB9APQrXo3A9DECF61G4HkUxQJqZmZmZGSBAhetRuB6FH0BxPQrXo/AjQIXrUbgehShAw/UoXI/CA0BxPQrXo3AnQPYoXI/C9SdA16NwPQoXMUC4HoXrUbgbQM3MzMzMTCdApHA9CtejOkApXI/C9SgUQPYoXI/CdSlA4XoUrkfhGkCamZmZmZktQOF6FK5H4SpArkfhehSuKED2KFyPwnUyQM3MzMzMzBFAexSuR+H6N0CuR+F6FK4qQDMzMzMzMylAKVyPwvUoH0CPwvUoXI8dQK5H4XoULiVA7FG4HoVrOkDXo3A9CtcYQAAAAAAAABJAmpmZmZmZNkB7FK5H4XoaQMP1KFyPQjtASOF6FK7HLkB7FK5H4fo2QK5H4XoUrjJACtejcD2KLEBSuB6F61EaQI/C9ShcL0FASOF6FK5HGkApXI/C9SgeQFK4HoXrUSJAKVyPwvUoGUB7FK5H4fo3QHE9Ctej8CJA16NwPQqXMECPwvUoXE8xQPYoXI/C9RVAXI/C9SjcIEDsUbgehesXQLgehetRuCxAj8L1KFyPKkBxPQrXo/AwQHE9CtejcCZA",
          "dtype": "f8"
         },
         "y": {
          "bdata": "AAAAAAAAOEAzMzMzMzM2QDMzMzMzszVAMzMzMzMzMEAzMzMzM7MzQM3MzMzMzCxAAAAAAACANkDNzMzMzEw0QDMzMzMzMypAMzMzMzMzN0AzMzMzMzM0QAAAAAAAAEJAmpmZmZmZNEAzMzMzMzM6QM3MzMzMzDNAMzMzMzPzQkCamZmZmRk4QM3MzMzMzDNAMzMzMzMzKkDNzMzMzEw3QAAAAAAAgDRAAAAAAAAAI0AzMzMzM7NGQM3MzMzMzCpAZmZmZmZmOkBmZmZmZmY1QGZmZmZmZjZAmpmZmZmZOkBmZmZmZmYxQM3MzMzMzDRAzczMzMzMNUCamZmZmRkyQDMzMzMzc0FAMzMzMzOzOkCamZmZmVlHQM3MzMzMzD1AMzMzMzMzNUAzMzMzM7M1QM3MzMzMzDJAMzMzMzMzLEAAAAAAAABJQGZmZmZmZjRAMzMzMzOzMkAzMzMzM7MxQAAAAAAAAElAZmZmZmZmNkAAAAAAAABAQJqZmZmZmTJAmpmZmZmZPUCamZmZmRkwQAAAAAAAAD1AzczMzMzMJ0DNzMzMzEw0QJqZmZmZmTNAmpmZmZnZREBmZmZmZmYzQAAAAAAAADVAMzMzMzOzMkDNzMzMzAxCQM3MzMzMTDhAzczMzMzMJECamZmZmZlCQAAAAAAAADVAzczMzMzMOEBmZmZmZuYyQM3MzMzMTDNAMzMzMzMzNUAAAAAAAIAyQAAAAAAAAElAmpmZmZmZJ0CamZmZmZk0QDMzMzMzMzNAAAAAAAAAOUDNzMzMzEw3QJqZmZmZmTRAMzMzMzMzL0AAAAAAAAA5QJqZmZmZGT5AZmZmZmZmKUDNzMzMzExBQGZmZmZmZi9AAAAAAAAAMkAAAAAAAAAUQDMzMzMzszBAzczMzMxMNECamZmZmZlBQGZmZmZm5jFAZmZmZmbmNUBmZmZmZmY3QM3MzMzMTDhAmpmZmZmZOEDNzMzMzEwzQAAAAAAAADlAZmZmZmZmMkAzMzMzMzMvQJqZmZmZGThAZmZmZmZmN0BmZmZmZuY2QDMzMzMzMzdAmpmZmZmZM0AAAAAAAAArQDMzMzMzMzZA",
          "dtype": "f8"
         }
        },
        {
         "line": {
          "color": "orange"
         },
         "mode": "markers",
         "name": "predicted",
         "type": "scatter",
         "x": {
          "bdata": "w/UoXI/CJUDsUbgehesaQArXo3A9iipAAAAAAAAAJ0BmZmZmZuYqQI/C9Shczz5A4XoUrkfhE0CuR+F6FK4vQHE9CtejsDdAw/UoXI/CMkAUrkfhepQkQClcj8L1KB9AZmZmZmbmJkA9CtejcD0aQK5H4XoULiJASOF6FK5HE0C4HoXrUbgdQArXo3A9iihAmpmZmZlZMkCF61G4HgUrQFyPwvUo3CJAFK5H4XoUOEAUrkfhehQOQIXrUbgeRTdA9ihcj8L1K0DhehSuR+EhQNejcD0KVyNAXI/C9ShcE0CuR+F6FC4qQArXo3A9iiRA16NwPQrXJED2KFyPwvUwQD0K16NwPRJA7FG4HoVrI0Bcj8L1KFwPQD0K16NwPRJAmpmZmZkZI0DNzMzMzMwkQBSuR+F6lDFA4XoUrkchMkCF61G4HoUSQIXrUbgehSBAzczMzMxMKkDNzMzMzEwtQK5H4XoUrgdASOF6FK4HMEDXo3A9CtcHQClcj8L1KB9APQrXo3A9DECF61G4HkUxQJqZmZmZGSBAhetRuB6FH0BxPQrXo/AjQIXrUbgehShAw/UoXI/CA0BxPQrXo3AnQPYoXI/C9SdA16NwPQoXMUC4HoXrUbgbQM3MzMzMTCdApHA9CtejOkApXI/C9SgUQPYoXI/CdSlA4XoUrkfhGkCamZmZmZktQOF6FK5H4SpArkfhehSuKED2KFyPwnUyQM3MzMzMzBFAexSuR+H6N0CuR+F6FK4qQDMzMzMzMylAKVyPwvUoH0CPwvUoXI8dQK5H4XoULiVA7FG4HoVrOkDXo3A9CtcYQAAAAAAAABJAmpmZmZmZNkB7FK5H4XoaQMP1KFyPQjtASOF6FK7HLkB7FK5H4fo2QK5H4XoUrjJACtejcD2KLEBSuB6F61EaQI/C9ShcL0FASOF6FK5HGkApXI/C9SgeQFK4HoXrUSJAKVyPwvUoGUB7FK5H4fo3QHE9Ctej8CJA16NwPQqXMECPwvUoXE8xQPYoXI/C9RVAXI/C9SjcIEDsUbgehesXQLgehetRuCxAj8L1KFyPKkBxPQrXo/AwQHE9CtejcCZA",
          "dtype": "f8"
         },
         "y": {
          "bdata": "KO0NvjDZN0DPZtXnaqs4QJhuEoPASjNANc07TtERN0DufD81Xvo4QL6fGi/dZDVAJJf/kH67OUAFEhQ/xtw3QG3F/rJ7sjJA7OI2GsDbMkB8YTJVMGozQDVeukkMQjlASgwCK4cWM0AdWmQ73w85QHWTGARWzjhAEoPAyqHFOEAhsHJoka05QNeBc0aUdjVAEOm3rwOnNEA5RUdy+c83QLCUZYhjHTlAEhQ/xty1MkDu68A5I8o5QC6QoPgx5jJAMEymCkalN0AqGJXUCag3QA8LtaZ5xzZACD2bVZ9rOUBa9bnair03QBhIUPwYMzdASOF6FK5HM0CRy39Iv30zQPD0SlmGuDlAGlHaG3zhOEBpb/CFydQ5QFZ9rrZivzlAKH6MuWuJOECwJeSDnk04QK4l5IOezTNAM6K0N/gCM0ADeAskKH45QPTb14FzBjdAnKIjufzHN0AT0ETY8PQyQMlUwaikzjRAoKut2F92N0DLoUW28705QLsFEhQ/RjlAwvUoXI9COUCW1AloIuwyQAskKH6M+ThAx5i7lpCPNkD/snvysFA3QCuHFtnO9zNAycNCrWmeOUAdyeU/pN82QItK6gQ00TZASnuDL0zmNEB7gy9Mpso5QErqBDQRtjdAIR/0bFY9MkBKLv8h/TY5QB1aZDvfjzdAweyePCwUOUDy9EpZhjg4QFn1udqKfTVA52or9pcdN0AIrBxaZDs3QN9xio7ksjlAHqfoSC6/MkAsZRniWNcyQJZliGNdHDRAfIMvTKaKM0Cti9toAC81QDdnRGlv8DdAvOMUHcnlMkCPD3o2q344QNLe4AuTqTlAGQRWDi0yNECxv+yePOw5QN21hHzQszJAdbUV+8uuM0CutmJ/2X0yQPAWSFD8GDNARiV1ApqINEBJLv8h/TY6QDJVMCqpEzJAL0ymCkZlOUC/fR04ZwQ4QB3J5T+knzhAK4cW2c53OEBoImx4eqU1QFYOLbKd7zdAjZduEoMAM0AOLbKd7+cyQFmGONbFbTlA1VbsL7snOUChZ7PqczU5QPjkYaHWdDNAjXVxGw1gM0Aj2/l+arwyQJoIG55eKTlA",
          "dtype": "f8"
         }
        }
       ],
       "layout": {
        "template": {
         "data": {
          "bar": [
           {
            "error_x": {
             "color": "#2a3f5f"
            },
            "error_y": {
             "color": "#2a3f5f"
            },
            "marker": {
             "line": {
              "color": "#E5ECF6",
              "width": 0.5
             },
             "pattern": {
              "fillmode": "overlay",
              "size": 10,
              "solidity": 0.2
             }
            },
            "type": "bar"
           }
          ],
          "barpolar": [
           {
            "marker": {
             "line": {
              "color": "#E5ECF6",
              "width": 0.5
             },
             "pattern": {
              "fillmode": "overlay",
              "size": 10,
              "solidity": 0.2
             }
            },
            "type": "barpolar"
           }
          ],
          "carpet": [
           {
            "aaxis": {
             "endlinecolor": "#2a3f5f",
             "gridcolor": "white",
             "linecolor": "white",
             "minorgridcolor": "white",
             "startlinecolor": "#2a3f5f"
            },
            "baxis": {
             "endlinecolor": "#2a3f5f",
             "gridcolor": "white",
             "linecolor": "white",
             "minorgridcolor": "white",
             "startlinecolor": "#2a3f5f"
            },
            "type": "carpet"
           }
          ],
          "choropleth": [
           {
            "colorbar": {
             "outlinewidth": 0,
             "ticks": ""
            },
            "type": "choropleth"
           }
          ],
          "contour": [
           {
            "colorbar": {
             "outlinewidth": 0,
             "ticks": ""
            },
            "colorscale": [
             [
              0,
              "#0d0887"
             ],
             [
              0.1111111111111111,
              "#46039f"
             ],
             [
              0.2222222222222222,
              "#7201a8"
             ],
             [
              0.3333333333333333,
              "#9c179e"
             ],
             [
              0.4444444444444444,
              "#bd3786"
             ],
             [
              0.5555555555555556,
              "#d8576b"
             ],
             [
              0.6666666666666666,
              "#ed7953"
             ],
             [
              0.7777777777777778,
              "#fb9f3a"
             ],
             [
              0.8888888888888888,
              "#fdca26"
             ],
             [
              1,
              "#f0f921"
             ]
            ],
            "type": "contour"
           }
          ],
          "contourcarpet": [
           {
            "colorbar": {
             "outlinewidth": 0,
             "ticks": ""
            },
            "type": "contourcarpet"
           }
          ],
          "heatmap": [
           {
            "colorbar": {
             "outlinewidth": 0,
             "ticks": ""
            },
            "colorscale": [
             [
              0,
              "#0d0887"
             ],
             [
              0.1111111111111111,
              "#46039f"
             ],
             [
              0.2222222222222222,
              "#7201a8"
             ],
             [
              0.3333333333333333,
              "#9c179e"
             ],
             [
              0.4444444444444444,
              "#bd3786"
             ],
             [
              0.5555555555555556,
              "#d8576b"
             ],
             [
              0.6666666666666666,
              "#ed7953"
             ],
             [
              0.7777777777777778,
              "#fb9f3a"
             ],
             [
              0.8888888888888888,
              "#fdca26"
             ],
             [
              1,
              "#f0f921"
             ]
            ],
            "type": "heatmap"
           }
          ],
          "histogram": [
           {
            "marker": {
             "pattern": {
              "fillmode": "overlay",
              "size": 10,
              "solidity": 0.2
             }
            },
            "type": "histogram"
           }
          ],
          "histogram2d": [
           {
            "colorbar": {
             "outlinewidth": 0,
             "ticks": ""
            },
            "colorscale": [
             [
              0,
              "#0d0887"
             ],
             [
              0.1111111111111111,
              "#46039f"
             ],
             [
              0.2222222222222222,
              "#7201a8"
             ],
             [
              0.3333333333333333,
              "#9c179e"
             ],
             [
              0.4444444444444444,
              "#bd3786"
             ],
             [
              0.5555555555555556,
              "#d8576b"
             ],
             [
              0.6666666666666666,
              "#ed7953"
             ],
             [
              0.7777777777777778,
              "#fb9f3a"
             ],
             [
              0.8888888888888888,
              "#fdca26"
             ],
             [
              1,
              "#f0f921"
             ]
            ],
            "type": "histogram2d"
           }
          ],
          "histogram2dcontour": [
           {
            "colorbar": {
             "outlinewidth": 0,
             "ticks": ""
            },
            "colorscale": [
             [
              0,
              "#0d0887"
             ],
             [
              0.1111111111111111,
              "#46039f"
             ],
             [
              0.2222222222222222,
              "#7201a8"
             ],
             [
              0.3333333333333333,
              "#9c179e"
             ],
             [
              0.4444444444444444,
              "#bd3786"
             ],
             [
              0.5555555555555556,
              "#d8576b"
             ],
             [
              0.6666666666666666,
              "#ed7953"
             ],
             [
              0.7777777777777778,
              "#fb9f3a"
             ],
             [
              0.8888888888888888,
              "#fdca26"
             ],
             [
              1,
              "#f0f921"
             ]
            ],
            "type": "histogram2dcontour"
           }
          ],
          "mesh3d": [
           {
            "colorbar": {
             "outlinewidth": 0,
             "ticks": ""
            },
            "type": "mesh3d"
           }
          ],
          "parcoords": [
           {
            "line": {
             "colorbar": {
              "outlinewidth": 0,
              "ticks": ""
             }
            },
            "type": "parcoords"
           }
          ],
          "pie": [
           {
            "automargin": true,
            "type": "pie"
           }
          ],
          "scatter": [
           {
            "fillpattern": {
             "fillmode": "overlay",
             "size": 10,
             "solidity": 0.2
            },
            "type": "scatter"
           }
          ],
          "scatter3d": [
           {
            "line": {
             "colorbar": {
              "outlinewidth": 0,
              "ticks": ""
             }
            },
            "marker": {
             "colorbar": {
              "outlinewidth": 0,
              "ticks": ""
             }
            },
            "type": "scatter3d"
           }
          ],
          "scattercarpet": [
           {
            "marker": {
             "colorbar": {
              "outlinewidth": 0,
              "ticks": ""
             }
            },
            "type": "scattercarpet"
           }
          ],
          "scattergeo": [
           {
            "marker": {
             "colorbar": {
              "outlinewidth": 0,
              "ticks": ""
             }
            },
            "type": "scattergeo"
           }
          ],
          "scattergl": [
           {
            "marker": {
             "colorbar": {
              "outlinewidth": 0,
              "ticks": ""
             }
            },
            "type": "scattergl"
           }
          ],
          "scattermap": [
           {
            "marker": {
             "colorbar": {
              "outlinewidth": 0,
              "ticks": ""
             }
            },
            "type": "scattermap"
           }
          ],
          "scattermapbox": [
           {
            "marker": {
             "colorbar": {
              "outlinewidth": 0,
              "ticks": ""
             }
            },
            "type": "scattermapbox"
           }
          ],
          "scatterpolar": [
           {
            "marker": {
             "colorbar": {
              "outlinewidth": 0,
              "ticks": ""
             }
            },
            "type": "scatterpolar"
           }
          ],
          "scatterpolargl": [
           {
            "marker": {
             "colorbar": {
              "outlinewidth": 0,
              "ticks": ""
             }
            },
            "type": "scatterpolargl"
           }
          ],
          "scatterternary": [
           {
            "marker": {
             "colorbar": {
              "outlinewidth": 0,
              "ticks": ""
             }
            },
            "type": "scatterternary"
           }
          ],
          "surface": [
           {
            "colorbar": {
             "outlinewidth": 0,
             "ticks": ""
            },
            "colorscale": [
             [
              0,
              "#0d0887"
             ],
             [
              0.1111111111111111,
              "#46039f"
             ],
             [
              0.2222222222222222,
              "#7201a8"
             ],
             [
              0.3333333333333333,
              "#9c179e"
             ],
             [
              0.4444444444444444,
              "#bd3786"
             ],
             [
              0.5555555555555556,
              "#d8576b"
             ],
             [
              0.6666666666666666,
              "#ed7953"
             ],
             [
              0.7777777777777778,
              "#fb9f3a"
             ],
             [
              0.8888888888888888,
              "#fdca26"
             ],
             [
              1,
              "#f0f921"
             ]
            ],
            "type": "surface"
           }
          ],
          "table": [
           {
            "cells": {
             "fill": {
              "color": "#EBF0F8"
             },
             "line": {
              "color": "white"
             }
            },
            "header": {
             "fill": {
              "color": "#C8D4E3"
             },
             "line": {
              "color": "white"
             }
            },
            "type": "table"
           }
          ]
         },
         "layout": {
          "annotationdefaults": {
           "arrowcolor": "#2a3f5f",
           "arrowhead": 0,
           "arrowwidth": 1
          },
          "autotypenumbers": "strict",
          "coloraxis": {
           "colorbar": {
            "outlinewidth": 0,
            "ticks": ""
           }
          },
          "colorscale": {
           "diverging": [
            [
             0,
             "#8e0152"
            ],
            [
             0.1,
             "#c51b7d"
            ],
            [
             0.2,
             "#de77ae"
            ],
            [
             0.3,
             "#f1b6da"
            ],
            [
             0.4,
             "#fde0ef"
            ],
            [
             0.5,
             "#f7f7f7"
            ],
            [
             0.6,
             "#e6f5d0"
            ],
            [
             0.7,
             "#b8e186"
            ],
            [
             0.8,
             "#7fbc41"
            ],
            [
             0.9,
             "#4d9221"
            ],
            [
             1,
             "#276419"
            ]
           ],
           "sequential": [
            [
             0,
             "#0d0887"
            ],
            [
             0.1111111111111111,
             "#46039f"
            ],
            [
             0.2222222222222222,
             "#7201a8"
            ],
            [
             0.3333333333333333,
             "#9c179e"
            ],
            [
             0.4444444444444444,
             "#bd3786"
            ],
            [
             0.5555555555555556,
             "#d8576b"
            ],
            [
             0.6666666666666666,
             "#ed7953"
            ],
            [
             0.7777777777777778,
             "#fb9f3a"
            ],
            [
             0.8888888888888888,
             "#fdca26"
            ],
            [
             1,
             "#f0f921"
            ]
           ],
           "sequentialminus": [
            [
             0,
             "#0d0887"
            ],
            [
             0.1111111111111111,
             "#46039f"
            ],
            [
             0.2222222222222222,
             "#7201a8"
            ],
            [
             0.3333333333333333,
             "#9c179e"
            ],
            [
             0.4444444444444444,
             "#bd3786"
            ],
            [
             0.5555555555555556,
             "#d8576b"
            ],
            [
             0.6666666666666666,
             "#ed7953"
            ],
            [
             0.7777777777777778,
             "#fb9f3a"
            ],
            [
             0.8888888888888888,
             "#fdca26"
            ],
            [
             1,
             "#f0f921"
            ]
           ]
          },
          "colorway": [
           "#636efa",
           "#EF553B",
           "#00cc96",
           "#ab63fa",
           "#FFA15A",
           "#19d3f3",
           "#FF6692",
           "#B6E880",
           "#FF97FF",
           "#FECB52"
          ],
          "font": {
           "color": "#2a3f5f"
          },
          "geo": {
           "bgcolor": "white",
           "lakecolor": "white",
           "landcolor": "#E5ECF6",
           "showlakes": true,
           "showland": true,
           "subunitcolor": "white"
          },
          "hoverlabel": {
           "align": "left"
          },
          "hovermode": "closest",
          "mapbox": {
           "style": "light"
          },
          "paper_bgcolor": "white",
          "plot_bgcolor": "#E5ECF6",
          "polar": {
           "angularaxis": {
            "gridcolor": "white",
            "linecolor": "white",
            "ticks": ""
           },
           "bgcolor": "#E5ECF6",
           "radialaxis": {
            "gridcolor": "white",
            "linecolor": "white",
            "ticks": ""
           }
          },
          "scene": {
           "xaxis": {
            "backgroundcolor": "#E5ECF6",
            "gridcolor": "white",
            "gridwidth": 2,
            "linecolor": "white",
            "showbackground": true,
            "ticks": "",
            "zerolinecolor": "white"
           },
           "yaxis": {
            "backgroundcolor": "#E5ECF6",
            "gridcolor": "white",
            "gridwidth": 2,
            "linecolor": "white",
            "showbackground": true,
            "ticks": "",
            "zerolinecolor": "white"
           },
           "zaxis": {
            "backgroundcolor": "#E5ECF6",
            "gridcolor": "white",
            "gridwidth": 2,
            "linecolor": "white",
            "showbackground": true,
            "ticks": "",
            "zerolinecolor": "white"
           }
          },
          "shapedefaults": {
           "line": {
            "color": "#2a3f5f"
           }
          },
          "ternary": {
           "aaxis": {
            "gridcolor": "white",
            "linecolor": "white",
            "ticks": ""
           },
           "baxis": {
            "gridcolor": "white",
            "linecolor": "white",
            "ticks": ""
           },
           "bgcolor": "#E5ECF6",
           "caxis": {
            "gridcolor": "white",
            "linecolor": "white",
            "ticks": ""
           }
          },
          "title": {
           "x": 0.05
          },
          "xaxis": {
           "automargin": true,
           "gridcolor": "white",
           "linecolor": "white",
           "ticks": "",
           "title": {
            "standoff": 15
           },
           "zerolinecolor": "white",
           "zerolinewidth": 2
          },
          "yaxis": {
           "automargin": true,
           "gridcolor": "white",
           "linecolor": "white",
           "ticks": "",
           "title": {
            "standoff": 15
           },
           "zerolinecolor": "white",
           "zerolinewidth": 2
          }
         }
        }
       }
      },
      "image/png": "[encoded data removed]"
     },
     "metadata": {},
     "output_type": "display_data"
    }
   ],
   "source": [
    "fig.add_scatter(x= (np.ravel(lstat)),y= (np.ravel(predictions)),mode=\"markers\",name=\"predicted\",line=dict(color='orange'))\n",
    "\n",
    "#<xml xmlns=\"https://developers.google.com/blockly/xml\"><variables><variable id=\"@U5l^JIp,}.H=ECCW?@g\">fig</variable><variable id=\"Zhzp)s*VL?V@ES3(j:*b\">np</variable><variable id=\"rVUZld`HfW,n/PC{X!9-\">lstat</variable><variable id=\"5lkT$zi8W,`TXDny?Cv7\">predictions</variable></variables><block type=\"varDoMethod\" id=\"qZ|Z9.ijg3CRAUbY+PrR\" x=\"86\" y=\"199\"><mutation items=\"5\"></mutation><field name=\"VAR\" id=\"@U5l^JIp,}.H=ECCW?@g\">fig</field><field name=\"MEMBER\">add_scatter</field><data>fig:add_scatter</data><value name=\"ADD0\"><block type=\"valueOutputCodeBlock\" id=\"RTv-p{TaUq@4_58RZB%1\"><field name=\"CODE\">x=</field><value name=\"INPUT\"><block type=\"varDoMethod\" id=\"j8@mjp~f?I7StnE+y$s,\"><mutation items=\"1\"></mutation><field name=\"VAR\" id=\"Zhzp)s*VL?V@ES3(j:*b\">np</field><field name=\"MEMBER\">ravel</field><data>np:ravel</data><value name=\"ADD0\"><block type=\"variables_get\" id=\"AMp#2-apaCBpWlKv]`Ce\"><field name=\"VAR\" id=\"rVUZld`HfW,n/PC{X!9-\">lstat</field></block></value></block></value></block></value><value name=\"ADD1\"><block type=\"valueOutputCodeBlock\" id=\"6m0G+-^kfR]Eenvpo/EG\"><field name=\"CODE\">y=</field><value name=\"INPUT\"><block type=\"varDoMethod\" id=\"zhmXZDw$a:+3N3Ku8QiP\"><mutation items=\"1\"></mutation><field name=\"VAR\" id=\"Zhzp)s*VL?V@ES3(j:*b\">np</field><field name=\"MEMBER\">ravel</field><data>np:ravel</data><value name=\"ADD0\"><block type=\"variables_get\" id=\"(nLCjxyyxgfW6OyGwn\"><field name=\"VAR\" id=\"5lkT$zi8W,`TXDny?Cv7\">predictions</field></block></value></block></value></block></value><value name=\"ADD2\"><block type=\"dummyOutputCodeBlock\" id=\"Ht-!;BCPTD4b$ZLafodk\"><field name=\"CODE\">mode=\"markers\"</field></block></value><value name=\"ADD3\"><block type=\"dummyOutputCodeBlock\" id=\"0uhd2Bmdznda(paBhnX*\"><field name=\"CODE\">name=\"predicted\" </field></block></value><value name=\"ADD4\"><block type=\"dummyOutputCodeBlock\" id=\"wfU8.|6m-r/a+Kct/[I[\"><field name=\"CODE\">line=dict(color='orange')</field></block></value></block></xml>"
   ]
  },
  {
   "cell_type": "markdown",
   "metadata": {},
   "source": [
    "It's always a good idea to look closely at your model predictions!\n",
    "\n",
    "In this plot, we see that although our RMSE is lowest at K=10, there are some ranges of our predictor features where the model is doing better than others.\n",
    "\n",
    "Looking at this plot for `lstat`, it seems that when `lstat` is below 10% and above 20%, the model isn't doing as well as we'd like.\n",
    "\n",
    "It just so happens that most of the data is between 10 and 20%, so our overall model fit scores are pretty good even though we're having problems with some ranges of the data."
   ]
  },
  {
   "cell_type": "markdown",
   "metadata": {},
   "source": [
    "## Strengths and Weaknesses"
   ]
  },
  {
   "cell_type": "markdown",
   "metadata": {},
   "source": [
    "Unlike other types of models which only work for linear relationships, KNN regression can be used to model non-linear relationships.\n",
    "KNN models are also easy to implement and fitting the model tends to be fast.\n",
    "However, the model is slower to predict since to predict an outcome for a new value, the algorithm needs to search through all the points in the training set to find the nearest ones.\n",
    "This can take awhile for large datasets."
   ]
  },
  {
   "cell_type": "markdown",
   "metadata": {},
   "source": [
    "Due to its non-parametric nature, KNN regression models are not directly interpretable like some other models are.\n",
    "This makes it difficult to determine which features have the greatest effect on the response.\n",
    "For this reason KNN regression is not useful in _feature selection_, a technique used to weed out features that are less important thereby reducing the dimensionality of the data."
   ]
  },
  {
   "cell_type": "markdown",
   "metadata": {},
   "source": [
    "## Check your understanding\n",
    "\n",
    "**Hover to see the correct answer.**\n",
    "\n",
    "1.  What is the primary purpose of K-Nearest Neighbor (KNN) regression?\n",
    "- To uncover latent patterns in data.\n",
    "- <div title=\"Correct answer\">To predict a numeric value.</div>\n",
    "- To classify data into distinct categories.\n",
    "- To determine the probability distribution of data.\n",
    "\n",
    "2.  Which of the following best describes KNN regression?\n",
    "- A parametric regression method that assumes a normal distribution.\n",
    "- A linear regression method suitable for normally distributed response variables.\n",
    "- <div title=\"Correct answer\">A non-parametric regression method that does not assume a particular probability distribution.</div>\n",
    "- A classification method for predicting categorical labels.\n",
    "\n",
    "3.  In KNN regression, how is the numeric value of a new data point predicted?\n",
    "- As the sum of the squared distances to its K nearest neighbors.\n",
    "- As the median of the response values of its K nearest neighbors.\n",
    "- As the weighted sum of the response values of its K nearest neighbors.\n",
    "- <div title=\"Correct answer\">As the average of the response values of its K nearest neighbors.</div>\n",
    "\n",
    "4.  What is the Euclidean distance formula used to calculate the distance between a new data point (Age, Loan) and a training point (Training Age, Training Loan)?\n",
    "- $Distance = |(\\text{Age} - \\text{Training Age}) + (\\text{Loan} - \\text{Training Loan})|$\n",
    "- $Distance = (\\text{Age} - \\text{Training Age})^2 + (\\text{Loan} - \\text{Training Loan})^2$\n",
    "- <div title=\"Correct answer\">$Distance = \\sqrt{(\\text{Age} - \\text{Training Age})^2 + (\\text{Loan} - \\text{Training Loan})^2}$</div>\n",
    "- $Distance = \\sqrt{|\\text{Age} - \\text{Training Age}| + |\\text{Loan} - \\text{Training Loan}|}$\n",
    "\n",
    "5.  If, for a given prediction with K=3, the HPI values of the 3 nearest neighbors are 244, 198, and 138, what is the predicted HPI?\n",
    "- 180\n",
    "- 190\n",
    "- <div title=\"Correct answer\">193.33</div>\n",
    "- 200\n",
    "\n",
    "6.  How is the `Residual` in KNN regression calculated?\n",
    "- <div title=\"Correct answer\">Observed HPI minus Predicted HPI</div>\n",
    "- Absolute difference between Observed HPI and Predicted HPI\n",
    "- Square of the difference between Observed HPI and Predicted HPI\n",
    "\n",
    "7.  What does a smaller Root Mean Square Error (RMSE) indicate in KNN regression?\n",
    "- A more complex model.\n",
    "- A higher degree of overfitting.\n",
    "- <div title=\"Correct answer\">A better model fit.</div>\n",
    "- A larger variance in predictions.\n",
    "\n",
    "8.  Why is standardization important in KNN regression, especially when variables have different magnitudes?\n",
    "- To increase the computational efficiency of the algorithm.\n",
    "- To make the model directly interpretable.\n",
    "- <div title=\"Correct answer\">To prevent variables with larger magnitudes from disproportionately influencing the distance calculation.</div>\n",
    "- To reduce the number of features in the dataset.\n",
    "\n",
    "9.  What is the formula for standardizing a variable $X_i$?\n",
    "- $Z_i = (X_i + \\bar{X}) / S$\n",
    "- $Z_i = (X_i - S) / \\bar{X}$\n",
    "- <div title=\"Correct answer\">$Z_i = (X_i - \\bar{X}) / S$</div>\n",
    "- $Z_i = X_i / (\\bar{X} \\cdot S)$\n",
    "\n",
    "10. What effect does a very low value of $K$ typically have on a KNN regression fit?\n",
    "- It makes the regression fit smoother.\n",
    "- It leads to less accurate but less variable predictions.\n",
    "- <div title=\"Correct answer\">It makes the regression fit very choppy and prone to overfitting.</div>\n",
    "- It results in a horizontal prediction line.\n",
    "\n",
    "11. According to the document, what happens to the KNN regression prediction line as $K$ increases towards $n$ (the total number of observations)?\n",
    "- It becomes more choppy.\n",
    "- It becomes more accurate.\n",
    "- <div title=\"Correct answer\">It becomes completely smooth and horizontal.</div>\n",
    "- It starts to overfit the training data.\n",
    "\n",
    "12. What are the three common methods mentioned for calculating the distance between data points in KNN?\n",
    "- Linear, Polynomial, and Exponential\n",
    "- Mean, Median, and Mode\n",
    "- <div title=\"Correct answer\">Euclidean, Manhattan, and Hamming</div>\n",
    "- Correlation, Covariance, and Regression\n",
    "\n",
    "13. In the provided Python code, what is the purpose of `dataframe.drop(columns=[\"medv\"])`?\n",
    "- To remove rows with missing `medv` values.\n",
    "- To create a new DataFrame `X` containing only the `medv` column.\n",
    "- <div title=\"Correct answer\">To create a new DataFrame `X` containing all columns except `medv`, which is the response variable.</div>\n",
    "- To display the `medv` column in the console.\n",
    "\n",
    "14. What does `sklearn.model_selection.train_test_split(X, Y, test_size=0.2)` achieve?\n",
    "- It trains the KNN model with 20% of the data.\n",
    "- It tests the KNN model with 80% of the data.\n",
    "- <div title=\"Correct answer\">It splits the `X` (features) and `Y` (labels) data into training and testing sets, with 20% of the data allocated for testing.</div>\n",
    "- It randomly shuffles the data without splitting it.\n",
    "\n",
    "15. What is the primary reason for using a `pipeline` in the KNN regression example?\n",
    "- To visualize the data more effectively.\n",
    "- To manually scale the training and testing sets separately.\n",
    "- <div title=\"Correct answer\">To easily apply a scaler and the KNN model sequentially, ensuring consistent scaling for both training and testing data.</div>\n",
    "- To perform feature selection on the dataset.\n",
    "\n",
    "16. In the loop to find the optimal K, what does `rmse = math.sqrt(metrics.mean_squared_error(splits[3],predictions))` calculate?\n",
    "- The mean absolute error for the current K.\n",
    "- The sum of squared residuals for the current K.\n",
    "- <div title=\"Correct answer\">The root mean squared error between the actual test values (`splits[3]`) and the predicted values for the current K.</div>\n",
    "- The R-squared value for the model.\n",
    "\n",
    "17. Based on the \"Plotting the data and the model predictions\" section, why is it stated that the model isn't doing as well when `lstat` is below 10% and above 20%?\n",
    "- Because these ranges have a higher density of data points.\n",
    "- Because the RMSE is specifically calculated for these ranges.\n",
    "- <div title=\"Correct answer\">Because visual inspection of the plot suggests the model's predictions deviate more from the observed values in these `lstat` ranges.</div>\n",
    "- Because the model is designed to perform optimally only within the 10-20% `lstat` range.\n",
    "\n",
    "18. Which of the following is a strength of KNN regression?\n",
    "- It is directly interpretable for feature selection.\n",
    "- It is very fast to predict outcomes for large datasets.\n",
    "- It assumes a linear relationship between predictors and response.\n",
    "- <div title=\"Correct answer\">It can be used to model non-linear relationships.</div>\n",
    "\n",
    "19. Which of the following is a weakness of KNN regression?\n",
    "- It is difficult to implement.\n",
    "- It requires a normal distribution of the response variable.\n",
    "- <div title=\"Correct answer\">It is slower to predict for new values on large datasets because it needs to search through all training points.</div>\n",
    "- It can only be used for classification problems."
   ]
  },
  {
   "cell_type": "markdown",
   "metadata": {},
   "source": [
    "<!--  -->"
   ]
  }
 ],
 "metadata": {
  "kernelspec": {
   "display_name": "Python 3 (ipykernel)",
   "language": "python",
   "name": "python3"
  },
  "language_info": {
   "codemirror_mode": {
    "name": "ipython",
    "version": 3
   },
   "file_extension": ".py",
   "mimetype": "text/x-python",
   "name": "python",
   "nbconvert_exporter": "python",
   "pygments_lexer": "ipython3",
   "version": "3.12.6"
  }
 },
 "nbformat": 4,
 "nbformat_minor": 4
}
